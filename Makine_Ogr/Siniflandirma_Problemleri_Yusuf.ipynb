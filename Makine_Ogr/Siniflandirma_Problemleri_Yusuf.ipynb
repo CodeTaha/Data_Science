{
 "cells": [
  {
   "cell_type": "markdown",
   "id": "0a15a31c-ccaf-4fb1-a1ff-e57ec3d683d0",
   "metadata": {},
   "source": [
    "# Lojistik Regresyon"
   ]
  },
  {
   "cell_type": "markdown",
   "id": "24ec7633-a977-4e5e-8cc7-25c1348cac53",
   "metadata": {},
   "source": [
    "Kütüphane'lerin import edilmesi"
   ]
  },
  {
   "cell_type": "code",
   "execution_count": 6,
   "id": "2f7c915f-dfef-4388-9fa8-4347f7d08bc9",
   "metadata": {
    "tags": []
   },
   "outputs": [],
   "source": [
    "import numpy as np\n",
    "import pandas as pd\n",
    "import statsmodels.api as sm\n",
    "import statsmodels.formula.api as smf\n",
    "import seaborn as sns\n",
    "from sklearn.preprocessing import scale\n",
    "from sklearn.model_selection import train_test_split, GridSearchCV, cross_val_score, cross_val_predict\n",
    "from sklearn.metrics import confusion_matrix, accuracy_score, classification_report, log_loss, roc_auc_score, roc_curve\n",
    "import matplotlib.pyplot as plt\n",
    "from sklearn.neighbors import KNeighborsClassifier\n",
    "from sklearn.discriminant_analysis import LinearDiscriminantAnalysis\n",
    "from sklearn.linear_model import LogisticRegression\n",
    "from sklearn.svm import SVC\n",
    "from sklearn.naive_bayes import GaussianNB\n",
    "from sklearn import tree\n",
    "from sklearn.ensemble import RandomForestClassifier, GradientBoostingClassifier\n",
    "from xgboost import XGBClassifier\n",
    "from lightgbm import LGBMClassifier\n",
    "from catboost import CatBoostClassifier\n",
    "from warnings import filterwarnings\n",
    "filterwarnings('ignore')"
   ]
  },
  {
   "cell_type": "markdown",
   "id": "fe479aa8-2550-4658-bbc8-76b77830aa10",
   "metadata": {},
   "source": [
    "## Model"
   ]
  },
  {
   "cell_type": "markdown",
   "id": "bc69e4e7-ee31-4391-93e8-652b835383b9",
   "metadata": {},
   "source": [
    "Veri \"pd.read_csv(\"diabetes.csv\")\" kodu ile okunur, \"df = diabetes.copy()\" kodu ile df adlı değişkene kopyalanır. Böylece diabets değişkeni orjinal veriyi tutarken df değişkeni üzerinde işlemler yapabiliriz. \"df = df.dropna()\" ile Null yani boş değerler silinir. \"df.head()\" ile verinin ilk 5 satırı alınır. Böylece veri hakkında bilgi edinilir."
   ]
  },
  {
   "cell_type": "code",
   "execution_count": 10,
   "id": "a2f12126-4dbc-4686-98f3-d77a25a6efa1",
   "metadata": {
    "tags": []
   },
   "outputs": [
    {
     "data": {
      "text/html": [
       "<div>\n",
       "<style scoped>\n",
       "    .dataframe tbody tr th:only-of-type {\n",
       "        vertical-align: middle;\n",
       "    }\n",
       "\n",
       "    .dataframe tbody tr th {\n",
       "        vertical-align: top;\n",
       "    }\n",
       "\n",
       "    .dataframe thead th {\n",
       "        text-align: right;\n",
       "    }\n",
       "</style>\n",
       "<table border=\"1\" class=\"dataframe\">\n",
       "  <thead>\n",
       "    <tr style=\"text-align: right;\">\n",
       "      <th></th>\n",
       "      <th>Pregnancies</th>\n",
       "      <th>Glucose</th>\n",
       "      <th>BloodPressure</th>\n",
       "      <th>SkinThickness</th>\n",
       "      <th>Insulin</th>\n",
       "      <th>BMI</th>\n",
       "      <th>DiabetesPedigreeFunction</th>\n",
       "      <th>Age</th>\n",
       "      <th>Outcome</th>\n",
       "    </tr>\n",
       "  </thead>\n",
       "  <tbody>\n",
       "    <tr>\n",
       "      <th>0</th>\n",
       "      <td>6</td>\n",
       "      <td>148</td>\n",
       "      <td>72</td>\n",
       "      <td>35</td>\n",
       "      <td>0</td>\n",
       "      <td>33.6</td>\n",
       "      <td>0.627</td>\n",
       "      <td>50</td>\n",
       "      <td>1</td>\n",
       "    </tr>\n",
       "    <tr>\n",
       "      <th>1</th>\n",
       "      <td>1</td>\n",
       "      <td>85</td>\n",
       "      <td>66</td>\n",
       "      <td>29</td>\n",
       "      <td>0</td>\n",
       "      <td>26.6</td>\n",
       "      <td>0.351</td>\n",
       "      <td>31</td>\n",
       "      <td>0</td>\n",
       "    </tr>\n",
       "    <tr>\n",
       "      <th>2</th>\n",
       "      <td>8</td>\n",
       "      <td>183</td>\n",
       "      <td>64</td>\n",
       "      <td>0</td>\n",
       "      <td>0</td>\n",
       "      <td>23.3</td>\n",
       "      <td>0.672</td>\n",
       "      <td>32</td>\n",
       "      <td>1</td>\n",
       "    </tr>\n",
       "    <tr>\n",
       "      <th>3</th>\n",
       "      <td>1</td>\n",
       "      <td>89</td>\n",
       "      <td>66</td>\n",
       "      <td>23</td>\n",
       "      <td>94</td>\n",
       "      <td>28.1</td>\n",
       "      <td>0.167</td>\n",
       "      <td>21</td>\n",
       "      <td>0</td>\n",
       "    </tr>\n",
       "    <tr>\n",
       "      <th>4</th>\n",
       "      <td>0</td>\n",
       "      <td>137</td>\n",
       "      <td>40</td>\n",
       "      <td>35</td>\n",
       "      <td>168</td>\n",
       "      <td>43.1</td>\n",
       "      <td>2.288</td>\n",
       "      <td>33</td>\n",
       "      <td>1</td>\n",
       "    </tr>\n",
       "  </tbody>\n",
       "</table>\n",
       "</div>"
      ],
      "text/plain": [
       "   Pregnancies  Glucose  BloodPressure  SkinThickness  Insulin   BMI  \\\n",
       "0            6      148             72             35        0  33.6   \n",
       "1            1       85             66             29        0  26.6   \n",
       "2            8      183             64              0        0  23.3   \n",
       "3            1       89             66             23       94  28.1   \n",
       "4            0      137             40             35      168  43.1   \n",
       "\n",
       "   DiabetesPedigreeFunction  Age  Outcome  \n",
       "0                     0.627   50        1  \n",
       "1                     0.351   31        0  \n",
       "2                     0.672   32        1  \n",
       "3                     0.167   21        0  \n",
       "4                     2.288   33        1  "
      ]
     },
     "execution_count": 10,
     "metadata": {},
     "output_type": "execute_result"
    }
   ],
   "source": [
    "diabetes = pd.read_csv(\"diabetes.csv\")\n",
    "df = diabetes.copy()\n",
    "df = df.dropna()\n",
    "df.head()"
   ]
  },
  {
   "cell_type": "markdown",
   "id": "e6dab4c6-3c5f-4d79-953e-42d83fa824fa",
   "metadata": {},
   "source": [
    "\"df.info()\" bu kod ile veri içerisinde yer alan değişkenler ve bu değişkenlerin kaç tanesinin Non-Null yani boş olmayan veri olduğu ve tipi hakkında bilgi sağlanır."
   ]
  },
  {
   "cell_type": "code",
   "execution_count": 12,
   "id": "797f3c40-6682-4911-b428-eefaf803180f",
   "metadata": {},
   "outputs": [
    {
     "name": "stdout",
     "output_type": "stream",
     "text": [
      "<class 'pandas.core.frame.DataFrame'>\n",
      "RangeIndex: 768 entries, 0 to 767\n",
      "Data columns (total 9 columns):\n",
      " #   Column                    Non-Null Count  Dtype  \n",
      "---  ------                    --------------  -----  \n",
      " 0   Pregnancies               768 non-null    int64  \n",
      " 1   Glucose                   768 non-null    int64  \n",
      " 2   BloodPressure             768 non-null    int64  \n",
      " 3   SkinThickness             768 non-null    int64  \n",
      " 4   Insulin                   768 non-null    int64  \n",
      " 5   BMI                       768 non-null    float64\n",
      " 6   DiabetesPedigreeFunction  768 non-null    float64\n",
      " 7   Age                       768 non-null    int64  \n",
      " 8   Outcome                   768 non-null    int64  \n",
      "dtypes: float64(2), int64(7)\n",
      "memory usage: 54.1 KB\n"
     ]
    }
   ],
   "source": [
    "df.info()"
   ]
  },
  {
   "cell_type": "markdown",
   "id": "0d19da9b-3f82-42b8-9c73-1cca951cb2c0",
   "metadata": {},
   "source": [
    "\"df[\"Outcome\"].value_counts()\" kodu ile Outcome değişkeni ve bu değişken içerisindeki sınıflar ve bu sınıflardan kaçar tane bulunduğu hakkında bilgi sağlanır. Outcome değişkeni burada çıktı olarak 0 (Hasta değil) değerinden 500 adet bulundururken, 1 (Hasta) değerinden 268 adet bulundurur. En altta int64 tipinde bir veri olduğunu belirtmiştir."
   ]
  },
  {
   "cell_type": "code",
   "execution_count": 15,
   "id": "679f5ad6-39ae-4713-aa92-7b0f80e42fbd",
   "metadata": {
    "tags": []
   },
   "outputs": [
    {
     "data": {
      "text/plain": [
       "Outcome\n",
       "0    500\n",
       "1    268\n",
       "Name: count, dtype: int64"
      ]
     },
     "execution_count": 15,
     "metadata": {},
     "output_type": "execute_result"
    }
   ],
   "source": [
    "df[\"Outcome\"].value_counts()"
   ]
  },
  {
   "cell_type": "markdown",
   "id": "fc9f8d2a-1a93-4d18-9cc1-79120cbe7e0b",
   "metadata": {},
   "source": [
    "\"df[\"Outcome\"].value_counts().plot.barh()\" kodu ile bu dağılımlar grafik ile gösterilmiştir."
   ]
  },
  {
   "cell_type": "code",
   "execution_count": 18,
   "id": "34deb09a-2c9b-424a-9f48-097ee8172dd7",
   "metadata": {
    "tags": []
   },
   "outputs": [
    {
     "data": {
      "text/plain": [
       "<Axes: ylabel='Outcome'>"
      ]
     },
     "execution_count": 18,
     "metadata": {},
     "output_type": "execute_result"
    },
    {
     "data": {
      "image/png": "[encoded data removed]",
      "text/plain": [
       "<Figure size 640x480 with 1 Axes>"
      ]
     },
     "metadata": {},
     "output_type": "display_data"
    }
   ],
   "source": [
    "df[\"Outcome\"].value_counts().plot.barh()"
   ]
  },
  {
   "cell_type": "markdown",
   "id": "0f4039c6-c2b7-4628-9e19-dae917b6a77e",
   "metadata": {},
   "source": [
    "\"df.describe().T\" kodu verinin sayısal istatistiklerini verir. Örneğin count değişkenin kaç adet veri barındırdığını belirtir, mean değişkenin aritmetik ortalamasını hesaplar, std standart sapmayı hesaplar, min-max minimum ve maximum değerleri yazdırır. "
   ]
  },
  {
   "cell_type": "code",
   "execution_count": 21,
   "id": "9b6da1a1-0522-4c29-9ef6-1b92845b4dfe",
   "metadata": {
    "tags": []
   },
   "outputs": [
    {
     "data": {
      "text/html": [
       "<div>\n",
       "<style scoped>\n",
       "    .dataframe tbody tr th:only-of-type {\n",
       "        vertical-align: middle;\n",
       "    }\n",
       "\n",
       "    .dataframe tbody tr th {\n",
       "        vertical-align: top;\n",
       "    }\n",
       "\n",
       "    .dataframe thead th {\n",
       "        text-align: right;\n",
       "    }\n",
       "</style>\n",
       "<table border=\"1\" class=\"dataframe\">\n",
       "  <thead>\n",
       "    <tr style=\"text-align: right;\">\n",
       "      <th></th>\n",
       "      <th>count</th>\n",
       "      <th>mean</th>\n",
       "      <th>std</th>\n",
       "      <th>min</th>\n",
       "      <th>25%</th>\n",
       "      <th>50%</th>\n",
       "      <th>75%</th>\n",
       "      <th>max</th>\n",
       "    </tr>\n",
       "  </thead>\n",
       "  <tbody>\n",
       "    <tr>\n",
       "      <th>Pregnancies</th>\n",
       "      <td>768.0</td>\n",
       "      <td>3.845052</td>\n",
       "      <td>3.369578</td>\n",
       "      <td>0.000</td>\n",
       "      <td>1.00000</td>\n",
       "      <td>3.0000</td>\n",
       "      <td>6.00000</td>\n",
       "      <td>17.00</td>\n",
       "    </tr>\n",
       "    <tr>\n",
       "      <th>Glucose</th>\n",
       "      <td>768.0</td>\n",
       "      <td>120.894531</td>\n",
       "      <td>31.972618</td>\n",
       "      <td>0.000</td>\n",
       "      <td>99.00000</td>\n",
       "      <td>117.0000</td>\n",
       "      <td>140.25000</td>\n",
       "      <td>199.00</td>\n",
       "    </tr>\n",
       "    <tr>\n",
       "      <th>BloodPressure</th>\n",
       "      <td>768.0</td>\n",
       "      <td>69.105469</td>\n",
       "      <td>19.355807</td>\n",
       "      <td>0.000</td>\n",
       "      <td>62.00000</td>\n",
       "      <td>72.0000</td>\n",
       "      <td>80.00000</td>\n",
       "      <td>122.00</td>\n",
       "    </tr>\n",
       "    <tr>\n",
       "      <th>SkinThickness</th>\n",
       "      <td>768.0</td>\n",
       "      <td>20.536458</td>\n",
       "      <td>15.952218</td>\n",
       "      <td>0.000</td>\n",
       "      <td>0.00000</td>\n",
       "      <td>23.0000</td>\n",
       "      <td>32.00000</td>\n",
       "      <td>99.00</td>\n",
       "    </tr>\n",
       "    <tr>\n",
       "      <th>Insulin</th>\n",
       "      <td>768.0</td>\n",
       "      <td>79.799479</td>\n",
       "      <td>115.244002</td>\n",
       "      <td>0.000</td>\n",
       "      <td>0.00000</td>\n",
       "      <td>30.5000</td>\n",
       "      <td>127.25000</td>\n",
       "      <td>846.00</td>\n",
       "    </tr>\n",
       "    <tr>\n",
       "      <th>BMI</th>\n",
       "      <td>768.0</td>\n",
       "      <td>31.992578</td>\n",
       "      <td>7.884160</td>\n",
       "      <td>0.000</td>\n",
       "      <td>27.30000</td>\n",
       "      <td>32.0000</td>\n",
       "      <td>36.60000</td>\n",
       "      <td>67.10</td>\n",
       "    </tr>\n",
       "    <tr>\n",
       "      <th>DiabetesPedigreeFunction</th>\n",
       "      <td>768.0</td>\n",
       "      <td>0.471876</td>\n",
       "      <td>0.331329</td>\n",
       "      <td>0.078</td>\n",
       "      <td>0.24375</td>\n",
       "      <td>0.3725</td>\n",
       "      <td>0.62625</td>\n",
       "      <td>2.42</td>\n",
       "    </tr>\n",
       "    <tr>\n",
       "      <th>Age</th>\n",
       "      <td>768.0</td>\n",
       "      <td>33.240885</td>\n",
       "      <td>11.760232</td>\n",
       "      <td>21.000</td>\n",
       "      <td>24.00000</td>\n",
       "      <td>29.0000</td>\n",
       "      <td>41.00000</td>\n",
       "      <td>81.00</td>\n",
       "    </tr>\n",
       "    <tr>\n",
       "      <th>Outcome</th>\n",
       "      <td>768.0</td>\n",
       "      <td>0.348958</td>\n",
       "      <td>0.476951</td>\n",
       "      <td>0.000</td>\n",
       "      <td>0.00000</td>\n",
       "      <td>0.0000</td>\n",
       "      <td>1.00000</td>\n",
       "      <td>1.00</td>\n",
       "    </tr>\n",
       "  </tbody>\n",
       "</table>\n",
       "</div>"
      ],
      "text/plain": [
       "                          count        mean         std     min       25%  \\\n",
       "Pregnancies               768.0    3.845052    3.369578   0.000   1.00000   \n",
       "Glucose                   768.0  120.894531   31.972618   0.000  99.00000   \n",
       "BloodPressure             768.0   69.105469   19.355807   0.000  62.00000   \n",
       "SkinThickness             768.0   20.536458   15.952218   0.000   0.00000   \n",
       "Insulin                   768.0   79.799479  115.244002   0.000   0.00000   \n",
       "BMI                       768.0   31.992578    7.884160   0.000  27.30000   \n",
       "DiabetesPedigreeFunction  768.0    0.471876    0.331329   0.078   0.24375   \n",
       "Age                       768.0   33.240885   11.760232  21.000  24.00000   \n",
       "Outcome                   768.0    0.348958    0.476951   0.000   0.00000   \n",
       "\n",
       "                               50%        75%     max  \n",
       "Pregnancies                 3.0000    6.00000   17.00  \n",
       "Glucose                   117.0000  140.25000  199.00  \n",
       "BloodPressure              72.0000   80.00000  122.00  \n",
       "SkinThickness              23.0000   32.00000   99.00  \n",
       "Insulin                    30.5000  127.25000  846.00  \n",
       "BMI                        32.0000   36.60000   67.10  \n",
       "DiabetesPedigreeFunction    0.3725    0.62625    2.42  \n",
       "Age                        29.0000   41.00000   81.00  \n",
       "Outcome                     0.0000    1.00000    1.00  "
      ]
     },
     "execution_count": 21,
     "metadata": {},
     "output_type": "execute_result"
    }
   ],
   "source": [
    "df.describe().T"
   ]
  },
  {
   "cell_type": "markdown",
   "id": "cd4d00b8-05fe-4ab4-a886-3d6e99c6cc82",
   "metadata": {},
   "source": [
    "Burada model eğitimine uygun bir formata getirmek için veri y değerleri diyabetli olup olmadığı yani yapılacak tahmin, X değerleri ise tahmin edilecek değişken dışındaki tüm değişkenler olacak şekilde ayrılır."
   ]
  },
  {
   "cell_type": "code",
   "execution_count": 24,
   "id": "5b0c3d65-59f3-476e-a789-b9abc0243715",
   "metadata": {
    "tags": []
   },
   "outputs": [],
   "source": [
    "y = df[\"Outcome\"]\n",
    "X = df.drop([\"Outcome\"], axis = 1)"
   ]
  },
  {
   "cell_type": "markdown",
   "id": "b99fdbed-40be-425c-91a1-6263062f8faf",
   "metadata": {},
   "source": [
    "## statsmodels"
   ]
  },
  {
   "cell_type": "code",
   "execution_count": 27,
   "id": "9d52fd9f-0aa3-4be4-ae47-02e2f6d5760e",
   "metadata": {
    "tags": []
   },
   "outputs": [
    {
     "name": "stdout",
     "output_type": "stream",
     "text": [
      "Optimization terminated successfully.\n",
      "         Current function value: 0.608498\n",
      "         Iterations 5\n"
     ]
    },
    {
     "data": {
      "text/html": [
       "<table class=\"simpletable\">\n",
       "<caption>Logit Regression Results</caption>\n",
       "<tr>\n",
       "  <th>Dep. Variable:</th>        <td>Outcome</td>     <th>  No. Observations:  </th>  <td>   768</td>  \n",
       "</tr>\n",
       "<tr>\n",
       "  <th>Model:</th>                 <td>Logit</td>      <th>  Df Residuals:      </th>  <td>   760</td>  \n",
       "</tr>\n",
       "<tr>\n",
       "  <th>Method:</th>                 <td>MLE</td>       <th>  Df Model:          </th>  <td>     7</td>  \n",
       "</tr>\n",
       "<tr>\n",
       "  <th>Date:</th>            <td>Fri, 13 Dec 2024</td> <th>  Pseudo R-squ.:     </th>  <td>0.05922</td> \n",
       "</tr>\n",
       "<tr>\n",
       "  <th>Time:</th>                <td>15:22:41</td>     <th>  Log-Likelihood:    </th> <td> -467.33</td> \n",
       "</tr>\n",
       "<tr>\n",
       "  <th>converged:</th>             <td>True</td>       <th>  LL-Null:           </th> <td> -496.74</td> \n",
       "</tr>\n",
       "<tr>\n",
       "  <th>Covariance Type:</th>     <td>nonrobust</td>    <th>  LLR p-value:       </th> <td>2.583e-10</td>\n",
       "</tr>\n",
       "</table>\n",
       "<table class=\"simpletable\">\n",
       "<tr>\n",
       "              <td></td>                <th>coef</th>     <th>std err</th>      <th>z</th>      <th>P>|z|</th>  <th>[0.025</th>    <th>0.975]</th>  \n",
       "</tr>\n",
       "<tr>\n",
       "  <th>Pregnancies</th>              <td>    0.1284</td> <td>    0.029</td> <td>    4.484</td> <td> 0.000</td> <td>    0.072</td> <td>    0.185</td>\n",
       "</tr>\n",
       "<tr>\n",
       "  <th>Glucose</th>                  <td>    0.0129</td> <td>    0.003</td> <td>    4.757</td> <td> 0.000</td> <td>    0.008</td> <td>    0.018</td>\n",
       "</tr>\n",
       "<tr>\n",
       "  <th>BloodPressure</th>            <td>   -0.0303</td> <td>    0.005</td> <td>   -6.481</td> <td> 0.000</td> <td>   -0.039</td> <td>   -0.021</td>\n",
       "</tr>\n",
       "<tr>\n",
       "  <th>SkinThickness</th>            <td>    0.0002</td> <td>    0.006</td> <td>    0.032</td> <td> 0.974</td> <td>   -0.012</td> <td>    0.012</td>\n",
       "</tr>\n",
       "<tr>\n",
       "  <th>Insulin</th>                  <td>    0.0007</td> <td>    0.001</td> <td>    0.942</td> <td> 0.346</td> <td>   -0.001</td> <td>    0.002</td>\n",
       "</tr>\n",
       "<tr>\n",
       "  <th>BMI</th>                      <td>   -0.0048</td> <td>    0.011</td> <td>   -0.449</td> <td> 0.653</td> <td>   -0.026</td> <td>    0.016</td>\n",
       "</tr>\n",
       "<tr>\n",
       "  <th>DiabetesPedigreeFunction</th> <td>    0.3203</td> <td>    0.240</td> <td>    1.335</td> <td> 0.182</td> <td>   -0.150</td> <td>    0.790</td>\n",
       "</tr>\n",
       "<tr>\n",
       "  <th>Age</th>                      <td>   -0.0156</td> <td>    0.008</td> <td>   -1.852</td> <td> 0.064</td> <td>   -0.032</td> <td>    0.001</td>\n",
       "</tr>\n",
       "</table>"
      ],
      "text/latex": [
       "\\begin{center}\n",
       "\\begin{tabular}{lclc}\n",
       "\\toprule\n",
       "\\textbf{Dep. Variable:}           &     Outcome      & \\textbf{  No. Observations:  } &      768    \\\\\n",
       "\\textbf{Model:}                   &      Logit       & \\textbf{  Df Residuals:      } &      760    \\\\\n",
       "\\textbf{Method:}                  &       MLE        & \\textbf{  Df Model:          } &        7    \\\\\n",
       "\\textbf{Date:}                    & Fri, 13 Dec 2024 & \\textbf{  Pseudo R-squ.:     } &  0.05922    \\\\\n",
       "\\textbf{Time:}                    &     15:22:41     & \\textbf{  Log-Likelihood:    } &   -467.33   \\\\\n",
       "\\textbf{converged:}               &       True       & \\textbf{  LL-Null:           } &   -496.74   \\\\\n",
       "\\textbf{Covariance Type:}         &    nonrobust     & \\textbf{  LLR p-value:       } & 2.583e-10   \\\\\n",
       "\\bottomrule\n",
       "\\end{tabular}\n",
       "\\begin{tabular}{lcccccc}\n",
       "                                  & \\textbf{coef} & \\textbf{std err} & \\textbf{z} & \\textbf{P$> |$z$|$} & \\textbf{[0.025} & \\textbf{0.975]}  \\\\\n",
       "\\midrule\n",
       "\\textbf{Pregnancies}              &       0.1284  &        0.029     &     4.484  &         0.000        &        0.072    &        0.185     \\\\\n",
       "\\textbf{Glucose}                  &       0.0129  &        0.003     &     4.757  &         0.000        &        0.008    &        0.018     \\\\\n",
       "\\textbf{BloodPressure}            &      -0.0303  &        0.005     &    -6.481  &         0.000        &       -0.039    &       -0.021     \\\\\n",
       "\\textbf{SkinThickness}            &       0.0002  &        0.006     &     0.032  &         0.974        &       -0.012    &        0.012     \\\\\n",
       "\\textbf{Insulin}                  &       0.0007  &        0.001     &     0.942  &         0.346        &       -0.001    &        0.002     \\\\\n",
       "\\textbf{BMI}                      &      -0.0048  &        0.011     &    -0.449  &         0.653        &       -0.026    &        0.016     \\\\\n",
       "\\textbf{DiabetesPedigreeFunction} &       0.3203  &        0.240     &     1.335  &         0.182        &       -0.150    &        0.790     \\\\\n",
       "\\textbf{Age}                      &      -0.0156  &        0.008     &    -1.852  &         0.064        &       -0.032    &        0.001     \\\\\n",
       "\\bottomrule\n",
       "\\end{tabular}\n",
       "%\\caption{Logit Regression Results}\n",
       "\\end{center}"
      ],
      "text/plain": [
       "<class 'statsmodels.iolib.summary.Summary'>\n",
       "\"\"\"\n",
       "                           Logit Regression Results                           \n",
       "==============================================================================\n",
       "Dep. Variable:                Outcome   No. Observations:                  768\n",
       "Model:                          Logit   Df Residuals:                      760\n",
       "Method:                           MLE   Df Model:                            7\n",
       "Date:                Fri, 13 Dec 2024   Pseudo R-squ.:                 0.05922\n",
       "Time:                        15:22:41   Log-Likelihood:                -467.33\n",
       "converged:                       True   LL-Null:                       -496.74\n",
       "Covariance Type:            nonrobust   LLR p-value:                 2.583e-10\n",
       "============================================================================================\n",
       "                               coef    std err          z      P>|z|      [0.025      0.975]\n",
       "--------------------------------------------------------------------------------------------\n",
       "Pregnancies                  0.1284      0.029      4.484      0.000       0.072       0.185\n",
       "Glucose                      0.0129      0.003      4.757      0.000       0.008       0.018\n",
       "BloodPressure               -0.0303      0.005     -6.481      0.000      -0.039      -0.021\n",
       "SkinThickness                0.0002      0.006      0.032      0.974      -0.012       0.012\n",
       "Insulin                      0.0007      0.001      0.942      0.346      -0.001       0.002\n",
       "BMI                         -0.0048      0.011     -0.449      0.653      -0.026       0.016\n",
       "DiabetesPedigreeFunction     0.3203      0.240      1.335      0.182      -0.150       0.790\n",
       "Age                         -0.0156      0.008     -1.852      0.064      -0.032       0.001\n",
       "============================================================================================\n",
       "\"\"\""
      ]
     },
     "execution_count": 27,
     "metadata": {},
     "output_type": "execute_result"
    }
   ],
   "source": [
    "loj = sm.Logit(y, X)\n",
    "loj_model = loj.fit()\n",
    "loj_model.summary()"
   ]
  },
  {
   "cell_type": "markdown",
   "id": "19b40061-8f65-4836-9ae6-590f71991f17",
   "metadata": {},
   "source": [
    "## sckit-learn"
   ]
  },
  {
   "cell_type": "code",
   "execution_count": 30,
   "id": "8dde89fd-4e34-4e67-a481-9473f97856b0",
   "metadata": {
    "tags": []
   },
   "outputs": [
    {
     "data": {
      "text/html": [
       "<style>#sk-container-id-1 {\n",
       "  /* Definition of color scheme common for light and dark mode */\n",
       "  --sklearn-color-text: black;\n",
       "  --sklearn-color-line: gray;\n",
       "  /* Definition of color scheme for unfitted estimators */\n",
       "  --sklearn-color-unfitted-level-0: #fff5e6;\n",
       "  --sklearn-color-unfitted-level-1: #f6e4d2;\n",
       "  --sklearn-color-unfitted-level-2: #ffe0b3;\n",
       "  --sklearn-color-unfitted-level-3: chocolate;\n",
       "  /* Definition of color scheme for fitted estimators */\n",
       "  --sklearn-color-fitted-level-0: #f0f8ff;\n",
       "  --sklearn-color-fitted-level-1: #d4ebff;\n",
       "  --sklearn-color-fitted-level-2: #b3dbfd;\n",
       "  --sklearn-color-fitted-level-3: cornflowerblue;\n",
       "\n",
       "  /* Specific color for light theme */\n",
       "  --sklearn-color-text-on-default-background: var(--sg-text-color, var(--theme-code-foreground, var(--jp-content-font-color1, black)));\n",
       "  --sklearn-color-background: var(--sg-background-color, var(--theme-background, var(--jp-layout-color0, white)));\n",
       "  --sklearn-color-border-box: var(--sg-text-color, var(--theme-code-foreground, var(--jp-content-font-color1, black)));\n",
       "  --sklearn-color-icon: #696969;\n",
       "\n",
       "  @media (prefers-color-scheme: dark) {\n",
       "    /* Redefinition of color scheme for dark theme */\n",
       "    --sklearn-color-text-on-default-background: var(--sg-text-color, var(--theme-code-foreground, var(--jp-content-font-color1, white)));\n",
       "    --sklearn-color-background: var(--sg-background-color, var(--theme-background, var(--jp-layout-color0, #111)));\n",
       "    --sklearn-color-border-box: var(--sg-text-color, var(--theme-code-foreground, var(--jp-content-font-color1, white)));\n",
       "    --sklearn-color-icon: #878787;\n",
       "  }\n",
       "}\n",
       "\n",
       "#sk-container-id-1 {\n",
       "  color: var(--sklearn-color-text);\n",
       "}\n",
       "\n",
       "#sk-container-id-1 pre {\n",
       "  padding: 0;\n",
       "}\n",
       "\n",
       "#sk-container-id-1 input.sk-hidden--visually {\n",
       "  border: 0;\n",
       "  clip: rect(1px 1px 1px 1px);\n",
       "  clip: rect(1px, 1px, 1px, 1px);\n",
       "  height: 1px;\n",
       "  margin: -1px;\n",
       "  overflow: hidden;\n",
       "  padding: 0;\n",
       "  position: absolute;\n",
       "  width: 1px;\n",
       "}\n",
       "\n",
       "#sk-container-id-1 div.sk-dashed-wrapped {\n",
       "  border: 1px dashed var(--sklearn-color-line);\n",
       "  margin: 0 0.4em 0.5em 0.4em;\n",
       "  box-sizing: border-box;\n",
       "  padding-bottom: 0.4em;\n",
       "  background-color: var(--sklearn-color-background);\n",
       "}\n",
       "\n",
       "#sk-container-id-1 div.sk-container {\n",
       "  /* jupyter's `normalize.less` sets `[hidden] { display: none; }`\n",
       "     but bootstrap.min.css set `[hidden] { display: none !important; }`\n",
       "     so we also need the `!important` here to be able to override the\n",
       "     default hidden behavior on the sphinx rendered scikit-learn.org.\n",
       "     See: https://github.com/scikit-learn/scikit-learn/issues/21755 */\n",
       "  display: inline-block !important;\n",
       "  position: relative;\n",
       "}\n",
       "\n",
       "#sk-container-id-1 div.sk-text-repr-fallback {\n",
       "  display: none;\n",
       "}\n",
       "\n",
       "div.sk-parallel-item,\n",
       "div.sk-serial,\n",
       "div.sk-item {\n",
       "  /* draw centered vertical line to link estimators */\n",
       "  background-image: linear-gradient(var(--sklearn-color-text-on-default-background), var(--sklearn-color-text-on-default-background));\n",
       "  background-size: 2px 100%;\n",
       "  background-repeat: no-repeat;\n",
       "  background-position: center center;\n",
       "}\n",
       "\n",
       "/* Parallel-specific style estimator block */\n",
       "\n",
       "#sk-container-id-1 div.sk-parallel-item::after {\n",
       "  content: \"\";\n",
       "  width: 100%;\n",
       "  border-bottom: 2px solid var(--sklearn-color-text-on-default-background);\n",
       "  flex-grow: 1;\n",
       "}\n",
       "\n",
       "#sk-container-id-1 div.sk-parallel {\n",
       "  display: flex;\n",
       "  align-items: stretch;\n",
       "  justify-content: center;\n",
       "  background-color: var(--sklearn-color-background);\n",
       "  position: relative;\n",
       "}\n",
       "\n",
       "#sk-container-id-1 div.sk-parallel-item {\n",
       "  display: flex;\n",
       "  flex-direction: column;\n",
       "}\n",
       "\n",
       "#sk-container-id-1 div.sk-parallel-item:first-child::after {\n",
       "  align-self: flex-end;\n",
       "  width: 50%;\n",
       "}\n",
       "\n",
       "#sk-container-id-1 div.sk-parallel-item:last-child::after {\n",
       "  align-self: flex-start;\n",
       "  width: 50%;\n",
       "}\n",
       "\n",
       "#sk-container-id-1 div.sk-parallel-item:only-child::after {\n",
       "  width: 0;\n",
       "}\n",
       "\n",
       "/* Serial-specific style estimator block */\n",
       "\n",
       "#sk-container-id-1 div.sk-serial {\n",
       "  display: flex;\n",
       "  flex-direction: column;\n",
       "  align-items: center;\n",
       "  background-color: var(--sklearn-color-background);\n",
       "  padding-right: 1em;\n",
       "  padding-left: 1em;\n",
       "}\n",
       "\n",
       "\n",
       "/* Toggleable style: style used for estimator/Pipeline/ColumnTransformer box that is\n",
       "clickable and can be expanded/collapsed.\n",
       "- Pipeline and ColumnTransformer use this feature and define the default style\n",
       "- Estimators will overwrite some part of the style using the `sk-estimator` class\n",
       "*/\n",
       "\n",
       "/* Pipeline and ColumnTransformer style (default) */\n",
       "\n",
       "#sk-container-id-1 div.sk-toggleable {\n",
       "  /* Default theme specific background. It is overwritten whether we have a\n",
       "  specific estimator or a Pipeline/ColumnTransformer */\n",
       "  background-color: var(--sklearn-color-background);\n",
       "}\n",
       "\n",
       "/* Toggleable label */\n",
       "#sk-container-id-1 label.sk-toggleable__label {\n",
       "  cursor: pointer;\n",
       "  display: block;\n",
       "  width: 100%;\n",
       "  margin-bottom: 0;\n",
       "  padding: 0.5em;\n",
       "  box-sizing: border-box;\n",
       "  text-align: center;\n",
       "}\n",
       "\n",
       "#sk-container-id-1 label.sk-toggleable__label-arrow:before {\n",
       "  /* Arrow on the left of the label */\n",
       "  content: \"▸\";\n",
       "  float: left;\n",
       "  margin-right: 0.25em;\n",
       "  color: var(--sklearn-color-icon);\n",
       "}\n",
       "\n",
       "#sk-container-id-1 label.sk-toggleable__label-arrow:hover:before {\n",
       "  color: var(--sklearn-color-text);\n",
       "}\n",
       "\n",
       "/* Toggleable content - dropdown */\n",
       "\n",
       "#sk-container-id-1 div.sk-toggleable__content {\n",
       "  max-height: 0;\n",
       "  max-width: 0;\n",
       "  overflow: hidden;\n",
       "  text-align: left;\n",
       "  /* unfitted */\n",
       "  background-color: var(--sklearn-color-unfitted-level-0);\n",
       "}\n",
       "\n",
       "#sk-container-id-1 div.sk-toggleable__content.fitted {\n",
       "  /* fitted */\n",
       "  background-color: var(--sklearn-color-fitted-level-0);\n",
       "}\n",
       "\n",
       "#sk-container-id-1 div.sk-toggleable__content pre {\n",
       "  margin: 0.2em;\n",
       "  border-radius: 0.25em;\n",
       "  color: var(--sklearn-color-text);\n",
       "  /* unfitted */\n",
       "  background-color: var(--sklearn-color-unfitted-level-0);\n",
       "}\n",
       "\n",
       "#sk-container-id-1 div.sk-toggleable__content.fitted pre {\n",
       "  /* unfitted */\n",
       "  background-color: var(--sklearn-color-fitted-level-0);\n",
       "}\n",
       "\n",
       "#sk-container-id-1 input.sk-toggleable__control:checked~div.sk-toggleable__content {\n",
       "  /* Expand drop-down */\n",
       "  max-height: 200px;\n",
       "  max-width: 100%;\n",
       "  overflow: auto;\n",
       "}\n",
       "\n",
       "#sk-container-id-1 input.sk-toggleable__control:checked~label.sk-toggleable__label-arrow:before {\n",
       "  content: \"▾\";\n",
       "}\n",
       "\n",
       "/* Pipeline/ColumnTransformer-specific style */\n",
       "\n",
       "#sk-container-id-1 div.sk-label input.sk-toggleable__control:checked~label.sk-toggleable__label {\n",
       "  color: var(--sklearn-color-text);\n",
       "  background-color: var(--sklearn-color-unfitted-level-2);\n",
       "}\n",
       "\n",
       "#sk-container-id-1 div.sk-label.fitted input.sk-toggleable__control:checked~label.sk-toggleable__label {\n",
       "  background-color: var(--sklearn-color-fitted-level-2);\n",
       "}\n",
       "\n",
       "/* Estimator-specific style */\n",
       "\n",
       "/* Colorize estimator box */\n",
       "#sk-container-id-1 div.sk-estimator input.sk-toggleable__control:checked~label.sk-toggleable__label {\n",
       "  /* unfitted */\n",
       "  background-color: var(--sklearn-color-unfitted-level-2);\n",
       "}\n",
       "\n",
       "#sk-container-id-1 div.sk-estimator.fitted input.sk-toggleable__control:checked~label.sk-toggleable__label {\n",
       "  /* fitted */\n",
       "  background-color: var(--sklearn-color-fitted-level-2);\n",
       "}\n",
       "\n",
       "#sk-container-id-1 div.sk-label label.sk-toggleable__label,\n",
       "#sk-container-id-1 div.sk-label label {\n",
       "  /* The background is the default theme color */\n",
       "  color: var(--sklearn-color-text-on-default-background);\n",
       "}\n",
       "\n",
       "/* On hover, darken the color of the background */\n",
       "#sk-container-id-1 div.sk-label:hover label.sk-toggleable__label {\n",
       "  color: var(--sklearn-color-text);\n",
       "  background-color: var(--sklearn-color-unfitted-level-2);\n",
       "}\n",
       "\n",
       "/* Label box, darken color on hover, fitted */\n",
       "#sk-container-id-1 div.sk-label.fitted:hover label.sk-toggleable__label.fitted {\n",
       "  color: var(--sklearn-color-text);\n",
       "  background-color: var(--sklearn-color-fitted-level-2);\n",
       "}\n",
       "\n",
       "/* Estimator label */\n",
       "\n",
       "#sk-container-id-1 div.sk-label label {\n",
       "  font-family: monospace;\n",
       "  font-weight: bold;\n",
       "  display: inline-block;\n",
       "  line-height: 1.2em;\n",
       "}\n",
       "\n",
       "#sk-container-id-1 div.sk-label-container {\n",
       "  text-align: center;\n",
       "}\n",
       "\n",
       "/* Estimator-specific */\n",
       "#sk-container-id-1 div.sk-estimator {\n",
       "  font-family: monospace;\n",
       "  border: 1px dotted var(--sklearn-color-border-box);\n",
       "  border-radius: 0.25em;\n",
       "  box-sizing: border-box;\n",
       "  margin-bottom: 0.5em;\n",
       "  /* unfitted */\n",
       "  background-color: var(--sklearn-color-unfitted-level-0);\n",
       "}\n",
       "\n",
       "#sk-container-id-1 div.sk-estimator.fitted {\n",
       "  /* fitted */\n",
       "  background-color: var(--sklearn-color-fitted-level-0);\n",
       "}\n",
       "\n",
       "/* on hover */\n",
       "#sk-container-id-1 div.sk-estimator:hover {\n",
       "  /* unfitted */\n",
       "  background-color: var(--sklearn-color-unfitted-level-2);\n",
       "}\n",
       "\n",
       "#sk-container-id-1 div.sk-estimator.fitted:hover {\n",
       "  /* fitted */\n",
       "  background-color: var(--sklearn-color-fitted-level-2);\n",
       "}\n",
       "\n",
       "/* Specification for estimator info (e.g. \"i\" and \"?\") */\n",
       "\n",
       "/* Common style for \"i\" and \"?\" */\n",
       "\n",
       ".sk-estimator-doc-link,\n",
       "a:link.sk-estimator-doc-link,\n",
       "a:visited.sk-estimator-doc-link {\n",
       "  float: right;\n",
       "  font-size: smaller;\n",
       "  line-height: 1em;\n",
       "  font-family: monospace;\n",
       "  background-color: var(--sklearn-color-background);\n",
       "  border-radius: 1em;\n",
       "  height: 1em;\n",
       "  width: 1em;\n",
       "  text-decoration: none !important;\n",
       "  margin-left: 1ex;\n",
       "  /* unfitted */\n",
       "  border: var(--sklearn-color-unfitted-level-1) 1pt solid;\n",
       "  color: var(--sklearn-color-unfitted-level-1);\n",
       "}\n",
       "\n",
       ".sk-estimator-doc-link.fitted,\n",
       "a:link.sk-estimator-doc-link.fitted,\n",
       "a:visited.sk-estimator-doc-link.fitted {\n",
       "  /* fitted */\n",
       "  border: var(--sklearn-color-fitted-level-1) 1pt solid;\n",
       "  color: var(--sklearn-color-fitted-level-1);\n",
       "}\n",
       "\n",
       "/* On hover */\n",
       "div.sk-estimator:hover .sk-estimator-doc-link:hover,\n",
       ".sk-estimator-doc-link:hover,\n",
       "div.sk-label-container:hover .sk-estimator-doc-link:hover,\n",
       ".sk-estimator-doc-link:hover {\n",
       "  /* unfitted */\n",
       "  background-color: var(--sklearn-color-unfitted-level-3);\n",
       "  color: var(--sklearn-color-background);\n",
       "  text-decoration: none;\n",
       "}\n",
       "\n",
       "div.sk-estimator.fitted:hover .sk-estimator-doc-link.fitted:hover,\n",
       ".sk-estimator-doc-link.fitted:hover,\n",
       "div.sk-label-container:hover .sk-estimator-doc-link.fitted:hover,\n",
       ".sk-estimator-doc-link.fitted:hover {\n",
       "  /* fitted */\n",
       "  background-color: var(--sklearn-color-fitted-level-3);\n",
       "  color: var(--sklearn-color-background);\n",
       "  text-decoration: none;\n",
       "}\n",
       "\n",
       "/* Span, style for the box shown on hovering the info icon */\n",
       ".sk-estimator-doc-link span {\n",
       "  display: none;\n",
       "  z-index: 9999;\n",
       "  position: relative;\n",
       "  font-weight: normal;\n",
       "  right: .2ex;\n",
       "  padding: .5ex;\n",
       "  margin: .5ex;\n",
       "  width: min-content;\n",
       "  min-width: 20ex;\n",
       "  max-width: 50ex;\n",
       "  color: var(--sklearn-color-text);\n",
       "  box-shadow: 2pt 2pt 4pt #999;\n",
       "  /* unfitted */\n",
       "  background: var(--sklearn-color-unfitted-level-0);\n",
       "  border: .5pt solid var(--sklearn-color-unfitted-level-3);\n",
       "}\n",
       "\n",
       ".sk-estimator-doc-link.fitted span {\n",
       "  /* fitted */\n",
       "  background: var(--sklearn-color-fitted-level-0);\n",
       "  border: var(--sklearn-color-fitted-level-3);\n",
       "}\n",
       "\n",
       ".sk-estimator-doc-link:hover span {\n",
       "  display: block;\n",
       "}\n",
       "\n",
       "/* \"?\"-specific style due to the `<a>` HTML tag */\n",
       "\n",
       "#sk-container-id-1 a.estimator_doc_link {\n",
       "  float: right;\n",
       "  font-size: 1rem;\n",
       "  line-height: 1em;\n",
       "  font-family: monospace;\n",
       "  background-color: var(--sklearn-color-background);\n",
       "  border-radius: 1rem;\n",
       "  height: 1rem;\n",
       "  width: 1rem;\n",
       "  text-decoration: none;\n",
       "  /* unfitted */\n",
       "  color: var(--sklearn-color-unfitted-level-1);\n",
       "  border: var(--sklearn-color-unfitted-level-1) 1pt solid;\n",
       "}\n",
       "\n",
       "#sk-container-id-1 a.estimator_doc_link.fitted {\n",
       "  /* fitted */\n",
       "  border: var(--sklearn-color-fitted-level-1) 1pt solid;\n",
       "  color: var(--sklearn-color-fitted-level-1);\n",
       "}\n",
       "\n",
       "/* On hover */\n",
       "#sk-container-id-1 a.estimator_doc_link:hover {\n",
       "  /* unfitted */\n",
       "  background-color: var(--sklearn-color-unfitted-level-3);\n",
       "  color: var(--sklearn-color-background);\n",
       "  text-decoration: none;\n",
       "}\n",
       "\n",
       "#sk-container-id-1 a.estimator_doc_link.fitted:hover {\n",
       "  /* fitted */\n",
       "  background-color: var(--sklearn-color-fitted-level-3);\n",
       "}\n",
       "</style><div id=\"sk-container-id-1\" class=\"sk-top-container\"><div class=\"sk-text-repr-fallback\"><pre>LogisticRegression(solver=&#x27;liblinear&#x27;)</pre><b>In a Jupyter environment, please rerun this cell to show the HTML representation or trust the notebook. <br />On GitHub, the HTML representation is unable to render, please try loading this page with nbviewer.org.</b></div><div class=\"sk-container\" hidden><div class=\"sk-item\"><div class=\"sk-estimator fitted sk-toggleable\"><input class=\"sk-toggleable__control sk-hidden--visually\" id=\"sk-estimator-id-1\" type=\"checkbox\" checked><label for=\"sk-estimator-id-1\" class=\"sk-toggleable__label fitted sk-toggleable__label-arrow fitted\">&nbsp;&nbsp;LogisticRegression<a class=\"sk-estimator-doc-link fitted\" rel=\"noreferrer\" target=\"_blank\" href=\"https://scikit-learn.org/1.5/modules/generated/sklearn.linear_model.LogisticRegression.html\">?<span>Documentation for LogisticRegression</span></a><span class=\"sk-estimator-doc-link fitted\">i<span>Fitted</span></span></label><div class=\"sk-toggleable__content fitted\"><pre>LogisticRegression(solver=&#x27;liblinear&#x27;)</pre></div> </div></div></div></div>"
      ],
      "text/plain": [
       "LogisticRegression(solver='liblinear')"
      ]
     },
     "execution_count": 30,
     "metadata": {},
     "output_type": "execute_result"
    }
   ],
   "source": [
    "loj = LogisticRegression(solver = \"liblinear\")\n",
    "loj_model = loj.fit(X,y)\n",
    "loj_model"
   ]
  },
  {
   "cell_type": "code",
   "execution_count": 32,
   "id": "0ef0e233-d8ad-40ea-871c-ebb882e7cd23",
   "metadata": {
    "tags": []
   },
   "outputs": [
    {
     "data": {
      "text/plain": [
       "array([-5.88019737])"
      ]
     },
     "execution_count": 32,
     "metadata": {},
     "output_type": "execute_result"
    }
   ],
   "source": [
    "loj_model.intercept_"
   ]
  },
  {
   "cell_type": "code",
   "execution_count": 34,
   "id": "b85630fb-32ce-4dfd-8277-0e1704d7178b",
   "metadata": {
    "tags": []
   },
   "outputs": [
    {
     "data": {
      "text/plain": [
       "array([[ 1.17045482e-01,  2.83555213e-02, -1.69080861e-02,\n",
       "         7.54243357e-04, -6.40171027e-04,  5.96312367e-02,\n",
       "         6.76777175e-01,  7.20012161e-03]])"
      ]
     },
     "execution_count": 34,
     "metadata": {},
     "output_type": "execute_result"
    }
   ],
   "source": [
    "loj_model.coef_"
   ]
  },
  {
   "cell_type": "markdown",
   "id": "f3c8d3a1-8c5f-4e59-bee2-94e9725dee4d",
   "metadata": {},
   "source": [
    "## Tahmin & Model Tuning"
   ]
  },
  {
   "cell_type": "code",
   "execution_count": 37,
   "id": "854a7e54-95b5-4995-8e96-e1c4e6e54a03",
   "metadata": {
    "tags": []
   },
   "outputs": [],
   "source": [
    "y_pred = loj_model.predict(X)"
   ]
  },
  {
   "cell_type": "code",
   "execution_count": 39,
   "id": "5c217de4-fe9b-4e25-a50f-213bd2beb372",
   "metadata": {
    "tags": []
   },
   "outputs": [
    {
     "data": {
      "text/plain": [
       "array([[448,  52],\n",
       "       [120, 148]], dtype=int64)"
      ]
     },
     "execution_count": 39,
     "metadata": {},
     "output_type": "execute_result"
    }
   ],
   "source": [
    "confusion_matrix(y, y_pred)"
   ]
  },
  {
   "cell_type": "code",
   "execution_count": 41,
   "id": "7c252148-f223-4f27-9e6b-6f4a1c9a9999",
   "metadata": {
    "tags": []
   },
   "outputs": [
    {
     "data": {
      "text/plain": [
       "0.7760416666666666"
      ]
     },
     "execution_count": 41,
     "metadata": {},
     "output_type": "execute_result"
    }
   ],
   "source": [
    "accuracy_score(y, y_pred)"
   ]
  },
  {
   "cell_type": "code",
   "execution_count": 43,
   "id": "70af3186-53e3-4d09-af6e-d76111c8180a",
   "metadata": {
    "tags": []
   },
   "outputs": [
    {
     "name": "stdout",
     "output_type": "stream",
     "text": [
      "              precision    recall  f1-score   support\n",
      "\n",
      "           0       0.79      0.90      0.84       500\n",
      "           1       0.74      0.55      0.63       268\n",
      "\n",
      "    accuracy                           0.78       768\n",
      "   macro avg       0.76      0.72      0.74       768\n",
      "weighted avg       0.77      0.78      0.77       768\n",
      "\n"
     ]
    }
   ],
   "source": [
    "print(classification_report(y, y_pred))"
   ]
  },
  {
   "cell_type": "code",
   "execution_count": 45,
   "id": "68dbf2fe-e54c-4c81-88c3-277048f187b6",
   "metadata": {
    "tags": []
   },
   "outputs": [
    {
     "data": {
      "text/plain": [
       "array([1, 0, 1, 0, 1, 0, 0, 1, 1, 0], dtype=int64)"
      ]
     },
     "execution_count": 45,
     "metadata": {},
     "output_type": "execute_result"
    }
   ],
   "source": [
    "loj_model.predict(X)[0:10]"
   ]
  },
  {
   "cell_type": "code",
   "execution_count": 47,
   "id": "ffd34271-fc91-4863-a9ea-7c441f12bf57",
   "metadata": {
    "tags": []
   },
   "outputs": [
    {
     "data": {
      "text/plain": [
       "array([[0.35076827, 0.64923173],\n",
       "       [0.9168311 , 0.0831689 ],\n",
       "       [0.22483391, 0.77516609],\n",
       "       [0.92117433, 0.07882567],\n",
       "       [0.16753319, 0.83246681],\n",
       "       [0.79872303, 0.20127697],\n",
       "       [0.87988289, 0.12011711],\n",
       "       [0.27775666, 0.72224334],\n",
       "       [0.32082494, 0.67917506],\n",
       "       [0.9224958 , 0.0775042 ]])"
      ]
     },
     "execution_count": 47,
     "metadata": {},
     "output_type": "execute_result"
    }
   ],
   "source": [
    "loj_model.predict_proba(X)[0:10][:,0:2]"
   ]
  },
  {
   "cell_type": "code",
   "execution_count": 49,
   "id": "88928208-fdfb-47bb-9f05-8647d6486979",
   "metadata": {
    "tags": []
   },
   "outputs": [
    {
     "data": {
      "text/plain": [
       "0    1\n",
       "1    0\n",
       "2    1\n",
       "3    0\n",
       "4    1\n",
       "5    0\n",
       "6    1\n",
       "7    0\n",
       "8    1\n",
       "9    1\n",
       "Name: Outcome, dtype: int64"
      ]
     },
     "execution_count": 49,
     "metadata": {},
     "output_type": "execute_result"
    }
   ],
   "source": [
    "y[0:10]"
   ]
  },
  {
   "cell_type": "code",
   "execution_count": 51,
   "id": "7b04d43b-137c-46ee-bed5-cb3086c60b40",
   "metadata": {
    "tags": []
   },
   "outputs": [],
   "source": [
    "y_probs = loj_model.predict_proba(X)\n",
    "y_probs = y_probs[:,1]"
   ]
  },
  {
   "cell_type": "code",
   "execution_count": 53,
   "id": "c183722e-0be6-46db-82db-f439bcd45c5c",
   "metadata": {
    "tags": []
   },
   "outputs": [
    {
     "data": {
      "text/plain": [
       "array([0.64923173, 0.0831689 , 0.77516609, 0.07882567, 0.83246681,\n",
       "       0.20127697, 0.12011711, 0.72224334, 0.67917506, 0.0775042 ])"
      ]
     },
     "execution_count": 53,
     "metadata": {},
     "output_type": "execute_result"
    }
   ],
   "source": [
    "y_probs[0:10]"
   ]
  },
  {
   "cell_type": "code",
   "execution_count": 55,
   "id": "2cfadb6d-4729-4334-b15f-880ebed30aab",
   "metadata": {
    "tags": []
   },
   "outputs": [],
   "source": [
    "y_pred = [1 if i > 0.5 else 0 for i in y_probs]"
   ]
  },
  {
   "cell_type": "code",
   "execution_count": 57,
   "id": "b799710d-c687-4f93-864d-1255b67b025f",
   "metadata": {
    "tags": []
   },
   "outputs": [
    {
     "data": {
      "text/plain": [
       "[1, 0, 1, 0, 1, 0, 0, 1, 1, 0]"
      ]
     },
     "execution_count": 57,
     "metadata": {},
     "output_type": "execute_result"
    }
   ],
   "source": [
    "y_pred[0:10]"
   ]
  },
  {
   "cell_type": "code",
   "execution_count": 59,
   "id": "dad4fa0c-e1de-45f6-a3b9-7d42c06779ad",
   "metadata": {
    "tags": []
   },
   "outputs": [
    {
     "data": {
      "text/plain": [
       "array([[448,  52],\n",
       "       [120, 148]], dtype=int64)"
      ]
     },
     "execution_count": 59,
     "metadata": {},
     "output_type": "execute_result"
    }
   ],
   "source": [
    "confusion_matrix(y, y_pred)"
   ]
  },
  {
   "cell_type": "code",
   "execution_count": 61,
   "id": "7a0e862a-4d2c-4ae3-b5f4-0786ad0c5a67",
   "metadata": {
    "tags": []
   },
   "outputs": [
    {
     "data": {
      "text/plain": [
       "0.7760416666666666"
      ]
     },
     "execution_count": 61,
     "metadata": {},
     "output_type": "execute_result"
    }
   ],
   "source": [
    "accuracy_score(y, y_pred)"
   ]
  },
  {
   "cell_type": "code",
   "execution_count": 63,
   "id": "d07f51dd-d9de-4fac-bff3-0a96a7b3fdaf",
   "metadata": {
    "tags": []
   },
   "outputs": [
    {
     "name": "stdout",
     "output_type": "stream",
     "text": [
      "              precision    recall  f1-score   support\n",
      "\n",
      "           0       0.79      0.90      0.84       500\n",
      "           1       0.74      0.55      0.63       268\n",
      "\n",
      "    accuracy                           0.78       768\n",
      "   macro avg       0.76      0.72      0.74       768\n",
      "weighted avg       0.77      0.78      0.77       768\n",
      "\n"
     ]
    }
   ],
   "source": [
    "print(classification_report(y, y_pred))"
   ]
  },
  {
   "cell_type": "code",
   "execution_count": 72,
   "id": "ce32eb06-2519-4b4e-963e-5c2226fd23e2",
   "metadata": {
    "tags": []
   },
   "outputs": [
    {
     "data": {
      "text/plain": [
       "array([0.64923173, 0.0831689 , 0.77516609, 0.07882567, 0.83246681])"
      ]
     },
     "execution_count": 72,
     "metadata": {},
     "output_type": "execute_result"
    }
   ],
   "source": [
    "loj_model.predict_proba(X)[:,1][0:5]"
   ]
  },
  {
   "cell_type": "code",
   "execution_count": 74,
   "id": "8de5a427-6172-4d5e-96fe-932d6c31251d",
   "metadata": {
    "tags": []
   },
   "outputs": [
    {
     "data": {
      "image/png": "[encoded data removed]",
      "text/plain": [
       "<Figure size 640x480 with 1 Axes>"
      ]
     },
     "metadata": {},
     "output_type": "display_data"
    }
   ],
   "source": [
    "logit_roc_auc = roc_auc_score(y, loj_model.predict(X))\n",
    "\n",
    "fpr, tpr, tresholds = roc_curve(y, loj_model.predict_proba(X)[:,1])\n",
    "plt.figure()\n",
    "plt.plot(fpr, tpr, label = 'AUC(area = %0.2f)' % logit_roc_auc)\n",
    "plt.plot([0, 1], [0, 1], 'r--')\n",
    "plt.xlim([0.0, 1.05])\n",
    "plt.ylim([0.0, 1.05])\n",
    "plt.xlabel('False Positive Oranı')\n",
    "plt.ylabel('True Positive Oranı')\n",
    "plt.title('ROC')\n",
    "plt.show()"
   ]
  },
  {
   "cell_type": "code",
   "execution_count": 76,
   "id": "01798b32-da48-411f-8a7f-5005d0fee769",
   "metadata": {
    "tags": []
   },
   "outputs": [],
   "source": [
    "X_train, X_test, y_train, y_test = train_test_split(X, y, \n",
    "                                                    test_size=0.30, \n",
    "                                                    random_state=42)"
   ]
  },
  {
   "cell_type": "code",
   "execution_count": 78,
   "id": "5d953e40-8504-4d57-a0e3-188eeeb0c1c2",
   "metadata": {
    "tags": []
   },
   "outputs": [
    {
     "data": {
      "text/html": [
       "<style>#sk-container-id-2 {\n",
       "  /* Definition of color scheme common for light and dark mode */\n",
       "  --sklearn-color-text: black;\n",
       "  --sklearn-color-line: gray;\n",
       "  /* Definition of color scheme for unfitted estimators */\n",
       "  --sklearn-color-unfitted-level-0: #fff5e6;\n",
       "  --sklearn-color-unfitted-level-1: #f6e4d2;\n",
       "  --sklearn-color-unfitted-level-2: #ffe0b3;\n",
       "  --sklearn-color-unfitted-level-3: chocolate;\n",
       "  /* Definition of color scheme for fitted estimators */\n",
       "  --sklearn-color-fitted-level-0: #f0f8ff;\n",
       "  --sklearn-color-fitted-level-1: #d4ebff;\n",
       "  --sklearn-color-fitted-level-2: #b3dbfd;\n",
       "  --sklearn-color-fitted-level-3: cornflowerblue;\n",
       "\n",
       "  /* Specific color for light theme */\n",
       "  --sklearn-color-text-on-default-background: var(--sg-text-color, var(--theme-code-foreground, var(--jp-content-font-color1, black)));\n",
       "  --sklearn-color-background: var(--sg-background-color, var(--theme-background, var(--jp-layout-color0, white)));\n",
       "  --sklearn-color-border-box: var(--sg-text-color, var(--theme-code-foreground, var(--jp-content-font-color1, black)));\n",
       "  --sklearn-color-icon: #696969;\n",
       "\n",
       "  @media (prefers-color-scheme: dark) {\n",
       "    /* Redefinition of color scheme for dark theme */\n",
       "    --sklearn-color-text-on-default-background: var(--sg-text-color, var(--theme-code-foreground, var(--jp-content-font-color1, white)));\n",
       "    --sklearn-color-background: var(--sg-background-color, var(--theme-background, var(--jp-layout-color0, #111)));\n",
       "    --sklearn-color-border-box: var(--sg-text-color, var(--theme-code-foreground, var(--jp-content-font-color1, white)));\n",
       "    --sklearn-color-icon: #878787;\n",
       "  }\n",
       "}\n",
       "\n",
       "#sk-container-id-2 {\n",
       "  color: var(--sklearn-color-text);\n",
       "}\n",
       "\n",
       "#sk-container-id-2 pre {\n",
       "  padding: 0;\n",
       "}\n",
       "\n",
       "#sk-container-id-2 input.sk-hidden--visually {\n",
       "  border: 0;\n",
       "  clip: rect(1px 1px 1px 1px);\n",
       "  clip: rect(1px, 1px, 1px, 1px);\n",
       "  height: 1px;\n",
       "  margin: -1px;\n",
       "  overflow: hidden;\n",
       "  padding: 0;\n",
       "  position: absolute;\n",
       "  width: 1px;\n",
       "}\n",
       "\n",
       "#sk-container-id-2 div.sk-dashed-wrapped {\n",
       "  border: 1px dashed var(--sklearn-color-line);\n",
       "  margin: 0 0.4em 0.5em 0.4em;\n",
       "  box-sizing: border-box;\n",
       "  padding-bottom: 0.4em;\n",
       "  background-color: var(--sklearn-color-background);\n",
       "}\n",
       "\n",
       "#sk-container-id-2 div.sk-container {\n",
       "  /* jupyter's `normalize.less` sets `[hidden] { display: none; }`\n",
       "     but bootstrap.min.css set `[hidden] { display: none !important; }`\n",
       "     so we also need the `!important` here to be able to override the\n",
       "     default hidden behavior on the sphinx rendered scikit-learn.org.\n",
       "     See: https://github.com/scikit-learn/scikit-learn/issues/21755 */\n",
       "  display: inline-block !important;\n",
       "  position: relative;\n",
       "}\n",
       "\n",
       "#sk-container-id-2 div.sk-text-repr-fallback {\n",
       "  display: none;\n",
       "}\n",
       "\n",
       "div.sk-parallel-item,\n",
       "div.sk-serial,\n",
       "div.sk-item {\n",
       "  /* draw centered vertical line to link estimators */\n",
       "  background-image: linear-gradient(var(--sklearn-color-text-on-default-background), var(--sklearn-color-text-on-default-background));\n",
       "  background-size: 2px 100%;\n",
       "  background-repeat: no-repeat;\n",
       "  background-position: center center;\n",
       "}\n",
       "\n",
       "/* Parallel-specific style estimator block */\n",
       "\n",
       "#sk-container-id-2 div.sk-parallel-item::after {\n",
       "  content: \"\";\n",
       "  width: 100%;\n",
       "  border-bottom: 2px solid var(--sklearn-color-text-on-default-background);\n",
       "  flex-grow: 1;\n",
       "}\n",
       "\n",
       "#sk-container-id-2 div.sk-parallel {\n",
       "  display: flex;\n",
       "  align-items: stretch;\n",
       "  justify-content: center;\n",
       "  background-color: var(--sklearn-color-background);\n",
       "  position: relative;\n",
       "}\n",
       "\n",
       "#sk-container-id-2 div.sk-parallel-item {\n",
       "  display: flex;\n",
       "  flex-direction: column;\n",
       "}\n",
       "\n",
       "#sk-container-id-2 div.sk-parallel-item:first-child::after {\n",
       "  align-self: flex-end;\n",
       "  width: 50%;\n",
       "}\n",
       "\n",
       "#sk-container-id-2 div.sk-parallel-item:last-child::after {\n",
       "  align-self: flex-start;\n",
       "  width: 50%;\n",
       "}\n",
       "\n",
       "#sk-container-id-2 div.sk-parallel-item:only-child::after {\n",
       "  width: 0;\n",
       "}\n",
       "\n",
       "/* Serial-specific style estimator block */\n",
       "\n",
       "#sk-container-id-2 div.sk-serial {\n",
       "  display: flex;\n",
       "  flex-direction: column;\n",
       "  align-items: center;\n",
       "  background-color: var(--sklearn-color-background);\n",
       "  padding-right: 1em;\n",
       "  padding-left: 1em;\n",
       "}\n",
       "\n",
       "\n",
       "/* Toggleable style: style used for estimator/Pipeline/ColumnTransformer box that is\n",
       "clickable and can be expanded/collapsed.\n",
       "- Pipeline and ColumnTransformer use this feature and define the default style\n",
       "- Estimators will overwrite some part of the style using the `sk-estimator` class\n",
       "*/\n",
       "\n",
       "/* Pipeline and ColumnTransformer style (default) */\n",
       "\n",
       "#sk-container-id-2 div.sk-toggleable {\n",
       "  /* Default theme specific background. It is overwritten whether we have a\n",
       "  specific estimator or a Pipeline/ColumnTransformer */\n",
       "  background-color: var(--sklearn-color-background);\n",
       "}\n",
       "\n",
       "/* Toggleable label */\n",
       "#sk-container-id-2 label.sk-toggleable__label {\n",
       "  cursor: pointer;\n",
       "  display: block;\n",
       "  width: 100%;\n",
       "  margin-bottom: 0;\n",
       "  padding: 0.5em;\n",
       "  box-sizing: border-box;\n",
       "  text-align: center;\n",
       "}\n",
       "\n",
       "#sk-container-id-2 label.sk-toggleable__label-arrow:before {\n",
       "  /* Arrow on the left of the label */\n",
       "  content: \"▸\";\n",
       "  float: left;\n",
       "  margin-right: 0.25em;\n",
       "  color: var(--sklearn-color-icon);\n",
       "}\n",
       "\n",
       "#sk-container-id-2 label.sk-toggleable__label-arrow:hover:before {\n",
       "  color: var(--sklearn-color-text);\n",
       "}\n",
       "\n",
       "/* Toggleable content - dropdown */\n",
       "\n",
       "#sk-container-id-2 div.sk-toggleable__content {\n",
       "  max-height: 0;\n",
       "  max-width: 0;\n",
       "  overflow: hidden;\n",
       "  text-align: left;\n",
       "  /* unfitted */\n",
       "  background-color: var(--sklearn-color-unfitted-level-0);\n",
       "}\n",
       "\n",
       "#sk-container-id-2 div.sk-toggleable__content.fitted {\n",
       "  /* fitted */\n",
       "  background-color: var(--sklearn-color-fitted-level-0);\n",
       "}\n",
       "\n",
       "#sk-container-id-2 div.sk-toggleable__content pre {\n",
       "  margin: 0.2em;\n",
       "  border-radius: 0.25em;\n",
       "  color: var(--sklearn-color-text);\n",
       "  /* unfitted */\n",
       "  background-color: var(--sklearn-color-unfitted-level-0);\n",
       "}\n",
       "\n",
       "#sk-container-id-2 div.sk-toggleable__content.fitted pre {\n",
       "  /* unfitted */\n",
       "  background-color: var(--sklearn-color-fitted-level-0);\n",
       "}\n",
       "\n",
       "#sk-container-id-2 input.sk-toggleable__control:checked~div.sk-toggleable__content {\n",
       "  /* Expand drop-down */\n",
       "  max-height: 200px;\n",
       "  max-width: 100%;\n",
       "  overflow: auto;\n",
       "}\n",
       "\n",
       "#sk-container-id-2 input.sk-toggleable__control:checked~label.sk-toggleable__label-arrow:before {\n",
       "  content: \"▾\";\n",
       "}\n",
       "\n",
       "/* Pipeline/ColumnTransformer-specific style */\n",
       "\n",
       "#sk-container-id-2 div.sk-label input.sk-toggleable__control:checked~label.sk-toggleable__label {\n",
       "  color: var(--sklearn-color-text);\n",
       "  background-color: var(--sklearn-color-unfitted-level-2);\n",
       "}\n",
       "\n",
       "#sk-container-id-2 div.sk-label.fitted input.sk-toggleable__control:checked~label.sk-toggleable__label {\n",
       "  background-color: var(--sklearn-color-fitted-level-2);\n",
       "}\n",
       "\n",
       "/* Estimator-specific style */\n",
       "\n",
       "/* Colorize estimator box */\n",
       "#sk-container-id-2 div.sk-estimator input.sk-toggleable__control:checked~label.sk-toggleable__label {\n",
       "  /* unfitted */\n",
       "  background-color: var(--sklearn-color-unfitted-level-2);\n",
       "}\n",
       "\n",
       "#sk-container-id-2 div.sk-estimator.fitted input.sk-toggleable__control:checked~label.sk-toggleable__label {\n",
       "  /* fitted */\n",
       "  background-color: var(--sklearn-color-fitted-level-2);\n",
       "}\n",
       "\n",
       "#sk-container-id-2 div.sk-label label.sk-toggleable__label,\n",
       "#sk-container-id-2 div.sk-label label {\n",
       "  /* The background is the default theme color */\n",
       "  color: var(--sklearn-color-text-on-default-background);\n",
       "}\n",
       "\n",
       "/* On hover, darken the color of the background */\n",
       "#sk-container-id-2 div.sk-label:hover label.sk-toggleable__label {\n",
       "  color: var(--sklearn-color-text);\n",
       "  background-color: var(--sklearn-color-unfitted-level-2);\n",
       "}\n",
       "\n",
       "/* Label box, darken color on hover, fitted */\n",
       "#sk-container-id-2 div.sk-label.fitted:hover label.sk-toggleable__label.fitted {\n",
       "  color: var(--sklearn-color-text);\n",
       "  background-color: var(--sklearn-color-fitted-level-2);\n",
       "}\n",
       "\n",
       "/* Estimator label */\n",
       "\n",
       "#sk-container-id-2 div.sk-label label {\n",
       "  font-family: monospace;\n",
       "  font-weight: bold;\n",
       "  display: inline-block;\n",
       "  line-height: 1.2em;\n",
       "}\n",
       "\n",
       "#sk-container-id-2 div.sk-label-container {\n",
       "  text-align: center;\n",
       "}\n",
       "\n",
       "/* Estimator-specific */\n",
       "#sk-container-id-2 div.sk-estimator {\n",
       "  font-family: monospace;\n",
       "  border: 1px dotted var(--sklearn-color-border-box);\n",
       "  border-radius: 0.25em;\n",
       "  box-sizing: border-box;\n",
       "  margin-bottom: 0.5em;\n",
       "  /* unfitted */\n",
       "  background-color: var(--sklearn-color-unfitted-level-0);\n",
       "}\n",
       "\n",
       "#sk-container-id-2 div.sk-estimator.fitted {\n",
       "  /* fitted */\n",
       "  background-color: var(--sklearn-color-fitted-level-0);\n",
       "}\n",
       "\n",
       "/* on hover */\n",
       "#sk-container-id-2 div.sk-estimator:hover {\n",
       "  /* unfitted */\n",
       "  background-color: var(--sklearn-color-unfitted-level-2);\n",
       "}\n",
       "\n",
       "#sk-container-id-2 div.sk-estimator.fitted:hover {\n",
       "  /* fitted */\n",
       "  background-color: var(--sklearn-color-fitted-level-2);\n",
       "}\n",
       "\n",
       "/* Specification for estimator info (e.g. \"i\" and \"?\") */\n",
       "\n",
       "/* Common style for \"i\" and \"?\" */\n",
       "\n",
       ".sk-estimator-doc-link,\n",
       "a:link.sk-estimator-doc-link,\n",
       "a:visited.sk-estimator-doc-link {\n",
       "  float: right;\n",
       "  font-size: smaller;\n",
       "  line-height: 1em;\n",
       "  font-family: monospace;\n",
       "  background-color: var(--sklearn-color-background);\n",
       "  border-radius: 1em;\n",
       "  height: 1em;\n",
       "  width: 1em;\n",
       "  text-decoration: none !important;\n",
       "  margin-left: 1ex;\n",
       "  /* unfitted */\n",
       "  border: var(--sklearn-color-unfitted-level-1) 1pt solid;\n",
       "  color: var(--sklearn-color-unfitted-level-1);\n",
       "}\n",
       "\n",
       ".sk-estimator-doc-link.fitted,\n",
       "a:link.sk-estimator-doc-link.fitted,\n",
       "a:visited.sk-estimator-doc-link.fitted {\n",
       "  /* fitted */\n",
       "  border: var(--sklearn-color-fitted-level-1) 1pt solid;\n",
       "  color: var(--sklearn-color-fitted-level-1);\n",
       "}\n",
       "\n",
       "/* On hover */\n",
       "div.sk-estimator:hover .sk-estimator-doc-link:hover,\n",
       ".sk-estimator-doc-link:hover,\n",
       "div.sk-label-container:hover .sk-estimator-doc-link:hover,\n",
       ".sk-estimator-doc-link:hover {\n",
       "  /* unfitted */\n",
       "  background-color: var(--sklearn-color-unfitted-level-3);\n",
       "  color: var(--sklearn-color-background);\n",
       "  text-decoration: none;\n",
       "}\n",
       "\n",
       "div.sk-estimator.fitted:hover .sk-estimator-doc-link.fitted:hover,\n",
       ".sk-estimator-doc-link.fitted:hover,\n",
       "div.sk-label-container:hover .sk-estimator-doc-link.fitted:hover,\n",
       ".sk-estimator-doc-link.fitted:hover {\n",
       "  /* fitted */\n",
       "  background-color: var(--sklearn-color-fitted-level-3);\n",
       "  color: var(--sklearn-color-background);\n",
       "  text-decoration: none;\n",
       "}\n",
       "\n",
       "/* Span, style for the box shown on hovering the info icon */\n",
       ".sk-estimator-doc-link span {\n",
       "  display: none;\n",
       "  z-index: 9999;\n",
       "  position: relative;\n",
       "  font-weight: normal;\n",
       "  right: .2ex;\n",
       "  padding: .5ex;\n",
       "  margin: .5ex;\n",
       "  width: min-content;\n",
       "  min-width: 20ex;\n",
       "  max-width: 50ex;\n",
       "  color: var(--sklearn-color-text);\n",
       "  box-shadow: 2pt 2pt 4pt #999;\n",
       "  /* unfitted */\n",
       "  background: var(--sklearn-color-unfitted-level-0);\n",
       "  border: .5pt solid var(--sklearn-color-unfitted-level-3);\n",
       "}\n",
       "\n",
       ".sk-estimator-doc-link.fitted span {\n",
       "  /* fitted */\n",
       "  background: var(--sklearn-color-fitted-level-0);\n",
       "  border: var(--sklearn-color-fitted-level-3);\n",
       "}\n",
       "\n",
       ".sk-estimator-doc-link:hover span {\n",
       "  display: block;\n",
       "}\n",
       "\n",
       "/* \"?\"-specific style due to the `<a>` HTML tag */\n",
       "\n",
       "#sk-container-id-2 a.estimator_doc_link {\n",
       "  float: right;\n",
       "  font-size: 1rem;\n",
       "  line-height: 1em;\n",
       "  font-family: monospace;\n",
       "  background-color: var(--sklearn-color-background);\n",
       "  border-radius: 1rem;\n",
       "  height: 1rem;\n",
       "  width: 1rem;\n",
       "  text-decoration: none;\n",
       "  /* unfitted */\n",
       "  color: var(--sklearn-color-unfitted-level-1);\n",
       "  border: var(--sklearn-color-unfitted-level-1) 1pt solid;\n",
       "}\n",
       "\n",
       "#sk-container-id-2 a.estimator_doc_link.fitted {\n",
       "  /* fitted */\n",
       "  border: var(--sklearn-color-fitted-level-1) 1pt solid;\n",
       "  color: var(--sklearn-color-fitted-level-1);\n",
       "}\n",
       "\n",
       "/* On hover */\n",
       "#sk-container-id-2 a.estimator_doc_link:hover {\n",
       "  /* unfitted */\n",
       "  background-color: var(--sklearn-color-unfitted-level-3);\n",
       "  color: var(--sklearn-color-background);\n",
       "  text-decoration: none;\n",
       "}\n",
       "\n",
       "#sk-container-id-2 a.estimator_doc_link.fitted:hover {\n",
       "  /* fitted */\n",
       "  background-color: var(--sklearn-color-fitted-level-3);\n",
       "}\n",
       "</style><div id=\"sk-container-id-2\" class=\"sk-top-container\"><div class=\"sk-text-repr-fallback\"><pre>LogisticRegression(solver=&#x27;liblinear&#x27;)</pre><b>In a Jupyter environment, please rerun this cell to show the HTML representation or trust the notebook. <br />On GitHub, the HTML representation is unable to render, please try loading this page with nbviewer.org.</b></div><div class=\"sk-container\" hidden><div class=\"sk-item\"><div class=\"sk-estimator fitted sk-toggleable\"><input class=\"sk-toggleable__control sk-hidden--visually\" id=\"sk-estimator-id-2\" type=\"checkbox\" checked><label for=\"sk-estimator-id-2\" class=\"sk-toggleable__label fitted sk-toggleable__label-arrow fitted\">&nbsp;&nbsp;LogisticRegression<a class=\"sk-estimator-doc-link fitted\" rel=\"noreferrer\" target=\"_blank\" href=\"https://scikit-learn.org/1.5/modules/generated/sklearn.linear_model.LogisticRegression.html\">?<span>Documentation for LogisticRegression</span></a><span class=\"sk-estimator-doc-link fitted\">i<span>Fitted</span></span></label><div class=\"sk-toggleable__content fitted\"><pre>LogisticRegression(solver=&#x27;liblinear&#x27;)</pre></div> </div></div></div></div>"
      ],
      "text/plain": [
       "LogisticRegression(solver='liblinear')"
      ]
     },
     "execution_count": 78,
     "metadata": {},
     "output_type": "execute_result"
    }
   ],
   "source": [
    "loj = LogisticRegression(solver=\"liblinear\")\n",
    "loj_model = loj.fit(X_train, y_train)\n",
    "loj_model"
   ]
  },
  {
   "cell_type": "code",
   "execution_count": 80,
   "id": "d2b2356e-ed63-44e3-94e8-3acf5ca24e25",
   "metadata": {
    "tags": []
   },
   "outputs": [
    {
     "data": {
      "text/plain": [
       "0.7532467532467533"
      ]
     },
     "execution_count": 80,
     "metadata": {},
     "output_type": "execute_result"
    }
   ],
   "source": [
    "accuracy_score(y_test, loj_model.predict(X_test))"
   ]
  },
  {
   "cell_type": "code",
   "execution_count": 82,
   "id": "25caf885-ce37-424c-bdca-3220a24e6110",
   "metadata": {
    "tags": []
   },
   "outputs": [
    {
     "data": {
      "text/plain": [
       "0.7704710144927536"
      ]
     },
     "execution_count": 82,
     "metadata": {},
     "output_type": "execute_result"
    }
   ],
   "source": [
    "cross_val_score(loj_model, X_test, y_test, cv = 10).mean()"
   ]
  },
  {
   "cell_type": "markdown",
   "id": "360ac27a-b942-4bf9-86ca-5bbdf1dffe16",
   "metadata": {},
   "source": [
    "# Gaussian Naive Bayes"
   ]
  },
  {
   "cell_type": "code",
   "execution_count": 53,
   "id": "60a234ff-0586-485f-a6f6-1932657a6d18",
   "metadata": {
    "tags": []
   },
   "outputs": [],
   "source": [
    "df = diabetes.copy()\n",
    "df = df.dropna()\n",
    "y = df[\"Outcome\"]\n",
    "X = df.drop([\"Outcome\"], axis = 1)\n",
    "X_train, X_test, y_train, y_test = train_test_split(X, y, test_size=0.30, random_state=42)"
   ]
  },
  {
   "cell_type": "code",
   "execution_count": 54,
   "id": "d2834c5b-5ccb-4b82-811e-50a9a2e32782",
   "metadata": {
    "tags": []
   },
   "outputs": [
    {
     "data": {
      "text/html": [
       "<style>#sk-container-id-5 {color: black;}#sk-container-id-5 pre{padding: 0;}#sk-container-id-5 div.sk-toggleable {background-color: white;}#sk-container-id-5 label.sk-toggleable__label {cursor: pointer;display: block;width: 100%;margin-bottom: 0;padding: 0.3em;box-sizing: border-box;text-align: center;}#sk-container-id-5 label.sk-toggleable__label-arrow:before {content: \"▸\";float: left;margin-right: 0.25em;color: #696969;}#sk-container-id-5 label.sk-toggleable__label-arrow:hover:before {color: black;}#sk-container-id-5 div.sk-estimator:hover label.sk-toggleable__label-arrow:before {color: black;}#sk-container-id-5 div.sk-toggleable__content {max-height: 0;max-width: 0;overflow: hidden;text-align: left;background-color: #f0f8ff;}#sk-container-id-5 div.sk-toggleable__content pre {margin: 0.2em;color: black;border-radius: 0.25em;background-color: #f0f8ff;}#sk-container-id-5 input.sk-toggleable__control:checked~div.sk-toggleable__content {max-height: 200px;max-width: 100%;overflow: auto;}#sk-container-id-5 input.sk-toggleable__control:checked~label.sk-toggleable__label-arrow:before {content: \"▾\";}#sk-container-id-5 div.sk-estimator input.sk-toggleable__control:checked~label.sk-toggleable__label {background-color: #d4ebff;}#sk-container-id-5 div.sk-label input.sk-toggleable__control:checked~label.sk-toggleable__label {background-color: #d4ebff;}#sk-container-id-5 input.sk-hidden--visually {border: 0;clip: rect(1px 1px 1px 1px);clip: rect(1px, 1px, 1px, 1px);height: 1px;margin: -1px;overflow: hidden;padding: 0;position: absolute;width: 1px;}#sk-container-id-5 div.sk-estimator {font-family: monospace;background-color: #f0f8ff;border: 1px dotted black;border-radius: 0.25em;box-sizing: border-box;margin-bottom: 0.5em;}#sk-container-id-5 div.sk-estimator:hover {background-color: #d4ebff;}#sk-container-id-5 div.sk-parallel-item::after {content: \"\";width: 100%;border-bottom: 1px solid gray;flex-grow: 1;}#sk-container-id-5 div.sk-label:hover label.sk-toggleable__label {background-color: #d4ebff;}#sk-container-id-5 div.sk-serial::before {content: \"\";position: absolute;border-left: 1px solid gray;box-sizing: border-box;top: 0;bottom: 0;left: 50%;z-index: 0;}#sk-container-id-5 div.sk-serial {display: flex;flex-direction: column;align-items: center;background-color: white;padding-right: 0.2em;padding-left: 0.2em;position: relative;}#sk-container-id-5 div.sk-item {position: relative;z-index: 1;}#sk-container-id-5 div.sk-parallel {display: flex;align-items: stretch;justify-content: center;background-color: white;position: relative;}#sk-container-id-5 div.sk-item::before, #sk-container-id-5 div.sk-parallel-item::before {content: \"\";position: absolute;border-left: 1px solid gray;box-sizing: border-box;top: 0;bottom: 0;left: 50%;z-index: -1;}#sk-container-id-5 div.sk-parallel-item {display: flex;flex-direction: column;z-index: 1;position: relative;background-color: white;}#sk-container-id-5 div.sk-parallel-item:first-child::after {align-self: flex-end;width: 50%;}#sk-container-id-5 div.sk-parallel-item:last-child::after {align-self: flex-start;width: 50%;}#sk-container-id-5 div.sk-parallel-item:only-child::after {width: 0;}#sk-container-id-5 div.sk-dashed-wrapped {border: 1px dashed gray;margin: 0 0.4em 0.5em 0.4em;box-sizing: border-box;padding-bottom: 0.4em;background-color: white;}#sk-container-id-5 div.sk-label label {font-family: monospace;font-weight: bold;display: inline-block;line-height: 1.2em;}#sk-container-id-5 div.sk-label-container {text-align: center;}#sk-container-id-5 div.sk-container {/* jupyter's `normalize.less` sets `[hidden] { display: none; }` but bootstrap.min.css set `[hidden] { display: none !important; }` so we also need the `!important` here to be able to override the default hidden behavior on the sphinx rendered scikit-learn.org. See: https://github.com/scikit-learn/scikit-learn/issues/21755 */display: inline-block !important;position: relative;}#sk-container-id-5 div.sk-text-repr-fallback {display: none;}</style><div id=\"sk-container-id-5\" class=\"sk-top-container\"><div class=\"sk-text-repr-fallback\"><pre>GaussianNB()</pre><b>In a Jupyter environment, please rerun this cell to show the HTML representation or trust the notebook. <br />On GitHub, the HTML representation is unable to render, please try loading this page with nbviewer.org.</b></div><div class=\"sk-container\" hidden><div class=\"sk-item\"><div class=\"sk-estimator sk-toggleable\"><input class=\"sk-toggleable__control sk-hidden--visually\" id=\"sk-estimator-id-5\" type=\"checkbox\" checked><label for=\"sk-estimator-id-5\" class=\"sk-toggleable__label sk-toggleable__label-arrow\">GaussianNB</label><div class=\"sk-toggleable__content\"><pre>GaussianNB()</pre></div></div></div></div></div>"
      ],
      "text/plain": [
       "GaussianNB()"
      ]
     },
     "execution_count": 54,
     "metadata": {},
     "output_type": "execute_result"
    }
   ],
   "source": [
    "nb = GaussianNB()\n",
    "nb_model = nb.fit(X_train, y_train)\n",
    "nb_model"
   ]
  },
  {
   "cell_type": "code",
   "execution_count": 55,
   "id": "2eedac6f-6060-4baa-85de-32e5cee7572c",
   "metadata": {
    "tags": []
   },
   "outputs": [
    {
     "data": {
      "text/plain": [
       "array([0, 0, 0, 0, 1, 1, 0, 0, 0, 1], dtype=int64)"
      ]
     },
     "execution_count": 55,
     "metadata": {},
     "output_type": "execute_result"
    }
   ],
   "source": [
    "nb_model.predict(X_test)[0:10]"
   ]
  },
  {
   "cell_type": "code",
   "execution_count": 56,
   "id": "c19f9cb1-68be-4525-bd7e-f97a27f25155",
   "metadata": {
    "tags": []
   },
   "outputs": [
    {
     "data": {
      "text/plain": [
       "array([[0.73815858, 0.26184142],\n",
       "       [0.94027894, 0.05972106],\n",
       "       [0.97242831, 0.02757169],\n",
       "       [0.82840069, 0.17159931],\n",
       "       [0.47153473, 0.52846527],\n",
       "       [0.47274458, 0.52725542],\n",
       "       [0.99607705, 0.00392295],\n",
       "       [0.69925055, 0.30074945],\n",
       "       [0.53838117, 0.46161883],\n",
       "       [0.25004536, 0.74995464]])"
      ]
     },
     "execution_count": 56,
     "metadata": {},
     "output_type": "execute_result"
    }
   ],
   "source": [
    "nb_model.predict_proba(X_test)[0:10]"
   ]
  },
  {
   "cell_type": "code",
   "execution_count": 57,
   "id": "b35bc184-0003-469d-a4e2-4d9728a7ed2d",
   "metadata": {
    "tags": []
   },
   "outputs": [],
   "source": [
    "y_pred = nb_model.predict(X_test)"
   ]
  },
  {
   "cell_type": "code",
   "execution_count": 58,
   "id": "8011efc5-ebde-4e88-8aea-f96ba5e66b09",
   "metadata": {
    "tags": []
   },
   "outputs": [
    {
     "data": {
      "text/plain": [
       "0.7445887445887446"
      ]
     },
     "execution_count": 58,
     "metadata": {},
     "output_type": "execute_result"
    }
   ],
   "source": [
    "accuracy_score(y_test, y_pred)"
   ]
  },
  {
   "cell_type": "code",
   "execution_count": 59,
   "id": "ac9267b2-119e-45bf-9ad7-2e8b976dc9ba",
   "metadata": {
    "tags": []
   },
   "outputs": [
    {
     "data": {
      "text/plain": [
       "0.775"
      ]
     },
     "execution_count": 59,
     "metadata": {},
     "output_type": "execute_result"
    }
   ],
   "source": [
    "cross_val_score(nb_model, X_test, y_test, cv = 10).mean()"
   ]
  },
  {
   "cell_type": "markdown",
   "id": "4b15fd3c-b4a5-4856-8e2d-0afac8463d70",
   "metadata": {},
   "source": [
    "# KNN"
   ]
  },
  {
   "cell_type": "markdown",
   "id": "645c0c8c-a3ad-4c83-82c8-3d4f80564f55",
   "metadata": {},
   "source": [
    "## Model & Tahmin"
   ]
  },
  {
   "cell_type": "code",
   "execution_count": 60,
   "id": "8707b2f4-6638-4c9e-8a11-9536d5d1a764",
   "metadata": {
    "tags": []
   },
   "outputs": [],
   "source": [
    "df = diabetes.copy()\n",
    "df = df.dropna()\n",
    "y = df[\"Outcome\"]\n",
    "X = df.drop([\"Outcome\"], axis = 1)\n",
    "X_train, X_test, y_train, y_test = train_test_split(X, y, test_size=0.30, random_state=42)"
   ]
  },
  {
   "cell_type": "code",
   "execution_count": 61,
   "id": "1486d310-28af-49a3-aa89-dbfd326fda92",
   "metadata": {
    "tags": []
   },
   "outputs": [
    {
     "data": {
      "text/html": [
       "<style>#sk-container-id-6 {color: black;}#sk-container-id-6 pre{padding: 0;}#sk-container-id-6 div.sk-toggleable {background-color: white;}#sk-container-id-6 label.sk-toggleable__label {cursor: pointer;display: block;width: 100%;margin-bottom: 0;padding: 0.3em;box-sizing: border-box;text-align: center;}#sk-container-id-6 label.sk-toggleable__label-arrow:before {content: \"▸\";float: left;margin-right: 0.25em;color: #696969;}#sk-container-id-6 label.sk-toggleable__label-arrow:hover:before {color: black;}#sk-container-id-6 div.sk-estimator:hover label.sk-toggleable__label-arrow:before {color: black;}#sk-container-id-6 div.sk-toggleable__content {max-height: 0;max-width: 0;overflow: hidden;text-align: left;background-color: #f0f8ff;}#sk-container-id-6 div.sk-toggleable__content pre {margin: 0.2em;color: black;border-radius: 0.25em;background-color: #f0f8ff;}#sk-container-id-6 input.sk-toggleable__control:checked~div.sk-toggleable__content {max-height: 200px;max-width: 100%;overflow: auto;}#sk-container-id-6 input.sk-toggleable__control:checked~label.sk-toggleable__label-arrow:before {content: \"▾\";}#sk-container-id-6 div.sk-estimator input.sk-toggleable__control:checked~label.sk-toggleable__label {background-color: #d4ebff;}#sk-container-id-6 div.sk-label input.sk-toggleable__control:checked~label.sk-toggleable__label {background-color: #d4ebff;}#sk-container-id-6 input.sk-hidden--visually {border: 0;clip: rect(1px 1px 1px 1px);clip: rect(1px, 1px, 1px, 1px);height: 1px;margin: -1px;overflow: hidden;padding: 0;position: absolute;width: 1px;}#sk-container-id-6 div.sk-estimator {font-family: monospace;background-color: #f0f8ff;border: 1px dotted black;border-radius: 0.25em;box-sizing: border-box;margin-bottom: 0.5em;}#sk-container-id-6 div.sk-estimator:hover {background-color: #d4ebff;}#sk-container-id-6 div.sk-parallel-item::after {content: \"\";width: 100%;border-bottom: 1px solid gray;flex-grow: 1;}#sk-container-id-6 div.sk-label:hover label.sk-toggleable__label {background-color: #d4ebff;}#sk-container-id-6 div.sk-serial::before {content: \"\";position: absolute;border-left: 1px solid gray;box-sizing: border-box;top: 0;bottom: 0;left: 50%;z-index: 0;}#sk-container-id-6 div.sk-serial {display: flex;flex-direction: column;align-items: center;background-color: white;padding-right: 0.2em;padding-left: 0.2em;position: relative;}#sk-container-id-6 div.sk-item {position: relative;z-index: 1;}#sk-container-id-6 div.sk-parallel {display: flex;align-items: stretch;justify-content: center;background-color: white;position: relative;}#sk-container-id-6 div.sk-item::before, #sk-container-id-6 div.sk-parallel-item::before {content: \"\";position: absolute;border-left: 1px solid gray;box-sizing: border-box;top: 0;bottom: 0;left: 50%;z-index: -1;}#sk-container-id-6 div.sk-parallel-item {display: flex;flex-direction: column;z-index: 1;position: relative;background-color: white;}#sk-container-id-6 div.sk-parallel-item:first-child::after {align-self: flex-end;width: 50%;}#sk-container-id-6 div.sk-parallel-item:last-child::after {align-self: flex-start;width: 50%;}#sk-container-id-6 div.sk-parallel-item:only-child::after {width: 0;}#sk-container-id-6 div.sk-dashed-wrapped {border: 1px dashed gray;margin: 0 0.4em 0.5em 0.4em;box-sizing: border-box;padding-bottom: 0.4em;background-color: white;}#sk-container-id-6 div.sk-label label {font-family: monospace;font-weight: bold;display: inline-block;line-height: 1.2em;}#sk-container-id-6 div.sk-label-container {text-align: center;}#sk-container-id-6 div.sk-container {/* jupyter's `normalize.less` sets `[hidden] { display: none; }` but bootstrap.min.css set `[hidden] { display: none !important; }` so we also need the `!important` here to be able to override the default hidden behavior on the sphinx rendered scikit-learn.org. See: https://github.com/scikit-learn/scikit-learn/issues/21755 */display: inline-block !important;position: relative;}#sk-container-id-6 div.sk-text-repr-fallback {display: none;}</style><div id=\"sk-container-id-6\" class=\"sk-top-container\"><div class=\"sk-text-repr-fallback\"><pre>KNeighborsClassifier()</pre><b>In a Jupyter environment, please rerun this cell to show the HTML representation or trust the notebook. <br />On GitHub, the HTML representation is unable to render, please try loading this page with nbviewer.org.</b></div><div class=\"sk-container\" hidden><div class=\"sk-item\"><div class=\"sk-estimator sk-toggleable\"><input class=\"sk-toggleable__control sk-hidden--visually\" id=\"sk-estimator-id-6\" type=\"checkbox\" checked><label for=\"sk-estimator-id-6\" class=\"sk-toggleable__label sk-toggleable__label-arrow\">KNeighborsClassifier</label><div class=\"sk-toggleable__content\"><pre>KNeighborsClassifier()</pre></div></div></div></div></div>"
      ],
      "text/plain": [
       "KNeighborsClassifier()"
      ]
     },
     "execution_count": 61,
     "metadata": {},
     "output_type": "execute_result"
    }
   ],
   "source": [
    "knn = KNeighborsClassifier()\n",
    "knn_model = knn.fit(X_train, y_train)\n",
    "knn_model"
   ]
  },
  {
   "cell_type": "code",
   "execution_count": 62,
   "id": "940810fd-74bb-499c-abb7-642974744643",
   "metadata": {
    "tags": []
   },
   "outputs": [],
   "source": [
    "y_pred = knn_model.predict(X_test)"
   ]
  },
  {
   "cell_type": "code",
   "execution_count": 63,
   "id": "a2ddbb1b-fc70-4299-b7ac-b06f9dc9a9fa",
   "metadata": {
    "tags": []
   },
   "outputs": [
    {
     "data": {
      "text/plain": [
       "0.6883116883116883"
      ]
     },
     "execution_count": 63,
     "metadata": {},
     "output_type": "execute_result"
    }
   ],
   "source": [
    "accuracy_score(y_test, y_pred)"
   ]
  },
  {
   "cell_type": "code",
   "execution_count": 66,
   "id": "7afc1da1-d172-4af4-8642-67d696932295",
   "metadata": {
    "tags": []
   },
   "outputs": [
    {
     "name": "stdout",
     "output_type": "stream",
     "text": [
      "              precision    recall  f1-score   support\n",
      "\n",
      "           0       0.77      0.75      0.76       151\n",
      "           1       0.55      0.56      0.56        80\n",
      "\n",
      "    accuracy                           0.69       231\n",
      "   macro avg       0.66      0.66      0.66       231\n",
      "weighted avg       0.69      0.69      0.69       231\n",
      "\n"
     ]
    }
   ],
   "source": [
    "print(classification_report(y_test, y_pred))"
   ]
  },
  {
   "cell_type": "markdown",
   "id": "b8437834-ef67-4ffe-9719-21cdacc58a04",
   "metadata": {},
   "source": [
    "## Model Tuning"
   ]
  },
  {
   "cell_type": "code",
   "execution_count": 67,
   "id": "760fc570-32c3-4254-95e1-97c0336b16cc",
   "metadata": {
    "tags": []
   },
   "outputs": [],
   "source": [
    "knn_params = {\"n_neighbors\": np.arange(1,50)}"
   ]
  },
  {
   "cell_type": "code",
   "execution_count": 68,
   "id": "1a8c8e20-9b61-462d-b017-1821a9c785c0",
   "metadata": {
    "tags": []
   },
   "outputs": [
    {
     "data": {
      "text/html": [
       "<style>#sk-container-id-7 {color: black;}#sk-container-id-7 pre{padding: 0;}#sk-container-id-7 div.sk-toggleable {background-color: white;}#sk-container-id-7 label.sk-toggleable__label {cursor: pointer;display: block;width: 100%;margin-bottom: 0;padding: 0.3em;box-sizing: border-box;text-align: center;}#sk-container-id-7 label.sk-toggleable__label-arrow:before {content: \"▸\";float: left;margin-right: 0.25em;color: #696969;}#sk-container-id-7 label.sk-toggleable__label-arrow:hover:before {color: black;}#sk-container-id-7 div.sk-estimator:hover label.sk-toggleable__label-arrow:before {color: black;}#sk-container-id-7 div.sk-toggleable__content {max-height: 0;max-width: 0;overflow: hidden;text-align: left;background-color: #f0f8ff;}#sk-container-id-7 div.sk-toggleable__content pre {margin: 0.2em;color: black;border-radius: 0.25em;background-color: #f0f8ff;}#sk-container-id-7 input.sk-toggleable__control:checked~div.sk-toggleable__content {max-height: 200px;max-width: 100%;overflow: auto;}#sk-container-id-7 input.sk-toggleable__control:checked~label.sk-toggleable__label-arrow:before {content: \"▾\";}#sk-container-id-7 div.sk-estimator input.sk-toggleable__control:checked~label.sk-toggleable__label {background-color: #d4ebff;}#sk-container-id-7 div.sk-label input.sk-toggleable__control:checked~label.sk-toggleable__label {background-color: #d4ebff;}#sk-container-id-7 input.sk-hidden--visually {border: 0;clip: rect(1px 1px 1px 1px);clip: rect(1px, 1px, 1px, 1px);height: 1px;margin: -1px;overflow: hidden;padding: 0;position: absolute;width: 1px;}#sk-container-id-7 div.sk-estimator {font-family: monospace;background-color: #f0f8ff;border: 1px dotted black;border-radius: 0.25em;box-sizing: border-box;margin-bottom: 0.5em;}#sk-container-id-7 div.sk-estimator:hover {background-color: #d4ebff;}#sk-container-id-7 div.sk-parallel-item::after {content: \"\";width: 100%;border-bottom: 1px solid gray;flex-grow: 1;}#sk-container-id-7 div.sk-label:hover label.sk-toggleable__label {background-color: #d4ebff;}#sk-container-id-7 div.sk-serial::before {content: \"\";position: absolute;border-left: 1px solid gray;box-sizing: border-box;top: 0;bottom: 0;left: 50%;z-index: 0;}#sk-container-id-7 div.sk-serial {display: flex;flex-direction: column;align-items: center;background-color: white;padding-right: 0.2em;padding-left: 0.2em;position: relative;}#sk-container-id-7 div.sk-item {position: relative;z-index: 1;}#sk-container-id-7 div.sk-parallel {display: flex;align-items: stretch;justify-content: center;background-color: white;position: relative;}#sk-container-id-7 div.sk-item::before, #sk-container-id-7 div.sk-parallel-item::before {content: \"\";position: absolute;border-left: 1px solid gray;box-sizing: border-box;top: 0;bottom: 0;left: 50%;z-index: -1;}#sk-container-id-7 div.sk-parallel-item {display: flex;flex-direction: column;z-index: 1;position: relative;background-color: white;}#sk-container-id-7 div.sk-parallel-item:first-child::after {align-self: flex-end;width: 50%;}#sk-container-id-7 div.sk-parallel-item:last-child::after {align-self: flex-start;width: 50%;}#sk-container-id-7 div.sk-parallel-item:only-child::after {width: 0;}#sk-container-id-7 div.sk-dashed-wrapped {border: 1px dashed gray;margin: 0 0.4em 0.5em 0.4em;box-sizing: border-box;padding-bottom: 0.4em;background-color: white;}#sk-container-id-7 div.sk-label label {font-family: monospace;font-weight: bold;display: inline-block;line-height: 1.2em;}#sk-container-id-7 div.sk-label-container {text-align: center;}#sk-container-id-7 div.sk-container {/* jupyter's `normalize.less` sets `[hidden] { display: none; }` but bootstrap.min.css set `[hidden] { display: none !important; }` so we also need the `!important` here to be able to override the default hidden behavior on the sphinx rendered scikit-learn.org. See: https://github.com/scikit-learn/scikit-learn/issues/21755 */display: inline-block !important;position: relative;}#sk-container-id-7 div.sk-text-repr-fallback {display: none;}</style><div id=\"sk-container-id-7\" class=\"sk-top-container\"><div class=\"sk-text-repr-fallback\"><pre>GridSearchCV(cv=10, estimator=KNeighborsClassifier(),\n",
       "             param_grid={&#x27;n_neighbors&#x27;: array([ 1,  2,  3,  4,  5,  6,  7,  8,  9, 10, 11, 12, 13, 14, 15, 16, 17,\n",
       "       18, 19, 20, 21, 22, 23, 24, 25, 26, 27, 28, 29, 30, 31, 32, 33, 34,\n",
       "       35, 36, 37, 38, 39, 40, 41, 42, 43, 44, 45, 46, 47, 48, 49])})</pre><b>In a Jupyter environment, please rerun this cell to show the HTML representation or trust the notebook. <br />On GitHub, the HTML representation is unable to render, please try loading this page with nbviewer.org.</b></div><div class=\"sk-container\" hidden><div class=\"sk-item sk-dashed-wrapped\"><div class=\"sk-label-container\"><div class=\"sk-label sk-toggleable\"><input class=\"sk-toggleable__control sk-hidden--visually\" id=\"sk-estimator-id-7\" type=\"checkbox\" ><label for=\"sk-estimator-id-7\" class=\"sk-toggleable__label sk-toggleable__label-arrow\">GridSearchCV</label><div class=\"sk-toggleable__content\"><pre>GridSearchCV(cv=10, estimator=KNeighborsClassifier(),\n",
       "             param_grid={&#x27;n_neighbors&#x27;: array([ 1,  2,  3,  4,  5,  6,  7,  8,  9, 10, 11, 12, 13, 14, 15, 16, 17,\n",
       "       18, 19, 20, 21, 22, 23, 24, 25, 26, 27, 28, 29, 30, 31, 32, 33, 34,\n",
       "       35, 36, 37, 38, 39, 40, 41, 42, 43, 44, 45, 46, 47, 48, 49])})</pre></div></div></div><div class=\"sk-parallel\"><div class=\"sk-parallel-item\"><div class=\"sk-item\"><div class=\"sk-label-container\"><div class=\"sk-label sk-toggleable\"><input class=\"sk-toggleable__control sk-hidden--visually\" id=\"sk-estimator-id-8\" type=\"checkbox\" ><label for=\"sk-estimator-id-8\" class=\"sk-toggleable__label sk-toggleable__label-arrow\">estimator: KNeighborsClassifier</label><div class=\"sk-toggleable__content\"><pre>KNeighborsClassifier()</pre></div></div></div><div class=\"sk-serial\"><div class=\"sk-item\"><div class=\"sk-estimator sk-toggleable\"><input class=\"sk-toggleable__control sk-hidden--visually\" id=\"sk-estimator-id-9\" type=\"checkbox\" ><label for=\"sk-estimator-id-9\" class=\"sk-toggleable__label sk-toggleable__label-arrow\">KNeighborsClassifier</label><div class=\"sk-toggleable__content\"><pre>KNeighborsClassifier()</pre></div></div></div></div></div></div></div></div></div></div>"
      ],
      "text/plain": [
       "GridSearchCV(cv=10, estimator=KNeighborsClassifier(),\n",
       "             param_grid={'n_neighbors': array([ 1,  2,  3,  4,  5,  6,  7,  8,  9, 10, 11, 12, 13, 14, 15, 16, 17,\n",
       "       18, 19, 20, 21, 22, 23, 24, 25, 26, 27, 28, 29, 30, 31, 32, 33, 34,\n",
       "       35, 36, 37, 38, 39, 40, 41, 42, 43, 44, 45, 46, 47, 48, 49])})"
      ]
     },
     "execution_count": 68,
     "metadata": {},
     "output_type": "execute_result"
    }
   ],
   "source": [
    "knn = KNeighborsClassifier()\n",
    "knn_cv = GridSearchCV(knn, knn_params, cv=10)\n",
    "knn_cv.fit(X_train, y_train)"
   ]
  },
  {
   "cell_type": "code",
   "execution_count": 70,
   "id": "edc848f4-88a1-44c4-9cc1-05a5bef11f33",
   "metadata": {
    "tags": []
   },
   "outputs": [
    {
     "name": "stdout",
     "output_type": "stream",
     "text": [
      "En iyi skor:0.748637316561845\n",
      "En iyi parametreler:{'n_neighbors': 11}\n"
     ]
    }
   ],
   "source": [
    "print(\"En iyi skor:\" + str(knn_cv.best_score_))\n",
    "print(\"En iyi parametreler:\" + str(knn_cv.best_params_))"
   ]
  },
  {
   "cell_type": "code",
   "execution_count": 72,
   "id": "fc0f4588-c255-4c31-8b80-0c1a7f483304",
   "metadata": {
    "tags": []
   },
   "outputs": [],
   "source": [
    "knn = KNeighborsClassifier(11)\n",
    "knn_tuned = knn.fit(X_train, y_train)"
   ]
  },
  {
   "cell_type": "code",
   "execution_count": 73,
   "id": "450c791e-0e4d-4ba9-b0a4-55cda27acd2f",
   "metadata": {
    "tags": []
   },
   "outputs": [
    {
     "data": {
      "text/plain": [
       "0.7316017316017316"
      ]
     },
     "execution_count": 73,
     "metadata": {},
     "output_type": "execute_result"
    }
   ],
   "source": [
    "knn_tuned.score(X_test, y_test)"
   ]
  },
  {
   "cell_type": "code",
   "execution_count": 74,
   "id": "df45f247-8c06-408b-912c-d257d93f5f1c",
   "metadata": {
    "tags": []
   },
   "outputs": [],
   "source": [
    "y_pred = knn_tuned.predict(X_test)"
   ]
  },
  {
   "cell_type": "code",
   "execution_count": 75,
   "id": "3c64c58f-feee-4564-9bd4-82eecd3a5017",
   "metadata": {
    "tags": []
   },
   "outputs": [
    {
     "data": {
      "text/plain": [
       "0.7316017316017316"
      ]
     },
     "execution_count": 75,
     "metadata": {},
     "output_type": "execute_result"
    }
   ],
   "source": [
    "accuracy_score(y_test, y_pred)"
   ]
  },
  {
   "cell_type": "markdown",
   "id": "fead2058-44de-40d3-901c-2584861c7933",
   "metadata": {},
   "source": [
    "# SVC"
   ]
  },
  {
   "cell_type": "markdown",
   "id": "c0b56c62-091a-476d-9d84-864a4d9bf05f",
   "metadata": {},
   "source": [
    "## Model & Tahmin"
   ]
  },
  {
   "cell_type": "code",
   "execution_count": 4,
   "id": "8e556bfe-b665-4233-b9ee-a79670ae6766",
   "metadata": {
    "tags": []
   },
   "outputs": [],
   "source": [
    "df = diabetes.copy()\n",
    "df = df.dropna()\n",
    "y = df[\"Outcome\"]\n",
    "X = df.drop([\"Outcome\"], axis = 1)\n",
    "X_train, X_test, y_train, y_test = train_test_split(X, y, test_size=0.30, random_state=42)"
   ]
  },
  {
   "cell_type": "code",
   "execution_count": 5,
   "id": "43cb93cd-d1b7-45bb-80fb-5fd1bfdb6a32",
   "metadata": {
    "tags": []
   },
   "outputs": [],
   "source": [
    "svm_model = SVC(kernel=\"linear\").fit(X_train, y_train)"
   ]
  },
  {
   "cell_type": "code",
   "execution_count": 6,
   "id": "f44ef686-1e02-4690-90ff-798d9ec3c056",
   "metadata": {
    "tags": []
   },
   "outputs": [
    {
     "data": {
      "text/html": [
       "<style>#sk-container-id-1 {color: black;}#sk-container-id-1 pre{padding: 0;}#sk-container-id-1 div.sk-toggleable {background-color: white;}#sk-container-id-1 label.sk-toggleable__label {cursor: pointer;display: block;width: 100%;margin-bottom: 0;padding: 0.3em;box-sizing: border-box;text-align: center;}#sk-container-id-1 label.sk-toggleable__label-arrow:before {content: \"▸\";float: left;margin-right: 0.25em;color: #696969;}#sk-container-id-1 label.sk-toggleable__label-arrow:hover:before {color: black;}#sk-container-id-1 div.sk-estimator:hover label.sk-toggleable__label-arrow:before {color: black;}#sk-container-id-1 div.sk-toggleable__content {max-height: 0;max-width: 0;overflow: hidden;text-align: left;background-color: #f0f8ff;}#sk-container-id-1 div.sk-toggleable__content pre {margin: 0.2em;color: black;border-radius: 0.25em;background-color: #f0f8ff;}#sk-container-id-1 input.sk-toggleable__control:checked~div.sk-toggleable__content {max-height: 200px;max-width: 100%;overflow: auto;}#sk-container-id-1 input.sk-toggleable__control:checked~label.sk-toggleable__label-arrow:before {content: \"▾\";}#sk-container-id-1 div.sk-estimator input.sk-toggleable__control:checked~label.sk-toggleable__label {background-color: #d4ebff;}#sk-container-id-1 div.sk-label input.sk-toggleable__control:checked~label.sk-toggleable__label {background-color: #d4ebff;}#sk-container-id-1 input.sk-hidden--visually {border: 0;clip: rect(1px 1px 1px 1px);clip: rect(1px, 1px, 1px, 1px);height: 1px;margin: -1px;overflow: hidden;padding: 0;position: absolute;width: 1px;}#sk-container-id-1 div.sk-estimator {font-family: monospace;background-color: #f0f8ff;border: 1px dotted black;border-radius: 0.25em;box-sizing: border-box;margin-bottom: 0.5em;}#sk-container-id-1 div.sk-estimator:hover {background-color: #d4ebff;}#sk-container-id-1 div.sk-parallel-item::after {content: \"\";width: 100%;border-bottom: 1px solid gray;flex-grow: 1;}#sk-container-id-1 div.sk-label:hover label.sk-toggleable__label {background-color: #d4ebff;}#sk-container-id-1 div.sk-serial::before {content: \"\";position: absolute;border-left: 1px solid gray;box-sizing: border-box;top: 0;bottom: 0;left: 50%;z-index: 0;}#sk-container-id-1 div.sk-serial {display: flex;flex-direction: column;align-items: center;background-color: white;padding-right: 0.2em;padding-left: 0.2em;position: relative;}#sk-container-id-1 div.sk-item {position: relative;z-index: 1;}#sk-container-id-1 div.sk-parallel {display: flex;align-items: stretch;justify-content: center;background-color: white;position: relative;}#sk-container-id-1 div.sk-item::before, #sk-container-id-1 div.sk-parallel-item::before {content: \"\";position: absolute;border-left: 1px solid gray;box-sizing: border-box;top: 0;bottom: 0;left: 50%;z-index: -1;}#sk-container-id-1 div.sk-parallel-item {display: flex;flex-direction: column;z-index: 1;position: relative;background-color: white;}#sk-container-id-1 div.sk-parallel-item:first-child::after {align-self: flex-end;width: 50%;}#sk-container-id-1 div.sk-parallel-item:last-child::after {align-self: flex-start;width: 50%;}#sk-container-id-1 div.sk-parallel-item:only-child::after {width: 0;}#sk-container-id-1 div.sk-dashed-wrapped {border: 1px dashed gray;margin: 0 0.4em 0.5em 0.4em;box-sizing: border-box;padding-bottom: 0.4em;background-color: white;}#sk-container-id-1 div.sk-label label {font-family: monospace;font-weight: bold;display: inline-block;line-height: 1.2em;}#sk-container-id-1 div.sk-label-container {text-align: center;}#sk-container-id-1 div.sk-container {/* jupyter's `normalize.less` sets `[hidden] { display: none; }` but bootstrap.min.css set `[hidden] { display: none !important; }` so we also need the `!important` here to be able to override the default hidden behavior on the sphinx rendered scikit-learn.org. See: https://github.com/scikit-learn/scikit-learn/issues/21755 */display: inline-block !important;position: relative;}#sk-container-id-1 div.sk-text-repr-fallback {display: none;}</style><div id=\"sk-container-id-1\" class=\"sk-top-container\"><div class=\"sk-text-repr-fallback\"><pre>SVC(kernel=&#x27;linear&#x27;)</pre><b>In a Jupyter environment, please rerun this cell to show the HTML representation or trust the notebook. <br />On GitHub, the HTML representation is unable to render, please try loading this page with nbviewer.org.</b></div><div class=\"sk-container\" hidden><div class=\"sk-item\"><div class=\"sk-estimator sk-toggleable\"><input class=\"sk-toggleable__control sk-hidden--visually\" id=\"sk-estimator-id-1\" type=\"checkbox\" checked><label for=\"sk-estimator-id-1\" class=\"sk-toggleable__label sk-toggleable__label-arrow\">SVC</label><div class=\"sk-toggleable__content\"><pre>SVC(kernel=&#x27;linear&#x27;)</pre></div></div></div></div></div>"
      ],
      "text/plain": [
       "SVC(kernel='linear')"
      ]
     },
     "execution_count": 6,
     "metadata": {},
     "output_type": "execute_result"
    }
   ],
   "source": [
    "svm_model"
   ]
  },
  {
   "cell_type": "code",
   "execution_count": 7,
   "id": "bf221b5e-f967-45b7-be99-deae3d2f8ca7",
   "metadata": {
    "tags": []
   },
   "outputs": [],
   "source": [
    "y_pred = svm_model.predict(X_test)"
   ]
  },
  {
   "cell_type": "code",
   "execution_count": 8,
   "id": "6d902f22-a38e-4958-982f-f350ee156ce2",
   "metadata": {
    "tags": []
   },
   "outputs": [
    {
     "data": {
      "text/plain": [
       "0.7445887445887446"
      ]
     },
     "execution_count": 8,
     "metadata": {},
     "output_type": "execute_result"
    }
   ],
   "source": [
    "accuracy_score(y_test, y_pred)"
   ]
  },
  {
   "cell_type": "markdown",
   "id": "aef1c5e8-8400-450f-b6e0-fbaa6bbdeafc",
   "metadata": {},
   "source": [
    "## Model Tuning"
   ]
  },
  {
   "cell_type": "code",
   "execution_count": 12,
   "id": "db121d54-b7bc-4f8c-99a0-9f3a6cc0e378",
   "metadata": {
    "tags": []
   },
   "outputs": [
    {
     "name": "stdout",
     "output_type": "stream",
     "text": [
      "Fitting 10 folds for each of 9 candidates, totalling 90 fits\n"
     ]
    },
    {
     "data": {
      "text/html": [
       "<style>#sk-container-id-2 {color: black;}#sk-container-id-2 pre{padding: 0;}#sk-container-id-2 div.sk-toggleable {background-color: white;}#sk-container-id-2 label.sk-toggleable__label {cursor: pointer;display: block;width: 100%;margin-bottom: 0;padding: 0.3em;box-sizing: border-box;text-align: center;}#sk-container-id-2 label.sk-toggleable__label-arrow:before {content: \"▸\";float: left;margin-right: 0.25em;color: #696969;}#sk-container-id-2 label.sk-toggleable__label-arrow:hover:before {color: black;}#sk-container-id-2 div.sk-estimator:hover label.sk-toggleable__label-arrow:before {color: black;}#sk-container-id-2 div.sk-toggleable__content {max-height: 0;max-width: 0;overflow: hidden;text-align: left;background-color: #f0f8ff;}#sk-container-id-2 div.sk-toggleable__content pre {margin: 0.2em;color: black;border-radius: 0.25em;background-color: #f0f8ff;}#sk-container-id-2 input.sk-toggleable__control:checked~div.sk-toggleable__content {max-height: 200px;max-width: 100%;overflow: auto;}#sk-container-id-2 input.sk-toggleable__control:checked~label.sk-toggleable__label-arrow:before {content: \"▾\";}#sk-container-id-2 div.sk-estimator input.sk-toggleable__control:checked~label.sk-toggleable__label {background-color: #d4ebff;}#sk-container-id-2 div.sk-label input.sk-toggleable__control:checked~label.sk-toggleable__label {background-color: #d4ebff;}#sk-container-id-2 input.sk-hidden--visually {border: 0;clip: rect(1px 1px 1px 1px);clip: rect(1px, 1px, 1px, 1px);height: 1px;margin: -1px;overflow: hidden;padding: 0;position: absolute;width: 1px;}#sk-container-id-2 div.sk-estimator {font-family: monospace;background-color: #f0f8ff;border: 1px dotted black;border-radius: 0.25em;box-sizing: border-box;margin-bottom: 0.5em;}#sk-container-id-2 div.sk-estimator:hover {background-color: #d4ebff;}#sk-container-id-2 div.sk-parallel-item::after {content: \"\";width: 100%;border-bottom: 1px solid gray;flex-grow: 1;}#sk-container-id-2 div.sk-label:hover label.sk-toggleable__label {background-color: #d4ebff;}#sk-container-id-2 div.sk-serial::before {content: \"\";position: absolute;border-left: 1px solid gray;box-sizing: border-box;top: 0;bottom: 0;left: 50%;z-index: 0;}#sk-container-id-2 div.sk-serial {display: flex;flex-direction: column;align-items: center;background-color: white;padding-right: 0.2em;padding-left: 0.2em;position: relative;}#sk-container-id-2 div.sk-item {position: relative;z-index: 1;}#sk-container-id-2 div.sk-parallel {display: flex;align-items: stretch;justify-content: center;background-color: white;position: relative;}#sk-container-id-2 div.sk-item::before, #sk-container-id-2 div.sk-parallel-item::before {content: \"\";position: absolute;border-left: 1px solid gray;box-sizing: border-box;top: 0;bottom: 0;left: 50%;z-index: -1;}#sk-container-id-2 div.sk-parallel-item {display: flex;flex-direction: column;z-index: 1;position: relative;background-color: white;}#sk-container-id-2 div.sk-parallel-item:first-child::after {align-self: flex-end;width: 50%;}#sk-container-id-2 div.sk-parallel-item:last-child::after {align-self: flex-start;width: 50%;}#sk-container-id-2 div.sk-parallel-item:only-child::after {width: 0;}#sk-container-id-2 div.sk-dashed-wrapped {border: 1px dashed gray;margin: 0 0.4em 0.5em 0.4em;box-sizing: border-box;padding-bottom: 0.4em;background-color: white;}#sk-container-id-2 div.sk-label label {font-family: monospace;font-weight: bold;display: inline-block;line-height: 1.2em;}#sk-container-id-2 div.sk-label-container {text-align: center;}#sk-container-id-2 div.sk-container {/* jupyter's `normalize.less` sets `[hidden] { display: none; }` but bootstrap.min.css set `[hidden] { display: none !important; }` so we also need the `!important` here to be able to override the default hidden behavior on the sphinx rendered scikit-learn.org. See: https://github.com/scikit-learn/scikit-learn/issues/21755 */display: inline-block !important;position: relative;}#sk-container-id-2 div.sk-text-repr-fallback {display: none;}</style><div id=\"sk-container-id-2\" class=\"sk-top-container\"><div class=\"sk-text-repr-fallback\"><pre>GridSearchCV(cv=10, estimator=SVC(kernel=&#x27;linear&#x27;), n_jobs=-1,\n",
       "             param_grid={&#x27;C&#x27;: array([1, 2, 3, 4, 5, 6, 7, 8, 9])}, verbose=2)</pre><b>In a Jupyter environment, please rerun this cell to show the HTML representation or trust the notebook. <br />On GitHub, the HTML representation is unable to render, please try loading this page with nbviewer.org.</b></div><div class=\"sk-container\" hidden><div class=\"sk-item sk-dashed-wrapped\"><div class=\"sk-label-container\"><div class=\"sk-label sk-toggleable\"><input class=\"sk-toggleable__control sk-hidden--visually\" id=\"sk-estimator-id-2\" type=\"checkbox\" ><label for=\"sk-estimator-id-2\" class=\"sk-toggleable__label sk-toggleable__label-arrow\">GridSearchCV</label><div class=\"sk-toggleable__content\"><pre>GridSearchCV(cv=10, estimator=SVC(kernel=&#x27;linear&#x27;), n_jobs=-1,\n",
       "             param_grid={&#x27;C&#x27;: array([1, 2, 3, 4, 5, 6, 7, 8, 9])}, verbose=2)</pre></div></div></div><div class=\"sk-parallel\"><div class=\"sk-parallel-item\"><div class=\"sk-item\"><div class=\"sk-label-container\"><div class=\"sk-label sk-toggleable\"><input class=\"sk-toggleable__control sk-hidden--visually\" id=\"sk-estimator-id-3\" type=\"checkbox\" ><label for=\"sk-estimator-id-3\" class=\"sk-toggleable__label sk-toggleable__label-arrow\">estimator: SVC</label><div class=\"sk-toggleable__content\"><pre>SVC(kernel=&#x27;linear&#x27;)</pre></div></div></div><div class=\"sk-serial\"><div class=\"sk-item\"><div class=\"sk-estimator sk-toggleable\"><input class=\"sk-toggleable__control sk-hidden--visually\" id=\"sk-estimator-id-4\" type=\"checkbox\" ><label for=\"sk-estimator-id-4\" class=\"sk-toggleable__label sk-toggleable__label-arrow\">SVC</label><div class=\"sk-toggleable__content\"><pre>SVC(kernel=&#x27;linear&#x27;)</pre></div></div></div></div></div></div></div></div></div></div>"
      ],
      "text/plain": [
       "GridSearchCV(cv=10, estimator=SVC(kernel='linear'), n_jobs=-1,\n",
       "             param_grid={'C': array([1, 2, 3, 4, 5, 6, 7, 8, 9])}, verbose=2)"
      ]
     },
     "execution_count": 12,
     "metadata": {},
     "output_type": "execute_result"
    }
   ],
   "source": [
    "svc_params = {\"C\": np.arange(1, 10)}\n",
    "svc = SVC(kernel=\"linear\")\n",
    "svc_cv_model = GridSearchCV(svc, svc_params, \n",
    "                            cv = 10, \n",
    "                            n_jobs=-1, \n",
    "                            verbose=2)\n",
    "\n",
    "svc_cv_model.fit(X_train, y_train)"
   ]
  },
  {
   "cell_type": "code",
   "execution_count": 13,
   "id": "cf7b4203-8d96-41b4-bf45-609729393244",
   "metadata": {
    "tags": []
   },
   "outputs": [
    {
     "name": "stdout",
     "output_type": "stream",
     "text": [
      "En iyi parametreler: {'C': 1}\n"
     ]
    }
   ],
   "source": [
    "print(\"En iyi parametreler: \" + str(svc_cv_model.best_params_))"
   ]
  },
  {
   "cell_type": "code",
   "execution_count": 14,
   "id": "93ea50e2-9999-47f1-998c-1a157fabca40",
   "metadata": {
    "tags": []
   },
   "outputs": [],
   "source": [
    "svc_tuned = SVC(kernel=\"linear\", C=5).fit(X_train, y_train)"
   ]
  },
  {
   "cell_type": "code",
   "execution_count": 16,
   "id": "21ec0f22-4caf-4e57-b5cf-2e050e217480",
   "metadata": {
    "tags": []
   },
   "outputs": [
    {
     "data": {
      "text/plain": [
       "0.7445887445887446"
      ]
     },
     "execution_count": 16,
     "metadata": {},
     "output_type": "execute_result"
    }
   ],
   "source": [
    "y_pred = svc_tuned.predict(X_test)\n",
    "accuracy_score(y_test, y_pred)"
   ]
  },
  {
   "cell_type": "markdown",
   "id": "6d62d299-c588-4f2f-8562-5b5b1032ce01",
   "metadata": {},
   "source": [
    "## Model & Tahmin# RBF SVC"
   ]
  },
  {
   "cell_type": "markdown",
   "id": "950dfbcb-5c61-4e46-adfa-a7807a63b6d6",
   "metadata": {},
   "source": [
    "## Model & Tahmin"
   ]
  },
  {
   "cell_type": "code",
   "execution_count": 18,
   "id": "bbf2f7fb-983f-4413-93ca-06c878414d3b",
   "metadata": {
    "tags": []
   },
   "outputs": [],
   "source": [
    "df = diabetes.copy()\n",
    "df = df.dropna()\n",
    "y = df[\"Outcome\"]\n",
    "X = df.drop([\"Outcome\"], axis = 1)\n",
    "X_train, X_test, y_train, y_test = train_test_split(X, y, test_size=0.30, random_state=42)"
   ]
  },
  {
   "cell_type": "code",
   "execution_count": 19,
   "id": "45e6a466-4e6b-4d1a-978e-3082c636a47a",
   "metadata": {
    "tags": []
   },
   "outputs": [],
   "source": [
    "rbf_svc_model = SVC(kernel = \"rbf\").fit(X_train, y_train)"
   ]
  },
  {
   "cell_type": "code",
   "execution_count": 21,
   "id": "574975f5-fb2a-4c64-bff3-245301b3960d",
   "metadata": {
    "tags": []
   },
   "outputs": [
    {
     "data": {
      "text/html": [
       "<style>#sk-container-id-3 {color: black;}#sk-container-id-3 pre{padding: 0;}#sk-container-id-3 div.sk-toggleable {background-color: white;}#sk-container-id-3 label.sk-toggleable__label {cursor: pointer;display: block;width: 100%;margin-bottom: 0;padding: 0.3em;box-sizing: border-box;text-align: center;}#sk-container-id-3 label.sk-toggleable__label-arrow:before {content: \"▸\";float: left;margin-right: 0.25em;color: #696969;}#sk-container-id-3 label.sk-toggleable__label-arrow:hover:before {color: black;}#sk-container-id-3 div.sk-estimator:hover label.sk-toggleable__label-arrow:before {color: black;}#sk-container-id-3 div.sk-toggleable__content {max-height: 0;max-width: 0;overflow: hidden;text-align: left;background-color: #f0f8ff;}#sk-container-id-3 div.sk-toggleable__content pre {margin: 0.2em;color: black;border-radius: 0.25em;background-color: #f0f8ff;}#sk-container-id-3 input.sk-toggleable__control:checked~div.sk-toggleable__content {max-height: 200px;max-width: 100%;overflow: auto;}#sk-container-id-3 input.sk-toggleable__control:checked~label.sk-toggleable__label-arrow:before {content: \"▾\";}#sk-container-id-3 div.sk-estimator input.sk-toggleable__control:checked~label.sk-toggleable__label {background-color: #d4ebff;}#sk-container-id-3 div.sk-label input.sk-toggleable__control:checked~label.sk-toggleable__label {background-color: #d4ebff;}#sk-container-id-3 input.sk-hidden--visually {border: 0;clip: rect(1px 1px 1px 1px);clip: rect(1px, 1px, 1px, 1px);height: 1px;margin: -1px;overflow: hidden;padding: 0;position: absolute;width: 1px;}#sk-container-id-3 div.sk-estimator {font-family: monospace;background-color: #f0f8ff;border: 1px dotted black;border-radius: 0.25em;box-sizing: border-box;margin-bottom: 0.5em;}#sk-container-id-3 div.sk-estimator:hover {background-color: #d4ebff;}#sk-container-id-3 div.sk-parallel-item::after {content: \"\";width: 100%;border-bottom: 1px solid gray;flex-grow: 1;}#sk-container-id-3 div.sk-label:hover label.sk-toggleable__label {background-color: #d4ebff;}#sk-container-id-3 div.sk-serial::before {content: \"\";position: absolute;border-left: 1px solid gray;box-sizing: border-box;top: 0;bottom: 0;left: 50%;z-index: 0;}#sk-container-id-3 div.sk-serial {display: flex;flex-direction: column;align-items: center;background-color: white;padding-right: 0.2em;padding-left: 0.2em;position: relative;}#sk-container-id-3 div.sk-item {position: relative;z-index: 1;}#sk-container-id-3 div.sk-parallel {display: flex;align-items: stretch;justify-content: center;background-color: white;position: relative;}#sk-container-id-3 div.sk-item::before, #sk-container-id-3 div.sk-parallel-item::before {content: \"\";position: absolute;border-left: 1px solid gray;box-sizing: border-box;top: 0;bottom: 0;left: 50%;z-index: -1;}#sk-container-id-3 div.sk-parallel-item {display: flex;flex-direction: column;z-index: 1;position: relative;background-color: white;}#sk-container-id-3 div.sk-parallel-item:first-child::after {align-self: flex-end;width: 50%;}#sk-container-id-3 div.sk-parallel-item:last-child::after {align-self: flex-start;width: 50%;}#sk-container-id-3 div.sk-parallel-item:only-child::after {width: 0;}#sk-container-id-3 div.sk-dashed-wrapped {border: 1px dashed gray;margin: 0 0.4em 0.5em 0.4em;box-sizing: border-box;padding-bottom: 0.4em;background-color: white;}#sk-container-id-3 div.sk-label label {font-family: monospace;font-weight: bold;display: inline-block;line-height: 1.2em;}#sk-container-id-3 div.sk-label-container {text-align: center;}#sk-container-id-3 div.sk-container {/* jupyter's `normalize.less` sets `[hidden] { display: none; }` but bootstrap.min.css set `[hidden] { display: none !important; }` so we also need the `!important` here to be able to override the default hidden behavior on the sphinx rendered scikit-learn.org. See: https://github.com/scikit-learn/scikit-learn/issues/21755 */display: inline-block !important;position: relative;}#sk-container-id-3 div.sk-text-repr-fallback {display: none;}</style><div id=\"sk-container-id-3\" class=\"sk-top-container\"><div class=\"sk-text-repr-fallback\"><pre>SVC()</pre><b>In a Jupyter environment, please rerun this cell to show the HTML representation or trust the notebook. <br />On GitHub, the HTML representation is unable to render, please try loading this page with nbviewer.org.</b></div><div class=\"sk-container\" hidden><div class=\"sk-item\"><div class=\"sk-estimator sk-toggleable\"><input class=\"sk-toggleable__control sk-hidden--visually\" id=\"sk-estimator-id-5\" type=\"checkbox\" checked><label for=\"sk-estimator-id-5\" class=\"sk-toggleable__label sk-toggleable__label-arrow\">SVC</label><div class=\"sk-toggleable__content\"><pre>SVC()</pre></div></div></div></div></div>"
      ],
      "text/plain": [
       "SVC()"
      ]
     },
     "execution_count": 21,
     "metadata": {},
     "output_type": "execute_result"
    }
   ],
   "source": [
    "rbf_svc_model"
   ]
  },
  {
   "cell_type": "code",
   "execution_count": 22,
   "id": "604110e4-9a92-47a8-8d9d-5290065ac523",
   "metadata": {
    "tags": []
   },
   "outputs": [
    {
     "data": {
      "text/plain": [
       "0.7359307359307359"
      ]
     },
     "execution_count": 22,
     "metadata": {},
     "output_type": "execute_result"
    }
   ],
   "source": [
    "y_pred = rbf_svc_model.predict(X_test)\n",
    "accuracy_score(y_test, y_pred)"
   ]
  },
  {
   "cell_type": "markdown",
   "id": "fabfaccb-b5a2-47f2-9c8c-965660367316",
   "metadata": {},
   "source": [
    "## Model Tuning"
   ]
  },
  {
   "cell_type": "code",
   "execution_count": 24,
   "id": "3649334c-dcf8-4c49-bbf8-8e2471d98960",
   "metadata": {
    "tags": []
   },
   "outputs": [],
   "source": [
    "svc_params = {\"C\": [0.0001, 0.001, 0.01, 0.1, 0.3,0.5, 0.8, 1, 3, 5, 8, 10, 50, 100], \n",
    "                     \"gamma\": [0.0001, 0.001, 0.01, 0.1, 0.3,0.5, 0.8, 1, 3, 5, 8, 10, 50, 100]}"
   ]
  },
  {
   "cell_type": "code",
   "execution_count": 25,
   "id": "5bb6e941-e0b9-4989-9345-d050ff270209",
   "metadata": {
    "tags": []
   },
   "outputs": [
    {
     "name": "stdout",
     "output_type": "stream",
     "text": [
      "Fitting 10 folds for each of 196 candidates, totalling 1960 fits\n"
     ]
    },
    {
     "data": {
      "text/html": [
       "<style>#sk-container-id-4 {color: black;}#sk-container-id-4 pre{padding: 0;}#sk-container-id-4 div.sk-toggleable {background-color: white;}#sk-container-id-4 label.sk-toggleable__label {cursor: pointer;display: block;width: 100%;margin-bottom: 0;padding: 0.3em;box-sizing: border-box;text-align: center;}#sk-container-id-4 label.sk-toggleable__label-arrow:before {content: \"▸\";float: left;margin-right: 0.25em;color: #696969;}#sk-container-id-4 label.sk-toggleable__label-arrow:hover:before {color: black;}#sk-container-id-4 div.sk-estimator:hover label.sk-toggleable__label-arrow:before {color: black;}#sk-container-id-4 div.sk-toggleable__content {max-height: 0;max-width: 0;overflow: hidden;text-align: left;background-color: #f0f8ff;}#sk-container-id-4 div.sk-toggleable__content pre {margin: 0.2em;color: black;border-radius: 0.25em;background-color: #f0f8ff;}#sk-container-id-4 input.sk-toggleable__control:checked~div.sk-toggleable__content {max-height: 200px;max-width: 100%;overflow: auto;}#sk-container-id-4 input.sk-toggleable__control:checked~label.sk-toggleable__label-arrow:before {content: \"▾\";}#sk-container-id-4 div.sk-estimator input.sk-toggleable__control:checked~label.sk-toggleable__label {background-color: #d4ebff;}#sk-container-id-4 div.sk-label input.sk-toggleable__control:checked~label.sk-toggleable__label {background-color: #d4ebff;}#sk-container-id-4 input.sk-hidden--visually {border: 0;clip: rect(1px 1px 1px 1px);clip: rect(1px, 1px, 1px, 1px);height: 1px;margin: -1px;overflow: hidden;padding: 0;position: absolute;width: 1px;}#sk-container-id-4 div.sk-estimator {font-family: monospace;background-color: #f0f8ff;border: 1px dotted black;border-radius: 0.25em;box-sizing: border-box;margin-bottom: 0.5em;}#sk-container-id-4 div.sk-estimator:hover {background-color: #d4ebff;}#sk-container-id-4 div.sk-parallel-item::after {content: \"\";width: 100%;border-bottom: 1px solid gray;flex-grow: 1;}#sk-container-id-4 div.sk-label:hover label.sk-toggleable__label {background-color: #d4ebff;}#sk-container-id-4 div.sk-serial::before {content: \"\";position: absolute;border-left: 1px solid gray;box-sizing: border-box;top: 0;bottom: 0;left: 50%;z-index: 0;}#sk-container-id-4 div.sk-serial {display: flex;flex-direction: column;align-items: center;background-color: white;padding-right: 0.2em;padding-left: 0.2em;position: relative;}#sk-container-id-4 div.sk-item {position: relative;z-index: 1;}#sk-container-id-4 div.sk-parallel {display: flex;align-items: stretch;justify-content: center;background-color: white;position: relative;}#sk-container-id-4 div.sk-item::before, #sk-container-id-4 div.sk-parallel-item::before {content: \"\";position: absolute;border-left: 1px solid gray;box-sizing: border-box;top: 0;bottom: 0;left: 50%;z-index: -1;}#sk-container-id-4 div.sk-parallel-item {display: flex;flex-direction: column;z-index: 1;position: relative;background-color: white;}#sk-container-id-4 div.sk-parallel-item:first-child::after {align-self: flex-end;width: 50%;}#sk-container-id-4 div.sk-parallel-item:last-child::after {align-self: flex-start;width: 50%;}#sk-container-id-4 div.sk-parallel-item:only-child::after {width: 0;}#sk-container-id-4 div.sk-dashed-wrapped {border: 1px dashed gray;margin: 0 0.4em 0.5em 0.4em;box-sizing: border-box;padding-bottom: 0.4em;background-color: white;}#sk-container-id-4 div.sk-label label {font-family: monospace;font-weight: bold;display: inline-block;line-height: 1.2em;}#sk-container-id-4 div.sk-label-container {text-align: center;}#sk-container-id-4 div.sk-container {/* jupyter's `normalize.less` sets `[hidden] { display: none; }` but bootstrap.min.css set `[hidden] { display: none !important; }` so we also need the `!important` here to be able to override the default hidden behavior on the sphinx rendered scikit-learn.org. See: https://github.com/scikit-learn/scikit-learn/issues/21755 */display: inline-block !important;position: relative;}#sk-container-id-4 div.sk-text-repr-fallback {display: none;}</style><div id=\"sk-container-id-4\" class=\"sk-top-container\"><div class=\"sk-text-repr-fallback\"><pre>GridSearchCV(cv=10, estimator=SVC(), n_jobs=-1,\n",
       "             param_grid={&#x27;C&#x27;: [0.0001, 0.001, 0.01, 0.1, 0.3, 0.5, 0.8, 1, 3, 5,\n",
       "                               8, 10, 50, 100],\n",
       "                         &#x27;gamma&#x27;: [0.0001, 0.001, 0.01, 0.1, 0.3, 0.5, 0.8, 1,\n",
       "                                   3, 5, 8, 10, 50, 100]},\n",
       "             verbose=2)</pre><b>In a Jupyter environment, please rerun this cell to show the HTML representation or trust the notebook. <br />On GitHub, the HTML representation is unable to render, please try loading this page with nbviewer.org.</b></div><div class=\"sk-container\" hidden><div class=\"sk-item sk-dashed-wrapped\"><div class=\"sk-label-container\"><div class=\"sk-label sk-toggleable\"><input class=\"sk-toggleable__control sk-hidden--visually\" id=\"sk-estimator-id-6\" type=\"checkbox\" ><label for=\"sk-estimator-id-6\" class=\"sk-toggleable__label sk-toggleable__label-arrow\">GridSearchCV</label><div class=\"sk-toggleable__content\"><pre>GridSearchCV(cv=10, estimator=SVC(), n_jobs=-1,\n",
       "             param_grid={&#x27;C&#x27;: [0.0001, 0.001, 0.01, 0.1, 0.3, 0.5, 0.8, 1, 3, 5,\n",
       "                               8, 10, 50, 100],\n",
       "                         &#x27;gamma&#x27;: [0.0001, 0.001, 0.01, 0.1, 0.3, 0.5, 0.8, 1,\n",
       "                                   3, 5, 8, 10, 50, 100]},\n",
       "             verbose=2)</pre></div></div></div><div class=\"sk-parallel\"><div class=\"sk-parallel-item\"><div class=\"sk-item\"><div class=\"sk-label-container\"><div class=\"sk-label sk-toggleable\"><input class=\"sk-toggleable__control sk-hidden--visually\" id=\"sk-estimator-id-7\" type=\"checkbox\" ><label for=\"sk-estimator-id-7\" class=\"sk-toggleable__label sk-toggleable__label-arrow\">estimator: SVC</label><div class=\"sk-toggleable__content\"><pre>SVC()</pre></div></div></div><div class=\"sk-serial\"><div class=\"sk-item\"><div class=\"sk-estimator sk-toggleable\"><input class=\"sk-toggleable__control sk-hidden--visually\" id=\"sk-estimator-id-8\" type=\"checkbox\" ><label for=\"sk-estimator-id-8\" class=\"sk-toggleable__label sk-toggleable__label-arrow\">SVC</label><div class=\"sk-toggleable__content\"><pre>SVC()</pre></div></div></div></div></div></div></div></div></div></div>"
      ],
      "text/plain": [
       "GridSearchCV(cv=10, estimator=SVC(), n_jobs=-1,\n",
       "             param_grid={'C': [0.0001, 0.001, 0.01, 0.1, 0.3, 0.5, 0.8, 1, 3, 5,\n",
       "                               8, 10, 50, 100],\n",
       "                         'gamma': [0.0001, 0.001, 0.01, 0.1, 0.3, 0.5, 0.8, 1,\n",
       "                                   3, 5, 8, 10, 50, 100]},\n",
       "             verbose=2)"
      ]
     },
     "execution_count": 25,
     "metadata": {},
     "output_type": "execute_result"
    }
   ],
   "source": [
    "svc = SVC()\n",
    "svc_cv_model = GridSearchCV(svc, svc_params, \n",
    "                            cv = 10, n_jobs=-1, verbose = 2)\n",
    "\n",
    "svc_cv_model.fit(X_train, y_train)"
   ]
  },
  {
   "cell_type": "code",
   "execution_count": 26,
   "id": "188bd028-49b6-4527-b8f8-4b83cae0f693",
   "metadata": {
    "tags": []
   },
   "outputs": [
    {
     "name": "stdout",
     "output_type": "stream",
     "text": [
      "En iyi parametreler: {'C': 8, 'gamma': 0.0001}\n"
     ]
    }
   ],
   "source": [
    "print(\"En iyi parametreler: \" + str(svc_cv_model.best_params_))"
   ]
  },
  {
   "cell_type": "code",
   "execution_count": 27,
   "id": "84e3f055-f1c0-4914-8503-f16129772fa8",
   "metadata": {
    "tags": []
   },
   "outputs": [],
   "source": [
    "svc_tuned = SVC(C=8, gamma=0.0001).fit(X_train, y_train)"
   ]
  },
  {
   "cell_type": "code",
   "execution_count": 28,
   "id": "dc78eda3-43a1-4e9f-a06d-bb46c7fc9ba9",
   "metadata": {
    "tags": []
   },
   "outputs": [
    {
     "data": {
      "text/plain": [
       "0.7402597402597403"
      ]
     },
     "execution_count": 28,
     "metadata": {},
     "output_type": "execute_result"
    }
   ],
   "source": [
    "y_pred = svc_tuned.predict(X_test)\n",
    "accuracy_score(y_test, y_pred)"
   ]
  },
  {
   "cell_type": "markdown",
   "id": "248e0a02-601a-4752-b02b-85b871befa88",
   "metadata": {},
   "source": [
    "# Yapay Sinir Ağları"
   ]
  },
  {
   "cell_type": "markdown",
   "id": "d094863f-d32b-4e30-8dab-13e5fa9b6d73",
   "metadata": {},
   "source": [
    "## Model & Tahmin"
   ]
  },
  {
   "cell_type": "code",
   "execution_count": 8,
   "id": "e2149b5b-4523-4467-bcc6-5dc8926bc687",
   "metadata": {
    "tags": []
   },
   "outputs": [],
   "source": [
    "df = diabetes.copy()\n",
    "df = df.dropna()\n",
    "y = df[\"Outcome\"]\n",
    "X = df.drop([\"Outcome\"], axis = 1)\n",
    "X_train, X_test, y_train, y_test = train_test_split(X, y, test_size=0.30, random_state=42)"
   ]
  },
  {
   "cell_type": "code",
   "execution_count": 10,
   "id": "0c19092a-38cb-42ce-be9f-0cc50e860f9a",
   "metadata": {
    "tags": []
   },
   "outputs": [],
   "source": [
    "from sklearn.preprocessing import StandardScaler"
   ]
  },
  {
   "cell_type": "code",
   "execution_count": 12,
   "id": "acfb5b60-59bf-425d-a67a-3b729f84f41e",
   "metadata": {
    "tags": []
   },
   "outputs": [],
   "source": [
    "scaler = StandardScaler()"
   ]
  },
  {
   "cell_type": "code",
   "execution_count": 14,
   "id": "0ed02b04-da5f-48c2-879e-66e27cc61d41",
   "metadata": {
    "tags": []
   },
   "outputs": [],
   "source": [
    "scaler.fit(X_train)\n",
    "X_train_scaled = scaler.transform(X_train)\n",
    "X_test_scaled = scaler.transform(X_test)"
   ]
  },
  {
   "cell_type": "code",
   "execution_count": 16,
   "id": "8af2c6e4-e751-48c9-b373-796369934cbd",
   "metadata": {
    "tags": []
   },
   "outputs": [
    {
     "data": {
      "text/plain": [
       "array([[ 0.69748316, -0.70719864, -0.64639893,  0.81207927,  0.95720244,\n",
       "         0.26575953, -0.11680393,  0.85019217],\n",
       "       [-0.52953881, -0.27388818,  0.29399563,  0.74746428, -0.6936878 ,\n",
       "         0.488933  , -0.94192338, -1.03426754],\n",
       "       [-0.52953881, -0.39769117, -0.31449497, -1.3202154 , -0.6936878 ,\n",
       "        -0.1543317 , -0.91266382, -1.03426754],\n",
       "       [ 1.31099414, -0.42864191,  0.57058226, -1.3202154 , -0.6936878 ,\n",
       "        -0.96825847,  1.12965312,  0.07927683],\n",
       "       [ 1.00423865,  0.46892976,  1.12375553, -1.3202154 , -0.6936878 ,\n",
       "        -0.27248236, -0.76051413,  1.44979298]])"
      ]
     },
     "execution_count": 16,
     "metadata": {},
     "output_type": "execute_result"
    }
   ],
   "source": [
    "X_test_scaled[0:5]"
   ]
  },
  {
   "cell_type": "code",
   "execution_count": 18,
   "id": "4a6888bf-ab7c-4405-a832-3d16f8198a93",
   "metadata": {
    "tags": []
   },
   "outputs": [],
   "source": [
    "from sklearn.neural_network import MLPClassifier"
   ]
  },
  {
   "cell_type": "code",
   "execution_count": 20,
   "id": "244762ec-9273-4323-a339-e211cab87ba0",
   "metadata": {
    "tags": []
   },
   "outputs": [],
   "source": [
    "mlpc = MLPClassifier().fit(X_train_scaled, y_train)"
   ]
  },
  {
   "cell_type": "code",
   "execution_count": 28,
   "id": "ea0bc3f0-2b65-45b2-82e4-e728b03c821d",
   "metadata": {
    "collapsed": true,
    "jupyter": {
     "outputs_hidden": true
    },
    "tags": []
   },
   "outputs": [
    {
     "data": {
      "text/plain": [
       "[array([[ 1.56824397e-01, -3.37505770e-02, -2.37643582e-02,\n",
       "          9.84130506e-02,  3.20964717e-02, -3.10868504e-01,\n",
       "         -2.07099677e-04,  1.10582432e-01,  9.23132169e-02,\n",
       "          5.84399361e-02, -9.19295331e-02, -1.33387637e-01,\n",
       "         -2.18355937e-01, -2.44803799e-01,  1.72898207e-01,\n",
       "          2.45897826e-02,  1.81051883e-01,  2.43443011e-01,\n",
       "          3.22043234e-02, -4.45430932e-02,  1.20022084e-01,\n",
       "         -4.58490257e-01,  2.03886522e-01,  1.15408116e-01,\n",
       "          3.02487465e-02,  1.75040210e-01, -2.20037179e-01,\n",
       "         -1.01998919e-01, -1.96024032e-01,  1.30339601e-02,\n",
       "          8.74454194e-02,  1.20772724e-01,  1.31425962e-01,\n",
       "          2.09097105e-01, -4.73592657e-02, -2.99256967e-01,\n",
       "         -3.80848827e-02,  7.54596713e-02,  2.67303027e-01,\n",
       "         -3.11041265e-02,  5.52625791e-02, -4.39512703e-01,\n",
       "         -1.28495984e-01,  2.35883138e-01,  1.05039952e-01,\n",
       "         -3.14142190e-01,  5.47919271e-02,  9.08439371e-02,\n",
       "         -1.88123525e-01, -7.00469251e-02, -1.94927924e-01,\n",
       "          1.39319908e-02, -8.84834061e-02,  1.32713168e-01,\n",
       "         -1.46564211e-01,  5.45281342e-02,  2.26748309e-02,\n",
       "          8.99648753e-02, -5.13549782e-02, -1.22469252e-01,\n",
       "         -2.12485934e-01,  2.05410375e-01,  2.56481687e-01,\n",
       "         -6.39475121e-02, -1.33859460e-01, -2.68174396e-02,\n",
       "         -6.25606756e-02,  2.30523155e-01, -3.16313490e-01,\n",
       "         -6.44751148e-03, -4.36620111e-02,  2.63650257e-01,\n",
       "         -1.93766979e-01,  6.09410994e-03,  7.47204667e-02,\n",
       "          2.36266169e-01, -4.35264846e-01, -2.40772503e-01,\n",
       "          7.29548133e-03,  2.40441749e-02,  2.29616640e-01,\n",
       "         -2.37364228e-01, -6.39876442e-02, -2.40914673e-01,\n",
       "         -5.32458253e-03,  1.77099973e-01,  2.58390124e-01,\n",
       "          2.37657030e-01, -2.09096992e-02,  2.75370376e-01,\n",
       "          1.36175962e-01, -2.47089649e-01, -1.88090781e-01,\n",
       "          1.71124707e-01, -1.55725453e-01, -6.06394286e-02,\n",
       "         -1.89135915e-01, -9.20926251e-02,  2.12288154e-01,\n",
       "          2.83983352e-01],\n",
       "        [ 4.02229058e-02, -1.88227695e-01,  8.77420596e-02,\n",
       "         -1.97778976e-01,  1.37669210e-01,  2.60439975e-01,\n",
       "         -1.42346015e-01,  9.02989859e-02,  1.59116681e-01,\n",
       "         -1.44857432e-01, -2.25743422e-01,  4.09012253e-02,\n",
       "          2.66830980e-02, -1.57030149e-01,  1.06376328e-01,\n",
       "          1.61239125e-02,  1.10851725e-01,  7.21151474e-02,\n",
       "          2.54928320e-01,  3.06132550e-02,  2.07026741e-01,\n",
       "          3.90510709e-01, -1.05642941e-01, -2.35660005e-03,\n",
       "          2.48287224e-01, -1.11945105e-02,  3.90953362e-01,\n",
       "         -4.39134547e-02, -9.13453762e-03, -1.96671369e-01,\n",
       "         -6.18693091e-02,  5.06056492e-02,  4.74990080e-02,\n",
       "          1.88319778e-01,  2.62556457e-03, -1.70260786e-01,\n",
       "         -2.19837816e-01, -1.51353859e-01,  1.72406202e-01,\n",
       "         -4.83798963e-02, -1.28163675e-01,  3.22515078e-01,\n",
       "         -1.62534368e-01, -1.55403572e-01, -1.04091314e-01,\n",
       "         -1.77818396e-01, -1.41620686e-01, -6.27231847e-04,\n",
       "          1.89909791e-01,  3.45089835e-01, -3.22343748e-01,\n",
       "         -9.60658374e-02, -3.53541553e-02, -1.07247622e-01,\n",
       "         -8.81138571e-02,  7.55042985e-03, -2.42460392e-01,\n",
       "          2.61070040e-02, -8.17352223e-02,  3.27296957e-02,\n",
       "         -4.12411196e-02,  1.32485702e-01,  2.91524644e-01,\n",
       "          2.81526601e-01,  9.31755288e-02, -1.89395782e-01,\n",
       "          6.90695427e-02,  4.66964506e-02, -1.09167598e-01,\n",
       "          1.39704918e-01, -2.28085768e-01, -1.61175021e-01,\n",
       "         -1.10130390e-01, -2.78449800e-02,  2.40725573e-01,\n",
       "          1.90299672e-01,  1.62934347e-01,  2.55266687e-01,\n",
       "         -1.54491789e-02,  2.82693853e-01,  1.50049364e-01,\n",
       "          1.50054458e-01, -1.41259319e-01,  1.64861762e-01,\n",
       "         -1.19006271e-01, -3.22729241e-01,  4.81191136e-02,\n",
       "          1.73356987e-01,  5.46565973e-02,  8.62343374e-02,\n",
       "         -6.79001763e-02,  4.20246552e-01, -2.93857750e-01,\n",
       "          3.08621658e-01, -5.97957821e-03,  1.00451913e-02,\n",
       "          4.31566419e-03,  8.86986691e-02,  4.72206332e-02,\n",
       "         -8.45763125e-02],\n",
       "        [-1.84961049e-01,  3.82430997e-01,  1.30705748e-01,\n",
       "          4.93218352e-02,  7.62256471e-02, -1.68908337e-01,\n",
       "          6.90362394e-02,  1.54618276e-01, -7.36486107e-02,\n",
       "          1.67835319e-01, -9.90570728e-02, -7.43261162e-04,\n",
       "          7.18595639e-02, -1.11126436e-01, -1.69353265e-01,\n",
       "          1.60962942e-01, -1.37609755e-01,  1.39016872e-01,\n",
       "          7.79307306e-02, -3.99674782e-02, -8.50421214e-02,\n",
       "          2.22886174e-01, -9.29626667e-02, -3.25071629e-01,\n",
       "         -7.55100468e-02,  5.15278611e-02, -1.92412074e-01,\n",
       "         -2.73457418e-01,  8.24669383e-02,  2.06285620e-01,\n",
       "          3.49661187e-01, -4.19619861e-02, -1.67536591e-01,\n",
       "         -2.43383605e-01,  1.49170036e-01,  1.02013774e-01,\n",
       "          1.47185131e-01,  5.83622555e-02, -1.92893704e-01,\n",
       "         -1.09557281e-01,  9.21753303e-02,  1.77322501e-01,\n",
       "         -1.45235720e-01,  8.86703096e-02,  4.45508812e-01,\n",
       "         -3.09077438e-02, -2.34404176e-01, -2.52685801e-02,\n",
       "         -1.76558552e-01, -2.71554237e-01, -3.67715588e-02,\n",
       "         -1.18595319e-01, -2.23285170e-01, -1.23539938e-03,\n",
       "         -1.49954411e-01, -9.62473244e-02,  1.56289522e-01,\n",
       "          4.84842937e-02,  2.19253839e-01, -9.91496961e-02,\n",
       "         -2.73605740e-02, -3.16178521e-02, -4.61000197e-02,\n",
       "          2.23843983e-01,  1.68345851e-01, -6.30655795e-02,\n",
       "         -5.41192625e-02,  3.19362004e-02, -1.58817796e-02,\n",
       "         -3.56241138e-01, -3.20870851e-01, -2.00632991e-01,\n",
       "         -2.48632051e-01, -1.95545341e-01,  2.69085576e-01,\n",
       "         -2.04043791e-01, -1.16884548e-01, -1.49668871e-01,\n",
       "         -8.29298422e-02,  2.16760934e-01, -8.67006109e-02,\n",
       "          2.00512750e-03,  2.14891740e-01,  1.64273522e-01,\n",
       "          1.29610362e-01,  2.02280236e-01, -2.15868902e-01,\n",
       "         -2.13475176e-01, -1.92790083e-01, -2.23078115e-01,\n",
       "          1.02777206e-03, -1.07445035e-01, -1.24967631e-01,\n",
       "          3.11301211e-02, -2.34814960e-02,  1.65262328e-01,\n",
       "          2.22569304e-01,  3.51587924e-02, -1.75608549e-01,\n",
       "         -9.64059247e-04],\n",
       "        [ 4.02547004e-02,  1.47954943e-01,  1.35705478e-01,\n",
       "          1.12589098e-01, -1.59356331e-01,  1.54320210e-01,\n",
       "         -3.15994894e-01,  2.22644827e-01,  2.13933750e-01,\n",
       "         -2.52641287e-01, -2.60084951e-01, -6.29025154e-02,\n",
       "         -2.38195130e-01,  1.46289328e-01,  2.44395608e-01,\n",
       "          1.69906586e-02,  2.31979755e-01, -2.39597430e-01,\n",
       "          2.94877777e-01, -5.13856014e-02,  6.83400460e-02,\n",
       "          2.39263115e-01, -7.49884840e-02, -2.34319026e-01,\n",
       "          3.38853269e-02, -7.93779651e-02,  2.56404002e-01,\n",
       "          1.74887749e-02,  1.21679336e-01, -4.76730164e-01,\n",
       "         -2.71342126e-01,  6.47387164e-02, -1.17669352e-01,\n",
       "         -2.37136071e-01, -1.18717297e-02, -2.61619601e-01,\n",
       "          1.15701481e-01, -2.54572615e-01,  1.76224384e-01,\n",
       "         -1.61461345e-02,  2.73611278e-01, -4.40590220e-02,\n",
       "          2.80210145e-01,  2.31375340e-01, -6.06024279e-02,\n",
       "          3.89474179e-02, -6.05458055e-02,  1.61939195e-01,\n",
       "         -2.11130849e-01, -1.32152354e-01,  4.22948554e-02,\n",
       "          1.47656954e-01,  7.34669523e-02, -1.03254561e-01,\n",
       "         -1.29877323e-01,  8.18918685e-02, -1.29154279e-01,\n",
       "         -3.37584230e-01,  1.68403175e-01,  2.80261787e-01,\n",
       "          7.92560034e-02, -8.95751106e-02,  1.41397312e-01,\n",
       "          7.36724693e-02, -8.48745319e-02, -1.57052546e-01,\n",
       "          1.42182904e-01, -1.43812565e-01,  1.43681364e-02,\n",
       "          1.21219593e-02,  1.08071431e-01, -1.38631324e-01,\n",
       "          3.36167238e-02,  1.02945640e-01,  3.61780979e-02,\n",
       "         -1.36376337e-02, -6.82191805e-02, -2.76473731e-01,\n",
       "          8.97945580e-02,  2.75442623e-01,  2.23637616e-01,\n",
       "         -2.39552882e-01, -2.14509381e-01, -3.70333321e-01,\n",
       "         -1.79533347e-02,  3.63587762e-01,  1.77799998e-01,\n",
       "         -8.44763058e-02,  1.43100873e-01, -2.38321107e-01,\n",
       "          8.54920718e-03, -1.47054258e-01,  9.73052099e-02,\n",
       "          8.08799911e-02, -9.11487527e-02, -2.26761961e-01,\n",
       "          2.62894623e-01,  1.53101649e-01, -3.76373453e-02,\n",
       "          8.43947067e-02],\n",
       "        [-2.89598085e-02, -1.54798014e-01, -3.28585990e-01,\n",
       "         -2.06775058e-02,  1.22187477e-01, -2.40458557e-01,\n",
       "          1.83759957e-01, -4.23112864e-01,  3.08005960e-02,\n",
       "         -2.71546355e-01, -1.07186785e-01, -5.35679378e-02,\n",
       "          4.63111137e-02, -2.37152469e-01,  3.18748573e-01,\n",
       "         -1.65984368e-02, -1.62360738e-01,  2.24567258e-01,\n",
       "         -1.77780076e-01,  3.73773696e-03, -1.36966055e-02,\n",
       "          2.47608435e-01,  1.24163781e-01,  1.03228706e-01,\n",
       "         -2.59897996e-01,  1.16473122e-01,  1.26945943e-01,\n",
       "          6.41864397e-02, -8.71987768e-02,  2.60521145e-01,\n",
       "          9.65215343e-02, -3.45937675e-02, -9.92103410e-02,\n",
       "         -1.94055009e-01,  5.11202328e-02,  6.49226514e-02,\n",
       "          3.89230359e-02, -1.13864314e-01, -2.25050971e-01,\n",
       "          1.41814588e-01, -1.43049833e-01,  1.41265162e-01,\n",
       "         -3.47357139e-02, -1.69199540e-01, -2.72173208e-01,\n",
       "          1.70534396e-01, -5.09859755e-02,  5.80806169e-02,\n",
       "         -8.81361558e-02, -1.24110429e-01,  2.19130741e-01,\n",
       "          1.05290641e-01,  2.08086549e-01,  1.33282435e-01,\n",
       "          1.72640714e-01,  6.45603337e-03, -4.24151260e-03,\n",
       "          3.42258813e-02, -1.28473964e-01, -2.23696717e-01,\n",
       "          1.72345767e-01, -2.33919656e-01,  1.69792556e-01,\n",
       "          3.38557266e-01,  1.44849384e-01, -4.88372850e-02,\n",
       "         -2.49251029e-01, -1.99008812e-01,  1.34454755e-01,\n",
       "          1.50745577e-01,  2.26618919e-01, -4.61460032e-01,\n",
       "         -3.51292412e-01,  1.78699600e-01,  2.23684268e-01,\n",
       "          9.04989559e-02,  1.21050598e-01,  6.86063923e-02,\n",
       "         -1.47949491e-01,  1.15997732e-01, -7.60213797e-02,\n",
       "         -1.55099657e-01,  9.94335336e-02,  1.12874375e-01,\n",
       "          5.02861754e-02,  7.10211420e-02, -1.63915303e-01,\n",
       "         -2.06391591e-01,  1.81697901e-02, -2.91285923e-01,\n",
       "         -9.34503483e-03, -1.52319875e-01,  1.24110841e-01,\n",
       "         -2.85969561e-01, -1.53767988e-01, -6.17910799e-02,\n",
       "         -2.65861131e-01,  7.99744242e-02,  2.40018286e-01,\n",
       "         -4.25268883e-02],\n",
       "        [ 9.23142487e-02,  1.38707563e-01, -2.54643563e-02,\n",
       "          7.11963102e-02,  2.74408577e-01,  1.01336670e-01,\n",
       "         -9.40636932e-02,  8.22982645e-02,  1.90223243e-01,\n",
       "         -3.44794529e-02, -9.88598523e-02,  8.82533142e-02,\n",
       "         -7.61738529e-02,  1.39455447e-01, -5.83062354e-02,\n",
       "         -1.49704217e-01,  4.97003701e-02, -1.24391489e-01,\n",
       "         -5.80343815e-02, -3.66718021e-01, -1.17508212e-01,\n",
       "         -7.75292077e-02,  2.28833264e-01, -1.60987355e-01,\n",
       "         -1.32429274e-01,  1.75002905e-01,  1.13906152e-01,\n",
       "         -2.32317896e-01, -1.95668772e-01,  3.38410493e-02,\n",
       "          4.13174390e-01,  2.08966703e-02, -8.45530519e-02,\n",
       "          1.54873270e-01,  8.04441389e-02, -1.08663019e-01,\n",
       "          4.74273911e-02,  6.06701343e-02,  1.53940807e-01,\n",
       "         -7.01923480e-02,  1.90594483e-01,  5.80830577e-02,\n",
       "          4.09094807e-02, -2.45559516e-01, -1.80888835e-01,\n",
       "         -1.35178314e-01, -3.91020032e-01, -1.24336809e-01,\n",
       "          8.91630657e-02, -1.10288725e-01, -1.22701966e-01,\n",
       "         -2.28283471e-01,  1.14778760e-01, -1.01064325e-02,\n",
       "         -1.41221631e-01,  2.58477143e-01, -1.59849965e-01,\n",
       "          7.45005336e-02, -1.87510529e-01, -1.24584466e-02,\n",
       "          7.15596480e-02, -4.27764174e-02, -1.76648471e-01,\n",
       "          1.63310452e-01, -2.38151166e-01,  2.81324806e-01,\n",
       "          1.47000925e-01, -4.51792946e-02, -1.28551010e-01,\n",
       "         -1.85159092e-01, -3.22849730e-01,  3.76385753e-01,\n",
       "          5.98979380e-02,  1.35820164e-01,  1.38233675e-01,\n",
       "          4.23537621e-02,  1.07771155e-01, -8.27177890e-02,\n",
       "          8.99391424e-02,  1.66550906e-01,  1.57602429e-01,\n",
       "          2.16894200e-01,  7.60470496e-02, -1.15191655e-02,\n",
       "         -2.07423893e-01,  2.33192456e-01, -3.48283466e-01,\n",
       "          2.70098851e-01,  1.45838401e-01,  1.70017377e-01,\n",
       "          1.36000665e-02,  1.80889255e-01,  9.74009324e-02,\n",
       "         -8.64732835e-02,  1.19169670e-01,  9.79188171e-02,\n",
       "          2.16537256e-02, -1.20772170e-01,  6.67736114e-02,\n",
       "         -1.34611951e-01],\n",
       "        [-3.44377552e-01, -3.76928532e-01,  8.94500412e-02,\n",
       "         -1.26489244e-01, -2.08634508e-01,  1.18211218e-01,\n",
       "         -1.65868402e-01,  2.15746567e-01,  2.11635809e-01,\n",
       "          5.55972963e-02,  1.44006614e-01,  2.62407202e-01,\n",
       "          2.82179383e-01, -1.10953195e-01,  1.69267242e-01,\n",
       "          2.11110686e-01, -3.83614305e-01, -2.20225638e-01,\n",
       "          1.49845042e-01, -8.69910965e-02,  6.04303878e-02,\n",
       "         -2.23205446e-01, -4.26935399e-02,  4.10509774e-01,\n",
       "          1.24967329e-01, -4.01745202e-01, -1.55393335e-02,\n",
       "          1.48913073e-01, -1.18972333e-01, -2.85379300e-01,\n",
       "          9.48492850e-02, -5.33200786e-01,  3.09896033e-02,\n",
       "         -1.38467597e-01,  4.41409376e-01,  5.62058713e-02,\n",
       "         -4.07700401e-02, -2.79551388e-01,  1.48974653e-01,\n",
       "          2.83244077e-01,  1.69431788e-01, -3.13233774e-02,\n",
       "          1.73120257e-01,  2.38201859e-01, -3.73937911e-01,\n",
       "          8.79767595e-02, -8.31758004e-02, -2.02817746e-01,\n",
       "          1.43052417e-01, -3.45325992e-02, -6.88647740e-02,\n",
       "         -2.25733424e-02, -1.27798385e-01,  2.22833829e-01,\n",
       "         -3.03043430e-01, -1.41483978e-02,  2.05334149e-01,\n",
       "          3.23403489e-01,  1.74453601e-01, -2.80077815e-01,\n",
       "          1.41808872e-01,  2.19021871e-01,  1.59353876e-01,\n",
       "          1.76708113e-01, -2.44270264e-01, -1.67750871e-03,\n",
       "          2.18453047e-01, -1.61544054e-01, -3.23108432e-01,\n",
       "          2.32404371e-01, -3.37681276e-01, -1.55567513e-01,\n",
       "          1.56545606e-01, -1.15789812e-01,  1.86129670e-01,\n",
       "          9.51003457e-02, -1.03199534e-01, -4.80404150e-02,\n",
       "         -3.57300543e-01,  7.45500069e-02, -4.25700044e-01,\n",
       "         -2.59322071e-01,  3.83627788e-02, -2.93328029e-01,\n",
       "          3.30654845e-02,  6.96675114e-02, -1.43845167e-01,\n",
       "          8.89181861e-02, -1.10445737e-01, -1.46613729e-01,\n",
       "         -3.29243280e-01, -2.12340842e-01,  1.43970621e-02,\n",
       "          1.15340544e-01,  1.36374337e-01, -2.89777732e-01,\n",
       "         -4.07654963e-01, -9.17455958e-02, -1.07292535e-01,\n",
       "          9.88123158e-02],\n",
       "        [ 1.22919460e-01, -4.57306745e-03,  7.44896669e-02,\n",
       "         -2.25719396e-01,  2.16830445e-01,  2.45015124e-02,\n",
       "         -4.24385774e-01,  2.68472014e-01,  2.36436891e-01,\n",
       "         -9.92150443e-02,  1.61266010e-01,  2.72354647e-01,\n",
       "          1.13677120e-01, -3.44096453e-01,  8.54586428e-02,\n",
       "         -2.99484371e-01,  2.17922797e-01, -1.31194596e-01,\n",
       "         -2.06656018e-01, -3.12657336e-02, -2.44790600e-02,\n",
       "          1.04722036e-01,  4.51765592e-02,  7.22197762e-02,\n",
       "         -9.06913067e-02,  1.13935569e-01,  1.68271938e-02,\n",
       "          2.53541231e-01, -3.59138851e-02, -5.45990558e-01,\n",
       "         -1.57031012e-01,  3.64831927e-01, -1.01107082e-01,\n",
       "         -1.12233706e-01, -1.39136660e-01, -2.89827025e-01,\n",
       "         -4.38507687e-02, -2.76753481e-01, -2.54877510e-01,\n",
       "         -1.46557043e-01, -1.02523435e-01,  1.63479498e-01,\n",
       "          1.70970172e-01, -9.42111826e-02,  1.00959436e-02,\n",
       "         -2.50625979e-01,  2.99582471e-01, -4.12863821e-01,\n",
       "         -3.75292316e-02, -6.16025612e-02, -1.50581201e-01,\n",
       "         -3.20102971e-01, -3.94600729e-01,  2.00790165e-02,\n",
       "         -3.52281433e-01, -1.33187584e-02,  1.12721168e-01,\n",
       "         -1.72783495e-01,  1.64359729e-01, -2.41591594e-01,\n",
       "         -3.69566840e-01, -1.25513334e-01, -1.63985089e-01,\n",
       "          2.50621857e-01, -3.42302638e-01,  1.95938264e-01,\n",
       "          5.69085311e-02,  4.34822538e-01, -1.78112995e-01,\n",
       "          2.21552556e-01, -3.28685453e-01,  3.82739106e-02,\n",
       "         -6.79280104e-02, -3.34683893e-01,  3.57408476e-02,\n",
       "         -1.95168250e-01,  2.28710601e-01,  1.16999369e-01,\n",
       "          3.11273788e-01, -5.50304286e-02,  3.01902320e-01,\n",
       "         -5.03048913e-03, -2.11052542e-01,  1.64600766e-01,\n",
       "         -4.38870532e-01,  2.71906497e-01,  3.28924587e-01,\n",
       "         -2.48123740e-01,  2.19598505e-01, -2.31466470e-01,\n",
       "         -1.48703430e-01,  3.26631918e-02,  8.05600462e-03,\n",
       "         -1.59016436e-01,  3.27449630e-02, -3.12778156e-01,\n",
       "         -1.20828598e-01, -2.49349307e-01,  1.81074437e-01,\n",
       "         -9.94723719e-02]]),\n",
       " array([[-0.25227502],\n",
       "        [-0.37687006],\n",
       "        [-0.10301369],\n",
       "        [-0.19179366],\n",
       "        [ 0.2865249 ],\n",
       "        [ 0.40551127],\n",
       "        [-0.56306497],\n",
       "        [-0.16836655],\n",
       "        [-0.15296732],\n",
       "        [-0.24127923],\n",
       "        [-0.26631145],\n",
       "        [-0.19800118],\n",
       "        [-0.08158068],\n",
       "        [-0.32351796],\n",
       "        [ 0.32329408],\n",
       "        [-0.2743862 ],\n",
       "        [-0.33615774],\n",
       "        [ 0.23995461],\n",
       "        [ 0.17389026],\n",
       "        [-0.20743129],\n",
       "        [ 0.16590352],\n",
       "        [ 0.3539479 ],\n",
       "        [ 0.23841745],\n",
       "        [-0.38872429],\n",
       "        [ 0.29289802],\n",
       "        [-0.12141   ],\n",
       "        [ 0.24897051],\n",
       "        [-0.34632466],\n",
       "        [-0.04333171],\n",
       "        [-0.32536129],\n",
       "        [-0.46404859],\n",
       "        [-0.14349252],\n",
       "        [ 0.14776279],\n",
       "        [ 0.37964087],\n",
       "        [-0.43407665],\n",
       "        [-0.49519504],\n",
       "        [-0.06162803],\n",
       "        [-0.19904371],\n",
       "        [ 0.31488278],\n",
       "        [-0.32891269],\n",
       "        [ 0.21491241],\n",
       "        [ 0.30138798],\n",
       "        [ 0.2006514 ],\n",
       "        [ 0.16315441],\n",
       "        [-0.16389451],\n",
       "        [-0.33160593],\n",
       "        [-0.35223045],\n",
       "        [-0.20610141],\n",
       "        [ 0.25277334],\n",
       "        [ 0.21649492],\n",
       "        [-0.32240923],\n",
       "        [-0.37019397],\n",
       "        [-0.33674292],\n",
       "        [-0.16069143],\n",
       "        [-0.27639537],\n",
       "        [ 0.23093035],\n",
       "        [ 0.045613  ],\n",
       "        [-0.09091326],\n",
       "        [-0.00743999],\n",
       "        [-0.32317536],\n",
       "        [-0.30263164],\n",
       "        [ 0.28125341],\n",
       "        [ 0.25714659],\n",
       "        [ 0.34063581],\n",
       "        [-0.17901846],\n",
       "        [ 0.1588068 ],\n",
       "        [ 0.0517287 ],\n",
       "        [-0.15657436],\n",
       "        [-0.32015932],\n",
       "        [-0.24534301],\n",
       "        [-0.39414696],\n",
       "        [ 0.45194765],\n",
       "        [-0.11238142],\n",
       "        [-0.23335004],\n",
       "        [ 0.29736836],\n",
       "        [ 0.22567546],\n",
       "        [ 0.51153654],\n",
       "        [ 0.33139957],\n",
       "        [-0.56030104],\n",
       "        [ 0.14209965],\n",
       "        [-0.37313337],\n",
       "        [ 0.41263083],\n",
       "        [-0.1683504 ],\n",
       "        [ 0.49927038],\n",
       "        [-0.15912398],\n",
       "        [ 0.3321133 ],\n",
       "        [-0.30378456],\n",
       "        [ 0.31360103],\n",
       "        [ 0.17693787],\n",
       "        [ 0.2718043 ],\n",
       "        [-0.26858318],\n",
       "        [ 0.31708014],\n",
       "        [-0.03042262],\n",
       "        [ 0.15065811],\n",
       "        [ 0.22296067],\n",
       "        [-0.144724  ],\n",
       "        [-0.22390642],\n",
       "        [-0.10369063],\n",
       "        [-0.25586421],\n",
       "        [ 0.06303717]])]"
      ]
     },
     "execution_count": 28,
     "metadata": {},
     "output_type": "execute_result"
    }
   ],
   "source": [
    "mlpc.coefs_"
   ]
  },
  {
   "cell_type": "code",
   "execution_count": 24,
   "id": "daa2595a-32e6-4228-b885-403cf075a2ad",
   "metadata": {
    "collapsed": true,
    "jupyter": {
     "outputs_hidden": true
    },
    "tags": []
   },
   "outputs": [
    {
     "data": {
      "text/plain": [
       "['__abstractmethods__',\n",
       " '__annotations__',\n",
       " '__class__',\n",
       " '__delattr__',\n",
       " '__dict__',\n",
       " '__dir__',\n",
       " '__doc__',\n",
       " '__eq__',\n",
       " '__format__',\n",
       " '__ge__',\n",
       " '__getattribute__',\n",
       " '__getstate__',\n",
       " '__gt__',\n",
       " '__hash__',\n",
       " '__init__',\n",
       " '__init_subclass__',\n",
       " '__le__',\n",
       " '__lt__',\n",
       " '__module__',\n",
       " '__ne__',\n",
       " '__new__',\n",
       " '__reduce__',\n",
       " '__reduce_ex__',\n",
       " '__repr__',\n",
       " '__setattr__',\n",
       " '__setstate__',\n",
       " '__sizeof__',\n",
       " '__sklearn_clone__',\n",
       " '__str__',\n",
       " '__subclasshook__',\n",
       " '__weakref__',\n",
       " '_abc_impl',\n",
       " '_backprop',\n",
       " '_build_request_for_signature',\n",
       " '_check_feature_names',\n",
       " '_check_n_features',\n",
       " '_check_solver',\n",
       " '_compute_loss_grad',\n",
       " '_estimator_type',\n",
       " '_fit',\n",
       " '_fit_lbfgs',\n",
       " '_fit_stochastic',\n",
       " '_forward_pass',\n",
       " '_forward_pass_fast',\n",
       " '_get_default_requests',\n",
       " '_get_metadata_request',\n",
       " '_get_param_names',\n",
       " '_get_tags',\n",
       " '_init_coef',\n",
       " '_initialize',\n",
       " '_label_binarizer',\n",
       " '_loss_grad_lbfgs',\n",
       " '_more_tags',\n",
       " '_no_improvement_count',\n",
       " '_optimizer',\n",
       " '_parameter_constraints',\n",
       " '_predict',\n",
       " '_random_state',\n",
       " '_repr_html_',\n",
       " '_repr_html_inner',\n",
       " '_repr_mimebundle_',\n",
       " '_score',\n",
       " '_unpack',\n",
       " '_update_no_improvement_count',\n",
       " '_validate_data',\n",
       " '_validate_input',\n",
       " '_validate_params',\n",
       " 'activation',\n",
       " 'alpha',\n",
       " 'batch_size',\n",
       " 'best_loss_',\n",
       " 'best_validation_score_',\n",
       " 'beta_1',\n",
       " 'beta_2',\n",
       " 'classes_',\n",
       " 'coefs_',\n",
       " 'early_stopping',\n",
       " 'epsilon',\n",
       " 'fit',\n",
       " 'get_metadata_routing',\n",
       " 'get_params',\n",
       " 'hidden_layer_sizes',\n",
       " 'intercepts_',\n",
       " 'learning_rate',\n",
       " 'learning_rate_init',\n",
       " 'loss',\n",
       " 'loss_',\n",
       " 'loss_curve_',\n",
       " 'max_fun',\n",
       " 'max_iter',\n",
       " 'momentum',\n",
       " 'n_features_in_',\n",
       " 'n_iter_',\n",
       " 'n_iter_no_change',\n",
       " 'n_layers_',\n",
       " 'n_outputs_',\n",
       " 'nesterovs_momentum',\n",
       " 'out_activation_',\n",
       " 'partial_fit',\n",
       " 'power_t',\n",
       " 'predict',\n",
       " 'predict_log_proba',\n",
       " 'predict_proba',\n",
       " 'random_state',\n",
       " 'score',\n",
       " 'set_params',\n",
       " 'set_partial_fit_request',\n",
       " 'set_score_request',\n",
       " 'shuffle',\n",
       " 'solver',\n",
       " 't_',\n",
       " 'tol',\n",
       " 'validation_fraction',\n",
       " 'validation_scores_',\n",
       " 'verbose',\n",
       " 'warm_start']"
      ]
     },
     "execution_count": 24,
     "metadata": {},
     "output_type": "execute_result"
    }
   ],
   "source": [
    "dir(mlpc)"
   ]
  },
  {
   "cell_type": "code",
   "execution_count": 30,
   "id": "f3ac8f5a-56ca-4470-a28e-c8a49b5426df",
   "metadata": {
    "tags": []
   },
   "outputs": [
    {
     "data": {
      "text/plain": [
       "0.7402597402597403"
      ]
     },
     "execution_count": 30,
     "metadata": {},
     "output_type": "execute_result"
    }
   ],
   "source": [
    "y_pred = mlpc.predict(X_test_scaled)\n",
    "accuracy_score(y_test, y_pred)"
   ]
  },
  {
   "cell_type": "markdown",
   "id": "7235d1d4-40eb-4c0d-b535-624903d33eff",
   "metadata": {},
   "source": [
    "## Model Tuning"
   ]
  },
  {
   "cell_type": "code",
   "execution_count": 33,
   "id": "aef294a3-3b3f-4d71-9ff0-a2df880315d9",
   "metadata": {
    "tags": []
   },
   "outputs": [
    {
     "data": {
      "text/html": [
       "<style>#sk-container-id-1 {color: black;}#sk-container-id-1 pre{padding: 0;}#sk-container-id-1 div.sk-toggleable {background-color: white;}#sk-container-id-1 label.sk-toggleable__label {cursor: pointer;display: block;width: 100%;margin-bottom: 0;padding: 0.3em;box-sizing: border-box;text-align: center;}#sk-container-id-1 label.sk-toggleable__label-arrow:before {content: \"▸\";float: left;margin-right: 0.25em;color: #696969;}#sk-container-id-1 label.sk-toggleable__label-arrow:hover:before {color: black;}#sk-container-id-1 div.sk-estimator:hover label.sk-toggleable__label-arrow:before {color: black;}#sk-container-id-1 div.sk-toggleable__content {max-height: 0;max-width: 0;overflow: hidden;text-align: left;background-color: #f0f8ff;}#sk-container-id-1 div.sk-toggleable__content pre {margin: 0.2em;color: black;border-radius: 0.25em;background-color: #f0f8ff;}#sk-container-id-1 input.sk-toggleable__control:checked~div.sk-toggleable__content {max-height: 200px;max-width: 100%;overflow: auto;}#sk-container-id-1 input.sk-toggleable__control:checked~label.sk-toggleable__label-arrow:before {content: \"▾\";}#sk-container-id-1 div.sk-estimator input.sk-toggleable__control:checked~label.sk-toggleable__label {background-color: #d4ebff;}#sk-container-id-1 div.sk-label input.sk-toggleable__control:checked~label.sk-toggleable__label {background-color: #d4ebff;}#sk-container-id-1 input.sk-hidden--visually {border: 0;clip: rect(1px 1px 1px 1px);clip: rect(1px, 1px, 1px, 1px);height: 1px;margin: -1px;overflow: hidden;padding: 0;position: absolute;width: 1px;}#sk-container-id-1 div.sk-estimator {font-family: monospace;background-color: #f0f8ff;border: 1px dotted black;border-radius: 0.25em;box-sizing: border-box;margin-bottom: 0.5em;}#sk-container-id-1 div.sk-estimator:hover {background-color: #d4ebff;}#sk-container-id-1 div.sk-parallel-item::after {content: \"\";width: 100%;border-bottom: 1px solid gray;flex-grow: 1;}#sk-container-id-1 div.sk-label:hover label.sk-toggleable__label {background-color: #d4ebff;}#sk-container-id-1 div.sk-serial::before {content: \"\";position: absolute;border-left: 1px solid gray;box-sizing: border-box;top: 0;bottom: 0;left: 50%;z-index: 0;}#sk-container-id-1 div.sk-serial {display: flex;flex-direction: column;align-items: center;background-color: white;padding-right: 0.2em;padding-left: 0.2em;position: relative;}#sk-container-id-1 div.sk-item {position: relative;z-index: 1;}#sk-container-id-1 div.sk-parallel {display: flex;align-items: stretch;justify-content: center;background-color: white;position: relative;}#sk-container-id-1 div.sk-item::before, #sk-container-id-1 div.sk-parallel-item::before {content: \"\";position: absolute;border-left: 1px solid gray;box-sizing: border-box;top: 0;bottom: 0;left: 50%;z-index: -1;}#sk-container-id-1 div.sk-parallel-item {display: flex;flex-direction: column;z-index: 1;position: relative;background-color: white;}#sk-container-id-1 div.sk-parallel-item:first-child::after {align-self: flex-end;width: 50%;}#sk-container-id-1 div.sk-parallel-item:last-child::after {align-self: flex-start;width: 50%;}#sk-container-id-1 div.sk-parallel-item:only-child::after {width: 0;}#sk-container-id-1 div.sk-dashed-wrapped {border: 1px dashed gray;margin: 0 0.4em 0.5em 0.4em;box-sizing: border-box;padding-bottom: 0.4em;background-color: white;}#sk-container-id-1 div.sk-label label {font-family: monospace;font-weight: bold;display: inline-block;line-height: 1.2em;}#sk-container-id-1 div.sk-label-container {text-align: center;}#sk-container-id-1 div.sk-container {/* jupyter's `normalize.less` sets `[hidden] { display: none; }` but bootstrap.min.css set `[hidden] { display: none !important; }` so we also need the `!important` here to be able to override the default hidden behavior on the sphinx rendered scikit-learn.org. See: https://github.com/scikit-learn/scikit-learn/issues/21755 */display: inline-block !important;position: relative;}#sk-container-id-1 div.sk-text-repr-fallback {display: none;}</style><div id=\"sk-container-id-1\" class=\"sk-top-container\"><div class=\"sk-text-repr-fallback\"><pre>MLPClassifier()</pre><b>In a Jupyter environment, please rerun this cell to show the HTML representation or trust the notebook. <br />On GitHub, the HTML representation is unable to render, please try loading this page with nbviewer.org.</b></div><div class=\"sk-container\" hidden><div class=\"sk-item\"><div class=\"sk-estimator sk-toggleable\"><input class=\"sk-toggleable__control sk-hidden--visually\" id=\"sk-estimator-id-1\" type=\"checkbox\" checked><label for=\"sk-estimator-id-1\" class=\"sk-toggleable__label sk-toggleable__label-arrow\">MLPClassifier</label><div class=\"sk-toggleable__content\"><pre>MLPClassifier()</pre></div></div></div></div></div>"
      ],
      "text/plain": [
       "MLPClassifier()"
      ]
     },
     "execution_count": 33,
     "metadata": {},
     "output_type": "execute_result"
    }
   ],
   "source": [
    "mlpc"
   ]
  },
  {
   "cell_type": "code",
   "execution_count": 35,
   "id": "d6ea976e-245e-4cd0-9f3b-4fdbfa6c12f6",
   "metadata": {
    "collapsed": true,
    "jupyter": {
     "outputs_hidden": true
    },
    "tags": []
   },
   "outputs": [
    {
     "data": {
      "text/plain": [
       "\u001b[1;31mType:\u001b[0m        MLPClassifier\n",
       "\u001b[1;31mString form:\u001b[0m MLPClassifier()\n",
       "\u001b[1;31mFile:\u001b[0m        c:\\users\\taha\\anaconda3\\lib\\site-packages\\sklearn\\neural_network\\_multilayer_perceptron.py\n",
       "\u001b[1;31mDocstring:\u001b[0m  \n",
       "Multi-layer Perceptron classifier.\n",
       "\n",
       "This model optimizes the log-loss function using LBFGS or stochastic\n",
       "gradient descent.\n",
       "\n",
       ".. versionadded:: 0.18\n",
       "\n",
       "Parameters\n",
       "----------\n",
       "hidden_layer_sizes : array-like of shape(n_layers - 2,), default=(100,)\n",
       "    The ith element represents the number of neurons in the ith\n",
       "    hidden layer.\n",
       "\n",
       "activation : {'identity', 'logistic', 'tanh', 'relu'}, default='relu'\n",
       "    Activation function for the hidden layer.\n",
       "\n",
       "    - 'identity', no-op activation, useful to implement linear bottleneck,\n",
       "      returns f(x) = x\n",
       "\n",
       "    - 'logistic', the logistic sigmoid function,\n",
       "      returns f(x) = 1 / (1 + exp(-x)).\n",
       "\n",
       "    - 'tanh', the hyperbolic tan function,\n",
       "      returns f(x) = tanh(x).\n",
       "\n",
       "    - 'relu', the rectified linear unit function,\n",
       "      returns f(x) = max(0, x)\n",
       "\n",
       "solver : {'lbfgs', 'sgd', 'adam'}, default='adam'\n",
       "    The solver for weight optimization.\n",
       "\n",
       "    - 'lbfgs' is an optimizer in the family of quasi-Newton methods.\n",
       "\n",
       "    - 'sgd' refers to stochastic gradient descent.\n",
       "\n",
       "    - 'adam' refers to a stochastic gradient-based optimizer proposed\n",
       "      by Kingma, Diederik, and Jimmy Ba\n",
       "\n",
       "    Note: The default solver 'adam' works pretty well on relatively\n",
       "    large datasets (with thousands of training samples or more) in terms of\n",
       "    both training time and validation score.\n",
       "    For small datasets, however, 'lbfgs' can converge faster and perform\n",
       "    better.\n",
       "\n",
       "alpha : float, default=0.0001\n",
       "    Strength of the L2 regularization term. The L2 regularization term\n",
       "    is divided by the sample size when added to the loss.\n",
       "\n",
       "batch_size : int, default='auto'\n",
       "    Size of minibatches for stochastic optimizers.\n",
       "    If the solver is 'lbfgs', the classifier will not use minibatch.\n",
       "    When set to \"auto\", `batch_size=min(200, n_samples)`.\n",
       "\n",
       "learning_rate : {'constant', 'invscaling', 'adaptive'}, default='constant'\n",
       "    Learning rate schedule for weight updates.\n",
       "\n",
       "    - 'constant' is a constant learning rate given by\n",
       "      'learning_rate_init'.\n",
       "\n",
       "    - 'invscaling' gradually decreases the learning rate at each\n",
       "      time step 't' using an inverse scaling exponent of 'power_t'.\n",
       "      effective_learning_rate = learning_rate_init / pow(t, power_t)\n",
       "\n",
       "    - 'adaptive' keeps the learning rate constant to\n",
       "      'learning_rate_init' as long as training loss keeps decreasing.\n",
       "      Each time two consecutive epochs fail to decrease training loss by at\n",
       "      least tol, or fail to increase validation score by at least tol if\n",
       "      'early_stopping' is on, the current learning rate is divided by 5.\n",
       "\n",
       "    Only used when ``solver='sgd'``.\n",
       "\n",
       "learning_rate_init : float, default=0.001\n",
       "    The initial learning rate used. It controls the step-size\n",
       "    in updating the weights. Only used when solver='sgd' or 'adam'.\n",
       "\n",
       "power_t : float, default=0.5\n",
       "    The exponent for inverse scaling learning rate.\n",
       "    It is used in updating effective learning rate when the learning_rate\n",
       "    is set to 'invscaling'. Only used when solver='sgd'.\n",
       "\n",
       "max_iter : int, default=200\n",
       "    Maximum number of iterations. The solver iterates until convergence\n",
       "    (determined by 'tol') or this number of iterations. For stochastic\n",
       "    solvers ('sgd', 'adam'), note that this determines the number of epochs\n",
       "    (how many times each data point will be used), not the number of\n",
       "    gradient steps.\n",
       "\n",
       "shuffle : bool, default=True\n",
       "    Whether to shuffle samples in each iteration. Only used when\n",
       "    solver='sgd' or 'adam'.\n",
       "\n",
       "random_state : int, RandomState instance, default=None\n",
       "    Determines random number generation for weights and bias\n",
       "    initialization, train-test split if early stopping is used, and batch\n",
       "    sampling when solver='sgd' or 'adam'.\n",
       "    Pass an int for reproducible results across multiple function calls.\n",
       "    See :term:`Glossary <random_state>`.\n",
       "\n",
       "tol : float, default=1e-4\n",
       "    Tolerance for the optimization. When the loss or score is not improving\n",
       "    by at least ``tol`` for ``n_iter_no_change`` consecutive iterations,\n",
       "    unless ``learning_rate`` is set to 'adaptive', convergence is\n",
       "    considered to be reached and training stops.\n",
       "\n",
       "verbose : bool, default=False\n",
       "    Whether to print progress messages to stdout.\n",
       "\n",
       "warm_start : bool, default=False\n",
       "    When set to True, reuse the solution of the previous\n",
       "    call to fit as initialization, otherwise, just erase the\n",
       "    previous solution. See :term:`the Glossary <warm_start>`.\n",
       "\n",
       "momentum : float, default=0.9\n",
       "    Momentum for gradient descent update. Should be between 0 and 1. Only\n",
       "    used when solver='sgd'.\n",
       "\n",
       "nesterovs_momentum : bool, default=True\n",
       "    Whether to use Nesterov's momentum. Only used when solver='sgd' and\n",
       "    momentum > 0.\n",
       "\n",
       "early_stopping : bool, default=False\n",
       "    Whether to use early stopping to terminate training when validation\n",
       "    score is not improving. If set to true, it will automatically set\n",
       "    aside 10% of training data as validation and terminate training when\n",
       "    validation score is not improving by at least tol for\n",
       "    ``n_iter_no_change`` consecutive epochs. The split is stratified,\n",
       "    except in a multilabel setting.\n",
       "    If early stopping is False, then the training stops when the training\n",
       "    loss does not improve by more than tol for n_iter_no_change consecutive\n",
       "    passes over the training set.\n",
       "    Only effective when solver='sgd' or 'adam'.\n",
       "\n",
       "validation_fraction : float, default=0.1\n",
       "    The proportion of training data to set aside as validation set for\n",
       "    early stopping. Must be between 0 and 1.\n",
       "    Only used if early_stopping is True.\n",
       "\n",
       "beta_1 : float, default=0.9\n",
       "    Exponential decay rate for estimates of first moment vector in adam,\n",
       "    should be in [0, 1). Only used when solver='adam'.\n",
       "\n",
       "beta_2 : float, default=0.999\n",
       "    Exponential decay rate for estimates of second moment vector in adam,\n",
       "    should be in [0, 1). Only used when solver='adam'.\n",
       "\n",
       "epsilon : float, default=1e-8\n",
       "    Value for numerical stability in adam. Only used when solver='adam'.\n",
       "\n",
       "n_iter_no_change : int, default=10\n",
       "    Maximum number of epochs to not meet ``tol`` improvement.\n",
       "    Only effective when solver='sgd' or 'adam'.\n",
       "\n",
       "    .. versionadded:: 0.20\n",
       "\n",
       "max_fun : int, default=15000\n",
       "    Only used when solver='lbfgs'. Maximum number of loss function calls.\n",
       "    The solver iterates until convergence (determined by 'tol'), number\n",
       "    of iterations reaches max_iter, or this number of loss function calls.\n",
       "    Note that number of loss function calls will be greater than or equal\n",
       "    to the number of iterations for the `MLPClassifier`.\n",
       "\n",
       "    .. versionadded:: 0.22\n",
       "\n",
       "Attributes\n",
       "----------\n",
       "classes_ : ndarray or list of ndarray of shape (n_classes,)\n",
       "    Class labels for each output.\n",
       "\n",
       "loss_ : float\n",
       "    The current loss computed with the loss function.\n",
       "\n",
       "best_loss_ : float or None\n",
       "    The minimum loss reached by the solver throughout fitting.\n",
       "    If `early_stopping=True`, this attribute is set to `None`. Refer to\n",
       "    the `best_validation_score_` fitted attribute instead.\n",
       "\n",
       "loss_curve_ : list of shape (`n_iter_`,)\n",
       "    The ith element in the list represents the loss at the ith iteration.\n",
       "\n",
       "validation_scores_ : list of shape (`n_iter_`,) or None\n",
       "    The score at each iteration on a held-out validation set. The score\n",
       "    reported is the accuracy score. Only available if `early_stopping=True`,\n",
       "    otherwise the attribute is set to `None`.\n",
       "\n",
       "best_validation_score_ : float or None\n",
       "    The best validation score (i.e. accuracy score) that triggered the\n",
       "    early stopping. Only available if `early_stopping=True`, otherwise the\n",
       "    attribute is set to `None`.\n",
       "\n",
       "t_ : int\n",
       "    The number of training samples seen by the solver during fitting.\n",
       "\n",
       "coefs_ : list of shape (n_layers - 1,)\n",
       "    The ith element in the list represents the weight matrix corresponding\n",
       "    to layer i.\n",
       "\n",
       "intercepts_ : list of shape (n_layers - 1,)\n",
       "    The ith element in the list represents the bias vector corresponding to\n",
       "    layer i + 1.\n",
       "\n",
       "n_features_in_ : int\n",
       "    Number of features seen during :term:`fit`.\n",
       "\n",
       "    .. versionadded:: 0.24\n",
       "\n",
       "feature_names_in_ : ndarray of shape (`n_features_in_`,)\n",
       "    Names of features seen during :term:`fit`. Defined only when `X`\n",
       "    has feature names that are all strings.\n",
       "\n",
       "    .. versionadded:: 1.0\n",
       "\n",
       "n_iter_ : int\n",
       "    The number of iterations the solver has run.\n",
       "\n",
       "n_layers_ : int\n",
       "    Number of layers.\n",
       "\n",
       "n_outputs_ : int\n",
       "    Number of outputs.\n",
       "\n",
       "out_activation_ : str\n",
       "    Name of the output activation function.\n",
       "\n",
       "See Also\n",
       "--------\n",
       "MLPRegressor : Multi-layer Perceptron regressor.\n",
       "BernoulliRBM : Bernoulli Restricted Boltzmann Machine (RBM).\n",
       "\n",
       "Notes\n",
       "-----\n",
       "MLPClassifier trains iteratively since at each time step\n",
       "the partial derivatives of the loss function with respect to the model\n",
       "parameters are computed to update the parameters.\n",
       "\n",
       "It can also have a regularization term added to the loss function\n",
       "that shrinks model parameters to prevent overfitting.\n",
       "\n",
       "This implementation works with data represented as dense numpy arrays or\n",
       "sparse scipy arrays of floating point values.\n",
       "\n",
       "References\n",
       "----------\n",
       "Hinton, Geoffrey E. \"Connectionist learning procedures.\"\n",
       "Artificial intelligence 40.1 (1989): 185-234.\n",
       "\n",
       "Glorot, Xavier, and Yoshua Bengio.\n",
       "\"Understanding the difficulty of training deep feedforward neural networks.\"\n",
       "International Conference on Artificial Intelligence and Statistics. 2010.\n",
       "\n",
       ":arxiv:`He, Kaiming, et al (2015). \"Delving deep into rectifiers:\n",
       "Surpassing human-level performance on imagenet classification.\" <1502.01852>`\n",
       "\n",
       ":arxiv:`Kingma, Diederik, and Jimmy Ba (2014)\n",
       "\"Adam: A method for stochastic optimization.\" <1412.6980>`\n",
       "\n",
       "Examples\n",
       "--------\n",
       ">>> from sklearn.neural_network import MLPClassifier\n",
       ">>> from sklearn.datasets import make_classification\n",
       ">>> from sklearn.model_selection import train_test_split\n",
       ">>> X, y = make_classification(n_samples=100, random_state=1)\n",
       ">>> X_train, X_test, y_train, y_test = train_test_split(X, y, stratify=y,\n",
       "...                                                     random_state=1)\n",
       ">>> clf = MLPClassifier(random_state=1, max_iter=300).fit(X_train, y_train)\n",
       ">>> clf.predict_proba(X_test[:1])\n",
       "array([[0.038..., 0.961...]])\n",
       ">>> clf.predict(X_test[:5, :])\n",
       "array([1, 0, 1, 0, 1])\n",
       ">>> clf.score(X_test, y_test)\n",
       "0.8..."
      ]
     },
     "metadata": {},
     "output_type": "display_data"
    }
   ],
   "source": [
    "?mlpc"
   ]
  },
  {
   "cell_type": "code",
   "execution_count": 37,
   "id": "5222a4ba-9f93-484d-bb29-9edf94edc18e",
   "metadata": {
    "tags": []
   },
   "outputs": [],
   "source": [
    "mlpc_params = {\"alpha\": [0.1, 0.01, 0.02, 0.005, 0.0001, 0.00001], \n",
    "               \"hidden_layer_sizes\": [(10,10,10), \n",
    "                                      (100, 100, 100), \n",
    "                                      (100, 100), \n",
    "                                      (3, 5), \n",
    "                                      (5, 3)], \n",
    "               \"solver\": [\"lbfgs\", \"adam\", \"sgd\"], \n",
    "               \"activation\": [\"relu\", \"logistic\", \"tanh\"]}"
   ]
  },
  {
   "cell_type": "code",
   "execution_count": 39,
   "id": "9448448e-3609-4d12-83c8-27a084086d7f",
   "metadata": {
    "tags": []
   },
   "outputs": [
    {
     "name": "stdout",
     "output_type": "stream",
     "text": [
      "Fitting 10 folds for each of 270 candidates, totalling 2700 fits\n"
     ]
    },
    {
     "data": {
      "text/html": [
       "<style>#sk-container-id-2 {color: black;}#sk-container-id-2 pre{padding: 0;}#sk-container-id-2 div.sk-toggleable {background-color: white;}#sk-container-id-2 label.sk-toggleable__label {cursor: pointer;display: block;width: 100%;margin-bottom: 0;padding: 0.3em;box-sizing: border-box;text-align: center;}#sk-container-id-2 label.sk-toggleable__label-arrow:before {content: \"▸\";float: left;margin-right: 0.25em;color: #696969;}#sk-container-id-2 label.sk-toggleable__label-arrow:hover:before {color: black;}#sk-container-id-2 div.sk-estimator:hover label.sk-toggleable__label-arrow:before {color: black;}#sk-container-id-2 div.sk-toggleable__content {max-height: 0;max-width: 0;overflow: hidden;text-align: left;background-color: #f0f8ff;}#sk-container-id-2 div.sk-toggleable__content pre {margin: 0.2em;color: black;border-radius: 0.25em;background-color: #f0f8ff;}#sk-container-id-2 input.sk-toggleable__control:checked~div.sk-toggleable__content {max-height: 200px;max-width: 100%;overflow: auto;}#sk-container-id-2 input.sk-toggleable__control:checked~label.sk-toggleable__label-arrow:before {content: \"▾\";}#sk-container-id-2 div.sk-estimator input.sk-toggleable__control:checked~label.sk-toggleable__label {background-color: #d4ebff;}#sk-container-id-2 div.sk-label input.sk-toggleable__control:checked~label.sk-toggleable__label {background-color: #d4ebff;}#sk-container-id-2 input.sk-hidden--visually {border: 0;clip: rect(1px 1px 1px 1px);clip: rect(1px, 1px, 1px, 1px);height: 1px;margin: -1px;overflow: hidden;padding: 0;position: absolute;width: 1px;}#sk-container-id-2 div.sk-estimator {font-family: monospace;background-color: #f0f8ff;border: 1px dotted black;border-radius: 0.25em;box-sizing: border-box;margin-bottom: 0.5em;}#sk-container-id-2 div.sk-estimator:hover {background-color: #d4ebff;}#sk-container-id-2 div.sk-parallel-item::after {content: \"\";width: 100%;border-bottom: 1px solid gray;flex-grow: 1;}#sk-container-id-2 div.sk-label:hover label.sk-toggleable__label {background-color: #d4ebff;}#sk-container-id-2 div.sk-serial::before {content: \"\";position: absolute;border-left: 1px solid gray;box-sizing: border-box;top: 0;bottom: 0;left: 50%;z-index: 0;}#sk-container-id-2 div.sk-serial {display: flex;flex-direction: column;align-items: center;background-color: white;padding-right: 0.2em;padding-left: 0.2em;position: relative;}#sk-container-id-2 div.sk-item {position: relative;z-index: 1;}#sk-container-id-2 div.sk-parallel {display: flex;align-items: stretch;justify-content: center;background-color: white;position: relative;}#sk-container-id-2 div.sk-item::before, #sk-container-id-2 div.sk-parallel-item::before {content: \"\";position: absolute;border-left: 1px solid gray;box-sizing: border-box;top: 0;bottom: 0;left: 50%;z-index: -1;}#sk-container-id-2 div.sk-parallel-item {display: flex;flex-direction: column;z-index: 1;position: relative;background-color: white;}#sk-container-id-2 div.sk-parallel-item:first-child::after {align-self: flex-end;width: 50%;}#sk-container-id-2 div.sk-parallel-item:last-child::after {align-self: flex-start;width: 50%;}#sk-container-id-2 div.sk-parallel-item:only-child::after {width: 0;}#sk-container-id-2 div.sk-dashed-wrapped {border: 1px dashed gray;margin: 0 0.4em 0.5em 0.4em;box-sizing: border-box;padding-bottom: 0.4em;background-color: white;}#sk-container-id-2 div.sk-label label {font-family: monospace;font-weight: bold;display: inline-block;line-height: 1.2em;}#sk-container-id-2 div.sk-label-container {text-align: center;}#sk-container-id-2 div.sk-container {/* jupyter's `normalize.less` sets `[hidden] { display: none; }` but bootstrap.min.css set `[hidden] { display: none !important; }` so we also need the `!important` here to be able to override the default hidden behavior on the sphinx rendered scikit-learn.org. See: https://github.com/scikit-learn/scikit-learn/issues/21755 */display: inline-block !important;position: relative;}#sk-container-id-2 div.sk-text-repr-fallback {display: none;}</style><div id=\"sk-container-id-2\" class=\"sk-top-container\"><div class=\"sk-text-repr-fallback\"><pre>GridSearchCV(cv=10, estimator=MLPClassifier(), n_jobs=-1,\n",
       "             param_grid={&#x27;activation&#x27;: [&#x27;relu&#x27;, &#x27;logistic&#x27;, &#x27;tanh&#x27;],\n",
       "                         &#x27;alpha&#x27;: [0.1, 0.01, 0.02, 0.005, 0.0001, 1e-05],\n",
       "                         &#x27;hidden_layer_sizes&#x27;: [(10, 10, 10), (100, 100, 100),\n",
       "                                                (100, 100), (3, 5), (5, 3)],\n",
       "                         &#x27;solver&#x27;: [&#x27;lbfgs&#x27;, &#x27;adam&#x27;, &#x27;sgd&#x27;]},\n",
       "             verbose=2)</pre><b>In a Jupyter environment, please rerun this cell to show the HTML representation or trust the notebook. <br />On GitHub, the HTML representation is unable to render, please try loading this page with nbviewer.org.</b></div><div class=\"sk-container\" hidden><div class=\"sk-item sk-dashed-wrapped\"><div class=\"sk-label-container\"><div class=\"sk-label sk-toggleable\"><input class=\"sk-toggleable__control sk-hidden--visually\" id=\"sk-estimator-id-2\" type=\"checkbox\" ><label for=\"sk-estimator-id-2\" class=\"sk-toggleable__label sk-toggleable__label-arrow\">GridSearchCV</label><div class=\"sk-toggleable__content\"><pre>GridSearchCV(cv=10, estimator=MLPClassifier(), n_jobs=-1,\n",
       "             param_grid={&#x27;activation&#x27;: [&#x27;relu&#x27;, &#x27;logistic&#x27;, &#x27;tanh&#x27;],\n",
       "                         &#x27;alpha&#x27;: [0.1, 0.01, 0.02, 0.005, 0.0001, 1e-05],\n",
       "                         &#x27;hidden_layer_sizes&#x27;: [(10, 10, 10), (100, 100, 100),\n",
       "                                                (100, 100), (3, 5), (5, 3)],\n",
       "                         &#x27;solver&#x27;: [&#x27;lbfgs&#x27;, &#x27;adam&#x27;, &#x27;sgd&#x27;]},\n",
       "             verbose=2)</pre></div></div></div><div class=\"sk-parallel\"><div class=\"sk-parallel-item\"><div class=\"sk-item\"><div class=\"sk-label-container\"><div class=\"sk-label sk-toggleable\"><input class=\"sk-toggleable__control sk-hidden--visually\" id=\"sk-estimator-id-3\" type=\"checkbox\" ><label for=\"sk-estimator-id-3\" class=\"sk-toggleable__label sk-toggleable__label-arrow\">estimator: MLPClassifier</label><div class=\"sk-toggleable__content\"><pre>MLPClassifier()</pre></div></div></div><div class=\"sk-serial\"><div class=\"sk-item\"><div class=\"sk-estimator sk-toggleable\"><input class=\"sk-toggleable__control sk-hidden--visually\" id=\"sk-estimator-id-4\" type=\"checkbox\" ><label for=\"sk-estimator-id-4\" class=\"sk-toggleable__label sk-toggleable__label-arrow\">MLPClassifier</label><div class=\"sk-toggleable__content\"><pre>MLPClassifier()</pre></div></div></div></div></div></div></div></div></div></div>"
      ],
      "text/plain": [
       "GridSearchCV(cv=10, estimator=MLPClassifier(), n_jobs=-1,\n",
       "             param_grid={'activation': ['relu', 'logistic', 'tanh'],\n",
       "                         'alpha': [0.1, 0.01, 0.02, 0.005, 0.0001, 1e-05],\n",
       "                         'hidden_layer_sizes': [(10, 10, 10), (100, 100, 100),\n",
       "                                                (100, 100), (3, 5), (5, 3)],\n",
       "                         'solver': ['lbfgs', 'adam', 'sgd']},\n",
       "             verbose=2)"
      ]
     },
     "execution_count": 39,
     "metadata": {},
     "output_type": "execute_result"
    }
   ],
   "source": [
    "mlpc = MLPClassifier()\n",
    "mlpc_cv_model = GridSearchCV(mlpc, mlpc_params, \n",
    "                             cv=10, \n",
    "                             n_jobs=-1, \n",
    "                             verbose=2)\n",
    "\n",
    "mlpc_cv_model.fit(X_train_scaled, y_train)"
   ]
  },
  {
   "cell_type": "code",
   "execution_count": 41,
   "id": "d1ab972b-9795-4d33-bae5-71b4c1248cca",
   "metadata": {
    "tags": []
   },
   "outputs": [
    {
     "name": "stdout",
     "output_type": "stream",
     "text": [
      "En iyi parametreler: {'activation': 'relu', 'alpha': 0.0001, 'hidden_layer_sizes': (100, 100, 100), 'solver': 'sgd'}\n"
     ]
    }
   ],
   "source": [
    "print(\"En iyi parametreler: \" + str(mlpc_cv_model.best_params_))"
   ]
  },
  {
   "cell_type": "code",
   "execution_count": 43,
   "id": "939b5eca-fd39-49f9-ac37-8fc0d7a88ddb",
   "metadata": {
    "tags": []
   },
   "outputs": [],
   "source": [
    "mlpc_tuned = MLPClassifier(activation= \"relu\", \n",
    "                           alpha= 0.0001, \n",
    "                           hidden_layer_sizes = (100, 100, 100), \n",
    "                           solver=\"adam\")"
   ]
  },
  {
   "cell_type": "code",
   "execution_count": 45,
   "id": "65cc0bcd-c8bc-4e2e-9419-8faa6d1d6573",
   "metadata": {
    "tags": []
   },
   "outputs": [
    {
     "data": {
      "text/html": [
       "<style>#sk-container-id-3 {color: black;}#sk-container-id-3 pre{padding: 0;}#sk-container-id-3 div.sk-toggleable {background-color: white;}#sk-container-id-3 label.sk-toggleable__label {cursor: pointer;display: block;width: 100%;margin-bottom: 0;padding: 0.3em;box-sizing: border-box;text-align: center;}#sk-container-id-3 label.sk-toggleable__label-arrow:before {content: \"▸\";float: left;margin-right: 0.25em;color: #696969;}#sk-container-id-3 label.sk-toggleable__label-arrow:hover:before {color: black;}#sk-container-id-3 div.sk-estimator:hover label.sk-toggleable__label-arrow:before {color: black;}#sk-container-id-3 div.sk-toggleable__content {max-height: 0;max-width: 0;overflow: hidden;text-align: left;background-color: #f0f8ff;}#sk-container-id-3 div.sk-toggleable__content pre {margin: 0.2em;color: black;border-radius: 0.25em;background-color: #f0f8ff;}#sk-container-id-3 input.sk-toggleable__control:checked~div.sk-toggleable__content {max-height: 200px;max-width: 100%;overflow: auto;}#sk-container-id-3 input.sk-toggleable__control:checked~label.sk-toggleable__label-arrow:before {content: \"▾\";}#sk-container-id-3 div.sk-estimator input.sk-toggleable__control:checked~label.sk-toggleable__label {background-color: #d4ebff;}#sk-container-id-3 div.sk-label input.sk-toggleable__control:checked~label.sk-toggleable__label {background-color: #d4ebff;}#sk-container-id-3 input.sk-hidden--visually {border: 0;clip: rect(1px 1px 1px 1px);clip: rect(1px, 1px, 1px, 1px);height: 1px;margin: -1px;overflow: hidden;padding: 0;position: absolute;width: 1px;}#sk-container-id-3 div.sk-estimator {font-family: monospace;background-color: #f0f8ff;border: 1px dotted black;border-radius: 0.25em;box-sizing: border-box;margin-bottom: 0.5em;}#sk-container-id-3 div.sk-estimator:hover {background-color: #d4ebff;}#sk-container-id-3 div.sk-parallel-item::after {content: \"\";width: 100%;border-bottom: 1px solid gray;flex-grow: 1;}#sk-container-id-3 div.sk-label:hover label.sk-toggleable__label {background-color: #d4ebff;}#sk-container-id-3 div.sk-serial::before {content: \"\";position: absolute;border-left: 1px solid gray;box-sizing: border-box;top: 0;bottom: 0;left: 50%;z-index: 0;}#sk-container-id-3 div.sk-serial {display: flex;flex-direction: column;align-items: center;background-color: white;padding-right: 0.2em;padding-left: 0.2em;position: relative;}#sk-container-id-3 div.sk-item {position: relative;z-index: 1;}#sk-container-id-3 div.sk-parallel {display: flex;align-items: stretch;justify-content: center;background-color: white;position: relative;}#sk-container-id-3 div.sk-item::before, #sk-container-id-3 div.sk-parallel-item::before {content: \"\";position: absolute;border-left: 1px solid gray;box-sizing: border-box;top: 0;bottom: 0;left: 50%;z-index: -1;}#sk-container-id-3 div.sk-parallel-item {display: flex;flex-direction: column;z-index: 1;position: relative;background-color: white;}#sk-container-id-3 div.sk-parallel-item:first-child::after {align-self: flex-end;width: 50%;}#sk-container-id-3 div.sk-parallel-item:last-child::after {align-self: flex-start;width: 50%;}#sk-container-id-3 div.sk-parallel-item:only-child::after {width: 0;}#sk-container-id-3 div.sk-dashed-wrapped {border: 1px dashed gray;margin: 0 0.4em 0.5em 0.4em;box-sizing: border-box;padding-bottom: 0.4em;background-color: white;}#sk-container-id-3 div.sk-label label {font-family: monospace;font-weight: bold;display: inline-block;line-height: 1.2em;}#sk-container-id-3 div.sk-label-container {text-align: center;}#sk-container-id-3 div.sk-container {/* jupyter's `normalize.less` sets `[hidden] { display: none; }` but bootstrap.min.css set `[hidden] { display: none !important; }` so we also need the `!important` here to be able to override the default hidden behavior on the sphinx rendered scikit-learn.org. See: https://github.com/scikit-learn/scikit-learn/issues/21755 */display: inline-block !important;position: relative;}#sk-container-id-3 div.sk-text-repr-fallback {display: none;}</style><div id=\"sk-container-id-3\" class=\"sk-top-container\"><div class=\"sk-text-repr-fallback\"><pre>MLPClassifier(hidden_layer_sizes=(100, 100, 100))</pre><b>In a Jupyter environment, please rerun this cell to show the HTML representation or trust the notebook. <br />On GitHub, the HTML representation is unable to render, please try loading this page with nbviewer.org.</b></div><div class=\"sk-container\" hidden><div class=\"sk-item\"><div class=\"sk-estimator sk-toggleable\"><input class=\"sk-toggleable__control sk-hidden--visually\" id=\"sk-estimator-id-5\" type=\"checkbox\" checked><label for=\"sk-estimator-id-5\" class=\"sk-toggleable__label sk-toggleable__label-arrow\">MLPClassifier</label><div class=\"sk-toggleable__content\"><pre>MLPClassifier(hidden_layer_sizes=(100, 100, 100))</pre></div></div></div></div></div>"
      ],
      "text/plain": [
       "MLPClassifier(hidden_layer_sizes=(100, 100, 100))"
      ]
     },
     "execution_count": 45,
     "metadata": {},
     "output_type": "execute_result"
    }
   ],
   "source": [
    "mlpc_tuned.fit(X_train_scaled, y_train)"
   ]
  },
  {
   "cell_type": "code",
   "execution_count": 49,
   "id": "8cf791b3-113e-468c-97a3-22b2acc10680",
   "metadata": {
    "tags": []
   },
   "outputs": [
    {
     "data": {
      "text/plain": [
       "0.7056277056277056"
      ]
     },
     "execution_count": 49,
     "metadata": {},
     "output_type": "execute_result"
    }
   ],
   "source": [
    "y_pred = mlpc_tuned.predict(X_test_scaled)\n",
    "accuracy_score(y_test, y_pred)"
   ]
  },
  {
   "cell_type": "markdown",
   "id": "14b6be4f-c226-425e-bcfb-a39474f9acd6",
   "metadata": {},
   "source": [
    "# CART"
   ]
  },
  {
   "cell_type": "markdown",
   "id": "aa5e9ee8-fc0d-444f-8d19-0ed6a869598b",
   "metadata": {},
   "source": [
    "## Model & Tahmin"
   ]
  },
  {
   "cell_type": "code",
   "execution_count": 88,
   "id": "b913903e-4928-4b24-8f20-133065c0c595",
   "metadata": {
    "tags": []
   },
   "outputs": [],
   "source": [
    "df = diabetes.copy()\n",
    "df = df.dropna()\n",
    "y = df[\"Outcome\"]\n",
    "X = df.drop([\"Outcome\"], axis = 1)\n",
    "X = pd.DataFrame(X)\n",
    "X_train, X_test, y_train, y_test = train_test_split(X, y, test_size=0.30, random_state=42)"
   ]
  },
  {
   "cell_type": "code",
   "execution_count": 90,
   "id": "245ac57a-58d5-42e2-95da-5ffc81f803ab",
   "metadata": {
    "tags": []
   },
   "outputs": [],
   "source": [
    "from sklearn.tree import DecisionTreeClassifier"
   ]
  },
  {
   "cell_type": "code",
   "execution_count": 108,
   "id": "24da255d-9b52-497d-afd1-13ec789c0dc3",
   "metadata": {
    "tags": []
   },
   "outputs": [],
   "source": [
    "cart = DecisionTreeClassifier()\n",
    "cart_model = cart.fit(X_train, y_train)"
   ]
  },
  {
   "cell_type": "code",
   "execution_count": 110,
   "id": "c7120f0d-f18d-4b8c-8008-25929b920725",
   "metadata": {
    "tags": []
   },
   "outputs": [
    {
     "data": {
      "text/html": [
       "<style>#sk-container-id-8 {color: black;}#sk-container-id-8 pre{padding: 0;}#sk-container-id-8 div.sk-toggleable {background-color: white;}#sk-container-id-8 label.sk-toggleable__label {cursor: pointer;display: block;width: 100%;margin-bottom: 0;padding: 0.3em;box-sizing: border-box;text-align: center;}#sk-container-id-8 label.sk-toggleable__label-arrow:before {content: \"▸\";float: left;margin-right: 0.25em;color: #696969;}#sk-container-id-8 label.sk-toggleable__label-arrow:hover:before {color: black;}#sk-container-id-8 div.sk-estimator:hover label.sk-toggleable__label-arrow:before {color: black;}#sk-container-id-8 div.sk-toggleable__content {max-height: 0;max-width: 0;overflow: hidden;text-align: left;background-color: #f0f8ff;}#sk-container-id-8 div.sk-toggleable__content pre {margin: 0.2em;color: black;border-radius: 0.25em;background-color: #f0f8ff;}#sk-container-id-8 input.sk-toggleable__control:checked~div.sk-toggleable__content {max-height: 200px;max-width: 100%;overflow: auto;}#sk-container-id-8 input.sk-toggleable__control:checked~label.sk-toggleable__label-arrow:before {content: \"▾\";}#sk-container-id-8 div.sk-estimator input.sk-toggleable__control:checked~label.sk-toggleable__label {background-color: #d4ebff;}#sk-container-id-8 div.sk-label input.sk-toggleable__control:checked~label.sk-toggleable__label {background-color: #d4ebff;}#sk-container-id-8 input.sk-hidden--visually {border: 0;clip: rect(1px 1px 1px 1px);clip: rect(1px, 1px, 1px, 1px);height: 1px;margin: -1px;overflow: hidden;padding: 0;position: absolute;width: 1px;}#sk-container-id-8 div.sk-estimator {font-family: monospace;background-color: #f0f8ff;border: 1px dotted black;border-radius: 0.25em;box-sizing: border-box;margin-bottom: 0.5em;}#sk-container-id-8 div.sk-estimator:hover {background-color: #d4ebff;}#sk-container-id-8 div.sk-parallel-item::after {content: \"\";width: 100%;border-bottom: 1px solid gray;flex-grow: 1;}#sk-container-id-8 div.sk-label:hover label.sk-toggleable__label {background-color: #d4ebff;}#sk-container-id-8 div.sk-serial::before {content: \"\";position: absolute;border-left: 1px solid gray;box-sizing: border-box;top: 0;bottom: 0;left: 50%;z-index: 0;}#sk-container-id-8 div.sk-serial {display: flex;flex-direction: column;align-items: center;background-color: white;padding-right: 0.2em;padding-left: 0.2em;position: relative;}#sk-container-id-8 div.sk-item {position: relative;z-index: 1;}#sk-container-id-8 div.sk-parallel {display: flex;align-items: stretch;justify-content: center;background-color: white;position: relative;}#sk-container-id-8 div.sk-item::before, #sk-container-id-8 div.sk-parallel-item::before {content: \"\";position: absolute;border-left: 1px solid gray;box-sizing: border-box;top: 0;bottom: 0;left: 50%;z-index: -1;}#sk-container-id-8 div.sk-parallel-item {display: flex;flex-direction: column;z-index: 1;position: relative;background-color: white;}#sk-container-id-8 div.sk-parallel-item:first-child::after {align-self: flex-end;width: 50%;}#sk-container-id-8 div.sk-parallel-item:last-child::after {align-self: flex-start;width: 50%;}#sk-container-id-8 div.sk-parallel-item:only-child::after {width: 0;}#sk-container-id-8 div.sk-dashed-wrapped {border: 1px dashed gray;margin: 0 0.4em 0.5em 0.4em;box-sizing: border-box;padding-bottom: 0.4em;background-color: white;}#sk-container-id-8 div.sk-label label {font-family: monospace;font-weight: bold;display: inline-block;line-height: 1.2em;}#sk-container-id-8 div.sk-label-container {text-align: center;}#sk-container-id-8 div.sk-container {/* jupyter's `normalize.less` sets `[hidden] { display: none; }` but bootstrap.min.css set `[hidden] { display: none !important; }` so we also need the `!important` here to be able to override the default hidden behavior on the sphinx rendered scikit-learn.org. See: https://github.com/scikit-learn/scikit-learn/issues/21755 */display: inline-block !important;position: relative;}#sk-container-id-8 div.sk-text-repr-fallback {display: none;}</style><div id=\"sk-container-id-8\" class=\"sk-top-container\"><div class=\"sk-text-repr-fallback\"><pre>DecisionTreeClassifier()</pre><b>In a Jupyter environment, please rerun this cell to show the HTML representation or trust the notebook. <br />On GitHub, the HTML representation is unable to render, please try loading this page with nbviewer.org.</b></div><div class=\"sk-container\" hidden><div class=\"sk-item\"><div class=\"sk-estimator sk-toggleable\"><input class=\"sk-toggleable__control sk-hidden--visually\" id=\"sk-estimator-id-10\" type=\"checkbox\" checked><label for=\"sk-estimator-id-10\" class=\"sk-toggleable__label sk-toggleable__label-arrow\">DecisionTreeClassifier</label><div class=\"sk-toggleable__content\"><pre>DecisionTreeClassifier()</pre></div></div></div></div></div>"
      ],
      "text/plain": [
       "DecisionTreeClassifier()"
      ]
     },
     "execution_count": 110,
     "metadata": {},
     "output_type": "execute_result"
    }
   ],
   "source": [
    "cart_model"
   ]
  },
  {
   "cell_type": "code",
   "execution_count": 112,
   "id": "61523f70-7e81-4249-8c3d-ea187ef53142",
   "metadata": {
    "collapsed": true,
    "jupyter": {
     "outputs_hidden": true
    },
    "tags": []
   },
   "outputs": [
    {
     "name": "stdout",
     "output_type": "stream",
     "text": [
      "((((((0 if x[6] <= 0.671999990940094 else 1 if x[6] <= 0.6974999904632568 else\n",
      "    0) if x[5] <= 31.40000057220459 else ((0 if x[3] <= 40.5 else 1) if x[1\n",
      "    ] <= 111.5 else ((1 if x[1] <= 123.0 else 0) if x[2] <= 65.0 else 0) if\n",
      "    x[2] <= 72.0 else 1) if x[4] <= 9.0 else (0 if x[6] <= \n",
      "    0.6395000219345093 else 1 if x[6] <= 0.6759999990463257 else 0) if x[0] <=\n",
      "    4.5 else 0 if x[3] <= 40.5 else 1) if x[5] <= 49.10000038146973 else 1) if\n",
      "    x[1] <= 127.5 else 1 if x[2] <= 56.0 else (0 if x[7] <= 27.5 else 1 if \n",
      "    x[5] <= 28.149999618530273 else 0) if x[5] <= 30.300000190734863 else 1 if\n",
      "    x[5] <= 32.000000953674316 else ((0 if x[5] <= 33.75 else 1) if x[0] <=\n",
      "    0.5 else 1 if x[5] <= 32.45000076293945 else 0) if x[2] <= 85.0 else 1) if\n",
      "    x[7] <= 28.5 else (1 if x[7] <= 29.5 else (0 if x[1] <= 133.0 else (1 if\n",
      "    x[1] <= 135.5 else 0) if x[2] <= 73.0 else 0) if x[2] <= 94.0 else 0 if\n",
      "    x[1] <= 120.0 else 1) if x[5] <= 26.949999809265137 else (1 if x[1] <= \n",
      "    28.5 else 0 if x[0] <= 9.5 else 0 if x[3] <= 27.0 else 1 if x[4] <= \n",
      "    27.0 else 0) if x[1] <= 94.5 else ((((0 if x[6] <= 0.24950000643730164 else\n",
      "    1 if x[4] <= 115.5 else 0) if x[5] <= 28.34999942779541 else 1 if x[5] <=\n",
      "    31.15000057220459 else (1 if x[6] <= 0.29499999433755875 else 0) if x[7\n",
      "    ] <= 36.5 else (1 if x[6] <= 0.13649999350309372 else 0) if x[6] <= \n",
      "    0.21000000089406967 else 1 if x[0] <= 9.0 else 0 if x[6] <= \n",
      "    0.26500000059604645 else 1) if x[3] <= 26.5 else ((0 if x[1] <= 101.5 else\n",
      "    0 if x[2] <= 45.0 else 1) if x[2] <= 67.0 else 0 if x[4] <= 155.0 else \n",
      "    0 if x[2] <= 76.0 else 1) if x[1] <= 127.5 else (1 if x[6] <= \n",
      "    0.15850000083446503 else 0) if x[6] <= 0.3110000044107437 else 1) if x[\n",
      "    2] <= 83.0 else ((0 if x[3] <= 39.5 else 1 if x[0] <= 6.0 else 0) if x[\n",
      "    5] <= 41.19999885559082 else 1) if x[4] <= 124.0 else 0 if x[3] <= 19.5\n",
      "     else 1) if x[6] <= 0.527999997138977 else ((((0 if x[1] <= 108.5 else \n",
      "    1) if x[7] <= 32.5 else 1) if x[1] <= 132.0 else 0) if x[5] <= \n",
      "    29.09999942779541 else 0 if x[7] <= 50.0 else 1) if x[5] <= \n",
      "    31.600000381469727 else ((1 if x[2] <= 87.0 else 0 if x[7] <= 31.5 else\n",
      "    1) if x[3] <= 54.5 else 0) if x[6] <= 1.1489999890327454 else 1 if x[7] <=\n",
      "    36.0 else 0) if x[1] <= 154.5 else (1 if x[5] <= 25.350000381469727 else\n",
      "    (0 if x[0] <= 1.5 else 1) if x[7] <= 52.5 else 0) if x[5] <= \n",
      "    28.700000762939453 else (((((0 if x[2] <= 67.0 else 1) if x[4] <= 180.0\n",
      "     else 0) if x[4] <= 457.0 else 1) if x[7] <= 30.5 else 1) if x[6] <= \n",
      "    0.3044999986886978 else (1 if x[1] <= 164.5 else 0) if x[1] <= 165.5 else\n",
      "    1) if x[6] <= 1.4275000095367432 else 1 if x[1] <= 181.5 else 0)\n",
      "\n"
     ]
    }
   ],
   "source": [
    "from skompiler import skompile\n",
    "print(skompile(cart_model.predict).to(\"python/code\"))"
   ]
  },
  {
   "cell_type": "code",
   "execution_count": 114,
   "id": "76fd98d0-a758-42f8-a37d-67f3fa04fa22",
   "metadata": {
    "tags": []
   },
   "outputs": [
    {
     "data": {
      "text/plain": [
       "0.7272727272727273"
      ]
     },
     "execution_count": 114,
     "metadata": {},
     "output_type": "execute_result"
    }
   ],
   "source": [
    "y_pred = cart_model.predict(X_test)\n",
    "accuracy_score(y_test, y_pred)"
   ]
  },
  {
   "cell_type": "markdown",
   "id": "42f0808d-c3d1-4dc5-af3a-dc4e3786da14",
   "metadata": {},
   "source": [
    "## Model Tuning"
   ]
  },
  {
   "cell_type": "code",
   "execution_count": 117,
   "id": "c3eb10db-6a58-4861-9596-0a8caf34c423",
   "metadata": {
    "tags": []
   },
   "outputs": [],
   "source": [
    "cart_grid = {\"max_depth\": range(1, 10), \n",
    "             \"min_samples_split\": list(range(2, 50))}"
   ]
  },
  {
   "cell_type": "code",
   "execution_count": 119,
   "id": "c84920c4-9c8b-4bbc-b8d8-a1c84bc061ec",
   "metadata": {
    "tags": []
   },
   "outputs": [
    {
     "name": "stdout",
     "output_type": "stream",
     "text": [
      "Fitting 10 folds for each of 432 candidates, totalling 4320 fits\n"
     ]
    }
   ],
   "source": [
    "cart = tree.DecisionTreeClassifier()\n",
    "cart_cv = GridSearchCV(cart, cart_grid, cv = 10, n_jobs= -1, verbose = 2)\n",
    "cart_cv_model = cart_cv.fit(X_train, y_train)"
   ]
  },
  {
   "cell_type": "code",
   "execution_count": 123,
   "id": "807eb0ae-446b-4b20-ae35-669e00728478",
   "metadata": {
    "tags": []
   },
   "outputs": [
    {
     "name": "stdout",
     "output_type": "stream",
     "text": [
      "En iyi parametreler: {'max_depth': 5, 'min_samples_split': 19}\n"
     ]
    }
   ],
   "source": [
    "print(\"En iyi parametreler: \" + str(cart_cv_model.best_params_))"
   ]
  },
  {
   "cell_type": "code",
   "execution_count": 125,
   "id": "79ae783b-c167-4f59-a09a-332708bf4b65",
   "metadata": {
    "tags": []
   },
   "outputs": [],
   "source": [
    "cart = tree.DecisionTreeClassifier(max_depth=5, min_samples_split=19)\n",
    "cart_tuned = cart.fit(X_train, y_train)"
   ]
  },
  {
   "cell_type": "code",
   "execution_count": 127,
   "id": "a407a2d4-3e28-4516-b19c-453290900e91",
   "metadata": {
    "tags": []
   },
   "outputs": [
    {
     "data": {
      "text/plain": [
       "0.7532467532467533"
      ]
     },
     "execution_count": 127,
     "metadata": {},
     "output_type": "execute_result"
    }
   ],
   "source": [
    "y_pred = cart_tuned.predict(X_test)\n",
    "accuracy_score(y_test, y_pred)"
   ]
  },
  {
   "cell_type": "markdown",
   "id": "6925e32a-0a43-4f9b-b7f0-569cd60f8992",
   "metadata": {},
   "source": [
    "# Random Forests"
   ]
  },
  {
   "cell_type": "code",
   "execution_count": 171,
   "id": "a9d3805d-b4a3-4aa6-8b2f-8eda4428d970",
   "metadata": {
    "tags": []
   },
   "outputs": [],
   "source": [
    "df = diabetes.copy()\n",
    "df = df.dropna()\n",
    "y = df[\"Outcome\"]\n",
    "X = df.drop([\"Outcome\"], axis = 1)\n",
    "X = pd.DataFrame(X)\n",
    "X_train, X_test, y_train, y_test = train_test_split(X, y, test_size=0.30, random_state=42)"
   ]
  },
  {
   "cell_type": "code",
   "execution_count": 173,
   "id": "e7e574e6-962e-4ce6-8626-b9839d3a49ab",
   "metadata": {
    "tags": []
   },
   "outputs": [],
   "source": [
    "from sklearn.ensemble import RandomForestClassifier"
   ]
  },
  {
   "cell_type": "code",
   "execution_count": 175,
   "id": "327452f9-1669-49f8-a10a-304568c06477",
   "metadata": {
    "tags": []
   },
   "outputs": [],
   "source": [
    "rf_model = RandomForestClassifier().fit(X_train, y_train)"
   ]
  },
  {
   "cell_type": "code",
   "execution_count": 177,
   "id": "2ab4fb4b-2f6f-4956-820e-09ae0c1d9184",
   "metadata": {
    "tags": []
   },
   "outputs": [
    {
     "data": {
      "text/html": [
       "<style>#sk-container-id-11 {color: black;}#sk-container-id-11 pre{padding: 0;}#sk-container-id-11 div.sk-toggleable {background-color: white;}#sk-container-id-11 label.sk-toggleable__label {cursor: pointer;display: block;width: 100%;margin-bottom: 0;padding: 0.3em;box-sizing: border-box;text-align: center;}#sk-container-id-11 label.sk-toggleable__label-arrow:before {content: \"▸\";float: left;margin-right: 0.25em;color: #696969;}#sk-container-id-11 label.sk-toggleable__label-arrow:hover:before {color: black;}#sk-container-id-11 div.sk-estimator:hover label.sk-toggleable__label-arrow:before {color: black;}#sk-container-id-11 div.sk-toggleable__content {max-height: 0;max-width: 0;overflow: hidden;text-align: left;background-color: #f0f8ff;}#sk-container-id-11 div.sk-toggleable__content pre {margin: 0.2em;color: black;border-radius: 0.25em;background-color: #f0f8ff;}#sk-container-id-11 input.sk-toggleable__control:checked~div.sk-toggleable__content {max-height: 200px;max-width: 100%;overflow: auto;}#sk-container-id-11 input.sk-toggleable__control:checked~label.sk-toggleable__label-arrow:before {content: \"▾\";}#sk-container-id-11 div.sk-estimator input.sk-toggleable__control:checked~label.sk-toggleable__label {background-color: #d4ebff;}#sk-container-id-11 div.sk-label input.sk-toggleable__control:checked~label.sk-toggleable__label {background-color: #d4ebff;}#sk-container-id-11 input.sk-hidden--visually {border: 0;clip: rect(1px 1px 1px 1px);clip: rect(1px, 1px, 1px, 1px);height: 1px;margin: -1px;overflow: hidden;padding: 0;position: absolute;width: 1px;}#sk-container-id-11 div.sk-estimator {font-family: monospace;background-color: #f0f8ff;border: 1px dotted black;border-radius: 0.25em;box-sizing: border-box;margin-bottom: 0.5em;}#sk-container-id-11 div.sk-estimator:hover {background-color: #d4ebff;}#sk-container-id-11 div.sk-parallel-item::after {content: \"\";width: 100%;border-bottom: 1px solid gray;flex-grow: 1;}#sk-container-id-11 div.sk-label:hover label.sk-toggleable__label {background-color: #d4ebff;}#sk-container-id-11 div.sk-serial::before {content: \"\";position: absolute;border-left: 1px solid gray;box-sizing: border-box;top: 0;bottom: 0;left: 50%;z-index: 0;}#sk-container-id-11 div.sk-serial {display: flex;flex-direction: column;align-items: center;background-color: white;padding-right: 0.2em;padding-left: 0.2em;position: relative;}#sk-container-id-11 div.sk-item {position: relative;z-index: 1;}#sk-container-id-11 div.sk-parallel {display: flex;align-items: stretch;justify-content: center;background-color: white;position: relative;}#sk-container-id-11 div.sk-item::before, #sk-container-id-11 div.sk-parallel-item::before {content: \"\";position: absolute;border-left: 1px solid gray;box-sizing: border-box;top: 0;bottom: 0;left: 50%;z-index: -1;}#sk-container-id-11 div.sk-parallel-item {display: flex;flex-direction: column;z-index: 1;position: relative;background-color: white;}#sk-container-id-11 div.sk-parallel-item:first-child::after {align-self: flex-end;width: 50%;}#sk-container-id-11 div.sk-parallel-item:last-child::after {align-self: flex-start;width: 50%;}#sk-container-id-11 div.sk-parallel-item:only-child::after {width: 0;}#sk-container-id-11 div.sk-dashed-wrapped {border: 1px dashed gray;margin: 0 0.4em 0.5em 0.4em;box-sizing: border-box;padding-bottom: 0.4em;background-color: white;}#sk-container-id-11 div.sk-label label {font-family: monospace;font-weight: bold;display: inline-block;line-height: 1.2em;}#sk-container-id-11 div.sk-label-container {text-align: center;}#sk-container-id-11 div.sk-container {/* jupyter's `normalize.less` sets `[hidden] { display: none; }` but bootstrap.min.css set `[hidden] { display: none !important; }` so we also need the `!important` here to be able to override the default hidden behavior on the sphinx rendered scikit-learn.org. See: https://github.com/scikit-learn/scikit-learn/issues/21755 */display: inline-block !important;position: relative;}#sk-container-id-11 div.sk-text-repr-fallback {display: none;}</style><div id=\"sk-container-id-11\" class=\"sk-top-container\"><div class=\"sk-text-repr-fallback\"><pre>RandomForestClassifier()</pre><b>In a Jupyter environment, please rerun this cell to show the HTML representation or trust the notebook. <br />On GitHub, the HTML representation is unable to render, please try loading this page with nbviewer.org.</b></div><div class=\"sk-container\" hidden><div class=\"sk-item\"><div class=\"sk-estimator sk-toggleable\"><input class=\"sk-toggleable__control sk-hidden--visually\" id=\"sk-estimator-id-13\" type=\"checkbox\" checked><label for=\"sk-estimator-id-13\" class=\"sk-toggleable__label sk-toggleable__label-arrow\">RandomForestClassifier</label><div class=\"sk-toggleable__content\"><pre>RandomForestClassifier()</pre></div></div></div></div></div>"
      ],
      "text/plain": [
       "RandomForestClassifier()"
      ]
     },
     "execution_count": 177,
     "metadata": {},
     "output_type": "execute_result"
    }
   ],
   "source": [
    "rf_model"
   ]
  },
  {
   "cell_type": "code",
   "execution_count": 179,
   "id": "43e8fcd3-70a1-490b-befb-727be3ce0268",
   "metadata": {
    "tags": []
   },
   "outputs": [
    {
     "data": {
      "text/plain": [
       "0.7532467532467533"
      ]
     },
     "execution_count": 179,
     "metadata": {},
     "output_type": "execute_result"
    }
   ],
   "source": [
    "y_pred = rf_model.predict(X_test)\n",
    "accuracy_score(y_test, y_pred)"
   ]
  },
  {
   "cell_type": "markdown",
   "id": "f0dbb40c-1e8a-42c3-801a-552e8dc8114c",
   "metadata": {},
   "source": [
    "## Model Tuning"
   ]
  },
  {
   "cell_type": "code",
   "execution_count": 182,
   "id": "4ff8c35b-ae75-4c48-bdaa-355c26a36346",
   "metadata": {
    "tags": []
   },
   "outputs": [],
   "source": [
    "rf_params = {\"max_depth\": [2, 5, 8, 10], \n",
    "             \"max_features\": [2, 5, 8], \n",
    "             \"n_estimators\": [10, 500, 1000], \n",
    "             \"min_samples_split\": [2, 5, 10]}"
   ]
  },
  {
   "cell_type": "code",
   "execution_count": 184,
   "id": "e8f56d8c-7041-4d57-a733-477554fab876",
   "metadata": {
    "tags": []
   },
   "outputs": [],
   "source": [
    "rf_model = RandomForestClassifier()\n",
    "\n",
    "rf_cv_model = GridSearchCV(rf_model, \n",
    "                           rf_params, \n",
    "                           cv=10, \n",
    "                           n_jobs=-1, \n",
    "                           verbose=2)"
   ]
  },
  {
   "cell_type": "code",
   "execution_count": 186,
   "id": "63a7c91c-98e3-425f-937f-8d0c89acef48",
   "metadata": {
    "tags": []
   },
   "outputs": [
    {
     "name": "stdout",
     "output_type": "stream",
     "text": [
      "Fitting 10 folds for each of 108 candidates, totalling 1080 fits\n"
     ]
    },
    {
     "data": {
      "text/html": [
       "<style>#sk-container-id-12 {color: black;}#sk-container-id-12 pre{padding: 0;}#sk-container-id-12 div.sk-toggleable {background-color: white;}#sk-container-id-12 label.sk-toggleable__label {cursor: pointer;display: block;width: 100%;margin-bottom: 0;padding: 0.3em;box-sizing: border-box;text-align: center;}#sk-container-id-12 label.sk-toggleable__label-arrow:before {content: \"▸\";float: left;margin-right: 0.25em;color: #696969;}#sk-container-id-12 label.sk-toggleable__label-arrow:hover:before {color: black;}#sk-container-id-12 div.sk-estimator:hover label.sk-toggleable__label-arrow:before {color: black;}#sk-container-id-12 div.sk-toggleable__content {max-height: 0;max-width: 0;overflow: hidden;text-align: left;background-color: #f0f8ff;}#sk-container-id-12 div.sk-toggleable__content pre {margin: 0.2em;color: black;border-radius: 0.25em;background-color: #f0f8ff;}#sk-container-id-12 input.sk-toggleable__control:checked~div.sk-toggleable__content {max-height: 200px;max-width: 100%;overflow: auto;}#sk-container-id-12 input.sk-toggleable__control:checked~label.sk-toggleable__label-arrow:before {content: \"▾\";}#sk-container-id-12 div.sk-estimator input.sk-toggleable__control:checked~label.sk-toggleable__label {background-color: #d4ebff;}#sk-container-id-12 div.sk-label input.sk-toggleable__control:checked~label.sk-toggleable__label {background-color: #d4ebff;}#sk-container-id-12 input.sk-hidden--visually {border: 0;clip: rect(1px 1px 1px 1px);clip: rect(1px, 1px, 1px, 1px);height: 1px;margin: -1px;overflow: hidden;padding: 0;position: absolute;width: 1px;}#sk-container-id-12 div.sk-estimator {font-family: monospace;background-color: #f0f8ff;border: 1px dotted black;border-radius: 0.25em;box-sizing: border-box;margin-bottom: 0.5em;}#sk-container-id-12 div.sk-estimator:hover {background-color: #d4ebff;}#sk-container-id-12 div.sk-parallel-item::after {content: \"\";width: 100%;border-bottom: 1px solid gray;flex-grow: 1;}#sk-container-id-12 div.sk-label:hover label.sk-toggleable__label {background-color: #d4ebff;}#sk-container-id-12 div.sk-serial::before {content: \"\";position: absolute;border-left: 1px solid gray;box-sizing: border-box;top: 0;bottom: 0;left: 50%;z-index: 0;}#sk-container-id-12 div.sk-serial {display: flex;flex-direction: column;align-items: center;background-color: white;padding-right: 0.2em;padding-left: 0.2em;position: relative;}#sk-container-id-12 div.sk-item {position: relative;z-index: 1;}#sk-container-id-12 div.sk-parallel {display: flex;align-items: stretch;justify-content: center;background-color: white;position: relative;}#sk-container-id-12 div.sk-item::before, #sk-container-id-12 div.sk-parallel-item::before {content: \"\";position: absolute;border-left: 1px solid gray;box-sizing: border-box;top: 0;bottom: 0;left: 50%;z-index: -1;}#sk-container-id-12 div.sk-parallel-item {display: flex;flex-direction: column;z-index: 1;position: relative;background-color: white;}#sk-container-id-12 div.sk-parallel-item:first-child::after {align-self: flex-end;width: 50%;}#sk-container-id-12 div.sk-parallel-item:last-child::after {align-self: flex-start;width: 50%;}#sk-container-id-12 div.sk-parallel-item:only-child::after {width: 0;}#sk-container-id-12 div.sk-dashed-wrapped {border: 1px dashed gray;margin: 0 0.4em 0.5em 0.4em;box-sizing: border-box;padding-bottom: 0.4em;background-color: white;}#sk-container-id-12 div.sk-label label {font-family: monospace;font-weight: bold;display: inline-block;line-height: 1.2em;}#sk-container-id-12 div.sk-label-container {text-align: center;}#sk-container-id-12 div.sk-container {/* jupyter's `normalize.less` sets `[hidden] { display: none; }` but bootstrap.min.css set `[hidden] { display: none !important; }` so we also need the `!important` here to be able to override the default hidden behavior on the sphinx rendered scikit-learn.org. See: https://github.com/scikit-learn/scikit-learn/issues/21755 */display: inline-block !important;position: relative;}#sk-container-id-12 div.sk-text-repr-fallback {display: none;}</style><div id=\"sk-container-id-12\" class=\"sk-top-container\"><div class=\"sk-text-repr-fallback\"><pre>GridSearchCV(cv=10, estimator=RandomForestClassifier(), n_jobs=-1,\n",
       "             param_grid={&#x27;max_depth&#x27;: [2, 5, 8, 10], &#x27;max_features&#x27;: [2, 5, 8],\n",
       "                         &#x27;min_samples_split&#x27;: [2, 5, 10],\n",
       "                         &#x27;n_estimators&#x27;: [10, 500, 1000]},\n",
       "             verbose=2)</pre><b>In a Jupyter environment, please rerun this cell to show the HTML representation or trust the notebook. <br />On GitHub, the HTML representation is unable to render, please try loading this page with nbviewer.org.</b></div><div class=\"sk-container\" hidden><div class=\"sk-item sk-dashed-wrapped\"><div class=\"sk-label-container\"><div class=\"sk-label sk-toggleable\"><input class=\"sk-toggleable__control sk-hidden--visually\" id=\"sk-estimator-id-14\" type=\"checkbox\" ><label for=\"sk-estimator-id-14\" class=\"sk-toggleable__label sk-toggleable__label-arrow\">GridSearchCV</label><div class=\"sk-toggleable__content\"><pre>GridSearchCV(cv=10, estimator=RandomForestClassifier(), n_jobs=-1,\n",
       "             param_grid={&#x27;max_depth&#x27;: [2, 5, 8, 10], &#x27;max_features&#x27;: [2, 5, 8],\n",
       "                         &#x27;min_samples_split&#x27;: [2, 5, 10],\n",
       "                         &#x27;n_estimators&#x27;: [10, 500, 1000]},\n",
       "             verbose=2)</pre></div></div></div><div class=\"sk-parallel\"><div class=\"sk-parallel-item\"><div class=\"sk-item\"><div class=\"sk-label-container\"><div class=\"sk-label sk-toggleable\"><input class=\"sk-toggleable__control sk-hidden--visually\" id=\"sk-estimator-id-15\" type=\"checkbox\" ><label for=\"sk-estimator-id-15\" class=\"sk-toggleable__label sk-toggleable__label-arrow\">estimator: RandomForestClassifier</label><div class=\"sk-toggleable__content\"><pre>RandomForestClassifier()</pre></div></div></div><div class=\"sk-serial\"><div class=\"sk-item\"><div class=\"sk-estimator sk-toggleable\"><input class=\"sk-toggleable__control sk-hidden--visually\" id=\"sk-estimator-id-16\" type=\"checkbox\" ><label for=\"sk-estimator-id-16\" class=\"sk-toggleable__label sk-toggleable__label-arrow\">RandomForestClassifier</label><div class=\"sk-toggleable__content\"><pre>RandomForestClassifier()</pre></div></div></div></div></div></div></div></div></div></div>"
      ],
      "text/plain": [
       "GridSearchCV(cv=10, estimator=RandomForestClassifier(), n_jobs=-1,\n",
       "             param_grid={'max_depth': [2, 5, 8, 10], 'max_features': [2, 5, 8],\n",
       "                         'min_samples_split': [2, 5, 10],\n",
       "                         'n_estimators': [10, 500, 1000]},\n",
       "             verbose=2)"
      ]
     },
     "execution_count": 186,
     "metadata": {},
     "output_type": "execute_result"
    }
   ],
   "source": [
    "rf_cv_model.fit(X_train, y_train)"
   ]
  },
  {
   "cell_type": "code",
   "execution_count": 192,
   "id": "2dbce77c-4641-4c24-9031-1dbce7caf814",
   "metadata": {
    "tags": []
   },
   "outputs": [
    {
     "name": "stdout",
     "output_type": "stream",
     "text": [
      "En iyi parametreler: {'max_depth': 8, 'max_features': 5, 'min_samples_split': 10, 'n_estimators': 1000}\n"
     ]
    }
   ],
   "source": [
    "print(\"En iyi parametreler: \" + str(rf_cv_model.best_params_))"
   ]
  },
  {
   "cell_type": "code",
   "execution_count": 202,
   "id": "5de4e3d9-1a50-47ab-952f-098c6ba36d7c",
   "metadata": {
    "tags": []
   },
   "outputs": [
    {
     "data": {
      "text/html": [
       "<style>#sk-container-id-14 {color: black;}#sk-container-id-14 pre{padding: 0;}#sk-container-id-14 div.sk-toggleable {background-color: white;}#sk-container-id-14 label.sk-toggleable__label {cursor: pointer;display: block;width: 100%;margin-bottom: 0;padding: 0.3em;box-sizing: border-box;text-align: center;}#sk-container-id-14 label.sk-toggleable__label-arrow:before {content: \"▸\";float: left;margin-right: 0.25em;color: #696969;}#sk-container-id-14 label.sk-toggleable__label-arrow:hover:before {color: black;}#sk-container-id-14 div.sk-estimator:hover label.sk-toggleable__label-arrow:before {color: black;}#sk-container-id-14 div.sk-toggleable__content {max-height: 0;max-width: 0;overflow: hidden;text-align: left;background-color: #f0f8ff;}#sk-container-id-14 div.sk-toggleable__content pre {margin: 0.2em;color: black;border-radius: 0.25em;background-color: #f0f8ff;}#sk-container-id-14 input.sk-toggleable__control:checked~div.sk-toggleable__content {max-height: 200px;max-width: 100%;overflow: auto;}#sk-container-id-14 input.sk-toggleable__control:checked~label.sk-toggleable__label-arrow:before {content: \"▾\";}#sk-container-id-14 div.sk-estimator input.sk-toggleable__control:checked~label.sk-toggleable__label {background-color: #d4ebff;}#sk-container-id-14 div.sk-label input.sk-toggleable__control:checked~label.sk-toggleable__label {background-color: #d4ebff;}#sk-container-id-14 input.sk-hidden--visually {border: 0;clip: rect(1px 1px 1px 1px);clip: rect(1px, 1px, 1px, 1px);height: 1px;margin: -1px;overflow: hidden;padding: 0;position: absolute;width: 1px;}#sk-container-id-14 div.sk-estimator {font-family: monospace;background-color: #f0f8ff;border: 1px dotted black;border-radius: 0.25em;box-sizing: border-box;margin-bottom: 0.5em;}#sk-container-id-14 div.sk-estimator:hover {background-color: #d4ebff;}#sk-container-id-14 div.sk-parallel-item::after {content: \"\";width: 100%;border-bottom: 1px solid gray;flex-grow: 1;}#sk-container-id-14 div.sk-label:hover label.sk-toggleable__label {background-color: #d4ebff;}#sk-container-id-14 div.sk-serial::before {content: \"\";position: absolute;border-left: 1px solid gray;box-sizing: border-box;top: 0;bottom: 0;left: 50%;z-index: 0;}#sk-container-id-14 div.sk-serial {display: flex;flex-direction: column;align-items: center;background-color: white;padding-right: 0.2em;padding-left: 0.2em;position: relative;}#sk-container-id-14 div.sk-item {position: relative;z-index: 1;}#sk-container-id-14 div.sk-parallel {display: flex;align-items: stretch;justify-content: center;background-color: white;position: relative;}#sk-container-id-14 div.sk-item::before, #sk-container-id-14 div.sk-parallel-item::before {content: \"\";position: absolute;border-left: 1px solid gray;box-sizing: border-box;top: 0;bottom: 0;left: 50%;z-index: -1;}#sk-container-id-14 div.sk-parallel-item {display: flex;flex-direction: column;z-index: 1;position: relative;background-color: white;}#sk-container-id-14 div.sk-parallel-item:first-child::after {align-self: flex-end;width: 50%;}#sk-container-id-14 div.sk-parallel-item:last-child::after {align-self: flex-start;width: 50%;}#sk-container-id-14 div.sk-parallel-item:only-child::after {width: 0;}#sk-container-id-14 div.sk-dashed-wrapped {border: 1px dashed gray;margin: 0 0.4em 0.5em 0.4em;box-sizing: border-box;padding-bottom: 0.4em;background-color: white;}#sk-container-id-14 div.sk-label label {font-family: monospace;font-weight: bold;display: inline-block;line-height: 1.2em;}#sk-container-id-14 div.sk-label-container {text-align: center;}#sk-container-id-14 div.sk-container {/* jupyter's `normalize.less` sets `[hidden] { display: none; }` but bootstrap.min.css set `[hidden] { display: none !important; }` so we also need the `!important` here to be able to override the default hidden behavior on the sphinx rendered scikit-learn.org. See: https://github.com/scikit-learn/scikit-learn/issues/21755 */display: inline-block !important;position: relative;}#sk-container-id-14 div.sk-text-repr-fallback {display: none;}</style><div id=\"sk-container-id-14\" class=\"sk-top-container\"><div class=\"sk-text-repr-fallback\"><pre>RandomForestClassifier(max_depth=8, max_features=5, min_samples_split=10,\n",
       "                       n_estimators=1000)</pre><b>In a Jupyter environment, please rerun this cell to show the HTML representation or trust the notebook. <br />On GitHub, the HTML representation is unable to render, please try loading this page with nbviewer.org.</b></div><div class=\"sk-container\" hidden><div class=\"sk-item\"><div class=\"sk-estimator sk-toggleable\"><input class=\"sk-toggleable__control sk-hidden--visually\" id=\"sk-estimator-id-18\" type=\"checkbox\" checked><label for=\"sk-estimator-id-18\" class=\"sk-toggleable__label sk-toggleable__label-arrow\">RandomForestClassifier</label><div class=\"sk-toggleable__content\"><pre>RandomForestClassifier(max_depth=8, max_features=5, min_samples_split=10,\n",
       "                       n_estimators=1000)</pre></div></div></div></div></div>"
      ],
      "text/plain": [
       "RandomForestClassifier(max_depth=8, max_features=5, min_samples_split=10,\n",
       "                       n_estimators=1000)"
      ]
     },
     "execution_count": 202,
     "metadata": {},
     "output_type": "execute_result"
    }
   ],
   "source": [
    "rf_tuned = RandomForestClassifier(max_depth=8, \n",
    "                                  max_features=5, \n",
    "                                  min_samples_split=10, \n",
    "                                  n_estimators = 1000)\n",
    "\n",
    "rf_tuned.fit(X_train, y_train)"
   ]
  },
  {
   "cell_type": "code",
   "execution_count": 204,
   "id": "fda9a624-f0c8-4463-abc6-0ae6e92a1ac5",
   "metadata": {
    "tags": []
   },
   "outputs": [
    {
     "data": {
      "text/plain": [
       "0.7532467532467533"
      ]
     },
     "execution_count": 204,
     "metadata": {},
     "output_type": "execute_result"
    }
   ],
   "source": [
    "y_pred = rf_tuned.predict(X_test)\n",
    "accuracy_score(y_test, y_pred)"
   ]
  },
  {
   "cell_type": "code",
   "execution_count": 206,
   "id": "3eabbfce-eeb0-443c-9a78-71b6bfc14b87",
   "metadata": {
    "tags": []
   },
   "outputs": [],
   "source": [
    "Importance = pd.DataFrame({\"Importance\": rf_tuned.feature_importances_*100}, \n",
    "                          index= X_train.columns)"
   ]
  },
  {
   "cell_type": "code",
   "execution_count": 208,
   "id": "f2994177-6ec1-446e-8b9a-90a743199b22",
   "metadata": {
    "tags": []
   },
   "outputs": [
    {
     "data": {
      "text/plain": [
       "Text(0.5, 0, 'Değişken Önem Düzeyleri')"
      ]
     },
     "execution_count": 208,
     "metadata": {},
     "output_type": "execute_result"
    },
    {
     "data": {
      "image/png": "[encoded data removed]",
      "text/plain": [
       "<Figure size 640x480 with 1 Axes>"
      ]
     },
     "metadata": {},
     "output_type": "display_data"
    }
   ],
   "source": [
    "Importance.sort_values(by= \"Importance\", \n",
    "                       axis=0, \n",
    "                       ascending=True).plot(kind= \"barh\", color= \"r\")\n",
    "\n",
    "plt.xlabel(\"Değişken Önem Düzeyleri\")"
   ]
  },
  {
   "cell_type": "markdown",
   "id": "15eebc6e-041a-4e91-acea-4e2d0a901ca0",
   "metadata": {},
   "source": [
    "# Gradient Boosting Machines"
   ]
  },
  {
   "cell_type": "markdown",
   "id": "e7bd30f3-2f43-41e2-a243-3d875e71ac8b",
   "metadata": {},
   "source": [
    "## Model"
   ]
  },
  {
   "cell_type": "code",
   "execution_count": 8,
   "id": "dfce0d2d-2970-417b-b086-8d7a32e4886b",
   "metadata": {
    "tags": []
   },
   "outputs": [],
   "source": [
    "df = diabetes.copy()\n",
    "df = df.dropna()\n",
    "y = df[\"Outcome\"]\n",
    "X = df.drop([\"Outcome\"], axis = 1)\n",
    "X = pd.DataFrame(X)\n",
    "X_train, X_test, y_train, y_test = train_test_split(X, y, test_size=0.30, random_state=42)"
   ]
  },
  {
   "cell_type": "code",
   "execution_count": 10,
   "id": "568794c5-4a5d-4842-b5a8-b3012f838fa8",
   "metadata": {
    "tags": []
   },
   "outputs": [],
   "source": [
    "from sklearn.ensemble import GradientBoostingClassifier"
   ]
  },
  {
   "cell_type": "code",
   "execution_count": 12,
   "id": "0d892943-aede-4034-a824-264231cc29c6",
   "metadata": {
    "tags": []
   },
   "outputs": [],
   "source": [
    "gbm_model = GradientBoostingClassifier().fit(X_train, y_train)"
   ]
  },
  {
   "cell_type": "code",
   "execution_count": 14,
   "id": "de80d8ff-7d2f-40ba-9377-54f157512014",
   "metadata": {
    "tags": []
   },
   "outputs": [
    {
     "data": {
      "text/plain": [
       "0.7532467532467533"
      ]
     },
     "execution_count": 14,
     "metadata": {},
     "output_type": "execute_result"
    }
   ],
   "source": [
    "y_pred = gbm_model.predict(X_test)\n",
    "accuracy_score(y_test, y_pred)"
   ]
  },
  {
   "cell_type": "markdown",
   "id": "9ef3e930-36e1-4a15-871d-be125e42788a",
   "metadata": {},
   "source": [
    "## Model Tuning"
   ]
  },
  {
   "cell_type": "code",
   "execution_count": 18,
   "id": "e64eac6f-9c55-4e51-9daf-df2d32eb32de",
   "metadata": {
    "tags": []
   },
   "outputs": [
    {
     "data": {
      "text/html": [
       "<style>#sk-container-id-1 {color: black;}#sk-container-id-1 pre{padding: 0;}#sk-container-id-1 div.sk-toggleable {background-color: white;}#sk-container-id-1 label.sk-toggleable__label {cursor: pointer;display: block;width: 100%;margin-bottom: 0;padding: 0.3em;box-sizing: border-box;text-align: center;}#sk-container-id-1 label.sk-toggleable__label-arrow:before {content: \"▸\";float: left;margin-right: 0.25em;color: #696969;}#sk-container-id-1 label.sk-toggleable__label-arrow:hover:before {color: black;}#sk-container-id-1 div.sk-estimator:hover label.sk-toggleable__label-arrow:before {color: black;}#sk-container-id-1 div.sk-toggleable__content {max-height: 0;max-width: 0;overflow: hidden;text-align: left;background-color: #f0f8ff;}#sk-container-id-1 div.sk-toggleable__content pre {margin: 0.2em;color: black;border-radius: 0.25em;background-color: #f0f8ff;}#sk-container-id-1 input.sk-toggleable__control:checked~div.sk-toggleable__content {max-height: 200px;max-width: 100%;overflow: auto;}#sk-container-id-1 input.sk-toggleable__control:checked~label.sk-toggleable__label-arrow:before {content: \"▾\";}#sk-container-id-1 div.sk-estimator input.sk-toggleable__control:checked~label.sk-toggleable__label {background-color: #d4ebff;}#sk-container-id-1 div.sk-label input.sk-toggleable__control:checked~label.sk-toggleable__label {background-color: #d4ebff;}#sk-container-id-1 input.sk-hidden--visually {border: 0;clip: rect(1px 1px 1px 1px);clip: rect(1px, 1px, 1px, 1px);height: 1px;margin: -1px;overflow: hidden;padding: 0;position: absolute;width: 1px;}#sk-container-id-1 div.sk-estimator {font-family: monospace;background-color: #f0f8ff;border: 1px dotted black;border-radius: 0.25em;box-sizing: border-box;margin-bottom: 0.5em;}#sk-container-id-1 div.sk-estimator:hover {background-color: #d4ebff;}#sk-container-id-1 div.sk-parallel-item::after {content: \"\";width: 100%;border-bottom: 1px solid gray;flex-grow: 1;}#sk-container-id-1 div.sk-label:hover label.sk-toggleable__label {background-color: #d4ebff;}#sk-container-id-1 div.sk-serial::before {content: \"\";position: absolute;border-left: 1px solid gray;box-sizing: border-box;top: 0;bottom: 0;left: 50%;z-index: 0;}#sk-container-id-1 div.sk-serial {display: flex;flex-direction: column;align-items: center;background-color: white;padding-right: 0.2em;padding-left: 0.2em;position: relative;}#sk-container-id-1 div.sk-item {position: relative;z-index: 1;}#sk-container-id-1 div.sk-parallel {display: flex;align-items: stretch;justify-content: center;background-color: white;position: relative;}#sk-container-id-1 div.sk-item::before, #sk-container-id-1 div.sk-parallel-item::before {content: \"\";position: absolute;border-left: 1px solid gray;box-sizing: border-box;top: 0;bottom: 0;left: 50%;z-index: -1;}#sk-container-id-1 div.sk-parallel-item {display: flex;flex-direction: column;z-index: 1;position: relative;background-color: white;}#sk-container-id-1 div.sk-parallel-item:first-child::after {align-self: flex-end;width: 50%;}#sk-container-id-1 div.sk-parallel-item:last-child::after {align-self: flex-start;width: 50%;}#sk-container-id-1 div.sk-parallel-item:only-child::after {width: 0;}#sk-container-id-1 div.sk-dashed-wrapped {border: 1px dashed gray;margin: 0 0.4em 0.5em 0.4em;box-sizing: border-box;padding-bottom: 0.4em;background-color: white;}#sk-container-id-1 div.sk-label label {font-family: monospace;font-weight: bold;display: inline-block;line-height: 1.2em;}#sk-container-id-1 div.sk-label-container {text-align: center;}#sk-container-id-1 div.sk-container {/* jupyter's `normalize.less` sets `[hidden] { display: none; }` but bootstrap.min.css set `[hidden] { display: none !important; }` so we also need the `!important` here to be able to override the default hidden behavior on the sphinx rendered scikit-learn.org. See: https://github.com/scikit-learn/scikit-learn/issues/21755 */display: inline-block !important;position: relative;}#sk-container-id-1 div.sk-text-repr-fallback {display: none;}</style><div id=\"sk-container-id-1\" class=\"sk-top-container\"><div class=\"sk-text-repr-fallback\"><pre>GradientBoostingClassifier()</pre><b>In a Jupyter environment, please rerun this cell to show the HTML representation or trust the notebook. <br />On GitHub, the HTML representation is unable to render, please try loading this page with nbviewer.org.</b></div><div class=\"sk-container\" hidden><div class=\"sk-item\"><div class=\"sk-estimator sk-toggleable\"><input class=\"sk-toggleable__control sk-hidden--visually\" id=\"sk-estimator-id-1\" type=\"checkbox\" checked><label for=\"sk-estimator-id-1\" class=\"sk-toggleable__label sk-toggleable__label-arrow\">GradientBoostingClassifier</label><div class=\"sk-toggleable__content\"><pre>GradientBoostingClassifier()</pre></div></div></div></div></div>"
      ],
      "text/plain": [
       "GradientBoostingClassifier()"
      ]
     },
     "execution_count": 18,
     "metadata": {},
     "output_type": "execute_result"
    }
   ],
   "source": [
    "gbm_model"
   ]
  },
  {
   "cell_type": "code",
   "execution_count": 20,
   "id": "6f58ca16-eb60-4ef4-9979-203b3ea6d978",
   "metadata": {
    "tags": []
   },
   "outputs": [],
   "source": [
    "gbm_params = {\"learning_rate\": [0.001, 0.01, 0.1, 0.05], \n",
    "              \"n_estimators\": [100, 500, 100], \n",
    "              \"max_depth\": [3, 5, 10], \n",
    "              \"min_samples_split\": [2, 5, 10]}"
   ]
  },
  {
   "cell_type": "code",
   "execution_count": 22,
   "id": "54abf62d-6f64-4eac-b60e-146dff8d1446",
   "metadata": {
    "tags": []
   },
   "outputs": [],
   "source": [
    "gbm = GradientBoostingClassifier()\n",
    "\n",
    "gbm_cv = GridSearchCV(gbm, gbm_params, cv = 10, n_jobs= -1, verbose=2)"
   ]
  },
  {
   "cell_type": "code",
   "execution_count": 24,
   "id": "f2d2100f-b68c-4c84-abc1-d4b6975ed422",
   "metadata": {
    "tags": []
   },
   "outputs": [
    {
     "name": "stdout",
     "output_type": "stream",
     "text": [
      "Fitting 10 folds for each of 108 candidates, totalling 1080 fits\n"
     ]
    },
    {
     "data": {
      "text/html": [
       "<style>#sk-container-id-2 {color: black;}#sk-container-id-2 pre{padding: 0;}#sk-container-id-2 div.sk-toggleable {background-color: white;}#sk-container-id-2 label.sk-toggleable__label {cursor: pointer;display: block;width: 100%;margin-bottom: 0;padding: 0.3em;box-sizing: border-box;text-align: center;}#sk-container-id-2 label.sk-toggleable__label-arrow:before {content: \"▸\";float: left;margin-right: 0.25em;color: #696969;}#sk-container-id-2 label.sk-toggleable__label-arrow:hover:before {color: black;}#sk-container-id-2 div.sk-estimator:hover label.sk-toggleable__label-arrow:before {color: black;}#sk-container-id-2 div.sk-toggleable__content {max-height: 0;max-width: 0;overflow: hidden;text-align: left;background-color: #f0f8ff;}#sk-container-id-2 div.sk-toggleable__content pre {margin: 0.2em;color: black;border-radius: 0.25em;background-color: #f0f8ff;}#sk-container-id-2 input.sk-toggleable__control:checked~div.sk-toggleable__content {max-height: 200px;max-width: 100%;overflow: auto;}#sk-container-id-2 input.sk-toggleable__control:checked~label.sk-toggleable__label-arrow:before {content: \"▾\";}#sk-container-id-2 div.sk-estimator input.sk-toggleable__control:checked~label.sk-toggleable__label {background-color: #d4ebff;}#sk-container-id-2 div.sk-label input.sk-toggleable__control:checked~label.sk-toggleable__label {background-color: #d4ebff;}#sk-container-id-2 input.sk-hidden--visually {border: 0;clip: rect(1px 1px 1px 1px);clip: rect(1px, 1px, 1px, 1px);height: 1px;margin: -1px;overflow: hidden;padding: 0;position: absolute;width: 1px;}#sk-container-id-2 div.sk-estimator {font-family: monospace;background-color: #f0f8ff;border: 1px dotted black;border-radius: 0.25em;box-sizing: border-box;margin-bottom: 0.5em;}#sk-container-id-2 div.sk-estimator:hover {background-color: #d4ebff;}#sk-container-id-2 div.sk-parallel-item::after {content: \"\";width: 100%;border-bottom: 1px solid gray;flex-grow: 1;}#sk-container-id-2 div.sk-label:hover label.sk-toggleable__label {background-color: #d4ebff;}#sk-container-id-2 div.sk-serial::before {content: \"\";position: absolute;border-left: 1px solid gray;box-sizing: border-box;top: 0;bottom: 0;left: 50%;z-index: 0;}#sk-container-id-2 div.sk-serial {display: flex;flex-direction: column;align-items: center;background-color: white;padding-right: 0.2em;padding-left: 0.2em;position: relative;}#sk-container-id-2 div.sk-item {position: relative;z-index: 1;}#sk-container-id-2 div.sk-parallel {display: flex;align-items: stretch;justify-content: center;background-color: white;position: relative;}#sk-container-id-2 div.sk-item::before, #sk-container-id-2 div.sk-parallel-item::before {content: \"\";position: absolute;border-left: 1px solid gray;box-sizing: border-box;top: 0;bottom: 0;left: 50%;z-index: -1;}#sk-container-id-2 div.sk-parallel-item {display: flex;flex-direction: column;z-index: 1;position: relative;background-color: white;}#sk-container-id-2 div.sk-parallel-item:first-child::after {align-self: flex-end;width: 50%;}#sk-container-id-2 div.sk-parallel-item:last-child::after {align-self: flex-start;width: 50%;}#sk-container-id-2 div.sk-parallel-item:only-child::after {width: 0;}#sk-container-id-2 div.sk-dashed-wrapped {border: 1px dashed gray;margin: 0 0.4em 0.5em 0.4em;box-sizing: border-box;padding-bottom: 0.4em;background-color: white;}#sk-container-id-2 div.sk-label label {font-family: monospace;font-weight: bold;display: inline-block;line-height: 1.2em;}#sk-container-id-2 div.sk-label-container {text-align: center;}#sk-container-id-2 div.sk-container {/* jupyter's `normalize.less` sets `[hidden] { display: none; }` but bootstrap.min.css set `[hidden] { display: none !important; }` so we also need the `!important` here to be able to override the default hidden behavior on the sphinx rendered scikit-learn.org. See: https://github.com/scikit-learn/scikit-learn/issues/21755 */display: inline-block !important;position: relative;}#sk-container-id-2 div.sk-text-repr-fallback {display: none;}</style><div id=\"sk-container-id-2\" class=\"sk-top-container\"><div class=\"sk-text-repr-fallback\"><pre>GridSearchCV(cv=10, estimator=GradientBoostingClassifier(), n_jobs=-1,\n",
       "             param_grid={&#x27;learning_rate&#x27;: [0.001, 0.01, 0.1, 0.05],\n",
       "                         &#x27;max_depth&#x27;: [3, 5, 10],\n",
       "                         &#x27;min_samples_split&#x27;: [2, 5, 10],\n",
       "                         &#x27;n_estimators&#x27;: [100, 500, 100]},\n",
       "             verbose=2)</pre><b>In a Jupyter environment, please rerun this cell to show the HTML representation or trust the notebook. <br />On GitHub, the HTML representation is unable to render, please try loading this page with nbviewer.org.</b></div><div class=\"sk-container\" hidden><div class=\"sk-item sk-dashed-wrapped\"><div class=\"sk-label-container\"><div class=\"sk-label sk-toggleable\"><input class=\"sk-toggleable__control sk-hidden--visually\" id=\"sk-estimator-id-2\" type=\"checkbox\" ><label for=\"sk-estimator-id-2\" class=\"sk-toggleable__label sk-toggleable__label-arrow\">GridSearchCV</label><div class=\"sk-toggleable__content\"><pre>GridSearchCV(cv=10, estimator=GradientBoostingClassifier(), n_jobs=-1,\n",
       "             param_grid={&#x27;learning_rate&#x27;: [0.001, 0.01, 0.1, 0.05],\n",
       "                         &#x27;max_depth&#x27;: [3, 5, 10],\n",
       "                         &#x27;min_samples_split&#x27;: [2, 5, 10],\n",
       "                         &#x27;n_estimators&#x27;: [100, 500, 100]},\n",
       "             verbose=2)</pre></div></div></div><div class=\"sk-parallel\"><div class=\"sk-parallel-item\"><div class=\"sk-item\"><div class=\"sk-label-container\"><div class=\"sk-label sk-toggleable\"><input class=\"sk-toggleable__control sk-hidden--visually\" id=\"sk-estimator-id-3\" type=\"checkbox\" ><label for=\"sk-estimator-id-3\" class=\"sk-toggleable__label sk-toggleable__label-arrow\">estimator: GradientBoostingClassifier</label><div class=\"sk-toggleable__content\"><pre>GradientBoostingClassifier()</pre></div></div></div><div class=\"sk-serial\"><div class=\"sk-item\"><div class=\"sk-estimator sk-toggleable\"><input class=\"sk-toggleable__control sk-hidden--visually\" id=\"sk-estimator-id-4\" type=\"checkbox\" ><label for=\"sk-estimator-id-4\" class=\"sk-toggleable__label sk-toggleable__label-arrow\">GradientBoostingClassifier</label><div class=\"sk-toggleable__content\"><pre>GradientBoostingClassifier()</pre></div></div></div></div></div></div></div></div></div></div>"
      ],
      "text/plain": [
       "GridSearchCV(cv=10, estimator=GradientBoostingClassifier(), n_jobs=-1,\n",
       "             param_grid={'learning_rate': [0.001, 0.01, 0.1, 0.05],\n",
       "                         'max_depth': [3, 5, 10],\n",
       "                         'min_samples_split': [2, 5, 10],\n",
       "                         'n_estimators': [100, 500, 100]},\n",
       "             verbose=2)"
      ]
     },
     "execution_count": 24,
     "metadata": {},
     "output_type": "execute_result"
    }
   ],
   "source": [
    "gbm_cv.fit(X_train, y_train)"
   ]
  },
  {
   "cell_type": "code",
   "execution_count": 28,
   "id": "7900bcf5-cb86-4e40-9c52-f91e5678ad6f",
   "metadata": {
    "tags": []
   },
   "outputs": [
    {
     "name": "stdout",
     "output_type": "stream",
     "text": [
      "En iyi parametreler: {'learning_rate': 0.1, 'max_depth': 3, 'min_samples_split': 5, 'n_estimators': 100}\n"
     ]
    }
   ],
   "source": [
    "print(\"En iyi parametreler: \" + str(gbm_cv.best_params_))"
   ]
  },
  {
   "cell_type": "code",
   "execution_count": 30,
   "id": "e2aafe94-777c-485c-a0ba-79d2ee61eb3d",
   "metadata": {
    "tags": []
   },
   "outputs": [],
   "source": [
    "gbm = GradientBoostingClassifier(learning_rate=0.1, max_depth=3, min_samples_split=5, n_estimators=100)"
   ]
  },
  {
   "cell_type": "code",
   "execution_count": 32,
   "id": "e0d7ac10-1101-48ca-8f5e-b9af289d5ffc",
   "metadata": {
    "tags": []
   },
   "outputs": [],
   "source": [
    "gbm_tuned = gbm.fit(X_train, y_train)"
   ]
  },
  {
   "cell_type": "code",
   "execution_count": 34,
   "id": "efd51ac1-5378-469e-aede-bc55bcbc19c1",
   "metadata": {
    "tags": []
   },
   "outputs": [
    {
     "data": {
      "text/plain": [
       "0.7445887445887446"
      ]
     },
     "execution_count": 34,
     "metadata": {},
     "output_type": "execute_result"
    }
   ],
   "source": [
    "y_pred = gbm_tuned.predict(X_test)\n",
    "accuracy_score(y_test, y_pred)"
   ]
  },
  {
   "cell_type": "markdown",
   "id": "ea8d16a2-cd49-4afb-a3c1-8d1cb1173535",
   "metadata": {},
   "source": [
    "# XGBoost"
   ]
  },
  {
   "cell_type": "markdown",
   "id": "d00b5091-ae68-4124-aa2c-670bca346e94",
   "metadata": {},
   "source": [
    "## Model"
   ]
  },
  {
   "cell_type": "code",
   "execution_count": 38,
   "id": "ac9bd4a6-7886-4288-9aa6-e5ca2bcf6001",
   "metadata": {
    "tags": []
   },
   "outputs": [],
   "source": [
    "df = diabetes.copy()\n",
    "df = df.dropna()\n",
    "y = df[\"Outcome\"]\n",
    "X = df.drop([\"Outcome\"], axis = 1)\n",
    "X = pd.DataFrame(X)\n",
    "X_train, X_test, y_train, y_test = train_test_split(X, y, test_size=0.30, random_state=42)"
   ]
  },
  {
   "cell_type": "code",
   "execution_count": 40,
   "id": "a3393816-71ea-4ede-9557-94373ffd46a3",
   "metadata": {
    "tags": []
   },
   "outputs": [],
   "source": [
    "from xgboost import XGBClassifier"
   ]
  },
  {
   "cell_type": "code",
   "execution_count": 42,
   "id": "5fcb3476-e0c4-4fcc-9508-8be6ee8cd93c",
   "metadata": {
    "tags": []
   },
   "outputs": [],
   "source": [
    "xgb_model = XGBClassifier().fit(X_train, y_train)"
   ]
  },
  {
   "cell_type": "code",
   "execution_count": 44,
   "id": "2a12ae27-ea03-4099-b420-84af4f508677",
   "metadata": {
    "tags": []
   },
   "outputs": [
    {
     "data": {
      "text/html": [
       "<style>#sk-container-id-3 {color: black;}#sk-container-id-3 pre{padding: 0;}#sk-container-id-3 div.sk-toggleable {background-color: white;}#sk-container-id-3 label.sk-toggleable__label {cursor: pointer;display: block;width: 100%;margin-bottom: 0;padding: 0.3em;box-sizing: border-box;text-align: center;}#sk-container-id-3 label.sk-toggleable__label-arrow:before {content: \"▸\";float: left;margin-right: 0.25em;color: #696969;}#sk-container-id-3 label.sk-toggleable__label-arrow:hover:before {color: black;}#sk-container-id-3 div.sk-estimator:hover label.sk-toggleable__label-arrow:before {color: black;}#sk-container-id-3 div.sk-toggleable__content {max-height: 0;max-width: 0;overflow: hidden;text-align: left;background-color: #f0f8ff;}#sk-container-id-3 div.sk-toggleable__content pre {margin: 0.2em;color: black;border-radius: 0.25em;background-color: #f0f8ff;}#sk-container-id-3 input.sk-toggleable__control:checked~div.sk-toggleable__content {max-height: 200px;max-width: 100%;overflow: auto;}#sk-container-id-3 input.sk-toggleable__control:checked~label.sk-toggleable__label-arrow:before {content: \"▾\";}#sk-container-id-3 div.sk-estimator input.sk-toggleable__control:checked~label.sk-toggleable__label {background-color: #d4ebff;}#sk-container-id-3 div.sk-label input.sk-toggleable__control:checked~label.sk-toggleable__label {background-color: #d4ebff;}#sk-container-id-3 input.sk-hidden--visually {border: 0;clip: rect(1px 1px 1px 1px);clip: rect(1px, 1px, 1px, 1px);height: 1px;margin: -1px;overflow: hidden;padding: 0;position: absolute;width: 1px;}#sk-container-id-3 div.sk-estimator {font-family: monospace;background-color: #f0f8ff;border: 1px dotted black;border-radius: 0.25em;box-sizing: border-box;margin-bottom: 0.5em;}#sk-container-id-3 div.sk-estimator:hover {background-color: #d4ebff;}#sk-container-id-3 div.sk-parallel-item::after {content: \"\";width: 100%;border-bottom: 1px solid gray;flex-grow: 1;}#sk-container-id-3 div.sk-label:hover label.sk-toggleable__label {background-color: #d4ebff;}#sk-container-id-3 div.sk-serial::before {content: \"\";position: absolute;border-left: 1px solid gray;box-sizing: border-box;top: 0;bottom: 0;left: 50%;z-index: 0;}#sk-container-id-3 div.sk-serial {display: flex;flex-direction: column;align-items: center;background-color: white;padding-right: 0.2em;padding-left: 0.2em;position: relative;}#sk-container-id-3 div.sk-item {position: relative;z-index: 1;}#sk-container-id-3 div.sk-parallel {display: flex;align-items: stretch;justify-content: center;background-color: white;position: relative;}#sk-container-id-3 div.sk-item::before, #sk-container-id-3 div.sk-parallel-item::before {content: \"\";position: absolute;border-left: 1px solid gray;box-sizing: border-box;top: 0;bottom: 0;left: 50%;z-index: -1;}#sk-container-id-3 div.sk-parallel-item {display: flex;flex-direction: column;z-index: 1;position: relative;background-color: white;}#sk-container-id-3 div.sk-parallel-item:first-child::after {align-self: flex-end;width: 50%;}#sk-container-id-3 div.sk-parallel-item:last-child::after {align-self: flex-start;width: 50%;}#sk-container-id-3 div.sk-parallel-item:only-child::after {width: 0;}#sk-container-id-3 div.sk-dashed-wrapped {border: 1px dashed gray;margin: 0 0.4em 0.5em 0.4em;box-sizing: border-box;padding-bottom: 0.4em;background-color: white;}#sk-container-id-3 div.sk-label label {font-family: monospace;font-weight: bold;display: inline-block;line-height: 1.2em;}#sk-container-id-3 div.sk-label-container {text-align: center;}#sk-container-id-3 div.sk-container {/* jupyter's `normalize.less` sets `[hidden] { display: none; }` but bootstrap.min.css set `[hidden] { display: none !important; }` so we also need the `!important` here to be able to override the default hidden behavior on the sphinx rendered scikit-learn.org. See: https://github.com/scikit-learn/scikit-learn/issues/21755 */display: inline-block !important;position: relative;}#sk-container-id-3 div.sk-text-repr-fallback {display: none;}</style><div id=\"sk-container-id-3\" class=\"sk-top-container\"><div class=\"sk-text-repr-fallback\"><pre>XGBClassifier(base_score=None, booster=None, callbacks=None,\n",
       "              colsample_bylevel=None, colsample_bynode=None,\n",
       "              colsample_bytree=None, device=None, early_stopping_rounds=None,\n",
       "              enable_categorical=False, eval_metric=None, feature_types=None,\n",
       "              gamma=None, grow_policy=None, importance_type=None,\n",
       "              interaction_constraints=None, learning_rate=None, max_bin=None,\n",
       "              max_cat_threshold=None, max_cat_to_onehot=None,\n",
       "              max_delta_step=None, max_depth=None, max_leaves=None,\n",
       "              min_child_weight=None, missing=nan, monotone_constraints=None,\n",
       "              multi_strategy=None, n_estimators=None, n_jobs=None,\n",
       "              num_parallel_tree=None, random_state=None, ...)</pre><b>In a Jupyter environment, please rerun this cell to show the HTML representation or trust the notebook. <br />On GitHub, the HTML representation is unable to render, please try loading this page with nbviewer.org.</b></div><div class=\"sk-container\" hidden><div class=\"sk-item\"><div class=\"sk-estimator sk-toggleable\"><input class=\"sk-toggleable__control sk-hidden--visually\" id=\"sk-estimator-id-5\" type=\"checkbox\" checked><label for=\"sk-estimator-id-5\" class=\"sk-toggleable__label sk-toggleable__label-arrow\">XGBClassifier</label><div class=\"sk-toggleable__content\"><pre>XGBClassifier(base_score=None, booster=None, callbacks=None,\n",
       "              colsample_bylevel=None, colsample_bynode=None,\n",
       "              colsample_bytree=None, device=None, early_stopping_rounds=None,\n",
       "              enable_categorical=False, eval_metric=None, feature_types=None,\n",
       "              gamma=None, grow_policy=None, importance_type=None,\n",
       "              interaction_constraints=None, learning_rate=None, max_bin=None,\n",
       "              max_cat_threshold=None, max_cat_to_onehot=None,\n",
       "              max_delta_step=None, max_depth=None, max_leaves=None,\n",
       "              min_child_weight=None, missing=nan, monotone_constraints=None,\n",
       "              multi_strategy=None, n_estimators=None, n_jobs=None,\n",
       "              num_parallel_tree=None, random_state=None, ...)</pre></div></div></div></div></div>"
      ],
      "text/plain": [
       "XGBClassifier(base_score=None, booster=None, callbacks=None,\n",
       "              colsample_bylevel=None, colsample_bynode=None,\n",
       "              colsample_bytree=None, device=None, early_stopping_rounds=None,\n",
       "              enable_categorical=False, eval_metric=None, feature_types=None,\n",
       "              gamma=None, grow_policy=None, importance_type=None,\n",
       "              interaction_constraints=None, learning_rate=None, max_bin=None,\n",
       "              max_cat_threshold=None, max_cat_to_onehot=None,\n",
       "              max_delta_step=None, max_depth=None, max_leaves=None,\n",
       "              min_child_weight=None, missing=nan, monotone_constraints=None,\n",
       "              multi_strategy=None, n_estimators=None, n_jobs=None,\n",
       "              num_parallel_tree=None, random_state=None, ...)"
      ]
     },
     "execution_count": 44,
     "metadata": {},
     "output_type": "execute_result"
    }
   ],
   "source": [
    "xgb_model"
   ]
  },
  {
   "cell_type": "code",
   "execution_count": 46,
   "id": "88abe9dc-3bae-4b60-b6f9-ceab09f5cb68",
   "metadata": {
    "tags": []
   },
   "outputs": [
    {
     "data": {
      "text/plain": [
       "0.7272727272727273"
      ]
     },
     "execution_count": 46,
     "metadata": {},
     "output_type": "execute_result"
    }
   ],
   "source": [
    "y_pred = xgb_model.predict(X_test)\n",
    "accuracy_score(y_test, y_pred)"
   ]
  },
  {
   "cell_type": "markdown",
   "id": "c5b0d901-1a46-4140-8b1d-b0613ba30f24",
   "metadata": {},
   "source": [
    "## Model Tuning"
   ]
  },
  {
   "cell_type": "code",
   "execution_count": 49,
   "id": "60e4254b-312a-4c97-863e-7b8a98446e7d",
   "metadata": {
    "tags": []
   },
   "outputs": [],
   "source": [
    "xgb_params = {\"n_estimators\": [100, 500, 1000, 2000], \n",
    "              \"subsample\": [0.6, 0.8, 1.0], \n",
    "              \"max_depth\": [3, 4, 5, 6], \n",
    "              \"learning_rate\": [0.1, 0.01, 0.02, 0.05], \n",
    "              \"min_samples_split\": [2, 5, 10]}"
   ]
  },
  {
   "cell_type": "code",
   "execution_count": 51,
   "id": "984e00a6-530a-42c9-b5ff-b739ec886b11",
   "metadata": {
    "tags": []
   },
   "outputs": [],
   "source": [
    "xgb = XGBClassifier()\n",
    "xgb_model_cv = GridSearchCV(xgb, xgb_params, cv=10, n_jobs=-1, verbose=2)"
   ]
  },
  {
   "cell_type": "code",
   "execution_count": 53,
   "id": "de6e2b61-3da9-447c-91bd-46fced46c192",
   "metadata": {
    "tags": []
   },
   "outputs": [
    {
     "name": "stdout",
     "output_type": "stream",
     "text": [
      "Fitting 10 folds for each of 576 candidates, totalling 5760 fits\n"
     ]
    },
    {
     "data": {
      "text/html": [
       "<style>#sk-container-id-4 {color: black;}#sk-container-id-4 pre{padding: 0;}#sk-container-id-4 div.sk-toggleable {background-color: white;}#sk-container-id-4 label.sk-toggleable__label {cursor: pointer;display: block;width: 100%;margin-bottom: 0;padding: 0.3em;box-sizing: border-box;text-align: center;}#sk-container-id-4 label.sk-toggleable__label-arrow:before {content: \"▸\";float: left;margin-right: 0.25em;color: #696969;}#sk-container-id-4 label.sk-toggleable__label-arrow:hover:before {color: black;}#sk-container-id-4 div.sk-estimator:hover label.sk-toggleable__label-arrow:before {color: black;}#sk-container-id-4 div.sk-toggleable__content {max-height: 0;max-width: 0;overflow: hidden;text-align: left;background-color: #f0f8ff;}#sk-container-id-4 div.sk-toggleable__content pre {margin: 0.2em;color: black;border-radius: 0.25em;background-color: #f0f8ff;}#sk-container-id-4 input.sk-toggleable__control:checked~div.sk-toggleable__content {max-height: 200px;max-width: 100%;overflow: auto;}#sk-container-id-4 input.sk-toggleable__control:checked~label.sk-toggleable__label-arrow:before {content: \"▾\";}#sk-container-id-4 div.sk-estimator input.sk-toggleable__control:checked~label.sk-toggleable__label {background-color: #d4ebff;}#sk-container-id-4 div.sk-label input.sk-toggleable__control:checked~label.sk-toggleable__label {background-color: #d4ebff;}#sk-container-id-4 input.sk-hidden--visually {border: 0;clip: rect(1px 1px 1px 1px);clip: rect(1px, 1px, 1px, 1px);height: 1px;margin: -1px;overflow: hidden;padding: 0;position: absolute;width: 1px;}#sk-container-id-4 div.sk-estimator {font-family: monospace;background-color: #f0f8ff;border: 1px dotted black;border-radius: 0.25em;box-sizing: border-box;margin-bottom: 0.5em;}#sk-container-id-4 div.sk-estimator:hover {background-color: #d4ebff;}#sk-container-id-4 div.sk-parallel-item::after {content: \"\";width: 100%;border-bottom: 1px solid gray;flex-grow: 1;}#sk-container-id-4 div.sk-label:hover label.sk-toggleable__label {background-color: #d4ebff;}#sk-container-id-4 div.sk-serial::before {content: \"\";position: absolute;border-left: 1px solid gray;box-sizing: border-box;top: 0;bottom: 0;left: 50%;z-index: 0;}#sk-container-id-4 div.sk-serial {display: flex;flex-direction: column;align-items: center;background-color: white;padding-right: 0.2em;padding-left: 0.2em;position: relative;}#sk-container-id-4 div.sk-item {position: relative;z-index: 1;}#sk-container-id-4 div.sk-parallel {display: flex;align-items: stretch;justify-content: center;background-color: white;position: relative;}#sk-container-id-4 div.sk-item::before, #sk-container-id-4 div.sk-parallel-item::before {content: \"\";position: absolute;border-left: 1px solid gray;box-sizing: border-box;top: 0;bottom: 0;left: 50%;z-index: -1;}#sk-container-id-4 div.sk-parallel-item {display: flex;flex-direction: column;z-index: 1;position: relative;background-color: white;}#sk-container-id-4 div.sk-parallel-item:first-child::after {align-self: flex-end;width: 50%;}#sk-container-id-4 div.sk-parallel-item:last-child::after {align-self: flex-start;width: 50%;}#sk-container-id-4 div.sk-parallel-item:only-child::after {width: 0;}#sk-container-id-4 div.sk-dashed-wrapped {border: 1px dashed gray;margin: 0 0.4em 0.5em 0.4em;box-sizing: border-box;padding-bottom: 0.4em;background-color: white;}#sk-container-id-4 div.sk-label label {font-family: monospace;font-weight: bold;display: inline-block;line-height: 1.2em;}#sk-container-id-4 div.sk-label-container {text-align: center;}#sk-container-id-4 div.sk-container {/* jupyter's `normalize.less` sets `[hidden] { display: none; }` but bootstrap.min.css set `[hidden] { display: none !important; }` so we also need the `!important` here to be able to override the default hidden behavior on the sphinx rendered scikit-learn.org. See: https://github.com/scikit-learn/scikit-learn/issues/21755 */display: inline-block !important;position: relative;}#sk-container-id-4 div.sk-text-repr-fallback {display: none;}</style><div id=\"sk-container-id-4\" class=\"sk-top-container\"><div class=\"sk-text-repr-fallback\"><pre>GridSearchCV(cv=10,\n",
       "             estimator=XGBClassifier(base_score=None, booster=None,\n",
       "                                     callbacks=None, colsample_bylevel=None,\n",
       "                                     colsample_bynode=None,\n",
       "                                     colsample_bytree=None, device=None,\n",
       "                                     early_stopping_rounds=None,\n",
       "                                     enable_categorical=False, eval_metric=None,\n",
       "                                     feature_types=None, gamma=None,\n",
       "                                     grow_policy=None, importance_type=None,\n",
       "                                     interaction_constraints=None,\n",
       "                                     learning_rate=None...\n",
       "                                     max_leaves=None, min_child_weight=None,\n",
       "                                     missing=nan, monotone_constraints=None,\n",
       "                                     multi_strategy=None, n_estimators=None,\n",
       "                                     n_jobs=None, num_parallel_tree=None,\n",
       "                                     random_state=None, ...),\n",
       "             n_jobs=-1,\n",
       "             param_grid={&#x27;learning_rate&#x27;: [0.1, 0.01, 0.02, 0.05],\n",
       "                         &#x27;max_depth&#x27;: [3, 4, 5, 6],\n",
       "                         &#x27;min_samples_split&#x27;: [2, 5, 10],\n",
       "                         &#x27;n_estimators&#x27;: [100, 500, 1000, 2000],\n",
       "                         &#x27;subsample&#x27;: [0.6, 0.8, 1.0]},\n",
       "             verbose=2)</pre><b>In a Jupyter environment, please rerun this cell to show the HTML representation or trust the notebook. <br />On GitHub, the HTML representation is unable to render, please try loading this page with nbviewer.org.</b></div><div class=\"sk-container\" hidden><div class=\"sk-item sk-dashed-wrapped\"><div class=\"sk-label-container\"><div class=\"sk-label sk-toggleable\"><input class=\"sk-toggleable__control sk-hidden--visually\" id=\"sk-estimator-id-6\" type=\"checkbox\" ><label for=\"sk-estimator-id-6\" class=\"sk-toggleable__label sk-toggleable__label-arrow\">GridSearchCV</label><div class=\"sk-toggleable__content\"><pre>GridSearchCV(cv=10,\n",
       "             estimator=XGBClassifier(base_score=None, booster=None,\n",
       "                                     callbacks=None, colsample_bylevel=None,\n",
       "                                     colsample_bynode=None,\n",
       "                                     colsample_bytree=None, device=None,\n",
       "                                     early_stopping_rounds=None,\n",
       "                                     enable_categorical=False, eval_metric=None,\n",
       "                                     feature_types=None, gamma=None,\n",
       "                                     grow_policy=None, importance_type=None,\n",
       "                                     interaction_constraints=None,\n",
       "                                     learning_rate=None...\n",
       "                                     max_leaves=None, min_child_weight=None,\n",
       "                                     missing=nan, monotone_constraints=None,\n",
       "                                     multi_strategy=None, n_estimators=None,\n",
       "                                     n_jobs=None, num_parallel_tree=None,\n",
       "                                     random_state=None, ...),\n",
       "             n_jobs=-1,\n",
       "             param_grid={&#x27;learning_rate&#x27;: [0.1, 0.01, 0.02, 0.05],\n",
       "                         &#x27;max_depth&#x27;: [3, 4, 5, 6],\n",
       "                         &#x27;min_samples_split&#x27;: [2, 5, 10],\n",
       "                         &#x27;n_estimators&#x27;: [100, 500, 1000, 2000],\n",
       "                         &#x27;subsample&#x27;: [0.6, 0.8, 1.0]},\n",
       "             verbose=2)</pre></div></div></div><div class=\"sk-parallel\"><div class=\"sk-parallel-item\"><div class=\"sk-item\"><div class=\"sk-label-container\"><div class=\"sk-label sk-toggleable\"><input class=\"sk-toggleable__control sk-hidden--visually\" id=\"sk-estimator-id-7\" type=\"checkbox\" ><label for=\"sk-estimator-id-7\" class=\"sk-toggleable__label sk-toggleable__label-arrow\">estimator: XGBClassifier</label><div class=\"sk-toggleable__content\"><pre>XGBClassifier(base_score=None, booster=None, callbacks=None,\n",
       "              colsample_bylevel=None, colsample_bynode=None,\n",
       "              colsample_bytree=None, device=None, early_stopping_rounds=None,\n",
       "              enable_categorical=False, eval_metric=None, feature_types=None,\n",
       "              gamma=None, grow_policy=None, importance_type=None,\n",
       "              interaction_constraints=None, learning_rate=None, max_bin=None,\n",
       "              max_cat_threshold=None, max_cat_to_onehot=None,\n",
       "              max_delta_step=None, max_depth=None, max_leaves=None,\n",
       "              min_child_weight=None, missing=nan, monotone_constraints=None,\n",
       "              multi_strategy=None, n_estimators=None, n_jobs=None,\n",
       "              num_parallel_tree=None, random_state=None, ...)</pre></div></div></div><div class=\"sk-serial\"><div class=\"sk-item\"><div class=\"sk-estimator sk-toggleable\"><input class=\"sk-toggleable__control sk-hidden--visually\" id=\"sk-estimator-id-8\" type=\"checkbox\" ><label for=\"sk-estimator-id-8\" class=\"sk-toggleable__label sk-toggleable__label-arrow\">XGBClassifier</label><div class=\"sk-toggleable__content\"><pre>XGBClassifier(base_score=None, booster=None, callbacks=None,\n",
       "              colsample_bylevel=None, colsample_bynode=None,\n",
       "              colsample_bytree=None, device=None, early_stopping_rounds=None,\n",
       "              enable_categorical=False, eval_metric=None, feature_types=None,\n",
       "              gamma=None, grow_policy=None, importance_type=None,\n",
       "              interaction_constraints=None, learning_rate=None, max_bin=None,\n",
       "              max_cat_threshold=None, max_cat_to_onehot=None,\n",
       "              max_delta_step=None, max_depth=None, max_leaves=None,\n",
       "              min_child_weight=None, missing=nan, monotone_constraints=None,\n",
       "              multi_strategy=None, n_estimators=None, n_jobs=None,\n",
       "              num_parallel_tree=None, random_state=None, ...)</pre></div></div></div></div></div></div></div></div></div></div>"
      ],
      "text/plain": [
       "GridSearchCV(cv=10,\n",
       "             estimator=XGBClassifier(base_score=None, booster=None,\n",
       "                                     callbacks=None, colsample_bylevel=None,\n",
       "                                     colsample_bynode=None,\n",
       "                                     colsample_bytree=None, device=None,\n",
       "                                     early_stopping_rounds=None,\n",
       "                                     enable_categorical=False, eval_metric=None,\n",
       "                                     feature_types=None, gamma=None,\n",
       "                                     grow_policy=None, importance_type=None,\n",
       "                                     interaction_constraints=None,\n",
       "                                     learning_rate=None...\n",
       "                                     max_leaves=None, min_child_weight=None,\n",
       "                                     missing=nan, monotone_constraints=None,\n",
       "                                     multi_strategy=None, n_estimators=None,\n",
       "                                     n_jobs=None, num_parallel_tree=None,\n",
       "                                     random_state=None, ...),\n",
       "             n_jobs=-1,\n",
       "             param_grid={'learning_rate': [0.1, 0.01, 0.02, 0.05],\n",
       "                         'max_depth': [3, 4, 5, 6],\n",
       "                         'min_samples_split': [2, 5, 10],\n",
       "                         'n_estimators': [100, 500, 1000, 2000],\n",
       "                         'subsample': [0.6, 0.8, 1.0]},\n",
       "             verbose=2)"
      ]
     },
     "execution_count": 53,
     "metadata": {},
     "output_type": "execute_result"
    }
   ],
   "source": [
    "xgb_model_cv.fit(X_train, y_train)"
   ]
  },
  {
   "cell_type": "code",
   "execution_count": 57,
   "id": "e907059f-d7b2-494c-852b-88af2241ea52",
   "metadata": {
    "tags": []
   },
   "outputs": [
    {
     "data": {
      "text/plain": [
       "{'learning_rate': 0.05,\n",
       " 'max_depth': 3,\n",
       " 'min_samples_split': 2,\n",
       " 'n_estimators': 100,\n",
       " 'subsample': 1.0}"
      ]
     },
     "execution_count": 57,
     "metadata": {},
     "output_type": "execute_result"
    }
   ],
   "source": [
    "xgb_model_cv.best_params_"
   ]
  },
  {
   "cell_type": "code",
   "execution_count": 7,
   "id": "b2a78eb6-18ee-4895-a8db-d74dc1bdbc90",
   "metadata": {},
   "outputs": [],
   "source": [
    "xgb = XGBClassifier(learning_rate = 0.05, max_depth = 3, min_samples_split = 2)"
   ]
  },
  {
   "cell_type": "markdown",
   "id": "a6b3fcd9-b609-42e7-9b7d-d9369e4f8fb9",
   "metadata": {},
   "source": [
    "# LightGBM"
   ]
  },
  {
   "cell_type": "markdown",
   "id": "3ed63d04-4361-40f6-a724-6560b6e4518f",
   "metadata": {},
   "source": [
    "## Model"
   ]
  },
  {
   "cell_type": "code",
   "execution_count": 20,
   "id": "561c5681-0383-4535-92ab-43fc55c33e34",
   "metadata": {
    "tags": []
   },
   "outputs": [],
   "source": [
    "df = diabetes.copy()\n",
    "df = df.dropna()\n",
    "y = df[\"Outcome\"]\n",
    "X = df.drop(['Outcome'], axis = 1)\n",
    "X = pd.DataFrame(X)\n",
    "X_train, X_test, y_train, y_test = train_test_split(X, y, \n",
    "                                                    test_size=0.30, \n",
    "                                                    random_state=42)"
   ]
  },
  {
   "cell_type": "code",
   "execution_count": 22,
   "id": "b67b973c-403e-44a6-a410-f603b7d3f137",
   "metadata": {
    "tags": []
   },
   "outputs": [],
   "source": [
    "from lightgbm import LGBMClassifier"
   ]
  },
  {
   "cell_type": "code",
   "execution_count": 26,
   "id": "5a83fa4e-92a9-4c74-a7ba-1df8463ad56a",
   "metadata": {
    "collapsed": true,
    "jupyter": {
     "outputs_hidden": true
    },
    "tags": []
   },
   "outputs": [
    {
     "name": "stdout",
     "output_type": "stream",
     "text": [
      "[LightGBM] [Info] Number of positive: 188, number of negative: 349\n",
      "[LightGBM] [Info] Auto-choosing col-wise multi-threading, the overhead of testing was 0.000087 seconds.\n",
      "You can set `force_col_wise=true` to remove the overhead.\n",
      "[LightGBM] [Info] Total Bins 606\n",
      "[LightGBM] [Info] Number of data points in the train set: 537, number of used features: 8\n",
      "[LightGBM] [Info] [binary:BoostFromScore]: pavg=0.350093 -> initscore=-0.618630\n",
      "[LightGBM] [Info] Start training from score -0.618630\n",
      "[LightGBM] [Warning] No further splits with positive gain, best gain: -inf\n",
      "[LightGBM] [Warning] No further splits with positive gain, best gain: -inf\n",
      "[LightGBM] [Warning] No further splits with positive gain, best gain: -inf\n",
      "[LightGBM] [Warning] No further splits with positive gain, best gain: -inf\n",
      "[LightGBM] [Warning] No further splits with positive gain, best gain: -inf\n",
      "[LightGBM] [Warning] No further splits with positive gain, best gain: -inf\n",
      "[LightGBM] [Warning] No further splits with positive gain, best gain: -inf\n",
      "[LightGBM] [Warning] No further splits with positive gain, best gain: -inf\n",
      "[LightGBM] [Warning] No further splits with positive gain, best gain: -inf\n",
      "[LightGBM] [Warning] No further splits with positive gain, best gain: -inf\n",
      "[LightGBM] [Warning] No further splits with positive gain, best gain: -inf\n",
      "[LightGBM] [Warning] No further splits with positive gain, best gain: -inf\n",
      "[LightGBM] [Warning] No further splits with positive gain, best gain: -inf\n",
      "[LightGBM] [Warning] No further splits with positive gain, best gain: -inf\n",
      "[LightGBM] [Warning] No further splits with positive gain, best gain: -inf\n",
      "[LightGBM] [Warning] No further splits with positive gain, best gain: -inf\n",
      "[LightGBM] [Warning] No further splits with positive gain, best gain: -inf\n",
      "[LightGBM] [Warning] No further splits with positive gain, best gain: -inf\n",
      "[LightGBM] [Warning] No further splits with positive gain, best gain: -inf\n",
      "[LightGBM] [Warning] No further splits with positive gain, best gain: -inf\n",
      "[LightGBM] [Warning] No further splits with positive gain, best gain: -inf\n",
      "[LightGBM] [Warning] No further splits with positive gain, best gain: -inf\n",
      "[LightGBM] [Warning] No further splits with positive gain, best gain: -inf\n",
      "[LightGBM] [Warning] No further splits with positive gain, best gain: -inf\n",
      "[LightGBM] [Warning] No further splits with positive gain, best gain: -inf\n",
      "[LightGBM] [Warning] No further splits with positive gain, best gain: -inf\n",
      "[LightGBM] [Warning] No further splits with positive gain, best gain: -inf\n",
      "[LightGBM] [Warning] No further splits with positive gain, best gain: -inf\n",
      "[LightGBM] [Warning] No further splits with positive gain, best gain: -inf\n",
      "[LightGBM] [Warning] No further splits with positive gain, best gain: -inf\n",
      "[LightGBM] [Warning] No further splits with positive gain, best gain: -inf\n",
      "[LightGBM] [Warning] No further splits with positive gain, best gain: -inf\n",
      "[LightGBM] [Warning] No further splits with positive gain, best gain: -inf\n",
      "[LightGBM] [Warning] No further splits with positive gain, best gain: -inf\n",
      "[LightGBM] [Warning] No further splits with positive gain, best gain: -inf\n",
      "[LightGBM] [Warning] No further splits with positive gain, best gain: -inf\n",
      "[LightGBM] [Warning] No further splits with positive gain, best gain: -inf\n",
      "[LightGBM] [Warning] No further splits with positive gain, best gain: -inf\n",
      "[LightGBM] [Warning] No further splits with positive gain, best gain: -inf\n",
      "[LightGBM] [Warning] No further splits with positive gain, best gain: -inf\n",
      "[LightGBM] [Warning] No further splits with positive gain, best gain: -inf\n",
      "[LightGBM] [Warning] No further splits with positive gain, best gain: -inf\n",
      "[LightGBM] [Warning] No further splits with positive gain, best gain: -inf\n",
      "[LightGBM] [Warning] No further splits with positive gain, best gain: -inf\n",
      "[LightGBM] [Warning] No further splits with positive gain, best gain: -inf\n",
      "[LightGBM] [Warning] No further splits with positive gain, best gain: -inf\n",
      "[LightGBM] [Warning] No further splits with positive gain, best gain: -inf\n",
      "[LightGBM] [Warning] No further splits with positive gain, best gain: -inf\n",
      "[LightGBM] [Warning] No further splits with positive gain, best gain: -inf\n",
      "[LightGBM] [Warning] No further splits with positive gain, best gain: -inf\n",
      "[LightGBM] [Warning] No further splits with positive gain, best gain: -inf\n",
      "[LightGBM] [Warning] No further splits with positive gain, best gain: -inf\n",
      "[LightGBM] [Warning] No further splits with positive gain, best gain: -inf\n",
      "[LightGBM] [Warning] No further splits with positive gain, best gain: -inf\n",
      "[LightGBM] [Warning] No further splits with positive gain, best gain: -inf\n",
      "[LightGBM] [Warning] No further splits with positive gain, best gain: -inf\n",
      "[LightGBM] [Warning] No further splits with positive gain, best gain: -inf\n",
      "[LightGBM] [Warning] No further splits with positive gain, best gain: -inf\n",
      "[LightGBM] [Warning] No further splits with positive gain, best gain: -inf\n",
      "[LightGBM] [Warning] No further splits with positive gain, best gain: -inf\n",
      "[LightGBM] [Warning] No further splits with positive gain, best gain: -inf\n",
      "[LightGBM] [Warning] No further splits with positive gain, best gain: -inf\n",
      "[LightGBM] [Warning] No further splits with positive gain, best gain: -inf\n",
      "[LightGBM] [Warning] No further splits with positive gain, best gain: -inf\n",
      "[LightGBM] [Warning] No further splits with positive gain, best gain: -inf\n",
      "[LightGBM] [Warning] No further splits with positive gain, best gain: -inf\n",
      "[LightGBM] [Warning] No further splits with positive gain, best gain: -inf\n",
      "[LightGBM] [Warning] No further splits with positive gain, best gain: -inf\n",
      "[LightGBM] [Warning] No further splits with positive gain, best gain: -inf\n",
      "[LightGBM] [Warning] No further splits with positive gain, best gain: -inf\n",
      "[LightGBM] [Warning] No further splits with positive gain, best gain: -inf\n",
      "[LightGBM] [Warning] No further splits with positive gain, best gain: -inf\n",
      "[LightGBM] [Warning] No further splits with positive gain, best gain: -inf\n",
      "[LightGBM] [Warning] No further splits with positive gain, best gain: -inf\n",
      "[LightGBM] [Warning] No further splits with positive gain, best gain: -inf\n",
      "[LightGBM] [Warning] No further splits with positive gain, best gain: -inf\n",
      "[LightGBM] [Warning] No further splits with positive gain, best gain: -inf\n",
      "[LightGBM] [Warning] No further splits with positive gain, best gain: -inf\n",
      "[LightGBM] [Warning] No further splits with positive gain, best gain: -inf\n",
      "[LightGBM] [Warning] No further splits with positive gain, best gain: -inf\n",
      "[LightGBM] [Warning] No further splits with positive gain, best gain: -inf\n",
      "[LightGBM] [Warning] No further splits with positive gain, best gain: -inf\n",
      "[LightGBM] [Warning] No further splits with positive gain, best gain: -inf\n",
      "[LightGBM] [Warning] No further splits with positive gain, best gain: -inf\n",
      "[LightGBM] [Warning] No further splits with positive gain, best gain: -inf\n",
      "[LightGBM] [Warning] No further splits with positive gain, best gain: -inf\n",
      "[LightGBM] [Warning] No further splits with positive gain, best gain: -inf\n",
      "[LightGBM] [Warning] No further splits with positive gain, best gain: -inf\n",
      "[LightGBM] [Warning] No further splits with positive gain, best gain: -inf\n",
      "[LightGBM] [Warning] No further splits with positive gain, best gain: -inf\n",
      "[LightGBM] [Warning] No further splits with positive gain, best gain: -inf\n",
      "[LightGBM] [Warning] No further splits with positive gain, best gain: -inf\n",
      "[LightGBM] [Warning] No further splits with positive gain, best gain: -inf\n",
      "[LightGBM] [Warning] No further splits with positive gain, best gain: -inf\n",
      "[LightGBM] [Warning] No further splits with positive gain, best gain: -inf\n",
      "[LightGBM] [Warning] No further splits with positive gain, best gain: -inf\n",
      "[LightGBM] [Warning] No further splits with positive gain, best gain: -inf\n",
      "[LightGBM] [Warning] No further splits with positive gain, best gain: -inf\n",
      "[LightGBM] [Warning] No further splits with positive gain, best gain: -inf\n",
      "[LightGBM] [Warning] No further splits with positive gain, best gain: -inf\n"
     ]
    }
   ],
   "source": [
    "lgbm_model = LGBMClassifier().fit(X_train, y_train)"
   ]
  },
  {
   "cell_type": "code",
   "execution_count": 28,
   "id": "1bb72df5-4b7e-4268-aac3-656f88dcabdd",
   "metadata": {
    "tags": []
   },
   "outputs": [
    {
     "data": {
      "text/plain": [
       "0.7229437229437229"
      ]
     },
     "execution_count": 28,
     "metadata": {},
     "output_type": "execute_result"
    }
   ],
   "source": [
    "y_pred = lgbm_model.predict(X_test)\n",
    "accuracy_score(y_test, y_pred)"
   ]
  },
  {
   "cell_type": "markdown",
   "id": "80f396ae-4140-4b43-928c-9254fa75d618",
   "metadata": {},
   "source": [
    "## Model Tuning"
   ]
  },
  {
   "cell_type": "code",
   "execution_count": 31,
   "id": "581182f9-f6b6-4e43-9c11-c137118d386b",
   "metadata": {
    "tags": []
   },
   "outputs": [],
   "source": [
    "lgbm_params = {\"n_estimators\": [100, 500, 1000, 2000], \n",
    "              \"subsample\": [0.6, 0.8, 1.0], \n",
    "              \"max_depth\": [3, 4, 5, 6], \n",
    "              \"learning_rate\": [0.1, 0.01, 0.02, 0.05], \n",
    "              \"min_child_samples\": [5, 10, 20, 30]}"
   ]
  },
  {
   "cell_type": "code",
   "execution_count": 33,
   "id": "02340861-d957-415d-a0a2-fb58c4f11d7d",
   "metadata": {
    "tags": []
   },
   "outputs": [],
   "source": [
    "lgbm = LGBMClassifier()\n",
    "\n",
    "lgbm_cv_model = GridSearchCV(lgbm, lgbm_params, cv=10, n_jobs=-1, verbose=2)"
   ]
  },
  {
   "cell_type": "code",
   "execution_count": 35,
   "id": "fd8ef8d1-a050-44bc-a390-5bdffcba1f0b",
   "metadata": {
    "collapsed": true,
    "jupyter": {
     "outputs_hidden": true
    },
    "tags": []
   },
   "outputs": [
    {
     "name": "stdout",
     "output_type": "stream",
     "text": [
      "Fitting 10 folds for each of 768 candidates, totalling 7680 fits\n",
      "[LightGBM] [Info] Number of positive: 188, number of negative: 349\n",
      "[LightGBM] [Info] Auto-choosing col-wise multi-threading, the overhead of testing was 0.000295 seconds.\n",
      "You can set `force_col_wise=true` to remove the overhead.\n",
      "[LightGBM] [Info] Total Bins 606\n",
      "[LightGBM] [Info] Number of data points in the train set: 537, number of used features: 8\n",
      "[LightGBM] [Info] [binary:BoostFromScore]: pavg=0.350093 -> initscore=-0.618630\n",
      "[LightGBM] [Info] Start training from score -0.618630\n",
      "[LightGBM] [Warning] No further splits with positive gain, best gain: -inf\n",
      "[LightGBM] [Warning] No further splits with positive gain, best gain: -inf\n",
      "[LightGBM] [Warning] No further splits with positive gain, best gain: -inf\n",
      "[LightGBM] [Warning] No further splits with positive gain, best gain: -inf\n",
      "[LightGBM] [Warning] No further splits with positive gain, best gain: -inf\n",
      "[LightGBM] [Warning] No further splits with positive gain, best gain: -inf\n",
      "[LightGBM] [Warning] No further splits with positive gain, best gain: -inf\n",
      "[LightGBM] [Warning] No further splits with positive gain, best gain: -inf\n",
      "[LightGBM] [Warning] No further splits with positive gain, best gain: -inf\n",
      "[LightGBM] [Warning] No further splits with positive gain, best gain: -inf\n",
      "[LightGBM] [Warning] No further splits with positive gain, best gain: -inf\n",
      "[LightGBM] [Warning] No further splits with positive gain, best gain: -inf\n",
      "[LightGBM] [Warning] No further splits with positive gain, best gain: -inf\n",
      "[LightGBM] [Warning] No further splits with positive gain, best gain: -inf\n",
      "[LightGBM] [Warning] No further splits with positive gain, best gain: -inf\n",
      "[LightGBM] [Warning] No further splits with positive gain, best gain: -inf\n",
      "[LightGBM] [Warning] No further splits with positive gain, best gain: -inf\n",
      "[LightGBM] [Warning] No further splits with positive gain, best gain: -inf\n",
      "[LightGBM] [Warning] No further splits with positive gain, best gain: -inf\n",
      "[LightGBM] [Warning] No further splits with positive gain, best gain: -inf\n",
      "[LightGBM] [Warning] No further splits with positive gain, best gain: -inf\n",
      "[LightGBM] [Warning] No further splits with positive gain, best gain: -inf\n",
      "[LightGBM] [Warning] No further splits with positive gain, best gain: -inf\n",
      "[LightGBM] [Warning] No further splits with positive gain, best gain: -inf\n",
      "[LightGBM] [Warning] No further splits with positive gain, best gain: -inf\n",
      "[LightGBM] [Warning] No further splits with positive gain, best gain: -inf\n",
      "[LightGBM] [Warning] No further splits with positive gain, best gain: -inf\n",
      "[LightGBM] [Warning] No further splits with positive gain, best gain: -inf\n",
      "[LightGBM] [Warning] No further splits with positive gain, best gain: -inf\n",
      "[LightGBM] [Warning] No further splits with positive gain, best gain: -inf\n",
      "[LightGBM] [Warning] No further splits with positive gain, best gain: -inf\n",
      "[LightGBM] [Warning] No further splits with positive gain, best gain: -inf\n",
      "[LightGBM] [Warning] No further splits with positive gain, best gain: -inf\n",
      "[LightGBM] [Warning] No further splits with positive gain, best gain: -inf\n",
      "[LightGBM] [Warning] No further splits with positive gain, best gain: -inf\n",
      "[LightGBM] [Warning] No further splits with positive gain, best gain: -inf\n",
      "[LightGBM] [Warning] No further splits with positive gain, best gain: -inf\n",
      "[LightGBM] [Warning] No further splits with positive gain, best gain: -inf\n",
      "[LightGBM] [Warning] No further splits with positive gain, best gain: -inf\n",
      "[LightGBM] [Warning] No further splits with positive gain, best gain: -inf\n",
      "[LightGBM] [Warning] No further splits with positive gain, best gain: -inf\n",
      "[LightGBM] [Warning] No further splits with positive gain, best gain: -inf\n",
      "[LightGBM] [Warning] No further splits with positive gain, best gain: -inf\n",
      "[LightGBM] [Warning] No further splits with positive gain, best gain: -inf\n",
      "[LightGBM] [Warning] No further splits with positive gain, best gain: -inf\n",
      "[LightGBM] [Warning] No further splits with positive gain, best gain: -inf\n",
      "[LightGBM] [Warning] No further splits with positive gain, best gain: -inf\n",
      "[LightGBM] [Warning] No further splits with positive gain, best gain: -inf\n",
      "[LightGBM] [Warning] No further splits with positive gain, best gain: -inf\n",
      "[LightGBM] [Warning] No further splits with positive gain, best gain: -inf\n",
      "[LightGBM] [Warning] No further splits with positive gain, best gain: -inf\n",
      "[LightGBM] [Warning] No further splits with positive gain, best gain: -inf\n",
      "[LightGBM] [Warning] No further splits with positive gain, best gain: -inf\n",
      "[LightGBM] [Warning] No further splits with positive gain, best gain: -inf\n",
      "[LightGBM] [Warning] No further splits with positive gain, best gain: -inf\n",
      "[LightGBM] [Warning] No further splits with positive gain, best gain: -inf\n",
      "[LightGBM] [Warning] No further splits with positive gain, best gain: -inf\n",
      "[LightGBM] [Warning] No further splits with positive gain, best gain: -inf\n",
      "[LightGBM] [Warning] No further splits with positive gain, best gain: -inf\n",
      "[LightGBM] [Warning] No further splits with positive gain, best gain: -inf\n",
      "[LightGBM] [Warning] No further splits with positive gain, best gain: -inf\n",
      "[LightGBM] [Warning] No further splits with positive gain, best gain: -inf\n",
      "[LightGBM] [Warning] No further splits with positive gain, best gain: -inf\n",
      "[LightGBM] [Warning] No further splits with positive gain, best gain: -inf\n",
      "[LightGBM] [Warning] No further splits with positive gain, best gain: -inf\n",
      "[LightGBM] [Warning] No further splits with positive gain, best gain: -inf\n",
      "[LightGBM] [Warning] No further splits with positive gain, best gain: -inf\n",
      "[LightGBM] [Warning] No further splits with positive gain, best gain: -inf\n",
      "[LightGBM] [Warning] No further splits with positive gain, best gain: -inf\n",
      "[LightGBM] [Warning] No further splits with positive gain, best gain: -inf\n",
      "[LightGBM] [Warning] No further splits with positive gain, best gain: -inf\n",
      "[LightGBM] [Warning] No further splits with positive gain, best gain: -inf\n",
      "[LightGBM] [Warning] No further splits with positive gain, best gain: -inf\n",
      "[LightGBM] [Warning] No further splits with positive gain, best gain: -inf\n",
      "[LightGBM] [Warning] No further splits with positive gain, best gain: -inf\n",
      "[LightGBM] [Warning] No further splits with positive gain, best gain: -inf\n",
      "[LightGBM] [Warning] No further splits with positive gain, best gain: -inf\n",
      "[LightGBM] [Warning] No further splits with positive gain, best gain: -inf\n",
      "[LightGBM] [Warning] No further splits with positive gain, best gain: -inf\n",
      "[LightGBM] [Warning] No further splits with positive gain, best gain: -inf\n",
      "[LightGBM] [Warning] No further splits with positive gain, best gain: -inf\n",
      "[LightGBM] [Warning] No further splits with positive gain, best gain: -inf\n",
      "[LightGBM] [Warning] No further splits with positive gain, best gain: -inf\n",
      "[LightGBM] [Warning] No further splits with positive gain, best gain: -inf\n",
      "[LightGBM] [Warning] No further splits with positive gain, best gain: -inf\n",
      "[LightGBM] [Warning] No further splits with positive gain, best gain: -inf\n",
      "[LightGBM] [Warning] No further splits with positive gain, best gain: -inf\n",
      "[LightGBM] [Warning] No further splits with positive gain, best gain: -inf\n",
      "[LightGBM] [Warning] No further splits with positive gain, best gain: -inf\n",
      "[LightGBM] [Warning] No further splits with positive gain, best gain: -inf\n",
      "[LightGBM] [Warning] No further splits with positive gain, best gain: -inf\n",
      "[LightGBM] [Warning] No further splits with positive gain, best gain: -inf\n",
      "[LightGBM] [Warning] No further splits with positive gain, best gain: -inf\n",
      "[LightGBM] [Warning] No further splits with positive gain, best gain: -inf\n",
      "[LightGBM] [Warning] No further splits with positive gain, best gain: -inf\n",
      "[LightGBM] [Warning] No further splits with positive gain, best gain: -inf\n",
      "[LightGBM] [Warning] No further splits with positive gain, best gain: -inf\n",
      "[LightGBM] [Warning] No further splits with positive gain, best gain: -inf\n",
      "[LightGBM] [Warning] No further splits with positive gain, best gain: -inf\n",
      "[LightGBM] [Warning] No further splits with positive gain, best gain: -inf\n",
      "[LightGBM] [Warning] No further splits with positive gain, best gain: -inf\n",
      "[LightGBM] [Warning] No further splits with positive gain, best gain: -inf\n",
      "[LightGBM] [Warning] No further splits with positive gain, best gain: -inf\n",
      "[LightGBM] [Warning] No further splits with positive gain, best gain: -inf\n",
      "[LightGBM] [Warning] No further splits with positive gain, best gain: -inf\n",
      "[LightGBM] [Warning] No further splits with positive gain, best gain: -inf\n",
      "[LightGBM] [Warning] No further splits with positive gain, best gain: -inf\n",
      "[LightGBM] [Warning] No further splits with positive gain, best gain: -inf\n",
      "[LightGBM] [Warning] No further splits with positive gain, best gain: -inf\n",
      "[LightGBM] [Warning] No further splits with positive gain, best gain: -inf\n",
      "[LightGBM] [Warning] No further splits with positive gain, best gain: -inf\n",
      "[LightGBM] [Warning] No further splits with positive gain, best gain: -inf\n",
      "[LightGBM] [Warning] No further splits with positive gain, best gain: -inf\n",
      "[LightGBM] [Warning] No further splits with positive gain, best gain: -inf\n",
      "[LightGBM] [Warning] No further splits with positive gain, best gain: -inf\n",
      "[LightGBM] [Warning] No further splits with positive gain, best gain: -inf\n",
      "[LightGBM] [Warning] No further splits with positive gain, best gain: -inf\n",
      "[LightGBM] [Warning] No further splits with positive gain, best gain: -inf\n",
      "[LightGBM] [Warning] No further splits with positive gain, best gain: -inf\n",
      "[LightGBM] [Warning] No further splits with positive gain, best gain: -inf\n",
      "[LightGBM] [Warning] No further splits with positive gain, best gain: -inf\n",
      "[LightGBM] [Warning] No further splits with positive gain, best gain: -inf\n",
      "[LightGBM] [Warning] No further splits with positive gain, best gain: -inf\n",
      "[LightGBM] [Warning] No further splits with positive gain, best gain: -inf\n",
      "[LightGBM] [Warning] No further splits with positive gain, best gain: -inf\n",
      "[LightGBM] [Warning] No further splits with positive gain, best gain: -inf\n",
      "[LightGBM] [Warning] No further splits with positive gain, best gain: -inf\n",
      "[LightGBM] [Warning] No further splits with positive gain, best gain: -inf\n",
      "[LightGBM] [Warning] No further splits with positive gain, best gain: -inf\n",
      "[LightGBM] [Warning] No further splits with positive gain, best gain: -inf\n",
      "[LightGBM] [Warning] No further splits with positive gain, best gain: -inf\n",
      "[LightGBM] [Warning] No further splits with positive gain, best gain: -inf\n",
      "[LightGBM] [Warning] No further splits with positive gain, best gain: -inf\n",
      "[LightGBM] [Warning] No further splits with positive gain, best gain: -inf\n",
      "[LightGBM] [Warning] No further splits with positive gain, best gain: -inf\n",
      "[LightGBM] [Warning] No further splits with positive gain, best gain: -inf\n",
      "[LightGBM] [Warning] No further splits with positive gain, best gain: -inf\n",
      "[LightGBM] [Warning] No further splits with positive gain, best gain: -inf\n",
      "[LightGBM] [Warning] No further splits with positive gain, best gain: -inf\n",
      "[LightGBM] [Warning] No further splits with positive gain, best gain: -inf\n",
      "[LightGBM] [Warning] No further splits with positive gain, best gain: -inf\n",
      "[LightGBM] [Warning] No further splits with positive gain, best gain: -inf\n",
      "[LightGBM] [Warning] No further splits with positive gain, best gain: -inf\n",
      "[LightGBM] [Warning] No further splits with positive gain, best gain: -inf\n",
      "[LightGBM] [Warning] No further splits with positive gain, best gain: -inf\n",
      "[LightGBM] [Warning] No further splits with positive gain, best gain: -inf\n",
      "[LightGBM] [Warning] No further splits with positive gain, best gain: -inf\n",
      "[LightGBM] [Warning] No further splits with positive gain, best gain: -inf\n",
      "[LightGBM] [Warning] No further splits with positive gain, best gain: -inf\n",
      "[LightGBM] [Warning] No further splits with positive gain, best gain: -inf\n",
      "[LightGBM] [Warning] No further splits with positive gain, best gain: -inf\n",
      "[LightGBM] [Warning] No further splits with positive gain, best gain: -inf\n",
      "[LightGBM] [Warning] No further splits with positive gain, best gain: -inf\n",
      "[LightGBM] [Warning] No further splits with positive gain, best gain: -inf\n",
      "[LightGBM] [Warning] No further splits with positive gain, best gain: -inf\n",
      "[LightGBM] [Warning] No further splits with positive gain, best gain: -inf\n",
      "[LightGBM] [Warning] No further splits with positive gain, best gain: -inf\n",
      "[LightGBM] [Warning] No further splits with positive gain, best gain: -inf\n",
      "[LightGBM] [Warning] No further splits with positive gain, best gain: -inf\n",
      "[LightGBM] [Warning] No further splits with positive gain, best gain: -inf\n",
      "[LightGBM] [Warning] No further splits with positive gain, best gain: -inf\n",
      "[LightGBM] [Warning] No further splits with positive gain, best gain: -inf\n",
      "[LightGBM] [Warning] No further splits with positive gain, best gain: -inf\n",
      "[LightGBM] [Warning] No further splits with positive gain, best gain: -inf\n",
      "[LightGBM] [Warning] No further splits with positive gain, best gain: -inf\n",
      "[LightGBM] [Warning] No further splits with positive gain, best gain: -inf\n",
      "[LightGBM] [Warning] No further splits with positive gain, best gain: -inf\n",
      "[LightGBM] [Warning] No further splits with positive gain, best gain: -inf\n",
      "[LightGBM] [Warning] No further splits with positive gain, best gain: -inf\n",
      "[LightGBM] [Warning] No further splits with positive gain, best gain: -inf\n",
      "[LightGBM] [Warning] No further splits with positive gain, best gain: -inf\n",
      "[LightGBM] [Warning] No further splits with positive gain, best gain: -inf\n",
      "[LightGBM] [Warning] No further splits with positive gain, best gain: -inf\n",
      "[LightGBM] [Warning] No further splits with positive gain, best gain: -inf\n",
      "[LightGBM] [Warning] No further splits with positive gain, best gain: -inf\n",
      "[LightGBM] [Warning] No further splits with positive gain, best gain: -inf\n",
      "[LightGBM] [Warning] No further splits with positive gain, best gain: -inf\n",
      "[LightGBM] [Warning] No further splits with positive gain, best gain: -inf\n",
      "[LightGBM] [Warning] No further splits with positive gain, best gain: -inf\n",
      "[LightGBM] [Warning] No further splits with positive gain, best gain: -inf\n",
      "[LightGBM] [Warning] No further splits with positive gain, best gain: -inf\n",
      "[LightGBM] [Warning] No further splits with positive gain, best gain: -inf\n",
      "[LightGBM] [Warning] No further splits with positive gain, best gain: -inf\n",
      "[LightGBM] [Warning] No further splits with positive gain, best gain: -inf\n",
      "[LightGBM] [Warning] No further splits with positive gain, best gain: -inf\n",
      "[LightGBM] [Warning] No further splits with positive gain, best gain: -inf\n",
      "[LightGBM] [Warning] No further splits with positive gain, best gain: -inf\n",
      "[LightGBM] [Warning] No further splits with positive gain, best gain: -inf\n",
      "[LightGBM] [Warning] No further splits with positive gain, best gain: -inf\n",
      "[LightGBM] [Warning] No further splits with positive gain, best gain: -inf\n",
      "[LightGBM] [Warning] No further splits with positive gain, best gain: -inf\n",
      "[LightGBM] [Warning] No further splits with positive gain, best gain: -inf\n",
      "[LightGBM] [Warning] No further splits with positive gain, best gain: -inf\n",
      "[LightGBM] [Warning] No further splits with positive gain, best gain: -inf\n",
      "[LightGBM] [Warning] No further splits with positive gain, best gain: -inf\n",
      "[LightGBM] [Warning] No further splits with positive gain, best gain: -inf\n",
      "[LightGBM] [Warning] No further splits with positive gain, best gain: -inf\n",
      "[LightGBM] [Warning] No further splits with positive gain, best gain: -inf\n",
      "[LightGBM] [Warning] No further splits with positive gain, best gain: -inf\n",
      "[LightGBM] [Warning] No further splits with positive gain, best gain: -inf\n",
      "[LightGBM] [Warning] No further splits with positive gain, best gain: -inf\n",
      "[LightGBM] [Warning] No further splits with positive gain, best gain: -inf\n",
      "[LightGBM] [Warning] No further splits with positive gain, best gain: -inf\n",
      "[LightGBM] [Warning] No further splits with positive gain, best gain: -inf\n",
      "[LightGBM] [Warning] No further splits with positive gain, best gain: -inf\n",
      "[LightGBM] [Warning] No further splits with positive gain, best gain: -inf\n",
      "[LightGBM] [Warning] No further splits with positive gain, best gain: -inf\n",
      "[LightGBM] [Warning] No further splits with positive gain, best gain: -inf\n",
      "[LightGBM] [Warning] No further splits with positive gain, best gain: -inf\n",
      "[LightGBM] [Warning] No further splits with positive gain, best gain: -inf\n",
      "[LightGBM] [Warning] No further splits with positive gain, best gain: -inf\n",
      "[LightGBM] [Warning] No further splits with positive gain, best gain: -inf\n",
      "[LightGBM] [Warning] No further splits with positive gain, best gain: -inf\n",
      "[LightGBM] [Warning] No further splits with positive gain, best gain: -inf\n",
      "[LightGBM] [Warning] No further splits with positive gain, best gain: -inf\n",
      "[LightGBM] [Warning] No further splits with positive gain, best gain: -inf\n",
      "[LightGBM] [Warning] No further splits with positive gain, best gain: -inf\n",
      "[LightGBM] [Warning] No further splits with positive gain, best gain: -inf\n",
      "[LightGBM] [Warning] No further splits with positive gain, best gain: -inf\n",
      "[LightGBM] [Warning] No further splits with positive gain, best gain: -inf\n",
      "[LightGBM] [Warning] No further splits with positive gain, best gain: -inf\n",
      "[LightGBM] [Warning] No further splits with positive gain, best gain: -inf\n",
      "[LightGBM] [Warning] No further splits with positive gain, best gain: -inf\n",
      "[LightGBM] [Warning] No further splits with positive gain, best gain: -inf\n",
      "[LightGBM] [Warning] No further splits with positive gain, best gain: -inf\n",
      "[LightGBM] [Warning] No further splits with positive gain, best gain: -inf\n",
      "[LightGBM] [Warning] No further splits with positive gain, best gain: -inf\n",
      "[LightGBM] [Warning] No further splits with positive gain, best gain: -inf\n",
      "[LightGBM] [Warning] No further splits with positive gain, best gain: -inf\n",
      "[LightGBM] [Warning] No further splits with positive gain, best gain: -inf\n",
      "[LightGBM] [Warning] No further splits with positive gain, best gain: -inf\n",
      "[LightGBM] [Warning] No further splits with positive gain, best gain: -inf\n",
      "[LightGBM] [Warning] No further splits with positive gain, best gain: -inf\n",
      "[LightGBM] [Warning] No further splits with positive gain, best gain: -inf\n",
      "[LightGBM] [Warning] No further splits with positive gain, best gain: -inf\n",
      "[LightGBM] [Warning] No further splits with positive gain, best gain: -inf\n",
      "[LightGBM] [Warning] No further splits with positive gain, best gain: -inf\n",
      "[LightGBM] [Warning] No further splits with positive gain, best gain: -inf\n",
      "[LightGBM] [Warning] No further splits with positive gain, best gain: -inf\n",
      "[LightGBM] [Warning] No further splits with positive gain, best gain: -inf\n",
      "[LightGBM] [Warning] No further splits with positive gain, best gain: -inf\n",
      "[LightGBM] [Warning] No further splits with positive gain, best gain: -inf\n",
      "[LightGBM] [Warning] No further splits with positive gain, best gain: -inf\n",
      "[LightGBM] [Warning] No further splits with positive gain, best gain: -inf\n",
      "[LightGBM] [Warning] No further splits with positive gain, best gain: -inf\n",
      "[LightGBM] [Warning] No further splits with positive gain, best gain: -inf\n",
      "[LightGBM] [Warning] No further splits with positive gain, best gain: -inf\n",
      "[LightGBM] [Warning] No further splits with positive gain, best gain: -inf\n",
      "[LightGBM] [Warning] No further splits with positive gain, best gain: -inf\n",
      "[LightGBM] [Warning] No further splits with positive gain, best gain: -inf\n",
      "[LightGBM] [Warning] No further splits with positive gain, best gain: -inf\n",
      "[LightGBM] [Warning] No further splits with positive gain, best gain: -inf\n",
      "[LightGBM] [Warning] No further splits with positive gain, best gain: -inf\n",
      "[LightGBM] [Warning] No further splits with positive gain, best gain: -inf\n",
      "[LightGBM] [Warning] No further splits with positive gain, best gain: -inf\n",
      "[LightGBM] [Warning] No further splits with positive gain, best gain: -inf\n",
      "[LightGBM] [Warning] No further splits with positive gain, best gain: -inf\n",
      "[LightGBM] [Warning] No further splits with positive gain, best gain: -inf\n",
      "[LightGBM] [Warning] No further splits with positive gain, best gain: -inf\n",
      "[LightGBM] [Warning] No further splits with positive gain, best gain: -inf\n",
      "[LightGBM] [Warning] No further splits with positive gain, best gain: -inf\n",
      "[LightGBM] [Warning] No further splits with positive gain, best gain: -inf\n",
      "[LightGBM] [Warning] No further splits with positive gain, best gain: -inf\n",
      "[LightGBM] [Warning] No further splits with positive gain, best gain: -inf\n",
      "[LightGBM] [Warning] No further splits with positive gain, best gain: -inf\n",
      "[LightGBM] [Warning] No further splits with positive gain, best gain: -inf\n",
      "[LightGBM] [Warning] No further splits with positive gain, best gain: -inf\n",
      "[LightGBM] [Warning] No further splits with positive gain, best gain: -inf\n",
      "[LightGBM] [Warning] No further splits with positive gain, best gain: -inf\n",
      "[LightGBM] [Warning] No further splits with positive gain, best gain: -inf\n",
      "[LightGBM] [Warning] No further splits with positive gain, best gain: -inf\n",
      "[LightGBM] [Warning] No further splits with positive gain, best gain: -inf\n",
      "[LightGBM] [Warning] No further splits with positive gain, best gain: -inf\n",
      "[LightGBM] [Warning] No further splits with positive gain, best gain: -inf\n",
      "[LightGBM] [Warning] No further splits with positive gain, best gain: -inf\n",
      "[LightGBM] [Warning] No further splits with positive gain, best gain: -inf\n",
      "[LightGBM] [Warning] No further splits with positive gain, best gain: -inf\n",
      "[LightGBM] [Warning] No further splits with positive gain, best gain: -inf\n",
      "[LightGBM] [Warning] No further splits with positive gain, best gain: -inf\n",
      "[LightGBM] [Warning] No further splits with positive gain, best gain: -inf\n",
      "[LightGBM] [Warning] No further splits with positive gain, best gain: -inf\n",
      "[LightGBM] [Warning] No further splits with positive gain, best gain: -inf\n",
      "[LightGBM] [Warning] No further splits with positive gain, best gain: -inf\n",
      "[LightGBM] [Warning] No further splits with positive gain, best gain: -inf\n",
      "[LightGBM] [Warning] No further splits with positive gain, best gain: -inf\n",
      "[LightGBM] [Warning] No further splits with positive gain, best gain: -inf\n",
      "[LightGBM] [Warning] No further splits with positive gain, best gain: -inf\n",
      "[LightGBM] [Warning] No further splits with positive gain, best gain: -inf\n",
      "[LightGBM] [Warning] No further splits with positive gain, best gain: -inf\n",
      "[LightGBM] [Warning] No further splits with positive gain, best gain: -inf\n",
      "[LightGBM] [Warning] No further splits with positive gain, best gain: -inf\n",
      "[LightGBM] [Warning] No further splits with positive gain, best gain: -inf\n",
      "[LightGBM] [Warning] No further splits with positive gain, best gain: -inf\n",
      "[LightGBM] [Warning] No further splits with positive gain, best gain: -inf\n",
      "[LightGBM] [Warning] No further splits with positive gain, best gain: -inf\n",
      "[LightGBM] [Warning] No further splits with positive gain, best gain: -inf\n",
      "[LightGBM] [Warning] No further splits with positive gain, best gain: -inf\n",
      "[LightGBM] [Warning] No further splits with positive gain, best gain: -inf\n",
      "[LightGBM] [Warning] No further splits with positive gain, best gain: -inf\n",
      "[LightGBM] [Warning] No further splits with positive gain, best gain: -inf\n",
      "[LightGBM] [Warning] No further splits with positive gain, best gain: -inf\n",
      "[LightGBM] [Warning] No further splits with positive gain, best gain: -inf\n",
      "[LightGBM] [Warning] No further splits with positive gain, best gain: -inf\n",
      "[LightGBM] [Warning] No further splits with positive gain, best gain: -inf\n",
      "[LightGBM] [Warning] No further splits with positive gain, best gain: -inf\n",
      "[LightGBM] [Warning] No further splits with positive gain, best gain: -inf\n",
      "[LightGBM] [Warning] No further splits with positive gain, best gain: -inf\n",
      "[LightGBM] [Warning] No further splits with positive gain, best gain: -inf\n",
      "[LightGBM] [Warning] No further splits with positive gain, best gain: -inf\n",
      "[LightGBM] [Warning] No further splits with positive gain, best gain: -inf\n",
      "[LightGBM] [Warning] No further splits with positive gain, best gain: -inf\n",
      "[LightGBM] [Warning] No further splits with positive gain, best gain: -inf\n",
      "[LightGBM] [Warning] No further splits with positive gain, best gain: -inf\n",
      "[LightGBM] [Warning] No further splits with positive gain, best gain: -inf\n",
      "[LightGBM] [Warning] No further splits with positive gain, best gain: -inf\n",
      "[LightGBM] [Warning] No further splits with positive gain, best gain: -inf\n",
      "[LightGBM] [Warning] No further splits with positive gain, best gain: -inf\n",
      "[LightGBM] [Warning] No further splits with positive gain, best gain: -inf\n",
      "[LightGBM] [Warning] No further splits with positive gain, best gain: -inf\n",
      "[LightGBM] [Warning] No further splits with positive gain, best gain: -inf\n",
      "[LightGBM] [Warning] No further splits with positive gain, best gain: -inf\n",
      "[LightGBM] [Warning] No further splits with positive gain, best gain: -inf\n",
      "[LightGBM] [Warning] No further splits with positive gain, best gain: -inf\n",
      "[LightGBM] [Warning] No further splits with positive gain, best gain: -inf\n",
      "[LightGBM] [Warning] No further splits with positive gain, best gain: -inf\n",
      "[LightGBM] [Warning] No further splits with positive gain, best gain: -inf\n",
      "[LightGBM] [Warning] No further splits with positive gain, best gain: -inf\n",
      "[LightGBM] [Warning] No further splits with positive gain, best gain: -inf\n",
      "[LightGBM] [Warning] No further splits with positive gain, best gain: -inf\n",
      "[LightGBM] [Warning] No further splits with positive gain, best gain: -inf\n",
      "[LightGBM] [Warning] No further splits with positive gain, best gain: -inf\n",
      "[LightGBM] [Warning] No further splits with positive gain, best gain: -inf\n",
      "[LightGBM] [Warning] No further splits with positive gain, best gain: -inf\n",
      "[LightGBM] [Warning] No further splits with positive gain, best gain: -inf\n",
      "[LightGBM] [Warning] No further splits with positive gain, best gain: -inf\n",
      "[LightGBM] [Warning] No further splits with positive gain, best gain: -inf\n",
      "[LightGBM] [Warning] No further splits with positive gain, best gain: -inf\n",
      "[LightGBM] [Warning] No further splits with positive gain, best gain: -inf\n",
      "[LightGBM] [Warning] No further splits with positive gain, best gain: -inf\n",
      "[LightGBM] [Warning] No further splits with positive gain, best gain: -inf\n",
      "[LightGBM] [Warning] No further splits with positive gain, best gain: -inf\n",
      "[LightGBM] [Warning] No further splits with positive gain, best gain: -inf\n",
      "[LightGBM] [Warning] No further splits with positive gain, best gain: -inf\n",
      "[LightGBM] [Warning] No further splits with positive gain, best gain: -inf\n",
      "[LightGBM] [Warning] No further splits with positive gain, best gain: -inf\n",
      "[LightGBM] [Warning] No further splits with positive gain, best gain: -inf\n",
      "[LightGBM] [Warning] No further splits with positive gain, best gain: -inf\n",
      "[LightGBM] [Warning] No further splits with positive gain, best gain: -inf\n",
      "[LightGBM] [Warning] No further splits with positive gain, best gain: -inf\n",
      "[LightGBM] [Warning] No further splits with positive gain, best gain: -inf\n",
      "[LightGBM] [Warning] No further splits with positive gain, best gain: -inf\n",
      "[LightGBM] [Warning] No further splits with positive gain, best gain: -inf\n",
      "[LightGBM] [Warning] No further splits with positive gain, best gain: -inf\n",
      "[LightGBM] [Warning] No further splits with positive gain, best gain: -inf\n",
      "[LightGBM] [Warning] No further splits with positive gain, best gain: -inf\n",
      "[LightGBM] [Warning] No further splits with positive gain, best gain: -inf\n",
      "[LightGBM] [Warning] No further splits with positive gain, best gain: -inf\n",
      "[LightGBM] [Warning] No further splits with positive gain, best gain: -inf\n",
      "[LightGBM] [Warning] No further splits with positive gain, best gain: -inf\n",
      "[LightGBM] [Warning] No further splits with positive gain, best gain: -inf\n",
      "[LightGBM] [Warning] No further splits with positive gain, best gain: -inf\n",
      "[LightGBM] [Warning] No further splits with positive gain, best gain: -inf\n",
      "[LightGBM] [Warning] No further splits with positive gain, best gain: -inf\n",
      "[LightGBM] [Warning] No further splits with positive gain, best gain: -inf\n",
      "[LightGBM] [Warning] No further splits with positive gain, best gain: -inf\n",
      "[LightGBM] [Warning] No further splits with positive gain, best gain: -inf\n",
      "[LightGBM] [Warning] No further splits with positive gain, best gain: -inf\n",
      "[LightGBM] [Warning] No further splits with positive gain, best gain: -inf\n",
      "[LightGBM] [Warning] No further splits with positive gain, best gain: -inf\n",
      "[LightGBM] [Warning] No further splits with positive gain, best gain: -inf\n",
      "[LightGBM] [Warning] No further splits with positive gain, best gain: -inf\n",
      "[LightGBM] [Warning] No further splits with positive gain, best gain: -inf\n",
      "[LightGBM] [Warning] No further splits with positive gain, best gain: -inf\n",
      "[LightGBM] [Warning] No further splits with positive gain, best gain: -inf\n",
      "[LightGBM] [Warning] No further splits with positive gain, best gain: -inf\n",
      "[LightGBM] [Warning] No further splits with positive gain, best gain: -inf\n",
      "[LightGBM] [Warning] No further splits with positive gain, best gain: -inf\n",
      "[LightGBM] [Warning] No further splits with positive gain, best gain: -inf\n",
      "[LightGBM] [Warning] No further splits with positive gain, best gain: -inf\n",
      "[LightGBM] [Warning] No further splits with positive gain, best gain: -inf\n",
      "[LightGBM] [Warning] No further splits with positive gain, best gain: -inf\n",
      "[LightGBM] [Warning] No further splits with positive gain, best gain: -inf\n",
      "[LightGBM] [Warning] No further splits with positive gain, best gain: -inf\n",
      "[LightGBM] [Warning] No further splits with positive gain, best gain: -inf\n",
      "[LightGBM] [Warning] No further splits with positive gain, best gain: -inf\n",
      "[LightGBM] [Warning] No further splits with positive gain, best gain: -inf\n",
      "[LightGBM] [Warning] No further splits with positive gain, best gain: -inf\n",
      "[LightGBM] [Warning] No further splits with positive gain, best gain: -inf\n",
      "[LightGBM] [Warning] No further splits with positive gain, best gain: -inf\n",
      "[LightGBM] [Warning] No further splits with positive gain, best gain: -inf\n",
      "[LightGBM] [Warning] No further splits with positive gain, best gain: -inf\n",
      "[LightGBM] [Warning] No further splits with positive gain, best gain: -inf\n",
      "[LightGBM] [Warning] No further splits with positive gain, best gain: -inf\n",
      "[LightGBM] [Warning] No further splits with positive gain, best gain: -inf\n",
      "[LightGBM] [Warning] No further splits with positive gain, best gain: -inf\n",
      "[LightGBM] [Warning] No further splits with positive gain, best gain: -inf\n",
      "[LightGBM] [Warning] No further splits with positive gain, best gain: -inf\n",
      "[LightGBM] [Warning] No further splits with positive gain, best gain: -inf\n",
      "[LightGBM] [Warning] No further splits with positive gain, best gain: -inf\n",
      "[LightGBM] [Warning] No further splits with positive gain, best gain: -inf\n",
      "[LightGBM] [Warning] No further splits with positive gain, best gain: -inf\n",
      "[LightGBM] [Warning] No further splits with positive gain, best gain: -inf\n",
      "[LightGBM] [Warning] No further splits with positive gain, best gain: -inf\n",
      "[LightGBM] [Warning] No further splits with positive gain, best gain: -inf\n",
      "[LightGBM] [Warning] No further splits with positive gain, best gain: -inf\n",
      "[LightGBM] [Warning] No further splits with positive gain, best gain: -inf\n",
      "[LightGBM] [Warning] No further splits with positive gain, best gain: -inf\n",
      "[LightGBM] [Warning] No further splits with positive gain, best gain: -inf\n",
      "[LightGBM] [Warning] No further splits with positive gain, best gain: -inf\n",
      "[LightGBM] [Warning] No further splits with positive gain, best gain: -inf\n",
      "[LightGBM] [Warning] No further splits with positive gain, best gain: -inf\n",
      "[LightGBM] [Warning] No further splits with positive gain, best gain: -inf\n",
      "[LightGBM] [Warning] No further splits with positive gain, best gain: -inf\n",
      "[LightGBM] [Warning] No further splits with positive gain, best gain: -inf\n",
      "[LightGBM] [Warning] No further splits with positive gain, best gain: -inf\n",
      "[LightGBM] [Warning] No further splits with positive gain, best gain: -inf\n",
      "[LightGBM] [Warning] No further splits with positive gain, best gain: -inf\n",
      "[LightGBM] [Warning] No further splits with positive gain, best gain: -inf\n",
      "[LightGBM] [Warning] No further splits with positive gain, best gain: -inf\n",
      "[LightGBM] [Warning] No further splits with positive gain, best gain: -inf\n",
      "[LightGBM] [Warning] No further splits with positive gain, best gain: -inf\n",
      "[LightGBM] [Warning] No further splits with positive gain, best gain: -inf\n",
      "[LightGBM] [Warning] No further splits with positive gain, best gain: -inf\n",
      "[LightGBM] [Warning] No further splits with positive gain, best gain: -inf\n",
      "[LightGBM] [Warning] No further splits with positive gain, best gain: -inf\n",
      "[LightGBM] [Warning] No further splits with positive gain, best gain: -inf\n",
      "[LightGBM] [Warning] No further splits with positive gain, best gain: -inf\n",
      "[LightGBM] [Warning] No further splits with positive gain, best gain: -inf\n",
      "[LightGBM] [Warning] No further splits with positive gain, best gain: -inf\n",
      "[LightGBM] [Warning] No further splits with positive gain, best gain: -inf\n",
      "[LightGBM] [Warning] No further splits with positive gain, best gain: -inf\n",
      "[LightGBM] [Warning] No further splits with positive gain, best gain: -inf\n",
      "[LightGBM] [Warning] No further splits with positive gain, best gain: -inf\n",
      "[LightGBM] [Warning] No further splits with positive gain, best gain: -inf\n",
      "[LightGBM] [Warning] No further splits with positive gain, best gain: -inf\n",
      "[LightGBM] [Warning] No further splits with positive gain, best gain: -inf\n",
      "[LightGBM] [Warning] No further splits with positive gain, best gain: -inf\n",
      "[LightGBM] [Warning] No further splits with positive gain, best gain: -inf\n",
      "[LightGBM] [Warning] No further splits with positive gain, best gain: -inf\n",
      "[LightGBM] [Warning] No further splits with positive gain, best gain: -inf\n",
      "[LightGBM] [Warning] No further splits with positive gain, best gain: -inf\n",
      "[LightGBM] [Warning] No further splits with positive gain, best gain: -inf\n",
      "[LightGBM] [Warning] No further splits with positive gain, best gain: -inf\n",
      "[LightGBM] [Warning] No further splits with positive gain, best gain: -inf\n",
      "[LightGBM] [Warning] No further splits with positive gain, best gain: -inf\n",
      "[LightGBM] [Warning] No further splits with positive gain, best gain: -inf\n",
      "[LightGBM] [Warning] No further splits with positive gain, best gain: -inf\n",
      "[LightGBM] [Warning] No further splits with positive gain, best gain: -inf\n",
      "[LightGBM] [Warning] No further splits with positive gain, best gain: -inf\n",
      "[LightGBM] [Warning] No further splits with positive gain, best gain: -inf\n",
      "[LightGBM] [Warning] No further splits with positive gain, best gain: -inf\n",
      "[LightGBM] [Warning] No further splits with positive gain, best gain: -inf\n",
      "[LightGBM] [Warning] No further splits with positive gain, best gain: -inf\n",
      "[LightGBM] [Warning] No further splits with positive gain, best gain: -inf\n",
      "[LightGBM] [Warning] No further splits with positive gain, best gain: -inf\n",
      "[LightGBM] [Warning] No further splits with positive gain, best gain: -inf\n",
      "[LightGBM] [Warning] No further splits with positive gain, best gain: -inf\n",
      "[LightGBM] [Warning] No further splits with positive gain, best gain: -inf\n",
      "[LightGBM] [Warning] No further splits with positive gain, best gain: -inf\n",
      "[LightGBM] [Warning] No further splits with positive gain, best gain: -inf\n",
      "[LightGBM] [Warning] No further splits with positive gain, best gain: -inf\n",
      "[LightGBM] [Warning] No further splits with positive gain, best gain: -inf\n"
     ]
    },
    {
     "data": {
      "text/html": [
       "<style>#sk-container-id-1 {color: black;}#sk-container-id-1 pre{padding: 0;}#sk-container-id-1 div.sk-toggleable {background-color: white;}#sk-container-id-1 label.sk-toggleable__label {cursor: pointer;display: block;width: 100%;margin-bottom: 0;padding: 0.3em;box-sizing: border-box;text-align: center;}#sk-container-id-1 label.sk-toggleable__label-arrow:before {content: \"▸\";float: left;margin-right: 0.25em;color: #696969;}#sk-container-id-1 label.sk-toggleable__label-arrow:hover:before {color: black;}#sk-container-id-1 div.sk-estimator:hover label.sk-toggleable__label-arrow:before {color: black;}#sk-container-id-1 div.sk-toggleable__content {max-height: 0;max-width: 0;overflow: hidden;text-align: left;background-color: #f0f8ff;}#sk-container-id-1 div.sk-toggleable__content pre {margin: 0.2em;color: black;border-radius: 0.25em;background-color: #f0f8ff;}#sk-container-id-1 input.sk-toggleable__control:checked~div.sk-toggleable__content {max-height: 200px;max-width: 100%;overflow: auto;}#sk-container-id-1 input.sk-toggleable__control:checked~label.sk-toggleable__label-arrow:before {content: \"▾\";}#sk-container-id-1 div.sk-estimator input.sk-toggleable__control:checked~label.sk-toggleable__label {background-color: #d4ebff;}#sk-container-id-1 div.sk-label input.sk-toggleable__control:checked~label.sk-toggleable__label {background-color: #d4ebff;}#sk-container-id-1 input.sk-hidden--visually {border: 0;clip: rect(1px 1px 1px 1px);clip: rect(1px, 1px, 1px, 1px);height: 1px;margin: -1px;overflow: hidden;padding: 0;position: absolute;width: 1px;}#sk-container-id-1 div.sk-estimator {font-family: monospace;background-color: #f0f8ff;border: 1px dotted black;border-radius: 0.25em;box-sizing: border-box;margin-bottom: 0.5em;}#sk-container-id-1 div.sk-estimator:hover {background-color: #d4ebff;}#sk-container-id-1 div.sk-parallel-item::after {content: \"\";width: 100%;border-bottom: 1px solid gray;flex-grow: 1;}#sk-container-id-1 div.sk-label:hover label.sk-toggleable__label {background-color: #d4ebff;}#sk-container-id-1 div.sk-serial::before {content: \"\";position: absolute;border-left: 1px solid gray;box-sizing: border-box;top: 0;bottom: 0;left: 50%;z-index: 0;}#sk-container-id-1 div.sk-serial {display: flex;flex-direction: column;align-items: center;background-color: white;padding-right: 0.2em;padding-left: 0.2em;position: relative;}#sk-container-id-1 div.sk-item {position: relative;z-index: 1;}#sk-container-id-1 div.sk-parallel {display: flex;align-items: stretch;justify-content: center;background-color: white;position: relative;}#sk-container-id-1 div.sk-item::before, #sk-container-id-1 div.sk-parallel-item::before {content: \"\";position: absolute;border-left: 1px solid gray;box-sizing: border-box;top: 0;bottom: 0;left: 50%;z-index: -1;}#sk-container-id-1 div.sk-parallel-item {display: flex;flex-direction: column;z-index: 1;position: relative;background-color: white;}#sk-container-id-1 div.sk-parallel-item:first-child::after {align-self: flex-end;width: 50%;}#sk-container-id-1 div.sk-parallel-item:last-child::after {align-self: flex-start;width: 50%;}#sk-container-id-1 div.sk-parallel-item:only-child::after {width: 0;}#sk-container-id-1 div.sk-dashed-wrapped {border: 1px dashed gray;margin: 0 0.4em 0.5em 0.4em;box-sizing: border-box;padding-bottom: 0.4em;background-color: white;}#sk-container-id-1 div.sk-label label {font-family: monospace;font-weight: bold;display: inline-block;line-height: 1.2em;}#sk-container-id-1 div.sk-label-container {text-align: center;}#sk-container-id-1 div.sk-container {/* jupyter's `normalize.less` sets `[hidden] { display: none; }` but bootstrap.min.css set `[hidden] { display: none !important; }` so we also need the `!important` here to be able to override the default hidden behavior on the sphinx rendered scikit-learn.org. See: https://github.com/scikit-learn/scikit-learn/issues/21755 */display: inline-block !important;position: relative;}#sk-container-id-1 div.sk-text-repr-fallback {display: none;}</style><div id=\"sk-container-id-1\" class=\"sk-top-container\"><div class=\"sk-text-repr-fallback\"><pre>GridSearchCV(cv=10, estimator=LGBMClassifier(), n_jobs=-1,\n",
       "             param_grid={&#x27;learning_rate&#x27;: [0.1, 0.01, 0.02, 0.05],\n",
       "                         &#x27;max_depth&#x27;: [3, 4, 5, 6],\n",
       "                         &#x27;min_child_samples&#x27;: [5, 10, 20, 30],\n",
       "                         &#x27;n_estimators&#x27;: [100, 500, 1000, 2000],\n",
       "                         &#x27;subsample&#x27;: [0.6, 0.8, 1.0]},\n",
       "             verbose=2)</pre><b>In a Jupyter environment, please rerun this cell to show the HTML representation or trust the notebook. <br />On GitHub, the HTML representation is unable to render, please try loading this page with nbviewer.org.</b></div><div class=\"sk-container\" hidden><div class=\"sk-item sk-dashed-wrapped\"><div class=\"sk-label-container\"><div class=\"sk-label sk-toggleable\"><input class=\"sk-toggleable__control sk-hidden--visually\" id=\"sk-estimator-id-1\" type=\"checkbox\" ><label for=\"sk-estimator-id-1\" class=\"sk-toggleable__label sk-toggleable__label-arrow\">GridSearchCV</label><div class=\"sk-toggleable__content\"><pre>GridSearchCV(cv=10, estimator=LGBMClassifier(), n_jobs=-1,\n",
       "             param_grid={&#x27;learning_rate&#x27;: [0.1, 0.01, 0.02, 0.05],\n",
       "                         &#x27;max_depth&#x27;: [3, 4, 5, 6],\n",
       "                         &#x27;min_child_samples&#x27;: [5, 10, 20, 30],\n",
       "                         &#x27;n_estimators&#x27;: [100, 500, 1000, 2000],\n",
       "                         &#x27;subsample&#x27;: [0.6, 0.8, 1.0]},\n",
       "             verbose=2)</pre></div></div></div><div class=\"sk-parallel\"><div class=\"sk-parallel-item\"><div class=\"sk-item\"><div class=\"sk-label-container\"><div class=\"sk-label sk-toggleable\"><input class=\"sk-toggleable__control sk-hidden--visually\" id=\"sk-estimator-id-2\" type=\"checkbox\" ><label for=\"sk-estimator-id-2\" class=\"sk-toggleable__label sk-toggleable__label-arrow\">estimator: LGBMClassifier</label><div class=\"sk-toggleable__content\"><pre>LGBMClassifier()</pre></div></div></div><div class=\"sk-serial\"><div class=\"sk-item\"><div class=\"sk-estimator sk-toggleable\"><input class=\"sk-toggleable__control sk-hidden--visually\" id=\"sk-estimator-id-3\" type=\"checkbox\" ><label for=\"sk-estimator-id-3\" class=\"sk-toggleable__label sk-toggleable__label-arrow\">LGBMClassifier</label><div class=\"sk-toggleable__content\"><pre>LGBMClassifier()</pre></div></div></div></div></div></div></div></div></div></div>"
      ],
      "text/plain": [
       "GridSearchCV(cv=10, estimator=LGBMClassifier(), n_jobs=-1,\n",
       "             param_grid={'learning_rate': [0.1, 0.01, 0.02, 0.05],\n",
       "                         'max_depth': [3, 4, 5, 6],\n",
       "                         'min_child_samples': [5, 10, 20, 30],\n",
       "                         'n_estimators': [100, 500, 1000, 2000],\n",
       "                         'subsample': [0.6, 0.8, 1.0]},\n",
       "             verbose=2)"
      ]
     },
     "execution_count": 35,
     "metadata": {},
     "output_type": "execute_result"
    }
   ],
   "source": [
    "lgbm_cv_model.fit(X_train, y_train)"
   ]
  },
  {
   "cell_type": "code",
   "execution_count": 37,
   "id": "073456b9-67b7-4055-a07b-c549e5074d53",
   "metadata": {
    "tags": []
   },
   "outputs": [
    {
     "data": {
      "text/plain": [
       "{'learning_rate': 0.01,\n",
       " 'max_depth': 3,\n",
       " 'min_child_samples': 30,\n",
       " 'n_estimators': 500,\n",
       " 'subsample': 0.6}"
      ]
     },
     "execution_count": 37,
     "metadata": {},
     "output_type": "execute_result"
    }
   ],
   "source": [
    "lgbm_cv_model.best_params_"
   ]
  },
  {
   "cell_type": "code",
   "execution_count": 39,
   "id": "65df332c-09a0-417b-8965-697d1013458f",
   "metadata": {
    "tags": []
   },
   "outputs": [],
   "source": [
    "lgbm = LGBMClassifier(learning_rate=0.01, \n",
    "                      max_depth= 3, \n",
    "                      subsample=0.6, \n",
    "                      n_estimators=500, \n",
    "                      min_child_samples=30)"
   ]
  },
  {
   "cell_type": "code",
   "execution_count": 41,
   "id": "bc91f318-91b2-490e-9664-a49c27d573e5",
   "metadata": {
    "collapsed": true,
    "jupyter": {
     "outputs_hidden": true
    },
    "tags": []
   },
   "outputs": [
    {
     "name": "stdout",
     "output_type": "stream",
     "text": [
      "[LightGBM] [Info] Number of positive: 188, number of negative: 349\n",
      "[LightGBM] [Info] Auto-choosing col-wise multi-threading, the overhead of testing was 0.000053 seconds.\n",
      "You can set `force_col_wise=true` to remove the overhead.\n",
      "[LightGBM] [Info] Total Bins 606\n",
      "[LightGBM] [Info] Number of data points in the train set: 537, number of used features: 8\n",
      "[LightGBM] [Info] [binary:BoostFromScore]: pavg=0.350093 -> initscore=-0.618630\n",
      "[LightGBM] [Info] Start training from score -0.618630\n",
      "[LightGBM] [Warning] No further splits with positive gain, best gain: -inf\n",
      "[LightGBM] [Warning] No further splits with positive gain, best gain: -inf\n",
      "[LightGBM] [Warning] No further splits with positive gain, best gain: -inf\n",
      "[LightGBM] [Warning] No further splits with positive gain, best gain: -inf\n",
      "[LightGBM] [Warning] No further splits with positive gain, best gain: -inf\n",
      "[LightGBM] [Warning] No further splits with positive gain, best gain: -inf\n",
      "[LightGBM] [Warning] No further splits with positive gain, best gain: -inf\n",
      "[LightGBM] [Warning] No further splits with positive gain, best gain: -inf\n",
      "[LightGBM] [Warning] No further splits with positive gain, best gain: -inf\n",
      "[LightGBM] [Warning] No further splits with positive gain, best gain: -inf\n",
      "[LightGBM] [Warning] No further splits with positive gain, best gain: -inf\n",
      "[LightGBM] [Warning] No further splits with positive gain, best gain: -inf\n",
      "[LightGBM] [Warning] No further splits with positive gain, best gain: -inf\n",
      "[LightGBM] [Warning] No further splits with positive gain, best gain: -inf\n",
      "[LightGBM] [Warning] No further splits with positive gain, best gain: -inf\n",
      "[LightGBM] [Warning] No further splits with positive gain, best gain: -inf\n",
      "[LightGBM] [Warning] No further splits with positive gain, best gain: -inf\n",
      "[LightGBM] [Warning] No further splits with positive gain, best gain: -inf\n",
      "[LightGBM] [Warning] No further splits with positive gain, best gain: -inf\n",
      "[LightGBM] [Warning] No further splits with positive gain, best gain: -inf\n",
      "[LightGBM] [Warning] No further splits with positive gain, best gain: -inf\n",
      "[LightGBM] [Warning] No further splits with positive gain, best gain: -inf\n",
      "[LightGBM] [Warning] No further splits with positive gain, best gain: -inf\n",
      "[LightGBM] [Warning] No further splits with positive gain, best gain: -inf\n",
      "[LightGBM] [Warning] No further splits with positive gain, best gain: -inf\n",
      "[LightGBM] [Warning] No further splits with positive gain, best gain: -inf\n",
      "[LightGBM] [Warning] No further splits with positive gain, best gain: -inf\n",
      "[LightGBM] [Warning] No further splits with positive gain, best gain: -inf\n",
      "[LightGBM] [Warning] No further splits with positive gain, best gain: -inf\n",
      "[LightGBM] [Warning] No further splits with positive gain, best gain: -inf\n",
      "[LightGBM] [Warning] No further splits with positive gain, best gain: -inf\n",
      "[LightGBM] [Warning] No further splits with positive gain, best gain: -inf\n",
      "[LightGBM] [Warning] No further splits with positive gain, best gain: -inf\n",
      "[LightGBM] [Warning] No further splits with positive gain, best gain: -inf\n",
      "[LightGBM] [Warning] No further splits with positive gain, best gain: -inf\n",
      "[LightGBM] [Warning] No further splits with positive gain, best gain: -inf\n",
      "[LightGBM] [Warning] No further splits with positive gain, best gain: -inf\n",
      "[LightGBM] [Warning] No further splits with positive gain, best gain: -inf\n",
      "[LightGBM] [Warning] No further splits with positive gain, best gain: -inf\n",
      "[LightGBM] [Warning] No further splits with positive gain, best gain: -inf\n",
      "[LightGBM] [Warning] No further splits with positive gain, best gain: -inf\n",
      "[LightGBM] [Warning] No further splits with positive gain, best gain: -inf\n",
      "[LightGBM] [Warning] No further splits with positive gain, best gain: -inf\n",
      "[LightGBM] [Warning] No further splits with positive gain, best gain: -inf\n",
      "[LightGBM] [Warning] No further splits with positive gain, best gain: -inf\n",
      "[LightGBM] [Warning] No further splits with positive gain, best gain: -inf\n",
      "[LightGBM] [Warning] No further splits with positive gain, best gain: -inf\n",
      "[LightGBM] [Warning] No further splits with positive gain, best gain: -inf\n",
      "[LightGBM] [Warning] No further splits with positive gain, best gain: -inf\n",
      "[LightGBM] [Warning] No further splits with positive gain, best gain: -inf\n",
      "[LightGBM] [Warning] No further splits with positive gain, best gain: -inf\n",
      "[LightGBM] [Warning] No further splits with positive gain, best gain: -inf\n",
      "[LightGBM] [Warning] No further splits with positive gain, best gain: -inf\n",
      "[LightGBM] [Warning] No further splits with positive gain, best gain: -inf\n",
      "[LightGBM] [Warning] No further splits with positive gain, best gain: -inf\n",
      "[LightGBM] [Warning] No further splits with positive gain, best gain: -inf\n",
      "[LightGBM] [Warning] No further splits with positive gain, best gain: -inf\n",
      "[LightGBM] [Warning] No further splits with positive gain, best gain: -inf\n",
      "[LightGBM] [Warning] No further splits with positive gain, best gain: -inf\n",
      "[LightGBM] [Warning] No further splits with positive gain, best gain: -inf\n",
      "[LightGBM] [Warning] No further splits with positive gain, best gain: -inf\n",
      "[LightGBM] [Warning] No further splits with positive gain, best gain: -inf\n",
      "[LightGBM] [Warning] No further splits with positive gain, best gain: -inf\n",
      "[LightGBM] [Warning] No further splits with positive gain, best gain: -inf\n",
      "[LightGBM] [Warning] No further splits with positive gain, best gain: -inf\n",
      "[LightGBM] [Warning] No further splits with positive gain, best gain: -inf\n",
      "[LightGBM] [Warning] No further splits with positive gain, best gain: -inf\n",
      "[LightGBM] [Warning] No further splits with positive gain, best gain: -inf\n",
      "[LightGBM] [Warning] No further splits with positive gain, best gain: -inf\n",
      "[LightGBM] [Warning] No further splits with positive gain, best gain: -inf\n",
      "[LightGBM] [Warning] No further splits with positive gain, best gain: -inf\n",
      "[LightGBM] [Warning] No further splits with positive gain, best gain: -inf\n",
      "[LightGBM] [Warning] No further splits with positive gain, best gain: -inf\n",
      "[LightGBM] [Warning] No further splits with positive gain, best gain: -inf\n",
      "[LightGBM] [Warning] No further splits with positive gain, best gain: -inf\n",
      "[LightGBM] [Warning] No further splits with positive gain, best gain: -inf\n",
      "[LightGBM] [Warning] No further splits with positive gain, best gain: -inf\n",
      "[LightGBM] [Warning] No further splits with positive gain, best gain: -inf\n",
      "[LightGBM] [Warning] No further splits with positive gain, best gain: -inf\n",
      "[LightGBM] [Warning] No further splits with positive gain, best gain: -inf\n",
      "[LightGBM] [Warning] No further splits with positive gain, best gain: -inf\n",
      "[LightGBM] [Warning] No further splits with positive gain, best gain: -inf\n",
      "[LightGBM] [Warning] No further splits with positive gain, best gain: -inf\n",
      "[LightGBM] [Warning] No further splits with positive gain, best gain: -inf\n",
      "[LightGBM] [Warning] No further splits with positive gain, best gain: -inf\n",
      "[LightGBM] [Warning] No further splits with positive gain, best gain: -inf\n",
      "[LightGBM] [Warning] No further splits with positive gain, best gain: -inf\n",
      "[LightGBM] [Warning] No further splits with positive gain, best gain: -inf\n",
      "[LightGBM] [Warning] No further splits with positive gain, best gain: -inf\n",
      "[LightGBM] [Warning] No further splits with positive gain, best gain: -inf\n",
      "[LightGBM] [Warning] No further splits with positive gain, best gain: -inf\n",
      "[LightGBM] [Warning] No further splits with positive gain, best gain: -inf\n",
      "[LightGBM] [Warning] No further splits with positive gain, best gain: -inf\n",
      "[LightGBM] [Warning] No further splits with positive gain, best gain: -inf\n",
      "[LightGBM] [Warning] No further splits with positive gain, best gain: -inf\n",
      "[LightGBM] [Warning] No further splits with positive gain, best gain: -inf\n",
      "[LightGBM] [Warning] No further splits with positive gain, best gain: -inf\n",
      "[LightGBM] [Warning] No further splits with positive gain, best gain: -inf\n",
      "[LightGBM] [Warning] No further splits with positive gain, best gain: -inf\n",
      "[LightGBM] [Warning] No further splits with positive gain, best gain: -inf\n",
      "[LightGBM] [Warning] No further splits with positive gain, best gain: -inf\n",
      "[LightGBM] [Warning] No further splits with positive gain, best gain: -inf\n",
      "[LightGBM] [Warning] No further splits with positive gain, best gain: -inf\n",
      "[LightGBM] [Warning] No further splits with positive gain, best gain: -inf\n",
      "[LightGBM] [Warning] No further splits with positive gain, best gain: -inf\n",
      "[LightGBM] [Warning] No further splits with positive gain, best gain: -inf\n",
      "[LightGBM] [Warning] No further splits with positive gain, best gain: -inf\n",
      "[LightGBM] [Warning] No further splits with positive gain, best gain: -inf\n",
      "[LightGBM] [Warning] No further splits with positive gain, best gain: -inf\n",
      "[LightGBM] [Warning] No further splits with positive gain, best gain: -inf\n",
      "[LightGBM] [Warning] No further splits with positive gain, best gain: -inf\n",
      "[LightGBM] [Warning] No further splits with positive gain, best gain: -inf\n",
      "[LightGBM] [Warning] No further splits with positive gain, best gain: -inf\n",
      "[LightGBM] [Warning] No further splits with positive gain, best gain: -inf\n",
      "[LightGBM] [Warning] No further splits with positive gain, best gain: -inf\n",
      "[LightGBM] [Warning] No further splits with positive gain, best gain: -inf\n",
      "[LightGBM] [Warning] No further splits with positive gain, best gain: -inf\n",
      "[LightGBM] [Warning] No further splits with positive gain, best gain: -inf\n",
      "[LightGBM] [Warning] No further splits with positive gain, best gain: -inf\n",
      "[LightGBM] [Warning] No further splits with positive gain, best gain: -inf\n",
      "[LightGBM] [Warning] No further splits with positive gain, best gain: -inf\n",
      "[LightGBM] [Warning] No further splits with positive gain, best gain: -inf\n",
      "[LightGBM] [Warning] No further splits with positive gain, best gain: -inf\n",
      "[LightGBM] [Warning] No further splits with positive gain, best gain: -inf\n",
      "[LightGBM] [Warning] No further splits with positive gain, best gain: -inf\n",
      "[LightGBM] [Warning] No further splits with positive gain, best gain: -inf\n",
      "[LightGBM] [Warning] No further splits with positive gain, best gain: -inf\n",
      "[LightGBM] [Warning] No further splits with positive gain, best gain: -inf\n",
      "[LightGBM] [Warning] No further splits with positive gain, best gain: -inf\n",
      "[LightGBM] [Warning] No further splits with positive gain, best gain: -inf\n",
      "[LightGBM] [Warning] No further splits with positive gain, best gain: -inf\n",
      "[LightGBM] [Warning] No further splits with positive gain, best gain: -inf\n",
      "[LightGBM] [Warning] No further splits with positive gain, best gain: -inf\n",
      "[LightGBM] [Warning] No further splits with positive gain, best gain: -inf\n",
      "[LightGBM] [Warning] No further splits with positive gain, best gain: -inf\n",
      "[LightGBM] [Warning] No further splits with positive gain, best gain: -inf\n",
      "[LightGBM] [Warning] No further splits with positive gain, best gain: -inf\n",
      "[LightGBM] [Warning] No further splits with positive gain, best gain: -inf\n",
      "[LightGBM] [Warning] No further splits with positive gain, best gain: -inf\n",
      "[LightGBM] [Warning] No further splits with positive gain, best gain: -inf\n",
      "[LightGBM] [Warning] No further splits with positive gain, best gain: -inf\n",
      "[LightGBM] [Warning] No further splits with positive gain, best gain: -inf\n",
      "[LightGBM] [Warning] No further splits with positive gain, best gain: -inf\n",
      "[LightGBM] [Warning] No further splits with positive gain, best gain: -inf\n",
      "[LightGBM] [Warning] No further splits with positive gain, best gain: -inf\n",
      "[LightGBM] [Warning] No further splits with positive gain, best gain: -inf\n",
      "[LightGBM] [Warning] No further splits with positive gain, best gain: -inf\n",
      "[LightGBM] [Warning] No further splits with positive gain, best gain: -inf\n",
      "[LightGBM] [Warning] No further splits with positive gain, best gain: -inf\n",
      "[LightGBM] [Warning] No further splits with positive gain, best gain: -inf\n",
      "[LightGBM] [Warning] No further splits with positive gain, best gain: -inf\n",
      "[LightGBM] [Warning] No further splits with positive gain, best gain: -inf\n",
      "[LightGBM] [Warning] No further splits with positive gain, best gain: -inf\n",
      "[LightGBM] [Warning] No further splits with positive gain, best gain: -inf\n",
      "[LightGBM] [Warning] No further splits with positive gain, best gain: -inf\n",
      "[LightGBM] [Warning] No further splits with positive gain, best gain: -inf\n",
      "[LightGBM] [Warning] No further splits with positive gain, best gain: -inf\n",
      "[LightGBM] [Warning] No further splits with positive gain, best gain: -inf\n",
      "[LightGBM] [Warning] No further splits with positive gain, best gain: -inf\n",
      "[LightGBM] [Warning] No further splits with positive gain, best gain: -inf\n",
      "[LightGBM] [Warning] No further splits with positive gain, best gain: -inf\n",
      "[LightGBM] [Warning] No further splits with positive gain, best gain: -inf\n",
      "[LightGBM] [Warning] No further splits with positive gain, best gain: -inf\n",
      "[LightGBM] [Warning] No further splits with positive gain, best gain: -inf\n",
      "[LightGBM] [Warning] No further splits with positive gain, best gain: -inf\n",
      "[LightGBM] [Warning] No further splits with positive gain, best gain: -inf\n",
      "[LightGBM] [Warning] No further splits with positive gain, best gain: -inf\n",
      "[LightGBM] [Warning] No further splits with positive gain, best gain: -inf\n",
      "[LightGBM] [Warning] No further splits with positive gain, best gain: -inf\n",
      "[LightGBM] [Warning] No further splits with positive gain, best gain: -inf\n",
      "[LightGBM] [Warning] No further splits with positive gain, best gain: -inf\n",
      "[LightGBM] [Warning] No further splits with positive gain, best gain: -inf\n",
      "[LightGBM] [Warning] No further splits with positive gain, best gain: -inf\n",
      "[LightGBM] [Warning] No further splits with positive gain, best gain: -inf\n",
      "[LightGBM] [Warning] No further splits with positive gain, best gain: -inf\n",
      "[LightGBM] [Warning] No further splits with positive gain, best gain: -inf\n",
      "[LightGBM] [Warning] No further splits with positive gain, best gain: -inf\n",
      "[LightGBM] [Warning] No further splits with positive gain, best gain: -inf\n",
      "[LightGBM] [Warning] No further splits with positive gain, best gain: -inf\n",
      "[LightGBM] [Warning] No further splits with positive gain, best gain: -inf\n",
      "[LightGBM] [Warning] No further splits with positive gain, best gain: -inf\n",
      "[LightGBM] [Warning] No further splits with positive gain, best gain: -inf\n",
      "[LightGBM] [Warning] No further splits with positive gain, best gain: -inf\n",
      "[LightGBM] [Warning] No further splits with positive gain, best gain: -inf\n",
      "[LightGBM] [Warning] No further splits with positive gain, best gain: -inf\n",
      "[LightGBM] [Warning] No further splits with positive gain, best gain: -inf\n",
      "[LightGBM] [Warning] No further splits with positive gain, best gain: -inf\n",
      "[LightGBM] [Warning] No further splits with positive gain, best gain: -inf\n",
      "[LightGBM] [Warning] No further splits with positive gain, best gain: -inf\n",
      "[LightGBM] [Warning] No further splits with positive gain, best gain: -inf\n",
      "[LightGBM] [Warning] No further splits with positive gain, best gain: -inf\n",
      "[LightGBM] [Warning] No further splits with positive gain, best gain: -inf\n",
      "[LightGBM] [Warning] No further splits with positive gain, best gain: -inf\n",
      "[LightGBM] [Warning] No further splits with positive gain, best gain: -inf\n",
      "[LightGBM] [Warning] No further splits with positive gain, best gain: -inf\n",
      "[LightGBM] [Warning] No further splits with positive gain, best gain: -inf\n",
      "[LightGBM] [Warning] No further splits with positive gain, best gain: -inf\n",
      "[LightGBM] [Warning] No further splits with positive gain, best gain: -inf\n",
      "[LightGBM] [Warning] No further splits with positive gain, best gain: -inf\n",
      "[LightGBM] [Warning] No further splits with positive gain, best gain: -inf\n",
      "[LightGBM] [Warning] No further splits with positive gain, best gain: -inf\n",
      "[LightGBM] [Warning] No further splits with positive gain, best gain: -inf\n",
      "[LightGBM] [Warning] No further splits with positive gain, best gain: -inf\n",
      "[LightGBM] [Warning] No further splits with positive gain, best gain: -inf\n",
      "[LightGBM] [Warning] No further splits with positive gain, best gain: -inf\n",
      "[LightGBM] [Warning] No further splits with positive gain, best gain: -inf\n",
      "[LightGBM] [Warning] No further splits with positive gain, best gain: -inf\n",
      "[LightGBM] [Warning] No further splits with positive gain, best gain: -inf\n",
      "[LightGBM] [Warning] No further splits with positive gain, best gain: -inf\n",
      "[LightGBM] [Warning] No further splits with positive gain, best gain: -inf\n",
      "[LightGBM] [Warning] No further splits with positive gain, best gain: -inf\n",
      "[LightGBM] [Warning] No further splits with positive gain, best gain: -inf\n",
      "[LightGBM] [Warning] No further splits with positive gain, best gain: -inf\n",
      "[LightGBM] [Warning] No further splits with positive gain, best gain: -inf\n",
      "[LightGBM] [Warning] No further splits with positive gain, best gain: -inf\n",
      "[LightGBM] [Warning] No further splits with positive gain, best gain: -inf\n",
      "[LightGBM] [Warning] No further splits with positive gain, best gain: -inf\n",
      "[LightGBM] [Warning] No further splits with positive gain, best gain: -inf\n",
      "[LightGBM] [Warning] No further splits with positive gain, best gain: -inf\n",
      "[LightGBM] [Warning] No further splits with positive gain, best gain: -inf\n",
      "[LightGBM] [Warning] No further splits with positive gain, best gain: -inf\n",
      "[LightGBM] [Warning] No further splits with positive gain, best gain: -inf\n",
      "[LightGBM] [Warning] No further splits with positive gain, best gain: -inf\n",
      "[LightGBM] [Warning] No further splits with positive gain, best gain: -inf\n",
      "[LightGBM] [Warning] No further splits with positive gain, best gain: -inf\n",
      "[LightGBM] [Warning] No further splits with positive gain, best gain: -inf\n",
      "[LightGBM] [Warning] No further splits with positive gain, best gain: -inf\n",
      "[LightGBM] [Warning] No further splits with positive gain, best gain: -inf\n",
      "[LightGBM] [Warning] No further splits with positive gain, best gain: -inf\n",
      "[LightGBM] [Warning] No further splits with positive gain, best gain: -inf\n",
      "[LightGBM] [Warning] No further splits with positive gain, best gain: -inf\n",
      "[LightGBM] [Warning] No further splits with positive gain, best gain: -inf\n",
      "[LightGBM] [Warning] No further splits with positive gain, best gain: -inf\n",
      "[LightGBM] [Warning] No further splits with positive gain, best gain: -inf\n",
      "[LightGBM] [Warning] No further splits with positive gain, best gain: -inf\n",
      "[LightGBM] [Warning] No further splits with positive gain, best gain: -inf\n",
      "[LightGBM] [Warning] No further splits with positive gain, best gain: -inf\n",
      "[LightGBM] [Warning] No further splits with positive gain, best gain: -inf\n",
      "[LightGBM] [Warning] No further splits with positive gain, best gain: -inf\n",
      "[LightGBM] [Warning] No further splits with positive gain, best gain: -inf\n",
      "[LightGBM] [Warning] No further splits with positive gain, best gain: -inf\n",
      "[LightGBM] [Warning] No further splits with positive gain, best gain: -inf\n",
      "[LightGBM] [Warning] No further splits with positive gain, best gain: -inf\n",
      "[LightGBM] [Warning] No further splits with positive gain, best gain: -inf\n",
      "[LightGBM] [Warning] No further splits with positive gain, best gain: -inf\n",
      "[LightGBM] [Warning] No further splits with positive gain, best gain: -inf\n",
      "[LightGBM] [Warning] No further splits with positive gain, best gain: -inf\n",
      "[LightGBM] [Warning] No further splits with positive gain, best gain: -inf\n",
      "[LightGBM] [Warning] No further splits with positive gain, best gain: -inf\n",
      "[LightGBM] [Warning] No further splits with positive gain, best gain: -inf\n",
      "[LightGBM] [Warning] No further splits with positive gain, best gain: -inf\n",
      "[LightGBM] [Warning] No further splits with positive gain, best gain: -inf\n",
      "[LightGBM] [Warning] No further splits with positive gain, best gain: -inf\n",
      "[LightGBM] [Warning] No further splits with positive gain, best gain: -inf\n",
      "[LightGBM] [Warning] No further splits with positive gain, best gain: -inf\n",
      "[LightGBM] [Warning] No further splits with positive gain, best gain: -inf\n",
      "[LightGBM] [Warning] No further splits with positive gain, best gain: -inf\n",
      "[LightGBM] [Warning] No further splits with positive gain, best gain: -inf\n",
      "[LightGBM] [Warning] No further splits with positive gain, best gain: -inf\n",
      "[LightGBM] [Warning] No further splits with positive gain, best gain: -inf\n",
      "[LightGBM] [Warning] No further splits with positive gain, best gain: -inf\n",
      "[LightGBM] [Warning] No further splits with positive gain, best gain: -inf\n",
      "[LightGBM] [Warning] No further splits with positive gain, best gain: -inf\n",
      "[LightGBM] [Warning] No further splits with positive gain, best gain: -inf\n",
      "[LightGBM] [Warning] No further splits with positive gain, best gain: -inf\n",
      "[LightGBM] [Warning] No further splits with positive gain, best gain: -inf\n",
      "[LightGBM] [Warning] No further splits with positive gain, best gain: -inf\n",
      "[LightGBM] [Warning] No further splits with positive gain, best gain: -inf\n",
      "[LightGBM] [Warning] No further splits with positive gain, best gain: -inf\n",
      "[LightGBM] [Warning] No further splits with positive gain, best gain: -inf\n",
      "[LightGBM] [Warning] No further splits with positive gain, best gain: -inf\n",
      "[LightGBM] [Warning] No further splits with positive gain, best gain: -inf\n",
      "[LightGBM] [Warning] No further splits with positive gain, best gain: -inf\n",
      "[LightGBM] [Warning] No further splits with positive gain, best gain: -inf\n",
      "[LightGBM] [Warning] No further splits with positive gain, best gain: -inf\n",
      "[LightGBM] [Warning] No further splits with positive gain, best gain: -inf\n",
      "[LightGBM] [Warning] No further splits with positive gain, best gain: -inf\n",
      "[LightGBM] [Warning] No further splits with positive gain, best gain: -inf\n",
      "[LightGBM] [Warning] No further splits with positive gain, best gain: -inf\n",
      "[LightGBM] [Warning] No further splits with positive gain, best gain: -inf\n",
      "[LightGBM] [Warning] No further splits with positive gain, best gain: -inf\n",
      "[LightGBM] [Warning] No further splits with positive gain, best gain: -inf\n",
      "[LightGBM] [Warning] No further splits with positive gain, best gain: -inf\n",
      "[LightGBM] [Warning] No further splits with positive gain, best gain: -inf\n",
      "[LightGBM] [Warning] No further splits with positive gain, best gain: -inf\n",
      "[LightGBM] [Warning] No further splits with positive gain, best gain: -inf\n",
      "[LightGBM] [Warning] No further splits with positive gain, best gain: -inf\n",
      "[LightGBM] [Warning] No further splits with positive gain, best gain: -inf\n",
      "[LightGBM] [Warning] No further splits with positive gain, best gain: -inf\n",
      "[LightGBM] [Warning] No further splits with positive gain, best gain: -inf\n",
      "[LightGBM] [Warning] No further splits with positive gain, best gain: -inf\n",
      "[LightGBM] [Warning] No further splits with positive gain, best gain: -inf\n",
      "[LightGBM] [Warning] No further splits with positive gain, best gain: -inf\n",
      "[LightGBM] [Warning] No further splits with positive gain, best gain: -inf\n",
      "[LightGBM] [Warning] No further splits with positive gain, best gain: -inf\n",
      "[LightGBM] [Warning] No further splits with positive gain, best gain: -inf\n",
      "[LightGBM] [Warning] No further splits with positive gain, best gain: -inf\n",
      "[LightGBM] [Warning] No further splits with positive gain, best gain: -inf\n",
      "[LightGBM] [Warning] No further splits with positive gain, best gain: -inf\n",
      "[LightGBM] [Warning] No further splits with positive gain, best gain: -inf\n",
      "[LightGBM] [Warning] No further splits with positive gain, best gain: -inf\n",
      "[LightGBM] [Warning] No further splits with positive gain, best gain: -inf\n",
      "[LightGBM] [Warning] No further splits with positive gain, best gain: -inf\n",
      "[LightGBM] [Warning] No further splits with positive gain, best gain: -inf\n",
      "[LightGBM] [Warning] No further splits with positive gain, best gain: -inf\n",
      "[LightGBM] [Warning] No further splits with positive gain, best gain: -inf\n",
      "[LightGBM] [Warning] No further splits with positive gain, best gain: -inf\n",
      "[LightGBM] [Warning] No further splits with positive gain, best gain: -inf\n",
      "[LightGBM] [Warning] No further splits with positive gain, best gain: -inf\n",
      "[LightGBM] [Warning] No further splits with positive gain, best gain: -inf\n",
      "[LightGBM] [Warning] No further splits with positive gain, best gain: -inf\n",
      "[LightGBM] [Warning] No further splits with positive gain, best gain: -inf\n",
      "[LightGBM] [Warning] No further splits with positive gain, best gain: -inf\n",
      "[LightGBM] [Warning] No further splits with positive gain, best gain: -inf\n",
      "[LightGBM] [Warning] No further splits with positive gain, best gain: -inf\n",
      "[LightGBM] [Warning] No further splits with positive gain, best gain: -inf\n",
      "[LightGBM] [Warning] No further splits with positive gain, best gain: -inf\n",
      "[LightGBM] [Warning] No further splits with positive gain, best gain: -inf\n",
      "[LightGBM] [Warning] No further splits with positive gain, best gain: -inf\n",
      "[LightGBM] [Warning] No further splits with positive gain, best gain: -inf\n",
      "[LightGBM] [Warning] No further splits with positive gain, best gain: -inf\n",
      "[LightGBM] [Warning] No further splits with positive gain, best gain: -inf\n",
      "[LightGBM] [Warning] No further splits with positive gain, best gain: -inf\n",
      "[LightGBM] [Warning] No further splits with positive gain, best gain: -inf\n",
      "[LightGBM] [Warning] No further splits with positive gain, best gain: -inf\n",
      "[LightGBM] [Warning] No further splits with positive gain, best gain: -inf\n",
      "[LightGBM] [Warning] No further splits with positive gain, best gain: -inf\n",
      "[LightGBM] [Warning] No further splits with positive gain, best gain: -inf\n",
      "[LightGBM] [Warning] No further splits with positive gain, best gain: -inf\n",
      "[LightGBM] [Warning] No further splits with positive gain, best gain: -inf\n",
      "[LightGBM] [Warning] No further splits with positive gain, best gain: -inf\n",
      "[LightGBM] [Warning] No further splits with positive gain, best gain: -inf\n",
      "[LightGBM] [Warning] No further splits with positive gain, best gain: -inf\n",
      "[LightGBM] [Warning] No further splits with positive gain, best gain: -inf\n",
      "[LightGBM] [Warning] No further splits with positive gain, best gain: -inf\n",
      "[LightGBM] [Warning] No further splits with positive gain, best gain: -inf\n",
      "[LightGBM] [Warning] No further splits with positive gain, best gain: -inf\n",
      "[LightGBM] [Warning] No further splits with positive gain, best gain: -inf\n",
      "[LightGBM] [Warning] No further splits with positive gain, best gain: -inf\n",
      "[LightGBM] [Warning] No further splits with positive gain, best gain: -inf\n",
      "[LightGBM] [Warning] No further splits with positive gain, best gain: -inf\n",
      "[LightGBM] [Warning] No further splits with positive gain, best gain: -inf\n",
      "[LightGBM] [Warning] No further splits with positive gain, best gain: -inf\n",
      "[LightGBM] [Warning] No further splits with positive gain, best gain: -inf\n",
      "[LightGBM] [Warning] No further splits with positive gain, best gain: -inf\n",
      "[LightGBM] [Warning] No further splits with positive gain, best gain: -inf\n",
      "[LightGBM] [Warning] No further splits with positive gain, best gain: -inf\n",
      "[LightGBM] [Warning] No further splits with positive gain, best gain: -inf\n",
      "[LightGBM] [Warning] No further splits with positive gain, best gain: -inf\n",
      "[LightGBM] [Warning] No further splits with positive gain, best gain: -inf\n",
      "[LightGBM] [Warning] No further splits with positive gain, best gain: -inf\n",
      "[LightGBM] [Warning] No further splits with positive gain, best gain: -inf\n",
      "[LightGBM] [Warning] No further splits with positive gain, best gain: -inf\n",
      "[LightGBM] [Warning] No further splits with positive gain, best gain: -inf\n",
      "[LightGBM] [Warning] No further splits with positive gain, best gain: -inf\n",
      "[LightGBM] [Warning] No further splits with positive gain, best gain: -inf\n",
      "[LightGBM] [Warning] No further splits with positive gain, best gain: -inf\n",
      "[LightGBM] [Warning] No further splits with positive gain, best gain: -inf\n",
      "[LightGBM] [Warning] No further splits with positive gain, best gain: -inf\n",
      "[LightGBM] [Warning] No further splits with positive gain, best gain: -inf\n",
      "[LightGBM] [Warning] No further splits with positive gain, best gain: -inf\n",
      "[LightGBM] [Warning] No further splits with positive gain, best gain: -inf\n",
      "[LightGBM] [Warning] No further splits with positive gain, best gain: -inf\n",
      "[LightGBM] [Warning] No further splits with positive gain, best gain: -inf\n",
      "[LightGBM] [Warning] No further splits with positive gain, best gain: -inf\n",
      "[LightGBM] [Warning] No further splits with positive gain, best gain: -inf\n",
      "[LightGBM] [Warning] No further splits with positive gain, best gain: -inf\n",
      "[LightGBM] [Warning] No further splits with positive gain, best gain: -inf\n",
      "[LightGBM] [Warning] No further splits with positive gain, best gain: -inf\n",
      "[LightGBM] [Warning] No further splits with positive gain, best gain: -inf\n",
      "[LightGBM] [Warning] No further splits with positive gain, best gain: -inf\n",
      "[LightGBM] [Warning] No further splits with positive gain, best gain: -inf\n",
      "[LightGBM] [Warning] No further splits with positive gain, best gain: -inf\n",
      "[LightGBM] [Warning] No further splits with positive gain, best gain: -inf\n",
      "[LightGBM] [Warning] No further splits with positive gain, best gain: -inf\n",
      "[LightGBM] [Warning] No further splits with positive gain, best gain: -inf\n",
      "[LightGBM] [Warning] No further splits with positive gain, best gain: -inf\n",
      "[LightGBM] [Warning] No further splits with positive gain, best gain: -inf\n",
      "[LightGBM] [Warning] No further splits with positive gain, best gain: -inf\n",
      "[LightGBM] [Warning] No further splits with positive gain, best gain: -inf\n",
      "[LightGBM] [Warning] No further splits with positive gain, best gain: -inf\n",
      "[LightGBM] [Warning] No further splits with positive gain, best gain: -inf\n",
      "[LightGBM] [Warning] No further splits with positive gain, best gain: -inf\n",
      "[LightGBM] [Warning] No further splits with positive gain, best gain: -inf\n",
      "[LightGBM] [Warning] No further splits with positive gain, best gain: -inf\n",
      "[LightGBM] [Warning] No further splits with positive gain, best gain: -inf\n",
      "[LightGBM] [Warning] No further splits with positive gain, best gain: -inf\n",
      "[LightGBM] [Warning] No further splits with positive gain, best gain: -inf\n",
      "[LightGBM] [Warning] No further splits with positive gain, best gain: -inf\n",
      "[LightGBM] [Warning] No further splits with positive gain, best gain: -inf\n",
      "[LightGBM] [Warning] No further splits with positive gain, best gain: -inf\n",
      "[LightGBM] [Warning] No further splits with positive gain, best gain: -inf\n",
      "[LightGBM] [Warning] No further splits with positive gain, best gain: -inf\n",
      "[LightGBM] [Warning] No further splits with positive gain, best gain: -inf\n",
      "[LightGBM] [Warning] No further splits with positive gain, best gain: -inf\n",
      "[LightGBM] [Warning] No further splits with positive gain, best gain: -inf\n",
      "[LightGBM] [Warning] No further splits with positive gain, best gain: -inf\n",
      "[LightGBM] [Warning] No further splits with positive gain, best gain: -inf\n",
      "[LightGBM] [Warning] No further splits with positive gain, best gain: -inf\n",
      "[LightGBM] [Warning] No further splits with positive gain, best gain: -inf\n",
      "[LightGBM] [Warning] No further splits with positive gain, best gain: -inf\n",
      "[LightGBM] [Warning] No further splits with positive gain, best gain: -inf\n",
      "[LightGBM] [Warning] No further splits with positive gain, best gain: -inf\n",
      "[LightGBM] [Warning] No further splits with positive gain, best gain: -inf\n",
      "[LightGBM] [Warning] No further splits with positive gain, best gain: -inf\n",
      "[LightGBM] [Warning] No further splits with positive gain, best gain: -inf\n",
      "[LightGBM] [Warning] No further splits with positive gain, best gain: -inf\n",
      "[LightGBM] [Warning] No further splits with positive gain, best gain: -inf\n",
      "[LightGBM] [Warning] No further splits with positive gain, best gain: -inf\n",
      "[LightGBM] [Warning] No further splits with positive gain, best gain: -inf\n",
      "[LightGBM] [Warning] No further splits with positive gain, best gain: -inf\n",
      "[LightGBM] [Warning] No further splits with positive gain, best gain: -inf\n",
      "[LightGBM] [Warning] No further splits with positive gain, best gain: -inf\n",
      "[LightGBM] [Warning] No further splits with positive gain, best gain: -inf\n",
      "[LightGBM] [Warning] No further splits with positive gain, best gain: -inf\n",
      "[LightGBM] [Warning] No further splits with positive gain, best gain: -inf\n",
      "[LightGBM] [Warning] No further splits with positive gain, best gain: -inf\n",
      "[LightGBM] [Warning] No further splits with positive gain, best gain: -inf\n",
      "[LightGBM] [Warning] No further splits with positive gain, best gain: -inf\n",
      "[LightGBM] [Warning] No further splits with positive gain, best gain: -inf\n",
      "[LightGBM] [Warning] No further splits with positive gain, best gain: -inf\n",
      "[LightGBM] [Warning] No further splits with positive gain, best gain: -inf\n",
      "[LightGBM] [Warning] No further splits with positive gain, best gain: -inf\n",
      "[LightGBM] [Warning] No further splits with positive gain, best gain: -inf\n",
      "[LightGBM] [Warning] No further splits with positive gain, best gain: -inf\n",
      "[LightGBM] [Warning] No further splits with positive gain, best gain: -inf\n",
      "[LightGBM] [Warning] No further splits with positive gain, best gain: -inf\n",
      "[LightGBM] [Warning] No further splits with positive gain, best gain: -inf\n",
      "[LightGBM] [Warning] No further splits with positive gain, best gain: -inf\n",
      "[LightGBM] [Warning] No further splits with positive gain, best gain: -inf\n",
      "[LightGBM] [Warning] No further splits with positive gain, best gain: -inf\n",
      "[LightGBM] [Warning] No further splits with positive gain, best gain: -inf\n",
      "[LightGBM] [Warning] No further splits with positive gain, best gain: -inf\n",
      "[LightGBM] [Warning] No further splits with positive gain, best gain: -inf\n",
      "[LightGBM] [Warning] No further splits with positive gain, best gain: -inf\n",
      "[LightGBM] [Warning] No further splits with positive gain, best gain: -inf\n",
      "[LightGBM] [Warning] No further splits with positive gain, best gain: -inf\n",
      "[LightGBM] [Warning] No further splits with positive gain, best gain: -inf\n",
      "[LightGBM] [Warning] No further splits with positive gain, best gain: -inf\n",
      "[LightGBM] [Warning] No further splits with positive gain, best gain: -inf\n",
      "[LightGBM] [Warning] No further splits with positive gain, best gain: -inf\n",
      "[LightGBM] [Warning] No further splits with positive gain, best gain: -inf\n",
      "[LightGBM] [Warning] No further splits with positive gain, best gain: -inf\n",
      "[LightGBM] [Warning] No further splits with positive gain, best gain: -inf\n",
      "[LightGBM] [Warning] No further splits with positive gain, best gain: -inf\n",
      "[LightGBM] [Warning] No further splits with positive gain, best gain: -inf\n",
      "[LightGBM] [Warning] No further splits with positive gain, best gain: -inf\n",
      "[LightGBM] [Warning] No further splits with positive gain, best gain: -inf\n",
      "[LightGBM] [Warning] No further splits with positive gain, best gain: -inf\n",
      "[LightGBM] [Warning] No further splits with positive gain, best gain: -inf\n",
      "[LightGBM] [Warning] No further splits with positive gain, best gain: -inf\n",
      "[LightGBM] [Warning] No further splits with positive gain, best gain: -inf\n",
      "[LightGBM] [Warning] No further splits with positive gain, best gain: -inf\n",
      "[LightGBM] [Warning] No further splits with positive gain, best gain: -inf\n",
      "[LightGBM] [Warning] No further splits with positive gain, best gain: -inf\n",
      "[LightGBM] [Warning] No further splits with positive gain, best gain: -inf\n",
      "[LightGBM] [Warning] No further splits with positive gain, best gain: -inf\n",
      "[LightGBM] [Warning] No further splits with positive gain, best gain: -inf\n",
      "[LightGBM] [Warning] No further splits with positive gain, best gain: -inf\n",
      "[LightGBM] [Warning] No further splits with positive gain, best gain: -inf\n",
      "[LightGBM] [Warning] No further splits with positive gain, best gain: -inf\n",
      "[LightGBM] [Warning] No further splits with positive gain, best gain: -inf\n"
     ]
    }
   ],
   "source": [
    "lgbm_tuned = lgbm.fit(X_train, y_train)"
   ]
  },
  {
   "cell_type": "code",
   "execution_count": 43,
   "id": "42e57e7f-bf1f-45c1-9cce-566fcb5b5ef9",
   "metadata": {
    "tags": []
   },
   "outputs": [
    {
     "data": {
      "text/plain": [
       "0.7532467532467533"
      ]
     },
     "execution_count": 43,
     "metadata": {},
     "output_type": "execute_result"
    }
   ],
   "source": [
    "y_pred = lgbm_tuned.predict(X_test)\n",
    "accuracy_score(y_test, y_pred)"
   ]
  },
  {
   "cell_type": "markdown",
   "id": "fdeb1526-b614-4073-b156-5861665c397b",
   "metadata": {
    "tags": []
   },
   "source": [
    "# CatBoost"
   ]
  },
  {
   "cell_type": "markdown",
   "id": "ef3d8903-94ac-4ab8-b7e0-1cbd75623d6c",
   "metadata": {},
   "source": [
    "## Model & Tahmin"
   ]
  },
  {
   "cell_type": "code",
   "execution_count": 47,
   "id": "342fbfb0-5475-4e8f-a27c-539e17a84535",
   "metadata": {
    "tags": []
   },
   "outputs": [],
   "source": [
    "df = diabetes.copy()\n",
    "df = df.dropna()\n",
    "y = df[\"Outcome\"]\n",
    "X = df.drop(['Outcome'], axis = 1)\n",
    "X = pd.DataFrame(X)\n",
    "X_train, X_test, y_train, y_test = train_test_split(X, y, \n",
    "                                                    test_size=0.30, \n",
    "                                                    random_state=42)"
   ]
  },
  {
   "cell_type": "code",
   "execution_count": 49,
   "id": "5015f417-83b0-492b-97ae-b6d0a2340e0e",
   "metadata": {
    "tags": []
   },
   "outputs": [],
   "source": [
    "from catboost import CatBoostClassifier"
   ]
  },
  {
   "cell_type": "code",
   "execution_count": 51,
   "id": "6dbf4139-246c-4134-95a3-72712bd859e4",
   "metadata": {
    "collapsed": true,
    "jupyter": {
     "outputs_hidden": true
    },
    "tags": []
   },
   "outputs": [
    {
     "name": "stdout",
     "output_type": "stream",
     "text": [
      "Learning rate set to 0.0079\n",
      "0:\tlearn: 0.6879744\ttotal: 152ms\tremaining: 2m 32s\n",
      "1:\tlearn: 0.6843414\ttotal: 153ms\tremaining: 1m 16s\n",
      "2:\tlearn: 0.6805760\ttotal: 154ms\tremaining: 51.3s\n",
      "3:\tlearn: 0.6765782\ttotal: 155ms\tremaining: 38.7s\n",
      "4:\tlearn: 0.6720829\ttotal: 156ms\tremaining: 31.1s\n",
      "5:\tlearn: 0.6681617\ttotal: 158ms\tremaining: 26.1s\n",
      "6:\tlearn: 0.6641912\ttotal: 158ms\tremaining: 22.5s\n",
      "7:\tlearn: 0.6602881\ttotal: 159ms\tremaining: 19.8s\n",
      "8:\tlearn: 0.6562626\ttotal: 160ms\tremaining: 17.7s\n",
      "9:\tlearn: 0.6528483\ttotal: 161ms\tremaining: 16s\n",
      "10:\tlearn: 0.6487823\ttotal: 162ms\tremaining: 14.6s\n",
      "11:\tlearn: 0.6454980\ttotal: 163ms\tremaining: 13.4s\n",
      "12:\tlearn: 0.6418953\ttotal: 164ms\tremaining: 12.5s\n",
      "13:\tlearn: 0.6374431\ttotal: 165ms\tremaining: 11.6s\n",
      "14:\tlearn: 0.6339676\ttotal: 166ms\tremaining: 10.9s\n",
      "15:\tlearn: 0.6304252\ttotal: 167ms\tremaining: 10.3s\n",
      "16:\tlearn: 0.6266998\ttotal: 168ms\tremaining: 9.72s\n",
      "17:\tlearn: 0.6237660\ttotal: 169ms\tremaining: 9.22s\n",
      "18:\tlearn: 0.6204394\ttotal: 170ms\tremaining: 8.78s\n",
      "19:\tlearn: 0.6170129\ttotal: 171ms\tremaining: 8.39s\n",
      "20:\tlearn: 0.6133404\ttotal: 172ms\tremaining: 8.03s\n",
      "21:\tlearn: 0.6104932\ttotal: 173ms\tremaining: 7.71s\n",
      "22:\tlearn: 0.6069523\ttotal: 174ms\tremaining: 7.41s\n",
      "23:\tlearn: 0.6036467\ttotal: 176ms\tremaining: 7.14s\n",
      "24:\tlearn: 0.6005392\ttotal: 177ms\tremaining: 6.89s\n",
      "25:\tlearn: 0.5977520\ttotal: 178ms\tremaining: 6.65s\n",
      "26:\tlearn: 0.5948189\ttotal: 179ms\tremaining: 6.44s\n",
      "27:\tlearn: 0.5919831\ttotal: 180ms\tremaining: 6.24s\n",
      "28:\tlearn: 0.5885065\ttotal: 181ms\tremaining: 6.05s\n",
      "29:\tlearn: 0.5848273\ttotal: 182ms\tremaining: 5.87s\n",
      "30:\tlearn: 0.5822076\ttotal: 183ms\tremaining: 5.71s\n",
      "31:\tlearn: 0.5790604\ttotal: 183ms\tremaining: 5.55s\n",
      "32:\tlearn: 0.5762252\ttotal: 184ms\tremaining: 5.4s\n",
      "33:\tlearn: 0.5745338\ttotal: 185ms\tremaining: 5.27s\n",
      "34:\tlearn: 0.5719085\ttotal: 186ms\tremaining: 5.14s\n",
      "35:\tlearn: 0.5693365\ttotal: 188ms\tremaining: 5.02s\n",
      "36:\tlearn: 0.5665486\ttotal: 188ms\tremaining: 4.91s\n",
      "37:\tlearn: 0.5647413\ttotal: 190ms\tremaining: 4.8s\n",
      "38:\tlearn: 0.5622430\ttotal: 190ms\tremaining: 4.69s\n",
      "39:\tlearn: 0.5600038\ttotal: 191ms\tremaining: 4.59s\n",
      "40:\tlearn: 0.5579786\ttotal: 192ms\tremaining: 4.5s\n",
      "41:\tlearn: 0.5555817\ttotal: 193ms\tremaining: 4.41s\n",
      "42:\tlearn: 0.5533884\ttotal: 194ms\tremaining: 4.32s\n",
      "43:\tlearn: 0.5503718\ttotal: 195ms\tremaining: 4.24s\n",
      "44:\tlearn: 0.5482587\ttotal: 196ms\tremaining: 4.16s\n",
      "45:\tlearn: 0.5458783\ttotal: 197ms\tremaining: 4.09s\n",
      "46:\tlearn: 0.5441370\ttotal: 198ms\tremaining: 4.01s\n",
      "47:\tlearn: 0.5422492\ttotal: 199ms\tremaining: 3.94s\n",
      "48:\tlearn: 0.5397111\ttotal: 200ms\tremaining: 3.88s\n",
      "49:\tlearn: 0.5378482\ttotal: 201ms\tremaining: 3.82s\n",
      "50:\tlearn: 0.5355250\ttotal: 202ms\tremaining: 3.76s\n",
      "51:\tlearn: 0.5334717\ttotal: 203ms\tremaining: 3.7s\n",
      "52:\tlearn: 0.5308796\ttotal: 204ms\tremaining: 3.65s\n",
      "53:\tlearn: 0.5291891\ttotal: 205ms\tremaining: 3.6s\n",
      "54:\tlearn: 0.5273404\ttotal: 206ms\tremaining: 3.54s\n",
      "55:\tlearn: 0.5252025\ttotal: 207ms\tremaining: 3.5s\n",
      "56:\tlearn: 0.5232146\ttotal: 208ms\tremaining: 3.45s\n",
      "57:\tlearn: 0.5212394\ttotal: 209ms\tremaining: 3.4s\n",
      "58:\tlearn: 0.5188927\ttotal: 210ms\tremaining: 3.35s\n",
      "59:\tlearn: 0.5166496\ttotal: 212ms\tremaining: 3.31s\n",
      "60:\tlearn: 0.5151264\ttotal: 213ms\tremaining: 3.27s\n",
      "61:\tlearn: 0.5128109\ttotal: 214ms\tremaining: 3.23s\n",
      "62:\tlearn: 0.5114747\ttotal: 215ms\tremaining: 3.19s\n",
      "63:\tlearn: 0.5096208\ttotal: 216ms\tremaining: 3.16s\n",
      "64:\tlearn: 0.5072601\ttotal: 217ms\tremaining: 3.12s\n",
      "65:\tlearn: 0.5052770\ttotal: 218ms\tremaining: 3.08s\n",
      "66:\tlearn: 0.5036623\ttotal: 219ms\tremaining: 3.05s\n",
      "67:\tlearn: 0.5017328\ttotal: 220ms\tremaining: 3.02s\n",
      "68:\tlearn: 0.5005425\ttotal: 221ms\tremaining: 2.98s\n",
      "69:\tlearn: 0.4991695\ttotal: 222ms\tremaining: 2.94s\n",
      "70:\tlearn: 0.4976900\ttotal: 223ms\tremaining: 2.91s\n",
      "71:\tlearn: 0.4958907\ttotal: 223ms\tremaining: 2.88s\n",
      "72:\tlearn: 0.4944550\ttotal: 224ms\tremaining: 2.85s\n",
      "73:\tlearn: 0.4929501\ttotal: 225ms\tremaining: 2.82s\n",
      "74:\tlearn: 0.4913299\ttotal: 226ms\tremaining: 2.79s\n",
      "75:\tlearn: 0.4898798\ttotal: 227ms\tremaining: 2.76s\n",
      "76:\tlearn: 0.4882946\ttotal: 228ms\tremaining: 2.73s\n",
      "77:\tlearn: 0.4866733\ttotal: 229ms\tremaining: 2.7s\n",
      "78:\tlearn: 0.4849083\ttotal: 230ms\tremaining: 2.68s\n",
      "79:\tlearn: 0.4832344\ttotal: 231ms\tremaining: 2.65s\n",
      "80:\tlearn: 0.4822155\ttotal: 232ms\tremaining: 2.63s\n",
      "81:\tlearn: 0.4805651\ttotal: 233ms\tremaining: 2.6s\n",
      "82:\tlearn: 0.4789437\ttotal: 234ms\tremaining: 2.58s\n",
      "83:\tlearn: 0.4773680\ttotal: 235ms\tremaining: 2.56s\n",
      "84:\tlearn: 0.4759592\ttotal: 235ms\tremaining: 2.53s\n",
      "85:\tlearn: 0.4743296\ttotal: 236ms\tremaining: 2.51s\n",
      "86:\tlearn: 0.4733053\ttotal: 237ms\tremaining: 2.49s\n",
      "87:\tlearn: 0.4719029\ttotal: 238ms\tremaining: 2.47s\n",
      "88:\tlearn: 0.4704197\ttotal: 239ms\tremaining: 2.44s\n",
      "89:\tlearn: 0.4692434\ttotal: 240ms\tremaining: 2.42s\n",
      "90:\tlearn: 0.4676877\ttotal: 241ms\tremaining: 2.4s\n",
      "91:\tlearn: 0.4663135\ttotal: 242ms\tremaining: 2.38s\n",
      "92:\tlearn: 0.4648501\ttotal: 243ms\tremaining: 2.37s\n",
      "93:\tlearn: 0.4634104\ttotal: 243ms\tremaining: 2.35s\n",
      "94:\tlearn: 0.4622453\ttotal: 244ms\tremaining: 2.33s\n",
      "95:\tlearn: 0.4610022\ttotal: 245ms\tremaining: 2.31s\n",
      "96:\tlearn: 0.4596122\ttotal: 246ms\tremaining: 2.29s\n",
      "97:\tlearn: 0.4586478\ttotal: 247ms\tremaining: 2.28s\n",
      "98:\tlearn: 0.4574414\ttotal: 248ms\tremaining: 2.26s\n",
      "99:\tlearn: 0.4564241\ttotal: 249ms\tremaining: 2.24s\n",
      "100:\tlearn: 0.4550640\ttotal: 250ms\tremaining: 2.23s\n",
      "101:\tlearn: 0.4542409\ttotal: 251ms\tremaining: 2.21s\n",
      "102:\tlearn: 0.4532567\ttotal: 252ms\tremaining: 2.2s\n",
      "103:\tlearn: 0.4520656\ttotal: 253ms\tremaining: 2.18s\n",
      "104:\tlearn: 0.4507238\ttotal: 254ms\tremaining: 2.17s\n",
      "105:\tlearn: 0.4498366\ttotal: 255ms\tremaining: 2.15s\n",
      "106:\tlearn: 0.4487896\ttotal: 256ms\tremaining: 2.14s\n",
      "107:\tlearn: 0.4479770\ttotal: 257ms\tremaining: 2.12s\n",
      "108:\tlearn: 0.4470681\ttotal: 258ms\tremaining: 2.11s\n",
      "109:\tlearn: 0.4461679\ttotal: 259ms\tremaining: 2.09s\n",
      "110:\tlearn: 0.4449306\ttotal: 260ms\tremaining: 2.08s\n",
      "111:\tlearn: 0.4442033\ttotal: 261ms\tremaining: 2.07s\n",
      "112:\tlearn: 0.4431958\ttotal: 262ms\tremaining: 2.05s\n",
      "113:\tlearn: 0.4420872\ttotal: 263ms\tremaining: 2.04s\n",
      "114:\tlearn: 0.4411093\ttotal: 264ms\tremaining: 2.03s\n",
      "115:\tlearn: 0.4404177\ttotal: 265ms\tremaining: 2.02s\n",
      "116:\tlearn: 0.4393393\ttotal: 266ms\tremaining: 2s\n",
      "117:\tlearn: 0.4385459\ttotal: 267ms\tremaining: 1.99s\n",
      "118:\tlearn: 0.4376311\ttotal: 268ms\tremaining: 1.98s\n",
      "119:\tlearn: 0.4365919\ttotal: 269ms\tremaining: 1.97s\n",
      "120:\tlearn: 0.4356995\ttotal: 270ms\tremaining: 1.96s\n",
      "121:\tlearn: 0.4348411\ttotal: 270ms\tremaining: 1.95s\n",
      "122:\tlearn: 0.4339453\ttotal: 271ms\tremaining: 1.93s\n",
      "123:\tlearn: 0.4328034\ttotal: 272ms\tremaining: 1.92s\n",
      "124:\tlearn: 0.4319283\ttotal: 273ms\tremaining: 1.91s\n",
      "125:\tlearn: 0.4312557\ttotal: 274ms\tremaining: 1.9s\n",
      "126:\tlearn: 0.4304026\ttotal: 275ms\tremaining: 1.89s\n",
      "127:\tlearn: 0.4298280\ttotal: 276ms\tremaining: 1.88s\n",
      "128:\tlearn: 0.4289908\ttotal: 277ms\tremaining: 1.87s\n",
      "129:\tlearn: 0.4281060\ttotal: 278ms\tremaining: 1.86s\n",
      "130:\tlearn: 0.4274906\ttotal: 279ms\tremaining: 1.85s\n",
      "131:\tlearn: 0.4263412\ttotal: 279ms\tremaining: 1.84s\n",
      "132:\tlearn: 0.4253331\ttotal: 280ms\tremaining: 1.83s\n",
      "133:\tlearn: 0.4243619\ttotal: 281ms\tremaining: 1.82s\n",
      "134:\tlearn: 0.4236335\ttotal: 282ms\tremaining: 1.81s\n",
      "135:\tlearn: 0.4228861\ttotal: 283ms\tremaining: 1.8s\n",
      "136:\tlearn: 0.4221383\ttotal: 284ms\tremaining: 1.79s\n",
      "137:\tlearn: 0.4212787\ttotal: 285ms\tremaining: 1.78s\n",
      "138:\tlearn: 0.4205727\ttotal: 286ms\tremaining: 1.77s\n",
      "139:\tlearn: 0.4198398\ttotal: 286ms\tremaining: 1.76s\n",
      "140:\tlearn: 0.4190528\ttotal: 287ms\tremaining: 1.75s\n",
      "141:\tlearn: 0.4181762\ttotal: 288ms\tremaining: 1.74s\n",
      "142:\tlearn: 0.4177653\ttotal: 289ms\tremaining: 1.73s\n",
      "143:\tlearn: 0.4171131\ttotal: 290ms\tremaining: 1.72s\n",
      "144:\tlearn: 0.4165639\ttotal: 291ms\tremaining: 1.72s\n",
      "145:\tlearn: 0.4156471\ttotal: 292ms\tremaining: 1.71s\n",
      "146:\tlearn: 0.4153234\ttotal: 293ms\tremaining: 1.7s\n",
      "147:\tlearn: 0.4145420\ttotal: 294ms\tremaining: 1.69s\n",
      "148:\tlearn: 0.4139180\ttotal: 294ms\tremaining: 1.68s\n",
      "149:\tlearn: 0.4128167\ttotal: 295ms\tremaining: 1.67s\n",
      "150:\tlearn: 0.4120071\ttotal: 296ms\tremaining: 1.67s\n",
      "151:\tlearn: 0.4115050\ttotal: 297ms\tremaining: 1.66s\n",
      "152:\tlearn: 0.4103879\ttotal: 298ms\tremaining: 1.65s\n",
      "153:\tlearn: 0.4096975\ttotal: 299ms\tremaining: 1.64s\n",
      "154:\tlearn: 0.4090180\ttotal: 300ms\tremaining: 1.63s\n",
      "155:\tlearn: 0.4084361\ttotal: 301ms\tremaining: 1.63s\n",
      "156:\tlearn: 0.4075079\ttotal: 301ms\tremaining: 1.62s\n",
      "157:\tlearn: 0.4070229\ttotal: 302ms\tremaining: 1.61s\n",
      "158:\tlearn: 0.4060864\ttotal: 303ms\tremaining: 1.6s\n",
      "159:\tlearn: 0.4055216\ttotal: 304ms\tremaining: 1.6s\n",
      "160:\tlearn: 0.4049737\ttotal: 305ms\tremaining: 1.59s\n",
      "161:\tlearn: 0.4043031\ttotal: 306ms\tremaining: 1.58s\n",
      "162:\tlearn: 0.4037889\ttotal: 307ms\tremaining: 1.58s\n",
      "163:\tlearn: 0.4029969\ttotal: 308ms\tremaining: 1.57s\n",
      "164:\tlearn: 0.4019218\ttotal: 309ms\tremaining: 1.56s\n",
      "165:\tlearn: 0.4013294\ttotal: 310ms\tremaining: 1.55s\n",
      "166:\tlearn: 0.4007642\ttotal: 311ms\tremaining: 1.55s\n",
      "167:\tlearn: 0.4000706\ttotal: 311ms\tremaining: 1.54s\n",
      "168:\tlearn: 0.3996680\ttotal: 312ms\tremaining: 1.53s\n",
      "169:\tlearn: 0.3989467\ttotal: 313ms\tremaining: 1.53s\n",
      "170:\tlearn: 0.3983710\ttotal: 314ms\tremaining: 1.52s\n",
      "171:\tlearn: 0.3975278\ttotal: 315ms\tremaining: 1.51s\n",
      "172:\tlearn: 0.3969084\ttotal: 316ms\tremaining: 1.51s\n",
      "173:\tlearn: 0.3965347\ttotal: 317ms\tremaining: 1.5s\n",
      "174:\tlearn: 0.3956732\ttotal: 318ms\tremaining: 1.5s\n",
      "175:\tlearn: 0.3952873\ttotal: 319ms\tremaining: 1.49s\n",
      "176:\tlearn: 0.3945194\ttotal: 320ms\tremaining: 1.49s\n",
      "177:\tlearn: 0.3937662\ttotal: 321ms\tremaining: 1.48s\n",
      "178:\tlearn: 0.3930186\ttotal: 322ms\tremaining: 1.48s\n",
      "179:\tlearn: 0.3923731\ttotal: 322ms\tremaining: 1.47s\n",
      "180:\tlearn: 0.3918567\ttotal: 323ms\tremaining: 1.46s\n",
      "181:\tlearn: 0.3910109\ttotal: 324ms\tremaining: 1.46s\n",
      "182:\tlearn: 0.3904347\ttotal: 325ms\tremaining: 1.45s\n",
      "183:\tlearn: 0.3898631\ttotal: 326ms\tremaining: 1.45s\n",
      "184:\tlearn: 0.3889877\ttotal: 327ms\tremaining: 1.44s\n",
      "185:\tlearn: 0.3883860\ttotal: 328ms\tremaining: 1.43s\n",
      "186:\tlearn: 0.3876585\ttotal: 329ms\tremaining: 1.43s\n",
      "187:\tlearn: 0.3871096\ttotal: 330ms\tremaining: 1.42s\n",
      "188:\tlearn: 0.3866930\ttotal: 330ms\tremaining: 1.42s\n",
      "189:\tlearn: 0.3860056\ttotal: 331ms\tremaining: 1.41s\n",
      "190:\tlearn: 0.3854310\ttotal: 332ms\tremaining: 1.41s\n",
      "191:\tlearn: 0.3848506\ttotal: 333ms\tremaining: 1.4s\n",
      "192:\tlearn: 0.3842016\ttotal: 334ms\tremaining: 1.4s\n",
      "193:\tlearn: 0.3836819\ttotal: 335ms\tremaining: 1.39s\n",
      "194:\tlearn: 0.3830974\ttotal: 336ms\tremaining: 1.39s\n",
      "195:\tlearn: 0.3827259\ttotal: 337ms\tremaining: 1.38s\n",
      "196:\tlearn: 0.3822292\ttotal: 338ms\tremaining: 1.38s\n",
      "197:\tlearn: 0.3818127\ttotal: 339ms\tremaining: 1.37s\n",
      "198:\tlearn: 0.3813381\ttotal: 340ms\tremaining: 1.37s\n",
      "199:\tlearn: 0.3808627\ttotal: 340ms\tremaining: 1.36s\n",
      "200:\tlearn: 0.3802744\ttotal: 341ms\tremaining: 1.36s\n",
      "201:\tlearn: 0.3797151\ttotal: 342ms\tremaining: 1.35s\n",
      "202:\tlearn: 0.3792543\ttotal: 343ms\tremaining: 1.35s\n",
      "203:\tlearn: 0.3787526\ttotal: 344ms\tremaining: 1.34s\n",
      "204:\tlearn: 0.3783154\ttotal: 345ms\tremaining: 1.34s\n",
      "205:\tlearn: 0.3778142\ttotal: 346ms\tremaining: 1.33s\n",
      "206:\tlearn: 0.3770761\ttotal: 347ms\tremaining: 1.33s\n",
      "207:\tlearn: 0.3766516\ttotal: 348ms\tremaining: 1.32s\n",
      "208:\tlearn: 0.3760002\ttotal: 349ms\tremaining: 1.32s\n",
      "209:\tlearn: 0.3753742\ttotal: 350ms\tremaining: 1.32s\n",
      "210:\tlearn: 0.3748945\ttotal: 351ms\tremaining: 1.31s\n",
      "211:\tlearn: 0.3741601\ttotal: 352ms\tremaining: 1.31s\n",
      "212:\tlearn: 0.3737583\ttotal: 353ms\tremaining: 1.3s\n",
      "213:\tlearn: 0.3731306\ttotal: 354ms\tremaining: 1.3s\n",
      "214:\tlearn: 0.3725594\ttotal: 355ms\tremaining: 1.29s\n",
      "215:\tlearn: 0.3717840\ttotal: 356ms\tremaining: 1.29s\n",
      "216:\tlearn: 0.3712366\ttotal: 357ms\tremaining: 1.29s\n",
      "217:\tlearn: 0.3706128\ttotal: 358ms\tremaining: 1.28s\n",
      "218:\tlearn: 0.3701763\ttotal: 358ms\tremaining: 1.28s\n",
      "219:\tlearn: 0.3696732\ttotal: 359ms\tremaining: 1.27s\n",
      "220:\tlearn: 0.3694511\ttotal: 360ms\tremaining: 1.27s\n",
      "221:\tlearn: 0.3691241\ttotal: 361ms\tremaining: 1.27s\n",
      "222:\tlearn: 0.3685841\ttotal: 362ms\tremaining: 1.26s\n",
      "223:\tlearn: 0.3680235\ttotal: 363ms\tremaining: 1.26s\n",
      "224:\tlearn: 0.3674146\ttotal: 364ms\tremaining: 1.25s\n",
      "225:\tlearn: 0.3669959\ttotal: 365ms\tremaining: 1.25s\n",
      "226:\tlearn: 0.3664598\ttotal: 366ms\tremaining: 1.25s\n",
      "227:\tlearn: 0.3660285\ttotal: 367ms\tremaining: 1.24s\n",
      "228:\tlearn: 0.3656118\ttotal: 368ms\tremaining: 1.24s\n",
      "229:\tlearn: 0.3653013\ttotal: 369ms\tremaining: 1.23s\n",
      "230:\tlearn: 0.3648384\ttotal: 370ms\tremaining: 1.23s\n",
      "231:\tlearn: 0.3645751\ttotal: 370ms\tremaining: 1.23s\n",
      "232:\tlearn: 0.3642266\ttotal: 371ms\tremaining: 1.22s\n",
      "233:\tlearn: 0.3638032\ttotal: 372ms\tremaining: 1.22s\n",
      "234:\tlearn: 0.3634127\ttotal: 373ms\tremaining: 1.21s\n",
      "235:\tlearn: 0.3628147\ttotal: 374ms\tremaining: 1.21s\n",
      "236:\tlearn: 0.3624876\ttotal: 375ms\tremaining: 1.21s\n",
      "237:\tlearn: 0.3621678\ttotal: 376ms\tremaining: 1.2s\n",
      "238:\tlearn: 0.3617236\ttotal: 377ms\tremaining: 1.2s\n",
      "239:\tlearn: 0.3613139\ttotal: 377ms\tremaining: 1.2s\n",
      "240:\tlearn: 0.3608153\ttotal: 378ms\tremaining: 1.19s\n",
      "241:\tlearn: 0.3605083\ttotal: 379ms\tremaining: 1.19s\n",
      "242:\tlearn: 0.3600805\ttotal: 380ms\tremaining: 1.18s\n",
      "243:\tlearn: 0.3598540\ttotal: 381ms\tremaining: 1.18s\n",
      "244:\tlearn: 0.3594826\ttotal: 382ms\tremaining: 1.18s\n",
      "245:\tlearn: 0.3589942\ttotal: 383ms\tremaining: 1.17s\n",
      "246:\tlearn: 0.3580868\ttotal: 384ms\tremaining: 1.17s\n",
      "247:\tlearn: 0.3577168\ttotal: 385ms\tremaining: 1.17s\n",
      "248:\tlearn: 0.3572695\ttotal: 386ms\tremaining: 1.16s\n",
      "249:\tlearn: 0.3569883\ttotal: 387ms\tremaining: 1.16s\n",
      "250:\tlearn: 0.3564914\ttotal: 388ms\tremaining: 1.16s\n",
      "251:\tlearn: 0.3563154\ttotal: 389ms\tremaining: 1.15s\n",
      "252:\tlearn: 0.3559500\ttotal: 390ms\tremaining: 1.15s\n",
      "253:\tlearn: 0.3556725\ttotal: 391ms\tremaining: 1.15s\n",
      "254:\tlearn: 0.3554429\ttotal: 392ms\tremaining: 1.14s\n",
      "255:\tlearn: 0.3550410\ttotal: 393ms\tremaining: 1.14s\n",
      "256:\tlearn: 0.3544784\ttotal: 394ms\tremaining: 1.14s\n",
      "257:\tlearn: 0.3541264\ttotal: 395ms\tremaining: 1.14s\n",
      "258:\tlearn: 0.3534407\ttotal: 396ms\tremaining: 1.13s\n",
      "259:\tlearn: 0.3531235\ttotal: 397ms\tremaining: 1.13s\n",
      "260:\tlearn: 0.3527207\ttotal: 398ms\tremaining: 1.13s\n",
      "261:\tlearn: 0.3523243\ttotal: 399ms\tremaining: 1.12s\n",
      "262:\tlearn: 0.3520765\ttotal: 401ms\tremaining: 1.12s\n",
      "263:\tlearn: 0.3515223\ttotal: 402ms\tremaining: 1.12s\n",
      "264:\tlearn: 0.3511085\ttotal: 403ms\tremaining: 1.12s\n",
      "265:\tlearn: 0.3507609\ttotal: 404ms\tremaining: 1.11s\n",
      "266:\tlearn: 0.3505624\ttotal: 405ms\tremaining: 1.11s\n",
      "267:\tlearn: 0.3502285\ttotal: 406ms\tremaining: 1.11s\n",
      "268:\tlearn: 0.3497636\ttotal: 407ms\tremaining: 1.11s\n",
      "269:\tlearn: 0.3493754\ttotal: 408ms\tremaining: 1.1s\n",
      "270:\tlearn: 0.3490792\ttotal: 409ms\tremaining: 1.1s\n",
      "271:\tlearn: 0.3487020\ttotal: 410ms\tremaining: 1.1s\n",
      "272:\tlearn: 0.3483143\ttotal: 411ms\tremaining: 1.09s\n",
      "273:\tlearn: 0.3478934\ttotal: 412ms\tremaining: 1.09s\n",
      "274:\tlearn: 0.3475017\ttotal: 413ms\tremaining: 1.09s\n",
      "275:\tlearn: 0.3471957\ttotal: 414ms\tremaining: 1.09s\n",
      "276:\tlearn: 0.3468656\ttotal: 415ms\tremaining: 1.08s\n",
      "277:\tlearn: 0.3464868\ttotal: 416ms\tremaining: 1.08s\n",
      "278:\tlearn: 0.3462092\ttotal: 417ms\tremaining: 1.08s\n",
      "279:\tlearn: 0.3460606\ttotal: 417ms\tremaining: 1.07s\n",
      "280:\tlearn: 0.3455830\ttotal: 418ms\tremaining: 1.07s\n",
      "281:\tlearn: 0.3453044\ttotal: 419ms\tremaining: 1.07s\n",
      "282:\tlearn: 0.3444292\ttotal: 420ms\tremaining: 1.06s\n",
      "283:\tlearn: 0.3440907\ttotal: 421ms\tremaining: 1.06s\n",
      "284:\tlearn: 0.3435897\ttotal: 422ms\tremaining: 1.06s\n",
      "285:\tlearn: 0.3432924\ttotal: 423ms\tremaining: 1.06s\n",
      "286:\tlearn: 0.3429693\ttotal: 424ms\tremaining: 1.05s\n",
      "287:\tlearn: 0.3423841\ttotal: 425ms\tremaining: 1.05s\n",
      "288:\tlearn: 0.3419082\ttotal: 426ms\tremaining: 1.05s\n",
      "289:\tlearn: 0.3417444\ttotal: 427ms\tremaining: 1.04s\n",
      "290:\tlearn: 0.3413183\ttotal: 427ms\tremaining: 1.04s\n",
      "291:\tlearn: 0.3410967\ttotal: 428ms\tremaining: 1.04s\n",
      "292:\tlearn: 0.3405444\ttotal: 429ms\tremaining: 1.03s\n",
      "293:\tlearn: 0.3400621\ttotal: 430ms\tremaining: 1.03s\n",
      "294:\tlearn: 0.3397168\ttotal: 431ms\tremaining: 1.03s\n",
      "295:\tlearn: 0.3393361\ttotal: 432ms\tremaining: 1.03s\n",
      "296:\tlearn: 0.3390740\ttotal: 433ms\tremaining: 1.02s\n",
      "297:\tlearn: 0.3385868\ttotal: 434ms\tremaining: 1.02s\n",
      "298:\tlearn: 0.3383527\ttotal: 435ms\tremaining: 1.02s\n",
      "299:\tlearn: 0.3381225\ttotal: 436ms\tremaining: 1.02s\n",
      "300:\tlearn: 0.3377180\ttotal: 437ms\tremaining: 1.01s\n",
      "301:\tlearn: 0.3373683\ttotal: 438ms\tremaining: 1.01s\n",
      "302:\tlearn: 0.3369712\ttotal: 440ms\tremaining: 1.01s\n",
      "303:\tlearn: 0.3365943\ttotal: 440ms\tremaining: 1.01s\n",
      "304:\tlearn: 0.3361416\ttotal: 441ms\tremaining: 1s\n",
      "305:\tlearn: 0.3357881\ttotal: 442ms\tremaining: 1s\n",
      "306:\tlearn: 0.3355420\ttotal: 443ms\tremaining: 1s\n",
      "307:\tlearn: 0.3353969\ttotal: 444ms\tremaining: 998ms\n",
      "308:\tlearn: 0.3350159\ttotal: 445ms\tremaining: 995ms\n",
      "309:\tlearn: 0.3347592\ttotal: 446ms\tremaining: 993ms\n",
      "310:\tlearn: 0.3344209\ttotal: 447ms\tremaining: 990ms\n",
      "311:\tlearn: 0.3340571\ttotal: 448ms\tremaining: 987ms\n",
      "312:\tlearn: 0.3337410\ttotal: 449ms\tremaining: 985ms\n",
      "313:\tlearn: 0.3335433\ttotal: 450ms\tremaining: 982ms\n",
      "314:\tlearn: 0.3331226\ttotal: 450ms\tremaining: 980ms\n",
      "315:\tlearn: 0.3326529\ttotal: 452ms\tremaining: 977ms\n",
      "316:\tlearn: 0.3324585\ttotal: 453ms\tremaining: 975ms\n",
      "317:\tlearn: 0.3319313\ttotal: 454ms\tremaining: 973ms\n",
      "318:\tlearn: 0.3317666\ttotal: 455ms\tremaining: 971ms\n",
      "319:\tlearn: 0.3316420\ttotal: 456ms\tremaining: 969ms\n",
      "320:\tlearn: 0.3313743\ttotal: 457ms\tremaining: 967ms\n",
      "321:\tlearn: 0.3311034\ttotal: 458ms\tremaining: 964ms\n",
      "322:\tlearn: 0.3308718\ttotal: 459ms\tremaining: 962ms\n",
      "323:\tlearn: 0.3305797\ttotal: 460ms\tremaining: 959ms\n",
      "324:\tlearn: 0.3303344\ttotal: 461ms\tremaining: 957ms\n",
      "325:\tlearn: 0.3299356\ttotal: 462ms\tremaining: 955ms\n",
      "326:\tlearn: 0.3297079\ttotal: 463ms\tremaining: 952ms\n",
      "327:\tlearn: 0.3293339\ttotal: 463ms\tremaining: 950ms\n",
      "328:\tlearn: 0.3289580\ttotal: 464ms\tremaining: 947ms\n",
      "329:\tlearn: 0.3285913\ttotal: 465ms\tremaining: 945ms\n",
      "330:\tlearn: 0.3282758\ttotal: 466ms\tremaining: 943ms\n",
      "331:\tlearn: 0.3279623\ttotal: 467ms\tremaining: 940ms\n",
      "332:\tlearn: 0.3274888\ttotal: 468ms\tremaining: 938ms\n",
      "333:\tlearn: 0.3271103\ttotal: 469ms\tremaining: 935ms\n",
      "334:\tlearn: 0.3266782\ttotal: 470ms\tremaining: 933ms\n",
      "335:\tlearn: 0.3263302\ttotal: 471ms\tremaining: 931ms\n",
      "336:\tlearn: 0.3260965\ttotal: 472ms\tremaining: 930ms\n",
      "337:\tlearn: 0.3259158\ttotal: 473ms\tremaining: 927ms\n",
      "338:\tlearn: 0.3258232\ttotal: 474ms\tremaining: 925ms\n",
      "339:\tlearn: 0.3256590\ttotal: 475ms\tremaining: 922ms\n",
      "340:\tlearn: 0.3251070\ttotal: 476ms\tremaining: 920ms\n",
      "341:\tlearn: 0.3248128\ttotal: 477ms\tremaining: 918ms\n",
      "342:\tlearn: 0.3245641\ttotal: 478ms\tremaining: 915ms\n",
      "343:\tlearn: 0.3244393\ttotal: 479ms\tremaining: 913ms\n",
      "344:\tlearn: 0.3239917\ttotal: 480ms\tremaining: 911ms\n",
      "345:\tlearn: 0.3236587\ttotal: 481ms\tremaining: 909ms\n",
      "346:\tlearn: 0.3232919\ttotal: 482ms\tremaining: 906ms\n",
      "347:\tlearn: 0.3229349\ttotal: 483ms\tremaining: 904ms\n",
      "348:\tlearn: 0.3227158\ttotal: 483ms\tremaining: 902ms\n",
      "349:\tlearn: 0.3222736\ttotal: 484ms\tremaining: 900ms\n",
      "350:\tlearn: 0.3219319\ttotal: 485ms\tremaining: 897ms\n",
      "351:\tlearn: 0.3216924\ttotal: 486ms\tremaining: 895ms\n",
      "352:\tlearn: 0.3214005\ttotal: 487ms\tremaining: 893ms\n",
      "353:\tlearn: 0.3212561\ttotal: 488ms\tremaining: 890ms\n",
      "354:\tlearn: 0.3210802\ttotal: 489ms\tremaining: 888ms\n",
      "355:\tlearn: 0.3208611\ttotal: 490ms\tremaining: 886ms\n",
      "356:\tlearn: 0.3207409\ttotal: 491ms\tremaining: 884ms\n",
      "357:\tlearn: 0.3204410\ttotal: 491ms\tremaining: 881ms\n",
      "358:\tlearn: 0.3201386\ttotal: 492ms\tremaining: 879ms\n",
      "359:\tlearn: 0.3199546\ttotal: 493ms\tremaining: 877ms\n",
      "360:\tlearn: 0.3196740\ttotal: 494ms\tremaining: 875ms\n",
      "361:\tlearn: 0.3193086\ttotal: 495ms\tremaining: 873ms\n",
      "362:\tlearn: 0.3190555\ttotal: 496ms\tremaining: 871ms\n",
      "363:\tlearn: 0.3186316\ttotal: 497ms\tremaining: 869ms\n",
      "364:\tlearn: 0.3182750\ttotal: 498ms\tremaining: 867ms\n",
      "365:\tlearn: 0.3179150\ttotal: 499ms\tremaining: 864ms\n",
      "366:\tlearn: 0.3176213\ttotal: 500ms\tremaining: 862ms\n",
      "367:\tlearn: 0.3174330\ttotal: 501ms\tremaining: 860ms\n",
      "368:\tlearn: 0.3170058\ttotal: 502ms\tremaining: 858ms\n",
      "369:\tlearn: 0.3167177\ttotal: 503ms\tremaining: 856ms\n",
      "370:\tlearn: 0.3165966\ttotal: 504ms\tremaining: 854ms\n",
      "371:\tlearn: 0.3163434\ttotal: 505ms\tremaining: 852ms\n",
      "372:\tlearn: 0.3158102\ttotal: 505ms\tremaining: 850ms\n",
      "373:\tlearn: 0.3156989\ttotal: 506ms\tremaining: 847ms\n",
      "374:\tlearn: 0.3153516\ttotal: 507ms\tremaining: 845ms\n",
      "375:\tlearn: 0.3151365\ttotal: 508ms\tremaining: 843ms\n",
      "376:\tlearn: 0.3148602\ttotal: 509ms\tremaining: 842ms\n",
      "377:\tlearn: 0.3146425\ttotal: 510ms\tremaining: 840ms\n",
      "378:\tlearn: 0.3140533\ttotal: 511ms\tremaining: 838ms\n",
      "379:\tlearn: 0.3138100\ttotal: 512ms\tremaining: 835ms\n",
      "380:\tlearn: 0.3134537\ttotal: 513ms\tremaining: 833ms\n",
      "381:\tlearn: 0.3131326\ttotal: 514ms\tremaining: 831ms\n",
      "382:\tlearn: 0.3127691\ttotal: 515ms\tremaining: 829ms\n",
      "383:\tlearn: 0.3123777\ttotal: 516ms\tremaining: 827ms\n",
      "384:\tlearn: 0.3120189\ttotal: 516ms\tremaining: 825ms\n",
      "385:\tlearn: 0.3117879\ttotal: 517ms\tremaining: 823ms\n",
      "386:\tlearn: 0.3117281\ttotal: 518ms\tremaining: 821ms\n",
      "387:\tlearn: 0.3114269\ttotal: 519ms\tremaining: 818ms\n",
      "388:\tlearn: 0.3111523\ttotal: 520ms\tremaining: 816ms\n",
      "389:\tlearn: 0.3107485\ttotal: 521ms\tremaining: 814ms\n",
      "390:\tlearn: 0.3104823\ttotal: 521ms\tremaining: 812ms\n",
      "391:\tlearn: 0.3102043\ttotal: 522ms\tremaining: 810ms\n",
      "392:\tlearn: 0.3100756\ttotal: 523ms\tremaining: 808ms\n",
      "393:\tlearn: 0.3096455\ttotal: 524ms\tremaining: 806ms\n",
      "394:\tlearn: 0.3094293\ttotal: 525ms\tremaining: 804ms\n",
      "395:\tlearn: 0.3091670\ttotal: 526ms\tremaining: 802ms\n",
      "396:\tlearn: 0.3089720\ttotal: 527ms\tremaining: 800ms\n",
      "397:\tlearn: 0.3087352\ttotal: 528ms\tremaining: 798ms\n",
      "398:\tlearn: 0.3083025\ttotal: 529ms\tremaining: 797ms\n",
      "399:\tlearn: 0.3080730\ttotal: 530ms\tremaining: 795ms\n",
      "400:\tlearn: 0.3075862\ttotal: 531ms\tremaining: 793ms\n",
      "401:\tlearn: 0.3072950\ttotal: 532ms\tremaining: 791ms\n",
      "402:\tlearn: 0.3069260\ttotal: 533ms\tremaining: 789ms\n",
      "403:\tlearn: 0.3066624\ttotal: 534ms\tremaining: 787ms\n",
      "404:\tlearn: 0.3064005\ttotal: 535ms\tremaining: 785ms\n",
      "405:\tlearn: 0.3062175\ttotal: 535ms\tremaining: 783ms\n",
      "406:\tlearn: 0.3059133\ttotal: 536ms\tremaining: 781ms\n",
      "407:\tlearn: 0.3056401\ttotal: 537ms\tremaining: 779ms\n",
      "408:\tlearn: 0.3053706\ttotal: 538ms\tremaining: 777ms\n",
      "409:\tlearn: 0.3051702\ttotal: 539ms\tremaining: 776ms\n",
      "410:\tlearn: 0.3047998\ttotal: 540ms\tremaining: 774ms\n",
      "411:\tlearn: 0.3044851\ttotal: 541ms\tremaining: 772ms\n",
      "412:\tlearn: 0.3041596\ttotal: 542ms\tremaining: 770ms\n",
      "413:\tlearn: 0.3039484\ttotal: 543ms\tremaining: 768ms\n",
      "414:\tlearn: 0.3035868\ttotal: 544ms\tremaining: 767ms\n",
      "415:\tlearn: 0.3034963\ttotal: 545ms\tremaining: 765ms\n",
      "416:\tlearn: 0.3032978\ttotal: 546ms\tremaining: 763ms\n",
      "417:\tlearn: 0.3029297\ttotal: 546ms\tremaining: 761ms\n",
      "418:\tlearn: 0.3026614\ttotal: 547ms\tremaining: 759ms\n",
      "419:\tlearn: 0.3025338\ttotal: 548ms\tremaining: 757ms\n",
      "420:\tlearn: 0.3023329\ttotal: 549ms\tremaining: 755ms\n",
      "421:\tlearn: 0.3020878\ttotal: 550ms\tremaining: 753ms\n",
      "422:\tlearn: 0.3018350\ttotal: 551ms\tremaining: 752ms\n",
      "423:\tlearn: 0.3016547\ttotal: 552ms\tremaining: 750ms\n",
      "424:\tlearn: 0.3013340\ttotal: 553ms\tremaining: 748ms\n",
      "425:\tlearn: 0.3012067\ttotal: 554ms\tremaining: 746ms\n",
      "426:\tlearn: 0.3010644\ttotal: 555ms\tremaining: 745ms\n",
      "427:\tlearn: 0.3008560\ttotal: 556ms\tremaining: 743ms\n",
      "428:\tlearn: 0.3007435\ttotal: 557ms\tremaining: 741ms\n",
      "429:\tlearn: 0.3005282\ttotal: 558ms\tremaining: 740ms\n",
      "430:\tlearn: 0.3002332\ttotal: 559ms\tremaining: 738ms\n",
      "431:\tlearn: 0.2999973\ttotal: 560ms\tremaining: 736ms\n",
      "432:\tlearn: 0.2998342\ttotal: 561ms\tremaining: 734ms\n",
      "433:\tlearn: 0.2995772\ttotal: 562ms\tremaining: 733ms\n",
      "434:\tlearn: 0.2994191\ttotal: 563ms\tremaining: 731ms\n",
      "435:\tlearn: 0.2992121\ttotal: 563ms\tremaining: 729ms\n",
      "436:\tlearn: 0.2990371\ttotal: 564ms\tremaining: 727ms\n",
      "437:\tlearn: 0.2988313\ttotal: 565ms\tremaining: 725ms\n",
      "438:\tlearn: 0.2986686\ttotal: 566ms\tremaining: 723ms\n",
      "439:\tlearn: 0.2985372\ttotal: 567ms\tremaining: 722ms\n",
      "440:\tlearn: 0.2982802\ttotal: 568ms\tremaining: 720ms\n",
      "441:\tlearn: 0.2978098\ttotal: 569ms\tremaining: 718ms\n",
      "442:\tlearn: 0.2975569\ttotal: 570ms\tremaining: 717ms\n",
      "443:\tlearn: 0.2974696\ttotal: 571ms\tremaining: 715ms\n",
      "444:\tlearn: 0.2971000\ttotal: 572ms\tremaining: 714ms\n",
      "445:\tlearn: 0.2968185\ttotal: 573ms\tremaining: 712ms\n",
      "446:\tlearn: 0.2965820\ttotal: 574ms\tremaining: 710ms\n",
      "447:\tlearn: 0.2963367\ttotal: 575ms\tremaining: 709ms\n",
      "448:\tlearn: 0.2962052\ttotal: 576ms\tremaining: 707ms\n",
      "449:\tlearn: 0.2958710\ttotal: 577ms\tremaining: 705ms\n",
      "450:\tlearn: 0.2957278\ttotal: 578ms\tremaining: 704ms\n",
      "451:\tlearn: 0.2954078\ttotal: 579ms\tremaining: 702ms\n",
      "452:\tlearn: 0.2950464\ttotal: 580ms\tremaining: 700ms\n",
      "453:\tlearn: 0.2943738\ttotal: 581ms\tremaining: 698ms\n",
      "454:\tlearn: 0.2940240\ttotal: 582ms\tremaining: 697ms\n",
      "455:\tlearn: 0.2937387\ttotal: 583ms\tremaining: 695ms\n",
      "456:\tlearn: 0.2932645\ttotal: 584ms\tremaining: 694ms\n",
      "457:\tlearn: 0.2930212\ttotal: 586ms\tremaining: 693ms\n",
      "458:\tlearn: 0.2927047\ttotal: 587ms\tremaining: 692ms\n",
      "459:\tlearn: 0.2925782\ttotal: 588ms\tremaining: 691ms\n",
      "460:\tlearn: 0.2923455\ttotal: 589ms\tremaining: 689ms\n",
      "461:\tlearn: 0.2921114\ttotal: 590ms\tremaining: 687ms\n",
      "462:\tlearn: 0.2918372\ttotal: 591ms\tremaining: 686ms\n",
      "463:\tlearn: 0.2916646\ttotal: 593ms\tremaining: 685ms\n",
      "464:\tlearn: 0.2914858\ttotal: 594ms\tremaining: 683ms\n",
      "465:\tlearn: 0.2913746\ttotal: 595ms\tremaining: 682ms\n",
      "466:\tlearn: 0.2911112\ttotal: 596ms\tremaining: 680ms\n",
      "467:\tlearn: 0.2909419\ttotal: 597ms\tremaining: 678ms\n",
      "468:\tlearn: 0.2907768\ttotal: 598ms\tremaining: 677ms\n",
      "469:\tlearn: 0.2905672\ttotal: 599ms\tremaining: 675ms\n",
      "470:\tlearn: 0.2902868\ttotal: 600ms\tremaining: 674ms\n",
      "471:\tlearn: 0.2901459\ttotal: 601ms\tremaining: 672ms\n",
      "472:\tlearn: 0.2895721\ttotal: 602ms\tremaining: 671ms\n",
      "473:\tlearn: 0.2893069\ttotal: 604ms\tremaining: 670ms\n",
      "474:\tlearn: 0.2892238\ttotal: 605ms\tremaining: 668ms\n",
      "475:\tlearn: 0.2890793\ttotal: 606ms\tremaining: 667ms\n",
      "476:\tlearn: 0.2888606\ttotal: 607ms\tremaining: 665ms\n",
      "477:\tlearn: 0.2885725\ttotal: 608ms\tremaining: 664ms\n",
      "478:\tlearn: 0.2884059\ttotal: 609ms\tremaining: 662ms\n",
      "479:\tlearn: 0.2881226\ttotal: 610ms\tremaining: 661ms\n",
      "480:\tlearn: 0.2878577\ttotal: 611ms\tremaining: 659ms\n",
      "481:\tlearn: 0.2876443\ttotal: 614ms\tremaining: 659ms\n",
      "482:\tlearn: 0.2872679\ttotal: 615ms\tremaining: 658ms\n",
      "483:\tlearn: 0.2869225\ttotal: 616ms\tremaining: 657ms\n",
      "484:\tlearn: 0.2867176\ttotal: 617ms\tremaining: 655ms\n",
      "485:\tlearn: 0.2863829\ttotal: 618ms\tremaining: 654ms\n",
      "486:\tlearn: 0.2862343\ttotal: 619ms\tremaining: 652ms\n",
      "487:\tlearn: 0.2860281\ttotal: 620ms\tremaining: 650ms\n",
      "488:\tlearn: 0.2858158\ttotal: 621ms\tremaining: 649ms\n",
      "489:\tlearn: 0.2857030\ttotal: 622ms\tremaining: 647ms\n",
      "490:\tlearn: 0.2853467\ttotal: 623ms\tremaining: 646ms\n",
      "491:\tlearn: 0.2852238\ttotal: 624ms\tremaining: 644ms\n",
      "492:\tlearn: 0.2848703\ttotal: 625ms\tremaining: 642ms\n",
      "493:\tlearn: 0.2847930\ttotal: 625ms\tremaining: 641ms\n",
      "494:\tlearn: 0.2844460\ttotal: 626ms\tremaining: 639ms\n",
      "495:\tlearn: 0.2842826\ttotal: 627ms\tremaining: 637ms\n",
      "496:\tlearn: 0.2840736\ttotal: 628ms\tremaining: 636ms\n",
      "497:\tlearn: 0.2838086\ttotal: 629ms\tremaining: 634ms\n",
      "498:\tlearn: 0.2836780\ttotal: 630ms\tremaining: 632ms\n",
      "499:\tlearn: 0.2835099\ttotal: 631ms\tremaining: 631ms\n",
      "500:\tlearn: 0.2833241\ttotal: 632ms\tremaining: 629ms\n",
      "501:\tlearn: 0.2831782\ttotal: 633ms\tremaining: 628ms\n",
      "502:\tlearn: 0.2829458\ttotal: 634ms\tremaining: 626ms\n",
      "503:\tlearn: 0.2824786\ttotal: 634ms\tremaining: 624ms\n",
      "504:\tlearn: 0.2823866\ttotal: 635ms\tremaining: 623ms\n",
      "505:\tlearn: 0.2821895\ttotal: 636ms\tremaining: 621ms\n",
      "506:\tlearn: 0.2817553\ttotal: 637ms\tremaining: 620ms\n",
      "507:\tlearn: 0.2815476\ttotal: 638ms\tremaining: 618ms\n",
      "508:\tlearn: 0.2813923\ttotal: 639ms\tremaining: 616ms\n",
      "509:\tlearn: 0.2812253\ttotal: 640ms\tremaining: 615ms\n",
      "510:\tlearn: 0.2811270\ttotal: 641ms\tremaining: 613ms\n",
      "511:\tlearn: 0.2809442\ttotal: 642ms\tremaining: 611ms\n",
      "512:\tlearn: 0.2806583\ttotal: 643ms\tremaining: 610ms\n",
      "513:\tlearn: 0.2804053\ttotal: 644ms\tremaining: 609ms\n",
      "514:\tlearn: 0.2802933\ttotal: 645ms\tremaining: 607ms\n",
      "515:\tlearn: 0.2802130\ttotal: 646ms\tremaining: 606ms\n",
      "516:\tlearn: 0.2800198\ttotal: 647ms\tremaining: 604ms\n",
      "517:\tlearn: 0.2797297\ttotal: 648ms\tremaining: 603ms\n",
      "518:\tlearn: 0.2792613\ttotal: 649ms\tremaining: 602ms\n",
      "519:\tlearn: 0.2791178\ttotal: 650ms\tremaining: 600ms\n",
      "520:\tlearn: 0.2787684\ttotal: 651ms\tremaining: 599ms\n",
      "521:\tlearn: 0.2785238\ttotal: 652ms\tremaining: 597ms\n",
      "522:\tlearn: 0.2784354\ttotal: 653ms\tremaining: 595ms\n",
      "523:\tlearn: 0.2782083\ttotal: 654ms\tremaining: 594ms\n",
      "524:\tlearn: 0.2779862\ttotal: 654ms\tremaining: 592ms\n",
      "525:\tlearn: 0.2778577\ttotal: 655ms\tremaining: 591ms\n",
      "526:\tlearn: 0.2776799\ttotal: 656ms\tremaining: 589ms\n",
      "527:\tlearn: 0.2774047\ttotal: 657ms\tremaining: 588ms\n",
      "528:\tlearn: 0.2770705\ttotal: 658ms\tremaining: 586ms\n",
      "529:\tlearn: 0.2767879\ttotal: 659ms\tremaining: 585ms\n",
      "530:\tlearn: 0.2765573\ttotal: 661ms\tremaining: 583ms\n",
      "531:\tlearn: 0.2762926\ttotal: 662ms\tremaining: 582ms\n",
      "532:\tlearn: 0.2760226\ttotal: 663ms\tremaining: 581ms\n",
      "533:\tlearn: 0.2759634\ttotal: 664ms\tremaining: 579ms\n",
      "534:\tlearn: 0.2755854\ttotal: 665ms\tremaining: 578ms\n",
      "535:\tlearn: 0.2753839\ttotal: 665ms\tremaining: 576ms\n",
      "536:\tlearn: 0.2748993\ttotal: 666ms\tremaining: 574ms\n",
      "537:\tlearn: 0.2747174\ttotal: 667ms\tremaining: 573ms\n",
      "538:\tlearn: 0.2745669\ttotal: 668ms\tremaining: 571ms\n",
      "539:\tlearn: 0.2742959\ttotal: 669ms\tremaining: 570ms\n",
      "540:\tlearn: 0.2740799\ttotal: 670ms\tremaining: 568ms\n",
      "541:\tlearn: 0.2739597\ttotal: 671ms\tremaining: 567ms\n",
      "542:\tlearn: 0.2737468\ttotal: 672ms\tremaining: 565ms\n",
      "543:\tlearn: 0.2736213\ttotal: 673ms\tremaining: 564ms\n",
      "544:\tlearn: 0.2734265\ttotal: 674ms\tremaining: 562ms\n",
      "545:\tlearn: 0.2731554\ttotal: 675ms\tremaining: 561ms\n",
      "546:\tlearn: 0.2730985\ttotal: 676ms\tremaining: 559ms\n",
      "547:\tlearn: 0.2727592\ttotal: 677ms\tremaining: 558ms\n",
      "548:\tlearn: 0.2725759\ttotal: 678ms\tremaining: 557ms\n",
      "549:\tlearn: 0.2723701\ttotal: 679ms\tremaining: 555ms\n",
      "550:\tlearn: 0.2720963\ttotal: 680ms\tremaining: 554ms\n",
      "551:\tlearn: 0.2717838\ttotal: 681ms\tremaining: 553ms\n",
      "552:\tlearn: 0.2716459\ttotal: 682ms\tremaining: 551ms\n",
      "553:\tlearn: 0.2714241\ttotal: 683ms\tremaining: 550ms\n",
      "554:\tlearn: 0.2710796\ttotal: 683ms\tremaining: 548ms\n",
      "555:\tlearn: 0.2708530\ttotal: 684ms\tremaining: 546ms\n",
      "556:\tlearn: 0.2707057\ttotal: 685ms\tremaining: 545ms\n",
      "557:\tlearn: 0.2702598\ttotal: 686ms\tremaining: 544ms\n",
      "558:\tlearn: 0.2701429\ttotal: 687ms\tremaining: 542ms\n",
      "559:\tlearn: 0.2699466\ttotal: 688ms\tremaining: 541ms\n",
      "560:\tlearn: 0.2697293\ttotal: 689ms\tremaining: 539ms\n",
      "561:\tlearn: 0.2694486\ttotal: 690ms\tremaining: 537ms\n",
      "562:\tlearn: 0.2690466\ttotal: 691ms\tremaining: 536ms\n",
      "563:\tlearn: 0.2689248\ttotal: 692ms\tremaining: 535ms\n",
      "564:\tlearn: 0.2686948\ttotal: 692ms\tremaining: 533ms\n",
      "565:\tlearn: 0.2685619\ttotal: 693ms\tremaining: 532ms\n",
      "566:\tlearn: 0.2683828\ttotal: 694ms\tremaining: 530ms\n",
      "567:\tlearn: 0.2679790\ttotal: 695ms\tremaining: 529ms\n",
      "568:\tlearn: 0.2678450\ttotal: 696ms\tremaining: 527ms\n",
      "569:\tlearn: 0.2676119\ttotal: 697ms\tremaining: 526ms\n",
      "570:\tlearn: 0.2673814\ttotal: 698ms\tremaining: 524ms\n",
      "571:\tlearn: 0.2672294\ttotal: 699ms\tremaining: 523ms\n",
      "572:\tlearn: 0.2669753\ttotal: 700ms\tremaining: 521ms\n",
      "573:\tlearn: 0.2668201\ttotal: 701ms\tremaining: 520ms\n",
      "574:\tlearn: 0.2663744\ttotal: 702ms\tremaining: 519ms\n",
      "575:\tlearn: 0.2663089\ttotal: 702ms\tremaining: 517ms\n",
      "576:\tlearn: 0.2661984\ttotal: 703ms\tremaining: 516ms\n",
      "577:\tlearn: 0.2657423\ttotal: 704ms\tremaining: 514ms\n",
      "578:\tlearn: 0.2655906\ttotal: 705ms\tremaining: 513ms\n",
      "579:\tlearn: 0.2652973\ttotal: 706ms\tremaining: 511ms\n",
      "580:\tlearn: 0.2651702\ttotal: 707ms\tremaining: 510ms\n",
      "581:\tlearn: 0.2649804\ttotal: 708ms\tremaining: 508ms\n",
      "582:\tlearn: 0.2648733\ttotal: 709ms\tremaining: 507ms\n",
      "583:\tlearn: 0.2645161\ttotal: 710ms\tremaining: 505ms\n",
      "584:\tlearn: 0.2643629\ttotal: 710ms\tremaining: 504ms\n",
      "585:\tlearn: 0.2640424\ttotal: 711ms\tremaining: 502ms\n",
      "586:\tlearn: 0.2639059\ttotal: 712ms\tremaining: 501ms\n",
      "587:\tlearn: 0.2635783\ttotal: 713ms\tremaining: 500ms\n",
      "588:\tlearn: 0.2633252\ttotal: 714ms\tremaining: 498ms\n",
      "589:\tlearn: 0.2631536\ttotal: 715ms\tremaining: 497ms\n",
      "590:\tlearn: 0.2629800\ttotal: 716ms\tremaining: 495ms\n",
      "591:\tlearn: 0.2626833\ttotal: 717ms\tremaining: 494ms\n",
      "592:\tlearn: 0.2624857\ttotal: 718ms\tremaining: 493ms\n",
      "593:\tlearn: 0.2622796\ttotal: 719ms\tremaining: 491ms\n",
      "594:\tlearn: 0.2619838\ttotal: 719ms\tremaining: 490ms\n",
      "595:\tlearn: 0.2618002\ttotal: 720ms\tremaining: 488ms\n",
      "596:\tlearn: 0.2615721\ttotal: 721ms\tremaining: 487ms\n",
      "597:\tlearn: 0.2615152\ttotal: 722ms\tremaining: 485ms\n",
      "598:\tlearn: 0.2613501\ttotal: 723ms\tremaining: 484ms\n",
      "599:\tlearn: 0.2611080\ttotal: 724ms\tremaining: 482ms\n",
      "600:\tlearn: 0.2609645\ttotal: 725ms\tremaining: 481ms\n",
      "601:\tlearn: 0.2606897\ttotal: 726ms\tremaining: 480ms\n",
      "602:\tlearn: 0.2602639\ttotal: 727ms\tremaining: 478ms\n",
      "603:\tlearn: 0.2599329\ttotal: 727ms\tremaining: 477ms\n",
      "604:\tlearn: 0.2597957\ttotal: 728ms\tremaining: 475ms\n",
      "605:\tlearn: 0.2595943\ttotal: 729ms\tremaining: 474ms\n",
      "606:\tlearn: 0.2593111\ttotal: 730ms\tremaining: 473ms\n",
      "607:\tlearn: 0.2591161\ttotal: 731ms\tremaining: 471ms\n",
      "608:\tlearn: 0.2588429\ttotal: 732ms\tremaining: 470ms\n",
      "609:\tlearn: 0.2586168\ttotal: 733ms\tremaining: 468ms\n",
      "610:\tlearn: 0.2583814\ttotal: 734ms\tremaining: 467ms\n",
      "611:\tlearn: 0.2582859\ttotal: 734ms\tremaining: 466ms\n",
      "612:\tlearn: 0.2581228\ttotal: 735ms\tremaining: 464ms\n",
      "613:\tlearn: 0.2576821\ttotal: 736ms\tremaining: 463ms\n",
      "614:\tlearn: 0.2573665\ttotal: 737ms\tremaining: 461ms\n",
      "615:\tlearn: 0.2571712\ttotal: 738ms\tremaining: 460ms\n",
      "616:\tlearn: 0.2569123\ttotal: 739ms\tremaining: 459ms\n",
      "617:\tlearn: 0.2567421\ttotal: 740ms\tremaining: 457ms\n",
      "618:\tlearn: 0.2565468\ttotal: 741ms\tremaining: 456ms\n",
      "619:\tlearn: 0.2560903\ttotal: 742ms\tremaining: 455ms\n",
      "620:\tlearn: 0.2558848\ttotal: 743ms\tremaining: 453ms\n",
      "621:\tlearn: 0.2557082\ttotal: 744ms\tremaining: 452ms\n",
      "622:\tlearn: 0.2555673\ttotal: 745ms\tremaining: 451ms\n",
      "623:\tlearn: 0.2553104\ttotal: 746ms\tremaining: 450ms\n",
      "624:\tlearn: 0.2551517\ttotal: 747ms\tremaining: 448ms\n",
      "625:\tlearn: 0.2548730\ttotal: 748ms\tremaining: 447ms\n",
      "626:\tlearn: 0.2547001\ttotal: 749ms\tremaining: 446ms\n",
      "627:\tlearn: 0.2545593\ttotal: 750ms\tremaining: 444ms\n",
      "628:\tlearn: 0.2543065\ttotal: 751ms\tremaining: 443ms\n",
      "629:\tlearn: 0.2541924\ttotal: 752ms\tremaining: 442ms\n",
      "630:\tlearn: 0.2540412\ttotal: 753ms\tremaining: 440ms\n",
      "631:\tlearn: 0.2540272\ttotal: 754ms\tremaining: 439ms\n",
      "632:\tlearn: 0.2538574\ttotal: 755ms\tremaining: 438ms\n",
      "633:\tlearn: 0.2535445\ttotal: 756ms\tremaining: 436ms\n",
      "634:\tlearn: 0.2533613\ttotal: 756ms\tremaining: 435ms\n",
      "635:\tlearn: 0.2532291\ttotal: 757ms\tremaining: 433ms\n",
      "636:\tlearn: 0.2529860\ttotal: 758ms\tremaining: 432ms\n",
      "637:\tlearn: 0.2529107\ttotal: 759ms\tremaining: 431ms\n",
      "638:\tlearn: 0.2528306\ttotal: 760ms\tremaining: 429ms\n",
      "639:\tlearn: 0.2527318\ttotal: 761ms\tremaining: 428ms\n",
      "640:\tlearn: 0.2526089\ttotal: 762ms\tremaining: 427ms\n",
      "641:\tlearn: 0.2523294\ttotal: 763ms\tremaining: 425ms\n",
      "642:\tlearn: 0.2521745\ttotal: 764ms\tremaining: 424ms\n",
      "643:\tlearn: 0.2520903\ttotal: 765ms\tremaining: 423ms\n",
      "644:\tlearn: 0.2518111\ttotal: 766ms\tremaining: 421ms\n",
      "645:\tlearn: 0.2517013\ttotal: 767ms\tremaining: 420ms\n",
      "646:\tlearn: 0.2513785\ttotal: 767ms\tremaining: 419ms\n",
      "647:\tlearn: 0.2510264\ttotal: 768ms\tremaining: 417ms\n",
      "648:\tlearn: 0.2509075\ttotal: 769ms\tremaining: 416ms\n",
      "649:\tlearn: 0.2507789\ttotal: 770ms\tremaining: 415ms\n",
      "650:\tlearn: 0.2505793\ttotal: 771ms\tremaining: 413ms\n",
      "651:\tlearn: 0.2504598\ttotal: 772ms\tremaining: 412ms\n",
      "652:\tlearn: 0.2502472\ttotal: 773ms\tremaining: 411ms\n",
      "653:\tlearn: 0.2501631\ttotal: 774ms\tremaining: 410ms\n",
      "654:\tlearn: 0.2500554\ttotal: 775ms\tremaining: 408ms\n",
      "655:\tlearn: 0.2499953\ttotal: 777ms\tremaining: 407ms\n",
      "656:\tlearn: 0.2497997\ttotal: 778ms\tremaining: 406ms\n",
      "657:\tlearn: 0.2496228\ttotal: 779ms\tremaining: 405ms\n",
      "658:\tlearn: 0.2493790\ttotal: 780ms\tremaining: 403ms\n",
      "659:\tlearn: 0.2490870\ttotal: 781ms\tremaining: 402ms\n",
      "660:\tlearn: 0.2489131\ttotal: 782ms\tremaining: 401ms\n",
      "661:\tlearn: 0.2487822\ttotal: 783ms\tremaining: 400ms\n",
      "662:\tlearn: 0.2486344\ttotal: 784ms\tremaining: 399ms\n",
      "663:\tlearn: 0.2485112\ttotal: 785ms\tremaining: 397ms\n",
      "664:\tlearn: 0.2483456\ttotal: 786ms\tremaining: 396ms\n",
      "665:\tlearn: 0.2478812\ttotal: 787ms\tremaining: 395ms\n",
      "666:\tlearn: 0.2477720\ttotal: 788ms\tremaining: 394ms\n",
      "667:\tlearn: 0.2476856\ttotal: 789ms\tremaining: 392ms\n",
      "668:\tlearn: 0.2473703\ttotal: 790ms\tremaining: 391ms\n",
      "669:\tlearn: 0.2469242\ttotal: 791ms\tremaining: 390ms\n",
      "670:\tlearn: 0.2468015\ttotal: 792ms\tremaining: 388ms\n",
      "671:\tlearn: 0.2464829\ttotal: 793ms\tremaining: 387ms\n",
      "672:\tlearn: 0.2462695\ttotal: 794ms\tremaining: 386ms\n",
      "673:\tlearn: 0.2460049\ttotal: 795ms\tremaining: 385ms\n",
      "674:\tlearn: 0.2459397\ttotal: 796ms\tremaining: 383ms\n",
      "675:\tlearn: 0.2457831\ttotal: 802ms\tremaining: 384ms\n",
      "676:\tlearn: 0.2456189\ttotal: 804ms\tremaining: 384ms\n",
      "677:\tlearn: 0.2453592\ttotal: 806ms\tremaining: 383ms\n",
      "678:\tlearn: 0.2450781\ttotal: 808ms\tremaining: 382ms\n",
      "679:\tlearn: 0.2449079\ttotal: 809ms\tremaining: 381ms\n",
      "680:\tlearn: 0.2447622\ttotal: 810ms\tremaining: 379ms\n",
      "681:\tlearn: 0.2446009\ttotal: 811ms\tremaining: 378ms\n",
      "682:\tlearn: 0.2444911\ttotal: 812ms\tremaining: 377ms\n",
      "683:\tlearn: 0.2442647\ttotal: 814ms\tremaining: 376ms\n",
      "684:\tlearn: 0.2439881\ttotal: 815ms\tremaining: 375ms\n",
      "685:\tlearn: 0.2438743\ttotal: 817ms\tremaining: 374ms\n",
      "686:\tlearn: 0.2436232\ttotal: 818ms\tremaining: 373ms\n",
      "687:\tlearn: 0.2432542\ttotal: 819ms\tremaining: 371ms\n",
      "688:\tlearn: 0.2430422\ttotal: 820ms\tremaining: 370ms\n",
      "689:\tlearn: 0.2427875\ttotal: 821ms\tremaining: 369ms\n",
      "690:\tlearn: 0.2426080\ttotal: 823ms\tremaining: 368ms\n",
      "691:\tlearn: 0.2423995\ttotal: 824ms\tremaining: 367ms\n",
      "692:\tlearn: 0.2422839\ttotal: 826ms\tremaining: 366ms\n",
      "693:\tlearn: 0.2419745\ttotal: 827ms\tremaining: 365ms\n",
      "694:\tlearn: 0.2419342\ttotal: 828ms\tremaining: 363ms\n",
      "695:\tlearn: 0.2417488\ttotal: 829ms\tremaining: 362ms\n",
      "696:\tlearn: 0.2416767\ttotal: 830ms\tremaining: 361ms\n",
      "697:\tlearn: 0.2415790\ttotal: 831ms\tremaining: 360ms\n",
      "698:\tlearn: 0.2412939\ttotal: 832ms\tremaining: 358ms\n",
      "699:\tlearn: 0.2411213\ttotal: 833ms\tremaining: 357ms\n",
      "700:\tlearn: 0.2408446\ttotal: 835ms\tremaining: 356ms\n",
      "701:\tlearn: 0.2405587\ttotal: 836ms\tremaining: 355ms\n",
      "702:\tlearn: 0.2403313\ttotal: 837ms\tremaining: 353ms\n",
      "703:\tlearn: 0.2401492\ttotal: 838ms\tremaining: 352ms\n",
      "704:\tlearn: 0.2398918\ttotal: 838ms\tremaining: 351ms\n",
      "705:\tlearn: 0.2396047\ttotal: 839ms\tremaining: 350ms\n",
      "706:\tlearn: 0.2395006\ttotal: 840ms\tremaining: 348ms\n",
      "707:\tlearn: 0.2394055\ttotal: 841ms\tremaining: 347ms\n",
      "708:\tlearn: 0.2392352\ttotal: 842ms\tremaining: 346ms\n",
      "709:\tlearn: 0.2390019\ttotal: 843ms\tremaining: 344ms\n",
      "710:\tlearn: 0.2388457\ttotal: 844ms\tremaining: 343ms\n",
      "711:\tlearn: 0.2386594\ttotal: 845ms\tremaining: 342ms\n",
      "712:\tlearn: 0.2385861\ttotal: 846ms\tremaining: 341ms\n",
      "713:\tlearn: 0.2383764\ttotal: 847ms\tremaining: 339ms\n",
      "714:\tlearn: 0.2382499\ttotal: 848ms\tremaining: 338ms\n",
      "715:\tlearn: 0.2380496\ttotal: 849ms\tremaining: 337ms\n",
      "716:\tlearn: 0.2377915\ttotal: 850ms\tremaining: 335ms\n",
      "717:\tlearn: 0.2376989\ttotal: 851ms\tremaining: 334ms\n",
      "718:\tlearn: 0.2375933\ttotal: 852ms\tremaining: 333ms\n",
      "719:\tlearn: 0.2374398\ttotal: 853ms\tremaining: 332ms\n",
      "720:\tlearn: 0.2372318\ttotal: 854ms\tremaining: 330ms\n",
      "721:\tlearn: 0.2370847\ttotal: 855ms\tremaining: 329ms\n",
      "722:\tlearn: 0.2367496\ttotal: 855ms\tremaining: 328ms\n",
      "723:\tlearn: 0.2363787\ttotal: 856ms\tremaining: 326ms\n",
      "724:\tlearn: 0.2362295\ttotal: 857ms\tremaining: 325ms\n",
      "725:\tlearn: 0.2361886\ttotal: 858ms\tremaining: 324ms\n",
      "726:\tlearn: 0.2360077\ttotal: 859ms\tremaining: 323ms\n",
      "727:\tlearn: 0.2358936\ttotal: 860ms\tremaining: 321ms\n",
      "728:\tlearn: 0.2357625\ttotal: 861ms\tremaining: 320ms\n",
      "729:\tlearn: 0.2356657\ttotal: 862ms\tremaining: 319ms\n",
      "730:\tlearn: 0.2355083\ttotal: 863ms\tremaining: 318ms\n",
      "731:\tlearn: 0.2354345\ttotal: 864ms\tremaining: 316ms\n",
      "732:\tlearn: 0.2353153\ttotal: 865ms\tremaining: 315ms\n",
      "733:\tlearn: 0.2352290\ttotal: 866ms\tremaining: 314ms\n",
      "734:\tlearn: 0.2351001\ttotal: 867ms\tremaining: 313ms\n",
      "735:\tlearn: 0.2349968\ttotal: 868ms\tremaining: 311ms\n",
      "736:\tlearn: 0.2349104\ttotal: 869ms\tremaining: 310ms\n",
      "737:\tlearn: 0.2348057\ttotal: 870ms\tremaining: 309ms\n",
      "738:\tlearn: 0.2346429\ttotal: 871ms\tremaining: 308ms\n",
      "739:\tlearn: 0.2344062\ttotal: 872ms\tremaining: 306ms\n",
      "740:\tlearn: 0.2343251\ttotal: 873ms\tremaining: 305ms\n",
      "741:\tlearn: 0.2339286\ttotal: 873ms\tremaining: 304ms\n",
      "742:\tlearn: 0.2337558\ttotal: 874ms\tremaining: 302ms\n",
      "743:\tlearn: 0.2336824\ttotal: 875ms\tremaining: 301ms\n",
      "744:\tlearn: 0.2336136\ttotal: 876ms\tremaining: 300ms\n",
      "745:\tlearn: 0.2334585\ttotal: 877ms\tremaining: 299ms\n",
      "746:\tlearn: 0.2330439\ttotal: 878ms\tremaining: 297ms\n",
      "747:\tlearn: 0.2327640\ttotal: 879ms\tremaining: 296ms\n",
      "748:\tlearn: 0.2325958\ttotal: 880ms\tremaining: 295ms\n",
      "749:\tlearn: 0.2323885\ttotal: 880ms\tremaining: 293ms\n",
      "750:\tlearn: 0.2321622\ttotal: 881ms\tremaining: 292ms\n",
      "751:\tlearn: 0.2320129\ttotal: 882ms\tremaining: 291ms\n",
      "752:\tlearn: 0.2319447\ttotal: 883ms\tremaining: 290ms\n",
      "753:\tlearn: 0.2318012\ttotal: 884ms\tremaining: 288ms\n",
      "754:\tlearn: 0.2316776\ttotal: 885ms\tremaining: 287ms\n",
      "755:\tlearn: 0.2315503\ttotal: 886ms\tremaining: 286ms\n",
      "756:\tlearn: 0.2313964\ttotal: 886ms\tremaining: 285ms\n",
      "757:\tlearn: 0.2313403\ttotal: 887ms\tremaining: 283ms\n",
      "758:\tlearn: 0.2311582\ttotal: 888ms\tremaining: 282ms\n",
      "759:\tlearn: 0.2309643\ttotal: 889ms\tremaining: 281ms\n",
      "760:\tlearn: 0.2308683\ttotal: 890ms\tremaining: 280ms\n",
      "761:\tlearn: 0.2306519\ttotal: 891ms\tremaining: 278ms\n",
      "762:\tlearn: 0.2304512\ttotal: 892ms\tremaining: 277ms\n",
      "763:\tlearn: 0.2303585\ttotal: 893ms\tremaining: 276ms\n",
      "764:\tlearn: 0.2301186\ttotal: 894ms\tremaining: 275ms\n",
      "765:\tlearn: 0.2299520\ttotal: 895ms\tremaining: 274ms\n",
      "766:\tlearn: 0.2298211\ttotal: 896ms\tremaining: 272ms\n",
      "767:\tlearn: 0.2296461\ttotal: 897ms\tremaining: 271ms\n",
      "768:\tlearn: 0.2294316\ttotal: 898ms\tremaining: 270ms\n",
      "769:\tlearn: 0.2292530\ttotal: 899ms\tremaining: 269ms\n",
      "770:\tlearn: 0.2290728\ttotal: 900ms\tremaining: 267ms\n",
      "771:\tlearn: 0.2288433\ttotal: 901ms\tremaining: 266ms\n",
      "772:\tlearn: 0.2287000\ttotal: 902ms\tremaining: 265ms\n",
      "773:\tlearn: 0.2284832\ttotal: 903ms\tremaining: 264ms\n",
      "774:\tlearn: 0.2283585\ttotal: 904ms\tremaining: 262ms\n",
      "775:\tlearn: 0.2282229\ttotal: 905ms\tremaining: 261ms\n",
      "776:\tlearn: 0.2281303\ttotal: 906ms\tremaining: 260ms\n",
      "777:\tlearn: 0.2279449\ttotal: 907ms\tremaining: 259ms\n",
      "778:\tlearn: 0.2277649\ttotal: 908ms\tremaining: 257ms\n",
      "779:\tlearn: 0.2276696\ttotal: 909ms\tremaining: 256ms\n",
      "780:\tlearn: 0.2274767\ttotal: 910ms\tremaining: 255ms\n",
      "781:\tlearn: 0.2272327\ttotal: 911ms\tremaining: 254ms\n",
      "782:\tlearn: 0.2270917\ttotal: 912ms\tremaining: 253ms\n",
      "783:\tlearn: 0.2269343\ttotal: 913ms\tremaining: 251ms\n",
      "784:\tlearn: 0.2266742\ttotal: 914ms\tremaining: 250ms\n",
      "785:\tlearn: 0.2264986\ttotal: 915ms\tremaining: 249ms\n",
      "786:\tlearn: 0.2263188\ttotal: 916ms\tremaining: 248ms\n",
      "787:\tlearn: 0.2261086\ttotal: 917ms\tremaining: 247ms\n",
      "788:\tlearn: 0.2258824\ttotal: 918ms\tremaining: 245ms\n",
      "789:\tlearn: 0.2256495\ttotal: 918ms\tremaining: 244ms\n",
      "790:\tlearn: 0.2253640\ttotal: 920ms\tremaining: 243ms\n",
      "791:\tlearn: 0.2253015\ttotal: 921ms\tremaining: 242ms\n",
      "792:\tlearn: 0.2251932\ttotal: 921ms\tremaining: 241ms\n",
      "793:\tlearn: 0.2250610\ttotal: 922ms\tremaining: 239ms\n",
      "794:\tlearn: 0.2249378\ttotal: 923ms\tremaining: 238ms\n",
      "795:\tlearn: 0.2247418\ttotal: 924ms\tremaining: 237ms\n",
      "796:\tlearn: 0.2243590\ttotal: 925ms\tremaining: 236ms\n",
      "797:\tlearn: 0.2241881\ttotal: 926ms\tremaining: 234ms\n",
      "798:\tlearn: 0.2239846\ttotal: 927ms\tremaining: 233ms\n",
      "799:\tlearn: 0.2238098\ttotal: 928ms\tremaining: 232ms\n",
      "800:\tlearn: 0.2237013\ttotal: 929ms\tremaining: 231ms\n",
      "801:\tlearn: 0.2235843\ttotal: 930ms\tremaining: 230ms\n",
      "802:\tlearn: 0.2234171\ttotal: 931ms\tremaining: 228ms\n",
      "803:\tlearn: 0.2232202\ttotal: 932ms\tremaining: 227ms\n",
      "804:\tlearn: 0.2230832\ttotal: 932ms\tremaining: 226ms\n",
      "805:\tlearn: 0.2229630\ttotal: 933ms\tremaining: 225ms\n",
      "806:\tlearn: 0.2227556\ttotal: 934ms\tremaining: 223ms\n",
      "807:\tlearn: 0.2225513\ttotal: 935ms\tremaining: 222ms\n",
      "808:\tlearn: 0.2224407\ttotal: 936ms\tremaining: 221ms\n",
      "809:\tlearn: 0.2223815\ttotal: 937ms\tremaining: 220ms\n",
      "810:\tlearn: 0.2221158\ttotal: 938ms\tremaining: 219ms\n",
      "811:\tlearn: 0.2218880\ttotal: 939ms\tremaining: 217ms\n",
      "812:\tlearn: 0.2217191\ttotal: 940ms\tremaining: 216ms\n",
      "813:\tlearn: 0.2216216\ttotal: 941ms\tremaining: 215ms\n",
      "814:\tlearn: 0.2214471\ttotal: 942ms\tremaining: 214ms\n",
      "815:\tlearn: 0.2212460\ttotal: 943ms\tremaining: 213ms\n",
      "816:\tlearn: 0.2210716\ttotal: 944ms\tremaining: 211ms\n",
      "817:\tlearn: 0.2207700\ttotal: 945ms\tremaining: 210ms\n",
      "818:\tlearn: 0.2206518\ttotal: 946ms\tremaining: 209ms\n",
      "819:\tlearn: 0.2205547\ttotal: 947ms\tremaining: 208ms\n",
      "820:\tlearn: 0.2202621\ttotal: 948ms\tremaining: 207ms\n",
      "821:\tlearn: 0.2200709\ttotal: 949ms\tremaining: 205ms\n",
      "822:\tlearn: 0.2199827\ttotal: 950ms\tremaining: 204ms\n",
      "823:\tlearn: 0.2198117\ttotal: 951ms\tremaining: 203ms\n",
      "824:\tlearn: 0.2196338\ttotal: 952ms\tremaining: 202ms\n",
      "825:\tlearn: 0.2193833\ttotal: 953ms\tremaining: 201ms\n",
      "826:\tlearn: 0.2191040\ttotal: 954ms\tremaining: 200ms\n",
      "827:\tlearn: 0.2188188\ttotal: 955ms\tremaining: 198ms\n",
      "828:\tlearn: 0.2186232\ttotal: 956ms\tremaining: 197ms\n",
      "829:\tlearn: 0.2184637\ttotal: 957ms\tremaining: 196ms\n",
      "830:\tlearn: 0.2183447\ttotal: 958ms\tremaining: 195ms\n",
      "831:\tlearn: 0.2181185\ttotal: 959ms\tremaining: 194ms\n",
      "832:\tlearn: 0.2179230\ttotal: 960ms\tremaining: 192ms\n",
      "833:\tlearn: 0.2177289\ttotal: 961ms\tremaining: 191ms\n",
      "834:\tlearn: 0.2174576\ttotal: 962ms\tremaining: 190ms\n",
      "835:\tlearn: 0.2173258\ttotal: 963ms\tremaining: 189ms\n",
      "836:\tlearn: 0.2171739\ttotal: 964ms\tremaining: 188ms\n",
      "837:\tlearn: 0.2169270\ttotal: 966ms\tremaining: 187ms\n",
      "838:\tlearn: 0.2166864\ttotal: 967ms\tremaining: 186ms\n",
      "839:\tlearn: 0.2164157\ttotal: 968ms\tremaining: 184ms\n",
      "840:\tlearn: 0.2163378\ttotal: 969ms\tremaining: 183ms\n",
      "841:\tlearn: 0.2162199\ttotal: 971ms\tremaining: 182ms\n",
      "842:\tlearn: 0.2158899\ttotal: 972ms\tremaining: 181ms\n",
      "843:\tlearn: 0.2158699\ttotal: 973ms\tremaining: 180ms\n",
      "844:\tlearn: 0.2157586\ttotal: 974ms\tremaining: 179ms\n",
      "845:\tlearn: 0.2155410\ttotal: 975ms\tremaining: 177ms\n",
      "846:\tlearn: 0.2153727\ttotal: 976ms\tremaining: 176ms\n",
      "847:\tlearn: 0.2151920\ttotal: 977ms\tremaining: 175ms\n",
      "848:\tlearn: 0.2148853\ttotal: 978ms\tremaining: 174ms\n",
      "849:\tlearn: 0.2148101\ttotal: 979ms\tremaining: 173ms\n",
      "850:\tlearn: 0.2146415\ttotal: 980ms\tremaining: 172ms\n",
      "851:\tlearn: 0.2144046\ttotal: 981ms\tremaining: 170ms\n",
      "852:\tlearn: 0.2143299\ttotal: 982ms\tremaining: 169ms\n",
      "853:\tlearn: 0.2141792\ttotal: 983ms\tremaining: 168ms\n",
      "854:\tlearn: 0.2141206\ttotal: 984ms\tremaining: 167ms\n",
      "855:\tlearn: 0.2139337\ttotal: 985ms\tremaining: 166ms\n",
      "856:\tlearn: 0.2136557\ttotal: 986ms\tremaining: 165ms\n",
      "857:\tlearn: 0.2134691\ttotal: 987ms\tremaining: 163ms\n",
      "858:\tlearn: 0.2132437\ttotal: 988ms\tremaining: 162ms\n",
      "859:\tlearn: 0.2130466\ttotal: 989ms\tremaining: 161ms\n",
      "860:\tlearn: 0.2129277\ttotal: 990ms\tremaining: 160ms\n",
      "861:\tlearn: 0.2125050\ttotal: 991ms\tremaining: 159ms\n",
      "862:\tlearn: 0.2122203\ttotal: 992ms\tremaining: 158ms\n",
      "863:\tlearn: 0.2121312\ttotal: 994ms\tremaining: 156ms\n",
      "864:\tlearn: 0.2120307\ttotal: 995ms\tremaining: 155ms\n",
      "865:\tlearn: 0.2118465\ttotal: 996ms\tremaining: 154ms\n",
      "866:\tlearn: 0.2117302\ttotal: 997ms\tremaining: 153ms\n",
      "867:\tlearn: 0.2114227\ttotal: 998ms\tremaining: 152ms\n",
      "868:\tlearn: 0.2113260\ttotal: 999ms\tremaining: 151ms\n",
      "869:\tlearn: 0.2111942\ttotal: 1s\tremaining: 149ms\n",
      "870:\tlearn: 0.2110035\ttotal: 1s\tremaining: 148ms\n",
      "871:\tlearn: 0.2107816\ttotal: 1s\tremaining: 147ms\n",
      "872:\tlearn: 0.2104724\ttotal: 1s\tremaining: 146ms\n",
      "873:\tlearn: 0.2102684\ttotal: 1s\tremaining: 145ms\n",
      "874:\tlearn: 0.2101032\ttotal: 1s\tremaining: 144ms\n",
      "875:\tlearn: 0.2099989\ttotal: 1.01s\tremaining: 142ms\n",
      "876:\tlearn: 0.2099035\ttotal: 1.01s\tremaining: 141ms\n",
      "877:\tlearn: 0.2097173\ttotal: 1.01s\tremaining: 140ms\n",
      "878:\tlearn: 0.2095486\ttotal: 1.01s\tremaining: 139ms\n",
      "879:\tlearn: 0.2093830\ttotal: 1.01s\tremaining: 138ms\n",
      "880:\tlearn: 0.2092829\ttotal: 1.01s\tremaining: 137ms\n",
      "881:\tlearn: 0.2089713\ttotal: 1.01s\tremaining: 135ms\n",
      "882:\tlearn: 0.2087959\ttotal: 1.01s\tremaining: 134ms\n",
      "883:\tlearn: 0.2087119\ttotal: 1.01s\tremaining: 133ms\n",
      "884:\tlearn: 0.2086137\ttotal: 1.01s\tremaining: 132ms\n",
      "885:\tlearn: 0.2084851\ttotal: 1.01s\tremaining: 131ms\n",
      "886:\tlearn: 0.2082519\ttotal: 1.02s\tremaining: 130ms\n",
      "887:\tlearn: 0.2082281\ttotal: 1.02s\tremaining: 128ms\n",
      "888:\tlearn: 0.2080446\ttotal: 1.02s\tremaining: 127ms\n",
      "889:\tlearn: 0.2079331\ttotal: 1.02s\tremaining: 126ms\n",
      "890:\tlearn: 0.2076840\ttotal: 1.02s\tremaining: 125ms\n",
      "891:\tlearn: 0.2074361\ttotal: 1.02s\tremaining: 124ms\n",
      "892:\tlearn: 0.2072691\ttotal: 1.02s\tremaining: 122ms\n",
      "893:\tlearn: 0.2071863\ttotal: 1.02s\tremaining: 121ms\n",
      "894:\tlearn: 0.2070482\ttotal: 1.02s\tremaining: 120ms\n",
      "895:\tlearn: 0.2068719\ttotal: 1.02s\tremaining: 119ms\n",
      "896:\tlearn: 0.2068010\ttotal: 1.03s\tremaining: 118ms\n",
      "897:\tlearn: 0.2066289\ttotal: 1.03s\tremaining: 117ms\n",
      "898:\tlearn: 0.2065124\ttotal: 1.03s\tremaining: 116ms\n",
      "899:\tlearn: 0.2063746\ttotal: 1.03s\tremaining: 114ms\n",
      "900:\tlearn: 0.2060329\ttotal: 1.03s\tremaining: 113ms\n",
      "901:\tlearn: 0.2059134\ttotal: 1.03s\tremaining: 112ms\n",
      "902:\tlearn: 0.2056670\ttotal: 1.03s\tremaining: 111ms\n",
      "903:\tlearn: 0.2055800\ttotal: 1.03s\tremaining: 110ms\n",
      "904:\tlearn: 0.2054935\ttotal: 1.03s\tremaining: 108ms\n",
      "905:\tlearn: 0.2054216\ttotal: 1.03s\tremaining: 107ms\n",
      "906:\tlearn: 0.2053141\ttotal: 1.03s\tremaining: 106ms\n",
      "907:\tlearn: 0.2051578\ttotal: 1.04s\tremaining: 105ms\n",
      "908:\tlearn: 0.2051277\ttotal: 1.04s\tremaining: 104ms\n",
      "909:\tlearn: 0.2049773\ttotal: 1.04s\tremaining: 103ms\n",
      "910:\tlearn: 0.2049041\ttotal: 1.04s\tremaining: 102ms\n",
      "911:\tlearn: 0.2048033\ttotal: 1.04s\tremaining: 100ms\n",
      "912:\tlearn: 0.2046646\ttotal: 1.04s\tremaining: 99.2ms\n",
      "913:\tlearn: 0.2045087\ttotal: 1.04s\tremaining: 98ms\n",
      "914:\tlearn: 0.2043556\ttotal: 1.04s\tremaining: 96.9ms\n",
      "915:\tlearn: 0.2042029\ttotal: 1.04s\tremaining: 95.7ms\n",
      "916:\tlearn: 0.2041374\ttotal: 1.04s\tremaining: 94.6ms\n",
      "917:\tlearn: 0.2039668\ttotal: 1.04s\tremaining: 93.4ms\n",
      "918:\tlearn: 0.2038225\ttotal: 1.05s\tremaining: 92.2ms\n",
      "919:\tlearn: 0.2037351\ttotal: 1.05s\tremaining: 91.1ms\n",
      "920:\tlearn: 0.2035562\ttotal: 1.05s\tremaining: 89.9ms\n",
      "921:\tlearn: 0.2033158\ttotal: 1.05s\tremaining: 88.8ms\n",
      "922:\tlearn: 0.2031272\ttotal: 1.05s\tremaining: 87.6ms\n",
      "923:\tlearn: 0.2028653\ttotal: 1.05s\tremaining: 86.5ms\n",
      "924:\tlearn: 0.2027730\ttotal: 1.05s\tremaining: 85.3ms\n",
      "925:\tlearn: 0.2025642\ttotal: 1.05s\tremaining: 84.2ms\n",
      "926:\tlearn: 0.2025182\ttotal: 1.05s\tremaining: 83ms\n",
      "927:\tlearn: 0.2023242\ttotal: 1.05s\tremaining: 81.9ms\n",
      "928:\tlearn: 0.2021505\ttotal: 1.06s\tremaining: 80.7ms\n",
      "929:\tlearn: 0.2019405\ttotal: 1.06s\tremaining: 79.6ms\n",
      "930:\tlearn: 0.2018581\ttotal: 1.06s\tremaining: 78.4ms\n",
      "931:\tlearn: 0.2015040\ttotal: 1.06s\tremaining: 77.2ms\n",
      "932:\tlearn: 0.2012963\ttotal: 1.06s\tremaining: 76.1ms\n",
      "933:\tlearn: 0.2011157\ttotal: 1.06s\tremaining: 74.9ms\n",
      "934:\tlearn: 0.2010048\ttotal: 1.06s\tremaining: 73.8ms\n",
      "935:\tlearn: 0.2008797\ttotal: 1.06s\tremaining: 72.6ms\n",
      "936:\tlearn: 0.2006119\ttotal: 1.06s\tremaining: 71.5ms\n",
      "937:\tlearn: 0.2003997\ttotal: 1.06s\tremaining: 70.3ms\n",
      "938:\tlearn: 0.2002994\ttotal: 1.06s\tremaining: 69.2ms\n",
      "939:\tlearn: 0.2001781\ttotal: 1.07s\tremaining: 68.1ms\n",
      "940:\tlearn: 0.2001108\ttotal: 1.07s\tremaining: 66.9ms\n",
      "941:\tlearn: 0.1998029\ttotal: 1.07s\tremaining: 65.8ms\n",
      "942:\tlearn: 0.1996730\ttotal: 1.07s\tremaining: 64.6ms\n",
      "943:\tlearn: 0.1996001\ttotal: 1.07s\tremaining: 63.5ms\n",
      "944:\tlearn: 0.1995043\ttotal: 1.07s\tremaining: 62.4ms\n",
      "945:\tlearn: 0.1993791\ttotal: 1.07s\tremaining: 61.2ms\n",
      "946:\tlearn: 0.1993067\ttotal: 1.07s\tremaining: 60.1ms\n",
      "947:\tlearn: 0.1991825\ttotal: 1.07s\tremaining: 58.9ms\n",
      "948:\tlearn: 0.1991477\ttotal: 1.07s\tremaining: 57.8ms\n",
      "949:\tlearn: 0.1989893\ttotal: 1.08s\tremaining: 56.7ms\n",
      "950:\tlearn: 0.1989476\ttotal: 1.08s\tremaining: 55.5ms\n",
      "951:\tlearn: 0.1988571\ttotal: 1.08s\tremaining: 54.4ms\n",
      "952:\tlearn: 0.1987463\ttotal: 1.08s\tremaining: 53.2ms\n",
      "953:\tlearn: 0.1985914\ttotal: 1.08s\tremaining: 52.1ms\n",
      "954:\tlearn: 0.1984601\ttotal: 1.08s\tremaining: 50.9ms\n",
      "955:\tlearn: 0.1983558\ttotal: 1.08s\tremaining: 49.8ms\n",
      "956:\tlearn: 0.1981887\ttotal: 1.08s\tremaining: 48.7ms\n",
      "957:\tlearn: 0.1979755\ttotal: 1.08s\tremaining: 47.5ms\n",
      "958:\tlearn: 0.1978122\ttotal: 1.08s\tremaining: 46.4ms\n",
      "959:\tlearn: 0.1976791\ttotal: 1.09s\tremaining: 45.3ms\n",
      "960:\tlearn: 0.1976331\ttotal: 1.09s\tremaining: 44.1ms\n",
      "961:\tlearn: 0.1974878\ttotal: 1.09s\tremaining: 43ms\n",
      "962:\tlearn: 0.1973825\ttotal: 1.09s\tremaining: 41.8ms\n",
      "963:\tlearn: 0.1973230\ttotal: 1.09s\tremaining: 40.7ms\n",
      "964:\tlearn: 0.1970565\ttotal: 1.09s\tremaining: 39.6ms\n",
      "965:\tlearn: 0.1969765\ttotal: 1.09s\tremaining: 38.4ms\n",
      "966:\tlearn: 0.1967186\ttotal: 1.09s\tremaining: 37.3ms\n",
      "967:\tlearn: 0.1965649\ttotal: 1.09s\tremaining: 36.1ms\n",
      "968:\tlearn: 0.1964461\ttotal: 1.09s\tremaining: 35ms\n",
      "969:\tlearn: 0.1962676\ttotal: 1.09s\tremaining: 33.9ms\n",
      "970:\tlearn: 0.1961347\ttotal: 1.1s\tremaining: 32.7ms\n",
      "971:\tlearn: 0.1960023\ttotal: 1.1s\tremaining: 31.6ms\n",
      "972:\tlearn: 0.1958286\ttotal: 1.1s\tremaining: 30.5ms\n",
      "973:\tlearn: 0.1956880\ttotal: 1.1s\tremaining: 29.3ms\n",
      "974:\tlearn: 0.1955273\ttotal: 1.1s\tremaining: 28.2ms\n",
      "975:\tlearn: 0.1954718\ttotal: 1.1s\tremaining: 27.1ms\n",
      "976:\tlearn: 0.1954058\ttotal: 1.1s\tremaining: 25.9ms\n",
      "977:\tlearn: 0.1953148\ttotal: 1.1s\tremaining: 24.8ms\n",
      "978:\tlearn: 0.1951338\ttotal: 1.1s\tremaining: 23.7ms\n",
      "979:\tlearn: 0.1950429\ttotal: 1.1s\tremaining: 22.5ms\n",
      "980:\tlearn: 0.1950004\ttotal: 1.1s\tremaining: 21.4ms\n",
      "981:\tlearn: 0.1948226\ttotal: 1.11s\tremaining: 20.3ms\n",
      "982:\tlearn: 0.1946439\ttotal: 1.11s\tremaining: 19.1ms\n",
      "983:\tlearn: 0.1945826\ttotal: 1.11s\tremaining: 18ms\n",
      "984:\tlearn: 0.1944658\ttotal: 1.11s\tremaining: 16.9ms\n",
      "985:\tlearn: 0.1943315\ttotal: 1.11s\tremaining: 15.8ms\n",
      "986:\tlearn: 0.1941699\ttotal: 1.11s\tremaining: 14.6ms\n",
      "987:\tlearn: 0.1939214\ttotal: 1.11s\tremaining: 13.5ms\n",
      "988:\tlearn: 0.1937600\ttotal: 1.11s\tremaining: 12.4ms\n",
      "989:\tlearn: 0.1936543\ttotal: 1.11s\tremaining: 11.3ms\n",
      "990:\tlearn: 0.1935242\ttotal: 1.11s\tremaining: 10.1ms\n",
      "991:\tlearn: 0.1933722\ttotal: 1.11s\tremaining: 9ms\n",
      "992:\tlearn: 0.1932137\ttotal: 1.12s\tremaining: 7.87ms\n",
      "993:\tlearn: 0.1931190\ttotal: 1.12s\tremaining: 6.75ms\n",
      "994:\tlearn: 0.1930025\ttotal: 1.12s\tremaining: 5.62ms\n",
      "995:\tlearn: 0.1929036\ttotal: 1.12s\tremaining: 4.5ms\n",
      "996:\tlearn: 0.1927199\ttotal: 1.12s\tremaining: 3.37ms\n",
      "997:\tlearn: 0.1927060\ttotal: 1.12s\tremaining: 2.25ms\n",
      "998:\tlearn: 0.1926449\ttotal: 1.12s\tremaining: 1.12ms\n",
      "999:\tlearn: 0.1925922\ttotal: 1.12s\tremaining: 0us\n"
     ]
    }
   ],
   "source": [
    "cat_model = CatBoostClassifier().fit(X_train, y_train)"
   ]
  },
  {
   "cell_type": "code",
   "execution_count": 53,
   "id": "7c033080-72fb-476b-8919-16b9c1eed6b7",
   "metadata": {
    "tags": []
   },
   "outputs": [
    {
     "data": {
      "text/plain": [
       "0.7402597402597403"
      ]
     },
     "execution_count": 53,
     "metadata": {},
     "output_type": "execute_result"
    }
   ],
   "source": [
    "y_pred = cat_model.predict(X_test)\n",
    "accuracy_score(y_test, y_pred)"
   ]
  },
  {
   "cell_type": "markdown",
   "id": "10cf82f8-2797-4e2a-87c8-fafffed6575d",
   "metadata": {
    "tags": []
   },
   "source": [
    "## Model Tuning"
   ]
  },
  {
   "cell_type": "code",
   "execution_count": 57,
   "id": "3db6dbf8-333b-460b-8318-ce54ddce4978",
   "metadata": {
    "tags": []
   },
   "outputs": [],
   "source": [
    "catb_params = {'iterations': [200, 500], \n",
    "               'learning_rate': [0.01, 0.05, 0.1], \n",
    "               'depth': [3, 5, 8]}"
   ]
  },
  {
   "cell_type": "code",
   "execution_count": 59,
   "id": "13334698-1a18-4983-96ed-cbb8cb256e6f",
   "metadata": {
    "collapsed": true,
    "jupyter": {
     "outputs_hidden": true
    },
    "tags": []
   },
   "outputs": [
    {
     "name": "stdout",
     "output_type": "stream",
     "text": [
      "Fitting 5 folds for each of 18 candidates, totalling 90 fits\n",
      "0:\tlearn: 0.6863312\ttotal: 3.52ms\tremaining: 701ms\n",
      "1:\tlearn: 0.6811157\ttotal: 5.79ms\tremaining: 573ms\n",
      "2:\tlearn: 0.6752970\ttotal: 7.82ms\tremaining: 513ms\n",
      "3:\tlearn: 0.6697432\ttotal: 10ms\tremaining: 490ms\n",
      "4:\tlearn: 0.6641758\ttotal: 12.1ms\tremaining: 471ms\n",
      "5:\tlearn: 0.6576656\ttotal: 14.4ms\tremaining: 466ms\n",
      "6:\tlearn: 0.6521870\ttotal: 16.7ms\tremaining: 462ms\n",
      "7:\tlearn: 0.6465564\ttotal: 19.2ms\tremaining: 460ms\n",
      "8:\tlearn: 0.6407595\ttotal: 21.5ms\tremaining: 457ms\n",
      "9:\tlearn: 0.6357725\ttotal: 23.4ms\tremaining: 446ms\n",
      "10:\tlearn: 0.6299942\ttotal: 25.5ms\tremaining: 437ms\n",
      "11:\tlearn: 0.6240480\ttotal: 27.7ms\tremaining: 433ms\n",
      "12:\tlearn: 0.6196095\ttotal: 29.7ms\tremaining: 427ms\n",
      "13:\tlearn: 0.6148715\ttotal: 31.8ms\tremaining: 423ms\n",
      "14:\tlearn: 0.6092626\ttotal: 33.9ms\tremaining: 418ms\n",
      "15:\tlearn: 0.6046764\ttotal: 36.1ms\tremaining: 415ms\n",
      "16:\tlearn: 0.6012725\ttotal: 38.3ms\tremaining: 412ms\n",
      "17:\tlearn: 0.5958121\ttotal: 40.4ms\tremaining: 408ms\n",
      "18:\tlearn: 0.5903243\ttotal: 42.6ms\tremaining: 406ms\n",
      "19:\tlearn: 0.5866024\ttotal: 44.8ms\tremaining: 403ms\n",
      "20:\tlearn: 0.5831390\ttotal: 47ms\tremaining: 401ms\n",
      "21:\tlearn: 0.5787381\ttotal: 49.1ms\tremaining: 397ms\n",
      "22:\tlearn: 0.5749016\ttotal: 50.9ms\tremaining: 392ms\n",
      "23:\tlearn: 0.5703199\ttotal: 52.9ms\tremaining: 388ms\n",
      "24:\tlearn: 0.5662368\ttotal: 55ms\tremaining: 385ms\n",
      "25:\tlearn: 0.5628682\ttotal: 57.1ms\tremaining: 382ms\n",
      "26:\tlearn: 0.5589082\ttotal: 59.5ms\tremaining: 381ms\n",
      "27:\tlearn: 0.5543910\ttotal: 61.7ms\tremaining: 379ms\n",
      "28:\tlearn: 0.5503864\ttotal: 64.1ms\tremaining: 378ms\n",
      "29:\tlearn: 0.5470574\ttotal: 66.5ms\tremaining: 377ms\n",
      "30:\tlearn: 0.5441267\ttotal: 68.5ms\tremaining: 374ms\n",
      "31:\tlearn: 0.5396280\ttotal: 70.6ms\tremaining: 371ms\n",
      "32:\tlearn: 0.5356242\ttotal: 73ms\tremaining: 369ms\n",
      "33:\tlearn: 0.5315397\ttotal: 75.5ms\tremaining: 368ms\n",
      "34:\tlearn: 0.5279847\ttotal: 77.7ms\tremaining: 366ms\n",
      "35:\tlearn: 0.5248380\ttotal: 80ms\tremaining: 364ms\n",
      "36:\tlearn: 0.5223885\ttotal: 82.2ms\tremaining: 362ms\n",
      "37:\tlearn: 0.5198269\ttotal: 84.4ms\tremaining: 360ms\n",
      "38:\tlearn: 0.5167431\ttotal: 86.6ms\tremaining: 357ms\n",
      "39:\tlearn: 0.5138833\ttotal: 88.7ms\tremaining: 355ms\n",
      "40:\tlearn: 0.5101494\ttotal: 90.9ms\tremaining: 352ms\n",
      "41:\tlearn: 0.5066102\ttotal: 93ms\tremaining: 350ms\n",
      "42:\tlearn: 0.5033714\ttotal: 95.1ms\tremaining: 347ms\n",
      "43:\tlearn: 0.5005898\ttotal: 97.2ms\tremaining: 345ms\n",
      "44:\tlearn: 0.4980703\ttotal: 99.4ms\tremaining: 343ms\n",
      "45:\tlearn: 0.4959251\ttotal: 102ms\tremaining: 341ms\n",
      "46:\tlearn: 0.4933987\ttotal: 104ms\tremaining: 338ms\n",
      "47:\tlearn: 0.4906194\ttotal: 106ms\tremaining: 335ms\n",
      "48:\tlearn: 0.4878359\ttotal: 108ms\tremaining: 333ms\n",
      "49:\tlearn: 0.4850755\ttotal: 110ms\tremaining: 331ms\n",
      "50:\tlearn: 0.4825927\ttotal: 113ms\tremaining: 329ms\n",
      "51:\tlearn: 0.4798298\ttotal: 115ms\tremaining: 328ms\n",
      "52:\tlearn: 0.4776108\ttotal: 118ms\tremaining: 326ms\n",
      "53:\tlearn: 0.4754405\ttotal: 120ms\tremaining: 325ms\n",
      "54:\tlearn: 0.4733501\ttotal: 122ms\tremaining: 323ms\n",
      "55:\tlearn: 0.4706076\ttotal: 125ms\tremaining: 322ms\n",
      "56:\tlearn: 0.4677355\ttotal: 128ms\tremaining: 320ms\n",
      "57:\tlearn: 0.4656740\ttotal: 130ms\tremaining: 319ms\n",
      "58:\tlearn: 0.4637413\ttotal: 132ms\tremaining: 316ms\n",
      "59:\tlearn: 0.4615248\ttotal: 135ms\tremaining: 314ms\n",
      "60:\tlearn: 0.4599759\ttotal: 137ms\tremaining: 312ms\n",
      "61:\tlearn: 0.4583985\ttotal: 138ms\tremaining: 307ms\n",
      "62:\tlearn: 0.4567064\ttotal: 140ms\tremaining: 304ms\n",
      "63:\tlearn: 0.4540942\ttotal: 142ms\tremaining: 302ms\n",
      "64:\tlearn: 0.4529822\ttotal: 143ms\tremaining: 297ms\n",
      "65:\tlearn: 0.4512090\ttotal: 145ms\tremaining: 295ms\n",
      "66:\tlearn: 0.4486739\ttotal: 148ms\tremaining: 293ms\n",
      "67:\tlearn: 0.4467865\ttotal: 150ms\tremaining: 291ms\n",
      "68:\tlearn: 0.4449614\ttotal: 152ms\tremaining: 289ms\n",
      "69:\tlearn: 0.4426120\ttotal: 155ms\tremaining: 287ms\n",
      "70:\tlearn: 0.4401612\ttotal: 157ms\tremaining: 286ms\n",
      "71:\tlearn: 0.4380696\ttotal: 160ms\tremaining: 284ms\n",
      "72:\tlearn: 0.4367153\ttotal: 162ms\tremaining: 282ms\n",
      "73:\tlearn: 0.4353223\ttotal: 164ms\tremaining: 280ms\n",
      "74:\tlearn: 0.4339943\ttotal: 167ms\tremaining: 278ms\n",
      "75:\tlearn: 0.4315641\ttotal: 170ms\tremaining: 277ms\n",
      "76:\tlearn: 0.4298680\ttotal: 172ms\tremaining: 275ms\n",
      "77:\tlearn: 0.4285275\ttotal: 175ms\tremaining: 273ms\n",
      "78:\tlearn: 0.4265791\ttotal: 177ms\tremaining: 271ms\n",
      "79:\tlearn: 0.4244024\ttotal: 179ms\tremaining: 269ms\n",
      "80:\tlearn: 0.4228361\ttotal: 182ms\tremaining: 267ms\n",
      "81:\tlearn: 0.4214212\ttotal: 184ms\tremaining: 264ms\n",
      "82:\tlearn: 0.4200602\ttotal: 186ms\tremaining: 262ms\n",
      "83:\tlearn: 0.4184320\ttotal: 188ms\tremaining: 260ms\n",
      "84:\tlearn: 0.4167986\ttotal: 191ms\tremaining: 258ms\n",
      "85:\tlearn: 0.4156404\ttotal: 193ms\tremaining: 256ms\n",
      "86:\tlearn: 0.4140656\ttotal: 196ms\tremaining: 254ms\n",
      "87:\tlearn: 0.4124223\ttotal: 198ms\tremaining: 252ms\n",
      "88:\tlearn: 0.4107329\ttotal: 201ms\tremaining: 250ms\n",
      "89:\tlearn: 0.4090922\ttotal: 203ms\tremaining: 248ms\n",
      "90:\tlearn: 0.4075416\ttotal: 205ms\tremaining: 246ms\n",
      "91:\tlearn: 0.4062399\ttotal: 209ms\tremaining: 245ms\n",
      "92:\tlearn: 0.4044658\ttotal: 211ms\tremaining: 243ms\n",
      "93:\tlearn: 0.4030179\ttotal: 213ms\tremaining: 241ms\n",
      "94:\tlearn: 0.4012034\ttotal: 216ms\tremaining: 239ms\n",
      "95:\tlearn: 0.3994677\ttotal: 218ms\tremaining: 236ms\n",
      "96:\tlearn: 0.3983236\ttotal: 221ms\tremaining: 234ms\n",
      "97:\tlearn: 0.3969830\ttotal: 223ms\tremaining: 232ms\n",
      "98:\tlearn: 0.3955620\ttotal: 225ms\tremaining: 230ms\n",
      "99:\tlearn: 0.3946122\ttotal: 228ms\tremaining: 228ms\n",
      "100:\tlearn: 0.3932345\ttotal: 230ms\tremaining: 225ms\n",
      "101:\tlearn: 0.3920746\ttotal: 232ms\tremaining: 223ms\n",
      "102:\tlearn: 0.3911707\ttotal: 234ms\tremaining: 221ms\n",
      "103:\tlearn: 0.3895752\ttotal: 237ms\tremaining: 219ms\n",
      "104:\tlearn: 0.3880976\ttotal: 239ms\tremaining: 216ms\n",
      "105:\tlearn: 0.3867508\ttotal: 241ms\tremaining: 214ms\n",
      "106:\tlearn: 0.3855281\ttotal: 244ms\tremaining: 212ms\n",
      "107:\tlearn: 0.3841015\ttotal: 246ms\tremaining: 210ms\n",
      "108:\tlearn: 0.3829276\ttotal: 248ms\tremaining: 207ms\n",
      "109:\tlearn: 0.3818795\ttotal: 250ms\tremaining: 205ms\n",
      "110:\tlearn: 0.3809667\ttotal: 253ms\tremaining: 203ms\n",
      "111:\tlearn: 0.3790017\ttotal: 255ms\tremaining: 200ms\n",
      "112:\tlearn: 0.3774333\ttotal: 257ms\tremaining: 198ms\n",
      "113:\tlearn: 0.3762372\ttotal: 260ms\tremaining: 196ms\n",
      "114:\tlearn: 0.3750418\ttotal: 262ms\tremaining: 193ms\n",
      "115:\tlearn: 0.3735203\ttotal: 264ms\tremaining: 191ms\n",
      "116:\tlearn: 0.3727671\ttotal: 267ms\tremaining: 189ms\n",
      "117:\tlearn: 0.3713847\ttotal: 269ms\tremaining: 187ms\n",
      "118:\tlearn: 0.3705588\ttotal: 272ms\tremaining: 185ms\n",
      "119:\tlearn: 0.3694386\ttotal: 274ms\tremaining: 183ms\n",
      "120:\tlearn: 0.3687438\ttotal: 276ms\tremaining: 180ms\n",
      "121:\tlearn: 0.3679429\ttotal: 279ms\tremaining: 178ms\n",
      "122:\tlearn: 0.3666192\ttotal: 281ms\tremaining: 176ms\n",
      "123:\tlearn: 0.3654787\ttotal: 283ms\tremaining: 174ms\n",
      "124:\tlearn: 0.3643185\ttotal: 286ms\tremaining: 171ms\n",
      "125:\tlearn: 0.3636195\ttotal: 288ms\tremaining: 169ms\n",
      "126:\tlearn: 0.3625184\ttotal: 290ms\tremaining: 167ms\n",
      "127:\tlearn: 0.3609778\ttotal: 293ms\tremaining: 165ms\n",
      "128:\tlearn: 0.3595979\ttotal: 295ms\tremaining: 162ms\n",
      "129:\tlearn: 0.3583702\ttotal: 298ms\tremaining: 160ms\n",
      "130:\tlearn: 0.3569225\ttotal: 300ms\tremaining: 158ms\n",
      "131:\tlearn: 0.3558535\ttotal: 302ms\tremaining: 156ms\n",
      "132:\tlearn: 0.3548312\ttotal: 305ms\tremaining: 153ms\n",
      "133:\tlearn: 0.3533459\ttotal: 307ms\tremaining: 151ms\n",
      "134:\tlearn: 0.3524239\ttotal: 309ms\tremaining: 149ms\n",
      "135:\tlearn: 0.3517958\ttotal: 312ms\tremaining: 147ms\n",
      "136:\tlearn: 0.3504984\ttotal: 314ms\tremaining: 144ms\n",
      "137:\tlearn: 0.3497339\ttotal: 316ms\tremaining: 142ms\n",
      "138:\tlearn: 0.3488643\ttotal: 319ms\tremaining: 140ms\n",
      "139:\tlearn: 0.3482265\ttotal: 321ms\tremaining: 138ms\n",
      "140:\tlearn: 0.3470774\ttotal: 324ms\tremaining: 135ms\n",
      "141:\tlearn: 0.3458237\ttotal: 326ms\tremaining: 133ms\n",
      "142:\tlearn: 0.3445470\ttotal: 328ms\tremaining: 131ms\n",
      "143:\tlearn: 0.3436377\ttotal: 331ms\tremaining: 129ms\n",
      "144:\tlearn: 0.3426585\ttotal: 333ms\tremaining: 126ms\n",
      "145:\tlearn: 0.3417233\ttotal: 335ms\tremaining: 124ms\n",
      "146:\tlearn: 0.3407541\ttotal: 337ms\tremaining: 122ms\n",
      "147:\tlearn: 0.3397798\ttotal: 339ms\tremaining: 119ms\n",
      "148:\tlearn: 0.3390128\ttotal: 342ms\tremaining: 117ms\n",
      "149:\tlearn: 0.3381272\ttotal: 344ms\tremaining: 115ms\n",
      "150:\tlearn: 0.3374740\ttotal: 346ms\tremaining: 112ms\n",
      "151:\tlearn: 0.3365500\ttotal: 348ms\tremaining: 110ms\n",
      "152:\tlearn: 0.3358489\ttotal: 351ms\tremaining: 108ms\n",
      "153:\tlearn: 0.3346096\ttotal: 353ms\tremaining: 105ms\n",
      "154:\tlearn: 0.3335622\ttotal: 355ms\tremaining: 103ms\n",
      "155:\tlearn: 0.3330435\ttotal: 357ms\tremaining: 101ms\n",
      "156:\tlearn: 0.3323843\ttotal: 360ms\tremaining: 98.6ms\n",
      "157:\tlearn: 0.3312172\ttotal: 362ms\tremaining: 96.3ms\n",
      "158:\tlearn: 0.3299437\ttotal: 364ms\tremaining: 94ms\n",
      "159:\tlearn: 0.3286515\ttotal: 367ms\tremaining: 91.7ms\n",
      "160:\tlearn: 0.3275885\ttotal: 369ms\tremaining: 89.4ms\n",
      "161:\tlearn: 0.3266739\ttotal: 371ms\tremaining: 87.1ms\n",
      "162:\tlearn: 0.3258986\ttotal: 373ms\tremaining: 84.7ms\n",
      "163:\tlearn: 0.3249133\ttotal: 375ms\tremaining: 82.4ms\n",
      "164:\tlearn: 0.3241480\ttotal: 378ms\tremaining: 80.1ms\n",
      "165:\tlearn: 0.3237404\ttotal: 380ms\tremaining: 77.8ms\n",
      "166:\tlearn: 0.3228217\ttotal: 382ms\tremaining: 75.5ms\n",
      "167:\tlearn: 0.3218088\ttotal: 384ms\tremaining: 73.2ms\n",
      "168:\tlearn: 0.3209179\ttotal: 386ms\tremaining: 70.8ms\n",
      "169:\tlearn: 0.3200101\ttotal: 388ms\tremaining: 68.5ms\n",
      "170:\tlearn: 0.3188984\ttotal: 390ms\tremaining: 66.2ms\n",
      "171:\tlearn: 0.3178642\ttotal: 392ms\tremaining: 63.9ms\n",
      "172:\tlearn: 0.3172455\ttotal: 395ms\tremaining: 61.6ms\n",
      "173:\tlearn: 0.3166261\ttotal: 397ms\tremaining: 59.3ms\n",
      "174:\tlearn: 0.3157320\ttotal: 399ms\tremaining: 56.9ms\n",
      "175:\tlearn: 0.3149761\ttotal: 401ms\tremaining: 54.6ms\n",
      "176:\tlearn: 0.3142430\ttotal: 403ms\tremaining: 52.3ms\n",
      "177:\tlearn: 0.3138263\ttotal: 405ms\tremaining: 50ms\n",
      "178:\tlearn: 0.3133229\ttotal: 407ms\tremaining: 47.7ms\n",
      "179:\tlearn: 0.3124656\ttotal: 409ms\tremaining: 45.4ms\n",
      "180:\tlearn: 0.3114844\ttotal: 411ms\tremaining: 43.2ms\n",
      "181:\tlearn: 0.3109799\ttotal: 413ms\tremaining: 40.9ms\n",
      "182:\tlearn: 0.3105137\ttotal: 415ms\tremaining: 38.6ms\n",
      "183:\tlearn: 0.3094123\ttotal: 417ms\tremaining: 36.3ms\n",
      "184:\tlearn: 0.3087045\ttotal: 420ms\tremaining: 34ms\n",
      "185:\tlearn: 0.3079423\ttotal: 422ms\tremaining: 31.8ms\n",
      "186:\tlearn: 0.3071831\ttotal: 424ms\tremaining: 29.5ms\n",
      "187:\tlearn: 0.3061123\ttotal: 427ms\tremaining: 27.2ms\n",
      "188:\tlearn: 0.3054302\ttotal: 429ms\tremaining: 25ms\n",
      "189:\tlearn: 0.3048047\ttotal: 431ms\tremaining: 22.7ms\n",
      "190:\tlearn: 0.3042241\ttotal: 434ms\tremaining: 20.4ms\n",
      "191:\tlearn: 0.3036602\ttotal: 436ms\tremaining: 18.2ms\n",
      "192:\tlearn: 0.3028507\ttotal: 438ms\tremaining: 15.9ms\n",
      "193:\tlearn: 0.3019733\ttotal: 440ms\tremaining: 13.6ms\n",
      "194:\tlearn: 0.3009586\ttotal: 443ms\tremaining: 11.3ms\n",
      "195:\tlearn: 0.3001835\ttotal: 445ms\tremaining: 9.08ms\n",
      "196:\tlearn: 0.2999266\ttotal: 447ms\tremaining: 6.8ms\n",
      "197:\tlearn: 0.2993811\ttotal: 449ms\tremaining: 4.53ms\n",
      "198:\tlearn: 0.2986293\ttotal: 451ms\tremaining: 2.26ms\n",
      "199:\tlearn: 0.2980044\ttotal: 453ms\tremaining: 0us\n"
     ]
    },
    {
     "data": {
      "text/html": [
       "<style>#sk-container-id-2 {color: black;}#sk-container-id-2 pre{padding: 0;}#sk-container-id-2 div.sk-toggleable {background-color: white;}#sk-container-id-2 label.sk-toggleable__label {cursor: pointer;display: block;width: 100%;margin-bottom: 0;padding: 0.3em;box-sizing: border-box;text-align: center;}#sk-container-id-2 label.sk-toggleable__label-arrow:before {content: \"▸\";float: left;margin-right: 0.25em;color: #696969;}#sk-container-id-2 label.sk-toggleable__label-arrow:hover:before {color: black;}#sk-container-id-2 div.sk-estimator:hover label.sk-toggleable__label-arrow:before {color: black;}#sk-container-id-2 div.sk-toggleable__content {max-height: 0;max-width: 0;overflow: hidden;text-align: left;background-color: #f0f8ff;}#sk-container-id-2 div.sk-toggleable__content pre {margin: 0.2em;color: black;border-radius: 0.25em;background-color: #f0f8ff;}#sk-container-id-2 input.sk-toggleable__control:checked~div.sk-toggleable__content {max-height: 200px;max-width: 100%;overflow: auto;}#sk-container-id-2 input.sk-toggleable__control:checked~label.sk-toggleable__label-arrow:before {content: \"▾\";}#sk-container-id-2 div.sk-estimator input.sk-toggleable__control:checked~label.sk-toggleable__label {background-color: #d4ebff;}#sk-container-id-2 div.sk-label input.sk-toggleable__control:checked~label.sk-toggleable__label {background-color: #d4ebff;}#sk-container-id-2 input.sk-hidden--visually {border: 0;clip: rect(1px 1px 1px 1px);clip: rect(1px, 1px, 1px, 1px);height: 1px;margin: -1px;overflow: hidden;padding: 0;position: absolute;width: 1px;}#sk-container-id-2 div.sk-estimator {font-family: monospace;background-color: #f0f8ff;border: 1px dotted black;border-radius: 0.25em;box-sizing: border-box;margin-bottom: 0.5em;}#sk-container-id-2 div.sk-estimator:hover {background-color: #d4ebff;}#sk-container-id-2 div.sk-parallel-item::after {content: \"\";width: 100%;border-bottom: 1px solid gray;flex-grow: 1;}#sk-container-id-2 div.sk-label:hover label.sk-toggleable__label {background-color: #d4ebff;}#sk-container-id-2 div.sk-serial::before {content: \"\";position: absolute;border-left: 1px solid gray;box-sizing: border-box;top: 0;bottom: 0;left: 50%;z-index: 0;}#sk-container-id-2 div.sk-serial {display: flex;flex-direction: column;align-items: center;background-color: white;padding-right: 0.2em;padding-left: 0.2em;position: relative;}#sk-container-id-2 div.sk-item {position: relative;z-index: 1;}#sk-container-id-2 div.sk-parallel {display: flex;align-items: stretch;justify-content: center;background-color: white;position: relative;}#sk-container-id-2 div.sk-item::before, #sk-container-id-2 div.sk-parallel-item::before {content: \"\";position: absolute;border-left: 1px solid gray;box-sizing: border-box;top: 0;bottom: 0;left: 50%;z-index: -1;}#sk-container-id-2 div.sk-parallel-item {display: flex;flex-direction: column;z-index: 1;position: relative;background-color: white;}#sk-container-id-2 div.sk-parallel-item:first-child::after {align-self: flex-end;width: 50%;}#sk-container-id-2 div.sk-parallel-item:last-child::after {align-self: flex-start;width: 50%;}#sk-container-id-2 div.sk-parallel-item:only-child::after {width: 0;}#sk-container-id-2 div.sk-dashed-wrapped {border: 1px dashed gray;margin: 0 0.4em 0.5em 0.4em;box-sizing: border-box;padding-bottom: 0.4em;background-color: white;}#sk-container-id-2 div.sk-label label {font-family: monospace;font-weight: bold;display: inline-block;line-height: 1.2em;}#sk-container-id-2 div.sk-label-container {text-align: center;}#sk-container-id-2 div.sk-container {/* jupyter's `normalize.less` sets `[hidden] { display: none; }` but bootstrap.min.css set `[hidden] { display: none !important; }` so we also need the `!important` here to be able to override the default hidden behavior on the sphinx rendered scikit-learn.org. See: https://github.com/scikit-learn/scikit-learn/issues/21755 */display: inline-block !important;position: relative;}#sk-container-id-2 div.sk-text-repr-fallback {display: none;}</style><div id=\"sk-container-id-2\" class=\"sk-top-container\"><div class=\"sk-text-repr-fallback\"><pre>GridSearchCV(cv=5,\n",
       "             estimator=&lt;catboost.core.CatBoostClassifier object at 0x0000022A65DB9790&gt;,\n",
       "             n_jobs=-1,\n",
       "             param_grid={&#x27;depth&#x27;: [3, 5, 8], &#x27;iterations&#x27;: [200, 500],\n",
       "                         &#x27;learning_rate&#x27;: [0.01, 0.05, 0.1]},\n",
       "             verbose=2)</pre><b>In a Jupyter environment, please rerun this cell to show the HTML representation or trust the notebook. <br />On GitHub, the HTML representation is unable to render, please try loading this page with nbviewer.org.</b></div><div class=\"sk-container\" hidden><div class=\"sk-item sk-dashed-wrapped\"><div class=\"sk-label-container\"><div class=\"sk-label sk-toggleable\"><input class=\"sk-toggleable__control sk-hidden--visually\" id=\"sk-estimator-id-4\" type=\"checkbox\" ><label for=\"sk-estimator-id-4\" class=\"sk-toggleable__label sk-toggleable__label-arrow\">GridSearchCV</label><div class=\"sk-toggleable__content\"><pre>GridSearchCV(cv=5,\n",
       "             estimator=&lt;catboost.core.CatBoostClassifier object at 0x0000022A65DB9790&gt;,\n",
       "             n_jobs=-1,\n",
       "             param_grid={&#x27;depth&#x27;: [3, 5, 8], &#x27;iterations&#x27;: [200, 500],\n",
       "                         &#x27;learning_rate&#x27;: [0.01, 0.05, 0.1]},\n",
       "             verbose=2)</pre></div></div></div><div class=\"sk-parallel\"><div class=\"sk-parallel-item\"><div class=\"sk-item\"><div class=\"sk-label-container\"><div class=\"sk-label sk-toggleable\"><input class=\"sk-toggleable__control sk-hidden--visually\" id=\"sk-estimator-id-5\" type=\"checkbox\" ><label for=\"sk-estimator-id-5\" class=\"sk-toggleable__label sk-toggleable__label-arrow\">estimator: CatBoostClassifier</label><div class=\"sk-toggleable__content\"><pre>&lt;catboost.core.CatBoostClassifier object at 0x0000022A65DB9790&gt;</pre></div></div></div><div class=\"sk-serial\"><div class=\"sk-item\"><div class=\"sk-estimator sk-toggleable\"><input class=\"sk-toggleable__control sk-hidden--visually\" id=\"sk-estimator-id-6\" type=\"checkbox\" ><label for=\"sk-estimator-id-6\" class=\"sk-toggleable__label sk-toggleable__label-arrow\">CatBoostClassifier</label><div class=\"sk-toggleable__content\"><pre>&lt;catboost.core.CatBoostClassifier object at 0x0000022A65DB9790&gt;</pre></div></div></div></div></div></div></div></div></div></div>"
      ],
      "text/plain": [
       "GridSearchCV(cv=5,\n",
       "             estimator=<catboost.core.CatBoostClassifier object at 0x0000022A65DB9790>,\n",
       "             n_jobs=-1,\n",
       "             param_grid={'depth': [3, 5, 8], 'iterations': [200, 500],\n",
       "                         'learning_rate': [0.01, 0.05, 0.1]},\n",
       "             verbose=2)"
      ]
     },
     "execution_count": 59,
     "metadata": {},
     "output_type": "execute_result"
    }
   ],
   "source": [
    "catb = CatBoostClassifier()\n",
    "catb_cv_model = GridSearchCV(catb, catb_params, \n",
    "                             cv=5, \n",
    "                             n_jobs=-1, \n",
    "                             verbose=2)\n",
    "catb_cv_model.fit(X_train, y_train)"
   ]
  },
  {
   "cell_type": "code",
   "execution_count": 61,
   "id": "71096618-188d-4cb1-acfd-96557d248b17",
   "metadata": {
    "tags": []
   },
   "outputs": [
    {
     "data": {
      "text/plain": [
       "{'depth': 8, 'iterations': 200, 'learning_rate': 0.01}"
      ]
     },
     "execution_count": 61,
     "metadata": {},
     "output_type": "execute_result"
    }
   ],
   "source": [
    "catb_cv_model.best_params_"
   ]
  },
  {
   "cell_type": "code",
   "execution_count": 63,
   "id": "02572f18-e30a-4760-a324-8cc6e3cd27d2",
   "metadata": {
    "collapsed": true,
    "jupyter": {
     "outputs_hidden": true
    },
    "tags": []
   },
   "outputs": [
    {
     "name": "stdout",
     "output_type": "stream",
     "text": [
      "0:\tlearn: 0.6863312\ttotal: 2.73ms\tremaining: 543ms\n",
      "1:\tlearn: 0.6811157\ttotal: 5.03ms\tremaining: 498ms\n",
      "2:\tlearn: 0.6752970\ttotal: 7.07ms\tremaining: 465ms\n",
      "3:\tlearn: 0.6697432\ttotal: 9.56ms\tremaining: 469ms\n",
      "4:\tlearn: 0.6641758\ttotal: 11.6ms\tremaining: 453ms\n",
      "5:\tlearn: 0.6576656\ttotal: 13.5ms\tremaining: 438ms\n",
      "6:\tlearn: 0.6521870\ttotal: 15.7ms\tremaining: 432ms\n",
      "7:\tlearn: 0.6465564\ttotal: 17.8ms\tremaining: 428ms\n",
      "8:\tlearn: 0.6407595\ttotal: 19.9ms\tremaining: 422ms\n",
      "9:\tlearn: 0.6357725\ttotal: 22.6ms\tremaining: 430ms\n",
      "10:\tlearn: 0.6299942\ttotal: 24.9ms\tremaining: 427ms\n",
      "11:\tlearn: 0.6240480\ttotal: 27.7ms\tremaining: 435ms\n",
      "12:\tlearn: 0.6196095\ttotal: 30.1ms\tremaining: 433ms\n",
      "13:\tlearn: 0.6148715\ttotal: 32.9ms\tremaining: 437ms\n",
      "14:\tlearn: 0.6092626\ttotal: 35.4ms\tremaining: 436ms\n",
      "15:\tlearn: 0.6046764\ttotal: 37.4ms\tremaining: 430ms\n",
      "16:\tlearn: 0.6012725\ttotal: 40.1ms\tremaining: 431ms\n",
      "17:\tlearn: 0.5958121\ttotal: 42.1ms\tremaining: 425ms\n",
      "18:\tlearn: 0.5903243\ttotal: 44.2ms\tremaining: 421ms\n",
      "19:\tlearn: 0.5866024\ttotal: 46.2ms\tremaining: 416ms\n",
      "20:\tlearn: 0.5831390\ttotal: 50.3ms\tremaining: 429ms\n",
      "21:\tlearn: 0.5787381\ttotal: 52.4ms\tremaining: 424ms\n",
      "22:\tlearn: 0.5749016\ttotal: 54.4ms\tremaining: 419ms\n",
      "23:\tlearn: 0.5703199\ttotal: 56.2ms\tremaining: 412ms\n",
      "24:\tlearn: 0.5662368\ttotal: 58.4ms\tremaining: 409ms\n",
      "25:\tlearn: 0.5628682\ttotal: 60.3ms\tremaining: 404ms\n",
      "26:\tlearn: 0.5589082\ttotal: 62.3ms\tremaining: 399ms\n",
      "27:\tlearn: 0.5543910\ttotal: 64.3ms\tremaining: 395ms\n",
      "28:\tlearn: 0.5503864\ttotal: 66.3ms\tremaining: 391ms\n",
      "29:\tlearn: 0.5470574\ttotal: 68.2ms\tremaining: 387ms\n",
      "30:\tlearn: 0.5441267\ttotal: 70.1ms\tremaining: 382ms\n",
      "31:\tlearn: 0.5396280\ttotal: 72.4ms\tremaining: 380ms\n",
      "32:\tlearn: 0.5356242\ttotal: 74.5ms\tremaining: 377ms\n",
      "33:\tlearn: 0.5315397\ttotal: 76.9ms\tremaining: 376ms\n",
      "34:\tlearn: 0.5279847\ttotal: 79.1ms\tremaining: 373ms\n",
      "35:\tlearn: 0.5248380\ttotal: 81.3ms\tremaining: 370ms\n",
      "36:\tlearn: 0.5223885\ttotal: 83.2ms\tremaining: 367ms\n",
      "37:\tlearn: 0.5198269\ttotal: 85.6ms\tremaining: 365ms\n",
      "38:\tlearn: 0.5167431\ttotal: 87.5ms\tremaining: 361ms\n",
      "39:\tlearn: 0.5138833\ttotal: 89.2ms\tremaining: 357ms\n",
      "40:\tlearn: 0.5101494\ttotal: 91.1ms\tremaining: 353ms\n",
      "41:\tlearn: 0.5066102\ttotal: 93ms\tremaining: 350ms\n",
      "42:\tlearn: 0.5033714\ttotal: 95ms\tremaining: 347ms\n",
      "43:\tlearn: 0.5005898\ttotal: 96.9ms\tremaining: 344ms\n",
      "44:\tlearn: 0.4980703\ttotal: 98.7ms\tremaining: 340ms\n",
      "45:\tlearn: 0.4959251\ttotal: 101ms\tremaining: 338ms\n",
      "46:\tlearn: 0.4933987\ttotal: 103ms\tremaining: 334ms\n",
      "47:\tlearn: 0.4906194\ttotal: 105ms\tremaining: 331ms\n",
      "48:\tlearn: 0.4878359\ttotal: 106ms\tremaining: 328ms\n",
      "49:\tlearn: 0.4850755\ttotal: 108ms\tremaining: 325ms\n",
      "50:\tlearn: 0.4825927\ttotal: 110ms\tremaining: 322ms\n",
      "51:\tlearn: 0.4798298\ttotal: 112ms\tremaining: 319ms\n",
      "52:\tlearn: 0.4776108\ttotal: 114ms\tremaining: 316ms\n",
      "53:\tlearn: 0.4754405\ttotal: 116ms\tremaining: 313ms\n",
      "54:\tlearn: 0.4733501\ttotal: 118ms\tremaining: 311ms\n",
      "55:\tlearn: 0.4706076\ttotal: 120ms\tremaining: 309ms\n",
      "56:\tlearn: 0.4677355\ttotal: 122ms\tremaining: 307ms\n",
      "57:\tlearn: 0.4656740\ttotal: 125ms\tremaining: 305ms\n",
      "58:\tlearn: 0.4637413\ttotal: 126ms\tremaining: 302ms\n",
      "59:\tlearn: 0.4615248\ttotal: 129ms\tremaining: 300ms\n",
      "60:\tlearn: 0.4599759\ttotal: 130ms\tremaining: 297ms\n",
      "61:\tlearn: 0.4583985\ttotal: 131ms\tremaining: 292ms\n",
      "62:\tlearn: 0.4567064\ttotal: 133ms\tremaining: 290ms\n",
      "63:\tlearn: 0.4540942\ttotal: 135ms\tremaining: 287ms\n",
      "64:\tlearn: 0.4529822\ttotal: 136ms\tremaining: 282ms\n",
      "65:\tlearn: 0.4512090\ttotal: 138ms\tremaining: 280ms\n",
      "66:\tlearn: 0.4486739\ttotal: 140ms\tremaining: 277ms\n",
      "67:\tlearn: 0.4467865\ttotal: 142ms\tremaining: 275ms\n",
      "68:\tlearn: 0.4449614\ttotal: 144ms\tremaining: 273ms\n",
      "69:\tlearn: 0.4426120\ttotal: 146ms\tremaining: 270ms\n",
      "70:\tlearn: 0.4401612\ttotal: 147ms\tremaining: 268ms\n",
      "71:\tlearn: 0.4380696\ttotal: 149ms\tremaining: 265ms\n",
      "72:\tlearn: 0.4367153\ttotal: 151ms\tremaining: 263ms\n",
      "73:\tlearn: 0.4353223\ttotal: 153ms\tremaining: 261ms\n",
      "74:\tlearn: 0.4339943\ttotal: 155ms\tremaining: 259ms\n",
      "75:\tlearn: 0.4315641\ttotal: 158ms\tremaining: 257ms\n",
      "76:\tlearn: 0.4298680\ttotal: 160ms\tremaining: 255ms\n",
      "77:\tlearn: 0.4285275\ttotal: 162ms\tremaining: 253ms\n",
      "78:\tlearn: 0.4265791\ttotal: 164ms\tremaining: 251ms\n",
      "79:\tlearn: 0.4244024\ttotal: 166ms\tremaining: 248ms\n",
      "80:\tlearn: 0.4228361\ttotal: 167ms\tremaining: 246ms\n",
      "81:\tlearn: 0.4214212\ttotal: 169ms\tremaining: 244ms\n",
      "82:\tlearn: 0.4200602\ttotal: 171ms\tremaining: 241ms\n",
      "83:\tlearn: 0.4184320\ttotal: 173ms\tremaining: 239ms\n",
      "84:\tlearn: 0.4167986\ttotal: 175ms\tremaining: 237ms\n",
      "85:\tlearn: 0.4156404\ttotal: 177ms\tremaining: 234ms\n",
      "86:\tlearn: 0.4140656\ttotal: 179ms\tremaining: 232ms\n",
      "87:\tlearn: 0.4124223\ttotal: 181ms\tremaining: 230ms\n",
      "88:\tlearn: 0.4107329\ttotal: 183ms\tremaining: 228ms\n",
      "89:\tlearn: 0.4090922\ttotal: 184ms\tremaining: 225ms\n",
      "90:\tlearn: 0.4075416\ttotal: 186ms\tremaining: 223ms\n",
      "91:\tlearn: 0.4062399\ttotal: 188ms\tremaining: 221ms\n",
      "92:\tlearn: 0.4044658\ttotal: 191ms\tremaining: 219ms\n",
      "93:\tlearn: 0.4030179\ttotal: 193ms\tremaining: 217ms\n",
      "94:\tlearn: 0.4012034\ttotal: 195ms\tremaining: 215ms\n",
      "95:\tlearn: 0.3994677\ttotal: 197ms\tremaining: 214ms\n",
      "96:\tlearn: 0.3983236\ttotal: 200ms\tremaining: 212ms\n",
      "97:\tlearn: 0.3969830\ttotal: 202ms\tremaining: 210ms\n",
      "98:\tlearn: 0.3955620\ttotal: 204ms\tremaining: 208ms\n",
      "99:\tlearn: 0.3946122\ttotal: 206ms\tremaining: 206ms\n",
      "100:\tlearn: 0.3932345\ttotal: 209ms\tremaining: 205ms\n",
      "101:\tlearn: 0.3920746\ttotal: 211ms\tremaining: 202ms\n",
      "102:\tlearn: 0.3911707\ttotal: 213ms\tremaining: 200ms\n",
      "103:\tlearn: 0.3895752\ttotal: 215ms\tremaining: 198ms\n",
      "104:\tlearn: 0.3880976\ttotal: 217ms\tremaining: 196ms\n",
      "105:\tlearn: 0.3867508\ttotal: 219ms\tremaining: 194ms\n",
      "106:\tlearn: 0.3855281\ttotal: 221ms\tremaining: 192ms\n",
      "107:\tlearn: 0.3841015\ttotal: 223ms\tremaining: 190ms\n",
      "108:\tlearn: 0.3829276\ttotal: 225ms\tremaining: 188ms\n",
      "109:\tlearn: 0.3818795\ttotal: 227ms\tremaining: 186ms\n",
      "110:\tlearn: 0.3809667\ttotal: 229ms\tremaining: 184ms\n",
      "111:\tlearn: 0.3790017\ttotal: 231ms\tremaining: 182ms\n",
      "112:\tlearn: 0.3774333\ttotal: 233ms\tremaining: 179ms\n",
      "113:\tlearn: 0.3762372\ttotal: 235ms\tremaining: 177ms\n",
      "114:\tlearn: 0.3750418\ttotal: 237ms\tremaining: 175ms\n",
      "115:\tlearn: 0.3735203\ttotal: 239ms\tremaining: 173ms\n",
      "116:\tlearn: 0.3727671\ttotal: 241ms\tremaining: 171ms\n",
      "117:\tlearn: 0.3713847\ttotal: 243ms\tremaining: 169ms\n",
      "118:\tlearn: 0.3705588\ttotal: 245ms\tremaining: 167ms\n",
      "119:\tlearn: 0.3694386\ttotal: 247ms\tremaining: 165ms\n",
      "120:\tlearn: 0.3687438\ttotal: 249ms\tremaining: 163ms\n",
      "121:\tlearn: 0.3679429\ttotal: 251ms\tremaining: 160ms\n",
      "122:\tlearn: 0.3666192\ttotal: 253ms\tremaining: 158ms\n",
      "123:\tlearn: 0.3654787\ttotal: 255ms\tremaining: 156ms\n",
      "124:\tlearn: 0.3643185\ttotal: 257ms\tremaining: 154ms\n",
      "125:\tlearn: 0.3636195\ttotal: 259ms\tremaining: 152ms\n",
      "126:\tlearn: 0.3625184\ttotal: 261ms\tremaining: 150ms\n",
      "127:\tlearn: 0.3609778\ttotal: 263ms\tremaining: 148ms\n",
      "128:\tlearn: 0.3595979\ttotal: 265ms\tremaining: 146ms\n",
      "129:\tlearn: 0.3583702\ttotal: 267ms\tremaining: 144ms\n",
      "130:\tlearn: 0.3569225\ttotal: 269ms\tremaining: 142ms\n",
      "131:\tlearn: 0.3558535\ttotal: 271ms\tremaining: 139ms\n",
      "132:\tlearn: 0.3548312\ttotal: 272ms\tremaining: 137ms\n",
      "133:\tlearn: 0.3533459\ttotal: 274ms\tremaining: 135ms\n",
      "134:\tlearn: 0.3524239\ttotal: 276ms\tremaining: 133ms\n",
      "135:\tlearn: 0.3517958\ttotal: 278ms\tremaining: 131ms\n",
      "136:\tlearn: 0.3504984\ttotal: 280ms\tremaining: 129ms\n",
      "137:\tlearn: 0.3497339\ttotal: 282ms\tremaining: 127ms\n",
      "138:\tlearn: 0.3488643\ttotal: 284ms\tremaining: 125ms\n",
      "139:\tlearn: 0.3482265\ttotal: 286ms\tremaining: 123ms\n",
      "140:\tlearn: 0.3470774\ttotal: 288ms\tremaining: 120ms\n",
      "141:\tlearn: 0.3458237\ttotal: 290ms\tremaining: 118ms\n",
      "142:\tlearn: 0.3445470\ttotal: 291ms\tremaining: 116ms\n",
      "143:\tlearn: 0.3436377\ttotal: 293ms\tremaining: 114ms\n",
      "144:\tlearn: 0.3426585\ttotal: 295ms\tremaining: 112ms\n",
      "145:\tlearn: 0.3417233\ttotal: 297ms\tremaining: 110ms\n",
      "146:\tlearn: 0.3407541\ttotal: 299ms\tremaining: 108ms\n",
      "147:\tlearn: 0.3397798\ttotal: 301ms\tremaining: 106ms\n",
      "148:\tlearn: 0.3390128\ttotal: 303ms\tremaining: 104ms\n",
      "149:\tlearn: 0.3381272\ttotal: 305ms\tremaining: 102ms\n",
      "150:\tlearn: 0.3374740\ttotal: 307ms\tremaining: 99.5ms\n",
      "151:\tlearn: 0.3365500\ttotal: 309ms\tremaining: 97.6ms\n",
      "152:\tlearn: 0.3358489\ttotal: 311ms\tremaining: 95.5ms\n",
      "153:\tlearn: 0.3346096\ttotal: 313ms\tremaining: 93.5ms\n",
      "154:\tlearn: 0.3335622\ttotal: 315ms\tremaining: 91.4ms\n",
      "155:\tlearn: 0.3330435\ttotal: 317ms\tremaining: 89.4ms\n",
      "156:\tlearn: 0.3323843\ttotal: 319ms\tremaining: 87.3ms\n",
      "157:\tlearn: 0.3312172\ttotal: 321ms\tremaining: 85.3ms\n",
      "158:\tlearn: 0.3299437\ttotal: 323ms\tremaining: 83.2ms\n",
      "159:\tlearn: 0.3286515\ttotal: 325ms\tremaining: 81.2ms\n",
      "160:\tlearn: 0.3275885\ttotal: 327ms\tremaining: 79.2ms\n",
      "161:\tlearn: 0.3266739\ttotal: 329ms\tremaining: 77.1ms\n",
      "162:\tlearn: 0.3258986\ttotal: 331ms\tremaining: 75ms\n",
      "163:\tlearn: 0.3249133\ttotal: 333ms\tremaining: 73ms\n",
      "164:\tlearn: 0.3241480\ttotal: 335ms\tremaining: 71.1ms\n",
      "165:\tlearn: 0.3237404\ttotal: 337ms\tremaining: 69.1ms\n",
      "166:\tlearn: 0.3228217\ttotal: 339ms\tremaining: 67ms\n",
      "167:\tlearn: 0.3218088\ttotal: 341ms\tremaining: 65ms\n",
      "168:\tlearn: 0.3209179\ttotal: 343ms\tremaining: 62.9ms\n",
      "169:\tlearn: 0.3200101\ttotal: 345ms\tremaining: 60.8ms\n",
      "170:\tlearn: 0.3188984\ttotal: 347ms\tremaining: 58.8ms\n",
      "171:\tlearn: 0.3178642\ttotal: 348ms\tremaining: 56.7ms\n",
      "172:\tlearn: 0.3172455\ttotal: 351ms\tremaining: 54.7ms\n",
      "173:\tlearn: 0.3166261\ttotal: 352ms\tremaining: 52.7ms\n",
      "174:\tlearn: 0.3157320\ttotal: 354ms\tremaining: 50.6ms\n",
      "175:\tlearn: 0.3149761\ttotal: 356ms\tremaining: 48.6ms\n",
      "176:\tlearn: 0.3142430\ttotal: 358ms\tremaining: 46.5ms\n",
      "177:\tlearn: 0.3138263\ttotal: 360ms\tremaining: 44.5ms\n",
      "178:\tlearn: 0.3133229\ttotal: 362ms\tremaining: 42.5ms\n",
      "179:\tlearn: 0.3124656\ttotal: 364ms\tremaining: 40.4ms\n",
      "180:\tlearn: 0.3114844\ttotal: 366ms\tremaining: 38.4ms\n",
      "181:\tlearn: 0.3109799\ttotal: 368ms\tremaining: 36.4ms\n",
      "182:\tlearn: 0.3105137\ttotal: 369ms\tremaining: 34.3ms\n",
      "183:\tlearn: 0.3094123\ttotal: 371ms\tremaining: 32.3ms\n",
      "184:\tlearn: 0.3087045\ttotal: 373ms\tremaining: 30.3ms\n",
      "185:\tlearn: 0.3079423\ttotal: 375ms\tremaining: 28.2ms\n",
      "186:\tlearn: 0.3071831\ttotal: 377ms\tremaining: 26.2ms\n",
      "187:\tlearn: 0.3061123\ttotal: 379ms\tremaining: 24.2ms\n",
      "188:\tlearn: 0.3054302\ttotal: 381ms\tremaining: 22.2ms\n",
      "189:\tlearn: 0.3048047\ttotal: 383ms\tremaining: 20.2ms\n",
      "190:\tlearn: 0.3042241\ttotal: 385ms\tremaining: 18.1ms\n",
      "191:\tlearn: 0.3036602\ttotal: 387ms\tremaining: 16.1ms\n",
      "192:\tlearn: 0.3028507\ttotal: 389ms\tremaining: 14.1ms\n",
      "193:\tlearn: 0.3019733\ttotal: 392ms\tremaining: 12.1ms\n",
      "194:\tlearn: 0.3009586\ttotal: 394ms\tremaining: 10.1ms\n",
      "195:\tlearn: 0.3001835\ttotal: 396ms\tremaining: 8.08ms\n",
      "196:\tlearn: 0.2999266\ttotal: 398ms\tremaining: 6.06ms\n",
      "197:\tlearn: 0.2993811\ttotal: 400ms\tremaining: 4.04ms\n",
      "198:\tlearn: 0.2986293\ttotal: 402ms\tremaining: 2.02ms\n",
      "199:\tlearn: 0.2980044\ttotal: 404ms\tremaining: 0us\n"
     ]
    }
   ],
   "source": [
    "catb = CatBoostClassifier(iterations=200, \n",
    "                          learning_rate=0.01, \n",
    "                          depth=8)\n",
    "\n",
    "catb_tuned = catb.fit(X_train, y_train)\n",
    "y_pred = catb_tuned.predict(X_test)"
   ]
  },
  {
   "cell_type": "code",
   "execution_count": 65,
   "id": "a01e003b-f203-47d4-a926-664e960b41e7",
   "metadata": {
    "tags": []
   },
   "outputs": [
    {
     "data": {
      "text/plain": [
       "0.7532467532467533"
      ]
     },
     "execution_count": 65,
     "metadata": {},
     "output_type": "execute_result"
    }
   ],
   "source": [
    "accuracy_score(y_test, y_pred)"
   ]
  }
 ],
 "metadata": {
  "kernelspec": {
   "display_name": "Python 3 (ipykernel)",
   "language": "python",
   "name": "python3"
  },
  "language_info": {
   "codemirror_mode": {
    "name": "ipython",
    "version": 3
   },
   "file_extension": ".py",
   "mimetype": "text/x-python",
   "name": "python",
   "nbconvert_exporter": "python",
   "pygments_lexer": "ipython3",
   "version": "3.12.7"
  }
 },
 "nbformat": 4,
 "nbformat_minor": 5
}
