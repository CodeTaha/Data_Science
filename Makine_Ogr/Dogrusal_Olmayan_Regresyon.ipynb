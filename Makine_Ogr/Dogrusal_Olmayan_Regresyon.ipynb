{
 "cells": [
  {
   "cell_type": "markdown",
   "id": "359c83e7-7391-43c1-8ac1-f47246bdc039",
   "metadata": {},
   "source": [
    "# Doğrusal Olmayan Regresyon Modelleri"
   ]
  },
  {
   "cell_type": "code",
   "execution_count": 1,
   "id": "cee848f7-473f-44df-a0ee-6e14faa3aef9",
   "metadata": {
    "tags": []
   },
   "outputs": [],
   "source": [
    "import numpy as np\n",
    "import pandas as pd\n",
    "from sklearn.model_selection import train_test_split, ShuffleSplit, GridSearchCV, cross_val_score\n",
    "from sklearn.metrics import mean_squared_error, r2_score\n",
    "import matplotlib.pyplot as plt\n",
    "from sklearn import model_selection\n",
    "from sklearn.tree import DecisionTreeRegressor, DecisionTreeClassifier\n",
    "from sklearn.neighbors import KNeighborsRegressor\n",
    "from sklearn.ensemble import BaggingRegressor"
   ]
  },
  {
   "cell_type": "markdown",
   "id": "c2de79dd-1956-4756-bb38-6fff9d79e9b1",
   "metadata": {},
   "source": [
    "# KNN"
   ]
  },
  {
   "cell_type": "code",
   "execution_count": 2,
   "id": "c08a16c4-80a9-4401-98f7-9c018462fdbf",
   "metadata": {
    "tags": []
   },
   "outputs": [],
   "source": [
    "hit = pd.read_csv(\"Hitters.csv\")\n",
    "df = hit.copy()\n",
    "df = df.dropna()\n",
    "dms = pd.get_dummies(df[['League', 'Division', 'NewLeague']])\n",
    "y = df[\"Salary\"]\n",
    "X_ = df.drop(['Salary', 'League', 'Division', 'NewLeague'], axis = 1).astype('float64')\n",
    "X = pd.concat([X_, dms[['League_N', 'Division_W', 'NewLeague_N']]], axis = 1)\n",
    "X_train, X_test, y_train, y_test = train_test_split(X, y, test_size=0.25, random_state=42)"
   ]
  },
  {
   "cell_type": "code",
   "execution_count": 3,
   "id": "e739c510-3338-4aeb-b6a2-e51b4f4b2eea",
   "metadata": {
    "tags": []
   },
   "outputs": [],
   "source": [
    "knn_model = KNeighborsRegressor().fit(X_train, y_train)"
   ]
  },
  {
   "cell_type": "code",
   "execution_count": 4,
   "id": "4f91b151-05ea-4221-b8ef-06181615085b",
   "metadata": {
    "tags": []
   },
   "outputs": [
    {
     "data": {
      "text/html": [
       "<style>#sk-container-id-1 {color: black;}#sk-container-id-1 pre{padding: 0;}#sk-container-id-1 div.sk-toggleable {background-color: white;}#sk-container-id-1 label.sk-toggleable__label {cursor: pointer;display: block;width: 100%;margin-bottom: 0;padding: 0.3em;box-sizing: border-box;text-align: center;}#sk-container-id-1 label.sk-toggleable__label-arrow:before {content: \"▸\";float: left;margin-right: 0.25em;color: #696969;}#sk-container-id-1 label.sk-toggleable__label-arrow:hover:before {color: black;}#sk-container-id-1 div.sk-estimator:hover label.sk-toggleable__label-arrow:before {color: black;}#sk-container-id-1 div.sk-toggleable__content {max-height: 0;max-width: 0;overflow: hidden;text-align: left;background-color: #f0f8ff;}#sk-container-id-1 div.sk-toggleable__content pre {margin: 0.2em;color: black;border-radius: 0.25em;background-color: #f0f8ff;}#sk-container-id-1 input.sk-toggleable__control:checked~div.sk-toggleable__content {max-height: 200px;max-width: 100%;overflow: auto;}#sk-container-id-1 input.sk-toggleable__control:checked~label.sk-toggleable__label-arrow:before {content: \"▾\";}#sk-container-id-1 div.sk-estimator input.sk-toggleable__control:checked~label.sk-toggleable__label {background-color: #d4ebff;}#sk-container-id-1 div.sk-label input.sk-toggleable__control:checked~label.sk-toggleable__label {background-color: #d4ebff;}#sk-container-id-1 input.sk-hidden--visually {border: 0;clip: rect(1px 1px 1px 1px);clip: rect(1px, 1px, 1px, 1px);height: 1px;margin: -1px;overflow: hidden;padding: 0;position: absolute;width: 1px;}#sk-container-id-1 div.sk-estimator {font-family: monospace;background-color: #f0f8ff;border: 1px dotted black;border-radius: 0.25em;box-sizing: border-box;margin-bottom: 0.5em;}#sk-container-id-1 div.sk-estimator:hover {background-color: #d4ebff;}#sk-container-id-1 div.sk-parallel-item::after {content: \"\";width: 100%;border-bottom: 1px solid gray;flex-grow: 1;}#sk-container-id-1 div.sk-label:hover label.sk-toggleable__label {background-color: #d4ebff;}#sk-container-id-1 div.sk-serial::before {content: \"\";position: absolute;border-left: 1px solid gray;box-sizing: border-box;top: 0;bottom: 0;left: 50%;z-index: 0;}#sk-container-id-1 div.sk-serial {display: flex;flex-direction: column;align-items: center;background-color: white;padding-right: 0.2em;padding-left: 0.2em;position: relative;}#sk-container-id-1 div.sk-item {position: relative;z-index: 1;}#sk-container-id-1 div.sk-parallel {display: flex;align-items: stretch;justify-content: center;background-color: white;position: relative;}#sk-container-id-1 div.sk-item::before, #sk-container-id-1 div.sk-parallel-item::before {content: \"\";position: absolute;border-left: 1px solid gray;box-sizing: border-box;top: 0;bottom: 0;left: 50%;z-index: -1;}#sk-container-id-1 div.sk-parallel-item {display: flex;flex-direction: column;z-index: 1;position: relative;background-color: white;}#sk-container-id-1 div.sk-parallel-item:first-child::after {align-self: flex-end;width: 50%;}#sk-container-id-1 div.sk-parallel-item:last-child::after {align-self: flex-start;width: 50%;}#sk-container-id-1 div.sk-parallel-item:only-child::after {width: 0;}#sk-container-id-1 div.sk-dashed-wrapped {border: 1px dashed gray;margin: 0 0.4em 0.5em 0.4em;box-sizing: border-box;padding-bottom: 0.4em;background-color: white;}#sk-container-id-1 div.sk-label label {font-family: monospace;font-weight: bold;display: inline-block;line-height: 1.2em;}#sk-container-id-1 div.sk-label-container {text-align: center;}#sk-container-id-1 div.sk-container {/* jupyter's `normalize.less` sets `[hidden] { display: none; }` but bootstrap.min.css set `[hidden] { display: none !important; }` so we also need the `!important` here to be able to override the default hidden behavior on the sphinx rendered scikit-learn.org. See: https://github.com/scikit-learn/scikit-learn/issues/21755 */display: inline-block !important;position: relative;}#sk-container-id-1 div.sk-text-repr-fallback {display: none;}</style><div id=\"sk-container-id-1\" class=\"sk-top-container\"><div class=\"sk-text-repr-fallback\"><pre>KNeighborsRegressor()</pre><b>In a Jupyter environment, please rerun this cell to show the HTML representation or trust the notebook. <br />On GitHub, the HTML representation is unable to render, please try loading this page with nbviewer.org.</b></div><div class=\"sk-container\" hidden><div class=\"sk-item\"><div class=\"sk-estimator sk-toggleable\"><input class=\"sk-toggleable__control sk-hidden--visually\" id=\"sk-estimator-id-1\" type=\"checkbox\" checked><label for=\"sk-estimator-id-1\" class=\"sk-toggleable__label sk-toggleable__label-arrow\">KNeighborsRegressor</label><div class=\"sk-toggleable__content\"><pre>KNeighborsRegressor()</pre></div></div></div></div></div>"
      ],
      "text/plain": [
       "KNeighborsRegressor()"
      ]
     },
     "execution_count": 4,
     "metadata": {},
     "output_type": "execute_result"
    }
   ],
   "source": [
    "knn_model"
   ]
  },
  {
   "cell_type": "code",
   "execution_count": 5,
   "id": "357c0d98-4e65-418b-a379-ee0a7a55f09b",
   "metadata": {
    "tags": []
   },
   "outputs": [
    {
     "data": {
      "text/plain": [
       "5"
      ]
     },
     "execution_count": 5,
     "metadata": {},
     "output_type": "execute_result"
    }
   ],
   "source": [
    "knn_model.n_neighbors"
   ]
  },
  {
   "cell_type": "markdown",
   "id": "b7cae51b-98cd-4ac7-8233-f0fa76ac5432",
   "metadata": {},
   "source": [
    "# Tahmin"
   ]
  },
  {
   "cell_type": "code",
   "execution_count": 6,
   "id": "84b04fcd-300a-4ae0-b129-6fcfed0bb9f9",
   "metadata": {
    "tags": []
   },
   "outputs": [],
   "source": [
    "y_pred = knn_model.predict(X_test)"
   ]
  },
  {
   "cell_type": "code",
   "execution_count": 7,
   "id": "439a7ae1-b016-4052-b87e-871dc4ae49b2",
   "metadata": {
    "tags": []
   },
   "outputs": [
    {
     "data": {
      "text/plain": [
       "426.6570764525201"
      ]
     },
     "execution_count": 7,
     "metadata": {},
     "output_type": "execute_result"
    }
   ],
   "source": [
    "np.sqrt(mean_squared_error(y_test, y_pred))"
   ]
  },
  {
   "cell_type": "code",
   "execution_count": 8,
   "id": "13785d19-c611-4777-b113-32c71f3058a3",
   "metadata": {
    "tags": []
   },
   "outputs": [
    {
     "name": "stdout",
     "output_type": "stream",
     "text": [
      "k = 1 için RMSE değeri:  0.0\n",
      "k = 2 için RMSE değeri:  179.52761335480352\n",
      "k = 3 için RMSE değeri:  205.20157172291863\n",
      "k = 4 için RMSE değeri:  220.5139794876305\n",
      "k = 5 için RMSE değeri:  239.6467132541376\n",
      "k = 6 için RMSE değeri:  243.5904190007242\n",
      "k = 7 için RMSE değeri:  258.1478781634636\n",
      "k = 8 için RMSE değeri:  266.05374203349805\n",
      "k = 9 için RMSE değeri:  269.73782093553376\n",
      "k = 10 için RMSE değeri:  271.2798300436963\n"
     ]
    }
   ],
   "source": [
    "RMSE = []\n",
    "\n",
    "for k in range(10):\n",
    "    k = k + 1\n",
    "    knn_model = KNeighborsRegressor(n_neighbors=k).fit(X_train, y_train)\n",
    "    y_pred = knn_model.predict(X_train)\n",
    "    rmse = np.sqrt(mean_squared_error(y_train, y_pred))\n",
    "    RMSE.append(rmse)\n",
    "    print(\"k =\", k, \"için RMSE değeri: \", rmse)"
   ]
  },
  {
   "cell_type": "markdown",
   "id": "1b083c1f-c9aa-4c42-8c56-5d129c4e5227",
   "metadata": {},
   "source": [
    "# Model Tuning"
   ]
  },
  {
   "cell_type": "code",
   "execution_count": 9,
   "id": "6c2e52eb-ebfc-4a9f-8957-664b40146a3c",
   "metadata": {
    "tags": []
   },
   "outputs": [],
   "source": [
    "knn_params = {'n_neighbors' : np.arange(1,30,1)}"
   ]
  },
  {
   "cell_type": "code",
   "execution_count": 10,
   "id": "4ec33ef9-e828-4b25-926d-587312fe99d3",
   "metadata": {
    "tags": []
   },
   "outputs": [],
   "source": [
    "knn = KNeighborsRegressor()"
   ]
  },
  {
   "cell_type": "code",
   "execution_count": 11,
   "id": "a3a0fc74-8033-4b9b-b08f-6c56f556c362",
   "metadata": {
    "tags": []
   },
   "outputs": [],
   "source": [
    "knn_cv_model = GridSearchCV(knn, knn_params, cv = 10)"
   ]
  },
  {
   "cell_type": "code",
   "execution_count": 12,
   "id": "18136b40-aed2-4cec-8fac-facee708bf54",
   "metadata": {
    "tags": []
   },
   "outputs": [
    {
     "data": {
      "text/html": [
       "<style>#sk-container-id-2 {color: black;}#sk-container-id-2 pre{padding: 0;}#sk-container-id-2 div.sk-toggleable {background-color: white;}#sk-container-id-2 label.sk-toggleable__label {cursor: pointer;display: block;width: 100%;margin-bottom: 0;padding: 0.3em;box-sizing: border-box;text-align: center;}#sk-container-id-2 label.sk-toggleable__label-arrow:before {content: \"▸\";float: left;margin-right: 0.25em;color: #696969;}#sk-container-id-2 label.sk-toggleable__label-arrow:hover:before {color: black;}#sk-container-id-2 div.sk-estimator:hover label.sk-toggleable__label-arrow:before {color: black;}#sk-container-id-2 div.sk-toggleable__content {max-height: 0;max-width: 0;overflow: hidden;text-align: left;background-color: #f0f8ff;}#sk-container-id-2 div.sk-toggleable__content pre {margin: 0.2em;color: black;border-radius: 0.25em;background-color: #f0f8ff;}#sk-container-id-2 input.sk-toggleable__control:checked~div.sk-toggleable__content {max-height: 200px;max-width: 100%;overflow: auto;}#sk-container-id-2 input.sk-toggleable__control:checked~label.sk-toggleable__label-arrow:before {content: \"▾\";}#sk-container-id-2 div.sk-estimator input.sk-toggleable__control:checked~label.sk-toggleable__label {background-color: #d4ebff;}#sk-container-id-2 div.sk-label input.sk-toggleable__control:checked~label.sk-toggleable__label {background-color: #d4ebff;}#sk-container-id-2 input.sk-hidden--visually {border: 0;clip: rect(1px 1px 1px 1px);clip: rect(1px, 1px, 1px, 1px);height: 1px;margin: -1px;overflow: hidden;padding: 0;position: absolute;width: 1px;}#sk-container-id-2 div.sk-estimator {font-family: monospace;background-color: #f0f8ff;border: 1px dotted black;border-radius: 0.25em;box-sizing: border-box;margin-bottom: 0.5em;}#sk-container-id-2 div.sk-estimator:hover {background-color: #d4ebff;}#sk-container-id-2 div.sk-parallel-item::after {content: \"\";width: 100%;border-bottom: 1px solid gray;flex-grow: 1;}#sk-container-id-2 div.sk-label:hover label.sk-toggleable__label {background-color: #d4ebff;}#sk-container-id-2 div.sk-serial::before {content: \"\";position: absolute;border-left: 1px solid gray;box-sizing: border-box;top: 0;bottom: 0;left: 50%;z-index: 0;}#sk-container-id-2 div.sk-serial {display: flex;flex-direction: column;align-items: center;background-color: white;padding-right: 0.2em;padding-left: 0.2em;position: relative;}#sk-container-id-2 div.sk-item {position: relative;z-index: 1;}#sk-container-id-2 div.sk-parallel {display: flex;align-items: stretch;justify-content: center;background-color: white;position: relative;}#sk-container-id-2 div.sk-item::before, #sk-container-id-2 div.sk-parallel-item::before {content: \"\";position: absolute;border-left: 1px solid gray;box-sizing: border-box;top: 0;bottom: 0;left: 50%;z-index: -1;}#sk-container-id-2 div.sk-parallel-item {display: flex;flex-direction: column;z-index: 1;position: relative;background-color: white;}#sk-container-id-2 div.sk-parallel-item:first-child::after {align-self: flex-end;width: 50%;}#sk-container-id-2 div.sk-parallel-item:last-child::after {align-self: flex-start;width: 50%;}#sk-container-id-2 div.sk-parallel-item:only-child::after {width: 0;}#sk-container-id-2 div.sk-dashed-wrapped {border: 1px dashed gray;margin: 0 0.4em 0.5em 0.4em;box-sizing: border-box;padding-bottom: 0.4em;background-color: white;}#sk-container-id-2 div.sk-label label {font-family: monospace;font-weight: bold;display: inline-block;line-height: 1.2em;}#sk-container-id-2 div.sk-label-container {text-align: center;}#sk-container-id-2 div.sk-container {/* jupyter's `normalize.less` sets `[hidden] { display: none; }` but bootstrap.min.css set `[hidden] { display: none !important; }` so we also need the `!important` here to be able to override the default hidden behavior on the sphinx rendered scikit-learn.org. See: https://github.com/scikit-learn/scikit-learn/issues/21755 */display: inline-block !important;position: relative;}#sk-container-id-2 div.sk-text-repr-fallback {display: none;}</style><div id=\"sk-container-id-2\" class=\"sk-top-container\"><div class=\"sk-text-repr-fallback\"><pre>GridSearchCV(cv=10, estimator=KNeighborsRegressor(),\n",
       "             param_grid={&#x27;n_neighbors&#x27;: array([ 1,  2,  3,  4,  5,  6,  7,  8,  9, 10, 11, 12, 13, 14, 15, 16, 17,\n",
       "       18, 19, 20, 21, 22, 23, 24, 25, 26, 27, 28, 29])})</pre><b>In a Jupyter environment, please rerun this cell to show the HTML representation or trust the notebook. <br />On GitHub, the HTML representation is unable to render, please try loading this page with nbviewer.org.</b></div><div class=\"sk-container\" hidden><div class=\"sk-item sk-dashed-wrapped\"><div class=\"sk-label-container\"><div class=\"sk-label sk-toggleable\"><input class=\"sk-toggleable__control sk-hidden--visually\" id=\"sk-estimator-id-2\" type=\"checkbox\" ><label for=\"sk-estimator-id-2\" class=\"sk-toggleable__label sk-toggleable__label-arrow\">GridSearchCV</label><div class=\"sk-toggleable__content\"><pre>GridSearchCV(cv=10, estimator=KNeighborsRegressor(),\n",
       "             param_grid={&#x27;n_neighbors&#x27;: array([ 1,  2,  3,  4,  5,  6,  7,  8,  9, 10, 11, 12, 13, 14, 15, 16, 17,\n",
       "       18, 19, 20, 21, 22, 23, 24, 25, 26, 27, 28, 29])})</pre></div></div></div><div class=\"sk-parallel\"><div class=\"sk-parallel-item\"><div class=\"sk-item\"><div class=\"sk-label-container\"><div class=\"sk-label sk-toggleable\"><input class=\"sk-toggleable__control sk-hidden--visually\" id=\"sk-estimator-id-3\" type=\"checkbox\" ><label for=\"sk-estimator-id-3\" class=\"sk-toggleable__label sk-toggleable__label-arrow\">estimator: KNeighborsRegressor</label><div class=\"sk-toggleable__content\"><pre>KNeighborsRegressor()</pre></div></div></div><div class=\"sk-serial\"><div class=\"sk-item\"><div class=\"sk-estimator sk-toggleable\"><input class=\"sk-toggleable__control sk-hidden--visually\" id=\"sk-estimator-id-4\" type=\"checkbox\" ><label for=\"sk-estimator-id-4\" class=\"sk-toggleable__label sk-toggleable__label-arrow\">KNeighborsRegressor</label><div class=\"sk-toggleable__content\"><pre>KNeighborsRegressor()</pre></div></div></div></div></div></div></div></div></div></div>"
      ],
      "text/plain": [
       "GridSearchCV(cv=10, estimator=KNeighborsRegressor(),\n",
       "             param_grid={'n_neighbors': array([ 1,  2,  3,  4,  5,  6,  7,  8,  9, 10, 11, 12, 13, 14, 15, 16, 17,\n",
       "       18, 19, 20, 21, 22, 23, 24, 25, 26, 27, 28, 29])})"
      ]
     },
     "execution_count": 12,
     "metadata": {},
     "output_type": "execute_result"
    }
   ],
   "source": [
    "knn_cv_model.fit(X_train, y_train)"
   ]
  },
  {
   "cell_type": "code",
   "execution_count": 13,
   "id": "b55cccf5-de1e-462b-b0e5-444d4a926b4f",
   "metadata": {
    "tags": []
   },
   "outputs": [
    {
     "data": {
      "text/plain": [
       "8"
      ]
     },
     "execution_count": 13,
     "metadata": {},
     "output_type": "execute_result"
    }
   ],
   "source": [
    "knn_cv_model.best_params_[\"n_neighbors\"]"
   ]
  },
  {
   "cell_type": "code",
   "execution_count": 14,
   "id": "121d4c40-fc25-476f-a728-1dd6779d4f63",
   "metadata": {
    "tags": []
   },
   "outputs": [
    {
     "name": "stdout",
     "output_type": "stream",
     "text": [
      "k = 1 için RMSE değeri:  0.0 RMSE_CV değeri:  325.3947514706382\n",
      "k = 2 için RMSE değeri:  179.52761335480352 RMSE_CV değeri:  293.24000183333817\n",
      "k = 3 için RMSE değeri:  205.20157172291863 RMSE_CV değeri:  283.7486667487823\n",
      "k = 4 için RMSE değeri:  220.5139794876305 RMSE_CV değeri:  286.3240222024089\n",
      "k = 5 için RMSE değeri:  239.6467132541376 RMSE_CV değeri:  290.0705466132226\n",
      "k = 6 için RMSE değeri:  243.5904190007242 RMSE_CV değeri:  298.1263115575851\n",
      "k = 7 için RMSE değeri:  258.1478781634636 RMSE_CV değeri:  294.77070479194987\n",
      "k = 8 için RMSE değeri:  266.05374203349805 RMSE_CV değeri:  291.98672028891235\n",
      "k = 9 için RMSE değeri:  269.73782093553376 RMSE_CV değeri:  295.7162739573105\n",
      "k = 10 için RMSE değeri:  271.2798300436963 RMSE_CV değeri:  301.31047022701154\n"
     ]
    }
   ],
   "source": [
    "RMSE = []\n",
    "RMSE_CV = []\n",
    "\n",
    "for k in range(10):\n",
    "    k = k + 1\n",
    "    knn_model = KNeighborsRegressor(n_neighbors=k).fit(X_train, y_train)\n",
    "    y_pred = knn_model.predict(X_train)\n",
    "    rmse = np.sqrt(mean_squared_error(y_train, y_pred))\n",
    "    rmse_cv = np.sqrt(-1*cross_val_score(knn_model, X_train, y_train, cv = 10, scoring = \"neg_mean_squared_error\").mean())\n",
    "    \n",
    "    RMSE.append(rmse)\n",
    "    RMSE_CV.append(rmse_cv)\n",
    "    print(\"k =\", k, \"için RMSE değeri: \", rmse, \"RMSE_CV değeri: \", rmse_cv)"
   ]
  },
  {
   "cell_type": "code",
   "execution_count": 15,
   "id": "8575cc8f-2b2a-4dc8-bab0-07f6027902e9",
   "metadata": {
    "tags": []
   },
   "outputs": [],
   "source": [
    "knn_tuned = KNeighborsRegressor(n_neighbors = knn_cv_model.best_params_[\"n_neighbors\"])"
   ]
  },
  {
   "cell_type": "code",
   "execution_count": 16,
   "id": "6ca04a5c-0177-4ee1-8644-8ec372d209af",
   "metadata": {
    "tags": []
   },
   "outputs": [
    {
     "data": {
      "text/html": [
       "<style>#sk-container-id-3 {color: black;}#sk-container-id-3 pre{padding: 0;}#sk-container-id-3 div.sk-toggleable {background-color: white;}#sk-container-id-3 label.sk-toggleable__label {cursor: pointer;display: block;width: 100%;margin-bottom: 0;padding: 0.3em;box-sizing: border-box;text-align: center;}#sk-container-id-3 label.sk-toggleable__label-arrow:before {content: \"▸\";float: left;margin-right: 0.25em;color: #696969;}#sk-container-id-3 label.sk-toggleable__label-arrow:hover:before {color: black;}#sk-container-id-3 div.sk-estimator:hover label.sk-toggleable__label-arrow:before {color: black;}#sk-container-id-3 div.sk-toggleable__content {max-height: 0;max-width: 0;overflow: hidden;text-align: left;background-color: #f0f8ff;}#sk-container-id-3 div.sk-toggleable__content pre {margin: 0.2em;color: black;border-radius: 0.25em;background-color: #f0f8ff;}#sk-container-id-3 input.sk-toggleable__control:checked~div.sk-toggleable__content {max-height: 200px;max-width: 100%;overflow: auto;}#sk-container-id-3 input.sk-toggleable__control:checked~label.sk-toggleable__label-arrow:before {content: \"▾\";}#sk-container-id-3 div.sk-estimator input.sk-toggleable__control:checked~label.sk-toggleable__label {background-color: #d4ebff;}#sk-container-id-3 div.sk-label input.sk-toggleable__control:checked~label.sk-toggleable__label {background-color: #d4ebff;}#sk-container-id-3 input.sk-hidden--visually {border: 0;clip: rect(1px 1px 1px 1px);clip: rect(1px, 1px, 1px, 1px);height: 1px;margin: -1px;overflow: hidden;padding: 0;position: absolute;width: 1px;}#sk-container-id-3 div.sk-estimator {font-family: monospace;background-color: #f0f8ff;border: 1px dotted black;border-radius: 0.25em;box-sizing: border-box;margin-bottom: 0.5em;}#sk-container-id-3 div.sk-estimator:hover {background-color: #d4ebff;}#sk-container-id-3 div.sk-parallel-item::after {content: \"\";width: 100%;border-bottom: 1px solid gray;flex-grow: 1;}#sk-container-id-3 div.sk-label:hover label.sk-toggleable__label {background-color: #d4ebff;}#sk-container-id-3 div.sk-serial::before {content: \"\";position: absolute;border-left: 1px solid gray;box-sizing: border-box;top: 0;bottom: 0;left: 50%;z-index: 0;}#sk-container-id-3 div.sk-serial {display: flex;flex-direction: column;align-items: center;background-color: white;padding-right: 0.2em;padding-left: 0.2em;position: relative;}#sk-container-id-3 div.sk-item {position: relative;z-index: 1;}#sk-container-id-3 div.sk-parallel {display: flex;align-items: stretch;justify-content: center;background-color: white;position: relative;}#sk-container-id-3 div.sk-item::before, #sk-container-id-3 div.sk-parallel-item::before {content: \"\";position: absolute;border-left: 1px solid gray;box-sizing: border-box;top: 0;bottom: 0;left: 50%;z-index: -1;}#sk-container-id-3 div.sk-parallel-item {display: flex;flex-direction: column;z-index: 1;position: relative;background-color: white;}#sk-container-id-3 div.sk-parallel-item:first-child::after {align-self: flex-end;width: 50%;}#sk-container-id-3 div.sk-parallel-item:last-child::after {align-self: flex-start;width: 50%;}#sk-container-id-3 div.sk-parallel-item:only-child::after {width: 0;}#sk-container-id-3 div.sk-dashed-wrapped {border: 1px dashed gray;margin: 0 0.4em 0.5em 0.4em;box-sizing: border-box;padding-bottom: 0.4em;background-color: white;}#sk-container-id-3 div.sk-label label {font-family: monospace;font-weight: bold;display: inline-block;line-height: 1.2em;}#sk-container-id-3 div.sk-label-container {text-align: center;}#sk-container-id-3 div.sk-container {/* jupyter's `normalize.less` sets `[hidden] { display: none; }` but bootstrap.min.css set `[hidden] { display: none !important; }` so we also need the `!important` here to be able to override the default hidden behavior on the sphinx rendered scikit-learn.org. See: https://github.com/scikit-learn/scikit-learn/issues/21755 */display: inline-block !important;position: relative;}#sk-container-id-3 div.sk-text-repr-fallback {display: none;}</style><div id=\"sk-container-id-3\" class=\"sk-top-container\"><div class=\"sk-text-repr-fallback\"><pre>KNeighborsRegressor(n_neighbors=8)</pre><b>In a Jupyter environment, please rerun this cell to show the HTML representation or trust the notebook. <br />On GitHub, the HTML representation is unable to render, please try loading this page with nbviewer.org.</b></div><div class=\"sk-container\" hidden><div class=\"sk-item\"><div class=\"sk-estimator sk-toggleable\"><input class=\"sk-toggleable__control sk-hidden--visually\" id=\"sk-estimator-id-5\" type=\"checkbox\" checked><label for=\"sk-estimator-id-5\" class=\"sk-toggleable__label sk-toggleable__label-arrow\">KNeighborsRegressor</label><div class=\"sk-toggleable__content\"><pre>KNeighborsRegressor(n_neighbors=8)</pre></div></div></div></div></div>"
      ],
      "text/plain": [
       "KNeighborsRegressor(n_neighbors=8)"
      ]
     },
     "execution_count": 16,
     "metadata": {},
     "output_type": "execute_result"
    }
   ],
   "source": [
    "knn_tuned.fit(X_train, y_train)"
   ]
  },
  {
   "cell_type": "code",
   "execution_count": 17,
   "id": "495f04d2-7de2-43ed-bef3-980bb4f91784",
   "metadata": {
    "tags": []
   },
   "outputs": [
    {
     "data": {
      "text/plain": [
       "413.7094731463598"
      ]
     },
     "execution_count": 17,
     "metadata": {},
     "output_type": "execute_result"
    }
   ],
   "source": [
    "np.sqrt(mean_squared_error(y_test, knn_tuned.predict(X_test)))"
   ]
  },
  {
   "cell_type": "markdown",
   "id": "85ab0431-e4be-43a7-9500-b9fbc8dfd9d4",
   "metadata": {},
   "source": [
    "# SVR(Destek Vektör Regresyonu)"
   ]
  },
  {
   "cell_type": "code",
   "execution_count": 18,
   "id": "179fa6fa-1e84-4123-94d4-a269f2716dc9",
   "metadata": {
    "tags": []
   },
   "outputs": [],
   "source": [
    "hit = pd.read_csv(\"Hitters.csv\")\n",
    "df = hit.copy()\n",
    "df = df.dropna()\n",
    "dms = pd.get_dummies(df[['League', 'Division', 'NewLeague']])\n",
    "y = df[\"Salary\"]\n",
    "X_ = df.drop(['Salary', 'League', 'Division', 'NewLeague'], axis = 1).astype('float64')\n",
    "X = pd.concat([X_, dms[['League_N', 'Division_W', 'NewLeague_N']]], axis = 1)\n",
    "X_train, X_test, y_train, y_test = train_test_split(X, y, test_size=0.25, random_state=42)"
   ]
  },
  {
   "cell_type": "code",
   "execution_count": 19,
   "id": "cbce0f94-20f0-494d-a18f-a63781a6a631",
   "metadata": {
    "tags": []
   },
   "outputs": [],
   "source": [
    "X_train = pd.DataFrame(X_train[\"Hits\"])\n",
    "X_test = pd.DataFrame(X_test[\"Hits\"])"
   ]
  },
  {
   "cell_type": "code",
   "execution_count": 20,
   "id": "393e491b-cd30-4fb6-9820-b1c0d3474ad5",
   "metadata": {
    "tags": []
   },
   "outputs": [],
   "source": [
    "from sklearn.svm import SVR"
   ]
  },
  {
   "cell_type": "code",
   "execution_count": 21,
   "id": "3b74227a-7afd-424b-b064-ae693b0d5177",
   "metadata": {
    "tags": []
   },
   "outputs": [],
   "source": [
    "svr_model = SVR(kernel=\"linear\").fit(X_train, y_train)"
   ]
  },
  {
   "cell_type": "code",
   "execution_count": 22,
   "id": "3cad31f6-f38f-4d16-8f19-78ba94cb6ade",
   "metadata": {
    "tags": []
   },
   "outputs": [
    {
     "data": {
      "text/plain": [
       "array([403.52804878, 666.91219512, 706.66829268, 194.80853659,\n",
       "       423.40609756])"
      ]
     },
     "execution_count": 22,
     "metadata": {},
     "output_type": "execute_result"
    }
   ],
   "source": [
    "svr_model.predict(X_train)[0:5]"
   ]
  },
  {
   "cell_type": "code",
   "execution_count": 23,
   "id": "abf05466-b5eb-49dd-ae54-b819bd9ade94",
   "metadata": {
    "tags": []
   },
   "outputs": [
    {
     "name": "stdout",
     "output_type": "stream",
     "text": [
      "y = -48.69756097561513 + 4.969512195122206 x\n"
     ]
    }
   ],
   "source": [
    "print(\"y = {0} + {1} x\".format(svr_model.intercept_[0], svr_model.coef_[0][0]))"
   ]
  },
  {
   "cell_type": "code",
   "execution_count": 24,
   "id": "37e7caf9-b6c4-45f3-be51-2e86ac2d80e6",
   "metadata": {
    "tags": []
   },
   "outputs": [
    {
     "data": {
      "text/plain": [
       "183    91.0\n",
       "Name: Hits, dtype: float64"
      ]
     },
     "execution_count": 24,
     "metadata": {},
     "output_type": "execute_result"
    }
   ],
   "source": [
    "X_train[\"Hits\"][0:1]"
   ]
  },
  {
   "cell_type": "code",
   "execution_count": 25,
   "id": "7d5daf72-c14d-45e9-ab74-9f36b407420c",
   "metadata": {
    "tags": []
   },
   "outputs": [
    {
     "data": {
      "text/plain": [
       "403.5280487805056"
      ]
     },
     "execution_count": 25,
     "metadata": {},
     "output_type": "execute_result"
    }
   ],
   "source": [
    "-48.69756097561513 + 4.969512195122206*91"
   ]
  },
  {
   "cell_type": "code",
   "execution_count": 26,
   "id": "12c47e31-7ad2-487c-a70d-6ca99cdbd1af",
   "metadata": {
    "tags": []
   },
   "outputs": [],
   "source": [
    "y_pred = svr_model.predict(X_train)"
   ]
  },
  {
   "cell_type": "code",
   "execution_count": 27,
   "id": "b8638af3-b115-4bf2-ad22-171c1fa69f9f",
   "metadata": {
    "tags": []
   },
   "outputs": [
    {
     "data": {
      "image/png": "[encoded data removed]",
      "text/plain": [
       "<Figure size 640x480 with 1 Axes>"
      ]
     },
     "metadata": {},
     "output_type": "display_data"
    }
   ],
   "source": [
    "plt.scatter(X_train, y_train)\n",
    "plt.plot(X_train, y_pred, color = \"r\");"
   ]
  },
  {
   "cell_type": "code",
   "execution_count": 28,
   "id": "a26e3c42-d698-4917-a081-623c769da911",
   "metadata": {
    "tags": []
   },
   "outputs": [
    {
     "name": "stdout",
     "output_type": "stream",
     "text": [
      "y = -8.814095480334572 + 5.1724561354706875\n"
     ]
    }
   ],
   "source": [
    "from sklearn.linear_model import LinearRegression\n",
    "lm_model = LinearRegression().fit(X_train, y_train)\n",
    "lm_pred = lm_model.predict(X_train)\n",
    "print(\"y = {0} + {1}\".format(lm_model.intercept_, lm_model.coef_[0]))"
   ]
  },
  {
   "cell_type": "code",
   "execution_count": 29,
   "id": "f1cf467f-fd0b-4fbc-a565-99a51ad3854a",
   "metadata": {
    "tags": []
   },
   "outputs": [
    {
     "data": {
      "text/plain": [
       "461.879412847498"
      ]
     },
     "execution_count": 29,
     "metadata": {},
     "output_type": "execute_result"
    }
   ],
   "source": [
    "-8.814095480334572 + 5.1724561354706875*91"
   ]
  },
  {
   "cell_type": "markdown",
   "id": "3c37bdd4-576d-4cb8-9fdd-7760b5c48501",
   "metadata": {},
   "source": [
    "Burada Lineer modelin çizgisinin SVR'a göre daha yukarda olduğu gözleniyor.\n",
    "Bunun sebebi aykırı gözlemlerin SVR'yi daha az etkilemesidir."
   ]
  },
  {
   "cell_type": "code",
   "execution_count": 30,
   "id": "0647059b-0a3d-4368-8d22-09512a3afc58",
   "metadata": {
    "tags": []
   },
   "outputs": [
    {
     "data": {
      "image/png": "[encoded data removed]",
      "text/plain": [
       "<Figure size 640x480 with 1 Axes>"
      ]
     },
     "metadata": {},
     "output_type": "display_data"
    }
   ],
   "source": [
    "plt.scatter(X_train, y_train, alpha=0.5, s = 23)\n",
    "plt.plot(X_train, lm_pred, 'g')\n",
    "plt.plot(X_train, y_pred, color = 'r')\n",
    "\n",
    "plt.xlabel(\"Atış Sayısı(Hits)\")\n",
    "plt.ylabel(\"Maaş (Salary)\");"
   ]
  },
  {
   "cell_type": "markdown",
   "id": "c4c3829a-7660-4cb6-94d7-c5d6237fc273",
   "metadata": {},
   "source": [
    "# Tahmin"
   ]
  },
  {
   "cell_type": "code",
   "execution_count": 31,
   "id": "dca9ec9f-229a-496e-b98a-24089df54d05",
   "metadata": {
    "tags": []
   },
   "outputs": [
    {
     "name": "stdout",
     "output_type": "stream",
     "text": [
      "y = -48.69756097561513 + 4.969512195122206 x\n"
     ]
    }
   ],
   "source": [
    "print(\"y = {0} + {1} x\".format(svr_model.intercept_[0], svr_model.coef_[0][0]))"
   ]
  },
  {
   "cell_type": "code",
   "execution_count": 32,
   "id": "86410c2c-0179-4979-ac67-d789c5d7d98b",
   "metadata": {
    "tags": []
   },
   "outputs": [
    {
     "name": "stderr",
     "output_type": "stream",
     "text": [
      "C:\\Users\\Taha\\anaconda3\\Lib\\site-packages\\sklearn\\base.py:464: UserWarning: X does not have valid feature names, but SVR was fitted with feature names\n",
      "  warnings.warn(\n"
     ]
    },
    {
     "data": {
      "text/plain": [
       "array([403.52804878])"
      ]
     },
     "execution_count": 32,
     "metadata": {},
     "output_type": "execute_result"
    }
   ],
   "source": [
    "svr_model.predict([[91]])"
   ]
  },
  {
   "cell_type": "code",
   "execution_count": 33,
   "id": "8980a9a8-1b42-4e95-8f0f-1b6998451bff",
   "metadata": {
    "tags": []
   },
   "outputs": [],
   "source": [
    "y_pred = svr_model.predict(X_test)"
   ]
  },
  {
   "cell_type": "code",
   "execution_count": 34,
   "id": "b75cc23f-964d-4afa-99e8-9f4ed6e50e30",
   "metadata": {
    "tags": []
   },
   "outputs": [
    {
     "data": {
      "text/plain": [
       "459.0187960365147"
      ]
     },
     "execution_count": 34,
     "metadata": {},
     "output_type": "execute_result"
    }
   ],
   "source": [
    "np.sqrt(mean_squared_error(y_test, y_pred))"
   ]
  },
  {
   "cell_type": "code",
   "execution_count": 35,
   "id": "2b811354-07e4-46d5-b524-bd3300acd835",
   "metadata": {
    "tags": []
   },
   "outputs": [
    {
     "data": {
      "text/html": [
       "<style>#sk-container-id-4 {color: black;}#sk-container-id-4 pre{padding: 0;}#sk-container-id-4 div.sk-toggleable {background-color: white;}#sk-container-id-4 label.sk-toggleable__label {cursor: pointer;display: block;width: 100%;margin-bottom: 0;padding: 0.3em;box-sizing: border-box;text-align: center;}#sk-container-id-4 label.sk-toggleable__label-arrow:before {content: \"▸\";float: left;margin-right: 0.25em;color: #696969;}#sk-container-id-4 label.sk-toggleable__label-arrow:hover:before {color: black;}#sk-container-id-4 div.sk-estimator:hover label.sk-toggleable__label-arrow:before {color: black;}#sk-container-id-4 div.sk-toggleable__content {max-height: 0;max-width: 0;overflow: hidden;text-align: left;background-color: #f0f8ff;}#sk-container-id-4 div.sk-toggleable__content pre {margin: 0.2em;color: black;border-radius: 0.25em;background-color: #f0f8ff;}#sk-container-id-4 input.sk-toggleable__control:checked~div.sk-toggleable__content {max-height: 200px;max-width: 100%;overflow: auto;}#sk-container-id-4 input.sk-toggleable__control:checked~label.sk-toggleable__label-arrow:before {content: \"▾\";}#sk-container-id-4 div.sk-estimator input.sk-toggleable__control:checked~label.sk-toggleable__label {background-color: #d4ebff;}#sk-container-id-4 div.sk-label input.sk-toggleable__control:checked~label.sk-toggleable__label {background-color: #d4ebff;}#sk-container-id-4 input.sk-hidden--visually {border: 0;clip: rect(1px 1px 1px 1px);clip: rect(1px, 1px, 1px, 1px);height: 1px;margin: -1px;overflow: hidden;padding: 0;position: absolute;width: 1px;}#sk-container-id-4 div.sk-estimator {font-family: monospace;background-color: #f0f8ff;border: 1px dotted black;border-radius: 0.25em;box-sizing: border-box;margin-bottom: 0.5em;}#sk-container-id-4 div.sk-estimator:hover {background-color: #d4ebff;}#sk-container-id-4 div.sk-parallel-item::after {content: \"\";width: 100%;border-bottom: 1px solid gray;flex-grow: 1;}#sk-container-id-4 div.sk-label:hover label.sk-toggleable__label {background-color: #d4ebff;}#sk-container-id-4 div.sk-serial::before {content: \"\";position: absolute;border-left: 1px solid gray;box-sizing: border-box;top: 0;bottom: 0;left: 50%;z-index: 0;}#sk-container-id-4 div.sk-serial {display: flex;flex-direction: column;align-items: center;background-color: white;padding-right: 0.2em;padding-left: 0.2em;position: relative;}#sk-container-id-4 div.sk-item {position: relative;z-index: 1;}#sk-container-id-4 div.sk-parallel {display: flex;align-items: stretch;justify-content: center;background-color: white;position: relative;}#sk-container-id-4 div.sk-item::before, #sk-container-id-4 div.sk-parallel-item::before {content: \"\";position: absolute;border-left: 1px solid gray;box-sizing: border-box;top: 0;bottom: 0;left: 50%;z-index: -1;}#sk-container-id-4 div.sk-parallel-item {display: flex;flex-direction: column;z-index: 1;position: relative;background-color: white;}#sk-container-id-4 div.sk-parallel-item:first-child::after {align-self: flex-end;width: 50%;}#sk-container-id-4 div.sk-parallel-item:last-child::after {align-self: flex-start;width: 50%;}#sk-container-id-4 div.sk-parallel-item:only-child::after {width: 0;}#sk-container-id-4 div.sk-dashed-wrapped {border: 1px dashed gray;margin: 0 0.4em 0.5em 0.4em;box-sizing: border-box;padding-bottom: 0.4em;background-color: white;}#sk-container-id-4 div.sk-label label {font-family: monospace;font-weight: bold;display: inline-block;line-height: 1.2em;}#sk-container-id-4 div.sk-label-container {text-align: center;}#sk-container-id-4 div.sk-container {/* jupyter's `normalize.less` sets `[hidden] { display: none; }` but bootstrap.min.css set `[hidden] { display: none !important; }` so we also need the `!important` here to be able to override the default hidden behavior on the sphinx rendered scikit-learn.org. See: https://github.com/scikit-learn/scikit-learn/issues/21755 */display: inline-block !important;position: relative;}#sk-container-id-4 div.sk-text-repr-fallback {display: none;}</style><div id=\"sk-container-id-4\" class=\"sk-top-container\"><div class=\"sk-text-repr-fallback\"><pre>SVR(kernel=&#x27;linear&#x27;)</pre><b>In a Jupyter environment, please rerun this cell to show the HTML representation or trust the notebook. <br />On GitHub, the HTML representation is unable to render, please try loading this page with nbviewer.org.</b></div><div class=\"sk-container\" hidden><div class=\"sk-item\"><div class=\"sk-estimator sk-toggleable\"><input class=\"sk-toggleable__control sk-hidden--visually\" id=\"sk-estimator-id-6\" type=\"checkbox\" checked><label for=\"sk-estimator-id-6\" class=\"sk-toggleable__label sk-toggleable__label-arrow\">SVR</label><div class=\"sk-toggleable__content\"><pre>SVR(kernel=&#x27;linear&#x27;)</pre></div></div></div></div></div>"
      ],
      "text/plain": [
       "SVR(kernel='linear')"
      ]
     },
     "execution_count": 35,
     "metadata": {},
     "output_type": "execute_result"
    }
   ],
   "source": [
    "svr_model"
   ]
  },
  {
   "cell_type": "markdown",
   "id": "d318e70a-31d0-4f08-bfcf-4100d0e23dfb",
   "metadata": {},
   "source": [
    "# Model Tuning"
   ]
  },
  {
   "cell_type": "code",
   "execution_count": 36,
   "id": "211dfc17-ba45-4edb-b5a6-fee3c23f8309",
   "metadata": {
    "tags": []
   },
   "outputs": [
    {
     "data": {
      "text/html": [
       "<style>#sk-container-id-5 {color: black;}#sk-container-id-5 pre{padding: 0;}#sk-container-id-5 div.sk-toggleable {background-color: white;}#sk-container-id-5 label.sk-toggleable__label {cursor: pointer;display: block;width: 100%;margin-bottom: 0;padding: 0.3em;box-sizing: border-box;text-align: center;}#sk-container-id-5 label.sk-toggleable__label-arrow:before {content: \"▸\";float: left;margin-right: 0.25em;color: #696969;}#sk-container-id-5 label.sk-toggleable__label-arrow:hover:before {color: black;}#sk-container-id-5 div.sk-estimator:hover label.sk-toggleable__label-arrow:before {color: black;}#sk-container-id-5 div.sk-toggleable__content {max-height: 0;max-width: 0;overflow: hidden;text-align: left;background-color: #f0f8ff;}#sk-container-id-5 div.sk-toggleable__content pre {margin: 0.2em;color: black;border-radius: 0.25em;background-color: #f0f8ff;}#sk-container-id-5 input.sk-toggleable__control:checked~div.sk-toggleable__content {max-height: 200px;max-width: 100%;overflow: auto;}#sk-container-id-5 input.sk-toggleable__control:checked~label.sk-toggleable__label-arrow:before {content: \"▾\";}#sk-container-id-5 div.sk-estimator input.sk-toggleable__control:checked~label.sk-toggleable__label {background-color: #d4ebff;}#sk-container-id-5 div.sk-label input.sk-toggleable__control:checked~label.sk-toggleable__label {background-color: #d4ebff;}#sk-container-id-5 input.sk-hidden--visually {border: 0;clip: rect(1px 1px 1px 1px);clip: rect(1px, 1px, 1px, 1px);height: 1px;margin: -1px;overflow: hidden;padding: 0;position: absolute;width: 1px;}#sk-container-id-5 div.sk-estimator {font-family: monospace;background-color: #f0f8ff;border: 1px dotted black;border-radius: 0.25em;box-sizing: border-box;margin-bottom: 0.5em;}#sk-container-id-5 div.sk-estimator:hover {background-color: #d4ebff;}#sk-container-id-5 div.sk-parallel-item::after {content: \"\";width: 100%;border-bottom: 1px solid gray;flex-grow: 1;}#sk-container-id-5 div.sk-label:hover label.sk-toggleable__label {background-color: #d4ebff;}#sk-container-id-5 div.sk-serial::before {content: \"\";position: absolute;border-left: 1px solid gray;box-sizing: border-box;top: 0;bottom: 0;left: 50%;z-index: 0;}#sk-container-id-5 div.sk-serial {display: flex;flex-direction: column;align-items: center;background-color: white;padding-right: 0.2em;padding-left: 0.2em;position: relative;}#sk-container-id-5 div.sk-item {position: relative;z-index: 1;}#sk-container-id-5 div.sk-parallel {display: flex;align-items: stretch;justify-content: center;background-color: white;position: relative;}#sk-container-id-5 div.sk-item::before, #sk-container-id-5 div.sk-parallel-item::before {content: \"\";position: absolute;border-left: 1px solid gray;box-sizing: border-box;top: 0;bottom: 0;left: 50%;z-index: -1;}#sk-container-id-5 div.sk-parallel-item {display: flex;flex-direction: column;z-index: 1;position: relative;background-color: white;}#sk-container-id-5 div.sk-parallel-item:first-child::after {align-self: flex-end;width: 50%;}#sk-container-id-5 div.sk-parallel-item:last-child::after {align-self: flex-start;width: 50%;}#sk-container-id-5 div.sk-parallel-item:only-child::after {width: 0;}#sk-container-id-5 div.sk-dashed-wrapped {border: 1px dashed gray;margin: 0 0.4em 0.5em 0.4em;box-sizing: border-box;padding-bottom: 0.4em;background-color: white;}#sk-container-id-5 div.sk-label label {font-family: monospace;font-weight: bold;display: inline-block;line-height: 1.2em;}#sk-container-id-5 div.sk-label-container {text-align: center;}#sk-container-id-5 div.sk-container {/* jupyter's `normalize.less` sets `[hidden] { display: none; }` but bootstrap.min.css set `[hidden] { display: none !important; }` so we also need the `!important` here to be able to override the default hidden behavior on the sphinx rendered scikit-learn.org. See: https://github.com/scikit-learn/scikit-learn/issues/21755 */display: inline-block !important;position: relative;}#sk-container-id-5 div.sk-text-repr-fallback {display: none;}</style><div id=\"sk-container-id-5\" class=\"sk-top-container\"><div class=\"sk-text-repr-fallback\"><pre>SVR(kernel=&#x27;linear&#x27;)</pre><b>In a Jupyter environment, please rerun this cell to show the HTML representation or trust the notebook. <br />On GitHub, the HTML representation is unable to render, please try loading this page with nbviewer.org.</b></div><div class=\"sk-container\" hidden><div class=\"sk-item\"><div class=\"sk-estimator sk-toggleable\"><input class=\"sk-toggleable__control sk-hidden--visually\" id=\"sk-estimator-id-7\" type=\"checkbox\" checked><label for=\"sk-estimator-id-7\" class=\"sk-toggleable__label sk-toggleable__label-arrow\">SVR</label><div class=\"sk-toggleable__content\"><pre>SVR(kernel=&#x27;linear&#x27;)</pre></div></div></div></div></div>"
      ],
      "text/plain": [
       "SVR(kernel='linear')"
      ]
     },
     "execution_count": 36,
     "metadata": {},
     "output_type": "execute_result"
    }
   ],
   "source": [
    "svr_model"
   ]
  },
  {
   "cell_type": "code",
   "execution_count": 37,
   "id": "f608f66f-6b83-43a3-b647-7c25185838e4",
   "metadata": {
    "tags": []
   },
   "outputs": [],
   "source": [
    "svr_params = {\"C\": np.arange(0.1, 2, 0.1)}\n",
    "svr_cv_model = GridSearchCV(svr_model, svr_params, cv = 10).fit(X_train, y_train)"
   ]
  },
  {
   "cell_type": "code",
   "execution_count": 38,
   "id": "dd256bd3-ab08-4e8f-8048-76cd7de034f5",
   "metadata": {
    "tags": []
   },
   "outputs": [
    {
     "data": {
      "text/plain": [
       "0.1"
      ]
     },
     "execution_count": 38,
     "metadata": {},
     "output_type": "execute_result"
    }
   ],
   "source": [
    "pd.Series(svr_cv_model.best_params_)[0]"
   ]
  },
  {
   "cell_type": "code",
   "execution_count": 39,
   "id": "348728d6-5844-4a30-9c36-a8fbfd0d30ca",
   "metadata": {
    "tags": []
   },
   "outputs": [],
   "source": [
    "svr_tuned = SVR(kernel=\"linear\", C=pd.Series(svr_cv_model.best_params_)[0]).fit(X_train, y_train)"
   ]
  },
  {
   "cell_type": "code",
   "execution_count": 40,
   "id": "65e25fcd-4223-4460-8090-6c8b3bbc2fe2",
   "metadata": {
    "tags": []
   },
   "outputs": [],
   "source": [
    "y_pred = svr_tuned.predict(X_test)"
   ]
  },
  {
   "cell_type": "code",
   "execution_count": 41,
   "id": "eaa10792-538a-4e58-a3d7-edbbcaeafb3f",
   "metadata": {
    "tags": []
   },
   "outputs": [
    {
     "data": {
      "text/plain": [
       "458.198966781116"
      ]
     },
     "execution_count": 41,
     "metadata": {},
     "output_type": "execute_result"
    }
   ],
   "source": [
    "np.sqrt(mean_squared_error(y_test, y_pred))"
   ]
  },
  {
   "cell_type": "markdown",
   "id": "503340fb-bcfa-48ce-8b8a-1854195b125e",
   "metadata": {},
   "source": [
    "# Doğrusal Olmayan SVR"
   ]
  },
  {
   "cell_type": "code",
   "execution_count": 42,
   "id": "840372bd-7e3d-4580-94e8-6dc860a6b48b",
   "metadata": {
    "tags": []
   },
   "outputs": [],
   "source": [
    "np.random.seed(3)\n",
    "\n",
    "x_sim = np.random.uniform(2, 10, 145)\n",
    "y_sim = np.sin(x_sim) + np.random.normal(0, 0.4, 145)\n",
    "\n",
    "x_outliers = np.arange(2.5, 5, 0.5)\n",
    "y_outliers = -5*np.ones(5)\n",
    "\n",
    "x_sim_idx = np.argsort(np.concatenate([x_sim, x_outliers]))\n",
    "x_sim = np.concatenate([x_sim, x_outliers])[x_sim_idx]\n",
    "y_sim = np.concatenate([y_sim, y_outliers])[x_sim_idx]"
   ]
  },
  {
   "cell_type": "code",
   "execution_count": 43,
   "id": "176b49c5-ac19-4fe2-aeba-f5c4f5872c80",
   "metadata": {
    "tags": []
   },
   "outputs": [],
   "source": [
    "from sklearn.linear_model import LinearRegression\n",
    "ols = LinearRegression()\n",
    "ols.fit(np.sin(x_sim[:, np.newaxis]), y_sim)\n",
    "ols_pred = ols.predict(np.sin(x_sim[:, np.newaxis]))\n",
    "\n",
    "from sklearn.svm import SVR\n",
    "eps = 0.1\n",
    "svr = SVR(kernel='rbf', epsilon = eps)\n",
    "svr.fit(x_sim[:, np.newaxis], y_sim)\n",
    "svr_pred = svr.predict(x_sim[:, np.newaxis])"
   ]
  },
  {
   "cell_type": "code",
   "execution_count": 44,
   "id": "8ec7d20d-3913-4d63-9b52-f0d7a3153803",
   "metadata": {
    "tags": []
   },
   "outputs": [
    {
     "data": {
      "image/png": "[encoded data removed]",
      "text/plain": [
       "<Figure size 640x480 with 1 Axes>"
      ]
     },
     "metadata": {},
     "output_type": "display_data"
    }
   ],
   "source": [
    "plt.scatter(x_sim, y_sim, alpha = 0.5, s = 26)\n",
    "plt_ols, = plt.plot(x_sim, ols_pred, 'g')\n",
    "plt_svr, = plt.plot(x_sim, svr_pred, color = 'r')\n",
    "plt.xlabel(\"Bağımsız Değişken\")\n",
    "plt.ylabel(\"Bağımlı Değişken\")\n",
    "plt.ylim(-5.2, 2.2)\n",
    "plt.legend([plt_ols, plt_svr], ['EKK', 'SVR'], loc = 4);"
   ]
  },
  {
   "cell_type": "code",
   "execution_count": 45,
   "id": "c8c55a38-93cd-450b-9ac8-67528e717148",
   "metadata": {
    "tags": []
   },
   "outputs": [],
   "source": [
    "hit = pd.read_csv(\"Hitters.csv\")\n",
    "df = hit.copy()\n",
    "df = df.dropna()\n",
    "dms = pd.get_dummies(df[['League', 'Division', 'NewLeague']])\n",
    "y = df[\"Salary\"]\n",
    "X_ = df.drop(['Salary', 'League', 'Division', 'NewLeague'], axis = 1).astype('float64')\n",
    "X = pd.concat([X_, dms[['League_N', 'Division_W', 'NewLeague_N']]], axis = 1)\n",
    "X_train, X_test, y_train, y_test = train_test_split(X, y, test_size=0.25, random_state=42)"
   ]
  },
  {
   "cell_type": "code",
   "execution_count": 46,
   "id": "1649187d-d6f2-4134-a614-e40e25a22bb8",
   "metadata": {
    "tags": []
   },
   "outputs": [],
   "source": [
    "X_train = pd.DataFrame(X_train[\"Hits\"])\n",
    "X_test = pd.DataFrame(X_test[\"Hits\"])"
   ]
  },
  {
   "cell_type": "code",
   "execution_count": 47,
   "id": "46f47c5f-a329-48cc-8fa1-a6d295c267b1",
   "metadata": {
    "tags": []
   },
   "outputs": [],
   "source": [
    "cart_model = DecisionTreeRegressor(max_leaf_nodes=10)"
   ]
  },
  {
   "cell_type": "code",
   "execution_count": 48,
   "id": "84af9584-fc43-406a-9140-f0a6fbdbc437",
   "metadata": {
    "tags": []
   },
   "outputs": [
    {
     "data": {
      "text/html": [
       "<style>#sk-container-id-6 {color: black;}#sk-container-id-6 pre{padding: 0;}#sk-container-id-6 div.sk-toggleable {background-color: white;}#sk-container-id-6 label.sk-toggleable__label {cursor: pointer;display: block;width: 100%;margin-bottom: 0;padding: 0.3em;box-sizing: border-box;text-align: center;}#sk-container-id-6 label.sk-toggleable__label-arrow:before {content: \"▸\";float: left;margin-right: 0.25em;color: #696969;}#sk-container-id-6 label.sk-toggleable__label-arrow:hover:before {color: black;}#sk-container-id-6 div.sk-estimator:hover label.sk-toggleable__label-arrow:before {color: black;}#sk-container-id-6 div.sk-toggleable__content {max-height: 0;max-width: 0;overflow: hidden;text-align: left;background-color: #f0f8ff;}#sk-container-id-6 div.sk-toggleable__content pre {margin: 0.2em;color: black;border-radius: 0.25em;background-color: #f0f8ff;}#sk-container-id-6 input.sk-toggleable__control:checked~div.sk-toggleable__content {max-height: 200px;max-width: 100%;overflow: auto;}#sk-container-id-6 input.sk-toggleable__control:checked~label.sk-toggleable__label-arrow:before {content: \"▾\";}#sk-container-id-6 div.sk-estimator input.sk-toggleable__control:checked~label.sk-toggleable__label {background-color: #d4ebff;}#sk-container-id-6 div.sk-label input.sk-toggleable__control:checked~label.sk-toggleable__label {background-color: #d4ebff;}#sk-container-id-6 input.sk-hidden--visually {border: 0;clip: rect(1px 1px 1px 1px);clip: rect(1px, 1px, 1px, 1px);height: 1px;margin: -1px;overflow: hidden;padding: 0;position: absolute;width: 1px;}#sk-container-id-6 div.sk-estimator {font-family: monospace;background-color: #f0f8ff;border: 1px dotted black;border-radius: 0.25em;box-sizing: border-box;margin-bottom: 0.5em;}#sk-container-id-6 div.sk-estimator:hover {background-color: #d4ebff;}#sk-container-id-6 div.sk-parallel-item::after {content: \"\";width: 100%;border-bottom: 1px solid gray;flex-grow: 1;}#sk-container-id-6 div.sk-label:hover label.sk-toggleable__label {background-color: #d4ebff;}#sk-container-id-6 div.sk-serial::before {content: \"\";position: absolute;border-left: 1px solid gray;box-sizing: border-box;top: 0;bottom: 0;left: 50%;z-index: 0;}#sk-container-id-6 div.sk-serial {display: flex;flex-direction: column;align-items: center;background-color: white;padding-right: 0.2em;padding-left: 0.2em;position: relative;}#sk-container-id-6 div.sk-item {position: relative;z-index: 1;}#sk-container-id-6 div.sk-parallel {display: flex;align-items: stretch;justify-content: center;background-color: white;position: relative;}#sk-container-id-6 div.sk-item::before, #sk-container-id-6 div.sk-parallel-item::before {content: \"\";position: absolute;border-left: 1px solid gray;box-sizing: border-box;top: 0;bottom: 0;left: 50%;z-index: -1;}#sk-container-id-6 div.sk-parallel-item {display: flex;flex-direction: column;z-index: 1;position: relative;background-color: white;}#sk-container-id-6 div.sk-parallel-item:first-child::after {align-self: flex-end;width: 50%;}#sk-container-id-6 div.sk-parallel-item:last-child::after {align-self: flex-start;width: 50%;}#sk-container-id-6 div.sk-parallel-item:only-child::after {width: 0;}#sk-container-id-6 div.sk-dashed-wrapped {border: 1px dashed gray;margin: 0 0.4em 0.5em 0.4em;box-sizing: border-box;padding-bottom: 0.4em;background-color: white;}#sk-container-id-6 div.sk-label label {font-family: monospace;font-weight: bold;display: inline-block;line-height: 1.2em;}#sk-container-id-6 div.sk-label-container {text-align: center;}#sk-container-id-6 div.sk-container {/* jupyter's `normalize.less` sets `[hidden] { display: none; }` but bootstrap.min.css set `[hidden] { display: none !important; }` so we also need the `!important` here to be able to override the default hidden behavior on the sphinx rendered scikit-learn.org. See: https://github.com/scikit-learn/scikit-learn/issues/21755 */display: inline-block !important;position: relative;}#sk-container-id-6 div.sk-text-repr-fallback {display: none;}</style><div id=\"sk-container-id-6\" class=\"sk-top-container\"><div class=\"sk-text-repr-fallback\"><pre>DecisionTreeRegressor(max_leaf_nodes=10)</pre><b>In a Jupyter environment, please rerun this cell to show the HTML representation or trust the notebook. <br />On GitHub, the HTML representation is unable to render, please try loading this page with nbviewer.org.</b></div><div class=\"sk-container\" hidden><div class=\"sk-item\"><div class=\"sk-estimator sk-toggleable\"><input class=\"sk-toggleable__control sk-hidden--visually\" id=\"sk-estimator-id-8\" type=\"checkbox\" checked><label for=\"sk-estimator-id-8\" class=\"sk-toggleable__label sk-toggleable__label-arrow\">DecisionTreeRegressor</label><div class=\"sk-toggleable__content\"><pre>DecisionTreeRegressor(max_leaf_nodes=10)</pre></div></div></div></div></div>"
      ],
      "text/plain": [
       "DecisionTreeRegressor(max_leaf_nodes=10)"
      ]
     },
     "execution_count": 48,
     "metadata": {},
     "output_type": "execute_result"
    }
   ],
   "source": [
    "cart_model"
   ]
  },
  {
   "cell_type": "code",
   "execution_count": 49,
   "id": "2d332cdb-443d-41d0-a70f-8c439b7fdc57",
   "metadata": {
    "tags": []
   },
   "outputs": [
    {
     "data": {
      "text/html": [
       "<style>#sk-container-id-7 {color: black;}#sk-container-id-7 pre{padding: 0;}#sk-container-id-7 div.sk-toggleable {background-color: white;}#sk-container-id-7 label.sk-toggleable__label {cursor: pointer;display: block;width: 100%;margin-bottom: 0;padding: 0.3em;box-sizing: border-box;text-align: center;}#sk-container-id-7 label.sk-toggleable__label-arrow:before {content: \"▸\";float: left;margin-right: 0.25em;color: #696969;}#sk-container-id-7 label.sk-toggleable__label-arrow:hover:before {color: black;}#sk-container-id-7 div.sk-estimator:hover label.sk-toggleable__label-arrow:before {color: black;}#sk-container-id-7 div.sk-toggleable__content {max-height: 0;max-width: 0;overflow: hidden;text-align: left;background-color: #f0f8ff;}#sk-container-id-7 div.sk-toggleable__content pre {margin: 0.2em;color: black;border-radius: 0.25em;background-color: #f0f8ff;}#sk-container-id-7 input.sk-toggleable__control:checked~div.sk-toggleable__content {max-height: 200px;max-width: 100%;overflow: auto;}#sk-container-id-7 input.sk-toggleable__control:checked~label.sk-toggleable__label-arrow:before {content: \"▾\";}#sk-container-id-7 div.sk-estimator input.sk-toggleable__control:checked~label.sk-toggleable__label {background-color: #d4ebff;}#sk-container-id-7 div.sk-label input.sk-toggleable__control:checked~label.sk-toggleable__label {background-color: #d4ebff;}#sk-container-id-7 input.sk-hidden--visually {border: 0;clip: rect(1px 1px 1px 1px);clip: rect(1px, 1px, 1px, 1px);height: 1px;margin: -1px;overflow: hidden;padding: 0;position: absolute;width: 1px;}#sk-container-id-7 div.sk-estimator {font-family: monospace;background-color: #f0f8ff;border: 1px dotted black;border-radius: 0.25em;box-sizing: border-box;margin-bottom: 0.5em;}#sk-container-id-7 div.sk-estimator:hover {background-color: #d4ebff;}#sk-container-id-7 div.sk-parallel-item::after {content: \"\";width: 100%;border-bottom: 1px solid gray;flex-grow: 1;}#sk-container-id-7 div.sk-label:hover label.sk-toggleable__label {background-color: #d4ebff;}#sk-container-id-7 div.sk-serial::before {content: \"\";position: absolute;border-left: 1px solid gray;box-sizing: border-box;top: 0;bottom: 0;left: 50%;z-index: 0;}#sk-container-id-7 div.sk-serial {display: flex;flex-direction: column;align-items: center;background-color: white;padding-right: 0.2em;padding-left: 0.2em;position: relative;}#sk-container-id-7 div.sk-item {position: relative;z-index: 1;}#sk-container-id-7 div.sk-parallel {display: flex;align-items: stretch;justify-content: center;background-color: white;position: relative;}#sk-container-id-7 div.sk-item::before, #sk-container-id-7 div.sk-parallel-item::before {content: \"\";position: absolute;border-left: 1px solid gray;box-sizing: border-box;top: 0;bottom: 0;left: 50%;z-index: -1;}#sk-container-id-7 div.sk-parallel-item {display: flex;flex-direction: column;z-index: 1;position: relative;background-color: white;}#sk-container-id-7 div.sk-parallel-item:first-child::after {align-self: flex-end;width: 50%;}#sk-container-id-7 div.sk-parallel-item:last-child::after {align-self: flex-start;width: 50%;}#sk-container-id-7 div.sk-parallel-item:only-child::after {width: 0;}#sk-container-id-7 div.sk-dashed-wrapped {border: 1px dashed gray;margin: 0 0.4em 0.5em 0.4em;box-sizing: border-box;padding-bottom: 0.4em;background-color: white;}#sk-container-id-7 div.sk-label label {font-family: monospace;font-weight: bold;display: inline-block;line-height: 1.2em;}#sk-container-id-7 div.sk-label-container {text-align: center;}#sk-container-id-7 div.sk-container {/* jupyter's `normalize.less` sets `[hidden] { display: none; }` but bootstrap.min.css set `[hidden] { display: none !important; }` so we also need the `!important` here to be able to override the default hidden behavior on the sphinx rendered scikit-learn.org. See: https://github.com/scikit-learn/scikit-learn/issues/21755 */display: inline-block !important;position: relative;}#sk-container-id-7 div.sk-text-repr-fallback {display: none;}</style><div id=\"sk-container-id-7\" class=\"sk-top-container\"><div class=\"sk-text-repr-fallback\"><pre>DecisionTreeRegressor(max_leaf_nodes=10)</pre><b>In a Jupyter environment, please rerun this cell to show the HTML representation or trust the notebook. <br />On GitHub, the HTML representation is unable to render, please try loading this page with nbviewer.org.</b></div><div class=\"sk-container\" hidden><div class=\"sk-item\"><div class=\"sk-estimator sk-toggleable\"><input class=\"sk-toggleable__control sk-hidden--visually\" id=\"sk-estimator-id-9\" type=\"checkbox\" checked><label for=\"sk-estimator-id-9\" class=\"sk-toggleable__label sk-toggleable__label-arrow\">DecisionTreeRegressor</label><div class=\"sk-toggleable__content\"><pre>DecisionTreeRegressor(max_leaf_nodes=10)</pre></div></div></div></div></div>"
      ],
      "text/plain": [
       "DecisionTreeRegressor(max_leaf_nodes=10)"
      ]
     },
     "execution_count": 49,
     "metadata": {},
     "output_type": "execute_result"
    }
   ],
   "source": [
    "cart_model.fit(X_train, y_train)"
   ]
  },
  {
   "cell_type": "code",
   "execution_count": 50,
   "id": "12ac1cd9-7588-4fbf-aa96-2690df85a9c3",
   "metadata": {
    "tags": []
   },
   "outputs": [
    {
     "name": "stderr",
     "output_type": "stream",
     "text": [
      "C:\\Users\\Taha\\anaconda3\\Lib\\site-packages\\sklearn\\base.py:464: UserWarning: X does not have valid feature names, but DecisionTreeRegressor was fitted with feature names\n",
      "  warnings.warn(\n"
     ]
    },
    {
     "data": {
      "image/png": "[encoded data removed]",
      "text/plain": [
       "<Figure size 640x480 with 1 Axes>"
      ]
     },
     "metadata": {},
     "output_type": "display_data"
    }
   ],
   "source": [
    "X_grid = np.arange(min(np.array(X_train)), max(np.array(X_train)), 0.01)\n",
    "X_grid = X_grid.reshape((len(X_grid), 1))\n",
    "plt.scatter(X_train, y_train, color = 'red')\n",
    "plt.plot(X_grid, cart_model.predict(X_grid), color = 'blue')\n",
    "plt.title('CART REGRESYON AĞACI')\n",
    "plt.xlabel('Atış Sayısı (Hits)')\n",
    "plt.ylabel('Maaş (Salary)');"
   ]
  },
  {
   "cell_type": "code",
   "execution_count": 51,
   "id": "b14f9b29-9916-4e1c-b555-39baf9c12a65",
   "metadata": {
    "tags": []
   },
   "outputs": [
    {
     "name": "stdout",
     "output_type": "stream",
     "text": [
      "Requirement already satisfied: skompiler in c:\\users\\taha\\anaconda3\\lib\\site-packages (0.7)\n",
      "Requirement already satisfied: scikit-learn>=0.22 in c:\\users\\taha\\anaconda3\\lib\\site-packages (from skompiler) (1.3.0)\n",
      "Requirement already satisfied: numpy>=1.17.3 in c:\\users\\taha\\anaconda3\\lib\\site-packages (from scikit-learn>=0.22->skompiler) (1.24.3)\n",
      "Requirement already satisfied: scipy>=1.5.0 in c:\\users\\taha\\anaconda3\\lib\\site-packages (from scikit-learn>=0.22->skompiler) (1.11.1)\n",
      "Requirement already satisfied: joblib>=1.1.1 in c:\\users\\taha\\anaconda3\\lib\\site-packages (from scikit-learn>=0.22->skompiler) (1.2.0)\n",
      "Requirement already satisfied: threadpoolctl>=2.0.0 in c:\\users\\taha\\anaconda3\\lib\\site-packages (from scikit-learn>=0.22->skompiler) (2.2.0)\n",
      "Requirement already satisfied: astor in c:\\users\\taha\\anaconda3\\lib\\site-packages (0.8.1)\n"
     ]
    }
   ],
   "source": [
    "!pip install skompiler\n",
    "!pip install astor"
   ]
  },
  {
   "cell_type": "code",
   "execution_count": 52,
   "id": "1663ce44-7069-4e25-9f28-01368135ef62",
   "metadata": {
    "tags": []
   },
   "outputs": [],
   "source": [
    "from skompiler import skompile"
   ]
  },
  {
   "cell_type": "code",
   "execution_count": 53,
   "id": "41230226-6c99-4ce8-a7ed-6e026340516c",
   "metadata": {
    "tags": []
   },
   "outputs": [
    {
     "name": "stdout",
     "output_type": "stream",
     "text": [
      "(345.2011551724138 if x[0] <= 117.5 else ((((1300.0 if x[0] <= 118.5 else \n",
      "    641.0) if x[0] <= 122.5 else 1468.5236666666667) if x[0] <= 125.5 else \n",
      "    621.9679230769232) if x[0] <= 143.0 else (958.6111111111111 if x[0] <= \n",
      "    150.5 else 2460.0) if x[0] <= 151.5 else 499.1666666666667 if x[0] <= \n",
      "    157.5 else 892.5402413793104) if x[0] <= 225.5 else 1975.0)\n",
      "\n"
     ]
    }
   ],
   "source": [
    "print(skompile(cart_model.predict).to('python/code'))"
   ]
  },
  {
   "cell_type": "markdown",
   "id": "3a23fabe-d843-43bf-811b-8d25777d510a",
   "metadata": {},
   "source": [
    "# Tahmin"
   ]
  },
  {
   "cell_type": "code",
   "execution_count": 54,
   "id": "73406693-0830-4c88-b6be-f93f1d071e0d",
   "metadata": {
    "tags": []
   },
   "outputs": [],
   "source": [
    "x = [91]"
   ]
  },
  {
   "cell_type": "code",
   "execution_count": 55,
   "id": "bf58a46b-a246-4f59-960f-3a539155e2a5",
   "metadata": {
    "tags": []
   },
   "outputs": [
    {
     "data": {
      "text/plain": [
       "345.2011551724138"
      ]
     },
     "execution_count": 55,
     "metadata": {},
     "output_type": "execute_result"
    }
   ],
   "source": [
    "(345.2011551724138 if x[0] <= 117.5 else ((((1300.0 if x[0] <= 118.5 else \n",
    "    641.0) if x[0] <= 122.5 else 1468.5236666666667) if x[0] <= 125.5 else \n",
    "    621.9679230769232) if x[0] <= 143.0 else (958.6111111111111 if x[0] <= \n",
    "    150.5 else 2460.0) if x[0] <= 151.5 else 499.1666666666667 if x[0] <= \n",
    "    157.5 else 892.5402413793104) if x[0] <= 225.5 else 1975.0)"
   ]
  },
  {
   "cell_type": "code",
   "execution_count": 56,
   "id": "3b91e486-eadc-4adc-9940-fb597e9f1473",
   "metadata": {
    "tags": []
   },
   "outputs": [
    {
     "data": {
      "text/plain": [
       "array([621.96792308, 958.61111111, 621.96792308, 345.20115517,\n",
       "       345.20115517])"
      ]
     },
     "execution_count": 56,
     "metadata": {},
     "output_type": "execute_result"
    }
   ],
   "source": [
    "cart_model.predict(X_test)[0:5]"
   ]
  },
  {
   "cell_type": "code",
   "execution_count": 57,
   "id": "d06fb359-e518-4386-96d9-e4b7a02c85d9",
   "metadata": {
    "tags": []
   },
   "outputs": [
    {
     "name": "stderr",
     "output_type": "stream",
     "text": [
      "C:\\Users\\Taha\\anaconda3\\Lib\\site-packages\\sklearn\\base.py:464: UserWarning: X does not have valid feature names, but DecisionTreeRegressor was fitted with feature names\n",
      "  warnings.warn(\n"
     ]
    },
    {
     "data": {
      "text/plain": [
       "array([345.20115517])"
      ]
     },
     "execution_count": 57,
     "metadata": {},
     "output_type": "execute_result"
    }
   ],
   "source": [
    "cart_model.predict([[91]])"
   ]
  },
  {
   "cell_type": "code",
   "execution_count": 58,
   "id": "0122aab5-b2f2-4d12-b5f2-7386973fe810",
   "metadata": {
    "tags": []
   },
   "outputs": [],
   "source": [
    "y_pred = cart_model.predict(X_test)"
   ]
  },
  {
   "cell_type": "code",
   "execution_count": 59,
   "id": "11e06895-91f0-4d31-8f6b-293500f3033a",
   "metadata": {
    "tags": []
   },
   "outputs": [
    {
     "data": {
      "text/plain": [
       "486.34593105235456"
      ]
     },
     "execution_count": 59,
     "metadata": {},
     "output_type": "execute_result"
    }
   ],
   "source": [
    "np.sqrt(mean_squared_error(y_test, y_pred))"
   ]
  },
  {
   "cell_type": "markdown",
   "id": "3baa28bc-b043-44a7-967d-0aa42df78f7a",
   "metadata": {},
   "source": [
    "# Model Tuning"
   ]
  },
  {
   "cell_type": "code",
   "execution_count": 60,
   "id": "b2fc2dba-c731-4aad-a22d-1c0868c3d7fc",
   "metadata": {
    "tags": []
   },
   "outputs": [],
   "source": [
    "cart_model = DecisionTreeRegressor()\n",
    "cart_model.fit(X_train, y_train)\n",
    "y_pred = cart_model.predict(X_test)"
   ]
  },
  {
   "cell_type": "code",
   "execution_count": 61,
   "id": "162d08e9-d415-45ae-bb85-e9aad22e5052",
   "metadata": {
    "tags": []
   },
   "outputs": [
    {
     "data": {
      "text/plain": [
       "468.49579052913884"
      ]
     },
     "execution_count": 61,
     "metadata": {},
     "output_type": "execute_result"
    }
   ],
   "source": [
    "np.sqrt(mean_squared_error(y_test, y_pred))"
   ]
  },
  {
   "cell_type": "code",
   "execution_count": 62,
   "id": "66d95448-492a-422d-9e38-e28bae9565dd",
   "metadata": {
    "tags": []
   },
   "outputs": [],
   "source": [
    "cart_params = {\"min_sample_split\": range(2,20), \"max_leaf_nodes\": range(2,10)}"
   ]
  },
  {
   "cell_type": "code",
   "execution_count": 63,
   "id": "a86025f4-0bce-401f-b1bb-32a0ea3ca3de",
   "metadata": {
    "tags": []
   },
   "outputs": [],
   "source": [
    "cart_cv_model = GridSearchCV(cart_model, cart_params, cv=10)"
   ]
  },
  {
   "cell_type": "markdown",
   "id": "bab1dccf-7f58-49da-9d1f-912946fb9df8",
   "metadata": {
    "tags": []
   },
   "source": [
    "# Bagged Trees Regresyon"
   ]
  },
  {
   "cell_type": "code",
   "execution_count": 64,
   "id": "0b5e8296-ce38-4dd0-ab88-35ba3e44c1dc",
   "metadata": {
    "tags": []
   },
   "outputs": [],
   "source": [
    "hit = pd.read_csv(\"Hitters.csv\")\n",
    "df = hit.copy()\n",
    "df = df.dropna()\n",
    "dms = pd.get_dummies(df[['League', 'Division', 'NewLeague']])\n",
    "y = df[\"Salary\"]\n",
    "X_ = df.drop(['Salary', 'League', 'Division', 'NewLeague'], axis = 1).astype('float64')\n",
    "X = pd.concat([X_, dms[['League_N', 'Division_W', 'NewLeague_N']]], axis = 1)\n",
    "X_train, X_test, y_train, y_test = train_test_split(X, y, test_size=0.25, random_state=42)"
   ]
  },
  {
   "cell_type": "code",
   "execution_count": 65,
   "id": "0d8e2f5f-8c60-4a55-b3a0-b7d99da65f83",
   "metadata": {
    "tags": []
   },
   "outputs": [
    {
     "data": {
      "text/html": [
       "<style>#sk-container-id-8 {color: black;}#sk-container-id-8 pre{padding: 0;}#sk-container-id-8 div.sk-toggleable {background-color: white;}#sk-container-id-8 label.sk-toggleable__label {cursor: pointer;display: block;width: 100%;margin-bottom: 0;padding: 0.3em;box-sizing: border-box;text-align: center;}#sk-container-id-8 label.sk-toggleable__label-arrow:before {content: \"▸\";float: left;margin-right: 0.25em;color: #696969;}#sk-container-id-8 label.sk-toggleable__label-arrow:hover:before {color: black;}#sk-container-id-8 div.sk-estimator:hover label.sk-toggleable__label-arrow:before {color: black;}#sk-container-id-8 div.sk-toggleable__content {max-height: 0;max-width: 0;overflow: hidden;text-align: left;background-color: #f0f8ff;}#sk-container-id-8 div.sk-toggleable__content pre {margin: 0.2em;color: black;border-radius: 0.25em;background-color: #f0f8ff;}#sk-container-id-8 input.sk-toggleable__control:checked~div.sk-toggleable__content {max-height: 200px;max-width: 100%;overflow: auto;}#sk-container-id-8 input.sk-toggleable__control:checked~label.sk-toggleable__label-arrow:before {content: \"▾\";}#sk-container-id-8 div.sk-estimator input.sk-toggleable__control:checked~label.sk-toggleable__label {background-color: #d4ebff;}#sk-container-id-8 div.sk-label input.sk-toggleable__control:checked~label.sk-toggleable__label {background-color: #d4ebff;}#sk-container-id-8 input.sk-hidden--visually {border: 0;clip: rect(1px 1px 1px 1px);clip: rect(1px, 1px, 1px, 1px);height: 1px;margin: -1px;overflow: hidden;padding: 0;position: absolute;width: 1px;}#sk-container-id-8 div.sk-estimator {font-family: monospace;background-color: #f0f8ff;border: 1px dotted black;border-radius: 0.25em;box-sizing: border-box;margin-bottom: 0.5em;}#sk-container-id-8 div.sk-estimator:hover {background-color: #d4ebff;}#sk-container-id-8 div.sk-parallel-item::after {content: \"\";width: 100%;border-bottom: 1px solid gray;flex-grow: 1;}#sk-container-id-8 div.sk-label:hover label.sk-toggleable__label {background-color: #d4ebff;}#sk-container-id-8 div.sk-serial::before {content: \"\";position: absolute;border-left: 1px solid gray;box-sizing: border-box;top: 0;bottom: 0;left: 50%;z-index: 0;}#sk-container-id-8 div.sk-serial {display: flex;flex-direction: column;align-items: center;background-color: white;padding-right: 0.2em;padding-left: 0.2em;position: relative;}#sk-container-id-8 div.sk-item {position: relative;z-index: 1;}#sk-container-id-8 div.sk-parallel {display: flex;align-items: stretch;justify-content: center;background-color: white;position: relative;}#sk-container-id-8 div.sk-item::before, #sk-container-id-8 div.sk-parallel-item::before {content: \"\";position: absolute;border-left: 1px solid gray;box-sizing: border-box;top: 0;bottom: 0;left: 50%;z-index: -1;}#sk-container-id-8 div.sk-parallel-item {display: flex;flex-direction: column;z-index: 1;position: relative;background-color: white;}#sk-container-id-8 div.sk-parallel-item:first-child::after {align-self: flex-end;width: 50%;}#sk-container-id-8 div.sk-parallel-item:last-child::after {align-self: flex-start;width: 50%;}#sk-container-id-8 div.sk-parallel-item:only-child::after {width: 0;}#sk-container-id-8 div.sk-dashed-wrapped {border: 1px dashed gray;margin: 0 0.4em 0.5em 0.4em;box-sizing: border-box;padding-bottom: 0.4em;background-color: white;}#sk-container-id-8 div.sk-label label {font-family: monospace;font-weight: bold;display: inline-block;line-height: 1.2em;}#sk-container-id-8 div.sk-label-container {text-align: center;}#sk-container-id-8 div.sk-container {/* jupyter's `normalize.less` sets `[hidden] { display: none; }` but bootstrap.min.css set `[hidden] { display: none !important; }` so we also need the `!important` here to be able to override the default hidden behavior on the sphinx rendered scikit-learn.org. See: https://github.com/scikit-learn/scikit-learn/issues/21755 */display: inline-block !important;position: relative;}#sk-container-id-8 div.sk-text-repr-fallback {display: none;}</style><div id=\"sk-container-id-8\" class=\"sk-top-container\"><div class=\"sk-text-repr-fallback\"><pre>BaggingRegressor(bootstrap_features=True)</pre><b>In a Jupyter environment, please rerun this cell to show the HTML representation or trust the notebook. <br />On GitHub, the HTML representation is unable to render, please try loading this page with nbviewer.org.</b></div><div class=\"sk-container\" hidden><div class=\"sk-item\"><div class=\"sk-estimator sk-toggleable\"><input class=\"sk-toggleable__control sk-hidden--visually\" id=\"sk-estimator-id-10\" type=\"checkbox\" checked><label for=\"sk-estimator-id-10\" class=\"sk-toggleable__label sk-toggleable__label-arrow\">BaggingRegressor</label><div class=\"sk-toggleable__content\"><pre>BaggingRegressor(bootstrap_features=True)</pre></div></div></div></div></div>"
      ],
      "text/plain": [
       "BaggingRegressor(bootstrap_features=True)"
      ]
     },
     "execution_count": 65,
     "metadata": {},
     "output_type": "execute_result"
    }
   ],
   "source": [
    "bag_model = BaggingRegressor(bootstrap_features=True)\n",
    "bag_model.fit(X_train, y_train)"
   ]
  },
  {
   "cell_type": "code",
   "execution_count": 66,
   "id": "f4d01324-f18c-4a4d-bf69-34b66c260a23",
   "metadata": {
    "tags": []
   },
   "outputs": [
    {
     "data": {
      "text/plain": [
       "10"
      ]
     },
     "execution_count": 66,
     "metadata": {},
     "output_type": "execute_result"
    }
   ],
   "source": [
    "bag_model.n_estimators"
   ]
  },
  {
   "cell_type": "code",
   "execution_count": 67,
   "id": "5051fa2e-6690-4896-8ec3-a88dd27bf3d5",
   "metadata": {
    "tags": []
   },
   "outputs": [
    {
     "data": {
      "text/plain": [
       "[DecisionTreeRegressor(random_state=1132520591),\n",
       " DecisionTreeRegressor(random_state=1085097060),\n",
       " DecisionTreeRegressor(random_state=2133279412),\n",
       " DecisionTreeRegressor(random_state=1851725342),\n",
       " DecisionTreeRegressor(random_state=32732918),\n",
       " DecisionTreeRegressor(random_state=506028987),\n",
       " DecisionTreeRegressor(random_state=1388146722),\n",
       " DecisionTreeRegressor(random_state=1197188341),\n",
       " DecisionTreeRegressor(random_state=121510738),\n",
       " DecisionTreeRegressor(random_state=209976329)]"
      ]
     },
     "execution_count": 67,
     "metadata": {},
     "output_type": "execute_result"
    }
   ],
   "source": [
    "bag_model.estimators_"
   ]
  },
  {
   "cell_type": "code",
   "execution_count": 68,
   "id": "6937276f-6d8f-47aa-86a5-e2c7f636ceb5",
   "metadata": {
    "tags": []
   },
   "outputs": [
    {
     "data": {
      "text/plain": [
       "[array([135,  98,  12,  17, 143,   2, 186, 112, 188, 116, 119,  21, 167,\n",
       "         44,  96, 185, 125, 144, 180,   4,  83, 182,  53,  46, 171,  97,\n",
       "         10,   0,  39,  39, 180, 129,  34,  12,  58, 157, 106, 158,  15,\n",
       "        133,  77, 190, 195, 154, 170, 178, 135, 165, 123,  93,  27, 130,\n",
       "         30, 151,  15,  77,  57, 187, 190, 121,  76, 174,   4,  76, 148,\n",
       "        143, 186, 188,  15, 117,  63, 189, 144, 169, 121, 145, 173,  74,\n",
       "         11, 136, 177,  14, 190,  82, 150, 133,   5, 152,  34, 157,  36,\n",
       "         59,  87, 102,   7,  42, 157,  22,  43,  11, 110,  28,  17, 141,\n",
       "         94, 135,  19,  27,  28,  88,  85,  52, 126, 142, 177,  70,  80,\n",
       "         58, 156, 139, 132,  53, 141, 132,   2,  18, 181,  38,  45,  66,\n",
       "         98, 112, 173,  98,  65, 160, 106,  77, 165,  13, 180,  72,  87,\n",
       "         39, 120, 179,   3,  73,  42,  71, 117,  61, 160, 137,  56,  37,\n",
       "        146, 137,   1,   1, 193,  54,   0, 180,  68,  16,  48,  21, 176,\n",
       "         26,  78, 182, 179,  88, 156,  80, 160, 172, 120, 110, 184,  71,\n",
       "         96, 164,  26, 178,  60, 196, 161, 119,  46,  32, 153,  80, 137,\n",
       "        135,  37]),\n",
       " array([118, 144,  27, 174,   1, 108, 141, 145,  82, 115,  40,  74, 187,\n",
       "        142,  95, 171,  79,  57, 150,  54, 168,  70,  14,  65,  35,  18,\n",
       "        161,  99,  71,  53,  84,  33, 136,  99, 184, 162,  71, 126,  63,\n",
       "         40,  16,  23,  35, 165, 132, 123, 134,  82, 138, 131,   8,  31,\n",
       "         53, 164, 168, 133, 124,   5, 116, 132,   1, 175, 163,  77,  90,\n",
       "         99,   7,  31, 177,  82,  29,  58,  69, 153,  42,  99, 167, 135,\n",
       "        116, 195,  21, 187,  59,  52, 141,  60, 101,  28,   0,  19,  34,\n",
       "        194, 101,  51,   1,  68,  84,  26, 186,  17,  75,  80,  62,  92,\n",
       "        175,  61,  70, 102, 162, 170, 147,  95,  90,  16, 152, 120, 130,\n",
       "        189, 149, 118,  62, 143,  43,  23, 139,   1, 121,   1, 116,  26,\n",
       "         23,  46,  26, 108,  61,   7, 134,  54, 136,  82, 144,  91,  43,\n",
       "         44, 124, 164, 173, 112,  17, 185,  42,  75, 105,   1, 115,  57,\n",
       "         12,  89, 106, 149,  20, 135,  81, 168,  51,  39, 131,  74,  96,\n",
       "        162,  27,  66, 127,  40,  57,  59, 186, 195,  25, 162,  70, 168,\n",
       "        143, 190, 115,  53, 122, 152, 180,  35, 129,  90,  86,  65,  36,\n",
       "        135,  37]),\n",
       " array([120, 156, 142,  31, 138, 190,  38,  27, 186, 179, 119,   3,   9,\n",
       "          9,   7,  60, 189, 158,  82, 196,  28,  64,  59,  91,  93, 180,\n",
       "        179, 124,  88,  76, 174,  21,  65,  69, 154, 154,   7, 109, 160,\n",
       "        133,  52,  11,   4,  12, 133,   0, 186,  36, 104, 192, 132, 123,\n",
       "         49, 109, 104,   4,  80,  76, 114,  86, 153,  29, 131,  10, 165,\n",
       "        133,  93,  43,  79,  14, 148, 104,  69,  75,  86,  89, 110,  27,\n",
       "         71,  19, 182, 112,  96,  50, 117,  74,   5, 111, 193,   2,  76,\n",
       "         74, 195,  92,  57, 131,  70,   2,  75, 108, 144,  59, 171, 140,\n",
       "        185, 120,  53,  90, 122, 157, 166, 152, 100, 181,   0, 112, 154,\n",
       "         23, 195,  75, 173,  38,  68, 179, 189, 141,   0, 144,  83, 149,\n",
       "        178,  92, 139, 176,  19,  78,  40, 121,   4, 129,  39, 128,   8,\n",
       "        134, 141, 190,  36,  12, 104, 128, 118, 103,  40, 144, 164,  39,\n",
       "        167, 125, 176, 188, 166, 133, 146, 171,  65,  47, 188,  75,  98,\n",
       "        131, 155,  91,  74, 160, 150,  51, 186,  85, 160, 185, 136, 190,\n",
       "        119,  96,  68,  52, 130,  27,  32, 194,  89, 114,  85, 147, 144,\n",
       "         74,  41]),\n",
       " array([ 33,  45, 192,  87, 163, 119, 166,  80,  95, 110,  19, 143,  62,\n",
       "        188, 175, 183,  94, 167,  68, 114, 135,  62, 167, 188, 133, 163,\n",
       "        140, 109, 158, 193, 140,  77,  55, 157, 106,   7,  71, 175, 162,\n",
       "        139,  67, 195, 184, 193,  92,  21, 117, 121, 187, 150,  41, 104,\n",
       "         66, 112,   0, 111, 166,  76, 143, 169, 152, 167, 147, 131,  86,\n",
       "        184, 191, 171, 120,   9, 118,  85, 160,  17, 132,  40,  64,  92,\n",
       "        105,  45,   5,  34,  44,  80,  47,  92, 109,  64, 195,  20, 108,\n",
       "         29,  78,  37, 120, 159,   1,  90, 170, 122,  43,  10,  22,  30,\n",
       "         27, 147,  57,  38, 165, 110,  21,  13,  25,   3, 111,  74,  60,\n",
       "        192,  86,  87, 172, 128, 193,  23,  44,  10,  73,  80,  25,  84,\n",
       "         88,  52,  37, 176, 118,  43, 117,  79, 165, 157, 149,  14, 194,\n",
       "         21,  13, 146, 180,  42,   7, 182,  99, 133, 161,  19,  46, 156,\n",
       "          7, 108, 114, 130,  19, 134, 111,  54,  22, 142, 145, 105,  76,\n",
       "         50,  89, 163,  54,  84,   7,  68,  74,  68,  11,  67,  45,  51,\n",
       "        128, 171,  87,  86,  46, 124, 107,  38, 135, 189, 176, 140,  49,\n",
       "        189, 184]),\n",
       " array([ 80, 110, 129, 138, 185,  19, 158, 128, 123, 188,  73, 149, 173,\n",
       "        111,  20, 121, 194, 176,  27, 148,  96,  16, 116, 146,  46, 189,\n",
       "         87, 195,  80, 170,  42, 186, 131,  53, 114,  84,  19,  76,  93,\n",
       "        112,  95, 191, 178, 106, 162, 168,  28, 170, 136,   5,  35, 181,\n",
       "        104,  35, 136,  58,  94, 106, 158,  58,  21, 129,  85,   8, 106,\n",
       "         46, 137, 184,  89, 166, 181, 158, 187,  28,  85,  67, 118,  31,\n",
       "          4, 160, 105,  54,  86, 167, 155, 110,  21,  98, 190,  24,  43,\n",
       "         99,  65,   3,  79,  81,   9,  89,  52, 175,  41, 159,  98, 139,\n",
       "         48,  70, 129,  99, 101, 159, 186, 117, 182, 111, 123, 193, 106,\n",
       "        118, 138,  58, 189,  58,  61,  55,  69, 194,  29, 107,  12, 141,\n",
       "         13,  18,   0, 150, 161, 146,   8, 140, 189, 187, 194, 143,   1,\n",
       "        106, 175, 113,  96, 148, 117,  61,  58, 135,  16, 144, 105,  66,\n",
       "        108,  81,  46,  65, 126, 142, 124, 147,  59,  93,  95,  16, 173,\n",
       "         94, 149,  16,  59,  65,  54, 117, 172, 156,  59, 183, 124,  33,\n",
       "        169, 166, 123,  10,  49,  62,  35, 112,  43,  17,  18, 152, 174,\n",
       "         50, 130]),\n",
       " array([100, 106, 184,  16, 180,  21, 175, 151,  57, 164, 168,  85,  79,\n",
       "         58, 130, 119,  51, 119,  93,  22, 183,  19,  61,  49,  80,   1,\n",
       "        147, 160,   2, 110, 150, 155, 190, 162,  15, 146, 152,  68, 169,\n",
       "        180, 160, 123,  72, 124, 195,  18,   3,  41,  28,  21, 136,   7,\n",
       "        101, 152, 147,  65, 131, 117, 190,  37,  89, 145,  86, 137,   2,\n",
       "         76, 172,   6,  77,  43, 120, 189, 192, 146,  62, 191, 178,  32,\n",
       "        173, 158, 105, 149,  68, 158,  50, 184, 117, 142, 168,  27, 110,\n",
       "        107, 162, 159, 181, 156,  27,  47, 116, 179,  32, 149, 117,   7,\n",
       "         31, 168,  93,  57, 118, 151,  93, 150,  38, 189, 175, 191,  95,\n",
       "         26, 145, 162,  41, 105, 165, 157,  97, 124,  76,  68, 160, 113,\n",
       "         40,  31,  21,  11,  59,  53,  20, 105,   3, 186, 162,  70, 100,\n",
       "        128,  97, 173, 166,  60, 174, 177,  56, 164, 108, 156, 171,  94,\n",
       "         65, 118,  34, 178,  72,  80,  54, 138,  23, 132, 164, 105,  26,\n",
       "         83, 103,   7, 152,  66,  63,  86, 193, 180,  87, 183, 146,  77,\n",
       "         60, 173,  58, 139, 182,  58, 157, 120,  61, 191, 122, 102, 103,\n",
       "        196,  72]),\n",
       " array([ 33, 174, 195, 182, 131, 133,  79, 130,  37,   6,  59, 192,  85,\n",
       "        156, 125,  89, 113,  57, 115, 137, 122, 125, 131, 121, 121, 101,\n",
       "        141,  13, 120,  40, 109,  85, 157, 126,  47, 165, 192, 131,  73,\n",
       "         70,  41,  89, 105, 181,  18,  62,  76, 195,   5, 164, 117,  63,\n",
       "        133,  83,  34,  75, 181, 142,  25,  49, 175, 135,   1,   2, 136,\n",
       "        174,  72,  98,  31, 175, 121, 176,   5,  35,   2,  56, 104,  21,\n",
       "        188, 132,  79, 156,  79, 151,  24,  72,   4, 188,  27,  91,  22,\n",
       "          1, 138, 112,   0, 106,  34,  93,  58, 105, 194, 195, 183,  35,\n",
       "        171,  68,  71, 139,   7,  15, 154, 101,  83,  50, 152,  97, 196,\n",
       "        117, 181,  87, 169, 187, 194, 182,  26, 151,  90,  80, 176,  74,\n",
       "         30,  56,  83, 144,   2,  41,  47,  42,   7,  78,  66, 168, 154,\n",
       "        179, 126, 117, 167, 177,  63,  62, 169,  95, 129, 140, 168, 156,\n",
       "         10, 174, 117,  74, 164,  89, 114, 143,   5, 180, 116, 157, 139,\n",
       "        101, 170,  57,  73,  88,  46,  21,  29, 172, 192, 151,  11, 143,\n",
       "         66,  43, 180,  62, 196, 168,  98,  68, 143,  36, 174,  60, 117,\n",
       "         64,  82]),\n",
       " array([ 68,   0, 180, 196,  22,  73,  60,  59, 155,   7, 151,  33, 179,\n",
       "         40, 189, 127, 164,  41,  56,  44,  99,  16,  70,  90,  36,  23,\n",
       "        125,  51, 107,  67, 180,  62,  47, 149, 104, 115, 183, 110, 102,\n",
       "         11,  34, 126, 144, 156, 131, 125, 124, 192,  65, 176,  26,  80,\n",
       "        167, 127, 190, 190, 138,  15, 171,  40, 166,  58, 164,  98, 120,\n",
       "        128,  54, 161,  20,  50,  47,  61, 159, 158,  41, 171,  98,  96,\n",
       "         61,   8,  18, 124,  60,  69,   7,  57,  48, 132, 126,  40,  89,\n",
       "        158,  99, 156, 186, 119,   0,  46,  98,  53,  74, 191, 112,  32,\n",
       "        168,  51, 125, 188, 149,  12,  26, 117, 184,  76,  63,  74,  24,\n",
       "         48,  44, 128,  94,  31,  18,  62,   9, 121, 143,  28,  37,   1,\n",
       "         56,   2, 189, 130, 175, 161,  46, 130, 185, 100,  71,  50, 138,\n",
       "        111,  92,  75,  16,  82, 118,   3,  61,  36,  49,  96,  98,  37,\n",
       "          6, 191, 162,  86,  34,   7,  22,  10, 120, 116, 178,   7, 100,\n",
       "        170, 182,  51, 126,  45,  82, 153,  55, 173,  44,  17, 118, 136,\n",
       "         36,  98, 149,  98,  70,  55,  87,   2,  75, 107, 119, 171,  42,\n",
       "         77, 145]),\n",
       " array([ 94, 119,  73,  67, 107, 127, 195,  52, 181, 160, 171, 144, 194,\n",
       "        160,  87,  16, 175, 148,  76,  59,  59, 100,  19,  52, 187,  44,\n",
       "        158, 182, 129,  96, 175,  47,   5,  34, 170,  63,   0,   9,  82,\n",
       "        190, 148, 137, 169, 161, 125,  94, 122, 148,  61,  60, 103, 158,\n",
       "          9, 135, 175, 127, 164,  91, 141,  69, 109, 183, 141,  93, 128,\n",
       "          6,  17, 165, 143,  12, 120, 144, 110, 152, 194, 159, 179,  26,\n",
       "         78,  11,  13,  25, 126,   7,  41,  43,  49,  37, 139, 143, 185,\n",
       "         53,  28,  86, 150,  47,  16, 184, 148, 167,  76,  86, 174, 110,\n",
       "        167,  30,  46, 145,   2,   9,  86, 139, 111,   2, 193,  32,  11,\n",
       "         84,   1,  24,   8, 129, 180, 160, 139, 170, 104, 164,  79,  19,\n",
       "         97, 138, 193,  78, 160, 195, 165, 100, 118, 191, 185,  36,  16,\n",
       "         40, 145,  50,  55, 177,  14, 141, 133,  45,  39,  89, 145,  20,\n",
       "          7,  18, 168,  38,  21,  83,  19,  87, 109,  47,  86,  43, 121,\n",
       "         30, 190, 143,  50, 175,  11, 125,  23, 184,  59,  72,  33,  40,\n",
       "         28, 132,  70,  62,  55, 154, 154,  20, 173,  32,   8, 173, 149,\n",
       "        136,  90]),\n",
       " array([105, 159,  51, 194, 189, 108, 157, 103, 190, 123,  97,   2, 148,\n",
       "         88, 152,  63, 188, 129,  91,  54,  32, 155,   8,  74,  55,  13,\n",
       "         21,  26, 156,  83, 193,  80,  83, 142,  29, 187, 187,  93, 116,\n",
       "        136, 185, 139, 172,  47,  84, 177,  97, 188,  25, 185, 103, 157,\n",
       "         34,  51, 141,  40, 111,  41,  48, 158,   5,  49, 157,  11, 130,\n",
       "        172,  11, 172, 164, 107, 146,  25,  20, 128, 161, 195,  28,  64,\n",
       "        153,  53,  90, 171, 171,  54, 123,   2, 176, 192, 143,  65,  33,\n",
       "          7,  73, 131, 118,  66, 144, 183, 114,  37, 174, 113, 187,  56,\n",
       "         77,  85, 142, 129,  37,  41, 127, 150,  97, 155, 105,  56, 195,\n",
       "         84,  46,  24,  38, 116,   8, 191, 109, 105,  22, 173, 105,  18,\n",
       "        190,  77,  67, 151,  85,  27, 106,  19, 191,  86,  98, 128,  86,\n",
       "         80, 116, 146, 118,  41,  40, 136, 124,  37,  79,  36, 120,  23,\n",
       "         73,  34, 131,  13, 100, 168, 115,  17,  20, 194, 180, 174, 188,\n",
       "        143,   9,   2, 176,  45, 179,  80, 143, 181, 187, 135, 191, 122,\n",
       "         22, 192,  70,  70, 130, 162, 182,  25,  98, 103, 119,  91,  25,\n",
       "         26, 181])]"
      ]
     },
     "execution_count": 68,
     "metadata": {},
     "output_type": "execute_result"
    }
   ],
   "source": [
    "bag_model.estimators_samples_"
   ]
  },
  {
   "cell_type": "code",
   "execution_count": 69,
   "id": "8551238b-57d8-48a9-bc52-50605d11c2ad",
   "metadata": {
    "tags": []
   },
   "outputs": [
    {
     "data": {
      "text/plain": [
       "[array([15,  5, 13, 15,  5,  2,  1, 15,  8,  5,  1,  6,  9, 15, 17,  6, 10,\n",
       "         2,  3]),\n",
       " array([ 4,  8, 14,  8, 14,  9, 12,  7, 10,  9,  8, 15, 15, 16, 16, 11,  6,\n",
       "         3, 11]),\n",
       " array([13,  1, 10, 13,  1,  9,  3, 15, 16,  7,  3,  6,  6, 10, 10, 14,  3,\n",
       "         5,  5]),\n",
       " array([11, 18, 12,  3,  3,  0,  5,  1, 18,  3,  2, 17, 17, 18, 17,  7,  5,\n",
       "        18,  1]),\n",
       " array([ 2, 11, 16, 15, 12,  3, 17, 17, 10,  6,  5,  7, 17,  4, 12,  3,  2,\n",
       "         6,  9]),\n",
       " array([ 5,  5,  6, 14,  2, 16, 16, 15,  6,  7, 12, 13, 14, 11, 16,  2,  1,\n",
       "         3,  2]),\n",
       " array([ 2, 17, 18, 17, 10,  3,  6, 16,  4,  8, 11,  2, 12,  9,  6, 18, 12,\n",
       "         5,  6]),\n",
       " array([ 6, 18,  1, 15, 11, 10, 18, 11, 17,  6, 17,  5,  2, 16,  3,  0,  1,\n",
       "         7,  8]),\n",
       " array([18, 14,  0,  4,  8, 14, 11, 18,  5,  4, 17, 16, 10,  4, 17, 18,  2,\n",
       "        13,  1]),\n",
       " array([ 9,  8, 17, 14,  6, 14, 14,  5,  2,  6, 16, 18, 16, 12,  9,  9, 18,\n",
       "        17,  3])]"
      ]
     },
     "execution_count": 69,
     "metadata": {},
     "output_type": "execute_result"
    }
   ],
   "source": [
    "bag_model.estimators_features_"
   ]
  },
  {
   "cell_type": "code",
   "execution_count": 70,
   "id": "859b430c-fa62-4114-909e-56cc7ab466c8",
   "metadata": {
    "tags": []
   },
   "outputs": [
    {
     "data": {
      "text/html": [
       "<style>#sk-container-id-9 {color: black;}#sk-container-id-9 pre{padding: 0;}#sk-container-id-9 div.sk-toggleable {background-color: white;}#sk-container-id-9 label.sk-toggleable__label {cursor: pointer;display: block;width: 100%;margin-bottom: 0;padding: 0.3em;box-sizing: border-box;text-align: center;}#sk-container-id-9 label.sk-toggleable__label-arrow:before {content: \"▸\";float: left;margin-right: 0.25em;color: #696969;}#sk-container-id-9 label.sk-toggleable__label-arrow:hover:before {color: black;}#sk-container-id-9 div.sk-estimator:hover label.sk-toggleable__label-arrow:before {color: black;}#sk-container-id-9 div.sk-toggleable__content {max-height: 0;max-width: 0;overflow: hidden;text-align: left;background-color: #f0f8ff;}#sk-container-id-9 div.sk-toggleable__content pre {margin: 0.2em;color: black;border-radius: 0.25em;background-color: #f0f8ff;}#sk-container-id-9 input.sk-toggleable__control:checked~div.sk-toggleable__content {max-height: 200px;max-width: 100%;overflow: auto;}#sk-container-id-9 input.sk-toggleable__control:checked~label.sk-toggleable__label-arrow:before {content: \"▾\";}#sk-container-id-9 div.sk-estimator input.sk-toggleable__control:checked~label.sk-toggleable__label {background-color: #d4ebff;}#sk-container-id-9 div.sk-label input.sk-toggleable__control:checked~label.sk-toggleable__label {background-color: #d4ebff;}#sk-container-id-9 input.sk-hidden--visually {border: 0;clip: rect(1px 1px 1px 1px);clip: rect(1px, 1px, 1px, 1px);height: 1px;margin: -1px;overflow: hidden;padding: 0;position: absolute;width: 1px;}#sk-container-id-9 div.sk-estimator {font-family: monospace;background-color: #f0f8ff;border: 1px dotted black;border-radius: 0.25em;box-sizing: border-box;margin-bottom: 0.5em;}#sk-container-id-9 div.sk-estimator:hover {background-color: #d4ebff;}#sk-container-id-9 div.sk-parallel-item::after {content: \"\";width: 100%;border-bottom: 1px solid gray;flex-grow: 1;}#sk-container-id-9 div.sk-label:hover label.sk-toggleable__label {background-color: #d4ebff;}#sk-container-id-9 div.sk-serial::before {content: \"\";position: absolute;border-left: 1px solid gray;box-sizing: border-box;top: 0;bottom: 0;left: 50%;z-index: 0;}#sk-container-id-9 div.sk-serial {display: flex;flex-direction: column;align-items: center;background-color: white;padding-right: 0.2em;padding-left: 0.2em;position: relative;}#sk-container-id-9 div.sk-item {position: relative;z-index: 1;}#sk-container-id-9 div.sk-parallel {display: flex;align-items: stretch;justify-content: center;background-color: white;position: relative;}#sk-container-id-9 div.sk-item::before, #sk-container-id-9 div.sk-parallel-item::before {content: \"\";position: absolute;border-left: 1px solid gray;box-sizing: border-box;top: 0;bottom: 0;left: 50%;z-index: -1;}#sk-container-id-9 div.sk-parallel-item {display: flex;flex-direction: column;z-index: 1;position: relative;background-color: white;}#sk-container-id-9 div.sk-parallel-item:first-child::after {align-self: flex-end;width: 50%;}#sk-container-id-9 div.sk-parallel-item:last-child::after {align-self: flex-start;width: 50%;}#sk-container-id-9 div.sk-parallel-item:only-child::after {width: 0;}#sk-container-id-9 div.sk-dashed-wrapped {border: 1px dashed gray;margin: 0 0.4em 0.5em 0.4em;box-sizing: border-box;padding-bottom: 0.4em;background-color: white;}#sk-container-id-9 div.sk-label label {font-family: monospace;font-weight: bold;display: inline-block;line-height: 1.2em;}#sk-container-id-9 div.sk-label-container {text-align: center;}#sk-container-id-9 div.sk-container {/* jupyter's `normalize.less` sets `[hidden] { display: none; }` but bootstrap.min.css set `[hidden] { display: none !important; }` so we also need the `!important` here to be able to override the default hidden behavior on the sphinx rendered scikit-learn.org. See: https://github.com/scikit-learn/scikit-learn/issues/21755 */display: inline-block !important;position: relative;}#sk-container-id-9 div.sk-text-repr-fallback {display: none;}</style><div id=\"sk-container-id-9\" class=\"sk-top-container\"><div class=\"sk-text-repr-fallback\"><pre>DecisionTreeRegressor(random_state=1132520591)</pre><b>In a Jupyter environment, please rerun this cell to show the HTML representation or trust the notebook. <br />On GitHub, the HTML representation is unable to render, please try loading this page with nbviewer.org.</b></div><div class=\"sk-container\" hidden><div class=\"sk-item\"><div class=\"sk-estimator sk-toggleable\"><input class=\"sk-toggleable__control sk-hidden--visually\" id=\"sk-estimator-id-11\" type=\"checkbox\" checked><label for=\"sk-estimator-id-11\" class=\"sk-toggleable__label sk-toggleable__label-arrow\">DecisionTreeRegressor</label><div class=\"sk-toggleable__content\"><pre>DecisionTreeRegressor(random_state=1132520591)</pre></div></div></div></div></div>"
      ],
      "text/plain": [
       "DecisionTreeRegressor(random_state=1132520591)"
      ]
     },
     "execution_count": 70,
     "metadata": {},
     "output_type": "execute_result"
    }
   ],
   "source": [
    "bag_model.estimators_[0]"
   ]
  },
  {
   "cell_type": "code",
   "execution_count": 71,
   "id": "2c815d7b-f8ac-4a02-9317-877b0b3d29e5",
   "metadata": {
    "tags": []
   },
   "outputs": [
    {
     "data": {
      "text/plain": [
       "array([135,  98,  12,  17, 143,   2, 186, 112, 188, 116, 119,  21, 167,\n",
       "        44,  96, 185, 125, 144, 180,   4,  83, 182,  53,  46, 171,  97,\n",
       "        10,   0,  39,  39, 180, 129,  34,  12,  58, 157, 106, 158,  15,\n",
       "       133,  77, 190, 195, 154, 170, 178, 135, 165, 123,  93,  27, 130,\n",
       "        30, 151,  15,  77,  57, 187, 190, 121,  76, 174,   4,  76, 148,\n",
       "       143, 186, 188,  15, 117,  63, 189, 144, 169, 121, 145, 173,  74,\n",
       "        11, 136, 177,  14, 190,  82, 150, 133,   5, 152,  34, 157,  36,\n",
       "        59,  87, 102,   7,  42, 157,  22,  43,  11, 110,  28,  17, 141,\n",
       "        94, 135,  19,  27,  28,  88,  85,  52, 126, 142, 177,  70,  80,\n",
       "        58, 156, 139, 132,  53, 141, 132,   2,  18, 181,  38,  45,  66,\n",
       "        98, 112, 173,  98,  65, 160, 106,  77, 165,  13, 180,  72,  87,\n",
       "        39, 120, 179,   3,  73,  42,  71, 117,  61, 160, 137,  56,  37,\n",
       "       146, 137,   1,   1, 193,  54,   0, 180,  68,  16,  48,  21, 176,\n",
       "        26,  78, 182, 179,  88, 156,  80, 160, 172, 120, 110, 184,  71,\n",
       "        96, 164,  26, 178,  60, 196, 161, 119,  46,  32, 153,  80, 137,\n",
       "       135,  37])"
      ]
     },
     "execution_count": 71,
     "metadata": {},
     "output_type": "execute_result"
    }
   ],
   "source": [
    "bag_model.estimators_samples_[0]"
   ]
  },
  {
   "cell_type": "code",
   "execution_count": 72,
   "id": "d302408a-d1ae-4f9b-920d-5848a7b88b14",
   "metadata": {
    "tags": []
   },
   "outputs": [
    {
     "data": {
      "text/plain": [
       "array([15,  5, 13, 15,  5,  2,  1, 15,  8,  5,  1,  6,  9, 15, 17,  6, 10,\n",
       "        2,  3])"
      ]
     },
     "execution_count": 72,
     "metadata": {},
     "output_type": "execute_result"
    }
   ],
   "source": [
    "bag_model.estimators_features_[0]"
   ]
  },
  {
   "cell_type": "markdown",
   "id": "02bf54bc-9ae6-4415-8c07-f42f83cdbacf",
   "metadata": {},
   "source": [
    "## Tahmin"
   ]
  },
  {
   "cell_type": "code",
   "execution_count": 73,
   "id": "4b43ebc7-0570-4352-a8dd-e8b6a033ee67",
   "metadata": {
    "tags": []
   },
   "outputs": [],
   "source": [
    "y_pred = bag_model.predict(X_test)"
   ]
  },
  {
   "cell_type": "code",
   "execution_count": 74,
   "id": "16aa1df7-6f4d-4657-add1-472113507169",
   "metadata": {
    "tags": []
   },
   "outputs": [
    {
     "data": {
      "text/plain": [
       "343.66479062131344"
      ]
     },
     "execution_count": 74,
     "metadata": {},
     "output_type": "execute_result"
    }
   ],
   "source": [
    "np.sqrt(mean_squared_error(y_test, y_pred))"
   ]
  },
  {
   "cell_type": "code",
   "execution_count": 75,
   "id": "8f4055e4-9250-4336-bc4c-6fbfa38255ce",
   "metadata": {
    "tags": []
   },
   "outputs": [],
   "source": [
    "iki_y_pred = bag_model.estimators_[1].fit(X_train, y_train).predict(X_test)"
   ]
  },
  {
   "cell_type": "code",
   "execution_count": 76,
   "id": "45772e05-c5dc-43a9-81c0-d8e212851ccd",
   "metadata": {
    "tags": []
   },
   "outputs": [
    {
     "data": {
      "text/plain": [
       "526.3205316065976"
      ]
     },
     "execution_count": 76,
     "metadata": {},
     "output_type": "execute_result"
    }
   ],
   "source": [
    "np.sqrt(mean_squared_error(y_test, iki_y_pred))"
   ]
  },
  {
   "cell_type": "markdown",
   "id": "cbd90340-633a-4b0d-a254-de242768c833",
   "metadata": {},
   "source": [
    "## Model Tuning"
   ]
  },
  {
   "cell_type": "code",
   "execution_count": 77,
   "id": "e1bb7a6d-6e6c-46db-ac0e-0c77e87bc440",
   "metadata": {
    "tags": []
   },
   "outputs": [
    {
     "data": {
      "text/html": [
       "<style>#sk-container-id-10 {color: black;}#sk-container-id-10 pre{padding: 0;}#sk-container-id-10 div.sk-toggleable {background-color: white;}#sk-container-id-10 label.sk-toggleable__label {cursor: pointer;display: block;width: 100%;margin-bottom: 0;padding: 0.3em;box-sizing: border-box;text-align: center;}#sk-container-id-10 label.sk-toggleable__label-arrow:before {content: \"▸\";float: left;margin-right: 0.25em;color: #696969;}#sk-container-id-10 label.sk-toggleable__label-arrow:hover:before {color: black;}#sk-container-id-10 div.sk-estimator:hover label.sk-toggleable__label-arrow:before {color: black;}#sk-container-id-10 div.sk-toggleable__content {max-height: 0;max-width: 0;overflow: hidden;text-align: left;background-color: #f0f8ff;}#sk-container-id-10 div.sk-toggleable__content pre {margin: 0.2em;color: black;border-radius: 0.25em;background-color: #f0f8ff;}#sk-container-id-10 input.sk-toggleable__control:checked~div.sk-toggleable__content {max-height: 200px;max-width: 100%;overflow: auto;}#sk-container-id-10 input.sk-toggleable__control:checked~label.sk-toggleable__label-arrow:before {content: \"▾\";}#sk-container-id-10 div.sk-estimator input.sk-toggleable__control:checked~label.sk-toggleable__label {background-color: #d4ebff;}#sk-container-id-10 div.sk-label input.sk-toggleable__control:checked~label.sk-toggleable__label {background-color: #d4ebff;}#sk-container-id-10 input.sk-hidden--visually {border: 0;clip: rect(1px 1px 1px 1px);clip: rect(1px, 1px, 1px, 1px);height: 1px;margin: -1px;overflow: hidden;padding: 0;position: absolute;width: 1px;}#sk-container-id-10 div.sk-estimator {font-family: monospace;background-color: #f0f8ff;border: 1px dotted black;border-radius: 0.25em;box-sizing: border-box;margin-bottom: 0.5em;}#sk-container-id-10 div.sk-estimator:hover {background-color: #d4ebff;}#sk-container-id-10 div.sk-parallel-item::after {content: \"\";width: 100%;border-bottom: 1px solid gray;flex-grow: 1;}#sk-container-id-10 div.sk-label:hover label.sk-toggleable__label {background-color: #d4ebff;}#sk-container-id-10 div.sk-serial::before {content: \"\";position: absolute;border-left: 1px solid gray;box-sizing: border-box;top: 0;bottom: 0;left: 50%;z-index: 0;}#sk-container-id-10 div.sk-serial {display: flex;flex-direction: column;align-items: center;background-color: white;padding-right: 0.2em;padding-left: 0.2em;position: relative;}#sk-container-id-10 div.sk-item {position: relative;z-index: 1;}#sk-container-id-10 div.sk-parallel {display: flex;align-items: stretch;justify-content: center;background-color: white;position: relative;}#sk-container-id-10 div.sk-item::before, #sk-container-id-10 div.sk-parallel-item::before {content: \"\";position: absolute;border-left: 1px solid gray;box-sizing: border-box;top: 0;bottom: 0;left: 50%;z-index: -1;}#sk-container-id-10 div.sk-parallel-item {display: flex;flex-direction: column;z-index: 1;position: relative;background-color: white;}#sk-container-id-10 div.sk-parallel-item:first-child::after {align-self: flex-end;width: 50%;}#sk-container-id-10 div.sk-parallel-item:last-child::after {align-self: flex-start;width: 50%;}#sk-container-id-10 div.sk-parallel-item:only-child::after {width: 0;}#sk-container-id-10 div.sk-dashed-wrapped {border: 1px dashed gray;margin: 0 0.4em 0.5em 0.4em;box-sizing: border-box;padding-bottom: 0.4em;background-color: white;}#sk-container-id-10 div.sk-label label {font-family: monospace;font-weight: bold;display: inline-block;line-height: 1.2em;}#sk-container-id-10 div.sk-label-container {text-align: center;}#sk-container-id-10 div.sk-container {/* jupyter's `normalize.less` sets `[hidden] { display: none; }` but bootstrap.min.css set `[hidden] { display: none !important; }` so we also need the `!important` here to be able to override the default hidden behavior on the sphinx rendered scikit-learn.org. See: https://github.com/scikit-learn/scikit-learn/issues/21755 */display: inline-block !important;position: relative;}#sk-container-id-10 div.sk-text-repr-fallback {display: none;}</style><div id=\"sk-container-id-10\" class=\"sk-top-container\"><div class=\"sk-text-repr-fallback\"><pre>BaggingRegressor(bootstrap_features=True)</pre><b>In a Jupyter environment, please rerun this cell to show the HTML representation or trust the notebook. <br />On GitHub, the HTML representation is unable to render, please try loading this page with nbviewer.org.</b></div><div class=\"sk-container\" hidden><div class=\"sk-item\"><div class=\"sk-estimator sk-toggleable\"><input class=\"sk-toggleable__control sk-hidden--visually\" id=\"sk-estimator-id-12\" type=\"checkbox\" checked><label for=\"sk-estimator-id-12\" class=\"sk-toggleable__label sk-toggleable__label-arrow\">BaggingRegressor</label><div class=\"sk-toggleable__content\"><pre>BaggingRegressor(bootstrap_features=True)</pre></div></div></div></div></div>"
      ],
      "text/plain": [
       "BaggingRegressor(bootstrap_features=True)"
      ]
     },
     "execution_count": 77,
     "metadata": {},
     "output_type": "execute_result"
    }
   ],
   "source": [
    "bag_model = BaggingRegressor(bootstrap_features=True)\n",
    "bag_model.fit(X_train, y_train)"
   ]
  },
  {
   "cell_type": "code",
   "execution_count": 78,
   "id": "28500ca7-dbf9-4745-a843-95b7ff163008",
   "metadata": {
    "tags": []
   },
   "outputs": [],
   "source": [
    "bag_params = {\"n_estimators\": range(2,20)}"
   ]
  },
  {
   "cell_type": "code",
   "execution_count": 79,
   "id": "5a3e7e6b-ffaf-443e-b903-41a4a699578d",
   "metadata": {
    "tags": []
   },
   "outputs": [],
   "source": [
    "bag_cv_model = GridSearchCV(bag_model, bag_params, cv = 10)"
   ]
  },
  {
   "cell_type": "code",
   "execution_count": 80,
   "id": "53801b41-17fa-474b-bff3-12d43deb1cef",
   "metadata": {
    "tags": []
   },
   "outputs": [
    {
     "data": {
      "text/html": [
       "<style>#sk-container-id-11 {color: black;}#sk-container-id-11 pre{padding: 0;}#sk-container-id-11 div.sk-toggleable {background-color: white;}#sk-container-id-11 label.sk-toggleable__label {cursor: pointer;display: block;width: 100%;margin-bottom: 0;padding: 0.3em;box-sizing: border-box;text-align: center;}#sk-container-id-11 label.sk-toggleable__label-arrow:before {content: \"▸\";float: left;margin-right: 0.25em;color: #696969;}#sk-container-id-11 label.sk-toggleable__label-arrow:hover:before {color: black;}#sk-container-id-11 div.sk-estimator:hover label.sk-toggleable__label-arrow:before {color: black;}#sk-container-id-11 div.sk-toggleable__content {max-height: 0;max-width: 0;overflow: hidden;text-align: left;background-color: #f0f8ff;}#sk-container-id-11 div.sk-toggleable__content pre {margin: 0.2em;color: black;border-radius: 0.25em;background-color: #f0f8ff;}#sk-container-id-11 input.sk-toggleable__control:checked~div.sk-toggleable__content {max-height: 200px;max-width: 100%;overflow: auto;}#sk-container-id-11 input.sk-toggleable__control:checked~label.sk-toggleable__label-arrow:before {content: \"▾\";}#sk-container-id-11 div.sk-estimator input.sk-toggleable__control:checked~label.sk-toggleable__label {background-color: #d4ebff;}#sk-container-id-11 div.sk-label input.sk-toggleable__control:checked~label.sk-toggleable__label {background-color: #d4ebff;}#sk-container-id-11 input.sk-hidden--visually {border: 0;clip: rect(1px 1px 1px 1px);clip: rect(1px, 1px, 1px, 1px);height: 1px;margin: -1px;overflow: hidden;padding: 0;position: absolute;width: 1px;}#sk-container-id-11 div.sk-estimator {font-family: monospace;background-color: #f0f8ff;border: 1px dotted black;border-radius: 0.25em;box-sizing: border-box;margin-bottom: 0.5em;}#sk-container-id-11 div.sk-estimator:hover {background-color: #d4ebff;}#sk-container-id-11 div.sk-parallel-item::after {content: \"\";width: 100%;border-bottom: 1px solid gray;flex-grow: 1;}#sk-container-id-11 div.sk-label:hover label.sk-toggleable__label {background-color: #d4ebff;}#sk-container-id-11 div.sk-serial::before {content: \"\";position: absolute;border-left: 1px solid gray;box-sizing: border-box;top: 0;bottom: 0;left: 50%;z-index: 0;}#sk-container-id-11 div.sk-serial {display: flex;flex-direction: column;align-items: center;background-color: white;padding-right: 0.2em;padding-left: 0.2em;position: relative;}#sk-container-id-11 div.sk-item {position: relative;z-index: 1;}#sk-container-id-11 div.sk-parallel {display: flex;align-items: stretch;justify-content: center;background-color: white;position: relative;}#sk-container-id-11 div.sk-item::before, #sk-container-id-11 div.sk-parallel-item::before {content: \"\";position: absolute;border-left: 1px solid gray;box-sizing: border-box;top: 0;bottom: 0;left: 50%;z-index: -1;}#sk-container-id-11 div.sk-parallel-item {display: flex;flex-direction: column;z-index: 1;position: relative;background-color: white;}#sk-container-id-11 div.sk-parallel-item:first-child::after {align-self: flex-end;width: 50%;}#sk-container-id-11 div.sk-parallel-item:last-child::after {align-self: flex-start;width: 50%;}#sk-container-id-11 div.sk-parallel-item:only-child::after {width: 0;}#sk-container-id-11 div.sk-dashed-wrapped {border: 1px dashed gray;margin: 0 0.4em 0.5em 0.4em;box-sizing: border-box;padding-bottom: 0.4em;background-color: white;}#sk-container-id-11 div.sk-label label {font-family: monospace;font-weight: bold;display: inline-block;line-height: 1.2em;}#sk-container-id-11 div.sk-label-container {text-align: center;}#sk-container-id-11 div.sk-container {/* jupyter's `normalize.less` sets `[hidden] { display: none; }` but bootstrap.min.css set `[hidden] { display: none !important; }` so we also need the `!important` here to be able to override the default hidden behavior on the sphinx rendered scikit-learn.org. See: https://github.com/scikit-learn/scikit-learn/issues/21755 */display: inline-block !important;position: relative;}#sk-container-id-11 div.sk-text-repr-fallback {display: none;}</style><div id=\"sk-container-id-11\" class=\"sk-top-container\"><div class=\"sk-text-repr-fallback\"><pre>GridSearchCV(cv=10, estimator=BaggingRegressor(bootstrap_features=True),\n",
       "             param_grid={&#x27;n_estimators&#x27;: range(2, 20)})</pre><b>In a Jupyter environment, please rerun this cell to show the HTML representation or trust the notebook. <br />On GitHub, the HTML representation is unable to render, please try loading this page with nbviewer.org.</b></div><div class=\"sk-container\" hidden><div class=\"sk-item sk-dashed-wrapped\"><div class=\"sk-label-container\"><div class=\"sk-label sk-toggleable\"><input class=\"sk-toggleable__control sk-hidden--visually\" id=\"sk-estimator-id-13\" type=\"checkbox\" ><label for=\"sk-estimator-id-13\" class=\"sk-toggleable__label sk-toggleable__label-arrow\">GridSearchCV</label><div class=\"sk-toggleable__content\"><pre>GridSearchCV(cv=10, estimator=BaggingRegressor(bootstrap_features=True),\n",
       "             param_grid={&#x27;n_estimators&#x27;: range(2, 20)})</pre></div></div></div><div class=\"sk-parallel\"><div class=\"sk-parallel-item\"><div class=\"sk-item\"><div class=\"sk-label-container\"><div class=\"sk-label sk-toggleable\"><input class=\"sk-toggleable__control sk-hidden--visually\" id=\"sk-estimator-id-14\" type=\"checkbox\" ><label for=\"sk-estimator-id-14\" class=\"sk-toggleable__label sk-toggleable__label-arrow\">estimator: BaggingRegressor</label><div class=\"sk-toggleable__content\"><pre>BaggingRegressor(bootstrap_features=True)</pre></div></div></div><div class=\"sk-serial\"><div class=\"sk-item\"><div class=\"sk-estimator sk-toggleable\"><input class=\"sk-toggleable__control sk-hidden--visually\" id=\"sk-estimator-id-15\" type=\"checkbox\" ><label for=\"sk-estimator-id-15\" class=\"sk-toggleable__label sk-toggleable__label-arrow\">BaggingRegressor</label><div class=\"sk-toggleable__content\"><pre>BaggingRegressor(bootstrap_features=True)</pre></div></div></div></div></div></div></div></div></div></div>"
      ],
      "text/plain": [
       "GridSearchCV(cv=10, estimator=BaggingRegressor(bootstrap_features=True),\n",
       "             param_grid={'n_estimators': range(2, 20)})"
      ]
     },
     "execution_count": 80,
     "metadata": {},
     "output_type": "execute_result"
    }
   ],
   "source": [
    "bag_cv_model.fit(X_train, y_train)"
   ]
  },
  {
   "cell_type": "code",
   "execution_count": 81,
   "id": "d2f569e7-f353-48ad-9104-369e94f6ca6f",
   "metadata": {
    "tags": []
   },
   "outputs": [
    {
     "data": {
      "text/plain": [
       "{'n_estimators': 16}"
      ]
     },
     "execution_count": 81,
     "metadata": {},
     "output_type": "execute_result"
    }
   ],
   "source": [
    "bag_cv_model.best_params_"
   ]
  },
  {
   "cell_type": "code",
   "execution_count": 85,
   "id": "35308d97-2cce-4d57-88fb-c1c2a26d35e1",
   "metadata": {
    "tags": []
   },
   "outputs": [],
   "source": [
    "bag_tuned = BaggingRegressor(n_estimators=16, random_state=45)"
   ]
  },
  {
   "cell_type": "code",
   "execution_count": 86,
   "id": "664b8aed-e161-4fe4-814c-78e6c5cd1597",
   "metadata": {
    "tags": []
   },
   "outputs": [
    {
     "data": {
      "text/html": [
       "<style>#sk-container-id-12 {color: black;}#sk-container-id-12 pre{padding: 0;}#sk-container-id-12 div.sk-toggleable {background-color: white;}#sk-container-id-12 label.sk-toggleable__label {cursor: pointer;display: block;width: 100%;margin-bottom: 0;padding: 0.3em;box-sizing: border-box;text-align: center;}#sk-container-id-12 label.sk-toggleable__label-arrow:before {content: \"▸\";float: left;margin-right: 0.25em;color: #696969;}#sk-container-id-12 label.sk-toggleable__label-arrow:hover:before {color: black;}#sk-container-id-12 div.sk-estimator:hover label.sk-toggleable__label-arrow:before {color: black;}#sk-container-id-12 div.sk-toggleable__content {max-height: 0;max-width: 0;overflow: hidden;text-align: left;background-color: #f0f8ff;}#sk-container-id-12 div.sk-toggleable__content pre {margin: 0.2em;color: black;border-radius: 0.25em;background-color: #f0f8ff;}#sk-container-id-12 input.sk-toggleable__control:checked~div.sk-toggleable__content {max-height: 200px;max-width: 100%;overflow: auto;}#sk-container-id-12 input.sk-toggleable__control:checked~label.sk-toggleable__label-arrow:before {content: \"▾\";}#sk-container-id-12 div.sk-estimator input.sk-toggleable__control:checked~label.sk-toggleable__label {background-color: #d4ebff;}#sk-container-id-12 div.sk-label input.sk-toggleable__control:checked~label.sk-toggleable__label {background-color: #d4ebff;}#sk-container-id-12 input.sk-hidden--visually {border: 0;clip: rect(1px 1px 1px 1px);clip: rect(1px, 1px, 1px, 1px);height: 1px;margin: -1px;overflow: hidden;padding: 0;position: absolute;width: 1px;}#sk-container-id-12 div.sk-estimator {font-family: monospace;background-color: #f0f8ff;border: 1px dotted black;border-radius: 0.25em;box-sizing: border-box;margin-bottom: 0.5em;}#sk-container-id-12 div.sk-estimator:hover {background-color: #d4ebff;}#sk-container-id-12 div.sk-parallel-item::after {content: \"\";width: 100%;border-bottom: 1px solid gray;flex-grow: 1;}#sk-container-id-12 div.sk-label:hover label.sk-toggleable__label {background-color: #d4ebff;}#sk-container-id-12 div.sk-serial::before {content: \"\";position: absolute;border-left: 1px solid gray;box-sizing: border-box;top: 0;bottom: 0;left: 50%;z-index: 0;}#sk-container-id-12 div.sk-serial {display: flex;flex-direction: column;align-items: center;background-color: white;padding-right: 0.2em;padding-left: 0.2em;position: relative;}#sk-container-id-12 div.sk-item {position: relative;z-index: 1;}#sk-container-id-12 div.sk-parallel {display: flex;align-items: stretch;justify-content: center;background-color: white;position: relative;}#sk-container-id-12 div.sk-item::before, #sk-container-id-12 div.sk-parallel-item::before {content: \"\";position: absolute;border-left: 1px solid gray;box-sizing: border-box;top: 0;bottom: 0;left: 50%;z-index: -1;}#sk-container-id-12 div.sk-parallel-item {display: flex;flex-direction: column;z-index: 1;position: relative;background-color: white;}#sk-container-id-12 div.sk-parallel-item:first-child::after {align-self: flex-end;width: 50%;}#sk-container-id-12 div.sk-parallel-item:last-child::after {align-self: flex-start;width: 50%;}#sk-container-id-12 div.sk-parallel-item:only-child::after {width: 0;}#sk-container-id-12 div.sk-dashed-wrapped {border: 1px dashed gray;margin: 0 0.4em 0.5em 0.4em;box-sizing: border-box;padding-bottom: 0.4em;background-color: white;}#sk-container-id-12 div.sk-label label {font-family: monospace;font-weight: bold;display: inline-block;line-height: 1.2em;}#sk-container-id-12 div.sk-label-container {text-align: center;}#sk-container-id-12 div.sk-container {/* jupyter's `normalize.less` sets `[hidden] { display: none; }` but bootstrap.min.css set `[hidden] { display: none !important; }` so we also need the `!important` here to be able to override the default hidden behavior on the sphinx rendered scikit-learn.org. See: https://github.com/scikit-learn/scikit-learn/issues/21755 */display: inline-block !important;position: relative;}#sk-container-id-12 div.sk-text-repr-fallback {display: none;}</style><div id=\"sk-container-id-12\" class=\"sk-top-container\"><div class=\"sk-text-repr-fallback\"><pre>BaggingRegressor(n_estimators=16, random_state=45)</pre><b>In a Jupyter environment, please rerun this cell to show the HTML representation or trust the notebook. <br />On GitHub, the HTML representation is unable to render, please try loading this page with nbviewer.org.</b></div><div class=\"sk-container\" hidden><div class=\"sk-item\"><div class=\"sk-estimator sk-toggleable\"><input class=\"sk-toggleable__control sk-hidden--visually\" id=\"sk-estimator-id-16\" type=\"checkbox\" checked><label for=\"sk-estimator-id-16\" class=\"sk-toggleable__label sk-toggleable__label-arrow\">BaggingRegressor</label><div class=\"sk-toggleable__content\"><pre>BaggingRegressor(n_estimators=16, random_state=45)</pre></div></div></div></div></div>"
      ],
      "text/plain": [
       "BaggingRegressor(n_estimators=16, random_state=45)"
      ]
     },
     "execution_count": 86,
     "metadata": {},
     "output_type": "execute_result"
    }
   ],
   "source": [
    "bag_tuned.fit(X_train, y_train)"
   ]
  },
  {
   "cell_type": "code",
   "execution_count": 87,
   "id": "9608c128-276a-4bbe-9d02-028df7ae33a0",
   "metadata": {
    "tags": []
   },
   "outputs": [],
   "source": [
    "y_pred = bag_tuned.predict(X_test)"
   ]
  },
  {
   "cell_type": "code",
   "execution_count": 88,
   "id": "4b310145-cf18-45ab-b4a0-361d687a030f",
   "metadata": {
    "tags": []
   },
   "outputs": [
    {
     "data": {
      "text/plain": [
       "343.8174114256221"
      ]
     },
     "execution_count": 88,
     "metadata": {},
     "output_type": "execute_result"
    }
   ],
   "source": [
    "np.sqrt(mean_squared_error(y_test, y_pred))"
   ]
  },
  {
   "cell_type": "markdown",
   "id": "36eb44b7-0291-4fdb-bbe8-d6262bfd270d",
   "metadata": {},
   "source": [
    "# Random Forests"
   ]
  },
  {
   "cell_type": "code",
   "execution_count": 82,
   "id": "9e72eabe-bceb-4781-a6b1-0d19943944b0",
   "metadata": {
    "tags": []
   },
   "outputs": [],
   "source": [
    "hit = pd.read_csv(\"Hitters.csv\")\n",
    "df = hit.copy()\n",
    "df = df.dropna()\n",
    "dms = pd.get_dummies(df[['League', 'Division', 'NewLeague']])\n",
    "y = df[\"Salary\"]\n",
    "X_ = df.drop(['Salary', 'League', 'Division', 'NewLeague'], axis = 1).astype('float64')\n",
    "X = pd.concat([X_, dms[['League_N', 'Division_W', 'NewLeague_N']]], axis = 1)\n",
    "X_train, X_test, y_train, y_test = train_test_split(X, y, test_size=0.25, random_state=42)"
   ]
  },
  {
   "cell_type": "code",
   "execution_count": 83,
   "id": "bd274c78-299d-4c29-9dda-69c340afceb5",
   "metadata": {
    "tags": []
   },
   "outputs": [],
   "source": [
    "from sklearn.ensemble import RandomForestRegressor"
   ]
  },
  {
   "cell_type": "code",
   "execution_count": 84,
   "id": "a6054be2-aa11-4090-b521-7c8397562e40",
   "metadata": {
    "tags": []
   },
   "outputs": [],
   "source": [
    "rf_model = RandomForestRegressor(random_state=42)"
   ]
  },
  {
   "cell_type": "code",
   "execution_count": 85,
   "id": "11ef4923-dbbe-47ec-a2ab-30558b5182cb",
   "metadata": {
    "tags": []
   },
   "outputs": [
    {
     "data": {
      "text/html": [
       "<style>#sk-container-id-12 {color: black;}#sk-container-id-12 pre{padding: 0;}#sk-container-id-12 div.sk-toggleable {background-color: white;}#sk-container-id-12 label.sk-toggleable__label {cursor: pointer;display: block;width: 100%;margin-bottom: 0;padding: 0.3em;box-sizing: border-box;text-align: center;}#sk-container-id-12 label.sk-toggleable__label-arrow:before {content: \"▸\";float: left;margin-right: 0.25em;color: #696969;}#sk-container-id-12 label.sk-toggleable__label-arrow:hover:before {color: black;}#sk-container-id-12 div.sk-estimator:hover label.sk-toggleable__label-arrow:before {color: black;}#sk-container-id-12 div.sk-toggleable__content {max-height: 0;max-width: 0;overflow: hidden;text-align: left;background-color: #f0f8ff;}#sk-container-id-12 div.sk-toggleable__content pre {margin: 0.2em;color: black;border-radius: 0.25em;background-color: #f0f8ff;}#sk-container-id-12 input.sk-toggleable__control:checked~div.sk-toggleable__content {max-height: 200px;max-width: 100%;overflow: auto;}#sk-container-id-12 input.sk-toggleable__control:checked~label.sk-toggleable__label-arrow:before {content: \"▾\";}#sk-container-id-12 div.sk-estimator input.sk-toggleable__control:checked~label.sk-toggleable__label {background-color: #d4ebff;}#sk-container-id-12 div.sk-label input.sk-toggleable__control:checked~label.sk-toggleable__label {background-color: #d4ebff;}#sk-container-id-12 input.sk-hidden--visually {border: 0;clip: rect(1px 1px 1px 1px);clip: rect(1px, 1px, 1px, 1px);height: 1px;margin: -1px;overflow: hidden;padding: 0;position: absolute;width: 1px;}#sk-container-id-12 div.sk-estimator {font-family: monospace;background-color: #f0f8ff;border: 1px dotted black;border-radius: 0.25em;box-sizing: border-box;margin-bottom: 0.5em;}#sk-container-id-12 div.sk-estimator:hover {background-color: #d4ebff;}#sk-container-id-12 div.sk-parallel-item::after {content: \"\";width: 100%;border-bottom: 1px solid gray;flex-grow: 1;}#sk-container-id-12 div.sk-label:hover label.sk-toggleable__label {background-color: #d4ebff;}#sk-container-id-12 div.sk-serial::before {content: \"\";position: absolute;border-left: 1px solid gray;box-sizing: border-box;top: 0;bottom: 0;left: 50%;z-index: 0;}#sk-container-id-12 div.sk-serial {display: flex;flex-direction: column;align-items: center;background-color: white;padding-right: 0.2em;padding-left: 0.2em;position: relative;}#sk-container-id-12 div.sk-item {position: relative;z-index: 1;}#sk-container-id-12 div.sk-parallel {display: flex;align-items: stretch;justify-content: center;background-color: white;position: relative;}#sk-container-id-12 div.sk-item::before, #sk-container-id-12 div.sk-parallel-item::before {content: \"\";position: absolute;border-left: 1px solid gray;box-sizing: border-box;top: 0;bottom: 0;left: 50%;z-index: -1;}#sk-container-id-12 div.sk-parallel-item {display: flex;flex-direction: column;z-index: 1;position: relative;background-color: white;}#sk-container-id-12 div.sk-parallel-item:first-child::after {align-self: flex-end;width: 50%;}#sk-container-id-12 div.sk-parallel-item:last-child::after {align-self: flex-start;width: 50%;}#sk-container-id-12 div.sk-parallel-item:only-child::after {width: 0;}#sk-container-id-12 div.sk-dashed-wrapped {border: 1px dashed gray;margin: 0 0.4em 0.5em 0.4em;box-sizing: border-box;padding-bottom: 0.4em;background-color: white;}#sk-container-id-12 div.sk-label label {font-family: monospace;font-weight: bold;display: inline-block;line-height: 1.2em;}#sk-container-id-12 div.sk-label-container {text-align: center;}#sk-container-id-12 div.sk-container {/* jupyter's `normalize.less` sets `[hidden] { display: none; }` but bootstrap.min.css set `[hidden] { display: none !important; }` so we also need the `!important` here to be able to override the default hidden behavior on the sphinx rendered scikit-learn.org. See: https://github.com/scikit-learn/scikit-learn/issues/21755 */display: inline-block !important;position: relative;}#sk-container-id-12 div.sk-text-repr-fallback {display: none;}</style><div id=\"sk-container-id-12\" class=\"sk-top-container\"><div class=\"sk-text-repr-fallback\"><pre>RandomForestRegressor(random_state=42)</pre><b>In a Jupyter environment, please rerun this cell to show the HTML representation or trust the notebook. <br />On GitHub, the HTML representation is unable to render, please try loading this page with nbviewer.org.</b></div><div class=\"sk-container\" hidden><div class=\"sk-item\"><div class=\"sk-estimator sk-toggleable\"><input class=\"sk-toggleable__control sk-hidden--visually\" id=\"sk-estimator-id-16\" type=\"checkbox\" checked><label for=\"sk-estimator-id-16\" class=\"sk-toggleable__label sk-toggleable__label-arrow\">RandomForestRegressor</label><div class=\"sk-toggleable__content\"><pre>RandomForestRegressor(random_state=42)</pre></div></div></div></div></div>"
      ],
      "text/plain": [
       "RandomForestRegressor(random_state=42)"
      ]
     },
     "execution_count": 85,
     "metadata": {},
     "output_type": "execute_result"
    }
   ],
   "source": [
    "rf_model.fit(X_train, y_train)"
   ]
  },
  {
   "cell_type": "markdown",
   "id": "e94944f0-06d8-4a95-a674-7adc2608486f",
   "metadata": {},
   "source": [
    "## Tahmin"
   ]
  },
  {
   "cell_type": "code",
   "execution_count": 86,
   "id": "9b531283-7015-4209-be64-d8846cb76b51",
   "metadata": {
    "tags": []
   },
   "outputs": [
    {
     "data": {
      "text/plain": [
       "array([ 738.69167,  913.51164, 1181.145  ,  139.65167,  634.60833])"
      ]
     },
     "execution_count": 86,
     "metadata": {},
     "output_type": "execute_result"
    }
   ],
   "source": [
    "rf_model.predict(X_test)[0:5]"
   ]
  },
  {
   "cell_type": "code",
   "execution_count": 87,
   "id": "6028dd2a-37e5-48fa-b1a1-57802de57151",
   "metadata": {
    "tags": []
   },
   "outputs": [],
   "source": [
    "y_pred = rf_model.predict(X_test)"
   ]
  },
  {
   "cell_type": "code",
   "execution_count": 88,
   "id": "7b61c165-7d28-49fd-b27d-ee5aed05c077",
   "metadata": {
    "tags": []
   },
   "outputs": [
    {
     "data": {
      "text/plain": [
       "344.8191624908484"
      ]
     },
     "execution_count": 88,
     "metadata": {},
     "output_type": "execute_result"
    }
   ],
   "source": [
    "np.sqrt(mean_squared_error(y_test, y_pred))"
   ]
  },
  {
   "cell_type": "markdown",
   "id": "ce4cc531-d4d0-4ac0-b1b7-0f4e3b529771",
   "metadata": {},
   "source": [
    "## Model Tuning"
   ]
  },
  {
   "cell_type": "code",
   "execution_count": 89,
   "id": "0e653619-eef8-4351-adb5-1323951dc1d8",
   "metadata": {
    "tags": []
   },
   "outputs": [],
   "source": [
    "rf_params = {'max_depth': list(range(1,10)), \n",
    "            'max_features': [3,5,10,15], \n",
    "            'n_estimators': [100, 200, 500, 1000, 2000]}"
   ]
  },
  {
   "cell_type": "code",
   "execution_count": 90,
   "id": "3dec6f24-e45a-44d7-83ef-4b6376fe6162",
   "metadata": {
    "tags": []
   },
   "outputs": [],
   "source": [
    "rf_model = RandomForestRegressor(random_state=42)"
   ]
  },
  {
   "cell_type": "code",
   "execution_count": 91,
   "id": "cf621ccd-fea9-4d06-b073-495c13923c22",
   "metadata": {
    "tags": []
   },
   "outputs": [],
   "source": [
    "rf_cv_model = GridSearchCV(rf_model, \n",
    "                          rf_params, \n",
    "                          cv = 10, \n",
    "                          n_jobs= -1)"
   ]
  },
  {
   "cell_type": "code",
   "execution_count": 92,
   "id": "58b560af-0ecb-4dda-847d-3008936ad6b1",
   "metadata": {
    "tags": []
   },
   "outputs": [
    {
     "data": {
      "text/html": [
       "<style>#sk-container-id-13 {color: black;}#sk-container-id-13 pre{padding: 0;}#sk-container-id-13 div.sk-toggleable {background-color: white;}#sk-container-id-13 label.sk-toggleable__label {cursor: pointer;display: block;width: 100%;margin-bottom: 0;padding: 0.3em;box-sizing: border-box;text-align: center;}#sk-container-id-13 label.sk-toggleable__label-arrow:before {content: \"▸\";float: left;margin-right: 0.25em;color: #696969;}#sk-container-id-13 label.sk-toggleable__label-arrow:hover:before {color: black;}#sk-container-id-13 div.sk-estimator:hover label.sk-toggleable__label-arrow:before {color: black;}#sk-container-id-13 div.sk-toggleable__content {max-height: 0;max-width: 0;overflow: hidden;text-align: left;background-color: #f0f8ff;}#sk-container-id-13 div.sk-toggleable__content pre {margin: 0.2em;color: black;border-radius: 0.25em;background-color: #f0f8ff;}#sk-container-id-13 input.sk-toggleable__control:checked~div.sk-toggleable__content {max-height: 200px;max-width: 100%;overflow: auto;}#sk-container-id-13 input.sk-toggleable__control:checked~label.sk-toggleable__label-arrow:before {content: \"▾\";}#sk-container-id-13 div.sk-estimator input.sk-toggleable__control:checked~label.sk-toggleable__label {background-color: #d4ebff;}#sk-container-id-13 div.sk-label input.sk-toggleable__control:checked~label.sk-toggleable__label {background-color: #d4ebff;}#sk-container-id-13 input.sk-hidden--visually {border: 0;clip: rect(1px 1px 1px 1px);clip: rect(1px, 1px, 1px, 1px);height: 1px;margin: -1px;overflow: hidden;padding: 0;position: absolute;width: 1px;}#sk-container-id-13 div.sk-estimator {font-family: monospace;background-color: #f0f8ff;border: 1px dotted black;border-radius: 0.25em;box-sizing: border-box;margin-bottom: 0.5em;}#sk-container-id-13 div.sk-estimator:hover {background-color: #d4ebff;}#sk-container-id-13 div.sk-parallel-item::after {content: \"\";width: 100%;border-bottom: 1px solid gray;flex-grow: 1;}#sk-container-id-13 div.sk-label:hover label.sk-toggleable__label {background-color: #d4ebff;}#sk-container-id-13 div.sk-serial::before {content: \"\";position: absolute;border-left: 1px solid gray;box-sizing: border-box;top: 0;bottom: 0;left: 50%;z-index: 0;}#sk-container-id-13 div.sk-serial {display: flex;flex-direction: column;align-items: center;background-color: white;padding-right: 0.2em;padding-left: 0.2em;position: relative;}#sk-container-id-13 div.sk-item {position: relative;z-index: 1;}#sk-container-id-13 div.sk-parallel {display: flex;align-items: stretch;justify-content: center;background-color: white;position: relative;}#sk-container-id-13 div.sk-item::before, #sk-container-id-13 div.sk-parallel-item::before {content: \"\";position: absolute;border-left: 1px solid gray;box-sizing: border-box;top: 0;bottom: 0;left: 50%;z-index: -1;}#sk-container-id-13 div.sk-parallel-item {display: flex;flex-direction: column;z-index: 1;position: relative;background-color: white;}#sk-container-id-13 div.sk-parallel-item:first-child::after {align-self: flex-end;width: 50%;}#sk-container-id-13 div.sk-parallel-item:last-child::after {align-self: flex-start;width: 50%;}#sk-container-id-13 div.sk-parallel-item:only-child::after {width: 0;}#sk-container-id-13 div.sk-dashed-wrapped {border: 1px dashed gray;margin: 0 0.4em 0.5em 0.4em;box-sizing: border-box;padding-bottom: 0.4em;background-color: white;}#sk-container-id-13 div.sk-label label {font-family: monospace;font-weight: bold;display: inline-block;line-height: 1.2em;}#sk-container-id-13 div.sk-label-container {text-align: center;}#sk-container-id-13 div.sk-container {/* jupyter's `normalize.less` sets `[hidden] { display: none; }` but bootstrap.min.css set `[hidden] { display: none !important; }` so we also need the `!important` here to be able to override the default hidden behavior on the sphinx rendered scikit-learn.org. See: https://github.com/scikit-learn/scikit-learn/issues/21755 */display: inline-block !important;position: relative;}#sk-container-id-13 div.sk-text-repr-fallback {display: none;}</style><div id=\"sk-container-id-13\" class=\"sk-top-container\"><div class=\"sk-text-repr-fallback\"><pre>GridSearchCV(cv=10, estimator=RandomForestRegressor(random_state=42), n_jobs=-1,\n",
       "             param_grid={&#x27;max_depth&#x27;: [1, 2, 3, 4, 5, 6, 7, 8, 9],\n",
       "                         &#x27;max_features&#x27;: [3, 5, 10, 15],\n",
       "                         &#x27;n_estimators&#x27;: [100, 200, 500, 1000, 2000]})</pre><b>In a Jupyter environment, please rerun this cell to show the HTML representation or trust the notebook. <br />On GitHub, the HTML representation is unable to render, please try loading this page with nbviewer.org.</b></div><div class=\"sk-container\" hidden><div class=\"sk-item sk-dashed-wrapped\"><div class=\"sk-label-container\"><div class=\"sk-label sk-toggleable\"><input class=\"sk-toggleable__control sk-hidden--visually\" id=\"sk-estimator-id-17\" type=\"checkbox\" ><label for=\"sk-estimator-id-17\" class=\"sk-toggleable__label sk-toggleable__label-arrow\">GridSearchCV</label><div class=\"sk-toggleable__content\"><pre>GridSearchCV(cv=10, estimator=RandomForestRegressor(random_state=42), n_jobs=-1,\n",
       "             param_grid={&#x27;max_depth&#x27;: [1, 2, 3, 4, 5, 6, 7, 8, 9],\n",
       "                         &#x27;max_features&#x27;: [3, 5, 10, 15],\n",
       "                         &#x27;n_estimators&#x27;: [100, 200, 500, 1000, 2000]})</pre></div></div></div><div class=\"sk-parallel\"><div class=\"sk-parallel-item\"><div class=\"sk-item\"><div class=\"sk-label-container\"><div class=\"sk-label sk-toggleable\"><input class=\"sk-toggleable__control sk-hidden--visually\" id=\"sk-estimator-id-18\" type=\"checkbox\" ><label for=\"sk-estimator-id-18\" class=\"sk-toggleable__label sk-toggleable__label-arrow\">estimator: RandomForestRegressor</label><div class=\"sk-toggleable__content\"><pre>RandomForestRegressor(random_state=42)</pre></div></div></div><div class=\"sk-serial\"><div class=\"sk-item\"><div class=\"sk-estimator sk-toggleable\"><input class=\"sk-toggleable__control sk-hidden--visually\" id=\"sk-estimator-id-19\" type=\"checkbox\" ><label for=\"sk-estimator-id-19\" class=\"sk-toggleable__label sk-toggleable__label-arrow\">RandomForestRegressor</label><div class=\"sk-toggleable__content\"><pre>RandomForestRegressor(random_state=42)</pre></div></div></div></div></div></div></div></div></div></div>"
      ],
      "text/plain": [
       "GridSearchCV(cv=10, estimator=RandomForestRegressor(random_state=42), n_jobs=-1,\n",
       "             param_grid={'max_depth': [1, 2, 3, 4, 5, 6, 7, 8, 9],\n",
       "                         'max_features': [3, 5, 10, 15],\n",
       "                         'n_estimators': [100, 200, 500, 1000, 2000]})"
      ]
     },
     "execution_count": 92,
     "metadata": {},
     "output_type": "execute_result"
    }
   ],
   "source": [
    "rf_cv_model.fit(X_train, y_train)"
   ]
  },
  {
   "cell_type": "code",
   "execution_count": 101,
   "id": "1082f7c8-2805-4b7f-bd6e-f8145edceb11",
   "metadata": {
    "tags": []
   },
   "outputs": [
    {
     "data": {
      "text/plain": [
       "{'max_depth': 8, 'max_features': 3, 'n_estimators': 200}"
      ]
     },
     "execution_count": 101,
     "metadata": {},
     "output_type": "execute_result"
    }
   ],
   "source": [
    "rf_cv_model.best_params_"
   ]
  },
  {
   "cell_type": "code",
   "execution_count": 102,
   "id": "15172e82-7f14-4fd6-a878-955848d8dc7e",
   "metadata": {
    "tags": []
   },
   "outputs": [],
   "source": [
    "rf_tuned = RandomForestRegressor(max_depth=8, \n",
    "                                 max_features=3, \n",
    "                                 n_estimators=200)"
   ]
  },
  {
   "cell_type": "code",
   "execution_count": 103,
   "id": "ffacea32-9665-4a14-8e00-ad40b54295d3",
   "metadata": {
    "tags": []
   },
   "outputs": [],
   "source": [
    "rf_tuned = rf_tuned.fit(X_train, y_train)"
   ]
  },
  {
   "cell_type": "code",
   "execution_count": 104,
   "id": "ac3cdec4-1d02-4f51-986f-7e10e1678266",
   "metadata": {
    "tags": []
   },
   "outputs": [],
   "source": [
    "y_pred = rf_tuned.predict(X_test)"
   ]
  },
  {
   "cell_type": "code",
   "execution_count": 105,
   "id": "bdb5ab45-bffd-43d7-9248-4eeef3148fce",
   "metadata": {
    "tags": []
   },
   "outputs": [
    {
     "data": {
      "text/plain": [
       "344.3296190619885"
      ]
     },
     "execution_count": 105,
     "metadata": {},
     "output_type": "execute_result"
    }
   ],
   "source": [
    "np.sqrt(mean_squared_error(y_test, y_pred))"
   ]
  },
  {
   "cell_type": "code",
   "execution_count": 108,
   "id": "5b3920ac-b030-4708-990f-b6870c982f9c",
   "metadata": {
    "tags": []
   },
   "outputs": [],
   "source": [
    "Importance = pd.DataFrame({\"Importance\": rf_tuned.feature_importances_*100}, index = X_train.columns)"
   ]
  },
  {
   "cell_type": "code",
   "execution_count": 110,
   "id": "1a802c0e-d578-4678-85c1-8fac08e23561",
   "metadata": {
    "tags": []
   },
   "outputs": [
    {
     "data": {
      "image/png": "[encoded data removed]",
      "text/plain": [
       "<Figure size 640x480 with 1 Axes>"
      ]
     },
     "metadata": {},
     "output_type": "display_data"
    }
   ],
   "source": [
    "Importance.sort_values(by=\"Importance\",\n",
    "                       axis=0,\n",
    "                       ascending=True).plot(kind = \"barh\",\n",
    "                                            color = \"r\")\n",
    "\n",
    "plt.xlabel(\"Değişkenlerin Önem Düzeyleri\");"
   ]
  },
  {
   "cell_type": "markdown",
   "id": "759319c9-c85e-4a0f-bda2-ee8eecd64c64",
   "metadata": {},
   "source": [
    "# Gradient Boosting Machines"
   ]
  },
  {
   "cell_type": "code",
   "execution_count": 113,
   "id": "7a643383-56ea-472c-b80b-05c77bd08751",
   "metadata": {
    "tags": []
   },
   "outputs": [],
   "source": [
    "hit = pd.read_csv(\"Hitters.csv\")\n",
    "df = hit.copy()\n",
    "df = df.dropna()\n",
    "dms = pd.get_dummies(df[['League', 'Division', 'NewLeague']])\n",
    "y = df[\"Salary\"]\n",
    "X_ = df.drop(['Salary', 'League', 'Division', 'NewLeague'], axis = 1).astype('float64')\n",
    "X = pd.concat([X_, dms[['League_N', 'Division_W', 'NewLeague_N']]], axis = 1)\n",
    "X_train, X_test, y_train, y_test = train_test_split(X, y, test_size=0.25, random_state=42)"
   ]
  },
  {
   "cell_type": "code",
   "execution_count": 114,
   "id": "bd4f6331-2d82-47cc-92f3-954151778c9e",
   "metadata": {
    "tags": []
   },
   "outputs": [],
   "source": [
    "from sklearn.ensemble import GradientBoostingRegressor"
   ]
  },
  {
   "cell_type": "code",
   "execution_count": 115,
   "id": "f4eaa30e-67b9-44c3-8367-fbd1a92011ab",
   "metadata": {
    "tags": []
   },
   "outputs": [
    {
     "data": {
      "text/html": [
       "<style>#sk-container-id-15 {color: black;}#sk-container-id-15 pre{padding: 0;}#sk-container-id-15 div.sk-toggleable {background-color: white;}#sk-container-id-15 label.sk-toggleable__label {cursor: pointer;display: block;width: 100%;margin-bottom: 0;padding: 0.3em;box-sizing: border-box;text-align: center;}#sk-container-id-15 label.sk-toggleable__label-arrow:before {content: \"▸\";float: left;margin-right: 0.25em;color: #696969;}#sk-container-id-15 label.sk-toggleable__label-arrow:hover:before {color: black;}#sk-container-id-15 div.sk-estimator:hover label.sk-toggleable__label-arrow:before {color: black;}#sk-container-id-15 div.sk-toggleable__content {max-height: 0;max-width: 0;overflow: hidden;text-align: left;background-color: #f0f8ff;}#sk-container-id-15 div.sk-toggleable__content pre {margin: 0.2em;color: black;border-radius: 0.25em;background-color: #f0f8ff;}#sk-container-id-15 input.sk-toggleable__control:checked~div.sk-toggleable__content {max-height: 200px;max-width: 100%;overflow: auto;}#sk-container-id-15 input.sk-toggleable__control:checked~label.sk-toggleable__label-arrow:before {content: \"▾\";}#sk-container-id-15 div.sk-estimator input.sk-toggleable__control:checked~label.sk-toggleable__label {background-color: #d4ebff;}#sk-container-id-15 div.sk-label input.sk-toggleable__control:checked~label.sk-toggleable__label {background-color: #d4ebff;}#sk-container-id-15 input.sk-hidden--visually {border: 0;clip: rect(1px 1px 1px 1px);clip: rect(1px, 1px, 1px, 1px);height: 1px;margin: -1px;overflow: hidden;padding: 0;position: absolute;width: 1px;}#sk-container-id-15 div.sk-estimator {font-family: monospace;background-color: #f0f8ff;border: 1px dotted black;border-radius: 0.25em;box-sizing: border-box;margin-bottom: 0.5em;}#sk-container-id-15 div.sk-estimator:hover {background-color: #d4ebff;}#sk-container-id-15 div.sk-parallel-item::after {content: \"\";width: 100%;border-bottom: 1px solid gray;flex-grow: 1;}#sk-container-id-15 div.sk-label:hover label.sk-toggleable__label {background-color: #d4ebff;}#sk-container-id-15 div.sk-serial::before {content: \"\";position: absolute;border-left: 1px solid gray;box-sizing: border-box;top: 0;bottom: 0;left: 50%;z-index: 0;}#sk-container-id-15 div.sk-serial {display: flex;flex-direction: column;align-items: center;background-color: white;padding-right: 0.2em;padding-left: 0.2em;position: relative;}#sk-container-id-15 div.sk-item {position: relative;z-index: 1;}#sk-container-id-15 div.sk-parallel {display: flex;align-items: stretch;justify-content: center;background-color: white;position: relative;}#sk-container-id-15 div.sk-item::before, #sk-container-id-15 div.sk-parallel-item::before {content: \"\";position: absolute;border-left: 1px solid gray;box-sizing: border-box;top: 0;bottom: 0;left: 50%;z-index: -1;}#sk-container-id-15 div.sk-parallel-item {display: flex;flex-direction: column;z-index: 1;position: relative;background-color: white;}#sk-container-id-15 div.sk-parallel-item:first-child::after {align-self: flex-end;width: 50%;}#sk-container-id-15 div.sk-parallel-item:last-child::after {align-self: flex-start;width: 50%;}#sk-container-id-15 div.sk-parallel-item:only-child::after {width: 0;}#sk-container-id-15 div.sk-dashed-wrapped {border: 1px dashed gray;margin: 0 0.4em 0.5em 0.4em;box-sizing: border-box;padding-bottom: 0.4em;background-color: white;}#sk-container-id-15 div.sk-label label {font-family: monospace;font-weight: bold;display: inline-block;line-height: 1.2em;}#sk-container-id-15 div.sk-label-container {text-align: center;}#sk-container-id-15 div.sk-container {/* jupyter's `normalize.less` sets `[hidden] { display: none; }` but bootstrap.min.css set `[hidden] { display: none !important; }` so we also need the `!important` here to be able to override the default hidden behavior on the sphinx rendered scikit-learn.org. See: https://github.com/scikit-learn/scikit-learn/issues/21755 */display: inline-block !important;position: relative;}#sk-container-id-15 div.sk-text-repr-fallback {display: none;}</style><div id=\"sk-container-id-15\" class=\"sk-top-container\"><div class=\"sk-text-repr-fallback\"><pre>GradientBoostingRegressor()</pre><b>In a Jupyter environment, please rerun this cell to show the HTML representation or trust the notebook. <br />On GitHub, the HTML representation is unable to render, please try loading this page with nbviewer.org.</b></div><div class=\"sk-container\" hidden><div class=\"sk-item\"><div class=\"sk-estimator sk-toggleable\"><input class=\"sk-toggleable__control sk-hidden--visually\" id=\"sk-estimator-id-21\" type=\"checkbox\" checked><label for=\"sk-estimator-id-21\" class=\"sk-toggleable__label sk-toggleable__label-arrow\">GradientBoostingRegressor</label><div class=\"sk-toggleable__content\"><pre>GradientBoostingRegressor()</pre></div></div></div></div></div>"
      ],
      "text/plain": [
       "GradientBoostingRegressor()"
      ]
     },
     "execution_count": 115,
     "metadata": {},
     "output_type": "execute_result"
    }
   ],
   "source": [
    "gbm_model = GradientBoostingRegressor()\n",
    "gbm_model.fit(X_train, y_train)"
   ]
  },
  {
   "cell_type": "markdown",
   "id": "548b23b2-9eca-4a69-bd31-a849f896beff",
   "metadata": {},
   "source": [
    "## Tahmin"
   ]
  },
  {
   "cell_type": "code",
   "execution_count": 116,
   "id": "93053b33-fceb-47b2-ae96-536a7e8a1846",
   "metadata": {
    "tags": []
   },
   "outputs": [
    {
     "data": {
      "text/plain": [
       "353.03846495135883"
      ]
     },
     "execution_count": 116,
     "metadata": {},
     "output_type": "execute_result"
    }
   ],
   "source": [
    "y_pred = gbm_model.predict(X_test)\n",
    "np.sqrt(mean_squared_error(y_test, y_pred))"
   ]
  },
  {
   "cell_type": "markdown",
   "id": "c055d22a-baa3-4534-8fd1-2e6971ff9700",
   "metadata": {},
   "source": [
    "## Model Tuning"
   ]
  },
  {
   "cell_type": "code",
   "execution_count": 117,
   "id": "28173edd-3ec6-4278-9724-f82666da4405",
   "metadata": {
    "tags": []
   },
   "outputs": [],
   "source": [
    "gbm_params = {'learning_rate': [0.001, 0.01, 0.1, 0.2], \n",
    "              'max_depth': [3, 5, 8, 50, 100], \n",
    "              'n_estimators': [200, 500, 1000, 2000], \n",
    "              'subsample': [1, 0.5, 0.75],}"
   ]
  },
  {
   "cell_type": "code",
   "execution_count": 118,
   "id": "12b733c9-ab44-4c28-b86d-927807f69193",
   "metadata": {
    "tags": []
   },
   "outputs": [
    {
     "name": "stdout",
     "output_type": "stream",
     "text": [
      "Fitting 10 folds for each of 240 candidates, totalling 2400 fits\n"
     ]
    },
    {
     "data": {
      "text/html": [
       "<style>#sk-container-id-16 {color: black;}#sk-container-id-16 pre{padding: 0;}#sk-container-id-16 div.sk-toggleable {background-color: white;}#sk-container-id-16 label.sk-toggleable__label {cursor: pointer;display: block;width: 100%;margin-bottom: 0;padding: 0.3em;box-sizing: border-box;text-align: center;}#sk-container-id-16 label.sk-toggleable__label-arrow:before {content: \"▸\";float: left;margin-right: 0.25em;color: #696969;}#sk-container-id-16 label.sk-toggleable__label-arrow:hover:before {color: black;}#sk-container-id-16 div.sk-estimator:hover label.sk-toggleable__label-arrow:before {color: black;}#sk-container-id-16 div.sk-toggleable__content {max-height: 0;max-width: 0;overflow: hidden;text-align: left;background-color: #f0f8ff;}#sk-container-id-16 div.sk-toggleable__content pre {margin: 0.2em;color: black;border-radius: 0.25em;background-color: #f0f8ff;}#sk-container-id-16 input.sk-toggleable__control:checked~div.sk-toggleable__content {max-height: 200px;max-width: 100%;overflow: auto;}#sk-container-id-16 input.sk-toggleable__control:checked~label.sk-toggleable__label-arrow:before {content: \"▾\";}#sk-container-id-16 div.sk-estimator input.sk-toggleable__control:checked~label.sk-toggleable__label {background-color: #d4ebff;}#sk-container-id-16 div.sk-label input.sk-toggleable__control:checked~label.sk-toggleable__label {background-color: #d4ebff;}#sk-container-id-16 input.sk-hidden--visually {border: 0;clip: rect(1px 1px 1px 1px);clip: rect(1px, 1px, 1px, 1px);height: 1px;margin: -1px;overflow: hidden;padding: 0;position: absolute;width: 1px;}#sk-container-id-16 div.sk-estimator {font-family: monospace;background-color: #f0f8ff;border: 1px dotted black;border-radius: 0.25em;box-sizing: border-box;margin-bottom: 0.5em;}#sk-container-id-16 div.sk-estimator:hover {background-color: #d4ebff;}#sk-container-id-16 div.sk-parallel-item::after {content: \"\";width: 100%;border-bottom: 1px solid gray;flex-grow: 1;}#sk-container-id-16 div.sk-label:hover label.sk-toggleable__label {background-color: #d4ebff;}#sk-container-id-16 div.sk-serial::before {content: \"\";position: absolute;border-left: 1px solid gray;box-sizing: border-box;top: 0;bottom: 0;left: 50%;z-index: 0;}#sk-container-id-16 div.sk-serial {display: flex;flex-direction: column;align-items: center;background-color: white;padding-right: 0.2em;padding-left: 0.2em;position: relative;}#sk-container-id-16 div.sk-item {position: relative;z-index: 1;}#sk-container-id-16 div.sk-parallel {display: flex;align-items: stretch;justify-content: center;background-color: white;position: relative;}#sk-container-id-16 div.sk-item::before, #sk-container-id-16 div.sk-parallel-item::before {content: \"\";position: absolute;border-left: 1px solid gray;box-sizing: border-box;top: 0;bottom: 0;left: 50%;z-index: -1;}#sk-container-id-16 div.sk-parallel-item {display: flex;flex-direction: column;z-index: 1;position: relative;background-color: white;}#sk-container-id-16 div.sk-parallel-item:first-child::after {align-self: flex-end;width: 50%;}#sk-container-id-16 div.sk-parallel-item:last-child::after {align-self: flex-start;width: 50%;}#sk-container-id-16 div.sk-parallel-item:only-child::after {width: 0;}#sk-container-id-16 div.sk-dashed-wrapped {border: 1px dashed gray;margin: 0 0.4em 0.5em 0.4em;box-sizing: border-box;padding-bottom: 0.4em;background-color: white;}#sk-container-id-16 div.sk-label label {font-family: monospace;font-weight: bold;display: inline-block;line-height: 1.2em;}#sk-container-id-16 div.sk-label-container {text-align: center;}#sk-container-id-16 div.sk-container {/* jupyter's `normalize.less` sets `[hidden] { display: none; }` but bootstrap.min.css set `[hidden] { display: none !important; }` so we also need the `!important` here to be able to override the default hidden behavior on the sphinx rendered scikit-learn.org. See: https://github.com/scikit-learn/scikit-learn/issues/21755 */display: inline-block !important;position: relative;}#sk-container-id-16 div.sk-text-repr-fallback {display: none;}</style><div id=\"sk-container-id-16\" class=\"sk-top-container\"><div class=\"sk-text-repr-fallback\"><pre>GridSearchCV(cv=10, estimator=GradientBoostingRegressor(), n_jobs=-1,\n",
       "             param_grid={&#x27;learning_rate&#x27;: [0.001, 0.01, 0.1, 0.2],\n",
       "                         &#x27;max_depth&#x27;: [3, 5, 8, 50, 100],\n",
       "                         &#x27;n_estimators&#x27;: [200, 500, 1000, 2000],\n",
       "                         &#x27;subsample&#x27;: [1, 0.5, 0.75]},\n",
       "             verbose=2)</pre><b>In a Jupyter environment, please rerun this cell to show the HTML representation or trust the notebook. <br />On GitHub, the HTML representation is unable to render, please try loading this page with nbviewer.org.</b></div><div class=\"sk-container\" hidden><div class=\"sk-item sk-dashed-wrapped\"><div class=\"sk-label-container\"><div class=\"sk-label sk-toggleable\"><input class=\"sk-toggleable__control sk-hidden--visually\" id=\"sk-estimator-id-22\" type=\"checkbox\" ><label for=\"sk-estimator-id-22\" class=\"sk-toggleable__label sk-toggleable__label-arrow\">GridSearchCV</label><div class=\"sk-toggleable__content\"><pre>GridSearchCV(cv=10, estimator=GradientBoostingRegressor(), n_jobs=-1,\n",
       "             param_grid={&#x27;learning_rate&#x27;: [0.001, 0.01, 0.1, 0.2],\n",
       "                         &#x27;max_depth&#x27;: [3, 5, 8, 50, 100],\n",
       "                         &#x27;n_estimators&#x27;: [200, 500, 1000, 2000],\n",
       "                         &#x27;subsample&#x27;: [1, 0.5, 0.75]},\n",
       "             verbose=2)</pre></div></div></div><div class=\"sk-parallel\"><div class=\"sk-parallel-item\"><div class=\"sk-item\"><div class=\"sk-label-container\"><div class=\"sk-label sk-toggleable\"><input class=\"sk-toggleable__control sk-hidden--visually\" id=\"sk-estimator-id-23\" type=\"checkbox\" ><label for=\"sk-estimator-id-23\" class=\"sk-toggleable__label sk-toggleable__label-arrow\">estimator: GradientBoostingRegressor</label><div class=\"sk-toggleable__content\"><pre>GradientBoostingRegressor()</pre></div></div></div><div class=\"sk-serial\"><div class=\"sk-item\"><div class=\"sk-estimator sk-toggleable\"><input class=\"sk-toggleable__control sk-hidden--visually\" id=\"sk-estimator-id-24\" type=\"checkbox\" ><label for=\"sk-estimator-id-24\" class=\"sk-toggleable__label sk-toggleable__label-arrow\">GradientBoostingRegressor</label><div class=\"sk-toggleable__content\"><pre>GradientBoostingRegressor()</pre></div></div></div></div></div></div></div></div></div></div>"
      ],
      "text/plain": [
       "GridSearchCV(cv=10, estimator=GradientBoostingRegressor(), n_jobs=-1,\n",
       "             param_grid={'learning_rate': [0.001, 0.01, 0.1, 0.2],\n",
       "                         'max_depth': [3, 5, 8, 50, 100],\n",
       "                         'n_estimators': [200, 500, 1000, 2000],\n",
       "                         'subsample': [1, 0.5, 0.75]},\n",
       "             verbose=2)"
      ]
     },
     "execution_count": 118,
     "metadata": {},
     "output_type": "execute_result"
    }
   ],
   "source": [
    "gbm = GradientBoostingRegressor()\n",
    "gbm_cv_model = GridSearchCV(gbm, gbm_params, cv = 10, n_jobs=-1, verbose=2)\n",
    "gbm_cv_model.fit(X_train, y_train)"
   ]
  },
  {
   "cell_type": "code",
   "execution_count": 136,
   "id": "ece80523-2e1f-4e85-bc74-0239f078654d",
   "metadata": {
    "tags": []
   },
   "outputs": [
    {
     "data": {
      "text/plain": [
       "{'learning_rate': 0.2, 'max_depth': 3, 'n_estimators': 2000, 'subsample': 0.75}"
      ]
     },
     "execution_count": 136,
     "metadata": {},
     "output_type": "execute_result"
    }
   ],
   "source": [
    "gbm_cv_model.best_params_"
   ]
  },
  {
   "cell_type": "code",
   "execution_count": 137,
   "id": "4ff1c67f-14f3-4c61-8f84-56ed82ae0731",
   "metadata": {
    "tags": []
   },
   "outputs": [],
   "source": [
    "gbm_tuned = GradientBoostingRegressor(learning_rate=0.2, \n",
    "                                      max_depth=3, \n",
    "                                      n_estimators=2000, \n",
    "                                      subsample=0.75)\n",
    "\n",
    "gbm_tuned = gbm_tuned.fit(X_train, y_train)"
   ]
  },
  {
   "cell_type": "code",
   "execution_count": 138,
   "id": "e58daaac-0299-4e3c-bb40-25594387a1ae",
   "metadata": {
    "tags": []
   },
   "outputs": [
    {
     "data": {
      "text/plain": [
       "334.20016466303775"
      ]
     },
     "execution_count": 138,
     "metadata": {},
     "output_type": "execute_result"
    }
   ],
   "source": [
    "y_pred = gbm_tuned.predict(X_test)\n",
    "np.sqrt(mean_squared_error(y_test, y_pred))"
   ]
  },
  {
   "cell_type": "code",
   "execution_count": 139,
   "id": "5d6e90a8-3313-4473-ad3b-add5c772b53c",
   "metadata": {
    "tags": []
   },
   "outputs": [],
   "source": [
    "Importance = pd.DataFrame({\"Importance\": gbm_tuned.feature_importances_*100}, index = X_train.columns)"
   ]
  },
  {
   "cell_type": "code",
   "execution_count": 140,
   "id": "6556e06e-2230-443d-bd9d-ccde5038f41d",
   "metadata": {
    "tags": []
   },
   "outputs": [
    {
     "data": {
      "image/png": "[encoded data removed]",
      "text/plain": [
       "<Figure size 640x480 with 1 Axes>"
      ]
     },
     "metadata": {},
     "output_type": "display_data"
    }
   ],
   "source": [
    "Importance.sort_values(by=\"Importance\",\n",
    "                       axis=0,\n",
    "                       ascending=True).plot(kind = \"barh\",\n",
    "                                            color = \"r\")\n",
    "\n",
    "plt.xlabel(\"Değişkenlerin Önem Düzeyleri\");"
   ]
  },
  {
   "cell_type": "markdown",
   "id": "aadd2b6e-ea3a-4821-a2e6-faa5bd22015f",
   "metadata": {},
   "source": [
    "# XGBoost"
   ]
  },
  {
   "cell_type": "code",
   "execution_count": 159,
   "id": "a669aaa0-34b3-4249-a437-1d739fd58be7",
   "metadata": {
    "tags": []
   },
   "outputs": [],
   "source": [
    "hit = pd.read_csv(\"Hitters.csv\")\n",
    "df = hit.copy()\n",
    "df = df.dropna()\n",
    "dms = pd.get_dummies(df[['League', 'Division', 'NewLeague']])\n",
    "y = df[\"Salary\"]\n",
    "X_ = df.drop(['Salary', 'League', 'Division', 'NewLeague'], axis = 1).astype('float64')\n",
    "X = pd.concat([X_, dms[['League_N', 'Division_W', 'NewLeague_N']]], axis = 1)\n",
    "X_train, X_test, y_train, y_test = train_test_split(X, y, test_size=0.25, random_state=42)"
   ]
  },
  {
   "cell_type": "code",
   "execution_count": 160,
   "id": "a9197229-f709-4696-bc0c-2a38f0723c5f",
   "metadata": {
    "tags": []
   },
   "outputs": [],
   "source": [
    "#!pip install xgboost"
   ]
  },
  {
   "cell_type": "code",
   "execution_count": 161,
   "id": "d66becda-7f4b-430d-b1d2-478d7f0612c5",
   "metadata": {
    "tags": []
   },
   "outputs": [],
   "source": [
    "import xgboost as xgb"
   ]
  },
  {
   "cell_type": "code",
   "execution_count": 162,
   "id": "e7fc1bb8-9a67-4114-b1fb-4bef4e384209",
   "metadata": {
    "tags": []
   },
   "outputs": [],
   "source": [
    "DM_train = xgb.DMatrix(data = X_train, label = y_train)\n",
    "DM_test = xgb.DMatrix(data = X_test, label = y_test)"
   ]
  },
  {
   "cell_type": "code",
   "execution_count": 163,
   "id": "e6c9aa78-7206-46f9-a620-806e23f765a7",
   "metadata": {
    "tags": []
   },
   "outputs": [],
   "source": [
    "from xgboost import XGBRegressor"
   ]
  },
  {
   "cell_type": "code",
   "execution_count": 164,
   "id": "f6c3af10-2667-4270-ac47-cbe18107ac77",
   "metadata": {
    "tags": []
   },
   "outputs": [],
   "source": [
    "xgb_model = XGBRegressor().fit(X_train, y_train)"
   ]
  },
  {
   "cell_type": "markdown",
   "id": "cb9eb13d-5d60-48b2-b486-4074920a26a4",
   "metadata": {},
   "source": [
    "## Tahmin"
   ]
  },
  {
   "cell_type": "code",
   "execution_count": 165,
   "id": "aaf6d65f-7444-4a31-973f-dab385c578e4",
   "metadata": {
    "tags": []
   },
   "outputs": [
    {
     "data": {
      "text/plain": [
       "366.3863437634965"
      ]
     },
     "execution_count": 165,
     "metadata": {},
     "output_type": "execute_result"
    }
   ],
   "source": [
    "y_pred = xgb_model.predict(X_test)\n",
    "np.sqrt(mean_squared_error(y_test, y_pred))"
   ]
  },
  {
   "cell_type": "markdown",
   "id": "a4a09e66-50dd-4be1-8b83-6c9850d9af9f",
   "metadata": {},
   "source": [
    "## Model Tuning"
   ]
  },
  {
   "cell_type": "code",
   "execution_count": 166,
   "id": "c6a84bc4-ee3f-4a8e-9eca-a17d12652f8c",
   "metadata": {
    "tags": []
   },
   "outputs": [
    {
     "data": {
      "text/html": [
       "<style>#sk-container-id-19 {color: black;}#sk-container-id-19 pre{padding: 0;}#sk-container-id-19 div.sk-toggleable {background-color: white;}#sk-container-id-19 label.sk-toggleable__label {cursor: pointer;display: block;width: 100%;margin-bottom: 0;padding: 0.3em;box-sizing: border-box;text-align: center;}#sk-container-id-19 label.sk-toggleable__label-arrow:before {content: \"▸\";float: left;margin-right: 0.25em;color: #696969;}#sk-container-id-19 label.sk-toggleable__label-arrow:hover:before {color: black;}#sk-container-id-19 div.sk-estimator:hover label.sk-toggleable__label-arrow:before {color: black;}#sk-container-id-19 div.sk-toggleable__content {max-height: 0;max-width: 0;overflow: hidden;text-align: left;background-color: #f0f8ff;}#sk-container-id-19 div.sk-toggleable__content pre {margin: 0.2em;color: black;border-radius: 0.25em;background-color: #f0f8ff;}#sk-container-id-19 input.sk-toggleable__control:checked~div.sk-toggleable__content {max-height: 200px;max-width: 100%;overflow: auto;}#sk-container-id-19 input.sk-toggleable__control:checked~label.sk-toggleable__label-arrow:before {content: \"▾\";}#sk-container-id-19 div.sk-estimator input.sk-toggleable__control:checked~label.sk-toggleable__label {background-color: #d4ebff;}#sk-container-id-19 div.sk-label input.sk-toggleable__control:checked~label.sk-toggleable__label {background-color: #d4ebff;}#sk-container-id-19 input.sk-hidden--visually {border: 0;clip: rect(1px 1px 1px 1px);clip: rect(1px, 1px, 1px, 1px);height: 1px;margin: -1px;overflow: hidden;padding: 0;position: absolute;width: 1px;}#sk-container-id-19 div.sk-estimator {font-family: monospace;background-color: #f0f8ff;border: 1px dotted black;border-radius: 0.25em;box-sizing: border-box;margin-bottom: 0.5em;}#sk-container-id-19 div.sk-estimator:hover {background-color: #d4ebff;}#sk-container-id-19 div.sk-parallel-item::after {content: \"\";width: 100%;border-bottom: 1px solid gray;flex-grow: 1;}#sk-container-id-19 div.sk-label:hover label.sk-toggleable__label {background-color: #d4ebff;}#sk-container-id-19 div.sk-serial::before {content: \"\";position: absolute;border-left: 1px solid gray;box-sizing: border-box;top: 0;bottom: 0;left: 50%;z-index: 0;}#sk-container-id-19 div.sk-serial {display: flex;flex-direction: column;align-items: center;background-color: white;padding-right: 0.2em;padding-left: 0.2em;position: relative;}#sk-container-id-19 div.sk-item {position: relative;z-index: 1;}#sk-container-id-19 div.sk-parallel {display: flex;align-items: stretch;justify-content: center;background-color: white;position: relative;}#sk-container-id-19 div.sk-item::before, #sk-container-id-19 div.sk-parallel-item::before {content: \"\";position: absolute;border-left: 1px solid gray;box-sizing: border-box;top: 0;bottom: 0;left: 50%;z-index: -1;}#sk-container-id-19 div.sk-parallel-item {display: flex;flex-direction: column;z-index: 1;position: relative;background-color: white;}#sk-container-id-19 div.sk-parallel-item:first-child::after {align-self: flex-end;width: 50%;}#sk-container-id-19 div.sk-parallel-item:last-child::after {align-self: flex-start;width: 50%;}#sk-container-id-19 div.sk-parallel-item:only-child::after {width: 0;}#sk-container-id-19 div.sk-dashed-wrapped {border: 1px dashed gray;margin: 0 0.4em 0.5em 0.4em;box-sizing: border-box;padding-bottom: 0.4em;background-color: white;}#sk-container-id-19 div.sk-label label {font-family: monospace;font-weight: bold;display: inline-block;line-height: 1.2em;}#sk-container-id-19 div.sk-label-container {text-align: center;}#sk-container-id-19 div.sk-container {/* jupyter's `normalize.less` sets `[hidden] { display: none; }` but bootstrap.min.css set `[hidden] { display: none !important; }` so we also need the `!important` here to be able to override the default hidden behavior on the sphinx rendered scikit-learn.org. See: https://github.com/scikit-learn/scikit-learn/issues/21755 */display: inline-block !important;position: relative;}#sk-container-id-19 div.sk-text-repr-fallback {display: none;}</style><div id=\"sk-container-id-19\" class=\"sk-top-container\"><div class=\"sk-text-repr-fallback\"><pre>XGBRegressor(base_score=None, booster=None, callbacks=None,\n",
       "             colsample_bylevel=None, colsample_bynode=None,\n",
       "             colsample_bytree=None, device=None, early_stopping_rounds=None,\n",
       "             enable_categorical=False, eval_metric=None, feature_types=None,\n",
       "             gamma=None, grow_policy=None, importance_type=None,\n",
       "             interaction_constraints=None, learning_rate=None, max_bin=None,\n",
       "             max_cat_threshold=None, max_cat_to_onehot=None,\n",
       "             max_delta_step=None, max_depth=None, max_leaves=None,\n",
       "             min_child_weight=None, missing=nan, monotone_constraints=None,\n",
       "             multi_strategy=None, n_estimators=None, n_jobs=None,\n",
       "             num_parallel_tree=None, random_state=None, ...)</pre><b>In a Jupyter environment, please rerun this cell to show the HTML representation or trust the notebook. <br />On GitHub, the HTML representation is unable to render, please try loading this page with nbviewer.org.</b></div><div class=\"sk-container\" hidden><div class=\"sk-item\"><div class=\"sk-estimator sk-toggleable\"><input class=\"sk-toggleable__control sk-hidden--visually\" id=\"sk-estimator-id-29\" type=\"checkbox\" checked><label for=\"sk-estimator-id-29\" class=\"sk-toggleable__label sk-toggleable__label-arrow\">XGBRegressor</label><div class=\"sk-toggleable__content\"><pre>XGBRegressor(base_score=None, booster=None, callbacks=None,\n",
       "             colsample_bylevel=None, colsample_bynode=None,\n",
       "             colsample_bytree=None, device=None, early_stopping_rounds=None,\n",
       "             enable_categorical=False, eval_metric=None, feature_types=None,\n",
       "             gamma=None, grow_policy=None, importance_type=None,\n",
       "             interaction_constraints=None, learning_rate=None, max_bin=None,\n",
       "             max_cat_threshold=None, max_cat_to_onehot=None,\n",
       "             max_delta_step=None, max_depth=None, max_leaves=None,\n",
       "             min_child_weight=None, missing=nan, monotone_constraints=None,\n",
       "             multi_strategy=None, n_estimators=None, n_jobs=None,\n",
       "             num_parallel_tree=None, random_state=None, ...)</pre></div></div></div></div></div>"
      ],
      "text/plain": [
       "XGBRegressor(base_score=None, booster=None, callbacks=None,\n",
       "             colsample_bylevel=None, colsample_bynode=None,\n",
       "             colsample_bytree=None, device=None, early_stopping_rounds=None,\n",
       "             enable_categorical=False, eval_metric=None, feature_types=None,\n",
       "             gamma=None, grow_policy=None, importance_type=None,\n",
       "             interaction_constraints=None, learning_rate=None, max_bin=None,\n",
       "             max_cat_threshold=None, max_cat_to_onehot=None,\n",
       "             max_delta_step=None, max_depth=None, max_leaves=None,\n",
       "             min_child_weight=None, missing=nan, monotone_constraints=None,\n",
       "             multi_strategy=None, n_estimators=None, n_jobs=None,\n",
       "             num_parallel_tree=None, random_state=None, ...)"
      ]
     },
     "execution_count": 166,
     "metadata": {},
     "output_type": "execute_result"
    }
   ],
   "source": [
    "xgb_model"
   ]
  },
  {
   "cell_type": "code",
   "execution_count": 167,
   "id": "74615e4a-30b3-4d54-881d-53b9c427683a",
   "metadata": {
    "tags": []
   },
   "outputs": [],
   "source": [
    "xgb_grid = {\n",
    "            'colsample_bytree': [0.4, 0.5, 0.6, 0.9, 1], \n",
    "            'n_estimators': [100, 200, 500, 1000], \n",
    "            'max_depth': [2, 3, 4, 5, 6], \n",
    "            'learning_rate': [0.1, 0.01, 0.5]\n",
    "}"
   ]
  },
  {
   "cell_type": "code",
   "execution_count": 168,
   "id": "cc6c3edb-8544-40be-bef3-360f7a799963",
   "metadata": {
    "tags": []
   },
   "outputs": [
    {
     "name": "stdout",
     "output_type": "stream",
     "text": [
      "Fitting 10 folds for each of 300 candidates, totalling 3000 fits\n"
     ]
    },
    {
     "data": {
      "text/html": [
       "<style>#sk-container-id-20 {color: black;}#sk-container-id-20 pre{padding: 0;}#sk-container-id-20 div.sk-toggleable {background-color: white;}#sk-container-id-20 label.sk-toggleable__label {cursor: pointer;display: block;width: 100%;margin-bottom: 0;padding: 0.3em;box-sizing: border-box;text-align: center;}#sk-container-id-20 label.sk-toggleable__label-arrow:before {content: \"▸\";float: left;margin-right: 0.25em;color: #696969;}#sk-container-id-20 label.sk-toggleable__label-arrow:hover:before {color: black;}#sk-container-id-20 div.sk-estimator:hover label.sk-toggleable__label-arrow:before {color: black;}#sk-container-id-20 div.sk-toggleable__content {max-height: 0;max-width: 0;overflow: hidden;text-align: left;background-color: #f0f8ff;}#sk-container-id-20 div.sk-toggleable__content pre {margin: 0.2em;color: black;border-radius: 0.25em;background-color: #f0f8ff;}#sk-container-id-20 input.sk-toggleable__control:checked~div.sk-toggleable__content {max-height: 200px;max-width: 100%;overflow: auto;}#sk-container-id-20 input.sk-toggleable__control:checked~label.sk-toggleable__label-arrow:before {content: \"▾\";}#sk-container-id-20 div.sk-estimator input.sk-toggleable__control:checked~label.sk-toggleable__label {background-color: #d4ebff;}#sk-container-id-20 div.sk-label input.sk-toggleable__control:checked~label.sk-toggleable__label {background-color: #d4ebff;}#sk-container-id-20 input.sk-hidden--visually {border: 0;clip: rect(1px 1px 1px 1px);clip: rect(1px, 1px, 1px, 1px);height: 1px;margin: -1px;overflow: hidden;padding: 0;position: absolute;width: 1px;}#sk-container-id-20 div.sk-estimator {font-family: monospace;background-color: #f0f8ff;border: 1px dotted black;border-radius: 0.25em;box-sizing: border-box;margin-bottom: 0.5em;}#sk-container-id-20 div.sk-estimator:hover {background-color: #d4ebff;}#sk-container-id-20 div.sk-parallel-item::after {content: \"\";width: 100%;border-bottom: 1px solid gray;flex-grow: 1;}#sk-container-id-20 div.sk-label:hover label.sk-toggleable__label {background-color: #d4ebff;}#sk-container-id-20 div.sk-serial::before {content: \"\";position: absolute;border-left: 1px solid gray;box-sizing: border-box;top: 0;bottom: 0;left: 50%;z-index: 0;}#sk-container-id-20 div.sk-serial {display: flex;flex-direction: column;align-items: center;background-color: white;padding-right: 0.2em;padding-left: 0.2em;position: relative;}#sk-container-id-20 div.sk-item {position: relative;z-index: 1;}#sk-container-id-20 div.sk-parallel {display: flex;align-items: stretch;justify-content: center;background-color: white;position: relative;}#sk-container-id-20 div.sk-item::before, #sk-container-id-20 div.sk-parallel-item::before {content: \"\";position: absolute;border-left: 1px solid gray;box-sizing: border-box;top: 0;bottom: 0;left: 50%;z-index: -1;}#sk-container-id-20 div.sk-parallel-item {display: flex;flex-direction: column;z-index: 1;position: relative;background-color: white;}#sk-container-id-20 div.sk-parallel-item:first-child::after {align-self: flex-end;width: 50%;}#sk-container-id-20 div.sk-parallel-item:last-child::after {align-self: flex-start;width: 50%;}#sk-container-id-20 div.sk-parallel-item:only-child::after {width: 0;}#sk-container-id-20 div.sk-dashed-wrapped {border: 1px dashed gray;margin: 0 0.4em 0.5em 0.4em;box-sizing: border-box;padding-bottom: 0.4em;background-color: white;}#sk-container-id-20 div.sk-label label {font-family: monospace;font-weight: bold;display: inline-block;line-height: 1.2em;}#sk-container-id-20 div.sk-label-container {text-align: center;}#sk-container-id-20 div.sk-container {/* jupyter's `normalize.less` sets `[hidden] { display: none; }` but bootstrap.min.css set `[hidden] { display: none !important; }` so we also need the `!important` here to be able to override the default hidden behavior on the sphinx rendered scikit-learn.org. See: https://github.com/scikit-learn/scikit-learn/issues/21755 */display: inline-block !important;position: relative;}#sk-container-id-20 div.sk-text-repr-fallback {display: none;}</style><div id=\"sk-container-id-20\" class=\"sk-top-container\"><div class=\"sk-text-repr-fallback\"><pre>GridSearchCV(cv=10,\n",
       "             estimator=XGBRegressor(base_score=None, booster=None,\n",
       "                                    callbacks=None, colsample_bylevel=None,\n",
       "                                    colsample_bynode=None,\n",
       "                                    colsample_bytree=None, device=None,\n",
       "                                    early_stopping_rounds=None,\n",
       "                                    enable_categorical=False, eval_metric=None,\n",
       "                                    feature_types=None, gamma=None,\n",
       "                                    grow_policy=None, importance_type=None,\n",
       "                                    interaction_constraints=None,\n",
       "                                    learning_rate=None,...\n",
       "                                    max_cat_to_onehot=None, max_delta_step=None,\n",
       "                                    max_depth=None, max_leaves=None,\n",
       "                                    min_child_weight=None, missing=nan,\n",
       "                                    monotone_constraints=None,\n",
       "                                    multi_strategy=None, n_estimators=None,\n",
       "                                    n_jobs=None, num_parallel_tree=None,\n",
       "                                    random_state=None, ...),\n",
       "             n_jobs=-1,\n",
       "             param_grid={&#x27;colsample_bytree&#x27;: [0.4, 0.5, 0.6, 0.9, 1],\n",
       "                         &#x27;learning_rate&#x27;: [0.1, 0.01, 0.5],\n",
       "                         &#x27;max_depth&#x27;: [2, 3, 4, 5, 6],\n",
       "                         &#x27;n_estimators&#x27;: [100, 200, 500, 1000]},\n",
       "             verbose=2)</pre><b>In a Jupyter environment, please rerun this cell to show the HTML representation or trust the notebook. <br />On GitHub, the HTML representation is unable to render, please try loading this page with nbviewer.org.</b></div><div class=\"sk-container\" hidden><div class=\"sk-item sk-dashed-wrapped\"><div class=\"sk-label-container\"><div class=\"sk-label sk-toggleable\"><input class=\"sk-toggleable__control sk-hidden--visually\" id=\"sk-estimator-id-30\" type=\"checkbox\" ><label for=\"sk-estimator-id-30\" class=\"sk-toggleable__label sk-toggleable__label-arrow\">GridSearchCV</label><div class=\"sk-toggleable__content\"><pre>GridSearchCV(cv=10,\n",
       "             estimator=XGBRegressor(base_score=None, booster=None,\n",
       "                                    callbacks=None, colsample_bylevel=None,\n",
       "                                    colsample_bynode=None,\n",
       "                                    colsample_bytree=None, device=None,\n",
       "                                    early_stopping_rounds=None,\n",
       "                                    enable_categorical=False, eval_metric=None,\n",
       "                                    feature_types=None, gamma=None,\n",
       "                                    grow_policy=None, importance_type=None,\n",
       "                                    interaction_constraints=None,\n",
       "                                    learning_rate=None,...\n",
       "                                    max_cat_to_onehot=None, max_delta_step=None,\n",
       "                                    max_depth=None, max_leaves=None,\n",
       "                                    min_child_weight=None, missing=nan,\n",
       "                                    monotone_constraints=None,\n",
       "                                    multi_strategy=None, n_estimators=None,\n",
       "                                    n_jobs=None, num_parallel_tree=None,\n",
       "                                    random_state=None, ...),\n",
       "             n_jobs=-1,\n",
       "             param_grid={&#x27;colsample_bytree&#x27;: [0.4, 0.5, 0.6, 0.9, 1],\n",
       "                         &#x27;learning_rate&#x27;: [0.1, 0.01, 0.5],\n",
       "                         &#x27;max_depth&#x27;: [2, 3, 4, 5, 6],\n",
       "                         &#x27;n_estimators&#x27;: [100, 200, 500, 1000]},\n",
       "             verbose=2)</pre></div></div></div><div class=\"sk-parallel\"><div class=\"sk-parallel-item\"><div class=\"sk-item\"><div class=\"sk-label-container\"><div class=\"sk-label sk-toggleable\"><input class=\"sk-toggleable__control sk-hidden--visually\" id=\"sk-estimator-id-31\" type=\"checkbox\" ><label for=\"sk-estimator-id-31\" class=\"sk-toggleable__label sk-toggleable__label-arrow\">estimator: XGBRegressor</label><div class=\"sk-toggleable__content\"><pre>XGBRegressor(base_score=None, booster=None, callbacks=None,\n",
       "             colsample_bylevel=None, colsample_bynode=None,\n",
       "             colsample_bytree=None, device=None, early_stopping_rounds=None,\n",
       "             enable_categorical=False, eval_metric=None, feature_types=None,\n",
       "             gamma=None, grow_policy=None, importance_type=None,\n",
       "             interaction_constraints=None, learning_rate=None, max_bin=None,\n",
       "             max_cat_threshold=None, max_cat_to_onehot=None,\n",
       "             max_delta_step=None, max_depth=None, max_leaves=None,\n",
       "             min_child_weight=None, missing=nan, monotone_constraints=None,\n",
       "             multi_strategy=None, n_estimators=None, n_jobs=None,\n",
       "             num_parallel_tree=None, random_state=None, ...)</pre></div></div></div><div class=\"sk-serial\"><div class=\"sk-item\"><div class=\"sk-estimator sk-toggleable\"><input class=\"sk-toggleable__control sk-hidden--visually\" id=\"sk-estimator-id-32\" type=\"checkbox\" ><label for=\"sk-estimator-id-32\" class=\"sk-toggleable__label sk-toggleable__label-arrow\">XGBRegressor</label><div class=\"sk-toggleable__content\"><pre>XGBRegressor(base_score=None, booster=None, callbacks=None,\n",
       "             colsample_bylevel=None, colsample_bynode=None,\n",
       "             colsample_bytree=None, device=None, early_stopping_rounds=None,\n",
       "             enable_categorical=False, eval_metric=None, feature_types=None,\n",
       "             gamma=None, grow_policy=None, importance_type=None,\n",
       "             interaction_constraints=None, learning_rate=None, max_bin=None,\n",
       "             max_cat_threshold=None, max_cat_to_onehot=None,\n",
       "             max_delta_step=None, max_depth=None, max_leaves=None,\n",
       "             min_child_weight=None, missing=nan, monotone_constraints=None,\n",
       "             multi_strategy=None, n_estimators=None, n_jobs=None,\n",
       "             num_parallel_tree=None, random_state=None, ...)</pre></div></div></div></div></div></div></div></div></div></div>"
      ],
      "text/plain": [
       "GridSearchCV(cv=10,\n",
       "             estimator=XGBRegressor(base_score=None, booster=None,\n",
       "                                    callbacks=None, colsample_bylevel=None,\n",
       "                                    colsample_bynode=None,\n",
       "                                    colsample_bytree=None, device=None,\n",
       "                                    early_stopping_rounds=None,\n",
       "                                    enable_categorical=False, eval_metric=None,\n",
       "                                    feature_types=None, gamma=None,\n",
       "                                    grow_policy=None, importance_type=None,\n",
       "                                    interaction_constraints=None,\n",
       "                                    learning_rate=None,...\n",
       "                                    max_cat_to_onehot=None, max_delta_step=None,\n",
       "                                    max_depth=None, max_leaves=None,\n",
       "                                    min_child_weight=None, missing=nan,\n",
       "                                    monotone_constraints=None,\n",
       "                                    multi_strategy=None, n_estimators=None,\n",
       "                                    n_jobs=None, num_parallel_tree=None,\n",
       "                                    random_state=None, ...),\n",
       "             n_jobs=-1,\n",
       "             param_grid={'colsample_bytree': [0.4, 0.5, 0.6, 0.9, 1],\n",
       "                         'learning_rate': [0.1, 0.01, 0.5],\n",
       "                         'max_depth': [2, 3, 4, 5, 6],\n",
       "                         'n_estimators': [100, 200, 500, 1000]},\n",
       "             verbose=2)"
      ]
     },
     "execution_count": 168,
     "metadata": {},
     "output_type": "execute_result"
    }
   ],
   "source": [
    "xgb = XGBRegressor()\n",
    "\n",
    "xgb_cv = GridSearchCV(xgb, \n",
    "                      param_grid=xgb_grid, \n",
    "                      cv=10, \n",
    "                      n_jobs=-1, \n",
    "                      verbose = 2)\n",
    "\n",
    "xgb_cv.fit(X_train, y_train)"
   ]
  },
  {
   "cell_type": "code",
   "execution_count": 169,
   "id": "509ebebd-245a-4f2b-971a-3f099dd7e502",
   "metadata": {
    "tags": []
   },
   "outputs": [
    {
     "data": {
      "text/plain": [
       "{'colsample_bytree': 0.4,\n",
       " 'learning_rate': 0.1,\n",
       " 'max_depth': 6,\n",
       " 'n_estimators': 100}"
      ]
     },
     "execution_count": 169,
     "metadata": {},
     "output_type": "execute_result"
    }
   ],
   "source": [
    "xgb_cv.best_params_"
   ]
  },
  {
   "cell_type": "code",
   "execution_count": 171,
   "id": "7163a270-5ed7-4532-82fa-69169230b59f",
   "metadata": {
    "tags": []
   },
   "outputs": [],
   "source": [
    "xgb_tuned = XGBRegressor(colsample_bytree = 0.4, \n",
    "                         learning_rate = 0.1, \n",
    "                         max_depth = 6, \n",
    "                         n_estimators = 100)\n",
    "\n",
    "xgb_tuned = xgb_tuned.fit(X_train, y_train)"
   ]
  },
  {
   "cell_type": "code",
   "execution_count": 172,
   "id": "50f0d2cd-0e0b-434e-a878-05ad2964aa5b",
   "metadata": {
    "tags": []
   },
   "outputs": [
    {
     "data": {
      "text/plain": [
       "343.6101991802883"
      ]
     },
     "execution_count": 172,
     "metadata": {},
     "output_type": "execute_result"
    }
   ],
   "source": [
    "y_pred = xgb_tuned.predict(X_test)\n",
    "np.sqrt(mean_squared_error(y_test, y_pred))"
   ]
  },
  {
   "cell_type": "markdown",
   "id": "5a5db2b7-a9ad-4bf2-9f9e-141d96bef1e3",
   "metadata": {},
   "source": [
    "# Light GBM"
   ]
  },
  {
   "cell_type": "code",
   "execution_count": 173,
   "id": "00a2368d-3843-4e2c-bfb2-3310795f98cc",
   "metadata": {
    "tags": []
   },
   "outputs": [],
   "source": [
    "hit = pd.read_csv(\"Hitters.csv\")\n",
    "df = hit.copy()\n",
    "df = df.dropna()\n",
    "dms = pd.get_dummies(df[['League', 'Division', 'NewLeague']])\n",
    "y = df[\"Salary\"]\n",
    "X_ = df.drop(['Salary', 'League', 'Division', 'NewLeague'], axis = 1).astype('float64')\n",
    "X = pd.concat([X_, dms[['League_N', 'Division_W', 'NewLeague_N']]], axis = 1)\n",
    "X_train, X_test, y_train, y_test = train_test_split(X, y, test_size=0.25, random_state=42)"
   ]
  },
  {
   "cell_type": "code",
   "execution_count": 175,
   "id": "873c204b-3382-452c-abcb-e122eb43fedb",
   "metadata": {
    "tags": []
   },
   "outputs": [],
   "source": [
    "#!pip install lightgbm"
   ]
  },
  {
   "cell_type": "code",
   "execution_count": 176,
   "id": "e4594fd8-4a42-42bd-b99b-817611de6831",
   "metadata": {
    "tags": []
   },
   "outputs": [],
   "source": [
    "from lightgbm import LGBMRegressor"
   ]
  },
  {
   "cell_type": "code",
   "execution_count": 179,
   "id": "fa4b8584-c94b-496a-84aa-e334582f6de8",
   "metadata": {
    "collapsed": true,
    "jupyter": {
     "outputs_hidden": true
    },
    "tags": []
   },
   "outputs": [
    {
     "name": "stdout",
     "output_type": "stream",
     "text": [
      "[LightGBM] [Info] Auto-choosing col-wise multi-threading, the overhead of testing was 0.000064 seconds.\n",
      "You can set `force_col_wise=true` to remove the overhead.\n",
      "[LightGBM] [Info] Total Bins 831\n",
      "[LightGBM] [Info] Number of data points in the train set: 197, number of used features: 19\n",
      "[LightGBM] [Info] Start training from score 543.483442\n",
      "[LightGBM] [Warning] No further splits with positive gain, best gain: -inf\n",
      "[LightGBM] [Warning] No further splits with positive gain, best gain: -inf\n",
      "[LightGBM] [Warning] No further splits with positive gain, best gain: -inf\n",
      "[LightGBM] [Warning] No further splits with positive gain, best gain: -inf\n",
      "[LightGBM] [Warning] No further splits with positive gain, best gain: -inf\n",
      "[LightGBM] [Warning] No further splits with positive gain, best gain: -inf\n",
      "[LightGBM] [Warning] No further splits with positive gain, best gain: -inf\n",
      "[LightGBM] [Warning] No further splits with positive gain, best gain: -inf\n",
      "[LightGBM] [Warning] No further splits with positive gain, best gain: -inf\n",
      "[LightGBM] [Warning] No further splits with positive gain, best gain: -inf\n",
      "[LightGBM] [Warning] No further splits with positive gain, best gain: -inf\n",
      "[LightGBM] [Warning] No further splits with positive gain, best gain: -inf\n",
      "[LightGBM] [Warning] No further splits with positive gain, best gain: -inf\n",
      "[LightGBM] [Warning] No further splits with positive gain, best gain: -inf\n",
      "[LightGBM] [Warning] No further splits with positive gain, best gain: -inf\n",
      "[LightGBM] [Warning] No further splits with positive gain, best gain: -inf\n",
      "[LightGBM] [Warning] No further splits with positive gain, best gain: -inf\n",
      "[LightGBM] [Warning] No further splits with positive gain, best gain: -inf\n",
      "[LightGBM] [Warning] No further splits with positive gain, best gain: -inf\n",
      "[LightGBM] [Warning] No further splits with positive gain, best gain: -inf\n",
      "[LightGBM] [Warning] No further splits with positive gain, best gain: -inf\n",
      "[LightGBM] [Warning] No further splits with positive gain, best gain: -inf\n",
      "[LightGBM] [Warning] No further splits with positive gain, best gain: -inf\n",
      "[LightGBM] [Warning] No further splits with positive gain, best gain: -inf\n",
      "[LightGBM] [Warning] No further splits with positive gain, best gain: -inf\n",
      "[LightGBM] [Warning] No further splits with positive gain, best gain: -inf\n",
      "[LightGBM] [Warning] No further splits with positive gain, best gain: -inf\n",
      "[LightGBM] [Warning] No further splits with positive gain, best gain: -inf\n",
      "[LightGBM] [Warning] No further splits with positive gain, best gain: -inf\n",
      "[LightGBM] [Warning] No further splits with positive gain, best gain: -inf\n",
      "[LightGBM] [Warning] No further splits with positive gain, best gain: -inf\n",
      "[LightGBM] [Warning] No further splits with positive gain, best gain: -inf\n",
      "[LightGBM] [Warning] No further splits with positive gain, best gain: -inf\n",
      "[LightGBM] [Warning] No further splits with positive gain, best gain: -inf\n",
      "[LightGBM] [Warning] No further splits with positive gain, best gain: -inf\n",
      "[LightGBM] [Warning] No further splits with positive gain, best gain: -inf\n",
      "[LightGBM] [Warning] No further splits with positive gain, best gain: -inf\n",
      "[LightGBM] [Warning] No further splits with positive gain, best gain: -inf\n",
      "[LightGBM] [Warning] No further splits with positive gain, best gain: -inf\n",
      "[LightGBM] [Warning] No further splits with positive gain, best gain: -inf\n",
      "[LightGBM] [Warning] No further splits with positive gain, best gain: -inf\n",
      "[LightGBM] [Warning] No further splits with positive gain, best gain: -inf\n",
      "[LightGBM] [Warning] No further splits with positive gain, best gain: -inf\n",
      "[LightGBM] [Warning] No further splits with positive gain, best gain: -inf\n",
      "[LightGBM] [Warning] No further splits with positive gain, best gain: -inf\n",
      "[LightGBM] [Warning] No further splits with positive gain, best gain: -inf\n",
      "[LightGBM] [Warning] No further splits with positive gain, best gain: -inf\n",
      "[LightGBM] [Warning] No further splits with positive gain, best gain: -inf\n",
      "[LightGBM] [Warning] No further splits with positive gain, best gain: -inf\n",
      "[LightGBM] [Warning] No further splits with positive gain, best gain: -inf\n",
      "[LightGBM] [Warning] No further splits with positive gain, best gain: -inf\n",
      "[LightGBM] [Warning] No further splits with positive gain, best gain: -inf\n",
      "[LightGBM] [Warning] No further splits with positive gain, best gain: -inf\n",
      "[LightGBM] [Warning] No further splits with positive gain, best gain: -inf\n",
      "[LightGBM] [Warning] No further splits with positive gain, best gain: -inf\n",
      "[LightGBM] [Warning] No further splits with positive gain, best gain: -inf\n",
      "[LightGBM] [Warning] No further splits with positive gain, best gain: -inf\n",
      "[LightGBM] [Warning] No further splits with positive gain, best gain: -inf\n",
      "[LightGBM] [Warning] No further splits with positive gain, best gain: -inf\n",
      "[LightGBM] [Warning] No further splits with positive gain, best gain: -inf\n",
      "[LightGBM] [Warning] No further splits with positive gain, best gain: -inf\n",
      "[LightGBM] [Warning] No further splits with positive gain, best gain: -inf\n",
      "[LightGBM] [Warning] No further splits with positive gain, best gain: -inf\n",
      "[LightGBM] [Warning] No further splits with positive gain, best gain: -inf\n",
      "[LightGBM] [Warning] No further splits with positive gain, best gain: -inf\n",
      "[LightGBM] [Warning] No further splits with positive gain, best gain: -inf\n",
      "[LightGBM] [Warning] No further splits with positive gain, best gain: -inf\n",
      "[LightGBM] [Warning] No further splits with positive gain, best gain: -inf\n",
      "[LightGBM] [Warning] No further splits with positive gain, best gain: -inf\n",
      "[LightGBM] [Warning] No further splits with positive gain, best gain: -inf\n",
      "[LightGBM] [Warning] No further splits with positive gain, best gain: -inf\n",
      "[LightGBM] [Warning] No further splits with positive gain, best gain: -inf\n",
      "[LightGBM] [Warning] No further splits with positive gain, best gain: -inf\n",
      "[LightGBM] [Warning] No further splits with positive gain, best gain: -inf\n",
      "[LightGBM] [Warning] No further splits with positive gain, best gain: -inf\n",
      "[LightGBM] [Warning] No further splits with positive gain, best gain: -inf\n",
      "[LightGBM] [Warning] No further splits with positive gain, best gain: -inf\n",
      "[LightGBM] [Warning] No further splits with positive gain, best gain: -inf\n",
      "[LightGBM] [Warning] No further splits with positive gain, best gain: -inf\n",
      "[LightGBM] [Warning] No further splits with positive gain, best gain: -inf\n",
      "[LightGBM] [Warning] No further splits with positive gain, best gain: -inf\n",
      "[LightGBM] [Warning] No further splits with positive gain, best gain: -inf\n",
      "[LightGBM] [Warning] No further splits with positive gain, best gain: -inf\n",
      "[LightGBM] [Warning] No further splits with positive gain, best gain: -inf\n",
      "[LightGBM] [Warning] No further splits with positive gain, best gain: -inf\n",
      "[LightGBM] [Warning] No further splits with positive gain, best gain: -inf\n",
      "[LightGBM] [Warning] No further splits with positive gain, best gain: -inf\n",
      "[LightGBM] [Warning] No further splits with positive gain, best gain: -inf\n",
      "[LightGBM] [Warning] No further splits with positive gain, best gain: -inf\n",
      "[LightGBM] [Warning] No further splits with positive gain, best gain: -inf\n",
      "[LightGBM] [Warning] No further splits with positive gain, best gain: -inf\n",
      "[LightGBM] [Warning] No further splits with positive gain, best gain: -inf\n",
      "[LightGBM] [Warning] No further splits with positive gain, best gain: -inf\n",
      "[LightGBM] [Warning] No further splits with positive gain, best gain: -inf\n",
      "[LightGBM] [Warning] No further splits with positive gain, best gain: -inf\n",
      "[LightGBM] [Warning] No further splits with positive gain, best gain: -inf\n",
      "[LightGBM] [Warning] No further splits with positive gain, best gain: -inf\n",
      "[LightGBM] [Warning] No further splits with positive gain, best gain: -inf\n",
      "[LightGBM] [Warning] No further splits with positive gain, best gain: -inf\n",
      "[LightGBM] [Warning] No further splits with positive gain, best gain: -inf\n"
     ]
    }
   ],
   "source": [
    "lgbm = LGBMRegressor()\n",
    "lgbm_model = lgbm.fit(X_train, y_train)"
   ]
  },
  {
   "cell_type": "markdown",
   "id": "bb32054d-3edf-47b3-9680-97d985c2361b",
   "metadata": {},
   "source": [
    "## Tahmin"
   ]
  },
  {
   "cell_type": "code",
   "execution_count": 180,
   "id": "547adf15-f260-40d7-a3b3-c9f7da68edc7",
   "metadata": {
    "tags": []
   },
   "outputs": [],
   "source": [
    "y_pred = lgbm_model.predict(X_test, num_iteration=lgbm_model.best_iteration_)"
   ]
  },
  {
   "cell_type": "code",
   "execution_count": 181,
   "id": "143fbc80-2004-430e-90cd-10d1dcc8bb35",
   "metadata": {
    "tags": []
   },
   "outputs": [
    {
     "data": {
      "text/plain": [
       "363.8712087611089"
      ]
     },
     "execution_count": 181,
     "metadata": {},
     "output_type": "execute_result"
    }
   ],
   "source": [
    "np.sqrt(mean_squared_error(y_test, y_pred))"
   ]
  },
  {
   "cell_type": "code",
   "execution_count": 182,
   "id": "dac17770-5c3e-416d-b65a-ff9ca98b0ca8",
   "metadata": {
    "tags": []
   },
   "outputs": [
    {
     "data": {
      "text/html": [
       "<style>#sk-container-id-21 {color: black;}#sk-container-id-21 pre{padding: 0;}#sk-container-id-21 div.sk-toggleable {background-color: white;}#sk-container-id-21 label.sk-toggleable__label {cursor: pointer;display: block;width: 100%;margin-bottom: 0;padding: 0.3em;box-sizing: border-box;text-align: center;}#sk-container-id-21 label.sk-toggleable__label-arrow:before {content: \"▸\";float: left;margin-right: 0.25em;color: #696969;}#sk-container-id-21 label.sk-toggleable__label-arrow:hover:before {color: black;}#sk-container-id-21 div.sk-estimator:hover label.sk-toggleable__label-arrow:before {color: black;}#sk-container-id-21 div.sk-toggleable__content {max-height: 0;max-width: 0;overflow: hidden;text-align: left;background-color: #f0f8ff;}#sk-container-id-21 div.sk-toggleable__content pre {margin: 0.2em;color: black;border-radius: 0.25em;background-color: #f0f8ff;}#sk-container-id-21 input.sk-toggleable__control:checked~div.sk-toggleable__content {max-height: 200px;max-width: 100%;overflow: auto;}#sk-container-id-21 input.sk-toggleable__control:checked~label.sk-toggleable__label-arrow:before {content: \"▾\";}#sk-container-id-21 div.sk-estimator input.sk-toggleable__control:checked~label.sk-toggleable__label {background-color: #d4ebff;}#sk-container-id-21 div.sk-label input.sk-toggleable__control:checked~label.sk-toggleable__label {background-color: #d4ebff;}#sk-container-id-21 input.sk-hidden--visually {border: 0;clip: rect(1px 1px 1px 1px);clip: rect(1px, 1px, 1px, 1px);height: 1px;margin: -1px;overflow: hidden;padding: 0;position: absolute;width: 1px;}#sk-container-id-21 div.sk-estimator {font-family: monospace;background-color: #f0f8ff;border: 1px dotted black;border-radius: 0.25em;box-sizing: border-box;margin-bottom: 0.5em;}#sk-container-id-21 div.sk-estimator:hover {background-color: #d4ebff;}#sk-container-id-21 div.sk-parallel-item::after {content: \"\";width: 100%;border-bottom: 1px solid gray;flex-grow: 1;}#sk-container-id-21 div.sk-label:hover label.sk-toggleable__label {background-color: #d4ebff;}#sk-container-id-21 div.sk-serial::before {content: \"\";position: absolute;border-left: 1px solid gray;box-sizing: border-box;top: 0;bottom: 0;left: 50%;z-index: 0;}#sk-container-id-21 div.sk-serial {display: flex;flex-direction: column;align-items: center;background-color: white;padding-right: 0.2em;padding-left: 0.2em;position: relative;}#sk-container-id-21 div.sk-item {position: relative;z-index: 1;}#sk-container-id-21 div.sk-parallel {display: flex;align-items: stretch;justify-content: center;background-color: white;position: relative;}#sk-container-id-21 div.sk-item::before, #sk-container-id-21 div.sk-parallel-item::before {content: \"\";position: absolute;border-left: 1px solid gray;box-sizing: border-box;top: 0;bottom: 0;left: 50%;z-index: -1;}#sk-container-id-21 div.sk-parallel-item {display: flex;flex-direction: column;z-index: 1;position: relative;background-color: white;}#sk-container-id-21 div.sk-parallel-item:first-child::after {align-self: flex-end;width: 50%;}#sk-container-id-21 div.sk-parallel-item:last-child::after {align-self: flex-start;width: 50%;}#sk-container-id-21 div.sk-parallel-item:only-child::after {width: 0;}#sk-container-id-21 div.sk-dashed-wrapped {border: 1px dashed gray;margin: 0 0.4em 0.5em 0.4em;box-sizing: border-box;padding-bottom: 0.4em;background-color: white;}#sk-container-id-21 div.sk-label label {font-family: monospace;font-weight: bold;display: inline-block;line-height: 1.2em;}#sk-container-id-21 div.sk-label-container {text-align: center;}#sk-container-id-21 div.sk-container {/* jupyter's `normalize.less` sets `[hidden] { display: none; }` but bootstrap.min.css set `[hidden] { display: none !important; }` so we also need the `!important` here to be able to override the default hidden behavior on the sphinx rendered scikit-learn.org. See: https://github.com/scikit-learn/scikit-learn/issues/21755 */display: inline-block !important;position: relative;}#sk-container-id-21 div.sk-text-repr-fallback {display: none;}</style><div id=\"sk-container-id-21\" class=\"sk-top-container\"><div class=\"sk-text-repr-fallback\"><pre>LGBMRegressor()</pre><b>In a Jupyter environment, please rerun this cell to show the HTML representation or trust the notebook. <br />On GitHub, the HTML representation is unable to render, please try loading this page with nbviewer.org.</b></div><div class=\"sk-container\" hidden><div class=\"sk-item\"><div class=\"sk-estimator sk-toggleable\"><input class=\"sk-toggleable__control sk-hidden--visually\" id=\"sk-estimator-id-33\" type=\"checkbox\" checked><label for=\"sk-estimator-id-33\" class=\"sk-toggleable__label sk-toggleable__label-arrow\">LGBMRegressor</label><div class=\"sk-toggleable__content\"><pre>LGBMRegressor()</pre></div></div></div></div></div>"
      ],
      "text/plain": [
       "LGBMRegressor()"
      ]
     },
     "execution_count": 182,
     "metadata": {},
     "output_type": "execute_result"
    }
   ],
   "source": [
    "lgbm_model"
   ]
  },
  {
   "cell_type": "markdown",
   "id": "3518ff42-995e-46d4-bd34-dba0d9093637",
   "metadata": {},
   "source": [
    "## Model Tuning"
   ]
  },
  {
   "cell_type": "code",
   "execution_count": 185,
   "id": "4da79166-fdf9-4ce2-b0c9-6bd911bfdbb8",
   "metadata": {
    "tags": []
   },
   "outputs": [],
   "source": [
    "lgbm_grid = {'colsample_bytree': [0.4, 0.5, 0.6, 0.9, 1], \n",
    "             'learning_rate': [0.01, 0.1, 0.5, 1], \n",
    "             'n_estimators': [20, 40, 100, 200, 500, 1000], \n",
    "             'max_depth': [1,2,3,4,5,6,7,8]}\n",
    "\n",
    "lgbm = LGBMRegressor()\n",
    "lgbm_cv_model = GridSearchCV(lgbm, lgbm_grid, cv = 10, n_jobs = -1, verbose=2)"
   ]
  },
  {
   "cell_type": "code",
   "execution_count": 186,
   "id": "8c6c9d87-132d-4355-ba7b-bd2b0b90e403",
   "metadata": {
    "collapsed": true,
    "jupyter": {
     "outputs_hidden": true
    },
    "tags": []
   },
   "outputs": [
    {
     "name": "stdout",
     "output_type": "stream",
     "text": [
      "Fitting 10 folds for each of 960 candidates, totalling 9600 fits\n",
      "[LightGBM] [Warning] Accuracy may be bad since you didn't explicitly set num_leaves OR 2^max_depth > num_leaves. (num_leaves=31).\n",
      "[LightGBM] [Warning] Accuracy may be bad since you didn't explicitly set num_leaves OR 2^max_depth > num_leaves. (num_leaves=31).\n",
      "[LightGBM] [Info] Auto-choosing col-wise multi-threading, the overhead of testing was 0.000063 seconds.\n",
      "You can set `force_col_wise=true` to remove the overhead.\n",
      "[LightGBM] [Info] Total Bins 831\n",
      "[LightGBM] [Info] Number of data points in the train set: 197, number of used features: 19\n",
      "[LightGBM] [Info] Start training from score 543.483442\n",
      "[LightGBM] [Warning] No further splits with positive gain, best gain: -inf\n",
      "[LightGBM] [Warning] No further splits with positive gain, best gain: -inf\n",
      "[LightGBM] [Warning] No further splits with positive gain, best gain: -inf\n",
      "[LightGBM] [Warning] No further splits with positive gain, best gain: -inf\n",
      "[LightGBM] [Warning] No further splits with positive gain, best gain: -inf\n",
      "[LightGBM] [Warning] No further splits with positive gain, best gain: -inf\n",
      "[LightGBM] [Warning] No further splits with positive gain, best gain: -inf\n",
      "[LightGBM] [Warning] No further splits with positive gain, best gain: -inf\n",
      "[LightGBM] [Warning] No further splits with positive gain, best gain: -inf\n",
      "[LightGBM] [Warning] No further splits with positive gain, best gain: -inf\n",
      "[LightGBM] [Warning] No further splits with positive gain, best gain: -inf\n",
      "[LightGBM] [Warning] No further splits with positive gain, best gain: -inf\n",
      "[LightGBM] [Warning] No further splits with positive gain, best gain: -inf\n",
      "[LightGBM] [Warning] No further splits with positive gain, best gain: -inf\n",
      "[LightGBM] [Warning] No further splits with positive gain, best gain: -inf\n",
      "[LightGBM] [Warning] No further splits with positive gain, best gain: -inf\n",
      "[LightGBM] [Warning] No further splits with positive gain, best gain: -inf\n",
      "[LightGBM] [Warning] No further splits with positive gain, best gain: -inf\n",
      "[LightGBM] [Warning] No further splits with positive gain, best gain: -inf\n",
      "[LightGBM] [Warning] No further splits with positive gain, best gain: -inf\n"
     ]
    },
    {
     "data": {
      "text/html": [
       "<style>#sk-container-id-23 {color: black;}#sk-container-id-23 pre{padding: 0;}#sk-container-id-23 div.sk-toggleable {background-color: white;}#sk-container-id-23 label.sk-toggleable__label {cursor: pointer;display: block;width: 100%;margin-bottom: 0;padding: 0.3em;box-sizing: border-box;text-align: center;}#sk-container-id-23 label.sk-toggleable__label-arrow:before {content: \"▸\";float: left;margin-right: 0.25em;color: #696969;}#sk-container-id-23 label.sk-toggleable__label-arrow:hover:before {color: black;}#sk-container-id-23 div.sk-estimator:hover label.sk-toggleable__label-arrow:before {color: black;}#sk-container-id-23 div.sk-toggleable__content {max-height: 0;max-width: 0;overflow: hidden;text-align: left;background-color: #f0f8ff;}#sk-container-id-23 div.sk-toggleable__content pre {margin: 0.2em;color: black;border-radius: 0.25em;background-color: #f0f8ff;}#sk-container-id-23 input.sk-toggleable__control:checked~div.sk-toggleable__content {max-height: 200px;max-width: 100%;overflow: auto;}#sk-container-id-23 input.sk-toggleable__control:checked~label.sk-toggleable__label-arrow:before {content: \"▾\";}#sk-container-id-23 div.sk-estimator input.sk-toggleable__control:checked~label.sk-toggleable__label {background-color: #d4ebff;}#sk-container-id-23 div.sk-label input.sk-toggleable__control:checked~label.sk-toggleable__label {background-color: #d4ebff;}#sk-container-id-23 input.sk-hidden--visually {border: 0;clip: rect(1px 1px 1px 1px);clip: rect(1px, 1px, 1px, 1px);height: 1px;margin: -1px;overflow: hidden;padding: 0;position: absolute;width: 1px;}#sk-container-id-23 div.sk-estimator {font-family: monospace;background-color: #f0f8ff;border: 1px dotted black;border-radius: 0.25em;box-sizing: border-box;margin-bottom: 0.5em;}#sk-container-id-23 div.sk-estimator:hover {background-color: #d4ebff;}#sk-container-id-23 div.sk-parallel-item::after {content: \"\";width: 100%;border-bottom: 1px solid gray;flex-grow: 1;}#sk-container-id-23 div.sk-label:hover label.sk-toggleable__label {background-color: #d4ebff;}#sk-container-id-23 div.sk-serial::before {content: \"\";position: absolute;border-left: 1px solid gray;box-sizing: border-box;top: 0;bottom: 0;left: 50%;z-index: 0;}#sk-container-id-23 div.sk-serial {display: flex;flex-direction: column;align-items: center;background-color: white;padding-right: 0.2em;padding-left: 0.2em;position: relative;}#sk-container-id-23 div.sk-item {position: relative;z-index: 1;}#sk-container-id-23 div.sk-parallel {display: flex;align-items: stretch;justify-content: center;background-color: white;position: relative;}#sk-container-id-23 div.sk-item::before, #sk-container-id-23 div.sk-parallel-item::before {content: \"\";position: absolute;border-left: 1px solid gray;box-sizing: border-box;top: 0;bottom: 0;left: 50%;z-index: -1;}#sk-container-id-23 div.sk-parallel-item {display: flex;flex-direction: column;z-index: 1;position: relative;background-color: white;}#sk-container-id-23 div.sk-parallel-item:first-child::after {align-self: flex-end;width: 50%;}#sk-container-id-23 div.sk-parallel-item:last-child::after {align-self: flex-start;width: 50%;}#sk-container-id-23 div.sk-parallel-item:only-child::after {width: 0;}#sk-container-id-23 div.sk-dashed-wrapped {border: 1px dashed gray;margin: 0 0.4em 0.5em 0.4em;box-sizing: border-box;padding-bottom: 0.4em;background-color: white;}#sk-container-id-23 div.sk-label label {font-family: monospace;font-weight: bold;display: inline-block;line-height: 1.2em;}#sk-container-id-23 div.sk-label-container {text-align: center;}#sk-container-id-23 div.sk-container {/* jupyter's `normalize.less` sets `[hidden] { display: none; }` but bootstrap.min.css set `[hidden] { display: none !important; }` so we also need the `!important` here to be able to override the default hidden behavior on the sphinx rendered scikit-learn.org. See: https://github.com/scikit-learn/scikit-learn/issues/21755 */display: inline-block !important;position: relative;}#sk-container-id-23 div.sk-text-repr-fallback {display: none;}</style><div id=\"sk-container-id-23\" class=\"sk-top-container\"><div class=\"sk-text-repr-fallback\"><pre>GridSearchCV(cv=10, estimator=LGBMRegressor(), n_jobs=-1,\n",
       "             param_grid={&#x27;colsample_bytree&#x27;: [0.4, 0.5, 0.6, 0.9, 1],\n",
       "                         &#x27;learning_rate&#x27;: [0.01, 0.1, 0.5, 1],\n",
       "                         &#x27;max_depth&#x27;: [1, 2, 3, 4, 5, 6, 7, 8],\n",
       "                         &#x27;n_estimators&#x27;: [20, 40, 100, 200, 500, 1000]},\n",
       "             verbose=2)</pre><b>In a Jupyter environment, please rerun this cell to show the HTML representation or trust the notebook. <br />On GitHub, the HTML representation is unable to render, please try loading this page with nbviewer.org.</b></div><div class=\"sk-container\" hidden><div class=\"sk-item sk-dashed-wrapped\"><div class=\"sk-label-container\"><div class=\"sk-label sk-toggleable\"><input class=\"sk-toggleable__control sk-hidden--visually\" id=\"sk-estimator-id-37\" type=\"checkbox\" ><label for=\"sk-estimator-id-37\" class=\"sk-toggleable__label sk-toggleable__label-arrow\">GridSearchCV</label><div class=\"sk-toggleable__content\"><pre>GridSearchCV(cv=10, estimator=LGBMRegressor(), n_jobs=-1,\n",
       "             param_grid={&#x27;colsample_bytree&#x27;: [0.4, 0.5, 0.6, 0.9, 1],\n",
       "                         &#x27;learning_rate&#x27;: [0.01, 0.1, 0.5, 1],\n",
       "                         &#x27;max_depth&#x27;: [1, 2, 3, 4, 5, 6, 7, 8],\n",
       "                         &#x27;n_estimators&#x27;: [20, 40, 100, 200, 500, 1000]},\n",
       "             verbose=2)</pre></div></div></div><div class=\"sk-parallel\"><div class=\"sk-parallel-item\"><div class=\"sk-item\"><div class=\"sk-label-container\"><div class=\"sk-label sk-toggleable\"><input class=\"sk-toggleable__control sk-hidden--visually\" id=\"sk-estimator-id-38\" type=\"checkbox\" ><label for=\"sk-estimator-id-38\" class=\"sk-toggleable__label sk-toggleable__label-arrow\">estimator: LGBMRegressor</label><div class=\"sk-toggleable__content\"><pre>LGBMRegressor()</pre></div></div></div><div class=\"sk-serial\"><div class=\"sk-item\"><div class=\"sk-estimator sk-toggleable\"><input class=\"sk-toggleable__control sk-hidden--visually\" id=\"sk-estimator-id-39\" type=\"checkbox\" ><label for=\"sk-estimator-id-39\" class=\"sk-toggleable__label sk-toggleable__label-arrow\">LGBMRegressor</label><div class=\"sk-toggleable__content\"><pre>LGBMRegressor()</pre></div></div></div></div></div></div></div></div></div></div>"
      ],
      "text/plain": [
       "GridSearchCV(cv=10, estimator=LGBMRegressor(), n_jobs=-1,\n",
       "             param_grid={'colsample_bytree': [0.4, 0.5, 0.6, 0.9, 1],\n",
       "                         'learning_rate': [0.01, 0.1, 0.5, 1],\n",
       "                         'max_depth': [1, 2, 3, 4, 5, 6, 7, 8],\n",
       "                         'n_estimators': [20, 40, 100, 200, 500, 1000]},\n",
       "             verbose=2)"
      ]
     },
     "execution_count": 186,
     "metadata": {},
     "output_type": "execute_result"
    }
   ],
   "source": [
    "lgbm_cv_model.fit(X_train, y_train)"
   ]
  },
  {
   "cell_type": "code",
   "execution_count": 187,
   "id": "bee84dc4-233d-4ed6-bbb6-67f22190b184",
   "metadata": {
    "tags": []
   },
   "outputs": [
    {
     "data": {
      "text/plain": [
       "{'colsample_bytree': 0.5,\n",
       " 'learning_rate': 0.1,\n",
       " 'max_depth': 6,\n",
       " 'n_estimators': 20}"
      ]
     },
     "execution_count": 187,
     "metadata": {},
     "output_type": "execute_result"
    }
   ],
   "source": [
    "lgbm_cv_model.best_params_"
   ]
  },
  {
   "cell_type": "code",
   "execution_count": 193,
   "id": "19827a88-735f-41d4-a34c-2093a90e15dc",
   "metadata": {
    "collapsed": true,
    "jupyter": {
     "outputs_hidden": true
    },
    "tags": []
   },
   "outputs": [
    {
     "name": "stdout",
     "output_type": "stream",
     "text": [
      "[LightGBM] [Warning] Accuracy may be bad since you didn't explicitly set num_leaves OR 2^max_depth > num_leaves. (num_leaves=31).\n",
      "[LightGBM] [Warning] Accuracy may be bad since you didn't explicitly set num_leaves OR 2^max_depth > num_leaves. (num_leaves=31).\n",
      "[LightGBM] [Info] Auto-choosing col-wise multi-threading, the overhead of testing was 0.000051 seconds.\n",
      "You can set `force_col_wise=true` to remove the overhead.\n",
      "[LightGBM] [Info] Total Bins 831\n",
      "[LightGBM] [Info] Number of data points in the train set: 197, number of used features: 19\n",
      "[LightGBM] [Info] Start training from score 543.483442\n",
      "[LightGBM] [Warning] No further splits with positive gain, best gain: -inf\n",
      "[LightGBM] [Warning] No further splits with positive gain, best gain: -inf\n",
      "[LightGBM] [Warning] No further splits with positive gain, best gain: -inf\n",
      "[LightGBM] [Warning] No further splits with positive gain, best gain: -inf\n",
      "[LightGBM] [Warning] No further splits with positive gain, best gain: -inf\n",
      "[LightGBM] [Warning] No further splits with positive gain, best gain: -inf\n",
      "[LightGBM] [Warning] No further splits with positive gain, best gain: -inf\n",
      "[LightGBM] [Warning] No further splits with positive gain, best gain: -inf\n",
      "[LightGBM] [Warning] No further splits with positive gain, best gain: -inf\n",
      "[LightGBM] [Warning] No further splits with positive gain, best gain: -inf\n",
      "[LightGBM] [Warning] No further splits with positive gain, best gain: -inf\n",
      "[LightGBM] [Warning] No further splits with positive gain, best gain: -inf\n",
      "[LightGBM] [Warning] No further splits with positive gain, best gain: -inf\n",
      "[LightGBM] [Warning] No further splits with positive gain, best gain: -inf\n",
      "[LightGBM] [Warning] No further splits with positive gain, best gain: -inf\n",
      "[LightGBM] [Warning] No further splits with positive gain, best gain: -inf\n",
      "[LightGBM] [Warning] No further splits with positive gain, best gain: -inf\n",
      "[LightGBM] [Warning] No further splits with positive gain, best gain: -inf\n",
      "[LightGBM] [Warning] No further splits with positive gain, best gain: -inf\n",
      "[LightGBM] [Warning] No further splits with positive gain, best gain: -inf\n",
      "[LightGBM] [Warning] No further splits with positive gain, best gain: -inf\n",
      "[LightGBM] [Warning] No further splits with positive gain, best gain: -inf\n",
      "[LightGBM] [Warning] No further splits with positive gain, best gain: -inf\n",
      "[LightGBM] [Warning] No further splits with positive gain, best gain: -inf\n",
      "[LightGBM] [Warning] No further splits with positive gain, best gain: -inf\n",
      "[LightGBM] [Warning] No further splits with positive gain, best gain: -inf\n",
      "[LightGBM] [Warning] No further splits with positive gain, best gain: -inf\n",
      "[LightGBM] [Warning] No further splits with positive gain, best gain: -inf\n",
      "[LightGBM] [Warning] No further splits with positive gain, best gain: -inf\n",
      "[LightGBM] [Warning] No further splits with positive gain, best gain: -inf\n",
      "[LightGBM] [Warning] No further splits with positive gain, best gain: -inf\n",
      "[LightGBM] [Warning] No further splits with positive gain, best gain: -inf\n",
      "[LightGBM] [Warning] No further splits with positive gain, best gain: -inf\n",
      "[LightGBM] [Warning] No further splits with positive gain, best gain: -inf\n",
      "[LightGBM] [Warning] No further splits with positive gain, best gain: -inf\n",
      "[LightGBM] [Warning] No further splits with positive gain, best gain: -inf\n",
      "[LightGBM] [Warning] No further splits with positive gain, best gain: -inf\n",
      "[LightGBM] [Warning] No further splits with positive gain, best gain: -inf\n",
      "[LightGBM] [Warning] No further splits with positive gain, best gain: -inf\n",
      "[LightGBM] [Warning] No further splits with positive gain, best gain: -inf\n"
     ]
    }
   ],
   "source": [
    "lgbm_tuned = LGBMRegressor(learning_rate=0.1, \n",
    "                           max_depth=6, \n",
    "                           n_estimators=40, \n",
    "                           colsample_bytree=0.5)\n",
    "\n",
    "lgbm_tuned = lgbm_tuned.fit(X_train, y_train)"
   ]
  },
  {
   "cell_type": "code",
   "execution_count": 194,
   "id": "88163749-8b79-4762-b65a-bef3ad2ce4e7",
   "metadata": {
    "tags": []
   },
   "outputs": [
    {
     "name": "stdout",
     "output_type": "stream",
     "text": [
      "[LightGBM] [Warning] Accuracy may be bad since you didn't explicitly set num_leaves OR 2^max_depth > num_leaves. (num_leaves=31).\n"
     ]
    },
    {
     "data": {
      "text/plain": [
       "375.0176683409679"
      ]
     },
     "execution_count": 194,
     "metadata": {},
     "output_type": "execute_result"
    }
   ],
   "source": [
    "y_pred = lgbm_tuned.predict(X_test)\n",
    "np.sqrt(mean_squared_error(y_test, y_pred))"
   ]
  },
  {
   "cell_type": "markdown",
   "id": "7171f914-68a3-4ef7-a866-c75c97df4637",
   "metadata": {},
   "source": [
    "# CatBoost"
   ]
  },
  {
   "cell_type": "code",
   "execution_count": 93,
   "id": "623a669c-d2f4-4904-8caa-79a0e71724f6",
   "metadata": {
    "tags": []
   },
   "outputs": [],
   "source": [
    "hit = pd.read_csv(\"Hitters.csv\")\n",
    "df = hit.copy()\n",
    "df = df.dropna()\n",
    "dms = pd.get_dummies(df[['League', 'Division', 'NewLeague']])\n",
    "y = df[\"Salary\"]\n",
    "X_ = df.drop(['Salary', 'League', 'Division', 'NewLeague'], axis = 1).astype('float64')\n",
    "X = pd.concat([X_, dms[['League_N', 'Division_W', 'NewLeague_N']]], axis = 1)\n",
    "X_train, X_test, y_train, y_test = train_test_split(X, y, test_size=0.25, random_state=42)"
   ]
  },
  {
   "cell_type": "code",
   "execution_count": 94,
   "id": "6c948327-cf65-4240-98b5-058430a8a2bf",
   "metadata": {
    "tags": []
   },
   "outputs": [],
   "source": [
    "#!pip install catboost"
   ]
  },
  {
   "cell_type": "code",
   "execution_count": 95,
   "id": "63c75ad8-8b2a-4fb7-a1c0-03efce1696bc",
   "metadata": {
    "tags": []
   },
   "outputs": [],
   "source": [
    "from catboost import CatBoostRegressor"
   ]
  },
  {
   "cell_type": "code",
   "execution_count": 97,
   "id": "308cab45-8d98-40a3-996c-889fc455762b",
   "metadata": {
    "collapsed": true,
    "jupyter": {
     "outputs_hidden": true
    },
    "tags": []
   },
   "outputs": [
    {
     "name": "stdout",
     "output_type": "stream",
     "text": [
      "Learning rate set to 0.031674\n",
      "0:\tlearn: 437.6430699\ttotal: 874us\tremaining: 873ms\n",
      "1:\tlearn: 431.3923642\ttotal: 1.65ms\tremaining: 825ms\n",
      "2:\tlearn: 424.8820360\ttotal: 2.36ms\tremaining: 784ms\n",
      "3:\tlearn: 418.2514904\ttotal: 3.11ms\tremaining: 775ms\n",
      "4:\tlearn: 412.6394021\ttotal: 3.82ms\tremaining: 761ms\n",
      "5:\tlearn: 406.6247020\ttotal: 4.65ms\tremaining: 771ms\n",
      "6:\tlearn: 400.5321206\ttotal: 5.71ms\tremaining: 809ms\n",
      "7:\tlearn: 394.6683437\ttotal: 6.74ms\tremaining: 836ms\n",
      "8:\tlearn: 388.2496484\ttotal: 7.67ms\tremaining: 844ms\n",
      "9:\tlearn: 382.9448842\ttotal: 8.71ms\tremaining: 862ms\n",
      "10:\tlearn: 377.2600080\ttotal: 9.64ms\tremaining: 867ms\n",
      "11:\tlearn: 372.4829606\ttotal: 10.5ms\tremaining: 862ms\n",
      "12:\tlearn: 366.6823437\ttotal: 11.2ms\tremaining: 849ms\n",
      "13:\tlearn: 362.6076230\ttotal: 12.1ms\tremaining: 852ms\n",
      "14:\tlearn: 358.0107745\ttotal: 12.8ms\tremaining: 842ms\n",
      "15:\tlearn: 353.2802665\ttotal: 13.7ms\tremaining: 843ms\n",
      "16:\tlearn: 348.5646265\ttotal: 14.5ms\tremaining: 839ms\n",
      "17:\tlearn: 343.6407912\ttotal: 15.3ms\tremaining: 834ms\n",
      "18:\tlearn: 339.2363847\ttotal: 16.1ms\tremaining: 831ms\n",
      "19:\tlearn: 334.3431252\ttotal: 16.9ms\tremaining: 826ms\n",
      "20:\tlearn: 330.3247028\ttotal: 17.6ms\tremaining: 822ms\n",
      "21:\tlearn: 326.6118334\ttotal: 18.6ms\tremaining: 827ms\n",
      "22:\tlearn: 322.7759981\ttotal: 19.3ms\tremaining: 820ms\n",
      "23:\tlearn: 318.9511822\ttotal: 20.1ms\tremaining: 817ms\n",
      "24:\tlearn: 315.4216253\ttotal: 20.8ms\tremaining: 813ms\n",
      "25:\tlearn: 311.3551377\ttotal: 22.3ms\tremaining: 837ms\n",
      "26:\tlearn: 308.1492371\ttotal: 23ms\tremaining: 830ms\n",
      "27:\tlearn: 304.7284729\ttotal: 23.7ms\tremaining: 824ms\n",
      "28:\tlearn: 301.3893204\ttotal: 24.4ms\tremaining: 817ms\n",
      "29:\tlearn: 298.2080758\ttotal: 25.1ms\tremaining: 812ms\n",
      "30:\tlearn: 295.6878398\ttotal: 25.7ms\tremaining: 804ms\n",
      "31:\tlearn: 292.3912243\ttotal: 26.3ms\tremaining: 796ms\n",
      "32:\tlearn: 289.6345744\ttotal: 26.9ms\tremaining: 789ms\n",
      "33:\tlearn: 287.2158711\ttotal: 27.6ms\tremaining: 783ms\n",
      "34:\tlearn: 284.3879081\ttotal: 28.2ms\tremaining: 778ms\n",
      "35:\tlearn: 281.7994818\ttotal: 28.8ms\tremaining: 772ms\n",
      "36:\tlearn: 279.2028261\ttotal: 29.4ms\tremaining: 766ms\n",
      "37:\tlearn: 276.5821160\ttotal: 30ms\tremaining: 760ms\n",
      "38:\tlearn: 273.8890894\ttotal: 30.6ms\tremaining: 754ms\n",
      "39:\tlearn: 271.1681677\ttotal: 31.4ms\tremaining: 753ms\n",
      "40:\tlearn: 269.0159531\ttotal: 32ms\tremaining: 749ms\n",
      "41:\tlearn: 266.3601804\ttotal: 32.6ms\tremaining: 743ms\n",
      "42:\tlearn: 263.8608958\ttotal: 33.2ms\tremaining: 738ms\n",
      "43:\tlearn: 261.1405566\ttotal: 33.8ms\tremaining: 733ms\n",
      "44:\tlearn: 258.9314736\ttotal: 34.3ms\tremaining: 728ms\n",
      "45:\tlearn: 256.3885577\ttotal: 34.9ms\tremaining: 724ms\n",
      "46:\tlearn: 254.2857349\ttotal: 35.5ms\tremaining: 719ms\n",
      "47:\tlearn: 252.2347121\ttotal: 36ms\tremaining: 715ms\n",
      "48:\tlearn: 250.1779367\ttotal: 36.7ms\tremaining: 712ms\n",
      "49:\tlearn: 248.2687430\ttotal: 37.4ms\tremaining: 711ms\n",
      "50:\tlearn: 246.3685582\ttotal: 38ms\tremaining: 708ms\n",
      "51:\tlearn: 244.8719988\ttotal: 38.6ms\tremaining: 705ms\n",
      "52:\tlearn: 242.7348892\ttotal: 39.2ms\tremaining: 701ms\n",
      "53:\tlearn: 241.1611112\ttotal: 39.8ms\tremaining: 698ms\n",
      "54:\tlearn: 239.4819462\ttotal: 40.4ms\tremaining: 694ms\n",
      "55:\tlearn: 237.3877895\ttotal: 41ms\tremaining: 691ms\n",
      "56:\tlearn: 235.7619262\ttotal: 41.6ms\tremaining: 688ms\n",
      "57:\tlearn: 233.9604804\ttotal: 42.1ms\tremaining: 685ms\n",
      "58:\tlearn: 232.4948011\ttotal: 42.7ms\tremaining: 681ms\n",
      "59:\tlearn: 230.6283304\ttotal: 43.4ms\tremaining: 680ms\n",
      "60:\tlearn: 228.9920307\ttotal: 44ms\tremaining: 677ms\n",
      "61:\tlearn: 227.5197637\ttotal: 44.7ms\tremaining: 676ms\n",
      "62:\tlearn: 226.0561213\ttotal: 45.4ms\tremaining: 675ms\n",
      "63:\tlearn: 224.3484762\ttotal: 46ms\tremaining: 673ms\n",
      "64:\tlearn: 223.0652023\ttotal: 46.6ms\tremaining: 670ms\n",
      "65:\tlearn: 221.6608069\ttotal: 47.1ms\tremaining: 667ms\n",
      "66:\tlearn: 220.2445284\ttotal: 47.7ms\tremaining: 665ms\n",
      "67:\tlearn: 219.0044262\ttotal: 48.3ms\tremaining: 662ms\n",
      "68:\tlearn: 217.4624313\ttotal: 48.9ms\tremaining: 660ms\n",
      "69:\tlearn: 216.0502248\ttotal: 49.4ms\tremaining: 657ms\n",
      "70:\tlearn: 214.5361705\ttotal: 50ms\tremaining: 654ms\n",
      "71:\tlearn: 213.1812509\ttotal: 50.7ms\tremaining: 653ms\n",
      "72:\tlearn: 211.7399390\ttotal: 51.4ms\tremaining: 653ms\n",
      "73:\tlearn: 210.5557639\ttotal: 52.3ms\tremaining: 655ms\n",
      "74:\tlearn: 209.4242283\ttotal: 53.1ms\tremaining: 655ms\n",
      "75:\tlearn: 208.4366109\ttotal: 54ms\tremaining: 656ms\n",
      "76:\tlearn: 207.4514860\ttotal: 54.6ms\tremaining: 655ms\n",
      "77:\tlearn: 206.1912213\ttotal: 55.3ms\tremaining: 654ms\n",
      "78:\tlearn: 205.2585316\ttotal: 56ms\tremaining: 653ms\n",
      "79:\tlearn: 203.8747879\ttotal: 56.7ms\tremaining: 652ms\n",
      "80:\tlearn: 202.5993031\ttotal: 57.4ms\tremaining: 652ms\n",
      "81:\tlearn: 201.4719061\ttotal: 58.1ms\tremaining: 650ms\n",
      "82:\tlearn: 200.2871874\ttotal: 58.7ms\tremaining: 649ms\n",
      "83:\tlearn: 199.1074683\ttotal: 59.3ms\tremaining: 647ms\n",
      "84:\tlearn: 197.8511342\ttotal: 59.9ms\tremaining: 645ms\n",
      "85:\tlearn: 196.8788042\ttotal: 60.6ms\tremaining: 644ms\n",
      "86:\tlearn: 195.9815130\ttotal: 61.2ms\tremaining: 642ms\n",
      "87:\tlearn: 195.0807956\ttotal: 62ms\tremaining: 642ms\n",
      "88:\tlearn: 193.9775466\ttotal: 62.7ms\tremaining: 642ms\n",
      "89:\tlearn: 192.8810426\ttotal: 63.4ms\tremaining: 641ms\n",
      "90:\tlearn: 192.5363626\ttotal: 64ms\tremaining: 639ms\n",
      "91:\tlearn: 191.3259849\ttotal: 64.7ms\tremaining: 638ms\n",
      "92:\tlearn: 190.3650025\ttotal: 65.3ms\tremaining: 636ms\n",
      "93:\tlearn: 189.3255643\ttotal: 65.9ms\tremaining: 636ms\n",
      "94:\tlearn: 188.2433480\ttotal: 66.6ms\tremaining: 635ms\n",
      "95:\tlearn: 187.2786096\ttotal: 67.3ms\tremaining: 634ms\n",
      "96:\tlearn: 186.1284681\ttotal: 68ms\tremaining: 633ms\n",
      "97:\tlearn: 185.0190872\ttotal: 68.7ms\tremaining: 632ms\n",
      "98:\tlearn: 184.2888024\ttotal: 69.3ms\tremaining: 631ms\n",
      "99:\tlearn: 183.3111217\ttotal: 70ms\tremaining: 630ms\n",
      "100:\tlearn: 182.2519940\ttotal: 70.5ms\tremaining: 628ms\n",
      "101:\tlearn: 181.0186200\ttotal: 71.1ms\tremaining: 626ms\n",
      "102:\tlearn: 179.9672344\ttotal: 71.6ms\tremaining: 624ms\n",
      "103:\tlearn: 178.9776753\ttotal: 72.2ms\tremaining: 622ms\n",
      "104:\tlearn: 178.2445101\ttotal: 72.9ms\tremaining: 621ms\n",
      "105:\tlearn: 177.4055906\ttotal: 73.6ms\tremaining: 621ms\n",
      "106:\tlearn: 176.2405445\ttotal: 74.2ms\tremaining: 619ms\n",
      "107:\tlearn: 175.1813091\ttotal: 74.8ms\tremaining: 618ms\n",
      "108:\tlearn: 174.5537682\ttotal: 75.3ms\tremaining: 616ms\n",
      "109:\tlearn: 173.8231890\ttotal: 75.9ms\tremaining: 614ms\n",
      "110:\tlearn: 172.9324461\ttotal: 76.4ms\tremaining: 612ms\n",
      "111:\tlearn: 172.0019421\ttotal: 77ms\tremaining: 611ms\n",
      "112:\tlearn: 171.2945678\ttotal: 77.6ms\tremaining: 609ms\n",
      "113:\tlearn: 170.4815313\ttotal: 78.2ms\tremaining: 607ms\n",
      "114:\tlearn: 169.9491294\ttotal: 78.9ms\tremaining: 607ms\n",
      "115:\tlearn: 169.2483859\ttotal: 79.6ms\tremaining: 607ms\n",
      "116:\tlearn: 168.7342383\ttotal: 80.3ms\tremaining: 606ms\n",
      "117:\tlearn: 168.1837140\ttotal: 81ms\tremaining: 605ms\n",
      "118:\tlearn: 167.1222358\ttotal: 81.6ms\tremaining: 604ms\n",
      "119:\tlearn: 166.3472734\ttotal: 82.4ms\tremaining: 604ms\n",
      "120:\tlearn: 165.5330342\ttotal: 83.1ms\tremaining: 604ms\n",
      "121:\tlearn: 164.8476246\ttotal: 83.7ms\tremaining: 602ms\n",
      "122:\tlearn: 164.2399797\ttotal: 84.4ms\tremaining: 602ms\n",
      "123:\tlearn: 164.0121571\ttotal: 85ms\tremaining: 601ms\n",
      "124:\tlearn: 162.9794212\ttotal: 85.7ms\tremaining: 600ms\n",
      "125:\tlearn: 162.2095741\ttotal: 86.3ms\tremaining: 599ms\n",
      "126:\tlearn: 161.1695920\ttotal: 86.9ms\tremaining: 597ms\n",
      "127:\tlearn: 160.3516612\ttotal: 87.5ms\tremaining: 596ms\n",
      "128:\tlearn: 159.1596356\ttotal: 88.1ms\tremaining: 595ms\n",
      "129:\tlearn: 158.5354394\ttotal: 88.7ms\tremaining: 593ms\n",
      "130:\tlearn: 157.5922383\ttotal: 89.3ms\tremaining: 592ms\n",
      "131:\tlearn: 156.9689796\ttotal: 89.9ms\tremaining: 591ms\n",
      "132:\tlearn: 156.4170623\ttotal: 90.5ms\tremaining: 590ms\n",
      "133:\tlearn: 156.1222595\ttotal: 91.1ms\tremaining: 589ms\n",
      "134:\tlearn: 155.5996569\ttotal: 91.6ms\tremaining: 587ms\n",
      "135:\tlearn: 154.8990155\ttotal: 92.2ms\tremaining: 586ms\n",
      "136:\tlearn: 154.3704896\ttotal: 92.9ms\tremaining: 585ms\n",
      "137:\tlearn: 153.8560012\ttotal: 93.6ms\tremaining: 585ms\n",
      "138:\tlearn: 153.2399938\ttotal: 94.3ms\tremaining: 584ms\n",
      "139:\tlearn: 152.2142414\ttotal: 95ms\tremaining: 584ms\n",
      "140:\tlearn: 151.5976950\ttotal: 95.7ms\tremaining: 583ms\n",
      "141:\tlearn: 151.4426506\ttotal: 96.4ms\tremaining: 583ms\n",
      "142:\tlearn: 150.8467135\ttotal: 97.1ms\tremaining: 582ms\n",
      "143:\tlearn: 150.0175883\ttotal: 97.7ms\tremaining: 581ms\n",
      "144:\tlearn: 149.6327647\ttotal: 98.4ms\tremaining: 580ms\n",
      "145:\tlearn: 148.9265718\ttotal: 99.1ms\tremaining: 580ms\n",
      "146:\tlearn: 148.4460764\ttotal: 99.7ms\tremaining: 579ms\n",
      "147:\tlearn: 147.8108318\ttotal: 100ms\tremaining: 578ms\n",
      "148:\tlearn: 147.2766525\ttotal: 101ms\tremaining: 577ms\n",
      "149:\tlearn: 146.8537279\ttotal: 102ms\tremaining: 576ms\n",
      "150:\tlearn: 146.0227438\ttotal: 102ms\tremaining: 574ms\n",
      "151:\tlearn: 145.5603059\ttotal: 103ms\tremaining: 573ms\n",
      "152:\tlearn: 145.0318400\ttotal: 103ms\tremaining: 572ms\n",
      "153:\tlearn: 144.6082188\ttotal: 104ms\tremaining: 570ms\n",
      "154:\tlearn: 144.2070501\ttotal: 104ms\tremaining: 569ms\n",
      "155:\tlearn: 143.8060676\ttotal: 105ms\tremaining: 568ms\n",
      "156:\tlearn: 143.3819707\ttotal: 106ms\tremaining: 567ms\n",
      "157:\tlearn: 143.0764402\ttotal: 106ms\tremaining: 565ms\n",
      "158:\tlearn: 142.4609449\ttotal: 107ms\tremaining: 564ms\n",
      "159:\tlearn: 142.3321970\ttotal: 107ms\tremaining: 564ms\n",
      "160:\tlearn: 141.9044208\ttotal: 108ms\tremaining: 563ms\n",
      "161:\tlearn: 141.4544471\ttotal: 109ms\tremaining: 562ms\n",
      "162:\tlearn: 140.9391569\ttotal: 109ms\tremaining: 561ms\n",
      "163:\tlearn: 140.3413557\ttotal: 110ms\tremaining: 560ms\n",
      "164:\tlearn: 139.7992277\ttotal: 110ms\tremaining: 558ms\n",
      "165:\tlearn: 139.3139418\ttotal: 111ms\tremaining: 557ms\n",
      "166:\tlearn: 139.1617594\ttotal: 111ms\tremaining: 556ms\n",
      "167:\tlearn: 138.8837397\ttotal: 112ms\tremaining: 555ms\n",
      "168:\tlearn: 138.6951410\ttotal: 112ms\tremaining: 553ms\n",
      "169:\tlearn: 138.0167618\ttotal: 113ms\tremaining: 552ms\n",
      "170:\tlearn: 137.7020324\ttotal: 114ms\tremaining: 552ms\n",
      "171:\tlearn: 137.1976478\ttotal: 114ms\tremaining: 551ms\n",
      "172:\tlearn: 136.6670434\ttotal: 115ms\tremaining: 550ms\n",
      "173:\tlearn: 136.4670074\ttotal: 116ms\tremaining: 548ms\n",
      "174:\tlearn: 136.0663779\ttotal: 116ms\tremaining: 547ms\n",
      "175:\tlearn: 135.9542221\ttotal: 117ms\tremaining: 546ms\n",
      "176:\tlearn: 135.6178437\ttotal: 117ms\tremaining: 545ms\n",
      "177:\tlearn: 134.6062854\ttotal: 118ms\tremaining: 544ms\n",
      "178:\tlearn: 134.5063344\ttotal: 118ms\tremaining: 542ms\n",
      "179:\tlearn: 133.9371247\ttotal: 119ms\tremaining: 542ms\n",
      "180:\tlearn: 133.8431589\ttotal: 119ms\tremaining: 539ms\n",
      "181:\tlearn: 133.4293648\ttotal: 120ms\tremaining: 538ms\n",
      "182:\tlearn: 133.2065999\ttotal: 120ms\tremaining: 536ms\n",
      "183:\tlearn: 132.9235113\ttotal: 121ms\tremaining: 535ms\n",
      "184:\tlearn: 132.6695944\ttotal: 121ms\tremaining: 535ms\n",
      "185:\tlearn: 132.3135234\ttotal: 122ms\tremaining: 535ms\n",
      "186:\tlearn: 132.2233433\ttotal: 123ms\tremaining: 533ms\n",
      "187:\tlearn: 132.0628764\ttotal: 123ms\tremaining: 532ms\n",
      "188:\tlearn: 131.8624217\ttotal: 124ms\tremaining: 531ms\n",
      "189:\tlearn: 131.3846390\ttotal: 124ms\tremaining: 530ms\n",
      "190:\tlearn: 131.0638781\ttotal: 125ms\tremaining: 529ms\n",
      "191:\tlearn: 130.4721276\ttotal: 126ms\tremaining: 529ms\n",
      "192:\tlearn: 129.9910319\ttotal: 126ms\tremaining: 527ms\n",
      "193:\tlearn: 129.7074214\ttotal: 127ms\tremaining: 526ms\n",
      "194:\tlearn: 129.0491404\ttotal: 127ms\tremaining: 525ms\n",
      "195:\tlearn: 128.6928621\ttotal: 128ms\tremaining: 524ms\n",
      "196:\tlearn: 128.5117514\ttotal: 128ms\tremaining: 524ms\n",
      "197:\tlearn: 128.4035709\ttotal: 129ms\tremaining: 523ms\n",
      "198:\tlearn: 127.9924182\ttotal: 130ms\tremaining: 522ms\n",
      "199:\tlearn: 127.7690317\ttotal: 130ms\tremaining: 520ms\n",
      "200:\tlearn: 127.6252249\ttotal: 131ms\tremaining: 519ms\n",
      "201:\tlearn: 127.4951417\ttotal: 131ms\tremaining: 519ms\n",
      "202:\tlearn: 127.0315349\ttotal: 132ms\tremaining: 518ms\n",
      "203:\tlearn: 126.7791475\ttotal: 132ms\tremaining: 517ms\n",
      "204:\tlearn: 126.4903107\ttotal: 133ms\tremaining: 516ms\n",
      "205:\tlearn: 126.0664803\ttotal: 134ms\tremaining: 515ms\n",
      "206:\tlearn: 125.3934071\ttotal: 134ms\tremaining: 514ms\n",
      "207:\tlearn: 125.0899622\ttotal: 135ms\tremaining: 514ms\n",
      "208:\tlearn: 124.7757310\ttotal: 136ms\tremaining: 513ms\n",
      "209:\tlearn: 124.5475960\ttotal: 136ms\tremaining: 513ms\n",
      "210:\tlearn: 124.1962887\ttotal: 137ms\tremaining: 512ms\n",
      "211:\tlearn: 123.9686937\ttotal: 138ms\tremaining: 511ms\n",
      "212:\tlearn: 123.0280048\ttotal: 138ms\tremaining: 511ms\n",
      "213:\tlearn: 122.5447141\ttotal: 139ms\tremaining: 510ms\n",
      "214:\tlearn: 122.1785305\ttotal: 139ms\tremaining: 509ms\n",
      "215:\tlearn: 121.4403560\ttotal: 140ms\tremaining: 509ms\n",
      "216:\tlearn: 120.8269584\ttotal: 141ms\tremaining: 508ms\n",
      "217:\tlearn: 120.2399329\ttotal: 142ms\tremaining: 508ms\n",
      "218:\tlearn: 119.4852557\ttotal: 142ms\tremaining: 507ms\n",
      "219:\tlearn: 119.2094151\ttotal: 143ms\tremaining: 506ms\n",
      "220:\tlearn: 119.0417229\ttotal: 143ms\tremaining: 505ms\n",
      "221:\tlearn: 118.9557915\ttotal: 144ms\tremaining: 504ms\n",
      "222:\tlearn: 118.3082421\ttotal: 145ms\tremaining: 504ms\n",
      "223:\tlearn: 117.7364211\ttotal: 145ms\tremaining: 503ms\n",
      "224:\tlearn: 117.6324235\ttotal: 146ms\tremaining: 502ms\n",
      "225:\tlearn: 117.2879743\ttotal: 146ms\tremaining: 501ms\n",
      "226:\tlearn: 117.0422612\ttotal: 147ms\tremaining: 499ms\n",
      "227:\tlearn: 116.8001379\ttotal: 147ms\tremaining: 498ms\n",
      "228:\tlearn: 116.4854978\ttotal: 148ms\tremaining: 497ms\n",
      "229:\tlearn: 115.7559740\ttotal: 148ms\tremaining: 496ms\n",
      "230:\tlearn: 115.1896271\ttotal: 149ms\tremaining: 496ms\n",
      "231:\tlearn: 114.9666291\ttotal: 149ms\tremaining: 495ms\n",
      "232:\tlearn: 114.1239318\ttotal: 150ms\tremaining: 494ms\n",
      "233:\tlearn: 113.9964466\ttotal: 151ms\tremaining: 493ms\n",
      "234:\tlearn: 113.8912592\ttotal: 151ms\tremaining: 493ms\n",
      "235:\tlearn: 113.4606970\ttotal: 152ms\tremaining: 493ms\n",
      "236:\tlearn: 113.0958922\ttotal: 153ms\tremaining: 493ms\n",
      "237:\tlearn: 113.0091361\ttotal: 154ms\tremaining: 492ms\n",
      "238:\tlearn: 112.7657197\ttotal: 154ms\tremaining: 491ms\n",
      "239:\tlearn: 112.2315070\ttotal: 155ms\tremaining: 491ms\n",
      "240:\tlearn: 111.9507125\ttotal: 155ms\tremaining: 490ms\n",
      "241:\tlearn: 111.7384492\ttotal: 156ms\tremaining: 489ms\n",
      "242:\tlearn: 111.0693763\ttotal: 157ms\tremaining: 488ms\n",
      "243:\tlearn: 110.3499926\ttotal: 157ms\tremaining: 487ms\n",
      "244:\tlearn: 110.2316231\ttotal: 158ms\tremaining: 486ms\n",
      "245:\tlearn: 109.6985998\ttotal: 158ms\tremaining: 485ms\n",
      "246:\tlearn: 109.4279824\ttotal: 159ms\tremaining: 484ms\n",
      "247:\tlearn: 109.1466762\ttotal: 159ms\tremaining: 483ms\n",
      "248:\tlearn: 108.9628542\ttotal: 160ms\tremaining: 482ms\n",
      "249:\tlearn: 108.7268676\ttotal: 161ms\tremaining: 482ms\n",
      "250:\tlearn: 108.0921190\ttotal: 161ms\tremaining: 481ms\n",
      "251:\tlearn: 107.6167844\ttotal: 162ms\tremaining: 480ms\n",
      "252:\tlearn: 106.9716563\ttotal: 162ms\tremaining: 479ms\n",
      "253:\tlearn: 106.4272485\ttotal: 163ms\tremaining: 478ms\n",
      "254:\tlearn: 106.2032614\ttotal: 164ms\tremaining: 478ms\n",
      "255:\tlearn: 105.5756794\ttotal: 164ms\tremaining: 478ms\n",
      "256:\tlearn: 105.4918649\ttotal: 165ms\tremaining: 477ms\n",
      "257:\tlearn: 105.2466976\ttotal: 166ms\tremaining: 476ms\n",
      "258:\tlearn: 105.0461428\ttotal: 166ms\tremaining: 476ms\n",
      "259:\tlearn: 104.5887628\ttotal: 167ms\tremaining: 475ms\n",
      "260:\tlearn: 104.1305873\ttotal: 168ms\tremaining: 475ms\n",
      "261:\tlearn: 103.5527158\ttotal: 168ms\tremaining: 474ms\n",
      "262:\tlearn: 103.0334823\ttotal: 169ms\tremaining: 474ms\n",
      "263:\tlearn: 102.6732388\ttotal: 170ms\tremaining: 473ms\n",
      "264:\tlearn: 102.4678728\ttotal: 170ms\tremaining: 472ms\n",
      "265:\tlearn: 101.9608852\ttotal: 171ms\tremaining: 472ms\n",
      "266:\tlearn: 101.4449668\ttotal: 172ms\tremaining: 472ms\n",
      "267:\tlearn: 100.9647899\ttotal: 173ms\tremaining: 472ms\n",
      "268:\tlearn: 100.4376357\ttotal: 173ms\tremaining: 471ms\n",
      "269:\tlearn: 100.1038322\ttotal: 174ms\tremaining: 470ms\n",
      "270:\tlearn: 99.8991183\ttotal: 175ms\tremaining: 470ms\n",
      "271:\tlearn: 99.4016031\ttotal: 175ms\tremaining: 469ms\n",
      "272:\tlearn: 98.9231252\ttotal: 176ms\tremaining: 468ms\n",
      "273:\tlearn: 98.5734863\ttotal: 176ms\tremaining: 467ms\n",
      "274:\tlearn: 98.3333355\ttotal: 177ms\tremaining: 467ms\n",
      "275:\tlearn: 97.9164082\ttotal: 178ms\tremaining: 467ms\n",
      "276:\tlearn: 97.3911203\ttotal: 179ms\tremaining: 466ms\n",
      "277:\tlearn: 96.9317789\ttotal: 179ms\tremaining: 465ms\n",
      "278:\tlearn: 96.6243997\ttotal: 180ms\tremaining: 465ms\n",
      "279:\tlearn: 96.3288821\ttotal: 180ms\tremaining: 464ms\n",
      "280:\tlearn: 95.8579534\ttotal: 181ms\tremaining: 463ms\n",
      "281:\tlearn: 95.4136026\ttotal: 182ms\tremaining: 462ms\n",
      "282:\tlearn: 95.3442077\ttotal: 182ms\tremaining: 462ms\n",
      "283:\tlearn: 95.1166584\ttotal: 183ms\tremaining: 461ms\n",
      "284:\tlearn: 94.8017360\ttotal: 183ms\tremaining: 460ms\n",
      "285:\tlearn: 94.5863908\ttotal: 184ms\tremaining: 459ms\n",
      "286:\tlearn: 94.4111694\ttotal: 185ms\tremaining: 459ms\n",
      "287:\tlearn: 94.2678024\ttotal: 185ms\tremaining: 458ms\n",
      "288:\tlearn: 93.7753419\ttotal: 186ms\tremaining: 457ms\n",
      "289:\tlearn: 93.3772710\ttotal: 186ms\tremaining: 456ms\n",
      "290:\tlearn: 92.8750904\ttotal: 187ms\tremaining: 455ms\n",
      "291:\tlearn: 92.6654794\ttotal: 187ms\tremaining: 454ms\n",
      "292:\tlearn: 92.2659876\ttotal: 188ms\tremaining: 453ms\n",
      "293:\tlearn: 92.0282495\ttotal: 189ms\tremaining: 453ms\n",
      "294:\tlearn: 91.8288855\ttotal: 189ms\tremaining: 452ms\n",
      "295:\tlearn: 91.6752612\ttotal: 190ms\tremaining: 451ms\n",
      "296:\tlearn: 91.2561883\ttotal: 190ms\tremaining: 450ms\n",
      "297:\tlearn: 91.0227123\ttotal: 191ms\tremaining: 450ms\n",
      "298:\tlearn: 90.8392142\ttotal: 191ms\tremaining: 449ms\n",
      "299:\tlearn: 90.6853014\ttotal: 193ms\tremaining: 450ms\n",
      "300:\tlearn: 90.5986761\ttotal: 194ms\tremaining: 451ms\n",
      "301:\tlearn: 90.2180036\ttotal: 195ms\tremaining: 451ms\n",
      "302:\tlearn: 89.8313622\ttotal: 196ms\tremaining: 451ms\n",
      "303:\tlearn: 89.6872837\ttotal: 197ms\tremaining: 451ms\n",
      "304:\tlearn: 89.3853276\ttotal: 198ms\tremaining: 451ms\n",
      "305:\tlearn: 88.9459206\ttotal: 199ms\tremaining: 451ms\n",
      "306:\tlearn: 88.7258770\ttotal: 200ms\tremaining: 451ms\n",
      "307:\tlearn: 88.5374358\ttotal: 200ms\tremaining: 450ms\n",
      "308:\tlearn: 88.0624447\ttotal: 201ms\tremaining: 450ms\n",
      "309:\tlearn: 87.7942692\ttotal: 202ms\tremaining: 449ms\n",
      "310:\tlearn: 87.6354184\ttotal: 203ms\tremaining: 449ms\n",
      "311:\tlearn: 87.4879486\ttotal: 203ms\tremaining: 448ms\n",
      "312:\tlearn: 87.0294739\ttotal: 204ms\tremaining: 448ms\n",
      "313:\tlearn: 86.6746221\ttotal: 205ms\tremaining: 447ms\n",
      "314:\tlearn: 86.2792146\ttotal: 205ms\tremaining: 446ms\n",
      "315:\tlearn: 86.2127070\ttotal: 206ms\tremaining: 446ms\n",
      "316:\tlearn: 86.1507368\ttotal: 207ms\tremaining: 445ms\n",
      "317:\tlearn: 85.7089141\ttotal: 207ms\tremaining: 445ms\n",
      "318:\tlearn: 85.6035137\ttotal: 208ms\tremaining: 444ms\n",
      "319:\tlearn: 85.3587988\ttotal: 209ms\tremaining: 444ms\n",
      "320:\tlearn: 84.9660906\ttotal: 210ms\tremaining: 443ms\n",
      "321:\tlearn: 84.5474713\ttotal: 210ms\tremaining: 442ms\n",
      "322:\tlearn: 84.1996852\ttotal: 211ms\tremaining: 442ms\n",
      "323:\tlearn: 84.0654282\ttotal: 211ms\tremaining: 441ms\n",
      "324:\tlearn: 83.7937327\ttotal: 212ms\tremaining: 441ms\n",
      "325:\tlearn: 83.5064288\ttotal: 213ms\tremaining: 440ms\n",
      "326:\tlearn: 83.3997655\ttotal: 213ms\tremaining: 439ms\n",
      "327:\tlearn: 83.2958622\ttotal: 214ms\tremaining: 439ms\n",
      "328:\tlearn: 82.9877578\ttotal: 215ms\tremaining: 439ms\n",
      "329:\tlearn: 82.6286638\ttotal: 216ms\tremaining: 438ms\n",
      "330:\tlearn: 82.2827132\ttotal: 216ms\tremaining: 437ms\n",
      "331:\tlearn: 82.0895251\ttotal: 217ms\tremaining: 437ms\n",
      "332:\tlearn: 82.0130649\ttotal: 218ms\tremaining: 436ms\n",
      "333:\tlearn: 81.6771734\ttotal: 218ms\tremaining: 435ms\n",
      "334:\tlearn: 81.3519124\ttotal: 219ms\tremaining: 434ms\n",
      "335:\tlearn: 81.0170326\ttotal: 219ms\tremaining: 434ms\n",
      "336:\tlearn: 80.6917886\ttotal: 220ms\tremaining: 433ms\n",
      "337:\tlearn: 80.3455177\ttotal: 221ms\tremaining: 432ms\n",
      "338:\tlearn: 80.0260727\ttotal: 221ms\tremaining: 431ms\n",
      "339:\tlearn: 79.9154748\ttotal: 222ms\tremaining: 430ms\n",
      "340:\tlearn: 79.7813079\ttotal: 222ms\tremaining: 429ms\n",
      "341:\tlearn: 79.3513293\ttotal: 223ms\tremaining: 429ms\n",
      "342:\tlearn: 78.8666019\ttotal: 223ms\tremaining: 428ms\n",
      "343:\tlearn: 78.7959013\ttotal: 224ms\tremaining: 427ms\n",
      "344:\tlearn: 78.7081334\ttotal: 224ms\tremaining: 426ms\n",
      "345:\tlearn: 78.3354931\ttotal: 225ms\tremaining: 425ms\n",
      "346:\tlearn: 77.9475067\ttotal: 226ms\tremaining: 425ms\n",
      "347:\tlearn: 77.8910420\ttotal: 226ms\tremaining: 424ms\n",
      "348:\tlearn: 77.5461672\ttotal: 227ms\tremaining: 423ms\n",
      "349:\tlearn: 77.3717101\ttotal: 227ms\tremaining: 422ms\n",
      "350:\tlearn: 77.0729657\ttotal: 228ms\tremaining: 422ms\n",
      "351:\tlearn: 76.7699287\ttotal: 229ms\tremaining: 421ms\n",
      "352:\tlearn: 76.6029759\ttotal: 229ms\tremaining: 420ms\n",
      "353:\tlearn: 76.1642615\ttotal: 230ms\tremaining: 419ms\n",
      "354:\tlearn: 76.1202523\ttotal: 230ms\tremaining: 418ms\n",
      "355:\tlearn: 75.9487132\ttotal: 231ms\tremaining: 418ms\n",
      "356:\tlearn: 75.6748479\ttotal: 231ms\tremaining: 417ms\n",
      "357:\tlearn: 75.4290864\ttotal: 232ms\tremaining: 416ms\n",
      "358:\tlearn: 75.0463849\ttotal: 233ms\tremaining: 415ms\n",
      "359:\tlearn: 74.9902381\ttotal: 233ms\tremaining: 414ms\n",
      "360:\tlearn: 74.5243875\ttotal: 234ms\tremaining: 414ms\n",
      "361:\tlearn: 74.1913065\ttotal: 234ms\tremaining: 413ms\n",
      "362:\tlearn: 73.8413359\ttotal: 235ms\tremaining: 412ms\n",
      "363:\tlearn: 73.7602119\ttotal: 235ms\tremaining: 411ms\n",
      "364:\tlearn: 73.3278135\ttotal: 236ms\tremaining: 411ms\n",
      "365:\tlearn: 72.9524336\ttotal: 237ms\tremaining: 410ms\n",
      "366:\tlearn: 72.6791856\ttotal: 237ms\tremaining: 410ms\n",
      "367:\tlearn: 72.4333577\ttotal: 238ms\tremaining: 409ms\n",
      "368:\tlearn: 72.1672937\ttotal: 239ms\tremaining: 408ms\n",
      "369:\tlearn: 71.9070276\ttotal: 239ms\tremaining: 408ms\n",
      "370:\tlearn: 71.5496196\ttotal: 240ms\tremaining: 407ms\n",
      "371:\tlearn: 71.3161902\ttotal: 241ms\tremaining: 407ms\n",
      "372:\tlearn: 71.1259191\ttotal: 242ms\tremaining: 406ms\n",
      "373:\tlearn: 70.9889962\ttotal: 242ms\tremaining: 406ms\n",
      "374:\tlearn: 70.7417966\ttotal: 243ms\tremaining: 405ms\n",
      "375:\tlearn: 70.4931174\ttotal: 243ms\tremaining: 404ms\n",
      "376:\tlearn: 70.3300576\ttotal: 244ms\tremaining: 403ms\n",
      "377:\tlearn: 69.9233248\ttotal: 245ms\tremaining: 402ms\n",
      "378:\tlearn: 69.6261005\ttotal: 245ms\tremaining: 402ms\n",
      "379:\tlearn: 69.3989708\ttotal: 246ms\tremaining: 401ms\n",
      "380:\tlearn: 69.0085387\ttotal: 246ms\tremaining: 400ms\n",
      "381:\tlearn: 68.7604153\ttotal: 247ms\tremaining: 399ms\n",
      "382:\tlearn: 68.4602767\ttotal: 247ms\tremaining: 398ms\n",
      "383:\tlearn: 68.1005452\ttotal: 248ms\tremaining: 398ms\n",
      "384:\tlearn: 68.0540467\ttotal: 248ms\tremaining: 397ms\n",
      "385:\tlearn: 67.8972753\ttotal: 249ms\tremaining: 396ms\n",
      "386:\tlearn: 67.5389629\ttotal: 250ms\tremaining: 395ms\n",
      "387:\tlearn: 67.2390178\ttotal: 250ms\tremaining: 395ms\n",
      "388:\tlearn: 67.0279888\ttotal: 251ms\tremaining: 394ms\n",
      "389:\tlearn: 66.8375919\ttotal: 252ms\tremaining: 394ms\n",
      "390:\tlearn: 66.4118315\ttotal: 252ms\tremaining: 393ms\n",
      "391:\tlearn: 66.3642690\ttotal: 253ms\tremaining: 392ms\n",
      "392:\tlearn: 66.1673138\ttotal: 254ms\tremaining: 392ms\n",
      "393:\tlearn: 66.0177482\ttotal: 254ms\tremaining: 391ms\n",
      "394:\tlearn: 65.8018038\ttotal: 255ms\tremaining: 390ms\n",
      "395:\tlearn: 65.6886505\ttotal: 255ms\tremaining: 389ms\n",
      "396:\tlearn: 65.6120185\ttotal: 256ms\tremaining: 388ms\n",
      "397:\tlearn: 65.5746662\ttotal: 256ms\tremaining: 388ms\n",
      "398:\tlearn: 65.2974851\ttotal: 257ms\tremaining: 387ms\n",
      "399:\tlearn: 65.2464764\ttotal: 257ms\tremaining: 386ms\n",
      "400:\tlearn: 65.1241314\ttotal: 258ms\tremaining: 385ms\n",
      "401:\tlearn: 65.0515740\ttotal: 259ms\tremaining: 385ms\n",
      "402:\tlearn: 64.8089636\ttotal: 259ms\tremaining: 384ms\n",
      "403:\tlearn: 64.5992230\ttotal: 260ms\tremaining: 383ms\n",
      "404:\tlearn: 64.2907010\ttotal: 260ms\tremaining: 382ms\n",
      "405:\tlearn: 64.1568642\ttotal: 261ms\tremaining: 381ms\n",
      "406:\tlearn: 63.8279106\ttotal: 261ms\tremaining: 381ms\n",
      "407:\tlearn: 63.5558565\ttotal: 262ms\tremaining: 380ms\n",
      "408:\tlearn: 63.3865445\ttotal: 262ms\tremaining: 379ms\n",
      "409:\tlearn: 63.2752408\ttotal: 263ms\tremaining: 378ms\n",
      "410:\tlearn: 63.1070190\ttotal: 264ms\tremaining: 378ms\n",
      "411:\tlearn: 62.7868376\ttotal: 264ms\tremaining: 377ms\n",
      "412:\tlearn: 62.5345803\ttotal: 265ms\tremaining: 376ms\n",
      "413:\tlearn: 62.2729058\ttotal: 265ms\tremaining: 376ms\n",
      "414:\tlearn: 61.9850985\ttotal: 266ms\tremaining: 375ms\n",
      "415:\tlearn: 61.7784164\ttotal: 267ms\tremaining: 374ms\n",
      "416:\tlearn: 61.7431976\ttotal: 267ms\tremaining: 374ms\n",
      "417:\tlearn: 61.4309964\ttotal: 268ms\tremaining: 373ms\n",
      "418:\tlearn: 61.3513660\ttotal: 269ms\tremaining: 372ms\n",
      "419:\tlearn: 61.1253739\ttotal: 269ms\tremaining: 372ms\n",
      "420:\tlearn: 61.0742571\ttotal: 270ms\tremaining: 371ms\n",
      "421:\tlearn: 61.0390980\ttotal: 271ms\tremaining: 371ms\n",
      "422:\tlearn: 61.0095757\ttotal: 271ms\tremaining: 370ms\n",
      "423:\tlearn: 60.6843255\ttotal: 272ms\tremaining: 369ms\n",
      "424:\tlearn: 60.4045551\ttotal: 272ms\tremaining: 369ms\n",
      "425:\tlearn: 60.3649587\ttotal: 273ms\tremaining: 368ms\n",
      "426:\tlearn: 60.3315828\ttotal: 274ms\tremaining: 367ms\n",
      "427:\tlearn: 60.1047027\ttotal: 274ms\tremaining: 366ms\n",
      "428:\tlearn: 59.9170736\ttotal: 275ms\tremaining: 366ms\n",
      "429:\tlearn: 59.6875648\ttotal: 276ms\tremaining: 365ms\n",
      "430:\tlearn: 59.6662150\ttotal: 276ms\tremaining: 364ms\n",
      "431:\tlearn: 59.4208112\ttotal: 277ms\tremaining: 364ms\n",
      "432:\tlearn: 59.2358034\ttotal: 277ms\tremaining: 363ms\n",
      "433:\tlearn: 58.9818868\ttotal: 278ms\tremaining: 362ms\n",
      "434:\tlearn: 58.7089433\ttotal: 278ms\tremaining: 361ms\n",
      "435:\tlearn: 58.5898817\ttotal: 279ms\tremaining: 361ms\n",
      "436:\tlearn: 58.5425342\ttotal: 280ms\tremaining: 360ms\n",
      "437:\tlearn: 58.2884605\ttotal: 281ms\tremaining: 360ms\n",
      "438:\tlearn: 58.2643873\ttotal: 281ms\tremaining: 360ms\n",
      "439:\tlearn: 58.2330868\ttotal: 282ms\tremaining: 359ms\n",
      "440:\tlearn: 57.9676592\ttotal: 283ms\tremaining: 358ms\n",
      "441:\tlearn: 57.7670212\ttotal: 283ms\tremaining: 358ms\n",
      "442:\tlearn: 57.5322464\ttotal: 284ms\tremaining: 357ms\n",
      "443:\tlearn: 57.2771620\ttotal: 285ms\tremaining: 357ms\n",
      "444:\tlearn: 57.0227885\ttotal: 285ms\tremaining: 356ms\n",
      "445:\tlearn: 56.7616770\ttotal: 286ms\tremaining: 355ms\n",
      "446:\tlearn: 56.7367450\ttotal: 287ms\tremaining: 355ms\n",
      "447:\tlearn: 56.6715001\ttotal: 287ms\tremaining: 354ms\n",
      "448:\tlearn: 56.4881346\ttotal: 288ms\tremaining: 353ms\n",
      "449:\tlearn: 56.3749776\ttotal: 288ms\tremaining: 352ms\n",
      "450:\tlearn: 56.2172319\ttotal: 289ms\tremaining: 352ms\n",
      "451:\tlearn: 55.9461925\ttotal: 290ms\tremaining: 351ms\n",
      "452:\tlearn: 55.8884270\ttotal: 290ms\tremaining: 350ms\n",
      "453:\tlearn: 55.7987432\ttotal: 291ms\tremaining: 350ms\n",
      "454:\tlearn: 55.7376337\ttotal: 291ms\tremaining: 349ms\n",
      "455:\tlearn: 55.5150595\ttotal: 292ms\tremaining: 348ms\n",
      "456:\tlearn: 55.4819680\ttotal: 292ms\tremaining: 347ms\n",
      "457:\tlearn: 55.1719919\ttotal: 293ms\tremaining: 347ms\n",
      "458:\tlearn: 55.1295759\ttotal: 294ms\tremaining: 346ms\n",
      "459:\tlearn: 55.0856302\ttotal: 294ms\tremaining: 345ms\n",
      "460:\tlearn: 54.8056235\ttotal: 295ms\tremaining: 345ms\n",
      "461:\tlearn: 54.4030407\ttotal: 295ms\tremaining: 344ms\n",
      "462:\tlearn: 54.3308204\ttotal: 296ms\tremaining: 343ms\n",
      "463:\tlearn: 54.0283724\ttotal: 297ms\tremaining: 343ms\n",
      "464:\tlearn: 53.9962714\ttotal: 297ms\tremaining: 342ms\n",
      "465:\tlearn: 53.8149476\ttotal: 298ms\tremaining: 341ms\n",
      "466:\tlearn: 53.7806209\ttotal: 298ms\tremaining: 341ms\n",
      "467:\tlearn: 53.7585727\ttotal: 299ms\tremaining: 340ms\n",
      "468:\tlearn: 53.5042777\ttotal: 300ms\tremaining: 339ms\n",
      "469:\tlearn: 53.3257034\ttotal: 300ms\tremaining: 338ms\n",
      "470:\tlearn: 53.0801119\ttotal: 301ms\tremaining: 338ms\n",
      "471:\tlearn: 53.0136550\ttotal: 301ms\tremaining: 337ms\n",
      "472:\tlearn: 52.9408930\ttotal: 302ms\tremaining: 336ms\n",
      "473:\tlearn: 52.7089062\ttotal: 302ms\tremaining: 336ms\n",
      "474:\tlearn: 52.6819781\ttotal: 303ms\tremaining: 335ms\n",
      "475:\tlearn: 52.5065568\ttotal: 304ms\tremaining: 334ms\n",
      "476:\tlearn: 52.3688770\ttotal: 304ms\tremaining: 334ms\n",
      "477:\tlearn: 52.2402473\ttotal: 305ms\tremaining: 333ms\n",
      "478:\tlearn: 52.1406517\ttotal: 305ms\tremaining: 332ms\n",
      "479:\tlearn: 52.1107144\ttotal: 306ms\tremaining: 331ms\n",
      "480:\tlearn: 51.9239449\ttotal: 306ms\tremaining: 330ms\n",
      "481:\tlearn: 51.7096820\ttotal: 307ms\tremaining: 330ms\n",
      "482:\tlearn: 51.6266918\ttotal: 308ms\tremaining: 329ms\n",
      "483:\tlearn: 51.5969797\ttotal: 308ms\tremaining: 329ms\n",
      "484:\tlearn: 51.4480162\ttotal: 309ms\tremaining: 328ms\n",
      "485:\tlearn: 51.2269261\ttotal: 310ms\tremaining: 328ms\n",
      "486:\tlearn: 50.9904632\ttotal: 310ms\tremaining: 327ms\n",
      "487:\tlearn: 50.9342043\ttotal: 311ms\tremaining: 326ms\n",
      "488:\tlearn: 50.8423680\ttotal: 312ms\tremaining: 326ms\n",
      "489:\tlearn: 50.7269788\ttotal: 312ms\tremaining: 325ms\n",
      "490:\tlearn: 50.5384699\ttotal: 313ms\tremaining: 324ms\n",
      "491:\tlearn: 50.5047793\ttotal: 313ms\tremaining: 324ms\n",
      "492:\tlearn: 50.3234448\ttotal: 314ms\tremaining: 323ms\n",
      "493:\tlearn: 50.1653421\ttotal: 315ms\tremaining: 322ms\n",
      "494:\tlearn: 49.9835558\ttotal: 315ms\tremaining: 321ms\n",
      "495:\tlearn: 49.8884283\ttotal: 316ms\tremaining: 321ms\n",
      "496:\tlearn: 49.6217364\ttotal: 316ms\tremaining: 320ms\n",
      "497:\tlearn: 49.5268562\ttotal: 317ms\tremaining: 319ms\n",
      "498:\tlearn: 49.3078402\ttotal: 317ms\tremaining: 319ms\n",
      "499:\tlearn: 49.2571676\ttotal: 318ms\tremaining: 318ms\n",
      "500:\tlearn: 49.2173141\ttotal: 319ms\tremaining: 317ms\n",
      "501:\tlearn: 48.9813103\ttotal: 319ms\tremaining: 317ms\n",
      "502:\tlearn: 48.8304542\ttotal: 320ms\tremaining: 316ms\n",
      "503:\tlearn: 48.7430936\ttotal: 320ms\tremaining: 315ms\n",
      "504:\tlearn: 48.5493989\ttotal: 321ms\tremaining: 315ms\n",
      "505:\tlearn: 48.5134839\ttotal: 322ms\tremaining: 314ms\n",
      "506:\tlearn: 48.3516141\ttotal: 322ms\tremaining: 313ms\n",
      "507:\tlearn: 48.0631542\ttotal: 323ms\tremaining: 313ms\n",
      "508:\tlearn: 47.8591880\ttotal: 324ms\tremaining: 312ms\n",
      "509:\tlearn: 47.7182444\ttotal: 324ms\tremaining: 312ms\n",
      "510:\tlearn: 47.6301870\ttotal: 325ms\tremaining: 311ms\n",
      "511:\tlearn: 47.4767324\ttotal: 326ms\tremaining: 311ms\n",
      "512:\tlearn: 47.2822625\ttotal: 327ms\tremaining: 310ms\n",
      "513:\tlearn: 47.1022658\ttotal: 327ms\tremaining: 310ms\n",
      "514:\tlearn: 47.0536181\ttotal: 328ms\tremaining: 309ms\n",
      "515:\tlearn: 47.0249559\ttotal: 329ms\tremaining: 309ms\n",
      "516:\tlearn: 46.8789720\ttotal: 330ms\tremaining: 308ms\n",
      "517:\tlearn: 46.7133769\ttotal: 330ms\tremaining: 307ms\n",
      "518:\tlearn: 46.5157986\ttotal: 331ms\tremaining: 307ms\n",
      "519:\tlearn: 46.3630405\ttotal: 332ms\tremaining: 306ms\n",
      "520:\tlearn: 46.1730188\ttotal: 332ms\tremaining: 306ms\n",
      "521:\tlearn: 46.1360908\ttotal: 333ms\tremaining: 305ms\n",
      "522:\tlearn: 45.9652487\ttotal: 334ms\tremaining: 304ms\n",
      "523:\tlearn: 45.8122703\ttotal: 334ms\tremaining: 304ms\n",
      "524:\tlearn: 45.4984451\ttotal: 335ms\tremaining: 303ms\n",
      "525:\tlearn: 45.3161076\ttotal: 336ms\tremaining: 302ms\n",
      "526:\tlearn: 45.2802854\ttotal: 337ms\tremaining: 302ms\n",
      "527:\tlearn: 45.2448275\ttotal: 337ms\tremaining: 302ms\n",
      "528:\tlearn: 45.0816321\ttotal: 338ms\tremaining: 301ms\n",
      "529:\tlearn: 44.9794319\ttotal: 339ms\tremaining: 300ms\n",
      "530:\tlearn: 44.6832140\ttotal: 340ms\tremaining: 300ms\n",
      "531:\tlearn: 44.4460046\ttotal: 340ms\tremaining: 299ms\n",
      "532:\tlearn: 44.2118287\ttotal: 341ms\tremaining: 299ms\n",
      "533:\tlearn: 44.0693524\ttotal: 342ms\tremaining: 298ms\n",
      "534:\tlearn: 43.7781614\ttotal: 342ms\tremaining: 298ms\n",
      "535:\tlearn: 43.5541731\ttotal: 343ms\tremaining: 297ms\n",
      "536:\tlearn: 43.5134866\ttotal: 344ms\tremaining: 296ms\n",
      "537:\tlearn: 43.3609810\ttotal: 345ms\tremaining: 296ms\n",
      "538:\tlearn: 43.1828364\ttotal: 345ms\tremaining: 295ms\n",
      "539:\tlearn: 43.1681810\ttotal: 346ms\tremaining: 294ms\n",
      "540:\tlearn: 43.0597548\ttotal: 346ms\tremaining: 294ms\n",
      "541:\tlearn: 43.0399237\ttotal: 347ms\tremaining: 293ms\n",
      "542:\tlearn: 42.7955247\ttotal: 348ms\tremaining: 293ms\n",
      "543:\tlearn: 42.5339065\ttotal: 348ms\tremaining: 292ms\n",
      "544:\tlearn: 42.4295635\ttotal: 349ms\tremaining: 291ms\n",
      "545:\tlearn: 42.2338376\ttotal: 350ms\tremaining: 291ms\n",
      "546:\tlearn: 42.0124060\ttotal: 350ms\tremaining: 290ms\n",
      "547:\tlearn: 41.8255183\ttotal: 351ms\tremaining: 290ms\n",
      "548:\tlearn: 41.6388681\ttotal: 352ms\tremaining: 289ms\n",
      "549:\tlearn: 41.4001270\ttotal: 353ms\tremaining: 289ms\n",
      "550:\tlearn: 41.1013528\ttotal: 354ms\tremaining: 288ms\n",
      "551:\tlearn: 41.0100295\ttotal: 354ms\tremaining: 288ms\n",
      "552:\tlearn: 40.9906076\ttotal: 355ms\tremaining: 287ms\n",
      "553:\tlearn: 40.8809109\ttotal: 356ms\tremaining: 286ms\n",
      "554:\tlearn: 40.7831302\ttotal: 357ms\tremaining: 286ms\n",
      "555:\tlearn: 40.7317763\ttotal: 357ms\tremaining: 285ms\n",
      "556:\tlearn: 40.6321710\ttotal: 358ms\tremaining: 285ms\n",
      "557:\tlearn: 40.4475073\ttotal: 359ms\tremaining: 284ms\n",
      "558:\tlearn: 40.2859957\ttotal: 359ms\tremaining: 284ms\n",
      "559:\tlearn: 40.0262057\ttotal: 360ms\tremaining: 283ms\n",
      "560:\tlearn: 39.9326350\ttotal: 361ms\tremaining: 282ms\n",
      "561:\tlearn: 39.8735956\ttotal: 361ms\tremaining: 282ms\n",
      "562:\tlearn: 39.7083019\ttotal: 362ms\tremaining: 281ms\n",
      "563:\tlearn: 39.5379855\ttotal: 363ms\tremaining: 280ms\n",
      "564:\tlearn: 39.3451301\ttotal: 363ms\tremaining: 280ms\n",
      "565:\tlearn: 39.2041273\ttotal: 364ms\tremaining: 279ms\n",
      "566:\tlearn: 38.9870162\ttotal: 365ms\tremaining: 279ms\n",
      "567:\tlearn: 38.8638040\ttotal: 366ms\tremaining: 278ms\n",
      "568:\tlearn: 38.7752116\ttotal: 366ms\tremaining: 277ms\n",
      "569:\tlearn: 38.6530297\ttotal: 367ms\tremaining: 277ms\n",
      "570:\tlearn: 38.5505372\ttotal: 368ms\tremaining: 277ms\n",
      "571:\tlearn: 38.5134486\ttotal: 369ms\tremaining: 276ms\n",
      "572:\tlearn: 38.3680902\ttotal: 370ms\tremaining: 275ms\n",
      "573:\tlearn: 38.1897295\ttotal: 370ms\tremaining: 275ms\n",
      "574:\tlearn: 38.1083536\ttotal: 371ms\tremaining: 274ms\n",
      "575:\tlearn: 37.9229216\ttotal: 372ms\tremaining: 274ms\n",
      "576:\tlearn: 37.8377087\ttotal: 373ms\tremaining: 273ms\n",
      "577:\tlearn: 37.7966900\ttotal: 374ms\tremaining: 273ms\n",
      "578:\tlearn: 37.6700761\ttotal: 374ms\tremaining: 272ms\n",
      "579:\tlearn: 37.6355177\ttotal: 375ms\tremaining: 271ms\n",
      "580:\tlearn: 37.4648199\ttotal: 375ms\tremaining: 271ms\n",
      "581:\tlearn: 37.2959505\ttotal: 376ms\tremaining: 270ms\n",
      "582:\tlearn: 37.1423961\ttotal: 377ms\tremaining: 269ms\n",
      "583:\tlearn: 36.9297315\ttotal: 377ms\tremaining: 269ms\n",
      "584:\tlearn: 36.8850382\ttotal: 378ms\tremaining: 268ms\n",
      "585:\tlearn: 36.7546519\ttotal: 379ms\tremaining: 268ms\n",
      "586:\tlearn: 36.7377554\ttotal: 380ms\tremaining: 268ms\n",
      "587:\tlearn: 36.6899102\ttotal: 381ms\tremaining: 267ms\n",
      "588:\tlearn: 36.5617094\ttotal: 382ms\tremaining: 266ms\n",
      "589:\tlearn: 36.4272921\ttotal: 383ms\tremaining: 266ms\n",
      "590:\tlearn: 36.2657889\ttotal: 383ms\tremaining: 265ms\n",
      "591:\tlearn: 36.2539345\ttotal: 384ms\tremaining: 265ms\n",
      "592:\tlearn: 36.2314399\ttotal: 385ms\tremaining: 264ms\n",
      "593:\tlearn: 36.0683824\ttotal: 385ms\tremaining: 263ms\n",
      "594:\tlearn: 35.9283095\ttotal: 386ms\tremaining: 263ms\n",
      "595:\tlearn: 35.7968288\ttotal: 387ms\tremaining: 262ms\n",
      "596:\tlearn: 35.7223423\ttotal: 387ms\tremaining: 262ms\n",
      "597:\tlearn: 35.5848854\ttotal: 388ms\tremaining: 261ms\n",
      "598:\tlearn: 35.4754344\ttotal: 389ms\tremaining: 260ms\n",
      "599:\tlearn: 35.3533890\ttotal: 390ms\tremaining: 260ms\n",
      "600:\tlearn: 35.2201505\ttotal: 390ms\tremaining: 259ms\n",
      "601:\tlearn: 35.0873272\ttotal: 391ms\tremaining: 259ms\n",
      "602:\tlearn: 35.0461873\ttotal: 392ms\tremaining: 258ms\n",
      "603:\tlearn: 34.9273071\ttotal: 393ms\tremaining: 257ms\n",
      "604:\tlearn: 34.8162855\ttotal: 394ms\tremaining: 257ms\n",
      "605:\tlearn: 34.7130059\ttotal: 394ms\tremaining: 256ms\n",
      "606:\tlearn: 34.5585617\ttotal: 395ms\tremaining: 256ms\n",
      "607:\tlearn: 34.4611907\ttotal: 396ms\tremaining: 255ms\n",
      "608:\tlearn: 34.4326546\ttotal: 397ms\tremaining: 255ms\n",
      "609:\tlearn: 34.2846979\ttotal: 397ms\tremaining: 254ms\n",
      "610:\tlearn: 34.1734501\ttotal: 398ms\tremaining: 253ms\n",
      "611:\tlearn: 34.0230965\ttotal: 399ms\tremaining: 253ms\n",
      "612:\tlearn: 33.8282501\ttotal: 400ms\tremaining: 252ms\n",
      "613:\tlearn: 33.7746747\ttotal: 400ms\tremaining: 252ms\n",
      "614:\tlearn: 33.7068386\ttotal: 401ms\tremaining: 251ms\n",
      "615:\tlearn: 33.5780800\ttotal: 402ms\tremaining: 251ms\n",
      "616:\tlearn: 33.4695325\ttotal: 403ms\tremaining: 250ms\n",
      "617:\tlearn: 33.3463443\ttotal: 404ms\tremaining: 250ms\n",
      "618:\tlearn: 33.2877395\ttotal: 405ms\tremaining: 249ms\n",
      "619:\tlearn: 33.2418826\ttotal: 405ms\tremaining: 249ms\n",
      "620:\tlearn: 33.1045465\ttotal: 406ms\tremaining: 248ms\n",
      "621:\tlearn: 32.9400639\ttotal: 407ms\tremaining: 247ms\n",
      "622:\tlearn: 32.8996970\ttotal: 408ms\tremaining: 247ms\n",
      "623:\tlearn: 32.7429487\ttotal: 409ms\tremaining: 246ms\n",
      "624:\tlearn: 32.6132355\ttotal: 409ms\tremaining: 246ms\n",
      "625:\tlearn: 32.4714976\ttotal: 410ms\tremaining: 245ms\n",
      "626:\tlearn: 32.4320448\ttotal: 411ms\tremaining: 244ms\n",
      "627:\tlearn: 32.2628258\ttotal: 411ms\tremaining: 244ms\n",
      "628:\tlearn: 32.2038569\ttotal: 412ms\tremaining: 243ms\n",
      "629:\tlearn: 32.0940738\ttotal: 413ms\tremaining: 242ms\n",
      "630:\tlearn: 32.0068495\ttotal: 413ms\tremaining: 242ms\n",
      "631:\tlearn: 31.9053748\ttotal: 414ms\tremaining: 241ms\n",
      "632:\tlearn: 31.7715772\ttotal: 415ms\tremaining: 240ms\n",
      "633:\tlearn: 31.6687835\ttotal: 415ms\tremaining: 240ms\n",
      "634:\tlearn: 31.6368050\ttotal: 416ms\tremaining: 239ms\n",
      "635:\tlearn: 31.5709628\ttotal: 417ms\tremaining: 239ms\n",
      "636:\tlearn: 31.4052213\ttotal: 418ms\tremaining: 238ms\n",
      "637:\tlearn: 31.2452229\ttotal: 418ms\tremaining: 237ms\n",
      "638:\tlearn: 31.1221828\ttotal: 419ms\tremaining: 237ms\n",
      "639:\tlearn: 31.0853500\ttotal: 420ms\tremaining: 236ms\n",
      "640:\tlearn: 30.9167355\ttotal: 420ms\tremaining: 235ms\n",
      "641:\tlearn: 30.8667253\ttotal: 421ms\tremaining: 235ms\n",
      "642:\tlearn: 30.7427129\ttotal: 422ms\tremaining: 234ms\n",
      "643:\tlearn: 30.5748228\ttotal: 422ms\tremaining: 234ms\n",
      "644:\tlearn: 30.5080592\ttotal: 423ms\tremaining: 233ms\n",
      "645:\tlearn: 30.3444228\ttotal: 424ms\tremaining: 232ms\n",
      "646:\tlearn: 30.1858385\ttotal: 424ms\tremaining: 232ms\n",
      "647:\tlearn: 30.1481951\ttotal: 425ms\tremaining: 231ms\n",
      "648:\tlearn: 30.1139150\ttotal: 426ms\tremaining: 230ms\n",
      "649:\tlearn: 30.0147177\ttotal: 427ms\tremaining: 230ms\n",
      "650:\tlearn: 29.8610501\ttotal: 427ms\tremaining: 229ms\n",
      "651:\tlearn: 29.7793561\ttotal: 428ms\tremaining: 228ms\n",
      "652:\tlearn: 29.6870188\ttotal: 429ms\tremaining: 228ms\n",
      "653:\tlearn: 29.6229921\ttotal: 429ms\tremaining: 227ms\n",
      "654:\tlearn: 29.5806823\ttotal: 430ms\tremaining: 227ms\n",
      "655:\tlearn: 29.4903496\ttotal: 431ms\tremaining: 226ms\n",
      "656:\tlearn: 29.4011642\ttotal: 431ms\tremaining: 225ms\n",
      "657:\tlearn: 29.3880977\ttotal: 432ms\tremaining: 225ms\n",
      "658:\tlearn: 29.2615919\ttotal: 433ms\tremaining: 224ms\n",
      "659:\tlearn: 29.1004727\ttotal: 433ms\tremaining: 223ms\n",
      "660:\tlearn: 29.0530692\ttotal: 434ms\tremaining: 223ms\n",
      "661:\tlearn: 28.9863628\ttotal: 435ms\tremaining: 222ms\n",
      "662:\tlearn: 28.8714304\ttotal: 436ms\tremaining: 221ms\n",
      "663:\tlearn: 28.7331979\ttotal: 436ms\tremaining: 221ms\n",
      "664:\tlearn: 28.6366801\ttotal: 437ms\tremaining: 220ms\n",
      "665:\tlearn: 28.5716341\ttotal: 438ms\tremaining: 220ms\n",
      "666:\tlearn: 28.4974876\ttotal: 438ms\tremaining: 219ms\n",
      "667:\tlearn: 28.4112710\ttotal: 439ms\tremaining: 218ms\n",
      "668:\tlearn: 28.2984651\ttotal: 439ms\tremaining: 217ms\n",
      "669:\tlearn: 28.1339510\ttotal: 440ms\tremaining: 217ms\n",
      "670:\tlearn: 28.1075789\ttotal: 441ms\tremaining: 216ms\n",
      "671:\tlearn: 28.0922293\ttotal: 441ms\tremaining: 215ms\n",
      "672:\tlearn: 27.9723760\ttotal: 442ms\tremaining: 215ms\n",
      "673:\tlearn: 27.9055283\ttotal: 442ms\tremaining: 214ms\n",
      "674:\tlearn: 27.8205243\ttotal: 443ms\tremaining: 213ms\n",
      "675:\tlearn: 27.8084834\ttotal: 444ms\tremaining: 213ms\n",
      "676:\tlearn: 27.7891840\ttotal: 444ms\tremaining: 212ms\n",
      "677:\tlearn: 27.6730952\ttotal: 445ms\tremaining: 211ms\n",
      "678:\tlearn: 27.6094279\ttotal: 445ms\tremaining: 211ms\n",
      "679:\tlearn: 27.5709406\ttotal: 446ms\tremaining: 210ms\n",
      "680:\tlearn: 27.5062932\ttotal: 446ms\tremaining: 209ms\n",
      "681:\tlearn: 27.4149358\ttotal: 447ms\tremaining: 208ms\n",
      "682:\tlearn: 27.3480578\ttotal: 448ms\tremaining: 208ms\n",
      "683:\tlearn: 27.2546632\ttotal: 448ms\tremaining: 207ms\n",
      "684:\tlearn: 27.1581242\ttotal: 449ms\tremaining: 206ms\n",
      "685:\tlearn: 27.1291330\ttotal: 449ms\tremaining: 206ms\n",
      "686:\tlearn: 27.0589760\ttotal: 450ms\tremaining: 205ms\n",
      "687:\tlearn: 26.9207571\ttotal: 451ms\tremaining: 204ms\n",
      "688:\tlearn: 26.8046340\ttotal: 451ms\tremaining: 204ms\n",
      "689:\tlearn: 26.7346039\ttotal: 452ms\tremaining: 203ms\n",
      "690:\tlearn: 26.6359238\ttotal: 453ms\tremaining: 203ms\n",
      "691:\tlearn: 26.5458163\ttotal: 454ms\tremaining: 202ms\n",
      "692:\tlearn: 26.5287024\ttotal: 454ms\tremaining: 201ms\n",
      "693:\tlearn: 26.4436127\ttotal: 455ms\tremaining: 201ms\n",
      "694:\tlearn: 26.3860996\ttotal: 456ms\tremaining: 200ms\n",
      "695:\tlearn: 26.3271824\ttotal: 456ms\tremaining: 199ms\n",
      "696:\tlearn: 26.1929180\ttotal: 457ms\tremaining: 199ms\n",
      "697:\tlearn: 26.0989501\ttotal: 457ms\tremaining: 198ms\n",
      "698:\tlearn: 26.0348052\ttotal: 458ms\tremaining: 197ms\n",
      "699:\tlearn: 25.9715846\ttotal: 459ms\tremaining: 197ms\n",
      "700:\tlearn: 25.8624783\ttotal: 459ms\tremaining: 196ms\n",
      "701:\tlearn: 25.8020332\ttotal: 460ms\tremaining: 195ms\n",
      "702:\tlearn: 25.7940141\ttotal: 460ms\tremaining: 194ms\n",
      "703:\tlearn: 25.6937173\ttotal: 461ms\tremaining: 194ms\n",
      "704:\tlearn: 25.6133995\ttotal: 461ms\tremaining: 193ms\n",
      "705:\tlearn: 25.5272559\ttotal: 462ms\tremaining: 192ms\n",
      "706:\tlearn: 25.5087600\ttotal: 463ms\tremaining: 192ms\n",
      "707:\tlearn: 25.3506858\ttotal: 463ms\tremaining: 191ms\n",
      "708:\tlearn: 25.3314352\ttotal: 464ms\tremaining: 190ms\n",
      "709:\tlearn: 25.3263712\ttotal: 464ms\tremaining: 190ms\n",
      "710:\tlearn: 25.2377772\ttotal: 465ms\tremaining: 189ms\n",
      "711:\tlearn: 25.1296003\ttotal: 466ms\tremaining: 188ms\n",
      "712:\tlearn: 25.1138661\ttotal: 466ms\tremaining: 188ms\n",
      "713:\tlearn: 25.0606164\ttotal: 467ms\tremaining: 187ms\n",
      "714:\tlearn: 24.9701122\ttotal: 467ms\tremaining: 186ms\n",
      "715:\tlearn: 24.9266980\ttotal: 468ms\tremaining: 186ms\n",
      "716:\tlearn: 24.8355245\ttotal: 469ms\tremaining: 185ms\n",
      "717:\tlearn: 24.7892595\ttotal: 469ms\tremaining: 184ms\n",
      "718:\tlearn: 24.7784156\ttotal: 470ms\tremaining: 184ms\n",
      "719:\tlearn: 24.7204068\ttotal: 470ms\tremaining: 183ms\n",
      "720:\tlearn: 24.6868946\ttotal: 471ms\tremaining: 182ms\n",
      "721:\tlearn: 24.5835248\ttotal: 472ms\tremaining: 182ms\n",
      "722:\tlearn: 24.4605667\ttotal: 472ms\tremaining: 181ms\n",
      "723:\tlearn: 24.3780491\ttotal: 473ms\tremaining: 180ms\n",
      "724:\tlearn: 24.3695387\ttotal: 473ms\tremaining: 180ms\n",
      "725:\tlearn: 24.2713928\ttotal: 474ms\tremaining: 179ms\n",
      "726:\tlearn: 24.2564573\ttotal: 475ms\tremaining: 178ms\n",
      "727:\tlearn: 24.1259045\ttotal: 475ms\tremaining: 178ms\n",
      "728:\tlearn: 24.0410925\ttotal: 476ms\tremaining: 177ms\n",
      "729:\tlearn: 23.9454740\ttotal: 476ms\tremaining: 176ms\n",
      "730:\tlearn: 23.9293944\ttotal: 477ms\tremaining: 175ms\n",
      "731:\tlearn: 23.8408373\ttotal: 477ms\tremaining: 175ms\n",
      "732:\tlearn: 23.7301307\ttotal: 478ms\tremaining: 174ms\n",
      "733:\tlearn: 23.6751178\ttotal: 479ms\tremaining: 173ms\n",
      "734:\tlearn: 23.5518474\ttotal: 479ms\tremaining: 173ms\n",
      "735:\tlearn: 23.5054838\ttotal: 480ms\tremaining: 172ms\n",
      "736:\tlearn: 23.4781040\ttotal: 481ms\tremaining: 171ms\n",
      "737:\tlearn: 23.3774725\ttotal: 481ms\tremaining: 171ms\n",
      "738:\tlearn: 23.3081022\ttotal: 482ms\tremaining: 170ms\n",
      "739:\tlearn: 23.2915892\ttotal: 483ms\tremaining: 170ms\n",
      "740:\tlearn: 23.2095735\ttotal: 483ms\tremaining: 169ms\n",
      "741:\tlearn: 23.1588315\ttotal: 484ms\tremaining: 168ms\n",
      "742:\tlearn: 23.1197993\ttotal: 485ms\tremaining: 168ms\n",
      "743:\tlearn: 23.0327780\ttotal: 485ms\tremaining: 167ms\n",
      "744:\tlearn: 22.9759480\ttotal: 486ms\tremaining: 166ms\n",
      "745:\tlearn: 22.8751423\ttotal: 487ms\tremaining: 166ms\n",
      "746:\tlearn: 22.7768127\ttotal: 487ms\tremaining: 165ms\n",
      "747:\tlearn: 22.6474970\ttotal: 488ms\tremaining: 164ms\n",
      "748:\tlearn: 22.5780525\ttotal: 489ms\tremaining: 164ms\n",
      "749:\tlearn: 22.5338308\ttotal: 489ms\tremaining: 163ms\n",
      "750:\tlearn: 22.4330276\ttotal: 490ms\tremaining: 162ms\n",
      "751:\tlearn: 22.4193891\ttotal: 490ms\tremaining: 162ms\n",
      "752:\tlearn: 22.4093040\ttotal: 491ms\tremaining: 161ms\n",
      "753:\tlearn: 22.3758979\ttotal: 492ms\tremaining: 160ms\n",
      "754:\tlearn: 22.3560173\ttotal: 492ms\tremaining: 160ms\n",
      "755:\tlearn: 22.3264261\ttotal: 493ms\tremaining: 159ms\n",
      "756:\tlearn: 22.2796605\ttotal: 493ms\tremaining: 158ms\n",
      "757:\tlearn: 22.2253439\ttotal: 494ms\tremaining: 158ms\n",
      "758:\tlearn: 22.1636409\ttotal: 494ms\tremaining: 157ms\n",
      "759:\tlearn: 22.1078491\ttotal: 495ms\tremaining: 156ms\n",
      "760:\tlearn: 22.0275756\ttotal: 496ms\tremaining: 156ms\n",
      "761:\tlearn: 22.0174143\ttotal: 497ms\tremaining: 155ms\n",
      "762:\tlearn: 21.9887391\ttotal: 497ms\tremaining: 155ms\n",
      "763:\tlearn: 21.9746733\ttotal: 498ms\tremaining: 154ms\n",
      "764:\tlearn: 21.9529216\ttotal: 499ms\tremaining: 153ms\n",
      "765:\tlearn: 21.8767644\ttotal: 499ms\tremaining: 153ms\n",
      "766:\tlearn: 21.8668039\ttotal: 500ms\tremaining: 152ms\n",
      "767:\tlearn: 21.8008688\ttotal: 501ms\tremaining: 151ms\n",
      "768:\tlearn: 21.7612208\ttotal: 501ms\tremaining: 151ms\n",
      "769:\tlearn: 21.6977978\ttotal: 502ms\tremaining: 150ms\n",
      "770:\tlearn: 21.6870461\ttotal: 503ms\tremaining: 149ms\n",
      "771:\tlearn: 21.6599780\ttotal: 503ms\tremaining: 149ms\n",
      "772:\tlearn: 21.5522064\ttotal: 504ms\tremaining: 148ms\n",
      "773:\tlearn: 21.5426327\ttotal: 504ms\tremaining: 147ms\n",
      "774:\tlearn: 21.4391089\ttotal: 505ms\tremaining: 147ms\n",
      "775:\tlearn: 21.4042993\ttotal: 505ms\tremaining: 146ms\n",
      "776:\tlearn: 21.3284836\ttotal: 506ms\tremaining: 145ms\n",
      "777:\tlearn: 21.3163774\ttotal: 506ms\tremaining: 145ms\n",
      "778:\tlearn: 21.2708416\ttotal: 507ms\tremaining: 144ms\n",
      "779:\tlearn: 21.2056943\ttotal: 508ms\tremaining: 143ms\n",
      "780:\tlearn: 21.1434774\ttotal: 508ms\tremaining: 142ms\n",
      "781:\tlearn: 21.0672473\ttotal: 509ms\tremaining: 142ms\n",
      "782:\tlearn: 20.9629645\ttotal: 509ms\tremaining: 141ms\n",
      "783:\tlearn: 20.9522537\ttotal: 510ms\tremaining: 141ms\n",
      "784:\tlearn: 20.9252425\ttotal: 511ms\tremaining: 140ms\n",
      "785:\tlearn: 20.8576799\ttotal: 511ms\tremaining: 139ms\n",
      "786:\tlearn: 20.7922970\ttotal: 512ms\tremaining: 139ms\n",
      "787:\tlearn: 20.7802134\ttotal: 513ms\tremaining: 138ms\n",
      "788:\tlearn: 20.7125213\ttotal: 513ms\tremaining: 137ms\n",
      "789:\tlearn: 20.7000005\ttotal: 514ms\tremaining: 137ms\n",
      "790:\tlearn: 20.6366378\ttotal: 514ms\tremaining: 136ms\n",
      "791:\tlearn: 20.6170923\ttotal: 515ms\tremaining: 135ms\n",
      "792:\tlearn: 20.5485950\ttotal: 516ms\tremaining: 135ms\n",
      "793:\tlearn: 20.5212323\ttotal: 516ms\tremaining: 134ms\n",
      "794:\tlearn: 20.5004347\ttotal: 517ms\tremaining: 133ms\n",
      "795:\tlearn: 20.4884649\ttotal: 517ms\tremaining: 133ms\n",
      "796:\tlearn: 20.3727007\ttotal: 518ms\tremaining: 132ms\n",
      "797:\tlearn: 20.2776166\ttotal: 518ms\tremaining: 131ms\n",
      "798:\tlearn: 20.2690965\ttotal: 519ms\tremaining: 131ms\n",
      "799:\tlearn: 20.2166634\ttotal: 520ms\tremaining: 130ms\n",
      "800:\tlearn: 20.1160179\ttotal: 520ms\tremaining: 129ms\n",
      "801:\tlearn: 20.0642268\ttotal: 521ms\tremaining: 129ms\n",
      "802:\tlearn: 20.0323601\ttotal: 522ms\tremaining: 128ms\n",
      "803:\tlearn: 19.9485334\ttotal: 522ms\tremaining: 127ms\n",
      "804:\tlearn: 19.9071725\ttotal: 523ms\tremaining: 127ms\n",
      "805:\tlearn: 19.8943564\ttotal: 523ms\tremaining: 126ms\n",
      "806:\tlearn: 19.7804687\ttotal: 524ms\tremaining: 125ms\n",
      "807:\tlearn: 19.7343406\ttotal: 524ms\tremaining: 125ms\n",
      "808:\tlearn: 19.6963930\ttotal: 525ms\tremaining: 124ms\n",
      "809:\tlearn: 19.6705675\ttotal: 526ms\tremaining: 123ms\n",
      "810:\tlearn: 19.6382933\ttotal: 526ms\tremaining: 123ms\n",
      "811:\tlearn: 19.5889191\ttotal: 527ms\tremaining: 122ms\n",
      "812:\tlearn: 19.5638487\ttotal: 528ms\tremaining: 121ms\n",
      "813:\tlearn: 19.4926424\ttotal: 528ms\tremaining: 121ms\n",
      "814:\tlearn: 19.3961396\ttotal: 529ms\tremaining: 120ms\n",
      "815:\tlearn: 19.3880242\ttotal: 530ms\tremaining: 119ms\n",
      "816:\tlearn: 19.2808372\ttotal: 530ms\tremaining: 119ms\n",
      "817:\tlearn: 19.1712815\ttotal: 531ms\tremaining: 118ms\n",
      "818:\tlearn: 19.0909823\ttotal: 531ms\tremaining: 117ms\n",
      "819:\tlearn: 18.9993504\ttotal: 532ms\tremaining: 117ms\n",
      "820:\tlearn: 18.9773399\ttotal: 532ms\tremaining: 116ms\n",
      "821:\tlearn: 18.8989735\ttotal: 533ms\tremaining: 115ms\n",
      "822:\tlearn: 18.8275176\ttotal: 534ms\tremaining: 115ms\n",
      "823:\tlearn: 18.8092278\ttotal: 534ms\tremaining: 114ms\n",
      "824:\tlearn: 18.7938447\ttotal: 535ms\tremaining: 113ms\n",
      "825:\tlearn: 18.7871267\ttotal: 535ms\tremaining: 113ms\n",
      "826:\tlearn: 18.7299674\ttotal: 536ms\tremaining: 112ms\n",
      "827:\tlearn: 18.6808264\ttotal: 536ms\tremaining: 111ms\n",
      "828:\tlearn: 18.5984875\ttotal: 537ms\tremaining: 111ms\n",
      "829:\tlearn: 18.5170088\ttotal: 537ms\tremaining: 110ms\n",
      "830:\tlearn: 18.4707382\ttotal: 538ms\tremaining: 109ms\n",
      "831:\tlearn: 18.4368619\ttotal: 539ms\tremaining: 109ms\n",
      "832:\tlearn: 18.3683191\ttotal: 540ms\tremaining: 108ms\n",
      "833:\tlearn: 18.3295058\ttotal: 540ms\tremaining: 108ms\n",
      "834:\tlearn: 18.2587263\ttotal: 541ms\tremaining: 107ms\n",
      "835:\tlearn: 18.2103679\ttotal: 542ms\tremaining: 106ms\n",
      "836:\tlearn: 18.1781032\ttotal: 542ms\tremaining: 106ms\n",
      "837:\tlearn: 18.0746921\ttotal: 543ms\tremaining: 105ms\n",
      "838:\tlearn: 18.0131984\ttotal: 544ms\tremaining: 104ms\n",
      "839:\tlearn: 17.9510877\ttotal: 544ms\tremaining: 104ms\n",
      "840:\tlearn: 17.8893536\ttotal: 545ms\tremaining: 103ms\n",
      "841:\tlearn: 17.8813583\ttotal: 546ms\tremaining: 102ms\n",
      "842:\tlearn: 17.8129857\ttotal: 546ms\tremaining: 102ms\n",
      "843:\tlearn: 17.7981202\ttotal: 547ms\tremaining: 101ms\n",
      "844:\tlearn: 17.7414627\ttotal: 547ms\tremaining: 100ms\n",
      "845:\tlearn: 17.7255534\ttotal: 548ms\tremaining: 99.8ms\n",
      "846:\tlearn: 17.6965545\ttotal: 549ms\tremaining: 99.1ms\n",
      "847:\tlearn: 17.6499397\ttotal: 549ms\tremaining: 98.4ms\n",
      "848:\tlearn: 17.6133852\ttotal: 550ms\tremaining: 97.7ms\n",
      "849:\tlearn: 17.5621620\ttotal: 550ms\tremaining: 97.1ms\n",
      "850:\tlearn: 17.5064049\ttotal: 551ms\tremaining: 96.4ms\n",
      "851:\tlearn: 17.4643467\ttotal: 551ms\tremaining: 95.7ms\n",
      "852:\tlearn: 17.4569544\ttotal: 552ms\tremaining: 95.1ms\n",
      "853:\tlearn: 17.3731897\ttotal: 552ms\tremaining: 94.4ms\n",
      "854:\tlearn: 17.3313609\ttotal: 553ms\tremaining: 93.8ms\n",
      "855:\tlearn: 17.2781582\ttotal: 554ms\tremaining: 93.1ms\n",
      "856:\tlearn: 17.2283433\ttotal: 554ms\tremaining: 92.5ms\n",
      "857:\tlearn: 17.1944614\ttotal: 555ms\tremaining: 91.8ms\n",
      "858:\tlearn: 17.1573393\ttotal: 555ms\tremaining: 91.2ms\n",
      "859:\tlearn: 17.0975067\ttotal: 556ms\tremaining: 90.5ms\n",
      "860:\tlearn: 17.0462043\ttotal: 557ms\tremaining: 89.9ms\n",
      "861:\tlearn: 17.0118805\ttotal: 557ms\tremaining: 89.2ms\n",
      "862:\tlearn: 17.0045195\ttotal: 558ms\tremaining: 88.5ms\n",
      "863:\tlearn: 16.9528999\ttotal: 558ms\tremaining: 87.9ms\n",
      "864:\tlearn: 16.9270632\ttotal: 559ms\tremaining: 87.2ms\n",
      "865:\tlearn: 16.8915252\ttotal: 559ms\tremaining: 86.6ms\n",
      "866:\tlearn: 16.7946576\ttotal: 560ms\tremaining: 85.9ms\n",
      "867:\tlearn: 16.7737222\ttotal: 561ms\tremaining: 85.2ms\n",
      "868:\tlearn: 16.7192509\ttotal: 561ms\tremaining: 84.6ms\n",
      "869:\tlearn: 16.7138388\ttotal: 562ms\tremaining: 83.9ms\n",
      "870:\tlearn: 16.6877768\ttotal: 562ms\tremaining: 83.3ms\n",
      "871:\tlearn: 16.6265748\ttotal: 563ms\tremaining: 82.6ms\n",
      "872:\tlearn: 16.5641199\ttotal: 564ms\tremaining: 82ms\n",
      "873:\tlearn: 16.4935111\ttotal: 564ms\tremaining: 81.3ms\n",
      "874:\tlearn: 16.4250863\ttotal: 565ms\tremaining: 80.7ms\n",
      "875:\tlearn: 16.3566947\ttotal: 565ms\tremaining: 80ms\n",
      "876:\tlearn: 16.2731185\ttotal: 566ms\tremaining: 79.4ms\n",
      "877:\tlearn: 16.2207923\ttotal: 567ms\tremaining: 78.8ms\n",
      "878:\tlearn: 16.2073108\ttotal: 568ms\tremaining: 78.2ms\n",
      "879:\tlearn: 16.1336576\ttotal: 569ms\tremaining: 77.6ms\n",
      "880:\tlearn: 16.0994139\ttotal: 570ms\tremaining: 77ms\n",
      "881:\tlearn: 16.0720217\ttotal: 571ms\tremaining: 76.4ms\n",
      "882:\tlearn: 16.0192163\ttotal: 572ms\tremaining: 75.8ms\n",
      "883:\tlearn: 16.0021989\ttotal: 572ms\tremaining: 75.1ms\n",
      "884:\tlearn: 15.9003005\ttotal: 573ms\tremaining: 74.5ms\n",
      "885:\tlearn: 15.8685768\ttotal: 574ms\tremaining: 73.9ms\n",
      "886:\tlearn: 15.7757199\ttotal: 575ms\tremaining: 73.2ms\n",
      "887:\tlearn: 15.7280015\ttotal: 575ms\tremaining: 72.6ms\n",
      "888:\tlearn: 15.7037867\ttotal: 576ms\tremaining: 71.9ms\n",
      "889:\tlearn: 15.6876254\ttotal: 577ms\tremaining: 71.3ms\n",
      "890:\tlearn: 15.6002589\ttotal: 577ms\tremaining: 70.6ms\n",
      "891:\tlearn: 15.5663914\ttotal: 578ms\tremaining: 70ms\n",
      "892:\tlearn: 15.4827503\ttotal: 579ms\tremaining: 69.3ms\n",
      "893:\tlearn: 15.4422647\ttotal: 579ms\tremaining: 68.7ms\n",
      "894:\tlearn: 15.4230904\ttotal: 580ms\tremaining: 68ms\n",
      "895:\tlearn: 15.3907978\ttotal: 581ms\tremaining: 67.5ms\n",
      "896:\tlearn: 15.3022423\ttotal: 582ms\tremaining: 66.9ms\n",
      "897:\tlearn: 15.2770800\ttotal: 583ms\tremaining: 66.2ms\n",
      "898:\tlearn: 15.2708396\ttotal: 586ms\tremaining: 65.9ms\n",
      "899:\tlearn: 15.2217814\ttotal: 589ms\tremaining: 65.5ms\n",
      "900:\tlearn: 15.2150872\ttotal: 590ms\tremaining: 64.9ms\n",
      "901:\tlearn: 15.1938758\ttotal: 592ms\tremaining: 64.3ms\n",
      "902:\tlearn: 15.1087389\ttotal: 593ms\tremaining: 63.7ms\n",
      "903:\tlearn: 15.0270836\ttotal: 595ms\tremaining: 63.1ms\n",
      "904:\tlearn: 14.9579009\ttotal: 596ms\tremaining: 62.6ms\n",
      "905:\tlearn: 14.9321713\ttotal: 597ms\tremaining: 62ms\n",
      "906:\tlearn: 14.9254894\ttotal: 598ms\tremaining: 61.3ms\n",
      "907:\tlearn: 14.8662999\ttotal: 599ms\tremaining: 60.7ms\n",
      "908:\tlearn: 14.7969088\ttotal: 600ms\tremaining: 60ms\n",
      "909:\tlearn: 14.7187437\ttotal: 601ms\tremaining: 59.4ms\n",
      "910:\tlearn: 14.6594229\ttotal: 602ms\tremaining: 58.8ms\n",
      "911:\tlearn: 14.6109629\ttotal: 603ms\tremaining: 58.2ms\n",
      "912:\tlearn: 14.5833869\ttotal: 605ms\tremaining: 57.6ms\n",
      "913:\tlearn: 14.5677206\ttotal: 606ms\tremaining: 57ms\n",
      "914:\tlearn: 14.5260964\ttotal: 607ms\tremaining: 56.4ms\n",
      "915:\tlearn: 14.4838792\ttotal: 607ms\tremaining: 55.7ms\n",
      "916:\tlearn: 14.4614097\ttotal: 608ms\tremaining: 55ms\n",
      "917:\tlearn: 14.4432212\ttotal: 609ms\tremaining: 54.4ms\n",
      "918:\tlearn: 14.4363977\ttotal: 610ms\tremaining: 53.7ms\n",
      "919:\tlearn: 14.3740822\ttotal: 611ms\tremaining: 53.1ms\n",
      "920:\tlearn: 14.3363459\ttotal: 612ms\tremaining: 52.5ms\n",
      "921:\tlearn: 14.2862425\ttotal: 613ms\tremaining: 51.9ms\n",
      "922:\tlearn: 14.2195191\ttotal: 614ms\tremaining: 51.2ms\n",
      "923:\tlearn: 14.1752422\ttotal: 615ms\tremaining: 50.5ms\n",
      "924:\tlearn: 14.1582897\ttotal: 616ms\tremaining: 49.9ms\n",
      "925:\tlearn: 14.0892518\ttotal: 616ms\tremaining: 49.3ms\n",
      "926:\tlearn: 14.0163904\ttotal: 617ms\tremaining: 48.6ms\n",
      "927:\tlearn: 13.9674906\ttotal: 618ms\tremaining: 47.9ms\n",
      "928:\tlearn: 13.9421041\ttotal: 619ms\tremaining: 47.3ms\n",
      "929:\tlearn: 13.9264108\ttotal: 619ms\tremaining: 46.6ms\n",
      "930:\tlearn: 13.8953443\ttotal: 620ms\tremaining: 46ms\n",
      "931:\tlearn: 13.8514821\ttotal: 621ms\tremaining: 45.3ms\n",
      "932:\tlearn: 13.8317730\ttotal: 622ms\tremaining: 44.6ms\n",
      "933:\tlearn: 13.7980615\ttotal: 622ms\tremaining: 44ms\n",
      "934:\tlearn: 13.7252551\ttotal: 623ms\tremaining: 43.3ms\n",
      "935:\tlearn: 13.6867475\ttotal: 624ms\tremaining: 42.7ms\n",
      "936:\tlearn: 13.6663164\ttotal: 625ms\tremaining: 42ms\n",
      "937:\tlearn: 13.6108173\ttotal: 625ms\tremaining: 41.3ms\n",
      "938:\tlearn: 13.5827380\ttotal: 626ms\tremaining: 40.7ms\n",
      "939:\tlearn: 13.5211246\ttotal: 627ms\tremaining: 40ms\n",
      "940:\tlearn: 13.4752089\ttotal: 627ms\tremaining: 39.3ms\n",
      "941:\tlearn: 13.4283115\ttotal: 628ms\tremaining: 38.7ms\n",
      "942:\tlearn: 13.3912327\ttotal: 629ms\tremaining: 38ms\n",
      "943:\tlearn: 13.3593766\ttotal: 629ms\tremaining: 37.3ms\n",
      "944:\tlearn: 13.3015250\ttotal: 630ms\tremaining: 36.7ms\n",
      "945:\tlearn: 13.2587480\ttotal: 630ms\tremaining: 36ms\n",
      "946:\tlearn: 13.1949436\ttotal: 631ms\tremaining: 35.3ms\n",
      "947:\tlearn: 13.1552441\ttotal: 632ms\tremaining: 34.6ms\n",
      "948:\tlearn: 13.0700947\ttotal: 632ms\tremaining: 34ms\n",
      "949:\tlearn: 13.0460884\ttotal: 633ms\tremaining: 33.3ms\n",
      "950:\tlearn: 13.0315972\ttotal: 633ms\tremaining: 32.6ms\n",
      "951:\tlearn: 12.9964111\ttotal: 634ms\tremaining: 32ms\n",
      "952:\tlearn: 12.9757139\ttotal: 634ms\tremaining: 31.3ms\n",
      "953:\tlearn: 12.9120533\ttotal: 635ms\tremaining: 30.6ms\n",
      "954:\tlearn: 12.8776679\ttotal: 636ms\tremaining: 30ms\n",
      "955:\tlearn: 12.8703243\ttotal: 636ms\tremaining: 29.3ms\n",
      "956:\tlearn: 12.8058615\ttotal: 637ms\tremaining: 28.6ms\n",
      "957:\tlearn: 12.7637381\ttotal: 638ms\tremaining: 28ms\n",
      "958:\tlearn: 12.7517063\ttotal: 639ms\tremaining: 27.3ms\n",
      "959:\tlearn: 12.7382108\ttotal: 639ms\tremaining: 26.6ms\n",
      "960:\tlearn: 12.6881713\ttotal: 640ms\tremaining: 26ms\n",
      "961:\tlearn: 12.6728317\ttotal: 641ms\tremaining: 25.3ms\n",
      "962:\tlearn: 12.6386609\ttotal: 641ms\tremaining: 24.6ms\n",
      "963:\tlearn: 12.5837642\ttotal: 642ms\tremaining: 24ms\n",
      "964:\tlearn: 12.5689789\ttotal: 643ms\tremaining: 23.3ms\n",
      "965:\tlearn: 12.5362136\ttotal: 644ms\tremaining: 22.7ms\n",
      "966:\tlearn: 12.5186020\ttotal: 645ms\tremaining: 22ms\n",
      "967:\tlearn: 12.4787889\ttotal: 645ms\tremaining: 21.3ms\n",
      "968:\tlearn: 12.4463866\ttotal: 646ms\tremaining: 20.7ms\n",
      "969:\tlearn: 12.3919484\ttotal: 647ms\tremaining: 20ms\n",
      "970:\tlearn: 12.3583173\ttotal: 647ms\tremaining: 19.3ms\n",
      "971:\tlearn: 12.3430204\ttotal: 648ms\tremaining: 18.7ms\n",
      "972:\tlearn: 12.3036135\ttotal: 648ms\tremaining: 18ms\n",
      "973:\tlearn: 12.2785886\ttotal: 649ms\tremaining: 17.3ms\n",
      "974:\tlearn: 12.2424148\ttotal: 650ms\tremaining: 16.7ms\n",
      "975:\tlearn: 12.2287225\ttotal: 650ms\tremaining: 16ms\n",
      "976:\tlearn: 12.1894056\ttotal: 651ms\tremaining: 15.3ms\n",
      "977:\tlearn: 12.1399699\ttotal: 651ms\tremaining: 14.7ms\n",
      "978:\tlearn: 12.1165698\ttotal: 652ms\tremaining: 14ms\n",
      "979:\tlearn: 12.1084930\ttotal: 653ms\tremaining: 13.3ms\n",
      "980:\tlearn: 12.1041455\ttotal: 653ms\tremaining: 12.7ms\n",
      "981:\tlearn: 12.0749440\ttotal: 654ms\tremaining: 12ms\n",
      "982:\tlearn: 12.0676323\ttotal: 655ms\tremaining: 11.3ms\n",
      "983:\tlearn: 12.0253491\ttotal: 655ms\tremaining: 10.7ms\n",
      "984:\tlearn: 11.9725269\ttotal: 656ms\tremaining: 9.98ms\n",
      "985:\tlearn: 11.9344239\ttotal: 656ms\tremaining: 9.32ms\n",
      "986:\tlearn: 11.8870660\ttotal: 657ms\tremaining: 8.65ms\n",
      "987:\tlearn: 11.8411099\ttotal: 657ms\tremaining: 7.98ms\n",
      "988:\tlearn: 11.7973602\ttotal: 658ms\tremaining: 7.32ms\n",
      "989:\tlearn: 11.7514376\ttotal: 659ms\tremaining: 6.65ms\n",
      "990:\tlearn: 11.7232746\ttotal: 659ms\tremaining: 5.99ms\n",
      "991:\tlearn: 11.6852796\ttotal: 660ms\tremaining: 5.32ms\n",
      "992:\tlearn: 11.6463794\ttotal: 660ms\tremaining: 4.65ms\n",
      "993:\tlearn: 11.6106308\ttotal: 661ms\tremaining: 3.99ms\n",
      "994:\tlearn: 11.5731961\ttotal: 662ms\tremaining: 3.33ms\n",
      "995:\tlearn: 11.5417359\ttotal: 663ms\tremaining: 2.66ms\n",
      "996:\tlearn: 11.5167117\ttotal: 663ms\tremaining: 2ms\n",
      "997:\tlearn: 11.4745232\ttotal: 664ms\tremaining: 1.33ms\n",
      "998:\tlearn: 11.4604481\ttotal: 664ms\tremaining: 665us\n",
      "999:\tlearn: 11.4510502\ttotal: 665ms\tremaining: 0us\n"
     ]
    }
   ],
   "source": [
    "catb = CatBoostRegressor()\n",
    "catb_model = catb.fit(X_train, y_train)"
   ]
  },
  {
   "cell_type": "markdown",
   "id": "cd6905b8-a0b7-4b1f-a0aa-4585cd8c7ead",
   "metadata": {},
   "source": [
    "## Tahmin"
   ]
  },
  {
   "cell_type": "code",
   "execution_count": 105,
   "id": "b1f38d9f-8f30-46dd-8e43-498e271a6111",
   "metadata": {
    "tags": []
   },
   "outputs": [
    {
     "data": {
      "text/plain": [
       "351.194631344607"
      ]
     },
     "execution_count": 105,
     "metadata": {},
     "output_type": "execute_result"
    }
   ],
   "source": [
    "y_pred = catb_model.predict(X_test)\n",
    "np.sqrt(mean_squared_error(y_test, y_pred))"
   ]
  },
  {
   "cell_type": "markdown",
   "id": "17152d71-30f6-4cae-92b3-3d0e5e1bd0a9",
   "metadata": {},
   "source": [
    "## Model Tuning"
   ]
  },
  {
   "cell_type": "code",
   "execution_count": 99,
   "id": "b13bea76-e414-4e27-96d5-eb949aca63a8",
   "metadata": {
    "tags": []
   },
   "outputs": [],
   "source": [
    "catb_grid = {'iterations': [200, 500, 1000, 2000], \n",
    "             'learning_rate': [0.01, 0.03, 0.05, 0.08, 0.1], \n",
    "             'depth': [3,4,5,6,7,8]}"
   ]
  },
  {
   "cell_type": "code",
   "execution_count": 100,
   "id": "47f291ca-9dd1-4549-a44b-00494c32362f",
   "metadata": {
    "tags": []
   },
   "outputs": [],
   "source": [
    "catb = CatBoostRegressor()\n",
    "catb_cv_model = GridSearchCV(catb, catb_grid, cv=5, n_jobs=-1, verbose=2)"
   ]
  },
  {
   "cell_type": "code",
   "execution_count": 101,
   "id": "16442e04-5340-495b-8afc-a0c96eb5cf03",
   "metadata": {
    "collapsed": true,
    "jupyter": {
     "outputs_hidden": true
    },
    "tags": []
   },
   "outputs": [
    {
     "name": "stdout",
     "output_type": "stream",
     "text": [
      "Fitting 5 folds for each of 120 candidates, totalling 600 fits\n",
      "0:\tlearn: 422.4143448\ttotal: 639us\tremaining: 639ms\n",
      "1:\tlearn: 404.1864276\ttotal: 1.26ms\tremaining: 630ms\n",
      "2:\tlearn: 386.3231718\ttotal: 1.77ms\tremaining: 590ms\n",
      "3:\tlearn: 370.5548032\ttotal: 2.31ms\tremaining: 576ms\n",
      "4:\tlearn: 354.9242038\ttotal: 2.77ms\tremaining: 551ms\n",
      "5:\tlearn: 342.3403984\ttotal: 3.24ms\tremaining: 537ms\n",
      "6:\tlearn: 328.2370070\ttotal: 3.77ms\tremaining: 535ms\n",
      "7:\tlearn: 317.5056526\ttotal: 4.27ms\tremaining: 529ms\n",
      "8:\tlearn: 306.6243511\ttotal: 4.94ms\tremaining: 544ms\n",
      "9:\tlearn: 297.3147023\ttotal: 5.48ms\tremaining: 543ms\n",
      "10:\tlearn: 288.3685892\ttotal: 5.93ms\tremaining: 533ms\n",
      "11:\tlearn: 281.0996220\ttotal: 6.42ms\tremaining: 529ms\n",
      "12:\tlearn: 273.2254898\ttotal: 6.94ms\tremaining: 527ms\n",
      "13:\tlearn: 266.9003385\ttotal: 7.42ms\tremaining: 523ms\n",
      "14:\tlearn: 261.9092500\ttotal: 7.88ms\tremaining: 517ms\n",
      "15:\tlearn: 256.2637350\ttotal: 8.34ms\tremaining: 513ms\n",
      "16:\tlearn: 250.3667935\ttotal: 8.78ms\tremaining: 508ms\n",
      "17:\tlearn: 244.8631098\ttotal: 9.24ms\tremaining: 504ms\n",
      "18:\tlearn: 240.1540669\ttotal: 9.68ms\tremaining: 500ms\n",
      "19:\tlearn: 235.6057263\ttotal: 10.2ms\tremaining: 499ms\n",
      "20:\tlearn: 231.2431102\ttotal: 10.7ms\tremaining: 499ms\n",
      "21:\tlearn: 226.4912464\ttotal: 11.3ms\tremaining: 500ms\n",
      "22:\tlearn: 223.5591707\ttotal: 11.5ms\tremaining: 489ms\n",
      "23:\tlearn: 219.6098928\ttotal: 12.1ms\tremaining: 492ms\n",
      "24:\tlearn: 215.3653069\ttotal: 12.6ms\tremaining: 492ms\n",
      "25:\tlearn: 212.0589058\ttotal: 13.2ms\tremaining: 493ms\n",
      "26:\tlearn: 209.7717728\ttotal: 13.6ms\tremaining: 491ms\n",
      "27:\tlearn: 206.4800180\ttotal: 14.1ms\tremaining: 491ms\n",
      "28:\tlearn: 204.4998286\ttotal: 14.7ms\tremaining: 492ms\n",
      "29:\tlearn: 202.5999376\ttotal: 15.3ms\tremaining: 495ms\n",
      "30:\tlearn: 199.5099986\ttotal: 15.9ms\tremaining: 497ms\n",
      "31:\tlearn: 196.9435690\ttotal: 16.4ms\tremaining: 497ms\n",
      "32:\tlearn: 194.9855023\ttotal: 17ms\tremaining: 499ms\n",
      "33:\tlearn: 193.0037094\ttotal: 17.6ms\tremaining: 499ms\n",
      "34:\tlearn: 191.6771224\ttotal: 18.1ms\tremaining: 498ms\n",
      "35:\tlearn: 188.6440989\ttotal: 18.6ms\tremaining: 497ms\n",
      "36:\tlearn: 186.7575822\ttotal: 19.1ms\tremaining: 497ms\n",
      "37:\tlearn: 183.5070965\ttotal: 19.7ms\tremaining: 500ms\n",
      "38:\tlearn: 181.9932704\ttotal: 20.3ms\tremaining: 499ms\n",
      "39:\tlearn: 180.4612043\ttotal: 20.7ms\tremaining: 496ms\n",
      "40:\tlearn: 178.9727236\ttotal: 21.1ms\tremaining: 494ms\n",
      "41:\tlearn: 176.9704782\ttotal: 21.6ms\tremaining: 493ms\n",
      "42:\tlearn: 172.9583917\ttotal: 22.1ms\tremaining: 492ms\n",
      "43:\tlearn: 172.0259404\ttotal: 22.5ms\tremaining: 490ms\n",
      "44:\tlearn: 169.6703908\ttotal: 23ms\tremaining: 488ms\n",
      "45:\tlearn: 167.0349788\ttotal: 23.4ms\tremaining: 486ms\n",
      "46:\tlearn: 166.0151540\ttotal: 24ms\tremaining: 486ms\n",
      "47:\tlearn: 164.3432866\ttotal: 24.4ms\tremaining: 485ms\n",
      "48:\tlearn: 163.7139546\ttotal: 25.1ms\tremaining: 488ms\n",
      "49:\tlearn: 162.0231882\ttotal: 25.8ms\tremaining: 490ms\n",
      "50:\tlearn: 159.4806540\ttotal: 26.3ms\tremaining: 489ms\n",
      "51:\tlearn: 156.5835618\ttotal: 26.8ms\tremaining: 488ms\n",
      "52:\tlearn: 155.1124833\ttotal: 27.3ms\tremaining: 487ms\n",
      "53:\tlearn: 154.3849650\ttotal: 27.8ms\tremaining: 487ms\n",
      "54:\tlearn: 153.2243534\ttotal: 28.3ms\tremaining: 487ms\n",
      "55:\tlearn: 152.3205510\ttotal: 28.9ms\tremaining: 486ms\n",
      "56:\tlearn: 151.0666069\ttotal: 29.4ms\tremaining: 486ms\n",
      "57:\tlearn: 150.0992693\ttotal: 30ms\tremaining: 487ms\n",
      "58:\tlearn: 149.7214223\ttotal: 30.5ms\tremaining: 486ms\n",
      "59:\tlearn: 149.3420563\ttotal: 31ms\tremaining: 486ms\n",
      "60:\tlearn: 147.1527638\ttotal: 31.5ms\tremaining: 485ms\n",
      "61:\tlearn: 146.0849045\ttotal: 31.9ms\tremaining: 483ms\n",
      "62:\tlearn: 145.2592821\ttotal: 32.4ms\tremaining: 483ms\n",
      "63:\tlearn: 143.9723823\ttotal: 33ms\tremaining: 483ms\n",
      "64:\tlearn: 142.9337890\ttotal: 33.6ms\tremaining: 483ms\n",
      "65:\tlearn: 141.2456060\ttotal: 34.2ms\tremaining: 483ms\n",
      "66:\tlearn: 140.0933886\ttotal: 34.6ms\tremaining: 482ms\n",
      "67:\tlearn: 139.0122411\ttotal: 35.1ms\tremaining: 481ms\n",
      "68:\tlearn: 137.0658535\ttotal: 35.7ms\tremaining: 481ms\n",
      "69:\tlearn: 136.5187600\ttotal: 36.2ms\tremaining: 481ms\n",
      "70:\tlearn: 135.3177866\ttotal: 36.7ms\tremaining: 480ms\n",
      "71:\tlearn: 134.4397288\ttotal: 37.2ms\tremaining: 479ms\n",
      "72:\tlearn: 133.9689054\ttotal: 37.7ms\tremaining: 479ms\n",
      "73:\tlearn: 132.9503812\ttotal: 38.2ms\tremaining: 478ms\n",
      "74:\tlearn: 132.4790284\ttotal: 38.7ms\tremaining: 477ms\n",
      "75:\tlearn: 130.0079846\ttotal: 39.2ms\tremaining: 476ms\n",
      "76:\tlearn: 128.6536311\ttotal: 39.7ms\tremaining: 476ms\n",
      "77:\tlearn: 126.4149435\ttotal: 40.2ms\tremaining: 475ms\n",
      "78:\tlearn: 124.7339610\ttotal: 40.6ms\tremaining: 473ms\n",
      "79:\tlearn: 123.6799098\ttotal: 41.1ms\tremaining: 473ms\n",
      "80:\tlearn: 122.0132818\ttotal: 41.6ms\tremaining: 472ms\n",
      "81:\tlearn: 121.7718402\ttotal: 42.2ms\tremaining: 472ms\n",
      "82:\tlearn: 121.0226763\ttotal: 42.8ms\tremaining: 473ms\n",
      "83:\tlearn: 119.0352412\ttotal: 43.5ms\tremaining: 474ms\n",
      "84:\tlearn: 118.1578472\ttotal: 43.9ms\tremaining: 473ms\n",
      "85:\tlearn: 117.3963152\ttotal: 44.4ms\tremaining: 472ms\n",
      "86:\tlearn: 116.8601830\ttotal: 44.9ms\tremaining: 471ms\n",
      "87:\tlearn: 115.1485488\ttotal: 45.3ms\tremaining: 470ms\n",
      "88:\tlearn: 113.3802066\ttotal: 45.9ms\tremaining: 469ms\n",
      "89:\tlearn: 111.8047507\ttotal: 46.4ms\tremaining: 469ms\n",
      "90:\tlearn: 111.2173889\ttotal: 46.8ms\tremaining: 467ms\n",
      "91:\tlearn: 109.7797673\ttotal: 47.3ms\tremaining: 467ms\n",
      "92:\tlearn: 108.5968886\ttotal: 47.8ms\tremaining: 466ms\n",
      "93:\tlearn: 107.3902106\ttotal: 48.3ms\tremaining: 466ms\n",
      "94:\tlearn: 106.5920119\ttotal: 48.8ms\tremaining: 465ms\n",
      "95:\tlearn: 105.9400132\ttotal: 49.3ms\tremaining: 464ms\n",
      "96:\tlearn: 104.5018068\ttotal: 49.7ms\tremaining: 463ms\n",
      "97:\tlearn: 104.2449785\ttotal: 50.3ms\tremaining: 463ms\n",
      "98:\tlearn: 102.4745810\ttotal: 50.8ms\tremaining: 462ms\n",
      "99:\tlearn: 101.5007722\ttotal: 51.3ms\tremaining: 461ms\n",
      "100:\tlearn: 101.0929742\ttotal: 51.7ms\tremaining: 460ms\n",
      "101:\tlearn: 100.8864538\ttotal: 52.1ms\tremaining: 459ms\n",
      "102:\tlearn: 99.5007076\ttotal: 52.6ms\tremaining: 458ms\n",
      "103:\tlearn: 98.1646778\ttotal: 53ms\tremaining: 457ms\n",
      "104:\tlearn: 97.1950961\ttotal: 53.5ms\tremaining: 456ms\n",
      "105:\tlearn: 96.0991462\ttotal: 54.1ms\tremaining: 456ms\n",
      "106:\tlearn: 95.4337941\ttotal: 54.7ms\tremaining: 457ms\n",
      "107:\tlearn: 94.9099345\ttotal: 55.3ms\tremaining: 457ms\n",
      "108:\tlearn: 94.3889362\ttotal: 55.8ms\tremaining: 456ms\n",
      "109:\tlearn: 94.2091744\ttotal: 56.2ms\tremaining: 455ms\n",
      "110:\tlearn: 92.8508793\ttotal: 56.8ms\tremaining: 455ms\n",
      "111:\tlearn: 92.1784338\ttotal: 57.2ms\tremaining: 454ms\n",
      "112:\tlearn: 91.6689944\ttotal: 57.7ms\tremaining: 453ms\n",
      "113:\tlearn: 90.6644520\ttotal: 58.2ms\tremaining: 453ms\n",
      "114:\tlearn: 90.5375287\ttotal: 58.7ms\tremaining: 452ms\n",
      "115:\tlearn: 90.3442623\ttotal: 59.2ms\tremaining: 451ms\n",
      "116:\tlearn: 89.3637881\ttotal: 59.6ms\tremaining: 450ms\n",
      "117:\tlearn: 88.5340073\ttotal: 60.2ms\tremaining: 450ms\n",
      "118:\tlearn: 88.3598014\ttotal: 60.8ms\tremaining: 450ms\n",
      "119:\tlearn: 87.1290719\ttotal: 61.2ms\tremaining: 449ms\n",
      "120:\tlearn: 87.0034893\ttotal: 61.7ms\tremaining: 448ms\n",
      "121:\tlearn: 85.9581724\ttotal: 62.2ms\tremaining: 447ms\n",
      "122:\tlearn: 84.7062226\ttotal: 62.8ms\tremaining: 448ms\n",
      "123:\tlearn: 84.6114296\ttotal: 63.2ms\tremaining: 447ms\n",
      "124:\tlearn: 83.3769126\ttotal: 63.8ms\tremaining: 447ms\n",
      "125:\tlearn: 82.2866094\ttotal: 64.3ms\tremaining: 446ms\n",
      "126:\tlearn: 81.7817112\ttotal: 64.8ms\tremaining: 445ms\n",
      "127:\tlearn: 80.3710545\ttotal: 65.3ms\tremaining: 445ms\n",
      "128:\tlearn: 79.3458239\ttotal: 66.1ms\tremaining: 446ms\n",
      "129:\tlearn: 78.8966509\ttotal: 66.6ms\tremaining: 446ms\n",
      "130:\tlearn: 78.7683699\ttotal: 67.1ms\tremaining: 445ms\n",
      "131:\tlearn: 78.0116712\ttotal: 67.6ms\tremaining: 445ms\n",
      "132:\tlearn: 77.5728582\ttotal: 68.1ms\tremaining: 444ms\n",
      "133:\tlearn: 76.4635356\ttotal: 68.7ms\tremaining: 444ms\n",
      "134:\tlearn: 75.6109482\ttotal: 69.2ms\tremaining: 443ms\n",
      "135:\tlearn: 74.8287886\ttotal: 69.7ms\tremaining: 443ms\n",
      "136:\tlearn: 74.2493825\ttotal: 70.4ms\tremaining: 444ms\n",
      "137:\tlearn: 73.3192822\ttotal: 71ms\tremaining: 444ms\n",
      "138:\tlearn: 72.9755066\ttotal: 71.5ms\tremaining: 443ms\n",
      "139:\tlearn: 72.8423874\ttotal: 71.9ms\tremaining: 441ms\n",
      "140:\tlearn: 71.5949506\ttotal: 72.3ms\tremaining: 441ms\n",
      "141:\tlearn: 70.9408732\ttotal: 72.9ms\tremaining: 440ms\n",
      "142:\tlearn: 70.1699642\ttotal: 73.4ms\tremaining: 440ms\n",
      "143:\tlearn: 69.8737644\ttotal: 73.9ms\tremaining: 439ms\n",
      "144:\tlearn: 69.0963759\ttotal: 74.4ms\tremaining: 439ms\n",
      "145:\tlearn: 68.9702397\ttotal: 74.8ms\tremaining: 438ms\n",
      "146:\tlearn: 67.8950397\ttotal: 75.3ms\tremaining: 437ms\n",
      "147:\tlearn: 67.1501269\ttotal: 75.7ms\tremaining: 436ms\n",
      "148:\tlearn: 66.4028868\ttotal: 76.2ms\tremaining: 435ms\n",
      "149:\tlearn: 65.3349813\ttotal: 76.7ms\tremaining: 435ms\n",
      "150:\tlearn: 64.6766190\ttotal: 77.2ms\tremaining: 434ms\n",
      "151:\tlearn: 63.7390417\ttotal: 77.7ms\tremaining: 434ms\n",
      "152:\tlearn: 62.9043101\ttotal: 78.3ms\tremaining: 434ms\n",
      "153:\tlearn: 62.5922794\ttotal: 78.9ms\tremaining: 433ms\n",
      "154:\tlearn: 62.1160450\ttotal: 79.5ms\tremaining: 433ms\n",
      "155:\tlearn: 61.7702532\ttotal: 79.9ms\tremaining: 432ms\n",
      "156:\tlearn: 61.2433354\ttotal: 80.4ms\tremaining: 432ms\n",
      "157:\tlearn: 60.8455422\ttotal: 80.9ms\tremaining: 431ms\n",
      "158:\tlearn: 60.6755303\ttotal: 81.5ms\tremaining: 431ms\n",
      "159:\tlearn: 59.9631043\ttotal: 82ms\tremaining: 430ms\n",
      "160:\tlearn: 59.2211911\ttotal: 82.4ms\tremaining: 429ms\n",
      "161:\tlearn: 59.1400932\ttotal: 82.9ms\tremaining: 429ms\n",
      "162:\tlearn: 58.9164262\ttotal: 83.4ms\tremaining: 428ms\n",
      "163:\tlearn: 58.2084420\ttotal: 83.9ms\tremaining: 428ms\n",
      "164:\tlearn: 57.9934649\ttotal: 84.4ms\tremaining: 427ms\n",
      "165:\tlearn: 57.3736694\ttotal: 84.9ms\tremaining: 427ms\n",
      "166:\tlearn: 56.8338370\ttotal: 85.4ms\tremaining: 426ms\n",
      "167:\tlearn: 56.5518049\ttotal: 86ms\tremaining: 426ms\n",
      "168:\tlearn: 55.9777349\ttotal: 86.5ms\tremaining: 425ms\n",
      "169:\tlearn: 55.4485860\ttotal: 87ms\tremaining: 425ms\n",
      "170:\tlearn: 55.0892542\ttotal: 87.5ms\tremaining: 424ms\n",
      "171:\tlearn: 54.9915464\ttotal: 88.1ms\tremaining: 424ms\n",
      "172:\tlearn: 54.3968112\ttotal: 88.8ms\tremaining: 425ms\n",
      "173:\tlearn: 53.7708163\ttotal: 89.3ms\tremaining: 424ms\n",
      "174:\tlearn: 53.1993023\ttotal: 89.8ms\tremaining: 423ms\n",
      "175:\tlearn: 52.7773821\ttotal: 90.3ms\tremaining: 423ms\n",
      "176:\tlearn: 52.5186612\ttotal: 90.8ms\tremaining: 422ms\n",
      "177:\tlearn: 52.0038075\ttotal: 91.4ms\tremaining: 422ms\n",
      "178:\tlearn: 51.7971195\ttotal: 92ms\tremaining: 422ms\n",
      "179:\tlearn: 51.4334863\ttotal: 92.5ms\tremaining: 421ms\n",
      "180:\tlearn: 50.9151359\ttotal: 92.9ms\tremaining: 421ms\n",
      "181:\tlearn: 50.8252320\ttotal: 93.4ms\tremaining: 420ms\n",
      "182:\tlearn: 50.4143487\ttotal: 93.9ms\tremaining: 419ms\n",
      "183:\tlearn: 50.0253432\ttotal: 94.3ms\tremaining: 418ms\n",
      "184:\tlearn: 49.6769233\ttotal: 94.7ms\tremaining: 417ms\n",
      "185:\tlearn: 49.5689505\ttotal: 95.1ms\tremaining: 416ms\n",
      "186:\tlearn: 49.0813531\ttotal: 95.6ms\tremaining: 415ms\n",
      "187:\tlearn: 48.9396335\ttotal: 96.1ms\tremaining: 415ms\n",
      "188:\tlearn: 48.5040716\ttotal: 96.6ms\tremaining: 415ms\n",
      "189:\tlearn: 47.9644995\ttotal: 97.1ms\tremaining: 414ms\n",
      "190:\tlearn: 47.8292554\ttotal: 97.6ms\tremaining: 414ms\n",
      "191:\tlearn: 47.4433025\ttotal: 98.2ms\tremaining: 413ms\n",
      "192:\tlearn: 46.9286959\ttotal: 98.7ms\tremaining: 413ms\n",
      "193:\tlearn: 46.3092347\ttotal: 99.3ms\tremaining: 413ms\n",
      "194:\tlearn: 45.7431428\ttotal: 99.8ms\tremaining: 412ms\n",
      "195:\tlearn: 45.6714261\ttotal: 100ms\tremaining: 412ms\n",
      "196:\tlearn: 45.5088158\ttotal: 101ms\tremaining: 411ms\n",
      "197:\tlearn: 45.4713460\ttotal: 101ms\tremaining: 410ms\n",
      "198:\tlearn: 45.0942536\ttotal: 102ms\tremaining: 410ms\n",
      "199:\tlearn: 44.7625600\ttotal: 102ms\tremaining: 410ms\n",
      "200:\tlearn: 44.3247006\ttotal: 103ms\tremaining: 409ms\n",
      "201:\tlearn: 43.8054974\ttotal: 103ms\tremaining: 408ms\n",
      "202:\tlearn: 43.3359785\ttotal: 104ms\tremaining: 408ms\n",
      "203:\tlearn: 42.8698272\ttotal: 104ms\tremaining: 408ms\n",
      "204:\tlearn: 42.4275364\ttotal: 105ms\tremaining: 407ms\n",
      "205:\tlearn: 41.9463597\ttotal: 105ms\tremaining: 406ms\n",
      "206:\tlearn: 41.7547985\ttotal: 106ms\tremaining: 406ms\n",
      "207:\tlearn: 41.6019714\ttotal: 107ms\tremaining: 406ms\n",
      "208:\tlearn: 41.4342896\ttotal: 107ms\tremaining: 405ms\n",
      "209:\tlearn: 41.0764993\ttotal: 107ms\tremaining: 404ms\n",
      "210:\tlearn: 40.7895715\ttotal: 108ms\tremaining: 403ms\n",
      "211:\tlearn: 40.4428042\ttotal: 108ms\tremaining: 403ms\n",
      "212:\tlearn: 39.9370849\ttotal: 109ms\tremaining: 402ms\n",
      "213:\tlearn: 39.4885257\ttotal: 109ms\tremaining: 401ms\n",
      "214:\tlearn: 39.1268375\ttotal: 110ms\tremaining: 400ms\n",
      "215:\tlearn: 38.9591271\ttotal: 110ms\tremaining: 400ms\n",
      "216:\tlearn: 38.8008893\ttotal: 111ms\tremaining: 400ms\n",
      "217:\tlearn: 38.4956003\ttotal: 111ms\tremaining: 399ms\n",
      "218:\tlearn: 38.3528545\ttotal: 112ms\tremaining: 398ms\n",
      "219:\tlearn: 38.1794276\ttotal: 112ms\tremaining: 398ms\n",
      "220:\tlearn: 38.1135196\ttotal: 113ms\tremaining: 397ms\n",
      "221:\tlearn: 37.9126665\ttotal: 113ms\tremaining: 397ms\n",
      "222:\tlearn: 37.5375523\ttotal: 114ms\tremaining: 396ms\n",
      "223:\tlearn: 37.3774479\ttotal: 114ms\tremaining: 395ms\n",
      "224:\tlearn: 36.8965396\ttotal: 115ms\tremaining: 395ms\n",
      "225:\tlearn: 36.4012999\ttotal: 115ms\tremaining: 394ms\n",
      "226:\tlearn: 35.9300616\ttotal: 115ms\tremaining: 393ms\n",
      "227:\tlearn: 35.6148029\ttotal: 116ms\tremaining: 393ms\n",
      "228:\tlearn: 35.2741594\ttotal: 116ms\tremaining: 392ms\n",
      "229:\tlearn: 35.0196015\ttotal: 117ms\tremaining: 392ms\n",
      "230:\tlearn: 34.5877862\ttotal: 117ms\tremaining: 391ms\n",
      "231:\tlearn: 34.4128370\ttotal: 118ms\tremaining: 390ms\n",
      "232:\tlearn: 34.2685016\ttotal: 118ms\tremaining: 390ms\n",
      "233:\tlearn: 34.2021290\ttotal: 119ms\tremaining: 389ms\n",
      "234:\tlearn: 34.1117548\ttotal: 119ms\tremaining: 388ms\n",
      "235:\tlearn: 33.7038307\ttotal: 120ms\tremaining: 388ms\n",
      "236:\tlearn: 33.6591145\ttotal: 120ms\tremaining: 387ms\n",
      "237:\tlearn: 33.6134076\ttotal: 121ms\tremaining: 386ms\n",
      "238:\tlearn: 33.3091022\ttotal: 121ms\tremaining: 385ms\n",
      "239:\tlearn: 33.2050988\ttotal: 121ms\tremaining: 385ms\n",
      "240:\tlearn: 32.7984087\ttotal: 122ms\tremaining: 384ms\n",
      "241:\tlearn: 32.4886567\ttotal: 122ms\tremaining: 383ms\n",
      "242:\tlearn: 32.3354906\ttotal: 123ms\tremaining: 383ms\n",
      "243:\tlearn: 32.1610609\ttotal: 124ms\tremaining: 383ms\n",
      "244:\tlearn: 31.9242693\ttotal: 124ms\tremaining: 382ms\n",
      "245:\tlearn: 31.4693550\ttotal: 125ms\tremaining: 382ms\n",
      "246:\tlearn: 31.1071532\ttotal: 125ms\tremaining: 382ms\n",
      "247:\tlearn: 30.7311162\ttotal: 126ms\tremaining: 381ms\n",
      "248:\tlearn: 30.4892550\ttotal: 126ms\tremaining: 381ms\n",
      "249:\tlearn: 30.3680212\ttotal: 127ms\tremaining: 381ms\n",
      "250:\tlearn: 30.1346007\ttotal: 127ms\tremaining: 380ms\n",
      "251:\tlearn: 29.8046285\ttotal: 128ms\tremaining: 379ms\n",
      "252:\tlearn: 29.6637514\ttotal: 129ms\tremaining: 379ms\n",
      "253:\tlearn: 29.5176095\ttotal: 129ms\tremaining: 379ms\n",
      "254:\tlearn: 29.3723319\ttotal: 129ms\tremaining: 378ms\n",
      "255:\tlearn: 29.1301438\ttotal: 130ms\tremaining: 377ms\n",
      "256:\tlearn: 29.1025017\ttotal: 130ms\tremaining: 377ms\n",
      "257:\tlearn: 28.8276340\ttotal: 131ms\tremaining: 376ms\n",
      "258:\tlearn: 28.6313979\ttotal: 131ms\tremaining: 376ms\n",
      "259:\tlearn: 28.3904787\ttotal: 132ms\tremaining: 375ms\n",
      "260:\tlearn: 27.9496011\ttotal: 132ms\tremaining: 374ms\n",
      "261:\tlearn: 27.6744647\ttotal: 133ms\tremaining: 374ms\n",
      "262:\tlearn: 27.5631687\ttotal: 133ms\tremaining: 373ms\n",
      "263:\tlearn: 27.2940171\ttotal: 134ms\tremaining: 373ms\n",
      "264:\tlearn: 27.0524989\ttotal: 134ms\tremaining: 372ms\n",
      "265:\tlearn: 26.9019408\ttotal: 135ms\tremaining: 372ms\n",
      "266:\tlearn: 26.7539234\ttotal: 135ms\tremaining: 372ms\n",
      "267:\tlearn: 26.5906135\ttotal: 136ms\tremaining: 371ms\n",
      "268:\tlearn: 26.3413069\ttotal: 136ms\tremaining: 371ms\n",
      "269:\tlearn: 26.2300985\ttotal: 137ms\tremaining: 371ms\n",
      "270:\tlearn: 25.7633750\ttotal: 138ms\tremaining: 370ms\n",
      "271:\tlearn: 25.5999298\ttotal: 138ms\tremaining: 370ms\n",
      "272:\tlearn: 25.4034221\ttotal: 139ms\tremaining: 369ms\n",
      "273:\tlearn: 25.3449361\ttotal: 139ms\tremaining: 369ms\n",
      "274:\tlearn: 25.1308675\ttotal: 140ms\tremaining: 368ms\n",
      "275:\tlearn: 24.8170605\ttotal: 140ms\tremaining: 367ms\n",
      "276:\tlearn: 24.5265387\ttotal: 141ms\tremaining: 368ms\n",
      "277:\tlearn: 24.3891773\ttotal: 141ms\tremaining: 367ms\n",
      "278:\tlearn: 24.1691955\ttotal: 142ms\tremaining: 366ms\n",
      "279:\tlearn: 23.9780841\ttotal: 142ms\tremaining: 366ms\n",
      "280:\tlearn: 23.7459991\ttotal: 143ms\tremaining: 365ms\n",
      "281:\tlearn: 23.5762098\ttotal: 143ms\tremaining: 365ms\n",
      "282:\tlearn: 23.4130148\ttotal: 144ms\tremaining: 365ms\n",
      "283:\tlearn: 23.1365659\ttotal: 144ms\tremaining: 364ms\n",
      "284:\tlearn: 22.9605139\ttotal: 145ms\tremaining: 363ms\n",
      "285:\tlearn: 22.8198952\ttotal: 145ms\tremaining: 363ms\n",
      "286:\tlearn: 22.7220776\ttotal: 146ms\tremaining: 362ms\n",
      "287:\tlearn: 22.6349162\ttotal: 146ms\tremaining: 362ms\n",
      "288:\tlearn: 22.5037731\ttotal: 147ms\tremaining: 361ms\n",
      "289:\tlearn: 22.4280658\ttotal: 147ms\tremaining: 361ms\n",
      "290:\tlearn: 22.4111078\ttotal: 148ms\tremaining: 360ms\n",
      "291:\tlearn: 22.2582825\ttotal: 148ms\tremaining: 359ms\n",
      "292:\tlearn: 22.0361847\ttotal: 149ms\tremaining: 359ms\n",
      "293:\tlearn: 21.9197616\ttotal: 149ms\tremaining: 358ms\n",
      "294:\tlearn: 21.8934931\ttotal: 150ms\tremaining: 358ms\n",
      "295:\tlearn: 21.8385467\ttotal: 150ms\tremaining: 357ms\n",
      "296:\tlearn: 21.6056469\ttotal: 151ms\tremaining: 356ms\n",
      "297:\tlearn: 21.3638471\ttotal: 151ms\tremaining: 356ms\n",
      "298:\tlearn: 21.2403020\ttotal: 152ms\tremaining: 355ms\n",
      "299:\tlearn: 20.9940588\ttotal: 152ms\tremaining: 355ms\n",
      "300:\tlearn: 20.8606002\ttotal: 153ms\tremaining: 354ms\n",
      "301:\tlearn: 20.7521062\ttotal: 153ms\tremaining: 354ms\n",
      "302:\tlearn: 20.4914061\ttotal: 154ms\tremaining: 353ms\n",
      "303:\tlearn: 20.4390781\ttotal: 154ms\tremaining: 353ms\n",
      "304:\tlearn: 20.4261039\ttotal: 155ms\tremaining: 352ms\n",
      "305:\tlearn: 20.3429361\ttotal: 155ms\tremaining: 352ms\n",
      "306:\tlearn: 20.3186699\ttotal: 156ms\tremaining: 351ms\n",
      "307:\tlearn: 20.2200547\ttotal: 156ms\tremaining: 350ms\n",
      "308:\tlearn: 20.0363798\ttotal: 157ms\tremaining: 350ms\n",
      "309:\tlearn: 19.9375964\ttotal: 157ms\tremaining: 350ms\n",
      "310:\tlearn: 19.8562475\ttotal: 158ms\tremaining: 349ms\n",
      "311:\tlearn: 19.7207383\ttotal: 158ms\tremaining: 348ms\n",
      "312:\tlearn: 19.5840205\ttotal: 159ms\tremaining: 348ms\n",
      "313:\tlearn: 19.4498604\ttotal: 159ms\tremaining: 348ms\n",
      "314:\tlearn: 19.3106313\ttotal: 160ms\tremaining: 348ms\n",
      "315:\tlearn: 19.1555646\ttotal: 160ms\tremaining: 347ms\n",
      "316:\tlearn: 19.1426558\ttotal: 161ms\tremaining: 347ms\n",
      "317:\tlearn: 19.0179770\ttotal: 162ms\tremaining: 347ms\n",
      "318:\tlearn: 18.9331646\ttotal: 163ms\tremaining: 347ms\n",
      "319:\tlearn: 18.7759664\ttotal: 163ms\tremaining: 346ms\n",
      "320:\tlearn: 18.7302473\ttotal: 163ms\tremaining: 346ms\n",
      "321:\tlearn: 18.6822773\ttotal: 164ms\tremaining: 345ms\n",
      "322:\tlearn: 18.6212081\ttotal: 164ms\tremaining: 345ms\n",
      "323:\tlearn: 18.3825932\ttotal: 165ms\tremaining: 344ms\n",
      "324:\tlearn: 18.0840511\ttotal: 166ms\tremaining: 344ms\n",
      "325:\tlearn: 17.9626242\ttotal: 166ms\tremaining: 344ms\n",
      "326:\tlearn: 17.8194649\ttotal: 167ms\tremaining: 343ms\n",
      "327:\tlearn: 17.6897852\ttotal: 167ms\tremaining: 342ms\n",
      "328:\tlearn: 17.6729587\ttotal: 168ms\tremaining: 342ms\n",
      "329:\tlearn: 17.5730192\ttotal: 168ms\tremaining: 341ms\n",
      "330:\tlearn: 17.3061709\ttotal: 169ms\tremaining: 341ms\n",
      "331:\tlearn: 17.2732138\ttotal: 169ms\tremaining: 340ms\n",
      "332:\tlearn: 17.1284244\ttotal: 170ms\tremaining: 340ms\n",
      "333:\tlearn: 17.0578788\ttotal: 170ms\tremaining: 340ms\n",
      "334:\tlearn: 16.9109643\ttotal: 171ms\tremaining: 339ms\n",
      "335:\tlearn: 16.6595095\ttotal: 171ms\tremaining: 338ms\n",
      "336:\tlearn: 16.5240861\ttotal: 172ms\tremaining: 338ms\n",
      "337:\tlearn: 16.3631551\ttotal: 172ms\tremaining: 337ms\n",
      "338:\tlearn: 16.2364521\ttotal: 173ms\tremaining: 337ms\n",
      "339:\tlearn: 16.1259236\ttotal: 173ms\tremaining: 336ms\n",
      "340:\tlearn: 16.1070160\ttotal: 174ms\tremaining: 336ms\n",
      "341:\tlearn: 15.9446333\ttotal: 174ms\tremaining: 335ms\n",
      "342:\tlearn: 15.8404109\ttotal: 175ms\tremaining: 335ms\n",
      "343:\tlearn: 15.7616719\ttotal: 175ms\tremaining: 334ms\n",
      "344:\tlearn: 15.7046860\ttotal: 176ms\tremaining: 334ms\n",
      "345:\tlearn: 15.5565531\ttotal: 176ms\tremaining: 333ms\n",
      "346:\tlearn: 15.4739767\ttotal: 177ms\tremaining: 333ms\n",
      "347:\tlearn: 15.4214691\ttotal: 177ms\tremaining: 333ms\n",
      "348:\tlearn: 15.3830392\ttotal: 179ms\tremaining: 333ms\n",
      "349:\tlearn: 15.2925503\ttotal: 179ms\tremaining: 333ms\n",
      "350:\tlearn: 15.2685305\ttotal: 180ms\tremaining: 333ms\n",
      "351:\tlearn: 15.0959980\ttotal: 181ms\tremaining: 332ms\n",
      "352:\tlearn: 15.0185539\ttotal: 181ms\tremaining: 332ms\n",
      "353:\tlearn: 14.9344909\ttotal: 182ms\tremaining: 331ms\n",
      "354:\tlearn: 14.8185511\ttotal: 182ms\tremaining: 331ms\n",
      "355:\tlearn: 14.7621205\ttotal: 183ms\tremaining: 330ms\n",
      "356:\tlearn: 14.6824384\ttotal: 183ms\tremaining: 330ms\n",
      "357:\tlearn: 14.5918871\ttotal: 183ms\tremaining: 329ms\n",
      "358:\tlearn: 14.4898356\ttotal: 184ms\tremaining: 328ms\n",
      "359:\tlearn: 14.4773981\ttotal: 184ms\tremaining: 328ms\n",
      "360:\tlearn: 14.3256006\ttotal: 185ms\tremaining: 327ms\n",
      "361:\tlearn: 14.1704867\ttotal: 185ms\tremaining: 327ms\n",
      "362:\tlearn: 14.0453382\ttotal: 186ms\tremaining: 326ms\n",
      "363:\tlearn: 13.9488312\ttotal: 186ms\tremaining: 325ms\n",
      "364:\tlearn: 13.8932251\ttotal: 187ms\tremaining: 325ms\n",
      "365:\tlearn: 13.7368549\ttotal: 187ms\tremaining: 324ms\n",
      "366:\tlearn: 13.6533268\ttotal: 188ms\tremaining: 324ms\n",
      "367:\tlearn: 13.5191569\ttotal: 188ms\tremaining: 323ms\n",
      "368:\tlearn: 13.4712080\ttotal: 189ms\tremaining: 323ms\n",
      "369:\tlearn: 13.3454926\ttotal: 189ms\tremaining: 322ms\n",
      "370:\tlearn: 13.2804919\ttotal: 190ms\tremaining: 322ms\n",
      "371:\tlearn: 13.2609934\ttotal: 190ms\tremaining: 321ms\n",
      "372:\tlearn: 13.1804458\ttotal: 191ms\tremaining: 321ms\n",
      "373:\tlearn: 13.0381162\ttotal: 191ms\tremaining: 320ms\n",
      "374:\tlearn: 13.0250736\ttotal: 192ms\tremaining: 319ms\n",
      "375:\tlearn: 13.0006609\ttotal: 192ms\tremaining: 319ms\n",
      "376:\tlearn: 12.8507663\ttotal: 192ms\tremaining: 318ms\n",
      "377:\tlearn: 12.6986039\ttotal: 193ms\tremaining: 318ms\n",
      "378:\tlearn: 12.5574544\ttotal: 193ms\tremaining: 317ms\n",
      "379:\tlearn: 12.4864386\ttotal: 194ms\tremaining: 316ms\n",
      "380:\tlearn: 12.3739036\ttotal: 194ms\tremaining: 316ms\n",
      "381:\tlearn: 12.3110117\ttotal: 195ms\tremaining: 315ms\n",
      "382:\tlearn: 12.2077088\ttotal: 195ms\tremaining: 315ms\n",
      "383:\tlearn: 12.1065885\ttotal: 196ms\tremaining: 314ms\n",
      "384:\tlearn: 12.0323948\ttotal: 196ms\tremaining: 314ms\n",
      "385:\tlearn: 12.0014896\ttotal: 197ms\tremaining: 313ms\n",
      "386:\tlearn: 11.8568080\ttotal: 197ms\tremaining: 313ms\n",
      "387:\tlearn: 11.7867144\ttotal: 198ms\tremaining: 312ms\n",
      "388:\tlearn: 11.7500836\ttotal: 198ms\tremaining: 312ms\n",
      "389:\tlearn: 11.7348877\ttotal: 199ms\tremaining: 311ms\n",
      "390:\tlearn: 11.7286653\ttotal: 200ms\tremaining: 311ms\n",
      "391:\tlearn: 11.6241305\ttotal: 200ms\tremaining: 310ms\n",
      "392:\tlearn: 11.5960420\ttotal: 200ms\tremaining: 310ms\n",
      "393:\tlearn: 11.5729987\ttotal: 201ms\tremaining: 309ms\n",
      "394:\tlearn: 11.5635235\ttotal: 201ms\tremaining: 308ms\n",
      "395:\tlearn: 11.4873129\ttotal: 202ms\tremaining: 308ms\n",
      "396:\tlearn: 11.3564378\ttotal: 202ms\tremaining: 307ms\n",
      "397:\tlearn: 11.2078876\ttotal: 203ms\tremaining: 307ms\n",
      "398:\tlearn: 11.1598904\ttotal: 203ms\tremaining: 306ms\n",
      "399:\tlearn: 11.0885074\ttotal: 204ms\tremaining: 306ms\n",
      "400:\tlearn: 11.0278575\ttotal: 204ms\tremaining: 305ms\n",
      "401:\tlearn: 10.9865756\ttotal: 205ms\tremaining: 305ms\n",
      "402:\tlearn: 10.8794931\ttotal: 205ms\tremaining: 304ms\n",
      "403:\tlearn: 10.8382558\ttotal: 206ms\tremaining: 304ms\n",
      "404:\tlearn: 10.7596014\ttotal: 206ms\tremaining: 303ms\n",
      "405:\tlearn: 10.7064165\ttotal: 207ms\tremaining: 303ms\n",
      "406:\tlearn: 10.6372130\ttotal: 207ms\tremaining: 302ms\n",
      "407:\tlearn: 10.5505037\ttotal: 208ms\tremaining: 301ms\n",
      "408:\tlearn: 10.4676489\ttotal: 208ms\tremaining: 301ms\n",
      "409:\tlearn: 10.3632792\ttotal: 209ms\tremaining: 300ms\n",
      "410:\tlearn: 10.3399756\ttotal: 209ms\tremaining: 300ms\n",
      "411:\tlearn: 10.2905778\ttotal: 210ms\tremaining: 299ms\n",
      "412:\tlearn: 10.2175164\ttotal: 210ms\tremaining: 299ms\n",
      "413:\tlearn: 10.1482923\ttotal: 211ms\tremaining: 298ms\n",
      "414:\tlearn: 10.0590953\ttotal: 211ms\tremaining: 298ms\n",
      "415:\tlearn: 9.9982795\ttotal: 212ms\tremaining: 297ms\n",
      "416:\tlearn: 9.9099074\ttotal: 212ms\tremaining: 296ms\n",
      "417:\tlearn: 9.8641812\ttotal: 213ms\tremaining: 296ms\n",
      "418:\tlearn: 9.8207799\ttotal: 213ms\tremaining: 295ms\n",
      "419:\tlearn: 9.7000976\ttotal: 213ms\tremaining: 295ms\n",
      "420:\tlearn: 9.6211675\ttotal: 214ms\tremaining: 294ms\n",
      "421:\tlearn: 9.5821946\ttotal: 214ms\tremaining: 294ms\n",
      "422:\tlearn: 9.5314530\ttotal: 215ms\tremaining: 293ms\n",
      "423:\tlearn: 9.5231706\ttotal: 216ms\tremaining: 293ms\n",
      "424:\tlearn: 9.4897613\ttotal: 216ms\tremaining: 292ms\n",
      "425:\tlearn: 9.4178254\ttotal: 216ms\tremaining: 292ms\n",
      "426:\tlearn: 9.3468512\ttotal: 217ms\tremaining: 291ms\n",
      "427:\tlearn: 9.2916542\ttotal: 217ms\tremaining: 290ms\n",
      "428:\tlearn: 9.2671046\ttotal: 218ms\tremaining: 290ms\n",
      "429:\tlearn: 9.1507425\ttotal: 218ms\tremaining: 289ms\n",
      "430:\tlearn: 9.0905964\ttotal: 219ms\tremaining: 289ms\n",
      "431:\tlearn: 9.0599172\ttotal: 219ms\tremaining: 288ms\n",
      "432:\tlearn: 8.9911670\ttotal: 220ms\tremaining: 288ms\n",
      "433:\tlearn: 8.9769178\ttotal: 220ms\tremaining: 287ms\n",
      "434:\tlearn: 8.9011639\ttotal: 221ms\tremaining: 287ms\n",
      "435:\tlearn: 8.8578447\ttotal: 221ms\tremaining: 286ms\n",
      "436:\tlearn: 8.7766216\ttotal: 222ms\tremaining: 286ms\n",
      "437:\tlearn: 8.7600187\ttotal: 222ms\tremaining: 285ms\n",
      "438:\tlearn: 8.7039464\ttotal: 223ms\tremaining: 285ms\n",
      "439:\tlearn: 8.6701908\ttotal: 223ms\tremaining: 284ms\n",
      "440:\tlearn: 8.6561906\ttotal: 224ms\tremaining: 284ms\n",
      "441:\tlearn: 8.6030579\ttotal: 224ms\tremaining: 283ms\n",
      "442:\tlearn: 8.5192884\ttotal: 225ms\tremaining: 283ms\n",
      "443:\tlearn: 8.4605490\ttotal: 225ms\tremaining: 282ms\n",
      "444:\tlearn: 8.3846572\ttotal: 226ms\tremaining: 282ms\n",
      "445:\tlearn: 8.3429264\ttotal: 226ms\tremaining: 281ms\n",
      "446:\tlearn: 8.3068488\ttotal: 227ms\tremaining: 281ms\n",
      "447:\tlearn: 8.2662142\ttotal: 227ms\tremaining: 280ms\n",
      "448:\tlearn: 8.1806196\ttotal: 228ms\tremaining: 280ms\n",
      "449:\tlearn: 8.1475696\ttotal: 228ms\tremaining: 279ms\n",
      "450:\tlearn: 8.1145904\ttotal: 229ms\tremaining: 278ms\n",
      "451:\tlearn: 8.0740309\ttotal: 229ms\tremaining: 278ms\n",
      "452:\tlearn: 8.0095799\ttotal: 230ms\tremaining: 277ms\n",
      "453:\tlearn: 7.9857193\ttotal: 230ms\tremaining: 277ms\n",
      "454:\tlearn: 7.9300069\ttotal: 231ms\tremaining: 276ms\n",
      "455:\tlearn: 7.9088282\ttotal: 231ms\tremaining: 276ms\n",
      "456:\tlearn: 7.8726359\ttotal: 232ms\tremaining: 275ms\n",
      "457:\tlearn: 7.8453260\ttotal: 232ms\tremaining: 275ms\n",
      "458:\tlearn: 7.8015145\ttotal: 233ms\tremaining: 274ms\n",
      "459:\tlearn: 7.7552434\ttotal: 233ms\tremaining: 274ms\n",
      "460:\tlearn: 7.7033074\ttotal: 234ms\tremaining: 273ms\n",
      "461:\tlearn: 7.6732816\ttotal: 234ms\tremaining: 273ms\n",
      "462:\tlearn: 7.6387343\ttotal: 235ms\tremaining: 272ms\n",
      "463:\tlearn: 7.5939225\ttotal: 235ms\tremaining: 272ms\n",
      "464:\tlearn: 7.5495985\ttotal: 236ms\tremaining: 271ms\n",
      "465:\tlearn: 7.5164784\ttotal: 236ms\tremaining: 270ms\n",
      "466:\tlearn: 7.4692120\ttotal: 236ms\tremaining: 270ms\n",
      "467:\tlearn: 7.4602739\ttotal: 237ms\tremaining: 269ms\n",
      "468:\tlearn: 7.4245927\ttotal: 237ms\tremaining: 269ms\n",
      "469:\tlearn: 7.3402299\ttotal: 238ms\tremaining: 268ms\n",
      "470:\tlearn: 7.2998185\ttotal: 238ms\tremaining: 268ms\n",
      "471:\tlearn: 7.2014577\ttotal: 239ms\tremaining: 267ms\n",
      "472:\tlearn: 7.1904207\ttotal: 239ms\tremaining: 267ms\n",
      "473:\tlearn: 7.1527862\ttotal: 240ms\tremaining: 266ms\n",
      "474:\tlearn: 7.0771473\ttotal: 240ms\tremaining: 266ms\n",
      "475:\tlearn: 7.0539525\ttotal: 241ms\tremaining: 265ms\n",
      "476:\tlearn: 6.9846025\ttotal: 241ms\tremaining: 265ms\n",
      "477:\tlearn: 6.9534313\ttotal: 242ms\tremaining: 264ms\n",
      "478:\tlearn: 6.8975880\ttotal: 242ms\tremaining: 264ms\n",
      "479:\tlearn: 6.8254191\ttotal: 243ms\tremaining: 263ms\n",
      "480:\tlearn: 6.8112478\ttotal: 243ms\tremaining: 263ms\n",
      "481:\tlearn: 6.7648902\ttotal: 244ms\tremaining: 262ms\n",
      "482:\tlearn: 6.6860735\ttotal: 245ms\tremaining: 262ms\n",
      "483:\tlearn: 6.6633461\ttotal: 245ms\tremaining: 261ms\n",
      "484:\tlearn: 6.6475279\ttotal: 246ms\tremaining: 261ms\n",
      "485:\tlearn: 6.5921608\ttotal: 246ms\tremaining: 260ms\n",
      "486:\tlearn: 6.5602794\ttotal: 247ms\tremaining: 260ms\n",
      "487:\tlearn: 6.5499659\ttotal: 247ms\tremaining: 260ms\n",
      "488:\tlearn: 6.4940006\ttotal: 248ms\tremaining: 259ms\n",
      "489:\tlearn: 6.4247752\ttotal: 249ms\tremaining: 259ms\n",
      "490:\tlearn: 6.3877601\ttotal: 249ms\tremaining: 258ms\n",
      "491:\tlearn: 6.3314191\ttotal: 250ms\tremaining: 258ms\n",
      "492:\tlearn: 6.2812751\ttotal: 250ms\tremaining: 257ms\n",
      "493:\tlearn: 6.2685065\ttotal: 251ms\tremaining: 257ms\n",
      "494:\tlearn: 6.2241138\ttotal: 251ms\tremaining: 256ms\n",
      "495:\tlearn: 6.1695214\ttotal: 252ms\tremaining: 256ms\n",
      "496:\tlearn: 6.1421906\ttotal: 253ms\tremaining: 256ms\n",
      "497:\tlearn: 6.1331850\ttotal: 253ms\tremaining: 255ms\n",
      "498:\tlearn: 6.1166327\ttotal: 254ms\tremaining: 255ms\n",
      "499:\tlearn: 6.0829602\ttotal: 254ms\tremaining: 254ms\n",
      "500:\tlearn: 6.0650422\ttotal: 255ms\tremaining: 254ms\n",
      "501:\tlearn: 6.0436563\ttotal: 255ms\tremaining: 253ms\n",
      "502:\tlearn: 5.9902804\ttotal: 256ms\tremaining: 253ms\n",
      "503:\tlearn: 5.9121675\ttotal: 256ms\tremaining: 252ms\n",
      "504:\tlearn: 5.9091850\ttotal: 257ms\tremaining: 252ms\n",
      "505:\tlearn: 5.8967995\ttotal: 257ms\tremaining: 251ms\n",
      "506:\tlearn: 5.8430221\ttotal: 258ms\tremaining: 251ms\n",
      "507:\tlearn: 5.8135495\ttotal: 259ms\tremaining: 250ms\n",
      "508:\tlearn: 5.7890913\ttotal: 259ms\tremaining: 250ms\n",
      "509:\tlearn: 5.7577091\ttotal: 260ms\tremaining: 250ms\n",
      "510:\tlearn: 5.7523488\ttotal: 260ms\tremaining: 249ms\n",
      "511:\tlearn: 5.6546493\ttotal: 261ms\tremaining: 249ms\n",
      "512:\tlearn: 5.6194513\ttotal: 262ms\tremaining: 248ms\n",
      "513:\tlearn: 5.5672252\ttotal: 262ms\tremaining: 248ms\n",
      "514:\tlearn: 5.5539421\ttotal: 263ms\tremaining: 247ms\n",
      "515:\tlearn: 5.5185620\ttotal: 263ms\tremaining: 247ms\n",
      "516:\tlearn: 5.4789463\ttotal: 264ms\tremaining: 246ms\n",
      "517:\tlearn: 5.4236755\ttotal: 264ms\tremaining: 246ms\n",
      "518:\tlearn: 5.3864207\ttotal: 265ms\tremaining: 245ms\n",
      "519:\tlearn: 5.3533466\ttotal: 265ms\tremaining: 245ms\n",
      "520:\tlearn: 5.3369921\ttotal: 266ms\tremaining: 244ms\n",
      "521:\tlearn: 5.2560437\ttotal: 266ms\tremaining: 244ms\n",
      "522:\tlearn: 5.2017840\ttotal: 267ms\tremaining: 243ms\n",
      "523:\tlearn: 5.1755812\ttotal: 267ms\tremaining: 243ms\n",
      "524:\tlearn: 5.1385832\ttotal: 268ms\tremaining: 242ms\n",
      "525:\tlearn: 5.1335579\ttotal: 268ms\tremaining: 242ms\n",
      "526:\tlearn: 5.0585358\ttotal: 269ms\tremaining: 241ms\n",
      "527:\tlearn: 5.0021152\ttotal: 270ms\tremaining: 241ms\n",
      "528:\tlearn: 4.9822398\ttotal: 270ms\tremaining: 240ms\n",
      "529:\tlearn: 4.9752376\ttotal: 271ms\tremaining: 240ms\n",
      "530:\tlearn: 4.9479232\ttotal: 271ms\tremaining: 240ms\n",
      "531:\tlearn: 4.9271142\ttotal: 272ms\tremaining: 239ms\n",
      "532:\tlearn: 4.9023595\ttotal: 272ms\tremaining: 238ms\n",
      "533:\tlearn: 4.8555527\ttotal: 273ms\tremaining: 238ms\n",
      "534:\tlearn: 4.8367794\ttotal: 273ms\tremaining: 237ms\n",
      "535:\tlearn: 4.7952444\ttotal: 273ms\tremaining: 237ms\n",
      "536:\tlearn: 4.7409194\ttotal: 274ms\tremaining: 236ms\n",
      "537:\tlearn: 4.6929973\ttotal: 274ms\tremaining: 236ms\n",
      "538:\tlearn: 4.6579685\ttotal: 275ms\tremaining: 235ms\n",
      "539:\tlearn: 4.6195745\ttotal: 275ms\tremaining: 235ms\n",
      "540:\tlearn: 4.5964136\ttotal: 276ms\tremaining: 234ms\n",
      "541:\tlearn: 4.5836819\ttotal: 276ms\tremaining: 234ms\n",
      "542:\tlearn: 4.5766395\ttotal: 277ms\tremaining: 233ms\n",
      "543:\tlearn: 4.5639948\ttotal: 278ms\tremaining: 233ms\n",
      "544:\tlearn: 4.5321336\ttotal: 278ms\tremaining: 232ms\n",
      "545:\tlearn: 4.5257262\ttotal: 279ms\tremaining: 232ms\n",
      "546:\tlearn: 4.5121200\ttotal: 279ms\tremaining: 231ms\n",
      "547:\tlearn: 4.5000971\ttotal: 280ms\tremaining: 231ms\n",
      "548:\tlearn: 4.4699564\ttotal: 280ms\tremaining: 230ms\n",
      "549:\tlearn: 4.4223918\ttotal: 281ms\tremaining: 230ms\n",
      "550:\tlearn: 4.3900850\ttotal: 281ms\tremaining: 229ms\n",
      "551:\tlearn: 4.3865832\ttotal: 282ms\tremaining: 229ms\n",
      "552:\tlearn: 4.3555236\ttotal: 282ms\tremaining: 228ms\n",
      "553:\tlearn: 4.3326942\ttotal: 283ms\tremaining: 228ms\n",
      "554:\tlearn: 4.3083453\ttotal: 284ms\tremaining: 227ms\n",
      "555:\tlearn: 4.2783012\ttotal: 284ms\tremaining: 227ms\n",
      "556:\tlearn: 4.2386680\ttotal: 285ms\tremaining: 227ms\n",
      "557:\tlearn: 4.1982182\ttotal: 285ms\tremaining: 226ms\n",
      "558:\tlearn: 4.1818634\ttotal: 286ms\tremaining: 225ms\n",
      "559:\tlearn: 4.1603123\ttotal: 286ms\tremaining: 225ms\n",
      "560:\tlearn: 4.1162392\ttotal: 287ms\tremaining: 224ms\n",
      "561:\tlearn: 4.0942539\ttotal: 287ms\tremaining: 224ms\n",
      "562:\tlearn: 4.0833944\ttotal: 288ms\tremaining: 223ms\n",
      "563:\tlearn: 4.0651220\ttotal: 288ms\tremaining: 223ms\n",
      "564:\tlearn: 4.0359525\ttotal: 289ms\tremaining: 222ms\n",
      "565:\tlearn: 4.0331482\ttotal: 289ms\tremaining: 222ms\n",
      "566:\tlearn: 4.0110785\ttotal: 290ms\tremaining: 221ms\n",
      "567:\tlearn: 3.9846807\ttotal: 290ms\tremaining: 221ms\n",
      "568:\tlearn: 3.9611224\ttotal: 290ms\tremaining: 220ms\n",
      "569:\tlearn: 3.9238317\ttotal: 291ms\tremaining: 219ms\n",
      "570:\tlearn: 3.9105718\ttotal: 291ms\tremaining: 219ms\n",
      "571:\tlearn: 3.8725349\ttotal: 292ms\tremaining: 218ms\n",
      "572:\tlearn: 3.8589458\ttotal: 292ms\tremaining: 218ms\n",
      "573:\tlearn: 3.8201118\ttotal: 293ms\tremaining: 217ms\n",
      "574:\tlearn: 3.8100971\ttotal: 293ms\tremaining: 217ms\n",
      "575:\tlearn: 3.7824233\ttotal: 294ms\tremaining: 216ms\n",
      "576:\tlearn: 3.7652240\ttotal: 294ms\tremaining: 216ms\n",
      "577:\tlearn: 3.7320270\ttotal: 295ms\tremaining: 215ms\n",
      "578:\tlearn: 3.7227983\ttotal: 295ms\tremaining: 215ms\n",
      "579:\tlearn: 3.7007934\ttotal: 296ms\tremaining: 214ms\n",
      "580:\tlearn: 3.6703626\ttotal: 296ms\tremaining: 214ms\n",
      "581:\tlearn: 3.6587500\ttotal: 297ms\tremaining: 213ms\n",
      "582:\tlearn: 3.6435213\ttotal: 297ms\tremaining: 213ms\n",
      "583:\tlearn: 3.6165255\ttotal: 298ms\tremaining: 212ms\n",
      "584:\tlearn: 3.5921438\ttotal: 298ms\tremaining: 211ms\n",
      "585:\tlearn: 3.5823094\ttotal: 298ms\tremaining: 211ms\n",
      "586:\tlearn: 3.5707107\ttotal: 299ms\tremaining: 210ms\n",
      "587:\tlearn: 3.5585582\ttotal: 299ms\tremaining: 210ms\n",
      "588:\tlearn: 3.5083056\ttotal: 300ms\tremaining: 209ms\n",
      "589:\tlearn: 3.4896083\ttotal: 300ms\tremaining: 209ms\n",
      "590:\tlearn: 3.4745190\ttotal: 301ms\tremaining: 208ms\n",
      "591:\tlearn: 3.4627260\ttotal: 302ms\tremaining: 208ms\n",
      "592:\tlearn: 3.4385625\ttotal: 302ms\tremaining: 207ms\n",
      "593:\tlearn: 3.3997235\ttotal: 303ms\tremaining: 207ms\n",
      "594:\tlearn: 3.3764192\ttotal: 303ms\tremaining: 206ms\n",
      "595:\tlearn: 3.3590522\ttotal: 303ms\tremaining: 206ms\n",
      "596:\tlearn: 3.3474857\ttotal: 304ms\tremaining: 205ms\n",
      "597:\tlearn: 3.3123623\ttotal: 304ms\tremaining: 205ms\n",
      "598:\tlearn: 3.2999589\ttotal: 305ms\tremaining: 204ms\n",
      "599:\tlearn: 3.2767538\ttotal: 305ms\tremaining: 204ms\n",
      "600:\tlearn: 3.2530783\ttotal: 306ms\tremaining: 203ms\n",
      "601:\tlearn: 3.2269777\ttotal: 306ms\tremaining: 203ms\n",
      "602:\tlearn: 3.1938868\ttotal: 307ms\tremaining: 202ms\n",
      "603:\tlearn: 3.1728589\ttotal: 308ms\tremaining: 202ms\n",
      "604:\tlearn: 3.1549029\ttotal: 308ms\tremaining: 201ms\n",
      "605:\tlearn: 3.1478118\ttotal: 309ms\tremaining: 201ms\n",
      "606:\tlearn: 3.1145245\ttotal: 309ms\tremaining: 200ms\n",
      "607:\tlearn: 3.0718905\ttotal: 310ms\tremaining: 200ms\n",
      "608:\tlearn: 3.0352714\ttotal: 310ms\tremaining: 199ms\n",
      "609:\tlearn: 2.9984985\ttotal: 310ms\tremaining: 198ms\n",
      "610:\tlearn: 2.9594115\ttotal: 311ms\tremaining: 198ms\n",
      "611:\tlearn: 2.9438145\ttotal: 311ms\tremaining: 197ms\n",
      "612:\tlearn: 2.9265773\ttotal: 312ms\tremaining: 197ms\n",
      "613:\tlearn: 2.9036898\ttotal: 312ms\tremaining: 196ms\n",
      "614:\tlearn: 2.8790612\ttotal: 313ms\tremaining: 196ms\n",
      "615:\tlearn: 2.8654898\ttotal: 313ms\tremaining: 195ms\n",
      "616:\tlearn: 2.8462561\ttotal: 314ms\tremaining: 195ms\n",
      "617:\tlearn: 2.8254976\ttotal: 314ms\tremaining: 194ms\n",
      "618:\tlearn: 2.8190407\ttotal: 315ms\tremaining: 194ms\n",
      "619:\tlearn: 2.8129812\ttotal: 315ms\tremaining: 193ms\n",
      "620:\tlearn: 2.8097755\ttotal: 316ms\tremaining: 193ms\n",
      "621:\tlearn: 2.7960320\ttotal: 316ms\tremaining: 192ms\n",
      "622:\tlearn: 2.7878495\ttotal: 317ms\tremaining: 192ms\n",
      "623:\tlearn: 2.7602980\ttotal: 317ms\tremaining: 191ms\n",
      "624:\tlearn: 2.7341408\ttotal: 318ms\tremaining: 191ms\n",
      "625:\tlearn: 2.7302545\ttotal: 319ms\tremaining: 190ms\n",
      "626:\tlearn: 2.7120252\ttotal: 319ms\tremaining: 190ms\n",
      "627:\tlearn: 2.7075024\ttotal: 320ms\tremaining: 189ms\n",
      "628:\tlearn: 2.6970031\ttotal: 320ms\tremaining: 189ms\n",
      "629:\tlearn: 2.6928246\ttotal: 321ms\tremaining: 188ms\n",
      "630:\tlearn: 2.6709120\ttotal: 321ms\tremaining: 188ms\n",
      "631:\tlearn: 2.6656247\ttotal: 322ms\tremaining: 187ms\n",
      "632:\tlearn: 2.6452838\ttotal: 322ms\tremaining: 187ms\n",
      "633:\tlearn: 2.6271014\ttotal: 323ms\tremaining: 186ms\n",
      "634:\tlearn: 2.6089454\ttotal: 323ms\tremaining: 186ms\n",
      "635:\tlearn: 2.5996271\ttotal: 324ms\tremaining: 185ms\n",
      "636:\tlearn: 2.5923568\ttotal: 324ms\tremaining: 185ms\n",
      "637:\tlearn: 2.5837611\ttotal: 325ms\tremaining: 184ms\n",
      "638:\tlearn: 2.5726721\ttotal: 325ms\tremaining: 184ms\n",
      "639:\tlearn: 2.5577477\ttotal: 326ms\tremaining: 183ms\n",
      "640:\tlearn: 2.5500744\ttotal: 326ms\tremaining: 183ms\n",
      "641:\tlearn: 2.5274442\ttotal: 327ms\tremaining: 182ms\n",
      "642:\tlearn: 2.5157559\ttotal: 327ms\tremaining: 182ms\n",
      "643:\tlearn: 2.5053856\ttotal: 328ms\tremaining: 181ms\n",
      "644:\tlearn: 2.4841922\ttotal: 328ms\tremaining: 181ms\n",
      "645:\tlearn: 2.4674035\ttotal: 328ms\tremaining: 180ms\n",
      "646:\tlearn: 2.4484158\ttotal: 329ms\tremaining: 179ms\n",
      "647:\tlearn: 2.4263246\ttotal: 329ms\tremaining: 179ms\n",
      "648:\tlearn: 2.4052258\ttotal: 330ms\tremaining: 178ms\n",
      "649:\tlearn: 2.3816894\ttotal: 330ms\tremaining: 178ms\n",
      "650:\tlearn: 2.3659119\ttotal: 331ms\tremaining: 177ms\n",
      "651:\tlearn: 2.3576051\ttotal: 331ms\tremaining: 177ms\n",
      "652:\tlearn: 2.3288476\ttotal: 332ms\tremaining: 176ms\n",
      "653:\tlearn: 2.3109502\ttotal: 332ms\tremaining: 176ms\n",
      "654:\tlearn: 2.3021504\ttotal: 333ms\tremaining: 175ms\n",
      "655:\tlearn: 2.3009515\ttotal: 333ms\tremaining: 175ms\n",
      "656:\tlearn: 2.2893680\ttotal: 334ms\tremaining: 174ms\n",
      "657:\tlearn: 2.2852898\ttotal: 334ms\tremaining: 174ms\n",
      "658:\tlearn: 2.2647131\ttotal: 335ms\tremaining: 173ms\n",
      "659:\tlearn: 2.2437777\ttotal: 336ms\tremaining: 173ms\n",
      "660:\tlearn: 2.2228007\ttotal: 336ms\tremaining: 172ms\n",
      "661:\tlearn: 2.2030047\ttotal: 337ms\tremaining: 172ms\n",
      "662:\tlearn: 2.1823076\ttotal: 337ms\tremaining: 171ms\n",
      "663:\tlearn: 2.1607769\ttotal: 338ms\tremaining: 171ms\n",
      "664:\tlearn: 2.1491049\ttotal: 338ms\tremaining: 170ms\n",
      "665:\tlearn: 2.1403920\ttotal: 339ms\tremaining: 170ms\n",
      "666:\tlearn: 2.1255852\ttotal: 339ms\tremaining: 169ms\n",
      "667:\tlearn: 2.1087714\ttotal: 340ms\tremaining: 169ms\n",
      "668:\tlearn: 2.1033385\ttotal: 340ms\tremaining: 168ms\n",
      "669:\tlearn: 2.0923091\ttotal: 341ms\tremaining: 168ms\n",
      "670:\tlearn: 2.0834076\ttotal: 342ms\tremaining: 167ms\n",
      "671:\tlearn: 2.0735926\ttotal: 342ms\tremaining: 167ms\n",
      "672:\tlearn: 2.0603541\ttotal: 343ms\tremaining: 166ms\n",
      "673:\tlearn: 2.0576392\ttotal: 343ms\tremaining: 166ms\n",
      "674:\tlearn: 2.0455537\ttotal: 344ms\tremaining: 165ms\n",
      "675:\tlearn: 2.0282804\ttotal: 344ms\tremaining: 165ms\n",
      "676:\tlearn: 2.0217423\ttotal: 345ms\tremaining: 164ms\n",
      "677:\tlearn: 2.0119192\ttotal: 345ms\tremaining: 164ms\n",
      "678:\tlearn: 2.0001332\ttotal: 346ms\tremaining: 163ms\n",
      "679:\tlearn: 1.9979894\ttotal: 346ms\tremaining: 163ms\n",
      "680:\tlearn: 1.9907747\ttotal: 347ms\tremaining: 162ms\n",
      "681:\tlearn: 1.9736817\ttotal: 347ms\tremaining: 162ms\n",
      "682:\tlearn: 1.9600965\ttotal: 348ms\tremaining: 161ms\n",
      "683:\tlearn: 1.9539201\ttotal: 348ms\tremaining: 161ms\n",
      "684:\tlearn: 1.9449369\ttotal: 349ms\tremaining: 160ms\n",
      "685:\tlearn: 1.9419454\ttotal: 349ms\tremaining: 160ms\n",
      "686:\tlearn: 1.9326842\ttotal: 350ms\tremaining: 159ms\n",
      "687:\tlearn: 1.9288548\ttotal: 351ms\tremaining: 159ms\n",
      "688:\tlearn: 1.9236716\ttotal: 351ms\tremaining: 159ms\n",
      "689:\tlearn: 1.9228496\ttotal: 352ms\tremaining: 158ms\n",
      "690:\tlearn: 1.9176354\ttotal: 352ms\tremaining: 158ms\n",
      "691:\tlearn: 1.9147659\ttotal: 353ms\tremaining: 157ms\n",
      "692:\tlearn: 1.9079892\ttotal: 354ms\tremaining: 157ms\n",
      "693:\tlearn: 1.9048238\ttotal: 354ms\tremaining: 156ms\n",
      "694:\tlearn: 1.8959419\ttotal: 355ms\tremaining: 156ms\n",
      "695:\tlearn: 1.8711502\ttotal: 355ms\tremaining: 155ms\n",
      "696:\tlearn: 1.8583228\ttotal: 356ms\tremaining: 155ms\n",
      "697:\tlearn: 1.8482604\ttotal: 357ms\tremaining: 154ms\n",
      "698:\tlearn: 1.8456936\ttotal: 358ms\tremaining: 154ms\n",
      "699:\tlearn: 1.8273471\ttotal: 358ms\tremaining: 154ms\n",
      "700:\tlearn: 1.8067825\ttotal: 359ms\tremaining: 153ms\n",
      "701:\tlearn: 1.8022221\ttotal: 359ms\tremaining: 152ms\n",
      "702:\tlearn: 1.7912070\ttotal: 360ms\tremaining: 152ms\n",
      "703:\tlearn: 1.7755760\ttotal: 360ms\tremaining: 151ms\n",
      "704:\tlearn: 1.7712682\ttotal: 361ms\tremaining: 151ms\n",
      "705:\tlearn: 1.7648319\ttotal: 361ms\tremaining: 150ms\n",
      "706:\tlearn: 1.7532904\ttotal: 361ms\tremaining: 150ms\n",
      "707:\tlearn: 1.7463625\ttotal: 362ms\tremaining: 149ms\n",
      "708:\tlearn: 1.7418161\ttotal: 362ms\tremaining: 149ms\n",
      "709:\tlearn: 1.7272345\ttotal: 363ms\tremaining: 148ms\n",
      "710:\tlearn: 1.7217505\ttotal: 363ms\tremaining: 148ms\n",
      "711:\tlearn: 1.7151154\ttotal: 364ms\tremaining: 147ms\n",
      "712:\tlearn: 1.7092925\ttotal: 364ms\tremaining: 147ms\n",
      "713:\tlearn: 1.7025995\ttotal: 365ms\tremaining: 146ms\n",
      "714:\tlearn: 1.6807623\ttotal: 365ms\tremaining: 146ms\n",
      "715:\tlearn: 1.6674907\ttotal: 366ms\tremaining: 145ms\n",
      "716:\tlearn: 1.6544638\ttotal: 366ms\tremaining: 145ms\n",
      "717:\tlearn: 1.6411236\ttotal: 367ms\tremaining: 144ms\n",
      "718:\tlearn: 1.6290477\ttotal: 367ms\tremaining: 144ms\n",
      "719:\tlearn: 1.6222366\ttotal: 368ms\tremaining: 143ms\n",
      "720:\tlearn: 1.6142656\ttotal: 368ms\tremaining: 143ms\n",
      "721:\tlearn: 1.6004470\ttotal: 369ms\tremaining: 142ms\n",
      "722:\tlearn: 1.5932177\ttotal: 369ms\tremaining: 141ms\n",
      "723:\tlearn: 1.5743215\ttotal: 370ms\tremaining: 141ms\n",
      "724:\tlearn: 1.5629066\ttotal: 370ms\tremaining: 140ms\n",
      "725:\tlearn: 1.5505525\ttotal: 371ms\tremaining: 140ms\n",
      "726:\tlearn: 1.5302974\ttotal: 371ms\tremaining: 139ms\n",
      "727:\tlearn: 1.5260700\ttotal: 372ms\tremaining: 139ms\n",
      "728:\tlearn: 1.5188723\ttotal: 372ms\tremaining: 138ms\n",
      "729:\tlearn: 1.5085309\ttotal: 373ms\tremaining: 138ms\n",
      "730:\tlearn: 1.5038733\ttotal: 373ms\tremaining: 137ms\n",
      "731:\tlearn: 1.5008194\ttotal: 373ms\tremaining: 137ms\n",
      "732:\tlearn: 1.4908829\ttotal: 374ms\tremaining: 136ms\n",
      "733:\tlearn: 1.4782605\ttotal: 374ms\tremaining: 136ms\n",
      "734:\tlearn: 1.4639356\ttotal: 375ms\tremaining: 135ms\n",
      "735:\tlearn: 1.4471455\ttotal: 375ms\tremaining: 135ms\n",
      "736:\tlearn: 1.4454285\ttotal: 376ms\tremaining: 134ms\n",
      "737:\tlearn: 1.4416273\ttotal: 376ms\tremaining: 134ms\n",
      "738:\tlearn: 1.4302267\ttotal: 377ms\tremaining: 133ms\n",
      "739:\tlearn: 1.4219328\ttotal: 378ms\tremaining: 133ms\n",
      "740:\tlearn: 1.4105579\ttotal: 378ms\tremaining: 132ms\n",
      "741:\tlearn: 1.4075838\ttotal: 379ms\tremaining: 132ms\n",
      "742:\tlearn: 1.4017014\ttotal: 379ms\tremaining: 131ms\n",
      "743:\tlearn: 1.3974208\ttotal: 380ms\tremaining: 131ms\n",
      "744:\tlearn: 1.3862572\ttotal: 380ms\tremaining: 130ms\n",
      "745:\tlearn: 1.3729360\ttotal: 380ms\tremaining: 130ms\n",
      "746:\tlearn: 1.3630904\ttotal: 381ms\tremaining: 129ms\n",
      "747:\tlearn: 1.3477583\ttotal: 381ms\tremaining: 128ms\n",
      "748:\tlearn: 1.3348270\ttotal: 382ms\tremaining: 128ms\n",
      "749:\tlearn: 1.3236754\ttotal: 382ms\tremaining: 127ms\n",
      "750:\tlearn: 1.3171961\ttotal: 383ms\tremaining: 127ms\n",
      "751:\tlearn: 1.3113457\ttotal: 383ms\tremaining: 126ms\n",
      "752:\tlearn: 1.3036391\ttotal: 384ms\tremaining: 126ms\n",
      "753:\tlearn: 1.2935829\ttotal: 384ms\tremaining: 125ms\n",
      "754:\tlearn: 1.2837612\ttotal: 385ms\tremaining: 125ms\n",
      "755:\tlearn: 1.2768260\ttotal: 385ms\tremaining: 124ms\n",
      "756:\tlearn: 1.2689370\ttotal: 386ms\tremaining: 124ms\n",
      "757:\tlearn: 1.2561567\ttotal: 386ms\tremaining: 123ms\n",
      "758:\tlearn: 1.2475100\ttotal: 387ms\tremaining: 123ms\n",
      "759:\tlearn: 1.2405978\ttotal: 387ms\tremaining: 122ms\n",
      "760:\tlearn: 1.2342628\ttotal: 388ms\tremaining: 122ms\n",
      "761:\tlearn: 1.2271880\ttotal: 388ms\tremaining: 121ms\n",
      "762:\tlearn: 1.2138527\ttotal: 389ms\tremaining: 121ms\n",
      "763:\tlearn: 1.2076889\ttotal: 389ms\tremaining: 120ms\n",
      "764:\tlearn: 1.2041847\ttotal: 390ms\tremaining: 120ms\n",
      "765:\tlearn: 1.1970019\ttotal: 390ms\tremaining: 119ms\n",
      "766:\tlearn: 1.1892878\ttotal: 391ms\tremaining: 119ms\n",
      "767:\tlearn: 1.1858432\ttotal: 391ms\tremaining: 118ms\n",
      "768:\tlearn: 1.1746182\ttotal: 392ms\tremaining: 118ms\n",
      "769:\tlearn: 1.1694876\ttotal: 392ms\tremaining: 117ms\n",
      "770:\tlearn: 1.1657055\ttotal: 393ms\tremaining: 117ms\n",
      "771:\tlearn: 1.1556043\ttotal: 393ms\tremaining: 116ms\n",
      "772:\tlearn: 1.1540774\ttotal: 394ms\tremaining: 116ms\n",
      "773:\tlearn: 1.1473715\ttotal: 394ms\tremaining: 115ms\n",
      "774:\tlearn: 1.1419763\ttotal: 395ms\tremaining: 115ms\n",
      "775:\tlearn: 1.1303590\ttotal: 395ms\tremaining: 114ms\n",
      "776:\tlearn: 1.1230587\ttotal: 396ms\tremaining: 114ms\n",
      "777:\tlearn: 1.1143917\ttotal: 396ms\tremaining: 113ms\n",
      "778:\tlearn: 1.1112687\ttotal: 396ms\tremaining: 112ms\n",
      "779:\tlearn: 1.1009863\ttotal: 397ms\tremaining: 112ms\n",
      "780:\tlearn: 1.0899260\ttotal: 397ms\tremaining: 111ms\n",
      "781:\tlearn: 1.0855158\ttotal: 398ms\tremaining: 111ms\n",
      "782:\tlearn: 1.0808031\ttotal: 398ms\tremaining: 110ms\n",
      "783:\tlearn: 1.0763884\ttotal: 399ms\tremaining: 110ms\n",
      "784:\tlearn: 1.0710758\ttotal: 399ms\tremaining: 109ms\n",
      "785:\tlearn: 1.0634482\ttotal: 400ms\tremaining: 109ms\n",
      "786:\tlearn: 1.0529874\ttotal: 400ms\tremaining: 108ms\n",
      "787:\tlearn: 1.0501903\ttotal: 401ms\tremaining: 108ms\n",
      "788:\tlearn: 1.0410587\ttotal: 401ms\tremaining: 107ms\n",
      "789:\tlearn: 1.0386261\ttotal: 402ms\tremaining: 107ms\n",
      "790:\tlearn: 1.0351082\ttotal: 402ms\tremaining: 106ms\n",
      "791:\tlearn: 1.0320987\ttotal: 403ms\tremaining: 106ms\n",
      "792:\tlearn: 1.0294915\ttotal: 403ms\tremaining: 105ms\n",
      "793:\tlearn: 1.0233284\ttotal: 404ms\tremaining: 105ms\n",
      "794:\tlearn: 1.0176815\ttotal: 405ms\tremaining: 104ms\n",
      "795:\tlearn: 1.0074411\ttotal: 405ms\tremaining: 104ms\n",
      "796:\tlearn: 1.0020197\ttotal: 406ms\tremaining: 103ms\n",
      "797:\tlearn: 0.9989044\ttotal: 406ms\tremaining: 103ms\n",
      "798:\tlearn: 0.9937483\ttotal: 407ms\tremaining: 102ms\n",
      "799:\tlearn: 0.9867329\ttotal: 407ms\tremaining: 102ms\n",
      "800:\tlearn: 0.9819829\ttotal: 408ms\tremaining: 101ms\n",
      "801:\tlearn: 0.9777514\ttotal: 408ms\tremaining: 101ms\n",
      "802:\tlearn: 0.9757462\ttotal: 409ms\tremaining: 100ms\n",
      "803:\tlearn: 0.9702440\ttotal: 409ms\tremaining: 99.7ms\n",
      "804:\tlearn: 0.9636471\ttotal: 410ms\tremaining: 99.2ms\n",
      "805:\tlearn: 0.9548362\ttotal: 410ms\tremaining: 98.7ms\n",
      "806:\tlearn: 0.9470745\ttotal: 410ms\tremaining: 98.2ms\n",
      "807:\tlearn: 0.9408578\ttotal: 411ms\tremaining: 97.7ms\n",
      "808:\tlearn: 0.9350692\ttotal: 411ms\tremaining: 97.2ms\n",
      "809:\tlearn: 0.9290967\ttotal: 412ms\tremaining: 96.6ms\n",
      "810:\tlearn: 0.9267158\ttotal: 412ms\tremaining: 96.1ms\n",
      "811:\tlearn: 0.9235794\ttotal: 413ms\tremaining: 95.6ms\n",
      "812:\tlearn: 0.9226084\ttotal: 413ms\tremaining: 95.1ms\n",
      "813:\tlearn: 0.9139012\ttotal: 414ms\tremaining: 94.6ms\n",
      "814:\tlearn: 0.9073690\ttotal: 414ms\tremaining: 94ms\n",
      "815:\tlearn: 0.9024018\ttotal: 415ms\tremaining: 93.5ms\n",
      "816:\tlearn: 0.9001693\ttotal: 415ms\tremaining: 93ms\n",
      "817:\tlearn: 0.8970481\ttotal: 416ms\tremaining: 92.5ms\n",
      "818:\tlearn: 0.8907494\ttotal: 416ms\tremaining: 92ms\n",
      "819:\tlearn: 0.8886718\ttotal: 417ms\tremaining: 91.4ms\n",
      "820:\tlearn: 0.8869259\ttotal: 417ms\tremaining: 90.9ms\n",
      "821:\tlearn: 0.8804683\ttotal: 417ms\tremaining: 90.4ms\n",
      "822:\tlearn: 0.8666371\ttotal: 418ms\tremaining: 89.9ms\n",
      "823:\tlearn: 0.8659600\ttotal: 418ms\tremaining: 89.4ms\n",
      "824:\tlearn: 0.8604612\ttotal: 419ms\tremaining: 88.9ms\n",
      "825:\tlearn: 0.8544955\ttotal: 419ms\tremaining: 88.4ms\n",
      "826:\tlearn: 0.8496739\ttotal: 420ms\tremaining: 87.9ms\n",
      "827:\tlearn: 0.8420906\ttotal: 421ms\tremaining: 87.4ms\n",
      "828:\tlearn: 0.8398457\ttotal: 421ms\tremaining: 86.9ms\n",
      "829:\tlearn: 0.8358570\ttotal: 422ms\tremaining: 86.4ms\n",
      "830:\tlearn: 0.8293211\ttotal: 422ms\tremaining: 85.9ms\n",
      "831:\tlearn: 0.8236188\ttotal: 423ms\tremaining: 85.4ms\n",
      "832:\tlearn: 0.8175017\ttotal: 423ms\tremaining: 84.9ms\n",
      "833:\tlearn: 0.8128315\ttotal: 424ms\tremaining: 84.4ms\n",
      "834:\tlearn: 0.8096197\ttotal: 425ms\tremaining: 83.9ms\n",
      "835:\tlearn: 0.8027133\ttotal: 425ms\tremaining: 83.4ms\n",
      "836:\tlearn: 0.7987555\ttotal: 426ms\tremaining: 82.9ms\n",
      "837:\tlearn: 0.7928141\ttotal: 426ms\tremaining: 82.4ms\n",
      "838:\tlearn: 0.7897563\ttotal: 427ms\tremaining: 81.9ms\n",
      "839:\tlearn: 0.7876758\ttotal: 427ms\tremaining: 81.4ms\n",
      "840:\tlearn: 0.7777598\ttotal: 428ms\tremaining: 80.8ms\n",
      "841:\tlearn: 0.7767597\ttotal: 428ms\tremaining: 80.3ms\n",
      "842:\tlearn: 0.7665043\ttotal: 429ms\tremaining: 79.8ms\n",
      "843:\tlearn: 0.7626478\ttotal: 429ms\tremaining: 79.3ms\n",
      "844:\tlearn: 0.7540439\ttotal: 430ms\tremaining: 78.8ms\n",
      "845:\tlearn: 0.7508537\ttotal: 430ms\tremaining: 78.3ms\n",
      "846:\tlearn: 0.7459152\ttotal: 431ms\tremaining: 77.8ms\n",
      "847:\tlearn: 0.7447900\ttotal: 431ms\tremaining: 77.3ms\n",
      "848:\tlearn: 0.7418475\ttotal: 432ms\tremaining: 76.7ms\n",
      "849:\tlearn: 0.7379949\ttotal: 432ms\tremaining: 76.2ms\n",
      "850:\tlearn: 0.7369054\ttotal: 432ms\tremaining: 75.7ms\n",
      "851:\tlearn: 0.7327236\ttotal: 433ms\tremaining: 75.2ms\n",
      "852:\tlearn: 0.7311790\ttotal: 433ms\tremaining: 74.7ms\n",
      "853:\tlearn: 0.7226495\ttotal: 434ms\tremaining: 74.2ms\n",
      "854:\tlearn: 0.7168390\ttotal: 434ms\tremaining: 73.7ms\n",
      "855:\tlearn: 0.7117890\ttotal: 435ms\tremaining: 73.1ms\n",
      "856:\tlearn: 0.7040100\ttotal: 435ms\tremaining: 72.6ms\n",
      "857:\tlearn: 0.6960021\ttotal: 436ms\tremaining: 72.1ms\n",
      "858:\tlearn: 0.6920263\ttotal: 436ms\tremaining: 71.6ms\n",
      "859:\tlearn: 0.6853317\ttotal: 437ms\tremaining: 71.1ms\n",
      "860:\tlearn: 0.6805108\ttotal: 437ms\tremaining: 70.6ms\n",
      "861:\tlearn: 0.6771728\ttotal: 438ms\tremaining: 70.1ms\n",
      "862:\tlearn: 0.6708199\ttotal: 438ms\tremaining: 69.6ms\n",
      "863:\tlearn: 0.6689468\ttotal: 439ms\tremaining: 69ms\n",
      "864:\tlearn: 0.6647579\ttotal: 439ms\tremaining: 68.5ms\n",
      "865:\tlearn: 0.6587745\ttotal: 440ms\tremaining: 68ms\n",
      "866:\tlearn: 0.6549437\ttotal: 440ms\tremaining: 67.5ms\n",
      "867:\tlearn: 0.6484944\ttotal: 441ms\tremaining: 67ms\n",
      "868:\tlearn: 0.6455316\ttotal: 441ms\tremaining: 66.5ms\n",
      "869:\tlearn: 0.6420739\ttotal: 442ms\tremaining: 66ms\n",
      "870:\tlearn: 0.6375667\ttotal: 442ms\tremaining: 65.5ms\n",
      "871:\tlearn: 0.6358236\ttotal: 442ms\tremaining: 64.9ms\n",
      "872:\tlearn: 0.6320335\ttotal: 443ms\tremaining: 64.4ms\n",
      "873:\tlearn: 0.6288025\ttotal: 443ms\tremaining: 63.9ms\n",
      "874:\tlearn: 0.6243292\ttotal: 444ms\tremaining: 63.4ms\n",
      "875:\tlearn: 0.6165696\ttotal: 445ms\tremaining: 62.9ms\n",
      "876:\tlearn: 0.6128782\ttotal: 445ms\tremaining: 62.4ms\n",
      "877:\tlearn: 0.6057460\ttotal: 446ms\tremaining: 61.9ms\n",
      "878:\tlearn: 0.6048833\ttotal: 446ms\tremaining: 61.4ms\n",
      "879:\tlearn: 0.5984637\ttotal: 447ms\tremaining: 60.9ms\n",
      "880:\tlearn: 0.5935168\ttotal: 448ms\tremaining: 60.4ms\n",
      "881:\tlearn: 0.5892604\ttotal: 448ms\tremaining: 60ms\n",
      "882:\tlearn: 0.5846504\ttotal: 449ms\tremaining: 59.5ms\n",
      "883:\tlearn: 0.5814985\ttotal: 449ms\tremaining: 58.9ms\n",
      "884:\tlearn: 0.5778053\ttotal: 450ms\tremaining: 58.4ms\n",
      "885:\tlearn: 0.5739896\ttotal: 450ms\tremaining: 57.9ms\n",
      "886:\tlearn: 0.5729847\ttotal: 451ms\tremaining: 57.4ms\n",
      "887:\tlearn: 0.5724598\ttotal: 451ms\tremaining: 56.9ms\n",
      "888:\tlearn: 0.5718988\ttotal: 452ms\tremaining: 56.4ms\n",
      "889:\tlearn: 0.5672314\ttotal: 452ms\tremaining: 55.9ms\n",
      "890:\tlearn: 0.5659035\ttotal: 453ms\tremaining: 55.4ms\n",
      "891:\tlearn: 0.5587131\ttotal: 453ms\tremaining: 54.9ms\n",
      "892:\tlearn: 0.5562858\ttotal: 454ms\tremaining: 54.3ms\n",
      "893:\tlearn: 0.5555127\ttotal: 454ms\tremaining: 53.8ms\n",
      "894:\tlearn: 0.5527685\ttotal: 455ms\tremaining: 53.3ms\n",
      "895:\tlearn: 0.5499500\ttotal: 455ms\tremaining: 52.8ms\n",
      "896:\tlearn: 0.5456148\ttotal: 456ms\tremaining: 52.3ms\n",
      "897:\tlearn: 0.5403285\ttotal: 456ms\tremaining: 51.8ms\n",
      "898:\tlearn: 0.5377774\ttotal: 457ms\tremaining: 51.3ms\n",
      "899:\tlearn: 0.5371353\ttotal: 457ms\tremaining: 50.8ms\n",
      "900:\tlearn: 0.5332613\ttotal: 458ms\tremaining: 50.3ms\n",
      "901:\tlearn: 0.5289379\ttotal: 458ms\tremaining: 49.8ms\n",
      "902:\tlearn: 0.5277948\ttotal: 459ms\tremaining: 49.3ms\n",
      "903:\tlearn: 0.5229979\ttotal: 459ms\tremaining: 48.8ms\n",
      "904:\tlearn: 0.5176545\ttotal: 460ms\tremaining: 48.3ms\n",
      "905:\tlearn: 0.5167566\ttotal: 460ms\tremaining: 47.8ms\n",
      "906:\tlearn: 0.5163313\ttotal: 461ms\tremaining: 47.3ms\n",
      "907:\tlearn: 0.5116777\ttotal: 461ms\tremaining: 46.8ms\n",
      "908:\tlearn: 0.5097952\ttotal: 462ms\tremaining: 46.2ms\n",
      "909:\tlearn: 0.5071290\ttotal: 462ms\tremaining: 45.7ms\n",
      "910:\tlearn: 0.5049191\ttotal: 463ms\tremaining: 45.2ms\n",
      "911:\tlearn: 0.5018383\ttotal: 463ms\tremaining: 44.7ms\n",
      "912:\tlearn: 0.5007466\ttotal: 464ms\tremaining: 44.2ms\n",
      "913:\tlearn: 0.4998771\ttotal: 464ms\tremaining: 43.7ms\n",
      "914:\tlearn: 0.4954624\ttotal: 465ms\tremaining: 43.2ms\n",
      "915:\tlearn: 0.4942071\ttotal: 465ms\tremaining: 42.7ms\n",
      "916:\tlearn: 0.4893003\ttotal: 466ms\tremaining: 42.1ms\n",
      "917:\tlearn: 0.4870233\ttotal: 466ms\tremaining: 41.6ms\n",
      "918:\tlearn: 0.4830379\ttotal: 467ms\tremaining: 41.1ms\n",
      "919:\tlearn: 0.4753426\ttotal: 467ms\tremaining: 40.6ms\n",
      "920:\tlearn: 0.4730706\ttotal: 468ms\tremaining: 40.1ms\n",
      "921:\tlearn: 0.4679650\ttotal: 468ms\tremaining: 39.6ms\n",
      "922:\tlearn: 0.4651630\ttotal: 469ms\tremaining: 39.1ms\n",
      "923:\tlearn: 0.4634313\ttotal: 469ms\tremaining: 38.6ms\n",
      "924:\tlearn: 0.4607284\ttotal: 469ms\tremaining: 38.1ms\n",
      "925:\tlearn: 0.4589159\ttotal: 470ms\tremaining: 37.6ms\n",
      "926:\tlearn: 0.4532169\ttotal: 470ms\tremaining: 37ms\n",
      "927:\tlearn: 0.4509932\ttotal: 471ms\tremaining: 36.5ms\n",
      "928:\tlearn: 0.4506088\ttotal: 471ms\tremaining: 36ms\n",
      "929:\tlearn: 0.4501478\ttotal: 472ms\tremaining: 35.5ms\n",
      "930:\tlearn: 0.4490581\ttotal: 472ms\tremaining: 35ms\n",
      "931:\tlearn: 0.4447316\ttotal: 473ms\tremaining: 34.5ms\n",
      "932:\tlearn: 0.4415148\ttotal: 473ms\tremaining: 34ms\n",
      "933:\tlearn: 0.4391051\ttotal: 474ms\tremaining: 33.5ms\n",
      "934:\tlearn: 0.4357356\ttotal: 474ms\tremaining: 32.9ms\n",
      "935:\tlearn: 0.4323983\ttotal: 474ms\tremaining: 32.4ms\n",
      "936:\tlearn: 0.4302143\ttotal: 475ms\tremaining: 31.9ms\n",
      "937:\tlearn: 0.4289117\ttotal: 475ms\tremaining: 31.4ms\n",
      "938:\tlearn: 0.4284339\ttotal: 476ms\tremaining: 30.9ms\n",
      "939:\tlearn: 0.4244107\ttotal: 476ms\tremaining: 30.4ms\n",
      "940:\tlearn: 0.4237451\ttotal: 477ms\tremaining: 29.9ms\n",
      "941:\tlearn: 0.4215386\ttotal: 477ms\tremaining: 29.4ms\n",
      "942:\tlearn: 0.4180705\ttotal: 478ms\tremaining: 28.9ms\n",
      "943:\tlearn: 0.4154760\ttotal: 478ms\tremaining: 28.4ms\n",
      "944:\tlearn: 0.4124859\ttotal: 479ms\tremaining: 27.9ms\n",
      "945:\tlearn: 0.4119886\ttotal: 479ms\tremaining: 27.4ms\n",
      "946:\tlearn: 0.4115906\ttotal: 480ms\tremaining: 26.8ms\n",
      "947:\tlearn: 0.4081974\ttotal: 480ms\tremaining: 26.3ms\n",
      "948:\tlearn: 0.4064530\ttotal: 481ms\tremaining: 25.8ms\n",
      "949:\tlearn: 0.4040915\ttotal: 481ms\tremaining: 25.3ms\n",
      "950:\tlearn: 0.4008861\ttotal: 482ms\tremaining: 24.8ms\n",
      "951:\tlearn: 0.3970913\ttotal: 482ms\tremaining: 24.3ms\n",
      "952:\tlearn: 0.3943258\ttotal: 483ms\tremaining: 23.8ms\n",
      "953:\tlearn: 0.3926270\ttotal: 484ms\tremaining: 23.3ms\n",
      "954:\tlearn: 0.3909448\ttotal: 484ms\tremaining: 22.8ms\n",
      "955:\tlearn: 0.3887707\ttotal: 484ms\tremaining: 22.3ms\n",
      "956:\tlearn: 0.3868345\ttotal: 485ms\tremaining: 21.8ms\n",
      "957:\tlearn: 0.3839349\ttotal: 485ms\tremaining: 21.3ms\n",
      "958:\tlearn: 0.3808497\ttotal: 486ms\tremaining: 20.8ms\n",
      "959:\tlearn: 0.3779283\ttotal: 486ms\tremaining: 20.3ms\n",
      "960:\tlearn: 0.3755090\ttotal: 487ms\tremaining: 19.8ms\n",
      "961:\tlearn: 0.3734292\ttotal: 488ms\tremaining: 19.3ms\n",
      "962:\tlearn: 0.3731558\ttotal: 488ms\tremaining: 18.8ms\n",
      "963:\tlearn: 0.3716642\ttotal: 488ms\tremaining: 18.2ms\n",
      "964:\tlearn: 0.3700879\ttotal: 489ms\tremaining: 17.7ms\n",
      "965:\tlearn: 0.3676034\ttotal: 490ms\tremaining: 17.2ms\n",
      "966:\tlearn: 0.3640425\ttotal: 490ms\tremaining: 16.7ms\n",
      "967:\tlearn: 0.3632495\ttotal: 491ms\tremaining: 16.2ms\n",
      "968:\tlearn: 0.3603878\ttotal: 491ms\tremaining: 15.7ms\n",
      "969:\tlearn: 0.3584398\ttotal: 492ms\tremaining: 15.2ms\n",
      "970:\tlearn: 0.3560019\ttotal: 492ms\tremaining: 14.7ms\n",
      "971:\tlearn: 0.3535719\ttotal: 493ms\tremaining: 14.2ms\n",
      "972:\tlearn: 0.3518950\ttotal: 493ms\tremaining: 13.7ms\n",
      "973:\tlearn: 0.3479039\ttotal: 494ms\tremaining: 13.2ms\n",
      "974:\tlearn: 0.3463938\ttotal: 494ms\tremaining: 12.7ms\n",
      "975:\tlearn: 0.3433932\ttotal: 495ms\tremaining: 12.2ms\n",
      "976:\tlearn: 0.3410148\ttotal: 495ms\tremaining: 11.7ms\n",
      "977:\tlearn: 0.3393532\ttotal: 496ms\tremaining: 11.2ms\n",
      "978:\tlearn: 0.3373067\ttotal: 496ms\tremaining: 10.6ms\n",
      "979:\tlearn: 0.3359122\ttotal: 497ms\tremaining: 10.1ms\n",
      "980:\tlearn: 0.3340848\ttotal: 498ms\tremaining: 9.64ms\n",
      "981:\tlearn: 0.3331220\ttotal: 498ms\tremaining: 9.13ms\n",
      "982:\tlearn: 0.3308795\ttotal: 499ms\tremaining: 8.63ms\n",
      "983:\tlearn: 0.3288012\ttotal: 500ms\tremaining: 8.12ms\n",
      "984:\tlearn: 0.3271648\ttotal: 500ms\tremaining: 7.62ms\n",
      "985:\tlearn: 0.3246514\ttotal: 501ms\tremaining: 7.11ms\n",
      "986:\tlearn: 0.3218383\ttotal: 501ms\tremaining: 6.6ms\n",
      "987:\tlearn: 0.3206535\ttotal: 502ms\tremaining: 6.09ms\n",
      "988:\tlearn: 0.3190063\ttotal: 502ms\tremaining: 5.59ms\n",
      "989:\tlearn: 0.3176250\ttotal: 503ms\tremaining: 5.08ms\n",
      "990:\tlearn: 0.3146329\ttotal: 503ms\tremaining: 4.57ms\n",
      "991:\tlearn: 0.3130835\ttotal: 504ms\tremaining: 4.06ms\n",
      "992:\tlearn: 0.3107534\ttotal: 504ms\tremaining: 3.56ms\n",
      "993:\tlearn: 0.3089626\ttotal: 505ms\tremaining: 3.05ms\n",
      "994:\tlearn: 0.3080205\ttotal: 506ms\tremaining: 2.54ms\n",
      "995:\tlearn: 0.3055692\ttotal: 506ms\tremaining: 2.03ms\n",
      "996:\tlearn: 0.3035687\ttotal: 507ms\tremaining: 1.52ms\n",
      "997:\tlearn: 0.3019582\ttotal: 508ms\tremaining: 1.02ms\n",
      "998:\tlearn: 0.3000480\ttotal: 508ms\tremaining: 508us\n",
      "999:\tlearn: 0.2971131\ttotal: 509ms\tremaining: 0us\n"
     ]
    },
    {
     "data": {
      "text/html": [
       "<style>#sk-container-id-14 {color: black;}#sk-container-id-14 pre{padding: 0;}#sk-container-id-14 div.sk-toggleable {background-color: white;}#sk-container-id-14 label.sk-toggleable__label {cursor: pointer;display: block;width: 100%;margin-bottom: 0;padding: 0.3em;box-sizing: border-box;text-align: center;}#sk-container-id-14 label.sk-toggleable__label-arrow:before {content: \"▸\";float: left;margin-right: 0.25em;color: #696969;}#sk-container-id-14 label.sk-toggleable__label-arrow:hover:before {color: black;}#sk-container-id-14 div.sk-estimator:hover label.sk-toggleable__label-arrow:before {color: black;}#sk-container-id-14 div.sk-toggleable__content {max-height: 0;max-width: 0;overflow: hidden;text-align: left;background-color: #f0f8ff;}#sk-container-id-14 div.sk-toggleable__content pre {margin: 0.2em;color: black;border-radius: 0.25em;background-color: #f0f8ff;}#sk-container-id-14 input.sk-toggleable__control:checked~div.sk-toggleable__content {max-height: 200px;max-width: 100%;overflow: auto;}#sk-container-id-14 input.sk-toggleable__control:checked~label.sk-toggleable__label-arrow:before {content: \"▾\";}#sk-container-id-14 div.sk-estimator input.sk-toggleable__control:checked~label.sk-toggleable__label {background-color: #d4ebff;}#sk-container-id-14 div.sk-label input.sk-toggleable__control:checked~label.sk-toggleable__label {background-color: #d4ebff;}#sk-container-id-14 input.sk-hidden--visually {border: 0;clip: rect(1px 1px 1px 1px);clip: rect(1px, 1px, 1px, 1px);height: 1px;margin: -1px;overflow: hidden;padding: 0;position: absolute;width: 1px;}#sk-container-id-14 div.sk-estimator {font-family: monospace;background-color: #f0f8ff;border: 1px dotted black;border-radius: 0.25em;box-sizing: border-box;margin-bottom: 0.5em;}#sk-container-id-14 div.sk-estimator:hover {background-color: #d4ebff;}#sk-container-id-14 div.sk-parallel-item::after {content: \"\";width: 100%;border-bottom: 1px solid gray;flex-grow: 1;}#sk-container-id-14 div.sk-label:hover label.sk-toggleable__label {background-color: #d4ebff;}#sk-container-id-14 div.sk-serial::before {content: \"\";position: absolute;border-left: 1px solid gray;box-sizing: border-box;top: 0;bottom: 0;left: 50%;z-index: 0;}#sk-container-id-14 div.sk-serial {display: flex;flex-direction: column;align-items: center;background-color: white;padding-right: 0.2em;padding-left: 0.2em;position: relative;}#sk-container-id-14 div.sk-item {position: relative;z-index: 1;}#sk-container-id-14 div.sk-parallel {display: flex;align-items: stretch;justify-content: center;background-color: white;position: relative;}#sk-container-id-14 div.sk-item::before, #sk-container-id-14 div.sk-parallel-item::before {content: \"\";position: absolute;border-left: 1px solid gray;box-sizing: border-box;top: 0;bottom: 0;left: 50%;z-index: -1;}#sk-container-id-14 div.sk-parallel-item {display: flex;flex-direction: column;z-index: 1;position: relative;background-color: white;}#sk-container-id-14 div.sk-parallel-item:first-child::after {align-self: flex-end;width: 50%;}#sk-container-id-14 div.sk-parallel-item:last-child::after {align-self: flex-start;width: 50%;}#sk-container-id-14 div.sk-parallel-item:only-child::after {width: 0;}#sk-container-id-14 div.sk-dashed-wrapped {border: 1px dashed gray;margin: 0 0.4em 0.5em 0.4em;box-sizing: border-box;padding-bottom: 0.4em;background-color: white;}#sk-container-id-14 div.sk-label label {font-family: monospace;font-weight: bold;display: inline-block;line-height: 1.2em;}#sk-container-id-14 div.sk-label-container {text-align: center;}#sk-container-id-14 div.sk-container {/* jupyter's `normalize.less` sets `[hidden] { display: none; }` but bootstrap.min.css set `[hidden] { display: none !important; }` so we also need the `!important` here to be able to override the default hidden behavior on the sphinx rendered scikit-learn.org. See: https://github.com/scikit-learn/scikit-learn/issues/21755 */display: inline-block !important;position: relative;}#sk-container-id-14 div.sk-text-repr-fallback {display: none;}</style><div id=\"sk-container-id-14\" class=\"sk-top-container\"><div class=\"sk-text-repr-fallback\"><pre>GridSearchCV(cv=5,\n",
       "             estimator=&lt;catboost.core.CatBoostRegressor object at 0x000001D5DB898110&gt;,\n",
       "             n_jobs=-1,\n",
       "             param_grid={&#x27;depth&#x27;: [3, 4, 5, 6, 7, 8],\n",
       "                         &#x27;iterations&#x27;: [200, 500, 1000, 2000],\n",
       "                         &#x27;learning_rate&#x27;: [0.01, 0.03, 0.05, 0.08, 0.1]},\n",
       "             verbose=2)</pre><b>In a Jupyter environment, please rerun this cell to show the HTML representation or trust the notebook. <br />On GitHub, the HTML representation is unable to render, please try loading this page with nbviewer.org.</b></div><div class=\"sk-container\" hidden><div class=\"sk-item sk-dashed-wrapped\"><div class=\"sk-label-container\"><div class=\"sk-label sk-toggleable\"><input class=\"sk-toggleable__control sk-hidden--visually\" id=\"sk-estimator-id-20\" type=\"checkbox\" ><label for=\"sk-estimator-id-20\" class=\"sk-toggleable__label sk-toggleable__label-arrow\">GridSearchCV</label><div class=\"sk-toggleable__content\"><pre>GridSearchCV(cv=5,\n",
       "             estimator=&lt;catboost.core.CatBoostRegressor object at 0x000001D5DB898110&gt;,\n",
       "             n_jobs=-1,\n",
       "             param_grid={&#x27;depth&#x27;: [3, 4, 5, 6, 7, 8],\n",
       "                         &#x27;iterations&#x27;: [200, 500, 1000, 2000],\n",
       "                         &#x27;learning_rate&#x27;: [0.01, 0.03, 0.05, 0.08, 0.1]},\n",
       "             verbose=2)</pre></div></div></div><div class=\"sk-parallel\"><div class=\"sk-parallel-item\"><div class=\"sk-item\"><div class=\"sk-label-container\"><div class=\"sk-label sk-toggleable\"><input class=\"sk-toggleable__control sk-hidden--visually\" id=\"sk-estimator-id-21\" type=\"checkbox\" ><label for=\"sk-estimator-id-21\" class=\"sk-toggleable__label sk-toggleable__label-arrow\">estimator: CatBoostRegressor</label><div class=\"sk-toggleable__content\"><pre>&lt;catboost.core.CatBoostRegressor object at 0x000001D5DB898110&gt;</pre></div></div></div><div class=\"sk-serial\"><div class=\"sk-item\"><div class=\"sk-estimator sk-toggleable\"><input class=\"sk-toggleable__control sk-hidden--visually\" id=\"sk-estimator-id-22\" type=\"checkbox\" ><label for=\"sk-estimator-id-22\" class=\"sk-toggleable__label sk-toggleable__label-arrow\">CatBoostRegressor</label><div class=\"sk-toggleable__content\"><pre>&lt;catboost.core.CatBoostRegressor object at 0x000001D5DB898110&gt;</pre></div></div></div></div></div></div></div></div></div></div>"
      ],
      "text/plain": [
       "GridSearchCV(cv=5,\n",
       "             estimator=<catboost.core.CatBoostRegressor object at 0x000001D5DB898110>,\n",
       "             n_jobs=-1,\n",
       "             param_grid={'depth': [3, 4, 5, 6, 7, 8],\n",
       "                         'iterations': [200, 500, 1000, 2000],\n",
       "                         'learning_rate': [0.01, 0.03, 0.05, 0.08, 0.1]},\n",
       "             verbose=2)"
      ]
     },
     "execution_count": 101,
     "metadata": {},
     "output_type": "execute_result"
    }
   ],
   "source": [
    "catb_cv_model.fit(X_train, y_train)"
   ]
  },
  {
   "cell_type": "code",
   "execution_count": 102,
   "id": "08061af8-8793-438c-a769-f7e3869884bf",
   "metadata": {},
   "outputs": [
    {
     "data": {
      "text/plain": [
       "{'depth': 5, 'iterations': 1000, 'learning_rate': 0.1}"
      ]
     },
     "execution_count": 102,
     "metadata": {},
     "output_type": "execute_result"
    }
   ],
   "source": [
    "catb_cv_model.best_params_"
   ]
  },
  {
   "cell_type": "code",
   "execution_count": 103,
   "id": "0ad8ada6-81af-4b9a-ad68-1b6dd4abc01d",
   "metadata": {
    "collapsed": true,
    "jupyter": {
     "outputs_hidden": true
    },
    "tags": []
   },
   "outputs": [
    {
     "name": "stdout",
     "output_type": "stream",
     "text": [
      "0:\tlearn: 422.4143448\ttotal: 1.05ms\tremaining: 1.05s\n",
      "1:\tlearn: 404.1864276\ttotal: 1.82ms\tremaining: 911ms\n",
      "2:\tlearn: 386.3231718\ttotal: 2.33ms\tremaining: 775ms\n",
      "3:\tlearn: 370.5548032\ttotal: 2.94ms\tremaining: 731ms\n",
      "4:\tlearn: 354.9242038\ttotal: 3.63ms\tremaining: 722ms\n",
      "5:\tlearn: 342.3403984\ttotal: 4.16ms\tremaining: 690ms\n",
      "6:\tlearn: 328.2370070\ttotal: 4.7ms\tremaining: 666ms\n",
      "7:\tlearn: 317.5056526\ttotal: 5.23ms\tremaining: 649ms\n",
      "8:\tlearn: 306.6243511\ttotal: 5.74ms\tremaining: 633ms\n",
      "9:\tlearn: 297.3147023\ttotal: 6.25ms\tremaining: 619ms\n",
      "10:\tlearn: 288.3685892\ttotal: 6.75ms\tremaining: 607ms\n",
      "11:\tlearn: 281.0996220\ttotal: 7.21ms\tremaining: 593ms\n",
      "12:\tlearn: 273.2254898\ttotal: 7.7ms\tremaining: 585ms\n",
      "13:\tlearn: 266.9003385\ttotal: 8.57ms\tremaining: 604ms\n",
      "14:\tlearn: 261.9092500\ttotal: 9.03ms\tremaining: 593ms\n",
      "15:\tlearn: 256.2637350\ttotal: 9.83ms\tremaining: 604ms\n",
      "16:\tlearn: 250.3667935\ttotal: 10.3ms\tremaining: 596ms\n",
      "17:\tlearn: 244.8631098\ttotal: 10.8ms\tremaining: 589ms\n",
      "18:\tlearn: 240.1540669\ttotal: 11.3ms\tremaining: 583ms\n",
      "19:\tlearn: 235.6057263\ttotal: 11.9ms\tremaining: 584ms\n",
      "20:\tlearn: 231.2431102\ttotal: 12.4ms\tremaining: 579ms\n",
      "21:\tlearn: 226.4912464\ttotal: 12.9ms\tremaining: 573ms\n",
      "22:\tlearn: 223.5591707\ttotal: 13.2ms\tremaining: 559ms\n",
      "23:\tlearn: 219.6098928\ttotal: 13.6ms\tremaining: 554ms\n",
      "24:\tlearn: 215.3653069\ttotal: 14.2ms\tremaining: 552ms\n",
      "25:\tlearn: 212.0589058\ttotal: 14.6ms\tremaining: 547ms\n",
      "26:\tlearn: 209.7717728\ttotal: 15ms\tremaining: 542ms\n",
      "27:\tlearn: 206.4800180\ttotal: 15.5ms\tremaining: 540ms\n",
      "28:\tlearn: 204.4998286\ttotal: 16.2ms\tremaining: 542ms\n",
      "29:\tlearn: 202.5999376\ttotal: 16.8ms\tremaining: 543ms\n",
      "30:\tlearn: 199.5099986\ttotal: 17.3ms\tremaining: 539ms\n",
      "31:\tlearn: 196.9435690\ttotal: 17.7ms\tremaining: 537ms\n",
      "32:\tlearn: 194.9855023\ttotal: 18.3ms\tremaining: 535ms\n",
      "33:\tlearn: 193.0037094\ttotal: 18.8ms\tremaining: 533ms\n",
      "34:\tlearn: 191.6771224\ttotal: 19.3ms\tremaining: 533ms\n",
      "35:\tlearn: 188.6440989\ttotal: 19.8ms\tremaining: 531ms\n",
      "36:\tlearn: 186.7575822\ttotal: 20.4ms\tremaining: 530ms\n",
      "37:\tlearn: 183.5070965\ttotal: 20.9ms\tremaining: 528ms\n",
      "38:\tlearn: 181.9932704\ttotal: 21.3ms\tremaining: 524ms\n",
      "39:\tlearn: 180.4612043\ttotal: 22.1ms\tremaining: 529ms\n",
      "40:\tlearn: 178.9727236\ttotal: 22.5ms\tremaining: 527ms\n",
      "41:\tlearn: 176.9704782\ttotal: 23.1ms\tremaining: 527ms\n",
      "42:\tlearn: 172.9583917\ttotal: 23.5ms\tremaining: 524ms\n",
      "43:\tlearn: 172.0259404\ttotal: 24ms\tremaining: 521ms\n",
      "44:\tlearn: 169.6703908\ttotal: 24.4ms\tremaining: 519ms\n",
      "45:\tlearn: 167.0349788\ttotal: 25.1ms\tremaining: 520ms\n",
      "46:\tlearn: 166.0151540\ttotal: 25.7ms\tremaining: 521ms\n",
      "47:\tlearn: 164.3432866\ttotal: 26.4ms\tremaining: 523ms\n",
      "48:\tlearn: 163.7139546\ttotal: 27ms\tremaining: 524ms\n",
      "49:\tlearn: 162.0231882\ttotal: 27.7ms\tremaining: 527ms\n",
      "50:\tlearn: 159.4806540\ttotal: 28.2ms\tremaining: 526ms\n",
      "51:\tlearn: 156.5835618\ttotal: 29.2ms\tremaining: 532ms\n",
      "52:\tlearn: 155.1124833\ttotal: 30.2ms\tremaining: 539ms\n",
      "53:\tlearn: 154.3849650\ttotal: 31ms\tremaining: 544ms\n",
      "54:\tlearn: 153.2243534\ttotal: 31.7ms\tremaining: 544ms\n",
      "55:\tlearn: 152.3205510\ttotal: 32.3ms\tremaining: 544ms\n",
      "56:\tlearn: 151.0666069\ttotal: 32.8ms\tremaining: 542ms\n",
      "57:\tlearn: 150.0992693\ttotal: 33.4ms\tremaining: 543ms\n",
      "58:\tlearn: 149.7214223\ttotal: 34.3ms\tremaining: 547ms\n",
      "59:\tlearn: 149.3420563\ttotal: 35.2ms\tremaining: 552ms\n",
      "60:\tlearn: 147.1527638\ttotal: 35.9ms\tremaining: 552ms\n",
      "61:\tlearn: 146.0849045\ttotal: 36.6ms\tremaining: 554ms\n",
      "62:\tlearn: 145.2592821\ttotal: 37.2ms\tremaining: 554ms\n",
      "63:\tlearn: 143.9723823\ttotal: 38ms\tremaining: 556ms\n",
      "64:\tlearn: 142.9337890\ttotal: 39ms\tremaining: 560ms\n",
      "65:\tlearn: 141.2456060\ttotal: 39.5ms\tremaining: 559ms\n",
      "66:\tlearn: 140.0933886\ttotal: 40ms\tremaining: 557ms\n",
      "67:\tlearn: 139.0122411\ttotal: 40.9ms\tremaining: 561ms\n",
      "68:\tlearn: 137.0658535\ttotal: 41.6ms\tremaining: 561ms\n",
      "69:\tlearn: 136.5187600\ttotal: 42.2ms\tremaining: 561ms\n",
      "70:\tlearn: 135.3177866\ttotal: 42.8ms\tremaining: 560ms\n",
      "71:\tlearn: 134.4397288\ttotal: 43.3ms\tremaining: 558ms\n",
      "72:\tlearn: 133.9689054\ttotal: 44ms\tremaining: 559ms\n",
      "73:\tlearn: 132.9503812\ttotal: 44.5ms\tremaining: 557ms\n",
      "74:\tlearn: 132.4790284\ttotal: 44.9ms\tremaining: 554ms\n",
      "75:\tlearn: 130.0079846\ttotal: 45.5ms\tremaining: 553ms\n",
      "76:\tlearn: 128.6536311\ttotal: 45.9ms\tremaining: 550ms\n",
      "77:\tlearn: 126.4149435\ttotal: 46.6ms\tremaining: 551ms\n",
      "78:\tlearn: 124.7339610\ttotal: 47.1ms\tremaining: 549ms\n",
      "79:\tlearn: 123.6799098\ttotal: 47.6ms\tremaining: 547ms\n",
      "80:\tlearn: 122.0132818\ttotal: 48ms\tremaining: 545ms\n",
      "81:\tlearn: 121.7718402\ttotal: 48.5ms\tremaining: 543ms\n",
      "82:\tlearn: 121.0226763\ttotal: 49.1ms\tremaining: 542ms\n",
      "83:\tlearn: 119.0352412\ttotal: 49.6ms\tremaining: 541ms\n",
      "84:\tlearn: 118.1578472\ttotal: 50.1ms\tremaining: 539ms\n",
      "85:\tlearn: 117.3963152\ttotal: 50.6ms\tremaining: 538ms\n",
      "86:\tlearn: 116.8601830\ttotal: 51ms\tremaining: 536ms\n",
      "87:\tlearn: 115.1485488\ttotal: 51.6ms\tremaining: 534ms\n",
      "88:\tlearn: 113.3802066\ttotal: 52.1ms\tremaining: 533ms\n",
      "89:\tlearn: 111.8047507\ttotal: 52.8ms\tremaining: 533ms\n",
      "90:\tlearn: 111.2173889\ttotal: 53.3ms\tremaining: 533ms\n",
      "91:\tlearn: 109.7797673\ttotal: 53.8ms\tremaining: 531ms\n",
      "92:\tlearn: 108.5968886\ttotal: 54.2ms\tremaining: 529ms\n",
      "93:\tlearn: 107.3902106\ttotal: 54.7ms\tremaining: 527ms\n",
      "94:\tlearn: 106.5920119\ttotal: 55ms\tremaining: 524ms\n",
      "95:\tlearn: 105.9400132\ttotal: 55.5ms\tremaining: 522ms\n",
      "96:\tlearn: 104.5018068\ttotal: 55.9ms\tremaining: 520ms\n",
      "97:\tlearn: 104.2449785\ttotal: 56.3ms\tremaining: 518ms\n",
      "98:\tlearn: 102.4745810\ttotal: 56.7ms\tremaining: 516ms\n",
      "99:\tlearn: 101.5007722\ttotal: 57.2ms\tremaining: 515ms\n",
      "100:\tlearn: 101.0929742\ttotal: 57.6ms\tremaining: 513ms\n",
      "101:\tlearn: 100.8864538\ttotal: 58ms\tremaining: 511ms\n",
      "102:\tlearn: 99.5007076\ttotal: 58.5ms\tremaining: 510ms\n",
      "103:\tlearn: 98.1646778\ttotal: 59ms\tremaining: 508ms\n",
      "104:\tlearn: 97.1950961\ttotal: 59.5ms\tremaining: 507ms\n",
      "105:\tlearn: 96.0991462\ttotal: 60ms\tremaining: 506ms\n",
      "106:\tlearn: 95.4337941\ttotal: 60.4ms\tremaining: 504ms\n",
      "107:\tlearn: 94.9099345\ttotal: 60.9ms\tremaining: 503ms\n",
      "108:\tlearn: 94.3889362\ttotal: 61.4ms\tremaining: 502ms\n",
      "109:\tlearn: 94.2091744\ttotal: 61.8ms\tremaining: 500ms\n",
      "110:\tlearn: 92.8508793\ttotal: 62.3ms\tremaining: 499ms\n",
      "111:\tlearn: 92.1784338\ttotal: 62.8ms\tremaining: 498ms\n",
      "112:\tlearn: 91.6689944\ttotal: 63.3ms\tremaining: 497ms\n",
      "113:\tlearn: 90.6644520\ttotal: 63.7ms\tremaining: 495ms\n",
      "114:\tlearn: 90.5375287\ttotal: 64.2ms\tremaining: 494ms\n",
      "115:\tlearn: 90.3442623\ttotal: 64.6ms\tremaining: 492ms\n",
      "116:\tlearn: 89.3637881\ttotal: 65.1ms\tremaining: 492ms\n",
      "117:\tlearn: 88.5340073\ttotal: 65.7ms\tremaining: 491ms\n",
      "118:\tlearn: 88.3598014\ttotal: 66.1ms\tremaining: 489ms\n",
      "119:\tlearn: 87.1290719\ttotal: 66.5ms\tremaining: 488ms\n",
      "120:\tlearn: 87.0034893\ttotal: 66.9ms\tremaining: 486ms\n",
      "121:\tlearn: 85.9581724\ttotal: 67.3ms\tremaining: 485ms\n",
      "122:\tlearn: 84.7062226\ttotal: 67.8ms\tremaining: 483ms\n",
      "123:\tlearn: 84.6114296\ttotal: 68.2ms\tremaining: 482ms\n",
      "124:\tlearn: 83.3769126\ttotal: 68.6ms\tremaining: 480ms\n",
      "125:\tlearn: 82.2866094\ttotal: 69ms\tremaining: 478ms\n",
      "126:\tlearn: 81.7817112\ttotal: 69.4ms\tremaining: 477ms\n",
      "127:\tlearn: 80.3710545\ttotal: 69.8ms\tremaining: 476ms\n",
      "128:\tlearn: 79.3458239\ttotal: 70.3ms\tremaining: 475ms\n",
      "129:\tlearn: 78.8966509\ttotal: 70.9ms\tremaining: 474ms\n",
      "130:\tlearn: 78.7683699\ttotal: 71.3ms\tremaining: 473ms\n",
      "131:\tlearn: 78.0116712\ttotal: 71.8ms\tremaining: 472ms\n",
      "132:\tlearn: 77.5728582\ttotal: 72.2ms\tremaining: 471ms\n",
      "133:\tlearn: 76.4635356\ttotal: 72.7ms\tremaining: 470ms\n",
      "134:\tlearn: 75.6109482\ttotal: 73.2ms\tremaining: 469ms\n",
      "135:\tlearn: 74.8287886\ttotal: 73.6ms\tremaining: 467ms\n",
      "136:\tlearn: 74.2493825\ttotal: 74ms\tremaining: 466ms\n",
      "137:\tlearn: 73.3192822\ttotal: 74.5ms\tremaining: 466ms\n",
      "138:\tlearn: 72.9755066\ttotal: 75ms\tremaining: 465ms\n",
      "139:\tlearn: 72.8423874\ttotal: 75.5ms\tremaining: 464ms\n",
      "140:\tlearn: 71.5949506\ttotal: 75.9ms\tremaining: 463ms\n",
      "141:\tlearn: 70.9408732\ttotal: 76.4ms\tremaining: 461ms\n",
      "142:\tlearn: 70.1699642\ttotal: 76.8ms\tremaining: 460ms\n",
      "143:\tlearn: 69.8737644\ttotal: 77.3ms\tremaining: 459ms\n",
      "144:\tlearn: 69.0963759\ttotal: 77.7ms\tremaining: 458ms\n",
      "145:\tlearn: 68.9702397\ttotal: 78.2ms\tremaining: 457ms\n",
      "146:\tlearn: 67.8950397\ttotal: 78.7ms\tremaining: 456ms\n",
      "147:\tlearn: 67.1501269\ttotal: 79.1ms\tremaining: 455ms\n",
      "148:\tlearn: 66.4028868\ttotal: 79.6ms\tremaining: 455ms\n",
      "149:\tlearn: 65.3349813\ttotal: 80.1ms\tremaining: 454ms\n",
      "150:\tlearn: 64.6766190\ttotal: 80.6ms\tremaining: 453ms\n",
      "151:\tlearn: 63.7390417\ttotal: 81ms\tremaining: 452ms\n",
      "152:\tlearn: 62.9043101\ttotal: 81.4ms\tremaining: 451ms\n",
      "153:\tlearn: 62.5922794\ttotal: 81.8ms\tremaining: 449ms\n",
      "154:\tlearn: 62.1160450\ttotal: 82.2ms\tremaining: 448ms\n",
      "155:\tlearn: 61.7702532\ttotal: 82.6ms\tremaining: 447ms\n",
      "156:\tlearn: 61.2433354\ttotal: 83ms\tremaining: 446ms\n",
      "157:\tlearn: 60.8455422\ttotal: 83.5ms\tremaining: 445ms\n",
      "158:\tlearn: 60.6755303\ttotal: 83.9ms\tremaining: 444ms\n",
      "159:\tlearn: 59.9631043\ttotal: 84.3ms\tremaining: 443ms\n",
      "160:\tlearn: 59.2211911\ttotal: 84.7ms\tremaining: 441ms\n",
      "161:\tlearn: 59.1400932\ttotal: 85.1ms\tremaining: 440ms\n",
      "162:\tlearn: 58.9164262\ttotal: 85.5ms\tremaining: 439ms\n",
      "163:\tlearn: 58.2084420\ttotal: 85.9ms\tremaining: 438ms\n",
      "164:\tlearn: 57.9934649\ttotal: 86.3ms\tremaining: 437ms\n",
      "165:\tlearn: 57.3736694\ttotal: 86.8ms\tremaining: 436ms\n",
      "166:\tlearn: 56.8338370\ttotal: 87.2ms\tremaining: 435ms\n",
      "167:\tlearn: 56.5518049\ttotal: 87.7ms\tremaining: 434ms\n",
      "168:\tlearn: 55.9777349\ttotal: 88.1ms\tremaining: 433ms\n",
      "169:\tlearn: 55.4485860\ttotal: 88.5ms\tremaining: 432ms\n",
      "170:\tlearn: 55.0892542\ttotal: 89ms\tremaining: 431ms\n",
      "171:\tlearn: 54.9915464\ttotal: 89.5ms\tremaining: 431ms\n",
      "172:\tlearn: 54.3968112\ttotal: 90ms\tremaining: 430ms\n",
      "173:\tlearn: 53.7708163\ttotal: 90.4ms\tremaining: 429ms\n",
      "174:\tlearn: 53.1993023\ttotal: 90.9ms\tremaining: 428ms\n",
      "175:\tlearn: 52.7773821\ttotal: 91.3ms\tremaining: 427ms\n",
      "176:\tlearn: 52.5186612\ttotal: 91.7ms\tremaining: 427ms\n",
      "177:\tlearn: 52.0038075\ttotal: 92.3ms\tremaining: 426ms\n",
      "178:\tlearn: 51.7971195\ttotal: 92.8ms\tremaining: 425ms\n",
      "179:\tlearn: 51.4334863\ttotal: 93.2ms\tremaining: 425ms\n",
      "180:\tlearn: 50.9151359\ttotal: 93.6ms\tremaining: 424ms\n",
      "181:\tlearn: 50.8252320\ttotal: 94.2ms\tremaining: 423ms\n",
      "182:\tlearn: 50.4143487\ttotal: 94.6ms\tremaining: 422ms\n",
      "183:\tlearn: 50.0253432\ttotal: 95.1ms\tremaining: 422ms\n",
      "184:\tlearn: 49.6769233\ttotal: 95.4ms\tremaining: 420ms\n",
      "185:\tlearn: 49.5689505\ttotal: 96ms\tremaining: 420ms\n",
      "186:\tlearn: 49.0813531\ttotal: 96.4ms\tremaining: 419ms\n",
      "187:\tlearn: 48.9396335\ttotal: 96.8ms\tremaining: 418ms\n",
      "188:\tlearn: 48.5040716\ttotal: 97.2ms\tremaining: 417ms\n",
      "189:\tlearn: 47.9644995\ttotal: 97.6ms\tremaining: 416ms\n",
      "190:\tlearn: 47.8292554\ttotal: 98ms\tremaining: 415ms\n",
      "191:\tlearn: 47.4433025\ttotal: 98.4ms\tremaining: 414ms\n",
      "192:\tlearn: 46.9286959\ttotal: 98.8ms\tremaining: 413ms\n",
      "193:\tlearn: 46.3092347\ttotal: 99.2ms\tremaining: 412ms\n",
      "194:\tlearn: 45.7431428\ttotal: 99.6ms\tremaining: 411ms\n",
      "195:\tlearn: 45.6714261\ttotal: 100ms\tremaining: 410ms\n",
      "196:\tlearn: 45.5088158\ttotal: 100ms\tremaining: 409ms\n",
      "197:\tlearn: 45.4713460\ttotal: 101ms\tremaining: 408ms\n",
      "198:\tlearn: 45.0942536\ttotal: 101ms\tremaining: 407ms\n",
      "199:\tlearn: 44.7625600\ttotal: 102ms\tremaining: 406ms\n",
      "200:\tlearn: 44.3247006\ttotal: 102ms\tremaining: 406ms\n",
      "201:\tlearn: 43.8054974\ttotal: 102ms\tremaining: 405ms\n",
      "202:\tlearn: 43.3359785\ttotal: 103ms\tremaining: 404ms\n",
      "203:\tlearn: 42.8698272\ttotal: 103ms\tremaining: 403ms\n",
      "204:\tlearn: 42.4275364\ttotal: 104ms\tremaining: 402ms\n",
      "205:\tlearn: 41.9463597\ttotal: 104ms\tremaining: 401ms\n",
      "206:\tlearn: 41.7547985\ttotal: 105ms\tremaining: 401ms\n",
      "207:\tlearn: 41.6019714\ttotal: 105ms\tremaining: 400ms\n",
      "208:\tlearn: 41.4342896\ttotal: 106ms\tremaining: 399ms\n",
      "209:\tlearn: 41.0764993\ttotal: 106ms\tremaining: 399ms\n",
      "210:\tlearn: 40.7895715\ttotal: 106ms\tremaining: 398ms\n",
      "211:\tlearn: 40.4428042\ttotal: 107ms\tremaining: 397ms\n",
      "212:\tlearn: 39.9370849\ttotal: 107ms\tremaining: 396ms\n",
      "213:\tlearn: 39.4885257\ttotal: 108ms\tremaining: 395ms\n",
      "214:\tlearn: 39.1268375\ttotal: 108ms\tremaining: 395ms\n",
      "215:\tlearn: 38.9591271\ttotal: 109ms\tremaining: 394ms\n",
      "216:\tlearn: 38.8008893\ttotal: 109ms\tremaining: 393ms\n",
      "217:\tlearn: 38.4956003\ttotal: 109ms\tremaining: 392ms\n",
      "218:\tlearn: 38.3528545\ttotal: 110ms\tremaining: 392ms\n",
      "219:\tlearn: 38.1794276\ttotal: 110ms\tremaining: 391ms\n",
      "220:\tlearn: 38.1135196\ttotal: 111ms\tremaining: 390ms\n",
      "221:\tlearn: 37.9126665\ttotal: 111ms\tremaining: 390ms\n",
      "222:\tlearn: 37.5375523\ttotal: 112ms\tremaining: 389ms\n",
      "223:\tlearn: 37.3774479\ttotal: 112ms\tremaining: 388ms\n",
      "224:\tlearn: 36.8965396\ttotal: 113ms\tremaining: 388ms\n",
      "225:\tlearn: 36.4012999\ttotal: 113ms\tremaining: 387ms\n",
      "226:\tlearn: 35.9300616\ttotal: 113ms\tremaining: 386ms\n",
      "227:\tlearn: 35.6148029\ttotal: 114ms\tremaining: 386ms\n",
      "228:\tlearn: 35.2741594\ttotal: 114ms\tremaining: 385ms\n",
      "229:\tlearn: 35.0196015\ttotal: 115ms\tremaining: 385ms\n",
      "230:\tlearn: 34.5877862\ttotal: 115ms\tremaining: 384ms\n",
      "231:\tlearn: 34.4128370\ttotal: 116ms\tremaining: 384ms\n",
      "232:\tlearn: 34.2685016\ttotal: 116ms\tremaining: 383ms\n",
      "233:\tlearn: 34.2021290\ttotal: 117ms\tremaining: 382ms\n",
      "234:\tlearn: 34.1117548\ttotal: 117ms\tremaining: 381ms\n",
      "235:\tlearn: 33.7038307\ttotal: 118ms\tremaining: 380ms\n",
      "236:\tlearn: 33.6591145\ttotal: 118ms\tremaining: 380ms\n",
      "237:\tlearn: 33.6134076\ttotal: 118ms\tremaining: 379ms\n",
      "238:\tlearn: 33.3091022\ttotal: 119ms\tremaining: 379ms\n",
      "239:\tlearn: 33.2050988\ttotal: 119ms\tremaining: 378ms\n",
      "240:\tlearn: 32.7984087\ttotal: 120ms\tremaining: 378ms\n",
      "241:\tlearn: 32.4886567\ttotal: 121ms\tremaining: 378ms\n",
      "242:\tlearn: 32.3354906\ttotal: 121ms\tremaining: 377ms\n",
      "243:\tlearn: 32.1610609\ttotal: 121ms\tremaining: 376ms\n",
      "244:\tlearn: 31.9242693\ttotal: 122ms\tremaining: 375ms\n",
      "245:\tlearn: 31.4693550\ttotal: 122ms\tremaining: 374ms\n",
      "246:\tlearn: 31.1071532\ttotal: 123ms\tremaining: 374ms\n",
      "247:\tlearn: 30.7311162\ttotal: 123ms\tremaining: 374ms\n",
      "248:\tlearn: 30.4892550\ttotal: 124ms\tremaining: 373ms\n",
      "249:\tlearn: 30.3680212\ttotal: 124ms\tremaining: 373ms\n",
      "250:\tlearn: 30.1346007\ttotal: 125ms\tremaining: 372ms\n",
      "251:\tlearn: 29.8046285\ttotal: 125ms\tremaining: 371ms\n",
      "252:\tlearn: 29.6637514\ttotal: 126ms\tremaining: 371ms\n",
      "253:\tlearn: 29.5176095\ttotal: 126ms\tremaining: 370ms\n",
      "254:\tlearn: 29.3723319\ttotal: 126ms\tremaining: 369ms\n",
      "255:\tlearn: 29.1301438\ttotal: 127ms\tremaining: 369ms\n",
      "256:\tlearn: 29.1025017\ttotal: 127ms\tremaining: 368ms\n",
      "257:\tlearn: 28.8276340\ttotal: 128ms\tremaining: 367ms\n",
      "258:\tlearn: 28.6313979\ttotal: 128ms\tremaining: 366ms\n",
      "259:\tlearn: 28.3904787\ttotal: 128ms\tremaining: 366ms\n",
      "260:\tlearn: 27.9496011\ttotal: 129ms\tremaining: 365ms\n",
      "261:\tlearn: 27.6744647\ttotal: 129ms\tremaining: 364ms\n",
      "262:\tlearn: 27.5631687\ttotal: 130ms\tremaining: 364ms\n",
      "263:\tlearn: 27.2940171\ttotal: 130ms\tremaining: 363ms\n",
      "264:\tlearn: 27.0524989\ttotal: 131ms\tremaining: 362ms\n",
      "265:\tlearn: 26.9019408\ttotal: 131ms\tremaining: 361ms\n",
      "266:\tlearn: 26.7539234\ttotal: 131ms\tremaining: 361ms\n",
      "267:\tlearn: 26.5906135\ttotal: 132ms\tremaining: 360ms\n",
      "268:\tlearn: 26.3413069\ttotal: 132ms\tremaining: 360ms\n",
      "269:\tlearn: 26.2300985\ttotal: 133ms\tremaining: 359ms\n",
      "270:\tlearn: 25.7633750\ttotal: 133ms\tremaining: 359ms\n",
      "271:\tlearn: 25.5999298\ttotal: 134ms\tremaining: 359ms\n",
      "272:\tlearn: 25.4034221\ttotal: 135ms\tremaining: 358ms\n",
      "273:\tlearn: 25.3449361\ttotal: 135ms\tremaining: 358ms\n",
      "274:\tlearn: 25.1308675\ttotal: 136ms\tremaining: 357ms\n",
      "275:\tlearn: 24.8170605\ttotal: 136ms\tremaining: 357ms\n",
      "276:\tlearn: 24.5265387\ttotal: 136ms\tremaining: 356ms\n",
      "277:\tlearn: 24.3891773\ttotal: 137ms\tremaining: 356ms\n",
      "278:\tlearn: 24.1691955\ttotal: 137ms\tremaining: 355ms\n",
      "279:\tlearn: 23.9780841\ttotal: 138ms\tremaining: 355ms\n",
      "280:\tlearn: 23.7459991\ttotal: 139ms\tremaining: 354ms\n",
      "281:\tlearn: 23.5762098\ttotal: 139ms\tremaining: 354ms\n",
      "282:\tlearn: 23.4130148\ttotal: 140ms\tremaining: 354ms\n",
      "283:\tlearn: 23.1365659\ttotal: 140ms\tremaining: 353ms\n",
      "284:\tlearn: 22.9605139\ttotal: 141ms\tremaining: 353ms\n",
      "285:\tlearn: 22.8198952\ttotal: 141ms\tremaining: 352ms\n",
      "286:\tlearn: 22.7220776\ttotal: 142ms\tremaining: 352ms\n",
      "287:\tlearn: 22.6349162\ttotal: 142ms\tremaining: 351ms\n",
      "288:\tlearn: 22.5037731\ttotal: 145ms\tremaining: 356ms\n",
      "289:\tlearn: 22.4280658\ttotal: 145ms\tremaining: 355ms\n",
      "290:\tlearn: 22.4111078\ttotal: 146ms\tremaining: 355ms\n",
      "291:\tlearn: 22.2582825\ttotal: 146ms\tremaining: 354ms\n",
      "292:\tlearn: 22.0361847\ttotal: 147ms\tremaining: 354ms\n",
      "293:\tlearn: 21.9197616\ttotal: 147ms\tremaining: 353ms\n",
      "294:\tlearn: 21.8934931\ttotal: 147ms\tremaining: 352ms\n",
      "295:\tlearn: 21.8385467\ttotal: 148ms\tremaining: 352ms\n",
      "296:\tlearn: 21.6056469\ttotal: 148ms\tremaining: 351ms\n",
      "297:\tlearn: 21.3638471\ttotal: 149ms\tremaining: 351ms\n",
      "298:\tlearn: 21.2403020\ttotal: 149ms\tremaining: 350ms\n",
      "299:\tlearn: 20.9940588\ttotal: 150ms\tremaining: 349ms\n",
      "300:\tlearn: 20.8606002\ttotal: 150ms\tremaining: 349ms\n",
      "301:\tlearn: 20.7521062\ttotal: 151ms\tremaining: 348ms\n",
      "302:\tlearn: 20.4914061\ttotal: 151ms\tremaining: 347ms\n",
      "303:\tlearn: 20.4390781\ttotal: 151ms\tremaining: 347ms\n",
      "304:\tlearn: 20.4261039\ttotal: 152ms\tremaining: 346ms\n",
      "305:\tlearn: 20.3429361\ttotal: 152ms\tremaining: 345ms\n",
      "306:\tlearn: 20.3186699\ttotal: 153ms\tremaining: 345ms\n",
      "307:\tlearn: 20.2200547\ttotal: 153ms\tremaining: 344ms\n",
      "308:\tlearn: 20.0363798\ttotal: 154ms\tremaining: 344ms\n",
      "309:\tlearn: 19.9375964\ttotal: 154ms\tremaining: 343ms\n",
      "310:\tlearn: 19.8562475\ttotal: 155ms\tremaining: 343ms\n",
      "311:\tlearn: 19.7207383\ttotal: 155ms\tremaining: 342ms\n",
      "312:\tlearn: 19.5840205\ttotal: 155ms\tremaining: 341ms\n",
      "313:\tlearn: 19.4498604\ttotal: 156ms\tremaining: 340ms\n",
      "314:\tlearn: 19.3106313\ttotal: 156ms\tremaining: 340ms\n",
      "315:\tlearn: 19.1555646\ttotal: 157ms\tremaining: 339ms\n",
      "316:\tlearn: 19.1426558\ttotal: 157ms\tremaining: 339ms\n",
      "317:\tlearn: 19.0179770\ttotal: 158ms\tremaining: 338ms\n",
      "318:\tlearn: 18.9331646\ttotal: 158ms\tremaining: 338ms\n",
      "319:\tlearn: 18.7759664\ttotal: 159ms\tremaining: 337ms\n",
      "320:\tlearn: 18.7302473\ttotal: 159ms\tremaining: 337ms\n",
      "321:\tlearn: 18.6822773\ttotal: 159ms\tremaining: 336ms\n",
      "322:\tlearn: 18.6212081\ttotal: 160ms\tremaining: 335ms\n",
      "323:\tlearn: 18.3825932\ttotal: 160ms\tremaining: 334ms\n",
      "324:\tlearn: 18.0840511\ttotal: 162ms\tremaining: 336ms\n",
      "325:\tlearn: 17.9626242\ttotal: 162ms\tremaining: 336ms\n",
      "326:\tlearn: 17.8194649\ttotal: 163ms\tremaining: 335ms\n",
      "327:\tlearn: 17.6897852\ttotal: 163ms\tremaining: 335ms\n",
      "328:\tlearn: 17.6729587\ttotal: 164ms\tremaining: 334ms\n",
      "329:\tlearn: 17.5730192\ttotal: 164ms\tremaining: 334ms\n",
      "330:\tlearn: 17.3061709\ttotal: 165ms\tremaining: 333ms\n",
      "331:\tlearn: 17.2732138\ttotal: 165ms\tremaining: 333ms\n",
      "332:\tlearn: 17.1284244\ttotal: 166ms\tremaining: 332ms\n",
      "333:\tlearn: 17.0578788\ttotal: 166ms\tremaining: 332ms\n",
      "334:\tlearn: 16.9109643\ttotal: 167ms\tremaining: 332ms\n",
      "335:\tlearn: 16.6595095\ttotal: 167ms\tremaining: 331ms\n",
      "336:\tlearn: 16.5240861\ttotal: 168ms\tremaining: 331ms\n",
      "337:\tlearn: 16.3631551\ttotal: 169ms\tremaining: 330ms\n",
      "338:\tlearn: 16.2364521\ttotal: 169ms\tremaining: 330ms\n",
      "339:\tlearn: 16.1259236\ttotal: 170ms\tremaining: 329ms\n",
      "340:\tlearn: 16.1070160\ttotal: 170ms\tremaining: 329ms\n",
      "341:\tlearn: 15.9446333\ttotal: 171ms\tremaining: 329ms\n",
      "342:\tlearn: 15.8404109\ttotal: 171ms\tremaining: 328ms\n",
      "343:\tlearn: 15.7616719\ttotal: 172ms\tremaining: 328ms\n",
      "344:\tlearn: 15.7046860\ttotal: 172ms\tremaining: 327ms\n",
      "345:\tlearn: 15.5565531\ttotal: 173ms\tremaining: 326ms\n",
      "346:\tlearn: 15.4739767\ttotal: 173ms\tremaining: 326ms\n",
      "347:\tlearn: 15.4214691\ttotal: 173ms\tremaining: 325ms\n",
      "348:\tlearn: 15.3830392\ttotal: 174ms\tremaining: 324ms\n",
      "349:\tlearn: 15.2925503\ttotal: 174ms\tremaining: 324ms\n",
      "350:\tlearn: 15.2685305\ttotal: 175ms\tremaining: 323ms\n",
      "351:\tlearn: 15.0959980\ttotal: 175ms\tremaining: 323ms\n",
      "352:\tlearn: 15.0185539\ttotal: 176ms\tremaining: 322ms\n",
      "353:\tlearn: 14.9344909\ttotal: 176ms\tremaining: 321ms\n",
      "354:\tlearn: 14.8185511\ttotal: 177ms\tremaining: 321ms\n",
      "355:\tlearn: 14.7621205\ttotal: 177ms\tremaining: 321ms\n",
      "356:\tlearn: 14.6824384\ttotal: 178ms\tremaining: 320ms\n",
      "357:\tlearn: 14.5918871\ttotal: 178ms\tremaining: 320ms\n",
      "358:\tlearn: 14.4898356\ttotal: 179ms\tremaining: 319ms\n",
      "359:\tlearn: 14.4773981\ttotal: 180ms\tremaining: 319ms\n",
      "360:\tlearn: 14.3256006\ttotal: 180ms\tremaining: 319ms\n",
      "361:\tlearn: 14.1704867\ttotal: 181ms\tremaining: 319ms\n",
      "362:\tlearn: 14.0453382\ttotal: 181ms\tremaining: 318ms\n",
      "363:\tlearn: 13.9488312\ttotal: 182ms\tremaining: 318ms\n",
      "364:\tlearn: 13.8932251\ttotal: 183ms\tremaining: 318ms\n",
      "365:\tlearn: 13.7368549\ttotal: 184ms\tremaining: 318ms\n",
      "366:\tlearn: 13.6533268\ttotal: 184ms\tremaining: 318ms\n",
      "367:\tlearn: 13.5191569\ttotal: 185ms\tremaining: 317ms\n",
      "368:\tlearn: 13.4712080\ttotal: 185ms\tremaining: 317ms\n",
      "369:\tlearn: 13.3454926\ttotal: 186ms\tremaining: 316ms\n",
      "370:\tlearn: 13.2804919\ttotal: 186ms\tremaining: 316ms\n",
      "371:\tlearn: 13.2609934\ttotal: 187ms\tremaining: 315ms\n",
      "372:\tlearn: 13.1804458\ttotal: 187ms\tremaining: 315ms\n",
      "373:\tlearn: 13.0381162\ttotal: 188ms\tremaining: 314ms\n",
      "374:\tlearn: 13.0250736\ttotal: 188ms\tremaining: 314ms\n",
      "375:\tlearn: 13.0006609\ttotal: 189ms\tremaining: 314ms\n",
      "376:\tlearn: 12.8507663\ttotal: 190ms\tremaining: 314ms\n",
      "377:\tlearn: 12.6986039\ttotal: 190ms\tremaining: 313ms\n",
      "378:\tlearn: 12.5574544\ttotal: 191ms\tremaining: 313ms\n",
      "379:\tlearn: 12.4864386\ttotal: 192ms\tremaining: 313ms\n",
      "380:\tlearn: 12.3739036\ttotal: 192ms\tremaining: 312ms\n",
      "381:\tlearn: 12.3110117\ttotal: 193ms\tremaining: 312ms\n",
      "382:\tlearn: 12.2077088\ttotal: 193ms\tremaining: 312ms\n",
      "383:\tlearn: 12.1065885\ttotal: 194ms\tremaining: 311ms\n",
      "384:\tlearn: 12.0323948\ttotal: 195ms\tremaining: 312ms\n",
      "385:\tlearn: 12.0014896\ttotal: 196ms\tremaining: 311ms\n",
      "386:\tlearn: 11.8568080\ttotal: 196ms\tremaining: 311ms\n",
      "387:\tlearn: 11.7867144\ttotal: 197ms\tremaining: 311ms\n",
      "388:\tlearn: 11.7500836\ttotal: 198ms\tremaining: 311ms\n",
      "389:\tlearn: 11.7348877\ttotal: 198ms\tremaining: 310ms\n",
      "390:\tlearn: 11.7286653\ttotal: 199ms\tremaining: 310ms\n",
      "391:\tlearn: 11.6241305\ttotal: 199ms\tremaining: 309ms\n",
      "392:\tlearn: 11.5960420\ttotal: 200ms\tremaining: 309ms\n",
      "393:\tlearn: 11.5729987\ttotal: 200ms\tremaining: 308ms\n",
      "394:\tlearn: 11.5635235\ttotal: 201ms\tremaining: 308ms\n",
      "395:\tlearn: 11.4873129\ttotal: 201ms\tremaining: 307ms\n",
      "396:\tlearn: 11.3564378\ttotal: 202ms\tremaining: 307ms\n",
      "397:\tlearn: 11.2078876\ttotal: 203ms\tremaining: 307ms\n",
      "398:\tlearn: 11.1598904\ttotal: 203ms\tremaining: 306ms\n",
      "399:\tlearn: 11.0885074\ttotal: 204ms\tremaining: 306ms\n",
      "400:\tlearn: 11.0278575\ttotal: 205ms\tremaining: 306ms\n",
      "401:\tlearn: 10.9865756\ttotal: 205ms\tremaining: 306ms\n",
      "402:\tlearn: 10.8794931\ttotal: 206ms\tremaining: 305ms\n",
      "403:\tlearn: 10.8382558\ttotal: 207ms\tremaining: 305ms\n",
      "404:\tlearn: 10.7596014\ttotal: 207ms\tremaining: 304ms\n",
      "405:\tlearn: 10.7064165\ttotal: 208ms\tremaining: 304ms\n",
      "406:\tlearn: 10.6372130\ttotal: 208ms\tremaining: 304ms\n",
      "407:\tlearn: 10.5505037\ttotal: 209ms\tremaining: 303ms\n",
      "408:\tlearn: 10.4676489\ttotal: 209ms\tremaining: 303ms\n",
      "409:\tlearn: 10.3632792\ttotal: 210ms\tremaining: 302ms\n",
      "410:\tlearn: 10.3399756\ttotal: 210ms\tremaining: 301ms\n",
      "411:\tlearn: 10.2905778\ttotal: 211ms\tremaining: 301ms\n",
      "412:\tlearn: 10.2175164\ttotal: 211ms\tremaining: 300ms\n",
      "413:\tlearn: 10.1482923\ttotal: 212ms\tremaining: 300ms\n",
      "414:\tlearn: 10.0590953\ttotal: 212ms\tremaining: 299ms\n",
      "415:\tlearn: 9.9982795\ttotal: 213ms\tremaining: 299ms\n",
      "416:\tlearn: 9.9099074\ttotal: 214ms\tremaining: 299ms\n",
      "417:\tlearn: 9.8641812\ttotal: 214ms\tremaining: 298ms\n",
      "418:\tlearn: 9.8207799\ttotal: 215ms\tremaining: 298ms\n",
      "419:\tlearn: 9.7000976\ttotal: 215ms\tremaining: 297ms\n",
      "420:\tlearn: 9.6211675\ttotal: 216ms\tremaining: 297ms\n",
      "421:\tlearn: 9.5821946\ttotal: 216ms\tremaining: 296ms\n",
      "422:\tlearn: 9.5314530\ttotal: 217ms\tremaining: 296ms\n",
      "423:\tlearn: 9.5231706\ttotal: 217ms\tremaining: 295ms\n",
      "424:\tlearn: 9.4897613\ttotal: 218ms\tremaining: 295ms\n",
      "425:\tlearn: 9.4178254\ttotal: 218ms\tremaining: 294ms\n",
      "426:\tlearn: 9.3468512\ttotal: 219ms\tremaining: 294ms\n",
      "427:\tlearn: 9.2916542\ttotal: 219ms\tremaining: 293ms\n",
      "428:\tlearn: 9.2671046\ttotal: 220ms\tremaining: 293ms\n",
      "429:\tlearn: 9.1507425\ttotal: 220ms\tremaining: 292ms\n",
      "430:\tlearn: 9.0905964\ttotal: 221ms\tremaining: 291ms\n",
      "431:\tlearn: 9.0599172\ttotal: 221ms\tremaining: 291ms\n",
      "432:\tlearn: 8.9911670\ttotal: 222ms\tremaining: 290ms\n",
      "433:\tlearn: 8.9769178\ttotal: 222ms\tremaining: 290ms\n",
      "434:\tlearn: 8.9011639\ttotal: 223ms\tremaining: 289ms\n",
      "435:\tlearn: 8.8578447\ttotal: 223ms\tremaining: 289ms\n",
      "436:\tlearn: 8.7766216\ttotal: 224ms\tremaining: 288ms\n",
      "437:\tlearn: 8.7600187\ttotal: 224ms\tremaining: 288ms\n",
      "438:\tlearn: 8.7039464\ttotal: 225ms\tremaining: 287ms\n",
      "439:\tlearn: 8.6701908\ttotal: 225ms\tremaining: 286ms\n",
      "440:\tlearn: 8.6561906\ttotal: 226ms\tremaining: 286ms\n",
      "441:\tlearn: 8.6030579\ttotal: 226ms\tremaining: 285ms\n",
      "442:\tlearn: 8.5192884\ttotal: 227ms\tremaining: 285ms\n",
      "443:\tlearn: 8.4605490\ttotal: 227ms\tremaining: 284ms\n",
      "444:\tlearn: 8.3846572\ttotal: 227ms\tremaining: 284ms\n",
      "445:\tlearn: 8.3429264\ttotal: 228ms\tremaining: 283ms\n",
      "446:\tlearn: 8.3068488\ttotal: 229ms\tremaining: 283ms\n",
      "447:\tlearn: 8.2662142\ttotal: 229ms\tremaining: 283ms\n",
      "448:\tlearn: 8.1806196\ttotal: 230ms\tremaining: 282ms\n",
      "449:\tlearn: 8.1475696\ttotal: 231ms\tremaining: 282ms\n",
      "450:\tlearn: 8.1145904\ttotal: 231ms\tremaining: 281ms\n",
      "451:\tlearn: 8.0740309\ttotal: 232ms\tremaining: 281ms\n",
      "452:\tlearn: 8.0095799\ttotal: 232ms\tremaining: 280ms\n",
      "453:\tlearn: 7.9857193\ttotal: 232ms\tremaining: 280ms\n",
      "454:\tlearn: 7.9300069\ttotal: 233ms\tremaining: 279ms\n",
      "455:\tlearn: 7.9088282\ttotal: 234ms\tremaining: 279ms\n",
      "456:\tlearn: 7.8726359\ttotal: 234ms\tremaining: 278ms\n",
      "457:\tlearn: 7.8453260\ttotal: 235ms\tremaining: 278ms\n",
      "458:\tlearn: 7.8015145\ttotal: 235ms\tremaining: 277ms\n",
      "459:\tlearn: 7.7552434\ttotal: 236ms\tremaining: 277ms\n",
      "460:\tlearn: 7.7033074\ttotal: 236ms\tremaining: 276ms\n",
      "461:\tlearn: 7.6732816\ttotal: 237ms\tremaining: 276ms\n",
      "462:\tlearn: 7.6387343\ttotal: 237ms\tremaining: 275ms\n",
      "463:\tlearn: 7.5939225\ttotal: 238ms\tremaining: 275ms\n",
      "464:\tlearn: 7.5495985\ttotal: 238ms\tremaining: 274ms\n",
      "465:\tlearn: 7.5164784\ttotal: 239ms\tremaining: 274ms\n",
      "466:\tlearn: 7.4692120\ttotal: 239ms\tremaining: 273ms\n",
      "467:\tlearn: 7.4602739\ttotal: 240ms\tremaining: 273ms\n",
      "468:\tlearn: 7.4245927\ttotal: 240ms\tremaining: 272ms\n",
      "469:\tlearn: 7.3402299\ttotal: 241ms\tremaining: 271ms\n",
      "470:\tlearn: 7.2998185\ttotal: 241ms\tremaining: 271ms\n",
      "471:\tlearn: 7.2014577\ttotal: 242ms\tremaining: 270ms\n",
      "472:\tlearn: 7.1904207\ttotal: 242ms\tremaining: 270ms\n",
      "473:\tlearn: 7.1527862\ttotal: 243ms\tremaining: 269ms\n",
      "474:\tlearn: 7.0771473\ttotal: 243ms\tremaining: 269ms\n",
      "475:\tlearn: 7.0539525\ttotal: 244ms\tremaining: 268ms\n",
      "476:\tlearn: 6.9846025\ttotal: 244ms\tremaining: 268ms\n",
      "477:\tlearn: 6.9534313\ttotal: 245ms\tremaining: 267ms\n",
      "478:\tlearn: 6.8975880\ttotal: 245ms\tremaining: 266ms\n",
      "479:\tlearn: 6.8254191\ttotal: 245ms\tremaining: 266ms\n",
      "480:\tlearn: 6.8112478\ttotal: 246ms\tremaining: 265ms\n",
      "481:\tlearn: 6.7648902\ttotal: 246ms\tremaining: 265ms\n",
      "482:\tlearn: 6.6860735\ttotal: 247ms\tremaining: 264ms\n",
      "483:\tlearn: 6.6633461\ttotal: 247ms\tremaining: 264ms\n",
      "484:\tlearn: 6.6475279\ttotal: 248ms\tremaining: 263ms\n",
      "485:\tlearn: 6.5921608\ttotal: 248ms\tremaining: 262ms\n",
      "486:\tlearn: 6.5602794\ttotal: 249ms\tremaining: 262ms\n",
      "487:\tlearn: 6.5499659\ttotal: 249ms\tremaining: 261ms\n",
      "488:\tlearn: 6.4940006\ttotal: 250ms\tremaining: 261ms\n",
      "489:\tlearn: 6.4247752\ttotal: 250ms\tremaining: 260ms\n",
      "490:\tlearn: 6.3877601\ttotal: 251ms\tremaining: 260ms\n",
      "491:\tlearn: 6.3314191\ttotal: 251ms\tremaining: 259ms\n",
      "492:\tlearn: 6.2812751\ttotal: 252ms\tremaining: 259ms\n",
      "493:\tlearn: 6.2685065\ttotal: 252ms\tremaining: 258ms\n",
      "494:\tlearn: 6.2241138\ttotal: 253ms\tremaining: 258ms\n",
      "495:\tlearn: 6.1695214\ttotal: 253ms\tremaining: 257ms\n",
      "496:\tlearn: 6.1421906\ttotal: 254ms\tremaining: 257ms\n",
      "497:\tlearn: 6.1331850\ttotal: 254ms\tremaining: 256ms\n",
      "498:\tlearn: 6.1166327\ttotal: 255ms\tremaining: 256ms\n",
      "499:\tlearn: 6.0829602\ttotal: 255ms\tremaining: 255ms\n",
      "500:\tlearn: 6.0650422\ttotal: 256ms\tremaining: 255ms\n",
      "501:\tlearn: 6.0436563\ttotal: 256ms\tremaining: 254ms\n",
      "502:\tlearn: 5.9902804\ttotal: 257ms\tremaining: 254ms\n",
      "503:\tlearn: 5.9121675\ttotal: 257ms\tremaining: 253ms\n",
      "504:\tlearn: 5.9091850\ttotal: 258ms\tremaining: 253ms\n",
      "505:\tlearn: 5.8967995\ttotal: 258ms\tremaining: 252ms\n",
      "506:\tlearn: 5.8430221\ttotal: 259ms\tremaining: 252ms\n",
      "507:\tlearn: 5.8135495\ttotal: 259ms\tremaining: 251ms\n",
      "508:\tlearn: 5.7890913\ttotal: 260ms\tremaining: 251ms\n",
      "509:\tlearn: 5.7577091\ttotal: 260ms\tremaining: 250ms\n",
      "510:\tlearn: 5.7523488\ttotal: 261ms\tremaining: 250ms\n",
      "511:\tlearn: 5.6546493\ttotal: 261ms\tremaining: 249ms\n",
      "512:\tlearn: 5.6194513\ttotal: 262ms\tremaining: 249ms\n",
      "513:\tlearn: 5.5672252\ttotal: 262ms\tremaining: 248ms\n",
      "514:\tlearn: 5.5539421\ttotal: 263ms\tremaining: 248ms\n",
      "515:\tlearn: 5.5185620\ttotal: 264ms\tremaining: 247ms\n",
      "516:\tlearn: 5.4789463\ttotal: 264ms\tremaining: 247ms\n",
      "517:\tlearn: 5.4236755\ttotal: 264ms\tremaining: 246ms\n",
      "518:\tlearn: 5.3864207\ttotal: 265ms\tremaining: 246ms\n",
      "519:\tlearn: 5.3533466\ttotal: 266ms\tremaining: 245ms\n",
      "520:\tlearn: 5.3369921\ttotal: 266ms\tremaining: 245ms\n",
      "521:\tlearn: 5.2560437\ttotal: 267ms\tremaining: 244ms\n",
      "522:\tlearn: 5.2017840\ttotal: 267ms\tremaining: 244ms\n",
      "523:\tlearn: 5.1755812\ttotal: 268ms\tremaining: 243ms\n",
      "524:\tlearn: 5.1385832\ttotal: 268ms\tremaining: 243ms\n",
      "525:\tlearn: 5.1335579\ttotal: 269ms\tremaining: 242ms\n",
      "526:\tlearn: 5.0585358\ttotal: 270ms\tremaining: 242ms\n",
      "527:\tlearn: 5.0021152\ttotal: 270ms\tremaining: 241ms\n",
      "528:\tlearn: 4.9822398\ttotal: 270ms\tremaining: 241ms\n",
      "529:\tlearn: 4.9752376\ttotal: 271ms\tremaining: 240ms\n",
      "530:\tlearn: 4.9479232\ttotal: 271ms\tremaining: 240ms\n",
      "531:\tlearn: 4.9271142\ttotal: 272ms\tremaining: 239ms\n",
      "532:\tlearn: 4.9023595\ttotal: 272ms\tremaining: 239ms\n",
      "533:\tlearn: 4.8555527\ttotal: 273ms\tremaining: 238ms\n",
      "534:\tlearn: 4.8367794\ttotal: 273ms\tremaining: 238ms\n",
      "535:\tlearn: 4.7952444\ttotal: 274ms\tremaining: 237ms\n",
      "536:\tlearn: 4.7409194\ttotal: 275ms\tremaining: 237ms\n",
      "537:\tlearn: 4.6929973\ttotal: 275ms\tremaining: 236ms\n",
      "538:\tlearn: 4.6579685\ttotal: 276ms\tremaining: 236ms\n",
      "539:\tlearn: 4.6195745\ttotal: 276ms\tremaining: 235ms\n",
      "540:\tlearn: 4.5964136\ttotal: 277ms\tremaining: 235ms\n",
      "541:\tlearn: 4.5836819\ttotal: 277ms\tremaining: 234ms\n",
      "542:\tlearn: 4.5766395\ttotal: 278ms\tremaining: 234ms\n",
      "543:\tlearn: 4.5639948\ttotal: 278ms\tremaining: 233ms\n",
      "544:\tlearn: 4.5321336\ttotal: 279ms\tremaining: 233ms\n",
      "545:\tlearn: 4.5257262\ttotal: 279ms\tremaining: 232ms\n",
      "546:\tlearn: 4.5121200\ttotal: 280ms\tremaining: 232ms\n",
      "547:\tlearn: 4.5000971\ttotal: 280ms\tremaining: 231ms\n",
      "548:\tlearn: 4.4699564\ttotal: 281ms\tremaining: 231ms\n",
      "549:\tlearn: 4.4223918\ttotal: 282ms\tremaining: 230ms\n",
      "550:\tlearn: 4.3900850\ttotal: 282ms\tremaining: 230ms\n",
      "551:\tlearn: 4.3865832\ttotal: 283ms\tremaining: 229ms\n",
      "552:\tlearn: 4.3555236\ttotal: 283ms\tremaining: 229ms\n",
      "553:\tlearn: 4.3326942\ttotal: 284ms\tremaining: 228ms\n",
      "554:\tlearn: 4.3083453\ttotal: 284ms\tremaining: 228ms\n",
      "555:\tlearn: 4.2783012\ttotal: 285ms\tremaining: 227ms\n",
      "556:\tlearn: 4.2386680\ttotal: 285ms\tremaining: 227ms\n",
      "557:\tlearn: 4.1982182\ttotal: 285ms\tremaining: 226ms\n",
      "558:\tlearn: 4.1818634\ttotal: 286ms\tremaining: 226ms\n",
      "559:\tlearn: 4.1603123\ttotal: 286ms\tremaining: 225ms\n",
      "560:\tlearn: 4.1162392\ttotal: 287ms\tremaining: 224ms\n",
      "561:\tlearn: 4.0942539\ttotal: 287ms\tremaining: 224ms\n",
      "562:\tlearn: 4.0833944\ttotal: 288ms\tremaining: 223ms\n",
      "563:\tlearn: 4.0651220\ttotal: 288ms\tremaining: 223ms\n",
      "564:\tlearn: 4.0359525\ttotal: 288ms\tremaining: 222ms\n",
      "565:\tlearn: 4.0331482\ttotal: 289ms\tremaining: 222ms\n",
      "566:\tlearn: 4.0110785\ttotal: 289ms\tremaining: 221ms\n",
      "567:\tlearn: 3.9846807\ttotal: 290ms\tremaining: 220ms\n",
      "568:\tlearn: 3.9611224\ttotal: 290ms\tremaining: 220ms\n",
      "569:\tlearn: 3.9238317\ttotal: 291ms\tremaining: 219ms\n",
      "570:\tlearn: 3.9105718\ttotal: 291ms\tremaining: 219ms\n",
      "571:\tlearn: 3.8725349\ttotal: 292ms\tremaining: 218ms\n",
      "572:\tlearn: 3.8589458\ttotal: 292ms\tremaining: 218ms\n",
      "573:\tlearn: 3.8201118\ttotal: 293ms\tremaining: 217ms\n",
      "574:\tlearn: 3.8100971\ttotal: 293ms\tremaining: 217ms\n",
      "575:\tlearn: 3.7824233\ttotal: 294ms\tremaining: 216ms\n",
      "576:\tlearn: 3.7652240\ttotal: 294ms\tremaining: 216ms\n",
      "577:\tlearn: 3.7320270\ttotal: 295ms\tremaining: 215ms\n",
      "578:\tlearn: 3.7227983\ttotal: 295ms\tremaining: 215ms\n",
      "579:\tlearn: 3.7007934\ttotal: 296ms\tremaining: 214ms\n",
      "580:\tlearn: 3.6703626\ttotal: 296ms\tremaining: 214ms\n",
      "581:\tlearn: 3.6587500\ttotal: 297ms\tremaining: 213ms\n",
      "582:\tlearn: 3.6435213\ttotal: 297ms\tremaining: 213ms\n",
      "583:\tlearn: 3.6165255\ttotal: 298ms\tremaining: 212ms\n",
      "584:\tlearn: 3.5921438\ttotal: 298ms\tremaining: 212ms\n",
      "585:\tlearn: 3.5823094\ttotal: 299ms\tremaining: 211ms\n",
      "586:\tlearn: 3.5707107\ttotal: 299ms\tremaining: 211ms\n",
      "587:\tlearn: 3.5585582\ttotal: 300ms\tremaining: 210ms\n",
      "588:\tlearn: 3.5083056\ttotal: 300ms\tremaining: 210ms\n",
      "589:\tlearn: 3.4896083\ttotal: 301ms\tremaining: 209ms\n",
      "590:\tlearn: 3.4745190\ttotal: 302ms\tremaining: 209ms\n",
      "591:\tlearn: 3.4627260\ttotal: 302ms\tremaining: 208ms\n",
      "592:\tlearn: 3.4385625\ttotal: 303ms\tremaining: 208ms\n",
      "593:\tlearn: 3.3997235\ttotal: 303ms\tremaining: 207ms\n",
      "594:\tlearn: 3.3764192\ttotal: 303ms\tremaining: 207ms\n",
      "595:\tlearn: 3.3590522\ttotal: 304ms\tremaining: 206ms\n",
      "596:\tlearn: 3.3474857\ttotal: 304ms\tremaining: 205ms\n",
      "597:\tlearn: 3.3123623\ttotal: 305ms\tremaining: 205ms\n",
      "598:\tlearn: 3.2999589\ttotal: 305ms\tremaining: 204ms\n",
      "599:\tlearn: 3.2767538\ttotal: 306ms\tremaining: 204ms\n",
      "600:\tlearn: 3.2530783\ttotal: 306ms\tremaining: 203ms\n",
      "601:\tlearn: 3.2269777\ttotal: 307ms\tremaining: 203ms\n",
      "602:\tlearn: 3.1938868\ttotal: 307ms\tremaining: 202ms\n",
      "603:\tlearn: 3.1728589\ttotal: 308ms\tremaining: 202ms\n",
      "604:\tlearn: 3.1549029\ttotal: 308ms\tremaining: 201ms\n",
      "605:\tlearn: 3.1478118\ttotal: 308ms\tremaining: 201ms\n",
      "606:\tlearn: 3.1145245\ttotal: 309ms\tremaining: 200ms\n",
      "607:\tlearn: 3.0718905\ttotal: 309ms\tremaining: 199ms\n",
      "608:\tlearn: 3.0352714\ttotal: 310ms\tremaining: 199ms\n",
      "609:\tlearn: 2.9984985\ttotal: 310ms\tremaining: 198ms\n",
      "610:\tlearn: 2.9594115\ttotal: 311ms\tremaining: 198ms\n",
      "611:\tlearn: 2.9438145\ttotal: 311ms\tremaining: 197ms\n",
      "612:\tlearn: 2.9265773\ttotal: 312ms\tremaining: 197ms\n",
      "613:\tlearn: 2.9036898\ttotal: 313ms\tremaining: 197ms\n",
      "614:\tlearn: 2.8790612\ttotal: 313ms\tremaining: 196ms\n",
      "615:\tlearn: 2.8654898\ttotal: 314ms\tremaining: 196ms\n",
      "616:\tlearn: 2.8462561\ttotal: 314ms\tremaining: 195ms\n",
      "617:\tlearn: 2.8254976\ttotal: 315ms\tremaining: 194ms\n",
      "618:\tlearn: 2.8190407\ttotal: 315ms\tremaining: 194ms\n",
      "619:\tlearn: 2.8129812\ttotal: 315ms\tremaining: 193ms\n",
      "620:\tlearn: 2.8097755\ttotal: 316ms\tremaining: 193ms\n",
      "621:\tlearn: 2.7960320\ttotal: 316ms\tremaining: 192ms\n",
      "622:\tlearn: 2.7878495\ttotal: 317ms\tremaining: 192ms\n",
      "623:\tlearn: 2.7602980\ttotal: 317ms\tremaining: 191ms\n",
      "624:\tlearn: 2.7341408\ttotal: 318ms\tremaining: 191ms\n",
      "625:\tlearn: 2.7302545\ttotal: 318ms\tremaining: 190ms\n",
      "626:\tlearn: 2.7120252\ttotal: 319ms\tremaining: 190ms\n",
      "627:\tlearn: 2.7075024\ttotal: 319ms\tremaining: 189ms\n",
      "628:\tlearn: 2.6970031\ttotal: 320ms\tremaining: 189ms\n",
      "629:\tlearn: 2.6928246\ttotal: 320ms\tremaining: 188ms\n",
      "630:\tlearn: 2.6709120\ttotal: 321ms\tremaining: 188ms\n",
      "631:\tlearn: 2.6656247\ttotal: 321ms\tremaining: 187ms\n",
      "632:\tlearn: 2.6452838\ttotal: 322ms\tremaining: 187ms\n",
      "633:\tlearn: 2.6271014\ttotal: 322ms\tremaining: 186ms\n",
      "634:\tlearn: 2.6089454\ttotal: 323ms\tremaining: 186ms\n",
      "635:\tlearn: 2.5996271\ttotal: 324ms\tremaining: 185ms\n",
      "636:\tlearn: 2.5923568\ttotal: 324ms\tremaining: 185ms\n",
      "637:\tlearn: 2.5837611\ttotal: 325ms\tremaining: 184ms\n",
      "638:\tlearn: 2.5726721\ttotal: 325ms\tremaining: 184ms\n",
      "639:\tlearn: 2.5577477\ttotal: 326ms\tremaining: 183ms\n",
      "640:\tlearn: 2.5500744\ttotal: 326ms\tremaining: 183ms\n",
      "641:\tlearn: 2.5274442\ttotal: 327ms\tremaining: 182ms\n",
      "642:\tlearn: 2.5157559\ttotal: 327ms\tremaining: 182ms\n",
      "643:\tlearn: 2.5053856\ttotal: 328ms\tremaining: 181ms\n",
      "644:\tlearn: 2.4841922\ttotal: 328ms\tremaining: 181ms\n",
      "645:\tlearn: 2.4674035\ttotal: 329ms\tremaining: 180ms\n",
      "646:\tlearn: 2.4484158\ttotal: 329ms\tremaining: 180ms\n",
      "647:\tlearn: 2.4263246\ttotal: 330ms\tremaining: 179ms\n",
      "648:\tlearn: 2.4052258\ttotal: 330ms\tremaining: 179ms\n",
      "649:\tlearn: 2.3816894\ttotal: 331ms\tremaining: 178ms\n",
      "650:\tlearn: 2.3659119\ttotal: 331ms\tremaining: 178ms\n",
      "651:\tlearn: 2.3576051\ttotal: 332ms\tremaining: 177ms\n",
      "652:\tlearn: 2.3288476\ttotal: 332ms\tremaining: 176ms\n",
      "653:\tlearn: 2.3109502\ttotal: 333ms\tremaining: 176ms\n",
      "654:\tlearn: 2.3021504\ttotal: 333ms\tremaining: 175ms\n",
      "655:\tlearn: 2.3009515\ttotal: 334ms\tremaining: 175ms\n",
      "656:\tlearn: 2.2893680\ttotal: 334ms\tremaining: 174ms\n",
      "657:\tlearn: 2.2852898\ttotal: 335ms\tremaining: 174ms\n",
      "658:\tlearn: 2.2647131\ttotal: 335ms\tremaining: 173ms\n",
      "659:\tlearn: 2.2437777\ttotal: 336ms\tremaining: 173ms\n",
      "660:\tlearn: 2.2228007\ttotal: 336ms\tremaining: 172ms\n",
      "661:\tlearn: 2.2030047\ttotal: 337ms\tremaining: 172ms\n",
      "662:\tlearn: 2.1823076\ttotal: 337ms\tremaining: 171ms\n",
      "663:\tlearn: 2.1607769\ttotal: 338ms\tremaining: 171ms\n",
      "664:\tlearn: 2.1491049\ttotal: 338ms\tremaining: 170ms\n",
      "665:\tlearn: 2.1403920\ttotal: 339ms\tremaining: 170ms\n",
      "666:\tlearn: 2.1255852\ttotal: 339ms\tremaining: 169ms\n",
      "667:\tlearn: 2.1087714\ttotal: 340ms\tremaining: 169ms\n",
      "668:\tlearn: 2.1033385\ttotal: 340ms\tremaining: 168ms\n",
      "669:\tlearn: 2.0923091\ttotal: 341ms\tremaining: 168ms\n",
      "670:\tlearn: 2.0834076\ttotal: 341ms\tremaining: 167ms\n",
      "671:\tlearn: 2.0735926\ttotal: 342ms\tremaining: 167ms\n",
      "672:\tlearn: 2.0603541\ttotal: 342ms\tremaining: 166ms\n",
      "673:\tlearn: 2.0576392\ttotal: 343ms\tremaining: 166ms\n",
      "674:\tlearn: 2.0455537\ttotal: 343ms\tremaining: 165ms\n",
      "675:\tlearn: 2.0282804\ttotal: 344ms\tremaining: 165ms\n",
      "676:\tlearn: 2.0217423\ttotal: 344ms\tremaining: 164ms\n",
      "677:\tlearn: 2.0119192\ttotal: 345ms\tremaining: 164ms\n",
      "678:\tlearn: 2.0001332\ttotal: 345ms\tremaining: 163ms\n",
      "679:\tlearn: 1.9979894\ttotal: 346ms\tremaining: 163ms\n",
      "680:\tlearn: 1.9907747\ttotal: 346ms\tremaining: 162ms\n",
      "681:\tlearn: 1.9736817\ttotal: 347ms\tremaining: 162ms\n",
      "682:\tlearn: 1.9600965\ttotal: 347ms\tremaining: 161ms\n",
      "683:\tlearn: 1.9539201\ttotal: 348ms\tremaining: 161ms\n",
      "684:\tlearn: 1.9449369\ttotal: 348ms\tremaining: 160ms\n",
      "685:\tlearn: 1.9419454\ttotal: 348ms\tremaining: 160ms\n",
      "686:\tlearn: 1.9326842\ttotal: 349ms\tremaining: 159ms\n",
      "687:\tlearn: 1.9288548\ttotal: 349ms\tremaining: 158ms\n",
      "688:\tlearn: 1.9236716\ttotal: 350ms\tremaining: 158ms\n",
      "689:\tlearn: 1.9228496\ttotal: 351ms\tremaining: 157ms\n",
      "690:\tlearn: 1.9176354\ttotal: 351ms\tremaining: 157ms\n",
      "691:\tlearn: 1.9147659\ttotal: 351ms\tremaining: 156ms\n",
      "692:\tlearn: 1.9079892\ttotal: 352ms\tremaining: 156ms\n",
      "693:\tlearn: 1.9048238\ttotal: 352ms\tremaining: 155ms\n",
      "694:\tlearn: 1.8959419\ttotal: 353ms\tremaining: 155ms\n",
      "695:\tlearn: 1.8711502\ttotal: 353ms\tremaining: 154ms\n",
      "696:\tlearn: 1.8583228\ttotal: 354ms\tremaining: 154ms\n",
      "697:\tlearn: 1.8482604\ttotal: 354ms\tremaining: 153ms\n",
      "698:\tlearn: 1.8456936\ttotal: 355ms\tremaining: 153ms\n",
      "699:\tlearn: 1.8273471\ttotal: 355ms\tremaining: 152ms\n",
      "700:\tlearn: 1.8067825\ttotal: 356ms\tremaining: 152ms\n",
      "701:\tlearn: 1.8022221\ttotal: 356ms\tremaining: 151ms\n",
      "702:\tlearn: 1.7912070\ttotal: 357ms\tremaining: 151ms\n",
      "703:\tlearn: 1.7755760\ttotal: 358ms\tremaining: 150ms\n",
      "704:\tlearn: 1.7712682\ttotal: 359ms\tremaining: 150ms\n",
      "705:\tlearn: 1.7648319\ttotal: 359ms\tremaining: 150ms\n",
      "706:\tlearn: 1.7532904\ttotal: 360ms\tremaining: 149ms\n",
      "707:\tlearn: 1.7463625\ttotal: 361ms\tremaining: 149ms\n",
      "708:\tlearn: 1.7418161\ttotal: 361ms\tremaining: 148ms\n",
      "709:\tlearn: 1.7272345\ttotal: 362ms\tremaining: 148ms\n",
      "710:\tlearn: 1.7217505\ttotal: 362ms\tremaining: 147ms\n",
      "711:\tlearn: 1.7151154\ttotal: 363ms\tremaining: 147ms\n",
      "712:\tlearn: 1.7092925\ttotal: 363ms\tremaining: 146ms\n",
      "713:\tlearn: 1.7025995\ttotal: 364ms\tremaining: 146ms\n",
      "714:\tlearn: 1.6807623\ttotal: 364ms\tremaining: 145ms\n",
      "715:\tlearn: 1.6674907\ttotal: 365ms\tremaining: 145ms\n",
      "716:\tlearn: 1.6544638\ttotal: 366ms\tremaining: 144ms\n",
      "717:\tlearn: 1.6411236\ttotal: 366ms\tremaining: 144ms\n",
      "718:\tlearn: 1.6290477\ttotal: 367ms\tremaining: 143ms\n",
      "719:\tlearn: 1.6222366\ttotal: 367ms\tremaining: 143ms\n",
      "720:\tlearn: 1.6142656\ttotal: 367ms\tremaining: 142ms\n",
      "721:\tlearn: 1.6004470\ttotal: 368ms\tremaining: 142ms\n",
      "722:\tlearn: 1.5932177\ttotal: 369ms\tremaining: 141ms\n",
      "723:\tlearn: 1.5743215\ttotal: 369ms\tremaining: 141ms\n",
      "724:\tlearn: 1.5629066\ttotal: 370ms\tremaining: 140ms\n",
      "725:\tlearn: 1.5505525\ttotal: 370ms\tremaining: 140ms\n",
      "726:\tlearn: 1.5302974\ttotal: 371ms\tremaining: 139ms\n",
      "727:\tlearn: 1.5260700\ttotal: 371ms\tremaining: 139ms\n",
      "728:\tlearn: 1.5188723\ttotal: 372ms\tremaining: 138ms\n",
      "729:\tlearn: 1.5085309\ttotal: 373ms\tremaining: 138ms\n",
      "730:\tlearn: 1.5038733\ttotal: 375ms\tremaining: 138ms\n",
      "731:\tlearn: 1.5008194\ttotal: 380ms\tremaining: 139ms\n",
      "732:\tlearn: 1.4908829\ttotal: 382ms\tremaining: 139ms\n",
      "733:\tlearn: 1.4782605\ttotal: 383ms\tremaining: 139ms\n",
      "734:\tlearn: 1.4639356\ttotal: 384ms\tremaining: 138ms\n",
      "735:\tlearn: 1.4471455\ttotal: 386ms\tremaining: 138ms\n",
      "736:\tlearn: 1.4454285\ttotal: 387ms\tremaining: 138ms\n",
      "737:\tlearn: 1.4416273\ttotal: 387ms\tremaining: 137ms\n",
      "738:\tlearn: 1.4302267\ttotal: 388ms\tremaining: 137ms\n",
      "739:\tlearn: 1.4219328\ttotal: 388ms\tremaining: 136ms\n",
      "740:\tlearn: 1.4105579\ttotal: 389ms\tremaining: 136ms\n",
      "741:\tlearn: 1.4075838\ttotal: 389ms\tremaining: 135ms\n",
      "742:\tlearn: 1.4017014\ttotal: 390ms\tremaining: 135ms\n",
      "743:\tlearn: 1.3974208\ttotal: 390ms\tremaining: 134ms\n",
      "744:\tlearn: 1.3862572\ttotal: 391ms\tremaining: 134ms\n",
      "745:\tlearn: 1.3729360\ttotal: 392ms\tremaining: 134ms\n",
      "746:\tlearn: 1.3630904\ttotal: 393ms\tremaining: 133ms\n",
      "747:\tlearn: 1.3477583\ttotal: 394ms\tremaining: 133ms\n",
      "748:\tlearn: 1.3348270\ttotal: 395ms\tremaining: 132ms\n",
      "749:\tlearn: 1.3236754\ttotal: 395ms\tremaining: 132ms\n",
      "750:\tlearn: 1.3171961\ttotal: 396ms\tremaining: 131ms\n",
      "751:\tlearn: 1.3113457\ttotal: 396ms\tremaining: 131ms\n",
      "752:\tlearn: 1.3036391\ttotal: 397ms\tremaining: 130ms\n",
      "753:\tlearn: 1.2935829\ttotal: 398ms\tremaining: 130ms\n",
      "754:\tlearn: 1.2837612\ttotal: 398ms\tremaining: 129ms\n",
      "755:\tlearn: 1.2768260\ttotal: 399ms\tremaining: 129ms\n",
      "756:\tlearn: 1.2689370\ttotal: 400ms\tremaining: 128ms\n",
      "757:\tlearn: 1.2561567\ttotal: 401ms\tremaining: 128ms\n",
      "758:\tlearn: 1.2475100\ttotal: 402ms\tremaining: 128ms\n",
      "759:\tlearn: 1.2405978\ttotal: 402ms\tremaining: 127ms\n",
      "760:\tlearn: 1.2342628\ttotal: 403ms\tremaining: 127ms\n",
      "761:\tlearn: 1.2271880\ttotal: 404ms\tremaining: 126ms\n",
      "762:\tlearn: 1.2138527\ttotal: 404ms\tremaining: 126ms\n",
      "763:\tlearn: 1.2076889\ttotal: 405ms\tremaining: 125ms\n",
      "764:\tlearn: 1.2041847\ttotal: 406ms\tremaining: 125ms\n",
      "765:\tlearn: 1.1970019\ttotal: 407ms\tremaining: 124ms\n",
      "766:\tlearn: 1.1892878\ttotal: 407ms\tremaining: 124ms\n",
      "767:\tlearn: 1.1858432\ttotal: 408ms\tremaining: 123ms\n",
      "768:\tlearn: 1.1746182\ttotal: 408ms\tremaining: 123ms\n",
      "769:\tlearn: 1.1694876\ttotal: 409ms\tremaining: 122ms\n",
      "770:\tlearn: 1.1657055\ttotal: 409ms\tremaining: 122ms\n",
      "771:\tlearn: 1.1556043\ttotal: 410ms\tremaining: 121ms\n",
      "772:\tlearn: 1.1540774\ttotal: 411ms\tremaining: 121ms\n",
      "773:\tlearn: 1.1473715\ttotal: 411ms\tremaining: 120ms\n",
      "774:\tlearn: 1.1419763\ttotal: 412ms\tremaining: 120ms\n",
      "775:\tlearn: 1.1303590\ttotal: 412ms\tremaining: 119ms\n",
      "776:\tlearn: 1.1230587\ttotal: 413ms\tremaining: 119ms\n",
      "777:\tlearn: 1.1143917\ttotal: 413ms\tremaining: 118ms\n",
      "778:\tlearn: 1.1112687\ttotal: 414ms\tremaining: 117ms\n",
      "779:\tlearn: 1.1009863\ttotal: 415ms\tremaining: 117ms\n",
      "780:\tlearn: 1.0899260\ttotal: 415ms\tremaining: 116ms\n",
      "781:\tlearn: 1.0855158\ttotal: 415ms\tremaining: 116ms\n",
      "782:\tlearn: 1.0808031\ttotal: 416ms\tremaining: 115ms\n",
      "783:\tlearn: 1.0763884\ttotal: 417ms\tremaining: 115ms\n",
      "784:\tlearn: 1.0710758\ttotal: 417ms\tremaining: 114ms\n",
      "785:\tlearn: 1.0634482\ttotal: 418ms\tremaining: 114ms\n",
      "786:\tlearn: 1.0529874\ttotal: 418ms\tremaining: 113ms\n",
      "787:\tlearn: 1.0501903\ttotal: 419ms\tremaining: 113ms\n",
      "788:\tlearn: 1.0410587\ttotal: 419ms\tremaining: 112ms\n",
      "789:\tlearn: 1.0386261\ttotal: 419ms\tremaining: 112ms\n",
      "790:\tlearn: 1.0351082\ttotal: 420ms\tremaining: 111ms\n",
      "791:\tlearn: 1.0320987\ttotal: 421ms\tremaining: 110ms\n",
      "792:\tlearn: 1.0294915\ttotal: 421ms\tremaining: 110ms\n",
      "793:\tlearn: 1.0233284\ttotal: 421ms\tremaining: 109ms\n",
      "794:\tlearn: 1.0176815\ttotal: 422ms\tremaining: 109ms\n",
      "795:\tlearn: 1.0074411\ttotal: 422ms\tremaining: 108ms\n",
      "796:\tlearn: 1.0020197\ttotal: 423ms\tremaining: 108ms\n",
      "797:\tlearn: 0.9989044\ttotal: 423ms\tremaining: 107ms\n",
      "798:\tlearn: 0.9937483\ttotal: 424ms\tremaining: 107ms\n",
      "799:\tlearn: 0.9867329\ttotal: 425ms\tremaining: 106ms\n",
      "800:\tlearn: 0.9819829\ttotal: 426ms\tremaining: 106ms\n",
      "801:\tlearn: 0.9777514\ttotal: 426ms\tremaining: 105ms\n",
      "802:\tlearn: 0.9757462\ttotal: 427ms\tremaining: 105ms\n",
      "803:\tlearn: 0.9702440\ttotal: 427ms\tremaining: 104ms\n",
      "804:\tlearn: 0.9636471\ttotal: 428ms\tremaining: 104ms\n",
      "805:\tlearn: 0.9548362\ttotal: 428ms\tremaining: 103ms\n",
      "806:\tlearn: 0.9470745\ttotal: 428ms\tremaining: 102ms\n",
      "807:\tlearn: 0.9408578\ttotal: 429ms\tremaining: 102ms\n",
      "808:\tlearn: 0.9350692\ttotal: 429ms\tremaining: 101ms\n",
      "809:\tlearn: 0.9290967\ttotal: 430ms\tremaining: 101ms\n",
      "810:\tlearn: 0.9267158\ttotal: 430ms\tremaining: 100ms\n",
      "811:\tlearn: 0.9235794\ttotal: 431ms\tremaining: 99.8ms\n",
      "812:\tlearn: 0.9226084\ttotal: 431ms\tremaining: 99.2ms\n",
      "813:\tlearn: 0.9139012\ttotal: 432ms\tremaining: 98.7ms\n",
      "814:\tlearn: 0.9073690\ttotal: 432ms\tremaining: 98.1ms\n",
      "815:\tlearn: 0.9024018\ttotal: 433ms\tremaining: 97.6ms\n",
      "816:\tlearn: 0.9001693\ttotal: 433ms\tremaining: 97ms\n",
      "817:\tlearn: 0.8970481\ttotal: 434ms\tremaining: 96.5ms\n",
      "818:\tlearn: 0.8907494\ttotal: 434ms\tremaining: 95.9ms\n",
      "819:\tlearn: 0.8886718\ttotal: 435ms\tremaining: 95.4ms\n",
      "820:\tlearn: 0.8869259\ttotal: 435ms\tremaining: 94.9ms\n",
      "821:\tlearn: 0.8804683\ttotal: 436ms\tremaining: 94.3ms\n",
      "822:\tlearn: 0.8666371\ttotal: 436ms\tremaining: 93.8ms\n",
      "823:\tlearn: 0.8659600\ttotal: 437ms\tremaining: 93.2ms\n",
      "824:\tlearn: 0.8604612\ttotal: 437ms\tremaining: 92.7ms\n",
      "825:\tlearn: 0.8544955\ttotal: 437ms\tremaining: 92.1ms\n",
      "826:\tlearn: 0.8496739\ttotal: 438ms\tremaining: 91.6ms\n",
      "827:\tlearn: 0.8420906\ttotal: 438ms\tremaining: 91.1ms\n",
      "828:\tlearn: 0.8398457\ttotal: 439ms\tremaining: 90.5ms\n",
      "829:\tlearn: 0.8358570\ttotal: 439ms\tremaining: 90ms\n",
      "830:\tlearn: 0.8293211\ttotal: 440ms\tremaining: 89.5ms\n",
      "831:\tlearn: 0.8236188\ttotal: 440ms\tremaining: 88.9ms\n",
      "832:\tlearn: 0.8175017\ttotal: 441ms\tremaining: 88.4ms\n",
      "833:\tlearn: 0.8128315\ttotal: 441ms\tremaining: 87.8ms\n",
      "834:\tlearn: 0.8096197\ttotal: 442ms\tremaining: 87.3ms\n",
      "835:\tlearn: 0.8027133\ttotal: 442ms\tremaining: 86.8ms\n",
      "836:\tlearn: 0.7987555\ttotal: 443ms\tremaining: 86.2ms\n",
      "837:\tlearn: 0.7928141\ttotal: 443ms\tremaining: 85.7ms\n",
      "838:\tlearn: 0.7897563\ttotal: 444ms\tremaining: 85.2ms\n",
      "839:\tlearn: 0.7876758\ttotal: 444ms\tremaining: 84.6ms\n",
      "840:\tlearn: 0.7777598\ttotal: 445ms\tremaining: 84.1ms\n",
      "841:\tlearn: 0.7767597\ttotal: 445ms\tremaining: 83.5ms\n",
      "842:\tlearn: 0.7665043\ttotal: 446ms\tremaining: 83ms\n",
      "843:\tlearn: 0.7626478\ttotal: 446ms\tremaining: 82.5ms\n",
      "844:\tlearn: 0.7540439\ttotal: 447ms\tremaining: 82ms\n",
      "845:\tlearn: 0.7508537\ttotal: 447ms\tremaining: 81.4ms\n",
      "846:\tlearn: 0.7459152\ttotal: 448ms\tremaining: 80.9ms\n",
      "847:\tlearn: 0.7447900\ttotal: 448ms\tremaining: 80.3ms\n",
      "848:\tlearn: 0.7418475\ttotal: 449ms\tremaining: 79.8ms\n",
      "849:\tlearn: 0.7379949\ttotal: 449ms\tremaining: 79.3ms\n",
      "850:\tlearn: 0.7369054\ttotal: 450ms\tremaining: 78.7ms\n",
      "851:\tlearn: 0.7327236\ttotal: 450ms\tremaining: 78.2ms\n",
      "852:\tlearn: 0.7311790\ttotal: 451ms\tremaining: 77.7ms\n",
      "853:\tlearn: 0.7226495\ttotal: 451ms\tremaining: 77.1ms\n",
      "854:\tlearn: 0.7168390\ttotal: 452ms\tremaining: 76.6ms\n",
      "855:\tlearn: 0.7117890\ttotal: 452ms\tremaining: 76ms\n",
      "856:\tlearn: 0.7040100\ttotal: 453ms\tremaining: 75.5ms\n",
      "857:\tlearn: 0.6960021\ttotal: 453ms\tremaining: 75ms\n",
      "858:\tlearn: 0.6920263\ttotal: 454ms\tremaining: 74.4ms\n",
      "859:\tlearn: 0.6853317\ttotal: 454ms\tremaining: 73.9ms\n",
      "860:\tlearn: 0.6805108\ttotal: 455ms\tremaining: 73.4ms\n",
      "861:\tlearn: 0.6771728\ttotal: 455ms\tremaining: 72.8ms\n",
      "862:\tlearn: 0.6708199\ttotal: 455ms\tremaining: 72.3ms\n",
      "863:\tlearn: 0.6689468\ttotal: 456ms\tremaining: 71.8ms\n",
      "864:\tlearn: 0.6647579\ttotal: 457ms\tremaining: 71.2ms\n",
      "865:\tlearn: 0.6587745\ttotal: 457ms\tremaining: 70.7ms\n",
      "866:\tlearn: 0.6549437\ttotal: 457ms\tremaining: 70.2ms\n",
      "867:\tlearn: 0.6484944\ttotal: 458ms\tremaining: 69.6ms\n",
      "868:\tlearn: 0.6455316\ttotal: 458ms\tremaining: 69.1ms\n",
      "869:\tlearn: 0.6420739\ttotal: 459ms\tremaining: 68.6ms\n",
      "870:\tlearn: 0.6375667\ttotal: 460ms\tremaining: 68.1ms\n",
      "871:\tlearn: 0.6358236\ttotal: 460ms\tremaining: 67.5ms\n",
      "872:\tlearn: 0.6320335\ttotal: 461ms\tremaining: 67ms\n",
      "873:\tlearn: 0.6288025\ttotal: 461ms\tremaining: 66.5ms\n",
      "874:\tlearn: 0.6243292\ttotal: 462ms\tremaining: 66ms\n",
      "875:\tlearn: 0.6165696\ttotal: 462ms\tremaining: 65.4ms\n",
      "876:\tlearn: 0.6128782\ttotal: 463ms\tremaining: 64.9ms\n",
      "877:\tlearn: 0.6057460\ttotal: 463ms\tremaining: 64.4ms\n",
      "878:\tlearn: 0.6048833\ttotal: 464ms\tremaining: 63.8ms\n",
      "879:\tlearn: 0.5984637\ttotal: 464ms\tremaining: 63.3ms\n",
      "880:\tlearn: 0.5935168\ttotal: 465ms\tremaining: 62.8ms\n",
      "881:\tlearn: 0.5892604\ttotal: 465ms\tremaining: 62.2ms\n",
      "882:\tlearn: 0.5846504\ttotal: 466ms\tremaining: 61.7ms\n",
      "883:\tlearn: 0.5814985\ttotal: 466ms\tremaining: 61.2ms\n",
      "884:\tlearn: 0.5778053\ttotal: 466ms\tremaining: 60.6ms\n",
      "885:\tlearn: 0.5739896\ttotal: 467ms\tremaining: 60.1ms\n",
      "886:\tlearn: 0.5729847\ttotal: 467ms\tremaining: 59.5ms\n",
      "887:\tlearn: 0.5724598\ttotal: 468ms\tremaining: 59ms\n",
      "888:\tlearn: 0.5718988\ttotal: 468ms\tremaining: 58.5ms\n",
      "889:\tlearn: 0.5672314\ttotal: 469ms\tremaining: 58ms\n",
      "890:\tlearn: 0.5659035\ttotal: 469ms\tremaining: 57.4ms\n",
      "891:\tlearn: 0.5587131\ttotal: 470ms\tremaining: 56.9ms\n",
      "892:\tlearn: 0.5562858\ttotal: 470ms\tremaining: 56.4ms\n",
      "893:\tlearn: 0.5555127\ttotal: 471ms\tremaining: 55.8ms\n",
      "894:\tlearn: 0.5527685\ttotal: 471ms\tremaining: 55.3ms\n",
      "895:\tlearn: 0.5499500\ttotal: 472ms\tremaining: 54.8ms\n",
      "896:\tlearn: 0.5456148\ttotal: 472ms\tremaining: 54.2ms\n",
      "897:\tlearn: 0.5403285\ttotal: 473ms\tremaining: 53.7ms\n",
      "898:\tlearn: 0.5377774\ttotal: 473ms\tremaining: 53.2ms\n",
      "899:\tlearn: 0.5371353\ttotal: 474ms\tremaining: 52.7ms\n",
      "900:\tlearn: 0.5332613\ttotal: 475ms\tremaining: 52.2ms\n",
      "901:\tlearn: 0.5289379\ttotal: 475ms\tremaining: 51.6ms\n",
      "902:\tlearn: 0.5277948\ttotal: 476ms\tremaining: 51.1ms\n",
      "903:\tlearn: 0.5229979\ttotal: 476ms\tremaining: 50.6ms\n",
      "904:\tlearn: 0.5176545\ttotal: 477ms\tremaining: 50ms\n",
      "905:\tlearn: 0.5167566\ttotal: 477ms\tremaining: 49.5ms\n",
      "906:\tlearn: 0.5163313\ttotal: 478ms\tremaining: 49ms\n",
      "907:\tlearn: 0.5116777\ttotal: 478ms\tremaining: 48.4ms\n",
      "908:\tlearn: 0.5097952\ttotal: 479ms\tremaining: 47.9ms\n",
      "909:\tlearn: 0.5071290\ttotal: 479ms\tremaining: 47.4ms\n",
      "910:\tlearn: 0.5049191\ttotal: 480ms\tremaining: 46.9ms\n",
      "911:\tlearn: 0.5018383\ttotal: 480ms\tremaining: 46.3ms\n",
      "912:\tlearn: 0.5007466\ttotal: 481ms\tremaining: 45.8ms\n",
      "913:\tlearn: 0.4998771\ttotal: 481ms\tremaining: 45.3ms\n",
      "914:\tlearn: 0.4954624\ttotal: 482ms\tremaining: 44.7ms\n",
      "915:\tlearn: 0.4942071\ttotal: 482ms\tremaining: 44.2ms\n",
      "916:\tlearn: 0.4893003\ttotal: 483ms\tremaining: 43.7ms\n",
      "917:\tlearn: 0.4870233\ttotal: 483ms\tremaining: 43.2ms\n",
      "918:\tlearn: 0.4830379\ttotal: 484ms\tremaining: 42.6ms\n",
      "919:\tlearn: 0.4753426\ttotal: 484ms\tremaining: 42.1ms\n",
      "920:\tlearn: 0.4730706\ttotal: 485ms\tremaining: 41.6ms\n",
      "921:\tlearn: 0.4679650\ttotal: 485ms\tremaining: 41ms\n",
      "922:\tlearn: 0.4651630\ttotal: 486ms\tremaining: 40.5ms\n",
      "923:\tlearn: 0.4634313\ttotal: 486ms\tremaining: 40ms\n",
      "924:\tlearn: 0.4607284\ttotal: 487ms\tremaining: 39.5ms\n",
      "925:\tlearn: 0.4589159\ttotal: 487ms\tremaining: 38.9ms\n",
      "926:\tlearn: 0.4532169\ttotal: 488ms\tremaining: 38.4ms\n",
      "927:\tlearn: 0.4509932\ttotal: 488ms\tremaining: 37.9ms\n",
      "928:\tlearn: 0.4506088\ttotal: 489ms\tremaining: 37.4ms\n",
      "929:\tlearn: 0.4501478\ttotal: 490ms\tremaining: 36.8ms\n",
      "930:\tlearn: 0.4490581\ttotal: 490ms\tremaining: 36.3ms\n",
      "931:\tlearn: 0.4447316\ttotal: 490ms\tremaining: 35.8ms\n",
      "932:\tlearn: 0.4415148\ttotal: 491ms\tremaining: 35.3ms\n",
      "933:\tlearn: 0.4391051\ttotal: 491ms\tremaining: 34.7ms\n",
      "934:\tlearn: 0.4357356\ttotal: 492ms\tremaining: 34.2ms\n",
      "935:\tlearn: 0.4323983\ttotal: 493ms\tremaining: 33.7ms\n",
      "936:\tlearn: 0.4302143\ttotal: 493ms\tremaining: 33.2ms\n",
      "937:\tlearn: 0.4289117\ttotal: 494ms\tremaining: 32.6ms\n",
      "938:\tlearn: 0.4284339\ttotal: 494ms\tremaining: 32.1ms\n",
      "939:\tlearn: 0.4244107\ttotal: 495ms\tremaining: 31.6ms\n",
      "940:\tlearn: 0.4237451\ttotal: 495ms\tremaining: 31.1ms\n",
      "941:\tlearn: 0.4215386\ttotal: 496ms\tremaining: 30.5ms\n",
      "942:\tlearn: 0.4180705\ttotal: 496ms\tremaining: 30ms\n",
      "943:\tlearn: 0.4154760\ttotal: 497ms\tremaining: 29.5ms\n",
      "944:\tlearn: 0.4124859\ttotal: 497ms\tremaining: 29ms\n",
      "945:\tlearn: 0.4119886\ttotal: 498ms\tremaining: 28.4ms\n",
      "946:\tlearn: 0.4115906\ttotal: 499ms\tremaining: 27.9ms\n",
      "947:\tlearn: 0.4081974\ttotal: 499ms\tremaining: 27.4ms\n",
      "948:\tlearn: 0.4064530\ttotal: 500ms\tremaining: 26.9ms\n",
      "949:\tlearn: 0.4040915\ttotal: 500ms\tremaining: 26.3ms\n",
      "950:\tlearn: 0.4008861\ttotal: 501ms\tremaining: 25.8ms\n",
      "951:\tlearn: 0.3970913\ttotal: 501ms\tremaining: 25.3ms\n",
      "952:\tlearn: 0.3943258\ttotal: 502ms\tremaining: 24.8ms\n",
      "953:\tlearn: 0.3926270\ttotal: 502ms\tremaining: 24.2ms\n",
      "954:\tlearn: 0.3909448\ttotal: 503ms\tremaining: 23.7ms\n",
      "955:\tlearn: 0.3887707\ttotal: 503ms\tremaining: 23.2ms\n",
      "956:\tlearn: 0.3868345\ttotal: 504ms\tremaining: 22.6ms\n",
      "957:\tlearn: 0.3839349\ttotal: 505ms\tremaining: 22.1ms\n",
      "958:\tlearn: 0.3808497\ttotal: 505ms\tremaining: 21.6ms\n",
      "959:\tlearn: 0.3779283\ttotal: 506ms\tremaining: 21.1ms\n",
      "960:\tlearn: 0.3755090\ttotal: 506ms\tremaining: 20.5ms\n",
      "961:\tlearn: 0.3734292\ttotal: 506ms\tremaining: 20ms\n",
      "962:\tlearn: 0.3731558\ttotal: 507ms\tremaining: 19.5ms\n",
      "963:\tlearn: 0.3716642\ttotal: 507ms\tremaining: 18.9ms\n",
      "964:\tlearn: 0.3700879\ttotal: 508ms\tremaining: 18.4ms\n",
      "965:\tlearn: 0.3676034\ttotal: 508ms\tremaining: 17.9ms\n",
      "966:\tlearn: 0.3640425\ttotal: 509ms\tremaining: 17.4ms\n",
      "967:\tlearn: 0.3632495\ttotal: 509ms\tremaining: 16.8ms\n",
      "968:\tlearn: 0.3603878\ttotal: 510ms\tremaining: 16.3ms\n",
      "969:\tlearn: 0.3584398\ttotal: 510ms\tremaining: 15.8ms\n",
      "970:\tlearn: 0.3560019\ttotal: 511ms\tremaining: 15.3ms\n",
      "971:\tlearn: 0.3535719\ttotal: 511ms\tremaining: 14.7ms\n",
      "972:\tlearn: 0.3518950\ttotal: 512ms\tremaining: 14.2ms\n",
      "973:\tlearn: 0.3479039\ttotal: 512ms\tremaining: 13.7ms\n",
      "974:\tlearn: 0.3463938\ttotal: 513ms\tremaining: 13.1ms\n",
      "975:\tlearn: 0.3433932\ttotal: 513ms\tremaining: 12.6ms\n",
      "976:\tlearn: 0.3410148\ttotal: 514ms\tremaining: 12.1ms\n",
      "977:\tlearn: 0.3393532\ttotal: 514ms\tremaining: 11.6ms\n",
      "978:\tlearn: 0.3373067\ttotal: 515ms\tremaining: 11ms\n",
      "979:\tlearn: 0.3359122\ttotal: 515ms\tremaining: 10.5ms\n",
      "980:\tlearn: 0.3340848\ttotal: 516ms\tremaining: 9.98ms\n",
      "981:\tlearn: 0.3331220\ttotal: 516ms\tremaining: 9.46ms\n",
      "982:\tlearn: 0.3308795\ttotal: 516ms\tremaining: 8.93ms\n",
      "983:\tlearn: 0.3288012\ttotal: 517ms\tremaining: 8.4ms\n",
      "984:\tlearn: 0.3271648\ttotal: 518ms\tremaining: 7.88ms\n",
      "985:\tlearn: 0.3246514\ttotal: 518ms\tremaining: 7.35ms\n",
      "986:\tlearn: 0.3218383\ttotal: 518ms\tremaining: 6.83ms\n",
      "987:\tlearn: 0.3206535\ttotal: 519ms\tremaining: 6.3ms\n",
      "988:\tlearn: 0.3190063\ttotal: 520ms\tremaining: 5.78ms\n",
      "989:\tlearn: 0.3176250\ttotal: 520ms\tremaining: 5.25ms\n",
      "990:\tlearn: 0.3146329\ttotal: 521ms\tremaining: 4.73ms\n",
      "991:\tlearn: 0.3130835\ttotal: 521ms\tremaining: 4.2ms\n",
      "992:\tlearn: 0.3107534\ttotal: 522ms\tremaining: 3.68ms\n",
      "993:\tlearn: 0.3089626\ttotal: 522ms\tremaining: 3.15ms\n",
      "994:\tlearn: 0.3080205\ttotal: 522ms\tremaining: 2.63ms\n",
      "995:\tlearn: 0.3055692\ttotal: 523ms\tremaining: 2.1ms\n",
      "996:\tlearn: 0.3035687\ttotal: 524ms\tremaining: 1.57ms\n",
      "997:\tlearn: 0.3019582\ttotal: 524ms\tremaining: 1.05ms\n",
      "998:\tlearn: 0.3000480\ttotal: 525ms\tremaining: 525us\n",
      "999:\tlearn: 0.2971131\ttotal: 525ms\tremaining: 0us\n"
     ]
    }
   ],
   "source": [
    "catb_tuned = CatBoostRegressor(iterations = 1000, \n",
    "                               learning_rate = 0.1, \n",
    "                               depth = 5)\n",
    "\n",
    "catb_tuned = catb_tuned.fit(X_train, y_train)"
   ]
  },
  {
   "cell_type": "code",
   "execution_count": 106,
   "id": "4af7d42d-2e93-4da4-aaa1-313bae69b8d9",
   "metadata": {
    "tags": []
   },
   "outputs": [
    {
     "data": {
      "text/plain": [
       "356.665762904938"
      ]
     },
     "execution_count": 106,
     "metadata": {},
     "output_type": "execute_result"
    }
   ],
   "source": [
    "y_pred = catb_tuned.predict(X_test)\n",
    "np.sqrt(mean_squared_error(y_test, y_pred))"
   ]
  },
  {
   "cell_type": "code",
   "execution_count": null,
   "id": "a3f9ed04-1c7a-4704-bb6e-faf7d3be9215",
   "metadata": {},
   "outputs": [],
   "source": []
  }
 ],
 "metadata": {
  "kernelspec": {
   "display_name": "Python 3 (ipykernel)",
   "language": "python",
   "name": "python3"
  },
  "language_info": {
   "codemirror_mode": {
    "name": "ipython",
    "version": 3
   },
   "file_extension": ".py",
   "mimetype": "text/x-python",
   "name": "python",
   "nbconvert_exporter": "python",
   "pygments_lexer": "ipython3",
   "version": "3.11.5"
  }
 },
 "nbformat": 4,
 "nbformat_minor": 5
}
