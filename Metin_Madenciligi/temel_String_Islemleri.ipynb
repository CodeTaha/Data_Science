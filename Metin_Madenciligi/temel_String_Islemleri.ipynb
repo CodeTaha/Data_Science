{
 "cells": [
  {
   "cell_type": "markdown",
   "id": "ba414a6e-caab-435f-a0b4-3d656b4c1759",
   "metadata": {},
   "source": [
    "# Temel String İşlmeleri"
   ]
  },
  {
   "cell_type": "code",
   "execution_count": 1,
   "id": "eaa6418e-1fb5-4835-aba8-9a4816cd2af0",
   "metadata": {},
   "outputs": [],
   "source": [
    "isim = \"mvk\""
   ]
  },
  {
   "cell_type": "code",
   "execution_count": 2,
   "id": "f33454ee-0c05-45cd-a454-daa4a11a825b",
   "metadata": {},
   "outputs": [
    {
     "data": {
      "text/plain": [
       "'mvkmvkmvk'"
      ]
     },
     "execution_count": 2,
     "metadata": {},
     "output_type": "execute_result"
    }
   ],
   "source": [
    "3 * isim"
   ]
  },
  {
   "cell_type": "code",
   "execution_count": 3,
   "id": "f14a3fe0-2c49-4c71-8a9e-0f1cb5d7b436",
   "metadata": {},
   "outputs": [
    {
     "data": {
      "text/plain": [
       "'mvkali'"
      ]
     },
     "execution_count": 3,
     "metadata": {},
     "output_type": "execute_result"
    }
   ],
   "source": [
    "\"mvk\" + \"ali\""
   ]
  },
  {
   "cell_type": "code",
   "execution_count": 5,
   "id": "c1c4a12a-e15b-4a35-8ce4-298e149987bf",
   "metadata": {},
   "outputs": [
    {
     "data": {
      "text/plain": [
       "'Kvk'"
      ]
     },
     "execution_count": 5,
     "metadata": {},
     "output_type": "execute_result"
    }
   ],
   "source": [
    "\"K\" + isim[1:]"
   ]
  },
  {
   "cell_type": "code",
   "execution_count": 6,
   "id": "b3aeed8e-4bca-48be-bddd-358c82a60e04",
   "metadata": {},
   "outputs": [],
   "source": [
    "isimler = [\"ali\", \"veli\", \"ayse\"]"
   ]
  },
  {
   "cell_type": "code",
   "execution_count": 8,
   "id": "17cb8e0e-eadc-4da6-b46e-a9ec7ca16565",
   "metadata": {},
   "outputs": [
    {
     "name": "stdout",
     "output_type": "stream",
     "text": [
      "isim:ali\n",
      "isim:veli\n",
      "isim:ayse\n"
     ]
    }
   ],
   "source": [
    "for i in isimler:\n",
    "    print(\"isim:\", i, sep = \"\")"
   ]
  },
  {
   "cell_type": "code",
   "execution_count": 10,
   "id": "02e53305-0e59-4eb9-b4a9-d5fee2093f2a",
   "metadata": {},
   "outputs": [
    {
     "name": "stdout",
     "output_type": "stream",
     "text": [
      "_ali\n",
      "_veli\n",
      "_ayse\n"
     ]
    }
   ],
   "source": [
    "for i in isimler:\n",
    "    print(\"_\", i[0:], sep=\"\")"
   ]
  },
  {
   "cell_type": "code",
   "execution_count": 11,
   "id": "91d1bf4a-dbc0-4e37-bc8a-ea28f33689b7",
   "metadata": {},
   "outputs": [
    {
     "name": "stdout",
     "output_type": "stream",
     "text": [
      "(0, 'ali') (1, 'veli') (2, 'ayse')\n"
     ]
    }
   ],
   "source": [
    "print(*enumerate(isimler))"
   ]
  },
  {
   "cell_type": "code",
   "execution_count": 15,
   "id": "d4c41e8b-74fe-40d0-9b99-e888bd43ac0d",
   "metadata": {},
   "outputs": [
    {
     "name": "stdout",
     "output_type": "stream",
     "text": [
      "(0, 'ali')\n",
      "(1, 'veli')\n",
      "(2, 'ayse')\n"
     ]
    }
   ],
   "source": [
    "for i in enumerate(isimler):\n",
    "    print(i)"
   ]
  },
  {
   "cell_type": "code",
   "execution_count": 16,
   "id": "5daebfc7-c1c3-40f3-99b0-ba1292e06620",
   "metadata": {},
   "outputs": [
    {
     "name": "stdout",
     "output_type": "stream",
     "text": [
      "(0, 'i')\n",
      "(1, 's')\n",
      "(2, 'i')\n",
      "(3, 'm')\n",
      "(4, 'l')\n",
      "(5, 'e')\n",
      "(6, 'r')\n"
     ]
    }
   ],
   "source": [
    "for i in enumerate(\"isimler\"):\n",
    "    print(i)"
   ]
  },
  {
   "cell_type": "code",
   "execution_count": 17,
   "id": "beaa36e8-302e-4f4e-8730-fa8ba76d9287",
   "metadata": {},
   "outputs": [
    {
     "name": "stdout",
     "output_type": "stream",
     "text": [
      "(4, 'ali')\n",
      "(5, 'veli')\n",
      "(6, 'ayse')\n"
     ]
    }
   ],
   "source": [
    "for i in enumerate(isimler, 4):\n",
    "    print(i)"
   ]
  },
  {
   "cell_type": "markdown",
   "id": "c221fb6f-65c5-43c9-b82d-4c51dd33c217",
   "metadata": {},
   "source": [
    "## Dizi İçi Tip Sorgulamaları"
   ]
  },
  {
   "cell_type": "code",
   "execution_count": 18,
   "id": "d89217af-f90e-42d2-aef8-8d04ce72e1bd",
   "metadata": {},
   "outputs": [
    {
     "data": {
      "text/plain": [
       "True"
      ]
     },
     "execution_count": 18,
     "metadata": {},
     "output_type": "execute_result"
    }
   ],
   "source": [
    "\"mvk\".isalpha()"
   ]
  },
  {
   "cell_type": "code",
   "execution_count": 19,
   "id": "407edf77-9371-4f57-9dd7-bc60233f651e",
   "metadata": {},
   "outputs": [
    {
     "data": {
      "text/plain": [
       "False"
      ]
     },
     "execution_count": 19,
     "metadata": {},
     "output_type": "execute_result"
    }
   ],
   "source": [
    "\"mvk30\".isalpha()"
   ]
  },
  {
   "cell_type": "code",
   "execution_count": 21,
   "id": "170d9e83-5d02-4292-ac79-2128c092274b",
   "metadata": {},
   "outputs": [
    {
     "data": {
      "text/plain": [
       "True"
      ]
     },
     "execution_count": 21,
     "metadata": {},
     "output_type": "execute_result"
    }
   ],
   "source": [
    "\"123\".isalnum()"
   ]
  },
  {
   "cell_type": "code",
   "execution_count": 22,
   "id": "abafd8fc-9c82-483f-a32b-622c2be25086",
   "metadata": {},
   "outputs": [
    {
     "data": {
      "text/plain": [
       "True"
      ]
     },
     "execution_count": 22,
     "metadata": {},
     "output_type": "execute_result"
    }
   ],
   "source": [
    "\"123\".isdigit()"
   ]
  },
  {
   "cell_type": "code",
   "execution_count": 24,
   "id": "0caf9e56-f81d-4f13-bb4c-ee4f50c0cb1a",
   "metadata": {},
   "outputs": [
    {
     "data": {
      "text/plain": [
       "True"
      ]
     },
     "execution_count": 24,
     "metadata": {},
     "output_type": "execute_result"
    }
   ],
   "source": [
    "\"mvk30\".isalnum()"
   ]
  },
  {
   "cell_type": "markdown",
   "id": "1f62e618-9372-41b5-be25-f08e3d446973",
   "metadata": {},
   "source": [
    "## Elemanlarına ve Eleman Indexlerine Erişmek"
   ]
  },
  {
   "cell_type": "code",
   "execution_count": 43,
   "id": "01993eee-9cd1-49ea-956a-12aee8b4f1c4",
   "metadata": {},
   "outputs": [],
   "source": [
    "isim = \"receptahakonyar\""
   ]
  },
  {
   "cell_type": "code",
   "execution_count": 44,
   "id": "2bc1ebb3-4cc3-4770-b504-57a55fca7c18",
   "metadata": {},
   "outputs": [
    {
     "data": {
      "text/plain": [
       "'receptahakonyar'"
      ]
     },
     "execution_count": 44,
     "metadata": {},
     "output_type": "execute_result"
    }
   ],
   "source": [
    "isim"
   ]
  },
  {
   "cell_type": "code",
   "execution_count": 45,
   "id": "2a6490c8-b24a-4496-9dfa-edd87855e734",
   "metadata": {},
   "outputs": [
    {
     "data": {
      "text/plain": [
       "'re'"
      ]
     },
     "execution_count": 45,
     "metadata": {},
     "output_type": "execute_result"
    }
   ],
   "source": [
    "isim[0:2]"
   ]
  },
  {
   "cell_type": "code",
   "execution_count": 46,
   "id": "75bb85f7-ede7-43b6-beeb-fb02f3cfae8f",
   "metadata": {},
   "outputs": [
    {
     "data": {
      "text/plain": [
       "11"
      ]
     },
     "execution_count": 46,
     "metadata": {},
     "output_type": "execute_result"
    }
   ],
   "source": [
    "isim.index(\"n\")"
   ]
  },
  {
   "cell_type": "code",
   "execution_count": 47,
   "id": "9f7829e8-583f-432c-9766-51ca402b4434",
   "metadata": {},
   "outputs": [
    {
     "data": {
      "text/plain": [
       "6"
      ]
     },
     "execution_count": 47,
     "metadata": {},
     "output_type": "execute_result"
    }
   ],
   "source": [
    "isim.index(\"a\")"
   ]
  },
  {
   "cell_type": "code",
   "execution_count": 50,
   "id": "3ab4f433-f0ad-48ac-b3a9-d868690fad77",
   "metadata": {},
   "outputs": [
    {
     "data": {
      "text/plain": [
       "13"
      ]
     },
     "execution_count": 50,
     "metadata": {},
     "output_type": "execute_result"
    }
   ],
   "source": [
    "isim.index(\"a\", 9)"
   ]
  },
  {
   "cell_type": "markdown",
   "id": "beb2a887-5cea-4f09-93f8-eddde222b736",
   "metadata": {},
   "source": [
    "## Başlangıç ve Bitiş Karakterlerini Sorgulamak: startswith() & endswith()"
   ]
  },
  {
   "cell_type": "code",
   "execution_count": 51,
   "id": "a76ef0cc-d629-444d-88f1-4a3487a9ea23",
   "metadata": {},
   "outputs": [],
   "source": [
    "isim = \"Recep Taha Konyar\""
   ]
  },
  {
   "cell_type": "code",
   "execution_count": 61,
   "id": "7158914b-0aee-425f-b5da-b20c67425c0d",
   "metadata": {},
   "outputs": [
    {
     "data": {
      "text/plain": [
       "False"
      ]
     },
     "execution_count": 61,
     "metadata": {},
     "output_type": "execute_result"
    }
   ],
   "source": [
    "isim.startswith(\"a\")"
   ]
  },
  {
   "cell_type": "code",
   "execution_count": 62,
   "id": "e1b01ef6-db75-4faa-8a44-7ca7557e6e66",
   "metadata": {
    "scrolled": true
   },
   "outputs": [
    {
     "data": {
      "text/plain": [
       "False"
      ]
     },
     "execution_count": 62,
     "metadata": {},
     "output_type": "execute_result"
    }
   ],
   "source": [
    "isim.startswith(\"r\")"
   ]
  },
  {
   "cell_type": "code",
   "execution_count": 63,
   "id": "ff3262a6-35cc-452c-a33e-6d7ecb892bc8",
   "metadata": {},
   "outputs": [
    {
     "data": {
      "text/plain": [
       "True"
      ]
     },
     "execution_count": 63,
     "metadata": {},
     "output_type": "execute_result"
    }
   ],
   "source": [
    "isim.startswith(\"R\")"
   ]
  },
  {
   "cell_type": "code",
   "execution_count": 64,
   "id": "4d114c31-74ee-46c5-8feb-c0cad6644bfe",
   "metadata": {},
   "outputs": [
    {
     "data": {
      "text/plain": [
       "False"
      ]
     },
     "execution_count": 64,
     "metadata": {},
     "output_type": "execute_result"
    }
   ],
   "source": [
    "isim.endswith(\"R\")"
   ]
  },
  {
   "cell_type": "code",
   "execution_count": 65,
   "id": "3631e989-7fb7-44d4-bf7f-4dfb4a35ab68",
   "metadata": {},
   "outputs": [
    {
     "data": {
      "text/plain": [
       "True"
      ]
     },
     "execution_count": 65,
     "metadata": {},
     "output_type": "execute_result"
    }
   ],
   "source": [
    "isim.endswith(\"r\")"
   ]
  },
  {
   "cell_type": "markdown",
   "id": "07f05089-61aa-437e-8dbb-75860581a162",
   "metadata": {},
   "source": [
    "## count()"
   ]
  },
  {
   "cell_type": "code",
   "execution_count": 67,
   "id": "831224c4-db24-4377-ac33-d5788647b705",
   "metadata": {},
   "outputs": [
    {
     "data": {
      "text/plain": [
       "3"
      ]
     },
     "execution_count": 67,
     "metadata": {},
     "output_type": "execute_result"
    }
   ],
   "source": [
    "isim.count(\"a\")"
   ]
  },
  {
   "cell_type": "markdown",
   "id": "b6720ac3-95dc-4681-9c28-6cbfa82da057",
   "metadata": {},
   "source": [
    "## sorted()"
   ]
  },
  {
   "cell_type": "code",
   "execution_count": 68,
   "id": "2702ee06-ded1-4edd-8b97-9b7392dad80e",
   "metadata": {},
   "outputs": [
    {
     "data": {
      "text/plain": [
       "['d', 'e', 'e', 'f', 'r', 't']"
      ]
     },
     "execution_count": 68,
     "metadata": {},
     "output_type": "execute_result"
    }
   ],
   "source": [
    "sorted(\"defter\")"
   ]
  },
  {
   "cell_type": "code",
   "execution_count": 70,
   "id": "e6dd1233-4d2f-41d4-a7c1-cd8a0ae574bd",
   "metadata": {},
   "outputs": [
    {
     "name": "stdout",
     "output_type": "stream",
     "text": [
      "deefrt\n"
     ]
    }
   ],
   "source": [
    "print(*sorted(\"defter\"), sep = \"\")"
   ]
  },
  {
   "cell_type": "markdown",
   "id": "ea2420dd-6f80-4fc7-b37b-910d4e4d40f7",
   "metadata": {},
   "source": [
    "## Karakterleri Bölmek"
   ]
  },
  {
   "cell_type": "code",
   "execution_count": 82,
   "id": "e32f3abd-0382-4503-a71d-af7e5a2db738",
   "metadata": {},
   "outputs": [],
   "source": [
    "isim = \"Recep Taha Konyar\""
   ]
  },
  {
   "cell_type": "code",
   "execution_count": 83,
   "id": "bdbf77e8-d3e8-4eb8-92dd-3e7a21096e67",
   "metadata": {},
   "outputs": [
    {
     "data": {
      "text/plain": [
       "['Recep', 'Taha', 'Konyar']"
      ]
     },
     "execution_count": 83,
     "metadata": {},
     "output_type": "execute_result"
    }
   ],
   "source": [
    "isim.split()"
   ]
  },
  {
   "cell_type": "code",
   "execution_count": 84,
   "id": "8b1f301a-c1c5-4a00-88d4-8022294cc89a",
   "metadata": {},
   "outputs": [
    {
     "data": {
      "text/plain": [
       "['Recep Taha Konyar']"
      ]
     },
     "execution_count": 84,
     "metadata": {},
     "output_type": "execute_result"
    }
   ],
   "source": [
    "isim.split(\",\")"
   ]
  },
  {
   "cell_type": "code",
   "execution_count": 85,
   "id": "c7c8916b-44a0-4934-90d6-6868ad1ba6cd",
   "metadata": {},
   "outputs": [],
   "source": [
    "isim = \"Recep_Taha_Konyar\""
   ]
  },
  {
   "cell_type": "code",
   "execution_count": 86,
   "id": "5be50286-6607-4878-8808-8521e56b5e07",
   "metadata": {},
   "outputs": [
    {
     "data": {
      "text/plain": [
       "['Recep', 'Taha', 'Konyar']"
      ]
     },
     "execution_count": 86,
     "metadata": {},
     "output_type": "execute_result"
    }
   ],
   "source": [
    "isim.split(\"_\")"
   ]
  },
  {
   "cell_type": "markdown",
   "id": "78e1e959-cf66-4f68-b0f6-0124513dc9c5",
   "metadata": {},
   "source": [
    "## Büyük Küçük Harf İşlemleri"
   ]
  },
  {
   "cell_type": "code",
   "execution_count": 87,
   "id": "a5a7b9cc-617c-4061-a3b7-8a8758c12b8b",
   "metadata": {},
   "outputs": [],
   "source": [
    "isim = \"Recep Taha Konyar\""
   ]
  },
  {
   "cell_type": "code",
   "execution_count": 88,
   "id": "5a31a66e-2ce6-467c-b3a3-d3a306b08d3c",
   "metadata": {},
   "outputs": [
    {
     "data": {
      "text/plain": [
       "'RECEP TAHA KONYAR'"
      ]
     },
     "execution_count": 88,
     "metadata": {},
     "output_type": "execute_result"
    }
   ],
   "source": [
    "isim.upper()"
   ]
  },
  {
   "cell_type": "code",
   "execution_count": 89,
   "id": "c9fee4eb-c1d5-4e2a-a77f-2307e19427ba",
   "metadata": {},
   "outputs": [
    {
     "data": {
      "text/plain": [
       "'recep taha konyar'"
      ]
     },
     "execution_count": 89,
     "metadata": {},
     "output_type": "execute_result"
    }
   ],
   "source": [
    "isim.lower()"
   ]
  },
  {
   "cell_type": "code",
   "execution_count": 92,
   "id": "52739de0-2502-4d08-a24f-16196becc41b",
   "metadata": {},
   "outputs": [
    {
     "data": {
      "text/plain": [
       "'recep taha konyar'"
      ]
     },
     "execution_count": 92,
     "metadata": {},
     "output_type": "execute_result"
    }
   ],
   "source": [
    "isim.upper().lower()"
   ]
  },
  {
   "cell_type": "code",
   "execution_count": 93,
   "id": "3bc5ae97-5368-4ebb-b525-6900b24b1283",
   "metadata": {},
   "outputs": [],
   "source": [
    "isim_b = isim.upper()"
   ]
  },
  {
   "cell_type": "code",
   "execution_count": 94,
   "id": "4a476f39-61f5-4f31-91a4-63d6ae803d27",
   "metadata": {},
   "outputs": [
    {
     "data": {
      "text/plain": [
       "False"
      ]
     },
     "execution_count": 94,
     "metadata": {},
     "output_type": "execute_result"
    }
   ],
   "source": [
    "isim_b.islower()"
   ]
  },
  {
   "cell_type": "code",
   "execution_count": 95,
   "id": "74d58fc1-eba1-4a86-b3c7-957c2f4e3731",
   "metadata": {},
   "outputs": [
    {
     "data": {
      "text/plain": [
       "True"
      ]
     },
     "execution_count": 95,
     "metadata": {},
     "output_type": "execute_result"
    }
   ],
   "source": [
    "isim_b.isupper()"
   ]
  },
  {
   "cell_type": "markdown",
   "id": "0aa487ba-e79a-44a6-808d-6e5b470b04ed",
   "metadata": {},
   "source": [
    "## capitalize() & title() & swapcase()"
   ]
  },
  {
   "cell_type": "code",
   "execution_count": 106,
   "id": "35663c5e-c829-41f8-96fb-29420cf2642e",
   "metadata": {},
   "outputs": [],
   "source": [
    "isim = \"recep taha konyar\""
   ]
  },
  {
   "cell_type": "code",
   "execution_count": 107,
   "id": "a75fa51d-870a-48e5-9448-bebe2c13032a",
   "metadata": {},
   "outputs": [
    {
     "data": {
      "text/plain": [
       "'Recep taha konyar'"
      ]
     },
     "execution_count": 107,
     "metadata": {},
     "output_type": "execute_result"
    }
   ],
   "source": [
    "isim.capitalize()"
   ]
  },
  {
   "cell_type": "code",
   "execution_count": 108,
   "id": "563058fa-fa30-40c7-8852-f7cfd6506a87",
   "metadata": {},
   "outputs": [
    {
     "data": {
      "text/plain": [
       "'Recep Taha Konyar'"
      ]
     },
     "execution_count": 108,
     "metadata": {},
     "output_type": "execute_result"
    }
   ],
   "source": [
    "isim.title()"
   ]
  },
  {
   "cell_type": "code",
   "execution_count": 110,
   "id": "a3839f7e-6224-40d1-9afd-a561f1233dd1",
   "metadata": {},
   "outputs": [],
   "source": [
    "isim = \"recep TAHA konyar\""
   ]
  },
  {
   "cell_type": "code",
   "execution_count": 111,
   "id": "9d12dbad-81d6-42f6-a97b-1c502a7e3afe",
   "metadata": {},
   "outputs": [
    {
     "data": {
      "text/plain": [
       "'RECEP taha KONYAR'"
      ]
     },
     "execution_count": 111,
     "metadata": {},
     "output_type": "execute_result"
    }
   ],
   "source": [
    "isim.swapcase()"
   ]
  },
  {
   "cell_type": "markdown",
   "id": "28caa2ec-901f-4213-8669-f4628ebd07bf",
   "metadata": {},
   "source": [
    "## İstenmeyen Karakterleri Kırpmak: strip(), lstrip(), rstring()"
   ]
  },
  {
   "cell_type": "code",
   "execution_count": 124,
   "id": "1c38f656-79e7-45cb-9457-069786f38f23",
   "metadata": {},
   "outputs": [],
   "source": [
    "isim = \" hello \""
   ]
  },
  {
   "cell_type": "code",
   "execution_count": 125,
   "id": "3d32a786-93e8-4299-97f0-cec40ac286c1",
   "metadata": {},
   "outputs": [
    {
     "data": {
      "text/plain": [
       "'hello'"
      ]
     },
     "execution_count": 125,
     "metadata": {},
     "output_type": "execute_result"
    }
   ],
   "source": [
    "isim.strip()"
   ]
  },
  {
   "cell_type": "code",
   "execution_count": 126,
   "id": "f3762619-832d-4ae7-806b-4e1eb14a9d8f",
   "metadata": {},
   "outputs": [],
   "source": [
    "isim = \"*hello*\""
   ]
  },
  {
   "cell_type": "code",
   "execution_count": 127,
   "id": "869357d0-d68c-417e-8652-99d9f2d3976b",
   "metadata": {},
   "outputs": [
    {
     "data": {
      "text/plain": [
       "'hello'"
      ]
     },
     "execution_count": 127,
     "metadata": {},
     "output_type": "execute_result"
    }
   ],
   "source": [
    "isim.strip(\"*\")"
   ]
  },
  {
   "cell_type": "code",
   "execution_count": 128,
   "id": "89177198-13fb-4915-b10f-fd5b5cbdeb5c",
   "metadata": {},
   "outputs": [],
   "source": [
    "isim = \"lhellol\""
   ]
  },
  {
   "cell_type": "code",
   "execution_count": 129,
   "id": "3beb0d80-4973-4b89-892f-b6aa0d6f7079",
   "metadata": {},
   "outputs": [
    {
     "data": {
      "text/plain": [
       "'hello'"
      ]
     },
     "execution_count": 129,
     "metadata": {},
     "output_type": "execute_result"
    }
   ],
   "source": [
    "isim.strip(\"l\")"
   ]
  },
  {
   "cell_type": "code",
   "execution_count": 130,
   "id": "c65b9441-5e10-43da-a2f5-ddca21d3ef62",
   "metadata": {},
   "outputs": [],
   "source": [
    "isim = \"*hello*\""
   ]
  },
  {
   "cell_type": "code",
   "execution_count": 131,
   "id": "854b5fd8-3272-453d-a38f-a02f43cd970c",
   "metadata": {},
   "outputs": [
    {
     "data": {
      "text/plain": [
       "'hello*'"
      ]
     },
     "execution_count": 131,
     "metadata": {},
     "output_type": "execute_result"
    }
   ],
   "source": [
    "isim.lstrip(\"*\")"
   ]
  },
  {
   "cell_type": "code",
   "execution_count": 132,
   "id": "234524f5-2460-45c1-bef4-d7b4ca87ca0d",
   "metadata": {},
   "outputs": [],
   "source": [
    "isim = \"*hello*\""
   ]
  },
  {
   "cell_type": "code",
   "execution_count": 135,
   "id": "49af2df9-af0c-46dd-a411-103e2a6a665b",
   "metadata": {},
   "outputs": [
    {
     "data": {
      "text/plain": [
       "'*hello'"
      ]
     },
     "execution_count": 135,
     "metadata": {},
     "output_type": "execute_result"
    }
   ],
   "source": [
    "isim.rstrip(\"*\")"
   ]
  },
  {
   "cell_type": "markdown",
   "id": "34eed7da-731a-4bd4-bbf9-82bda81395bf",
   "metadata": {},
   "source": [
    "## join: bölünmüş ya da zaten bölük olan ifadelerin birleştirilmesi"
   ]
  },
  {
   "cell_type": "code",
   "execution_count": 136,
   "id": "df7f5f1f-d072-4852-8eac-d5ff8192ef6a",
   "metadata": {},
   "outputs": [],
   "source": [
    "isim = \"Recep Taha Konyar\""
   ]
  },
  {
   "cell_type": "code",
   "execution_count": 137,
   "id": "a67e51d2-a032-45d2-93bc-8f5c202f1ceb",
   "metadata": {},
   "outputs": [],
   "source": [
    "ayrik = isim.split()"
   ]
  },
  {
   "cell_type": "code",
   "execution_count": 138,
   "id": "768f7ad5-f2f4-4e20-b85e-db6c1480253e",
   "metadata": {},
   "outputs": [
    {
     "data": {
      "text/plain": [
       "['Recep', 'Taha', 'Konyar']"
      ]
     },
     "execution_count": 138,
     "metadata": {},
     "output_type": "execute_result"
    }
   ],
   "source": [
    "ayrik"
   ]
  },
  {
   "cell_type": "code",
   "execution_count": 139,
   "id": "bd646844-e3e4-4c51-bab1-560d4e43a775",
   "metadata": {},
   "outputs": [],
   "source": [
    "joiner = \" \""
   ]
  },
  {
   "cell_type": "code",
   "execution_count": 140,
   "id": "962deadf-0bbb-4913-9b49-9211a8412df0",
   "metadata": {},
   "outputs": [
    {
     "data": {
      "text/plain": [
       "'Recep Taha Konyar'"
      ]
     },
     "execution_count": 140,
     "metadata": {},
     "output_type": "execute_result"
    }
   ],
   "source": [
    "joiner.join(ayrik)"
   ]
  },
  {
   "cell_type": "code",
   "execution_count": 141,
   "id": "51a8a77b-5942-40bd-b557-c01122e947c4",
   "metadata": {},
   "outputs": [],
   "source": [
    "joiner = \"*****\""
   ]
  },
  {
   "cell_type": "code",
   "execution_count": 142,
   "id": "35085fdc-4f4d-457e-8a4b-1dbd8cd93c00",
   "metadata": {},
   "outputs": [
    {
     "data": {
      "text/plain": [
       "'Recep*****Taha*****Konyar'"
      ]
     },
     "execution_count": 142,
     "metadata": {},
     "output_type": "execute_result"
    }
   ],
   "source": [
    "joiner.join(ayrik)"
   ]
  },
  {
   "cell_type": "markdown",
   "id": "2dcb8eb2-cdec-4f2f-9aed-228106c93b66",
   "metadata": {},
   "source": [
    "## Eleman Değiştirme: replace() & str.maketrans() & translate()"
   ]
  },
  {
   "cell_type": "code",
   "execution_count": 143,
   "id": "e119d798-132c-45ee-b64a-64fe4a2bb12c",
   "metadata": {},
   "outputs": [
    {
     "data": {
      "text/plain": [
       "'Recep Taha Konyar'"
      ]
     },
     "execution_count": 143,
     "metadata": {},
     "output_type": "execute_result"
    }
   ],
   "source": [
    "isim"
   ]
  },
  {
   "cell_type": "code",
   "execution_count": 145,
   "id": "7599a71c-b90d-44c0-afe5-fdad87008354",
   "metadata": {},
   "outputs": [
    {
     "data": {
      "text/plain": [
       "'Recep Toho Konyor'"
      ]
     },
     "execution_count": 145,
     "metadata": {},
     "output_type": "execute_result"
    }
   ],
   "source": [
    "isim.replace(\"a\", \"o\")"
   ]
  },
  {
   "cell_type": "code",
   "execution_count": 146,
   "id": "d66f7b85-4159-4bb9-8ef1-4efc1483072c",
   "metadata": {},
   "outputs": [
    {
     "data": {
      "text/plain": [
       "'İşcep Taha Konyar'"
      ]
     },
     "execution_count": 146,
     "metadata": {},
     "output_type": "execute_result"
    }
   ],
   "source": [
    "isim.replace(\"Re\", \"İş\")"
   ]
  },
  {
   "cell_type": "code",
   "execution_count": 153,
   "id": "1674f113-0059-4156-9a34-3d222985b2e2",
   "metadata": {},
   "outputs": [],
   "source": [
    "ifade = \"Bu İfade İçerisinde bağzı Türkçe karakterler vardır\""
   ]
  },
  {
   "cell_type": "code",
   "execution_count": 154,
   "id": "4b70d8c3-b637-4e3c-b15e-512cb87472f5",
   "metadata": {},
   "outputs": [],
   "source": [
    "duzeltilecek_harfler = \"çÇğĞıİöÖşŞüÜ\"\n",
    "duzeltilmis_harfler = \"cCgGiIoOsSuU\""
   ]
  },
  {
   "cell_type": "code",
   "execution_count": 155,
   "id": "c94e1506-cf38-4ca0-919e-71a8f3b7a71f",
   "metadata": {},
   "outputs": [],
   "source": [
    "alfabe_duzeltme = str.maketrans(duzeltilecek_harfler, duzeltilmis_harfler)"
   ]
  },
  {
   "cell_type": "code",
   "execution_count": 156,
   "id": "6c7caa6a-7533-4c2c-b0ed-8fb5c6445b1e",
   "metadata": {},
   "outputs": [
    {
     "data": {
      "text/plain": [
       "'Bu Ifade Icerisinde bagzi Turkce karakterler vardir'"
      ]
     },
     "execution_count": 156,
     "metadata": {},
     "output_type": "execute_result"
    }
   ],
   "source": [
    "ifade.translate(alfabe_duzeltme)"
   ]
  },
  {
   "cell_type": "markdown",
   "id": "19dc8c64-d85b-4274-a6c0-effa92749a78",
   "metadata": {},
   "source": [
    "## contains()"
   ]
  },
  {
   "cell_type": "code",
   "execution_count": 159,
   "id": "3d30a424-4fd5-4f2e-9add-d3ddf43942c7",
   "metadata": {},
   "outputs": [],
   "source": [
    "import pandas as pd\n",
    "isimler = [\"ayse\", \"Ayşe\", \"ali\", \"aali\", \"Ali\", \"veli\", \"mehmet\", \"berkcan\"]\n",
    "v = pd.Series(isimler)"
   ]
  },
  {
   "cell_type": "code",
   "execution_count": 160,
   "id": "76cec7ec-9dd8-4484-8dda-cbd7bc15a96b",
   "metadata": {},
   "outputs": [
    {
     "data": {
      "text/plain": [
       "0       ayse\n",
       "1       Ayşe\n",
       "2        ali\n",
       "3       aali\n",
       "4        Ali\n",
       "5       veli\n",
       "6     mehmet\n",
       "7    berkcan\n",
       "dtype: object"
      ]
     },
     "execution_count": 160,
     "metadata": {},
     "output_type": "execute_result"
    }
   ],
   "source": [
    "v"
   ]
  },
  {
   "cell_type": "code",
   "execution_count": 161,
   "id": "fd510696-1dbf-4e99-88bb-7676cb45da49",
   "metadata": {},
   "outputs": [
    {
     "data": {
      "text/plain": [
       "0    False\n",
       "1    False\n",
       "2     True\n",
       "3     True\n",
       "4    False\n",
       "5    False\n",
       "6    False\n",
       "7    False\n",
       "dtype: bool"
      ]
     },
     "execution_count": 161,
     "metadata": {},
     "output_type": "execute_result"
    }
   ],
   "source": [
    "v.str.contains(\"al\")"
   ]
  },
  {
   "cell_type": "code",
   "execution_count": 162,
   "id": "28a0a73a-df79-49d3-8e8d-094b81f2e3b9",
   "metadata": {},
   "outputs": [
    {
     "data": {
      "text/plain": [
       "2     ali\n",
       "3    aali\n",
       "dtype: object"
      ]
     },
     "execution_count": 162,
     "metadata": {},
     "output_type": "execute_result"
    }
   ],
   "source": [
    "v[v.str.contains(\"al\")]"
   ]
  },
  {
   "cell_type": "code",
   "execution_count": 163,
   "id": "a29e913b-53e1-442e-8a37-c8702767e4bb",
   "metadata": {},
   "outputs": [
    {
     "data": {
      "text/plain": [
       "2"
      ]
     },
     "execution_count": 163,
     "metadata": {},
     "output_type": "execute_result"
    }
   ],
   "source": [
    "v.str.contains(\"al\").sum()"
   ]
  },
  {
   "cell_type": "code",
   "execution_count": 164,
   "id": "179a6b2e-f495-4f39-a928-a819786183f0",
   "metadata": {},
   "outputs": [
    {
     "data": {
      "text/plain": [
       "3"
      ]
     },
     "execution_count": 164,
     "metadata": {},
     "output_type": "execute_result"
    }
   ],
   "source": [
    "v.str.contains(\"[aA]li\").sum()"
   ]
  },
  {
   "cell_type": "code",
   "execution_count": 166,
   "id": "7b5ce74a-8649-40ea-9b69-0333d5a15b40",
   "metadata": {},
   "outputs": [
    {
     "data": {
      "text/plain": [
       "2     ali\n",
       "3    aali\n",
       "4     Ali\n",
       "dtype: object"
      ]
     },
     "execution_count": 166,
     "metadata": {},
     "output_type": "execute_result"
    }
   ],
   "source": [
    "v[v.str.contains(\"[aA]li\")]"
   ]
  },
  {
   "cell_type": "code",
   "execution_count": null,
   "id": "285e9d4c-fa31-45b2-81a6-fa0dc7a758cf",
   "metadata": {},
   "outputs": [],
   "source": []
  }
 ],
 "metadata": {
  "kernelspec": {
   "display_name": "Python 3 (ipykernel)",
   "language": "python",
   "name": "python3"
  },
  "language_info": {
   "codemirror_mode": {
    "name": "ipython",
    "version": 3
   },
   "file_extension": ".py",
   "mimetype": "text/x-python",
   "name": "python",
   "nbconvert_exporter": "python",
   "pygments_lexer": "ipython3",
   "version": "3.11.5"
  }
 },
 "nbformat": 4,
 "nbformat_minor": 5
}
