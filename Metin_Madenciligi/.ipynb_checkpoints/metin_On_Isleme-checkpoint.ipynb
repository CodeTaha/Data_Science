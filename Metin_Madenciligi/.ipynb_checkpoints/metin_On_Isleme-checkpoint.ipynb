{
 "cells": [
  {
   "cell_type": "markdown",
   "id": "9e7620f9-f9a2-488f-b40c-4d1afbfd9951",
   "metadata": {},
   "source": [
    "# Metin Madenciliği ve Doğal Dil İşleme Giriş"
   ]
  },
  {
   "cell_type": "markdown",
   "id": "447ab4ac-f543-4c39-a77b-7f89a48d500e",
   "metadata": {},
   "source": [
    "## Metin Ön İşleme"
   ]
  },
  {
   "cell_type": "code",
   "execution_count": 1,
   "id": "f9f1b7e3-ecc9-4672-a8fd-6b89c5dc89e0",
   "metadata": {},
   "outputs": [],
   "source": [
    "import pandas as pd"
   ]
  },
  {
   "cell_type": "code",
   "execution_count": 2,
   "id": "ffc714a3-63d5-4884-a481-aab7b11f5f09",
   "metadata": {},
   "outputs": [
    {
     "data": {
      "text/plain": [
       "\"\\nA Scandal in Bohemia! 01\\nThe Red-headed League,2\\nA Case, of Identity 33\\nThe Boscombe Valley Mystery4\\nThe Five Orange Pips1\\nThe Man with? the Twisted Lip\\nThe Adventure of the Blue Carbuncle\\nThe Adventure of the Speckled Band\\nThe Adventure of the Engineer's Thumb\\nThe Adventure of the Noble Bachelor\\nThe Adventure of the Beryl Coronet\\nThe Adventure of the Copper Beeches\""
      ]
     },
     "execution_count": 2,
     "metadata": {},
     "output_type": "execute_result"
    }
   ],
   "source": [
    "metin = \"\"\"\n",
    "A Scandal in Bohemia! 01\n",
    "The Red-headed League,2\n",
    "A Case, of Identity 33\n",
    "The Boscombe Valley Mystery4\n",
    "The Five Orange Pips1\n",
    "The Man with? the Twisted Lip\n",
    "The Adventure of the Blue Carbuncle\n",
    "The Adventure of the Speckled Band\n",
    "The Adventure of the Engineer's Thumb\n",
    "The Adventure of the Noble Bachelor\n",
    "The Adventure of the Beryl Coronet\n",
    "The Adventure of the Copper Beeches\"\"\"\n",
    "\n",
    "metin"
   ]
  },
  {
   "cell_type": "code",
   "execution_count": 3,
   "id": "1197e387-6ec2-4529-afbd-07b911df5e3e",
   "metadata": {},
   "outputs": [
    {
     "data": {
      "text/plain": [
       "['A',\n",
       " 'Scandal',\n",
       " 'in',\n",
       " 'Bohemia!',\n",
       " '01',\n",
       " 'The',\n",
       " 'Red-headed',\n",
       " 'League,2',\n",
       " 'A',\n",
       " 'Case,',\n",
       " 'of',\n",
       " 'Identity',\n",
       " '33',\n",
       " 'The',\n",
       " 'Boscombe',\n",
       " 'Valley',\n",
       " 'Mystery4',\n",
       " 'The',\n",
       " 'Five',\n",
       " 'Orange',\n",
       " 'Pips1',\n",
       " 'The',\n",
       " 'Man',\n",
       " 'with?',\n",
       " 'the',\n",
       " 'Twisted',\n",
       " 'Lip',\n",
       " 'The',\n",
       " 'Adventure',\n",
       " 'of',\n",
       " 'the',\n",
       " 'Blue',\n",
       " 'Carbuncle',\n",
       " 'The',\n",
       " 'Adventure',\n",
       " 'of',\n",
       " 'the',\n",
       " 'Speckled',\n",
       " 'Band',\n",
       " 'The',\n",
       " 'Adventure',\n",
       " 'of',\n",
       " 'the',\n",
       " \"Engineer's\",\n",
       " 'Thumb',\n",
       " 'The',\n",
       " 'Adventure',\n",
       " 'of',\n",
       " 'the',\n",
       " 'Noble',\n",
       " 'Bachelor',\n",
       " 'The',\n",
       " 'Adventure',\n",
       " 'of',\n",
       " 'the',\n",
       " 'Beryl',\n",
       " 'Coronet',\n",
       " 'The',\n",
       " 'Adventure',\n",
       " 'of',\n",
       " 'the',\n",
       " 'Copper',\n",
       " 'Beeches']"
      ]
     },
     "execution_count": 3,
     "metadata": {},
     "output_type": "execute_result"
    }
   ],
   "source": [
    "metin.split()"
   ]
  },
  {
   "cell_type": "code",
   "execution_count": 4,
   "id": "a5873623-bf3c-4c29-950e-2e949595caae",
   "metadata": {},
   "outputs": [
    {
     "data": {
      "text/plain": [
       "['',\n",
       " 'A Scandal in Bohemia! 01',\n",
       " 'The Red-headed League,2',\n",
       " 'A Case, of Identity 33',\n",
       " 'The Boscombe Valley Mystery4',\n",
       " 'The Five Orange Pips1',\n",
       " 'The Man with? the Twisted Lip',\n",
       " 'The Adventure of the Blue Carbuncle',\n",
       " 'The Adventure of the Speckled Band',\n",
       " \"The Adventure of the Engineer's Thumb\",\n",
       " 'The Adventure of the Noble Bachelor',\n",
       " 'The Adventure of the Beryl Coronet',\n",
       " 'The Adventure of the Copper Beeches']"
      ]
     },
     "execution_count": 4,
     "metadata": {},
     "output_type": "execute_result"
    }
   ],
   "source": [
    "metin.split(\"\\n\")"
   ]
  },
  {
   "cell_type": "code",
   "execution_count": 5,
   "id": "51bb2bd3-35c7-4d8a-9277-b4468671170d",
   "metadata": {},
   "outputs": [],
   "source": [
    "v_metin = metin.split(\"\\n\")"
   ]
  },
  {
   "cell_type": "code",
   "execution_count": 6,
   "id": "e809e464-bb38-4a52-bb2f-057f8e07689e",
   "metadata": {},
   "outputs": [],
   "source": [
    "v = pd.Series(v_metin)"
   ]
  },
  {
   "cell_type": "code",
   "execution_count": 7,
   "id": "44a5cabd-a82b-480a-8824-a36932a329bb",
   "metadata": {},
   "outputs": [
    {
     "data": {
      "text/plain": [
       "0                                          \n",
       "1                  A Scandal in Bohemia! 01\n",
       "2                   The Red-headed League,2\n",
       "3                    A Case, of Identity 33\n",
       "4              The Boscombe Valley Mystery4\n",
       "5                     The Five Orange Pips1\n",
       "6             The Man with? the Twisted Lip\n",
       "7       The Adventure of the Blue Carbuncle\n",
       "8        The Adventure of the Speckled Band\n",
       "9     The Adventure of the Engineer's Thumb\n",
       "10      The Adventure of the Noble Bachelor\n",
       "11       The Adventure of the Beryl Coronet\n",
       "12      The Adventure of the Copper Beeches\n",
       "dtype: object"
      ]
     },
     "execution_count": 7,
     "metadata": {},
     "output_type": "execute_result"
    }
   ],
   "source": [
    "v"
   ]
  },
  {
   "cell_type": "code",
   "execution_count": 8,
   "id": "27687f20-b107-4ac0-87a1-2826ad66bf98",
   "metadata": {},
   "outputs": [],
   "source": [
    "metin_vektoru = v[1:len(v)]"
   ]
  },
  {
   "cell_type": "code",
   "execution_count": 9,
   "id": "13de61d2-b3d2-403b-be3e-5d8d9e3aba49",
   "metadata": {},
   "outputs": [
    {
     "data": {
      "text/plain": [
       "1                  A Scandal in Bohemia! 01\n",
       "2                   The Red-headed League,2\n",
       "3                    A Case, of Identity 33\n",
       "4              The Boscombe Valley Mystery4\n",
       "5                     The Five Orange Pips1\n",
       "6             The Man with? the Twisted Lip\n",
       "7       The Adventure of the Blue Carbuncle\n",
       "8        The Adventure of the Speckled Band\n",
       "9     The Adventure of the Engineer's Thumb\n",
       "10      The Adventure of the Noble Bachelor\n",
       "11       The Adventure of the Beryl Coronet\n",
       "12      The Adventure of the Copper Beeches\n",
       "dtype: object"
      ]
     },
     "execution_count": 9,
     "metadata": {},
     "output_type": "execute_result"
    }
   ],
   "source": [
    "metin_vektoru"
   ]
  },
  {
   "cell_type": "code",
   "execution_count": 10,
   "id": "9fd6c80c-8be9-4453-9ad6-2edb789dfb4b",
   "metadata": {},
   "outputs": [],
   "source": [
    "mdf = pd.DataFrame(metin_vektoru, columns=[\"hikayeler\"])"
   ]
  },
  {
   "cell_type": "code",
   "execution_count": 11,
   "id": "f146ede1-7476-46c5-a091-66ee3a0f28e7",
   "metadata": {},
   "outputs": [
    {
     "data": {
      "text/html": [
       "<div>\n",
       "<style scoped>\n",
       "    .dataframe tbody tr th:only-of-type {\n",
       "        vertical-align: middle;\n",
       "    }\n",
       "\n",
       "    .dataframe tbody tr th {\n",
       "        vertical-align: top;\n",
       "    }\n",
       "\n",
       "    .dataframe thead th {\n",
       "        text-align: right;\n",
       "    }\n",
       "</style>\n",
       "<table border=\"1\" class=\"dataframe\">\n",
       "  <thead>\n",
       "    <tr style=\"text-align: right;\">\n",
       "      <th></th>\n",
       "      <th>hikayeler</th>\n",
       "    </tr>\n",
       "  </thead>\n",
       "  <tbody>\n",
       "    <tr>\n",
       "      <th>1</th>\n",
       "      <td>A Scandal in Bohemia! 01</td>\n",
       "    </tr>\n",
       "    <tr>\n",
       "      <th>2</th>\n",
       "      <td>The Red-headed League,2</td>\n",
       "    </tr>\n",
       "    <tr>\n",
       "      <th>3</th>\n",
       "      <td>A Case, of Identity 33</td>\n",
       "    </tr>\n",
       "    <tr>\n",
       "      <th>4</th>\n",
       "      <td>The Boscombe Valley Mystery4</td>\n",
       "    </tr>\n",
       "    <tr>\n",
       "      <th>5</th>\n",
       "      <td>The Five Orange Pips1</td>\n",
       "    </tr>\n",
       "    <tr>\n",
       "      <th>6</th>\n",
       "      <td>The Man with? the Twisted Lip</td>\n",
       "    </tr>\n",
       "    <tr>\n",
       "      <th>7</th>\n",
       "      <td>The Adventure of the Blue Carbuncle</td>\n",
       "    </tr>\n",
       "    <tr>\n",
       "      <th>8</th>\n",
       "      <td>The Adventure of the Speckled Band</td>\n",
       "    </tr>\n",
       "    <tr>\n",
       "      <th>9</th>\n",
       "      <td>The Adventure of the Engineer's Thumb</td>\n",
       "    </tr>\n",
       "    <tr>\n",
       "      <th>10</th>\n",
       "      <td>The Adventure of the Noble Bachelor</td>\n",
       "    </tr>\n",
       "    <tr>\n",
       "      <th>11</th>\n",
       "      <td>The Adventure of the Beryl Coronet</td>\n",
       "    </tr>\n",
       "    <tr>\n",
       "      <th>12</th>\n",
       "      <td>The Adventure of the Copper Beeches</td>\n",
       "    </tr>\n",
       "  </tbody>\n",
       "</table>\n",
       "</div>"
      ],
      "text/plain": [
       "                                hikayeler\n",
       "1                A Scandal in Bohemia! 01\n",
       "2                 The Red-headed League,2\n",
       "3                  A Case, of Identity 33\n",
       "4            The Boscombe Valley Mystery4\n",
       "5                   The Five Orange Pips1\n",
       "6           The Man with? the Twisted Lip\n",
       "7     The Adventure of the Blue Carbuncle\n",
       "8      The Adventure of the Speckled Band\n",
       "9   The Adventure of the Engineer's Thumb\n",
       "10    The Adventure of the Noble Bachelor\n",
       "11     The Adventure of the Beryl Coronet\n",
       "12    The Adventure of the Copper Beeches"
      ]
     },
     "execution_count": 11,
     "metadata": {},
     "output_type": "execute_result"
    }
   ],
   "source": [
    "mdf"
   ]
  },
  {
   "cell_type": "markdown",
   "id": "e2d8fa77-c1db-4311-848b-535d7cd7a66c",
   "metadata": {},
   "source": [
    "## Büyük-Küçük Harf"
   ]
  },
  {
   "cell_type": "code",
   "execution_count": 12,
   "id": "26aa72e2-abc6-4c1c-aac7-3ae8151976b2",
   "metadata": {},
   "outputs": [],
   "source": [
    "d_mdf = mdf.copy()"
   ]
  },
  {
   "cell_type": "code",
   "execution_count": 13,
   "id": "a223a8ed-fadb-4159-848a-e25242dfbb3c",
   "metadata": {},
   "outputs": [
    {
     "data": {
      "text/html": [
       "<div>\n",
       "<style scoped>\n",
       "    .dataframe tbody tr th:only-of-type {\n",
       "        vertical-align: middle;\n",
       "    }\n",
       "\n",
       "    .dataframe tbody tr th {\n",
       "        vertical-align: top;\n",
       "    }\n",
       "\n",
       "    .dataframe thead th {\n",
       "        text-align: right;\n",
       "    }\n",
       "</style>\n",
       "<table border=\"1\" class=\"dataframe\">\n",
       "  <thead>\n",
       "    <tr style=\"text-align: right;\">\n",
       "      <th></th>\n",
       "      <th>hikayeler</th>\n",
       "    </tr>\n",
       "  </thead>\n",
       "  <tbody>\n",
       "    <tr>\n",
       "      <th>1</th>\n",
       "      <td>A Scandal in Bohemia! 01</td>\n",
       "    </tr>\n",
       "    <tr>\n",
       "      <th>2</th>\n",
       "      <td>The Red-headed League,2</td>\n",
       "    </tr>\n",
       "    <tr>\n",
       "      <th>3</th>\n",
       "      <td>A Case, of Identity 33</td>\n",
       "    </tr>\n",
       "    <tr>\n",
       "      <th>4</th>\n",
       "      <td>The Boscombe Valley Mystery4</td>\n",
       "    </tr>\n",
       "    <tr>\n",
       "      <th>5</th>\n",
       "      <td>The Five Orange Pips1</td>\n",
       "    </tr>\n",
       "    <tr>\n",
       "      <th>6</th>\n",
       "      <td>The Man with? the Twisted Lip</td>\n",
       "    </tr>\n",
       "    <tr>\n",
       "      <th>7</th>\n",
       "      <td>The Adventure of the Blue Carbuncle</td>\n",
       "    </tr>\n",
       "    <tr>\n",
       "      <th>8</th>\n",
       "      <td>The Adventure of the Speckled Band</td>\n",
       "    </tr>\n",
       "    <tr>\n",
       "      <th>9</th>\n",
       "      <td>The Adventure of the Engineer's Thumb</td>\n",
       "    </tr>\n",
       "    <tr>\n",
       "      <th>10</th>\n",
       "      <td>The Adventure of the Noble Bachelor</td>\n",
       "    </tr>\n",
       "    <tr>\n",
       "      <th>11</th>\n",
       "      <td>The Adventure of the Beryl Coronet</td>\n",
       "    </tr>\n",
       "    <tr>\n",
       "      <th>12</th>\n",
       "      <td>The Adventure of the Copper Beeches</td>\n",
       "    </tr>\n",
       "  </tbody>\n",
       "</table>\n",
       "</div>"
      ],
      "text/plain": [
       "                                hikayeler\n",
       "1                A Scandal in Bohemia! 01\n",
       "2                 The Red-headed League,2\n",
       "3                  A Case, of Identity 33\n",
       "4            The Boscombe Valley Mystery4\n",
       "5                   The Five Orange Pips1\n",
       "6           The Man with? the Twisted Lip\n",
       "7     The Adventure of the Blue Carbuncle\n",
       "8      The Adventure of the Speckled Band\n",
       "9   The Adventure of the Engineer's Thumb\n",
       "10    The Adventure of the Noble Bachelor\n",
       "11     The Adventure of the Beryl Coronet\n",
       "12    The Adventure of the Copper Beeches"
      ]
     },
     "execution_count": 13,
     "metadata": {},
     "output_type": "execute_result"
    }
   ],
   "source": [
    "d_mdf"
   ]
  },
  {
   "cell_type": "code",
   "execution_count": 14,
   "id": "98a8f44a-9137-4c2c-9a9c-9cbe34585bfe",
   "metadata": {},
   "outputs": [],
   "source": [
    "list1 = [1,2,3]"
   ]
  },
  {
   "cell_type": "code",
   "execution_count": 15,
   "id": "931fa30f-f20c-4e2a-9943-97d84fda3364",
   "metadata": {},
   "outputs": [],
   "source": [
    "str1 = \" \".join(str(i) for i in list1)"
   ]
  },
  {
   "cell_type": "code",
   "execution_count": 16,
   "id": "674b973e-74d3-4b68-830d-5afb1bc19c4c",
   "metadata": {},
   "outputs": [
    {
     "data": {
      "text/plain": [
       "'1 2 3'"
      ]
     },
     "execution_count": 16,
     "metadata": {},
     "output_type": "execute_result"
    }
   ],
   "source": [
    "str1"
   ]
  },
  {
   "cell_type": "code",
   "execution_count": 17,
   "id": "ca1d9493-c678-4985-aabe-f030236515af",
   "metadata": {},
   "outputs": [],
   "source": [
    "d_mdf = d_mdf[\"hikayeler\"].apply(lambda x: \" \".join(x.lower() for x in x.split()))"
   ]
  },
  {
   "cell_type": "code",
   "execution_count": 18,
   "id": "05d883f7-c02d-4c29-9bfa-af6d1de4a735",
   "metadata": {},
   "outputs": [
    {
     "data": {
      "text/plain": [
       "1                  a scandal in bohemia! 01\n",
       "2                   the red-headed league,2\n",
       "3                    a case, of identity 33\n",
       "4              the boscombe valley mystery4\n",
       "5                     the five orange pips1\n",
       "6             the man with? the twisted lip\n",
       "7       the adventure of the blue carbuncle\n",
       "8        the adventure of the speckled band\n",
       "9     the adventure of the engineer's thumb\n",
       "10      the adventure of the noble bachelor\n",
       "11       the adventure of the beryl coronet\n",
       "12      the adventure of the copper beeches\n",
       "Name: hikayeler, dtype: object"
      ]
     },
     "execution_count": 18,
     "metadata": {},
     "output_type": "execute_result"
    }
   ],
   "source": [
    "d_mdf"
   ]
  },
  {
   "cell_type": "markdown",
   "id": "51b3d9b8-1e93-4425-a5ae-01547f366587",
   "metadata": {},
   "source": [
    "## Noktalama İşaretlerinin Silinesi"
   ]
  },
  {
   "cell_type": "code",
   "execution_count": 19,
   "id": "06d28b6d-ea0b-47b9-a23a-102bf5923e20",
   "metadata": {},
   "outputs": [
    {
     "data": {
      "text/plain": [
       "1                  a scandal in bohemia! 01\n",
       "2                   the red-headed league,2\n",
       "3                    a case, of identity 33\n",
       "4              the boscombe valley mystery4\n",
       "5                     the five orange pips1\n",
       "6             the man with? the twisted lip\n",
       "7       the adventure of the blue carbuncle\n",
       "8        the adventure of the speckled band\n",
       "9     the adventure of the engineer's thumb\n",
       "10      the adventure of the noble bachelor\n",
       "11       the adventure of the beryl coronet\n",
       "12      the adventure of the copper beeches\n",
       "Name: hikayeler, dtype: object"
      ]
     },
     "execution_count": 19,
     "metadata": {},
     "output_type": "execute_result"
    }
   ],
   "source": [
    "d_mdf"
   ]
  },
  {
   "cell_type": "code",
   "execution_count": 20,
   "id": "24e838e2-de46-48d1-8d2c-7185b4631206",
   "metadata": {},
   "outputs": [
    {
     "data": {
      "text/plain": [
       "pandas.core.series.Series"
      ]
     },
     "execution_count": 20,
     "metadata": {},
     "output_type": "execute_result"
    }
   ],
   "source": [
    "type(d_mdf)"
   ]
  },
  {
   "cell_type": "code",
   "execution_count": 21,
   "id": "c30b6142-3cbd-441d-a0ad-34cdfa3bbbbd",
   "metadata": {},
   "outputs": [],
   "source": [
    "#d_mdf = pd.DataFrame(d_mdf, columns = [\"hikayeler\"])"
   ]
  },
  {
   "cell_type": "code",
   "execution_count": 22,
   "id": "374c3c4a-c5da-4528-9544-86034b5e5d7c",
   "metadata": {},
   "outputs": [],
   "source": [
    "d_mdf = d_mdf.str.replace(r\"[^\\w\\s]\", \"\", regex=True)"
   ]
  },
  {
   "cell_type": "code",
   "execution_count": 23,
   "id": "f7c2ac63-3b8a-4673-9c3e-b899a86455bd",
   "metadata": {},
   "outputs": [
    {
     "data": {
      "text/plain": [
       "1                  a scandal in bohemia 01\n",
       "2                    the redheaded league2\n",
       "3                    a case of identity 33\n",
       "4             the boscombe valley mystery4\n",
       "5                    the five orange pips1\n",
       "6             the man with the twisted lip\n",
       "7      the adventure of the blue carbuncle\n",
       "8       the adventure of the speckled band\n",
       "9     the adventure of the engineers thumb\n",
       "10     the adventure of the noble bachelor\n",
       "11      the adventure of the beryl coronet\n",
       "12     the adventure of the copper beeches\n",
       "Name: hikayeler, dtype: object"
      ]
     },
     "execution_count": 23,
     "metadata": {},
     "output_type": "execute_result"
    }
   ],
   "source": [
    "d_mdf"
   ]
  },
  {
   "cell_type": "markdown",
   "id": "2b28ec7e-2464-4ae5-a80b-951c592024a7",
   "metadata": {},
   "source": [
    "## Sayıları Silmek"
   ]
  },
  {
   "cell_type": "code",
   "execution_count": 24,
   "id": "28582828-2eef-48a4-889d-601a59bc48d3",
   "metadata": {},
   "outputs": [],
   "source": [
    "d_mdf = d_mdf.str.replace(r\"\\d\", \"\", regex=True)"
   ]
  },
  {
   "cell_type": "markdown",
   "id": "c6038cdd-aa8b-4d6b-8a09-483043eb0001",
   "metadata": {},
   "source": [
    "## Stopwords"
   ]
  },
  {
   "cell_type": "code",
   "execution_count": 25,
   "id": "f37a8c45-d30c-4aff-995c-597498f934c1",
   "metadata": {},
   "outputs": [],
   "source": [
    "d_mdf = pd.DataFrame(d_mdf, columns = [\"hikayeler\"])"
   ]
  },
  {
   "cell_type": "code",
   "execution_count": 26,
   "id": "54a2d47f-29ef-4907-abc1-1cf2c420df4a",
   "metadata": {},
   "outputs": [],
   "source": [
    "#!pip install nltk"
   ]
  },
  {
   "cell_type": "code",
   "execution_count": 27,
   "id": "a12e8674-3483-4d9e-b1dd-560184c27f76",
   "metadata": {},
   "outputs": [],
   "source": [
    "import nltk"
   ]
  },
  {
   "cell_type": "code",
   "execution_count": 28,
   "id": "8d3828e4-c09c-4ca0-aeec-42ae8151cd4d",
   "metadata": {},
   "outputs": [
    {
     "name": "stderr",
     "output_type": "stream",
     "text": [
      "[nltk_data] Downloading package stopwords to\n",
      "[nltk_data]     C:\\Users\\Taha\\AppData\\Roaming\\nltk_data...\n",
      "[nltk_data]   Package stopwords is already up-to-date!\n"
     ]
    },
    {
     "data": {
      "text/plain": [
       "True"
      ]
     },
     "execution_count": 28,
     "metadata": {},
     "output_type": "execute_result"
    }
   ],
   "source": [
    "nltk.download(\"stopwords\")"
   ]
  },
  {
   "cell_type": "code",
   "execution_count": 29,
   "id": "905a3eb0-3608-4dae-b683-50b728dec51d",
   "metadata": {},
   "outputs": [],
   "source": [
    "from nltk.corpus import stopwords"
   ]
  },
  {
   "cell_type": "code",
   "execution_count": 30,
   "id": "8e61ca22-4e5f-4874-90ee-9ce0a4bb0133",
   "metadata": {},
   "outputs": [],
   "source": [
    "sw = stopwords.words(\"english\")"
   ]
  },
  {
   "cell_type": "code",
   "execution_count": 31,
   "id": "64e0dca3-5f76-4c5b-8321-78a1296741dc",
   "metadata": {},
   "outputs": [
    {
     "data": {
      "text/plain": [
       "['i',\n",
       " 'me',\n",
       " 'my',\n",
       " 'myself',\n",
       " 'we',\n",
       " 'our',\n",
       " 'ours',\n",
       " 'ourselves',\n",
       " 'you',\n",
       " \"you're\",\n",
       " \"you've\",\n",
       " \"you'll\",\n",
       " \"you'd\",\n",
       " 'your',\n",
       " 'yours',\n",
       " 'yourself',\n",
       " 'yourselves',\n",
       " 'he',\n",
       " 'him',\n",
       " 'his',\n",
       " 'himself',\n",
       " 'she',\n",
       " \"she's\",\n",
       " 'her',\n",
       " 'hers',\n",
       " 'herself',\n",
       " 'it',\n",
       " \"it's\",\n",
       " 'its',\n",
       " 'itself',\n",
       " 'they',\n",
       " 'them',\n",
       " 'their',\n",
       " 'theirs',\n",
       " 'themselves',\n",
       " 'what',\n",
       " 'which',\n",
       " 'who',\n",
       " 'whom',\n",
       " 'this',\n",
       " 'that',\n",
       " \"that'll\",\n",
       " 'these',\n",
       " 'those',\n",
       " 'am',\n",
       " 'is',\n",
       " 'are',\n",
       " 'was',\n",
       " 'were',\n",
       " 'be',\n",
       " 'been',\n",
       " 'being',\n",
       " 'have',\n",
       " 'has',\n",
       " 'had',\n",
       " 'having',\n",
       " 'do',\n",
       " 'does',\n",
       " 'did',\n",
       " 'doing',\n",
       " 'a',\n",
       " 'an',\n",
       " 'the',\n",
       " 'and',\n",
       " 'but',\n",
       " 'if',\n",
       " 'or',\n",
       " 'because',\n",
       " 'as',\n",
       " 'until',\n",
       " 'while',\n",
       " 'of',\n",
       " 'at',\n",
       " 'by',\n",
       " 'for',\n",
       " 'with',\n",
       " 'about',\n",
       " 'against',\n",
       " 'between',\n",
       " 'into',\n",
       " 'through',\n",
       " 'during',\n",
       " 'before',\n",
       " 'after',\n",
       " 'above',\n",
       " 'below',\n",
       " 'to',\n",
       " 'from',\n",
       " 'up',\n",
       " 'down',\n",
       " 'in',\n",
       " 'out',\n",
       " 'on',\n",
       " 'off',\n",
       " 'over',\n",
       " 'under',\n",
       " 'again',\n",
       " 'further',\n",
       " 'then',\n",
       " 'once',\n",
       " 'here',\n",
       " 'there',\n",
       " 'when',\n",
       " 'where',\n",
       " 'why',\n",
       " 'how',\n",
       " 'all',\n",
       " 'any',\n",
       " 'both',\n",
       " 'each',\n",
       " 'few',\n",
       " 'more',\n",
       " 'most',\n",
       " 'other',\n",
       " 'some',\n",
       " 'such',\n",
       " 'no',\n",
       " 'nor',\n",
       " 'not',\n",
       " 'only',\n",
       " 'own',\n",
       " 'same',\n",
       " 'so',\n",
       " 'than',\n",
       " 'too',\n",
       " 'very',\n",
       " 's',\n",
       " 't',\n",
       " 'can',\n",
       " 'will',\n",
       " 'just',\n",
       " 'don',\n",
       " \"don't\",\n",
       " 'should',\n",
       " \"should've\",\n",
       " 'now',\n",
       " 'd',\n",
       " 'll',\n",
       " 'm',\n",
       " 'o',\n",
       " 're',\n",
       " 've',\n",
       " 'y',\n",
       " 'ain',\n",
       " 'aren',\n",
       " \"aren't\",\n",
       " 'couldn',\n",
       " \"couldn't\",\n",
       " 'didn',\n",
       " \"didn't\",\n",
       " 'doesn',\n",
       " \"doesn't\",\n",
       " 'hadn',\n",
       " \"hadn't\",\n",
       " 'hasn',\n",
       " \"hasn't\",\n",
       " 'haven',\n",
       " \"haven't\",\n",
       " 'isn',\n",
       " \"isn't\",\n",
       " 'ma',\n",
       " 'mightn',\n",
       " \"mightn't\",\n",
       " 'mustn',\n",
       " \"mustn't\",\n",
       " 'needn',\n",
       " \"needn't\",\n",
       " 'shan',\n",
       " \"shan't\",\n",
       " 'shouldn',\n",
       " \"shouldn't\",\n",
       " 'wasn',\n",
       " \"wasn't\",\n",
       " 'weren',\n",
       " \"weren't\",\n",
       " 'won',\n",
       " \"won't\",\n",
       " 'wouldn',\n",
       " \"wouldn't\"]"
      ]
     },
     "execution_count": 31,
     "metadata": {},
     "output_type": "execute_result"
    }
   ],
   "source": [
    "sw"
   ]
  },
  {
   "cell_type": "code",
   "execution_count": 32,
   "id": "0a28a911-e624-4381-b1e8-e57deb203f74",
   "metadata": {},
   "outputs": [],
   "source": [
    "d_mdf = d_mdf[\"hikayeler\"].apply(lambda x: \" \".join(x for x in x.split() if x not in sw))"
   ]
  },
  {
   "cell_type": "code",
   "execution_count": 33,
   "id": "fe28a904-c103-40d0-be61-829fb2b8504a",
   "metadata": {},
   "outputs": [
    {
     "data": {
      "text/plain": [
       "1               scandal bohemia\n",
       "2              redheaded league\n",
       "3                 case identity\n",
       "4       boscombe valley mystery\n",
       "5              five orange pips\n",
       "6               man twisted lip\n",
       "7      adventure blue carbuncle\n",
       "8       adventure speckled band\n",
       "9     adventure engineers thumb\n",
       "10     adventure noble bachelor\n",
       "11      adventure beryl coronet\n",
       "12     adventure copper beeches\n",
       "Name: hikayeler, dtype: object"
      ]
     },
     "execution_count": 33,
     "metadata": {},
     "output_type": "execute_result"
    }
   ],
   "source": [
    "d_mdf"
   ]
  },
  {
   "cell_type": "markdown",
   "id": "4791b279-b5d1-46a5-84bb-cc9b47db24df",
   "metadata": {},
   "source": [
    "## Az Geçen Kelimelerin Silinmesi"
   ]
  },
  {
   "cell_type": "code",
   "execution_count": 34,
   "id": "937220a7-61c5-4cf8-b266-d4fae41744e3",
   "metadata": {},
   "outputs": [],
   "source": [
    "d_mdf = pd.DataFrame(d_mdf, columns = [\"hikayeler\"])"
   ]
  },
  {
   "cell_type": "code",
   "execution_count": 35,
   "id": "127aa209-4360-4961-a9e1-14bf1871974a",
   "metadata": {},
   "outputs": [
    {
     "data": {
      "text/plain": [
       "adventure    6\n",
       "scandal      1\n",
       "bohemia      1\n",
       "copper       1\n",
       "coronet      1\n",
       "beryl        1\n",
       "bachelor     1\n",
       "noble        1\n",
       "thumb        1\n",
       "engineers    1\n",
       "band         1\n",
       "speckled     1\n",
       "carbuncle    1\n",
       "blue         1\n",
       "lip          1\n",
       "twisted      1\n",
       "man          1\n",
       "pips         1\n",
       "orange       1\n",
       "five         1\n",
       "mystery      1\n",
       "valley       1\n",
       "boscombe     1\n",
       "identity     1\n",
       "case         1\n",
       "league       1\n",
       "redheaded    1\n",
       "beeches      1\n",
       "Name: count, dtype: int64"
      ]
     },
     "execution_count": 35,
     "metadata": {},
     "output_type": "execute_result"
    }
   ],
   "source": [
    "pd.Series(\" \".join(d_mdf[\"hikayeler\"]).split()).value_counts()"
   ]
  },
  {
   "cell_type": "code",
   "execution_count": 36,
   "id": "15ab67be-0d0a-4ac7-a36d-57c1d98efe97",
   "metadata": {},
   "outputs": [],
   "source": [
    "sil = pd.Series(\" \".join(d_mdf[\"hikayeler\"]).split()).value_counts()[-3:]"
   ]
  },
  {
   "cell_type": "code",
   "execution_count": 37,
   "id": "d075263d-8a91-412f-bc93-5655ab9a39b7",
   "metadata": {},
   "outputs": [
    {
     "data": {
      "text/plain": [
       "league       1\n",
       "redheaded    1\n",
       "beeches      1\n",
       "Name: count, dtype: int64"
      ]
     },
     "execution_count": 37,
     "metadata": {},
     "output_type": "execute_result"
    }
   ],
   "source": [
    "sil"
   ]
  },
  {
   "cell_type": "code",
   "execution_count": 47,
   "id": "6d2c5c90-e62d-48f6-9a06-7bf1f4c77424",
   "metadata": {},
   "outputs": [
    {
     "data": {
      "text/plain": [
       "1               scandal bohemia\n",
       "2                              \n",
       "3                 case identity\n",
       "4       boscombe valley mystery\n",
       "5              five orange pips\n",
       "6               man twisted lip\n",
       "7      adventure blue carbuncle\n",
       "8       adventure speckled band\n",
       "9     adventure engineers thumb\n",
       "10     adventure noble bachelor\n",
       "11      adventure beryl coronet\n",
       "12             adventure copper\n",
       "Name: hikayeler, dtype: object"
      ]
     },
     "execution_count": 47,
     "metadata": {},
     "output_type": "execute_result"
    }
   ],
   "source": [
    "d_mdf[\"hikayeler\"].apply(lambda x: \" \".join(i for i in x.split() if i not in sil))"
   ]
  },
  {
   "cell_type": "markdown",
   "id": "7af171bd-f23f-4622-917b-fb748c816896",
   "metadata": {},
   "source": [
    "## Tokenization"
   ]
  },
  {
   "cell_type": "code",
   "execution_count": 39,
   "id": "7f68d5d7-8da9-4857-af09-f81447124747",
   "metadata": {},
   "outputs": [
    {
     "name": "stderr",
     "output_type": "stream",
     "text": [
      "[nltk_data] Downloading package punkt to\n",
      "[nltk_data]     C:\\Users\\Taha\\AppData\\Roaming\\nltk_data...\n",
      "[nltk_data]   Package punkt is already up-to-date!\n"
     ]
    },
    {
     "data": {
      "text/plain": [
       "True"
      ]
     },
     "execution_count": 39,
     "metadata": {},
     "output_type": "execute_result"
    }
   ],
   "source": [
    "nltk.download(\"punkt\")"
   ]
  },
  {
   "cell_type": "code",
   "execution_count": 40,
   "id": "8c584e42-5523-4c02-b825-dab9bde74873",
   "metadata": {},
   "outputs": [],
   "source": [
    "#!pip install textblob"
   ]
  },
  {
   "cell_type": "code",
   "execution_count": 41,
   "id": "a423d87c-909e-49ce-8aa9-8d018717a0c6",
   "metadata": {},
   "outputs": [],
   "source": [
    "import textblob"
   ]
  },
  {
   "cell_type": "code",
   "execution_count": 42,
   "id": "846c2ca6-45aa-4358-9427-a29ea43bf861",
   "metadata": {},
   "outputs": [],
   "source": [
    "from textblob import TextBlob"
   ]
  },
  {
   "cell_type": "code",
   "execution_count": 43,
   "id": "c0a22fac-1c52-4d48-b026-a0ca31e575d2",
   "metadata": {},
   "outputs": [
    {
     "data": {
      "text/plain": [
       "WordList(['scandal', 'bohemia'])"
      ]
     },
     "execution_count": 43,
     "metadata": {},
     "output_type": "execute_result"
    }
   ],
   "source": [
    "TextBlob(d_mdf[\"hikayeler\"][1]).words"
   ]
  },
  {
   "cell_type": "code",
   "execution_count": 44,
   "id": "e275e09f-90d5-4daa-a697-0f0908fc9d37",
   "metadata": {},
   "outputs": [
    {
     "data": {
      "text/plain": [
       "1                [scandal, bohemia]\n",
       "2               [redheaded, league]\n",
       "3                  [case, identity]\n",
       "4       [boscombe, valley, mystery]\n",
       "5              [five, orange, pips]\n",
       "6               [man, twisted, lip]\n",
       "7      [adventure, blue, carbuncle]\n",
       "8       [adventure, speckled, band]\n",
       "9     [adventure, engineers, thumb]\n",
       "10     [adventure, noble, bachelor]\n",
       "11      [adventure, beryl, coronet]\n",
       "12     [adventure, copper, beeches]\n",
       "Name: hikayeler, dtype: object"
      ]
     },
     "execution_count": 44,
     "metadata": {},
     "output_type": "execute_result"
    }
   ],
   "source": [
    "d_mdf[\"hikayeler\"].apply(lambda x: TextBlob(x).words)"
   ]
  },
  {
   "cell_type": "markdown",
   "id": "d3cd4151-0e5a-4887-89ee-421e62712b3f",
   "metadata": {},
   "source": [
    "## Stemming"
   ]
  },
  {
   "cell_type": "code",
   "execution_count": 45,
   "id": "11b09300-2938-49ec-b534-3d13ee1b85df",
   "metadata": {},
   "outputs": [],
   "source": [
    "from nltk.stem import PorterStemmer\n",
    "st = PorterStemmer()"
   ]
  },
  {
   "cell_type": "code",
   "execution_count": 46,
   "id": "e936e389-23ec-4a7a-b083-1c14103a6f32",
   "metadata": {},
   "outputs": [
    {
     "data": {
      "text/plain": [
       "1            scandal bohemia\n",
       "2              redhead leagu\n",
       "3                 case ident\n",
       "4     boscomb valley mysteri\n",
       "5             five orang pip\n",
       "6              man twist lip\n",
       "7     adventur blue carbuncl\n",
       "8       adventur speckl band\n",
       "9       adventur engin thumb\n",
       "10    adventur nobl bachelor\n",
       "11    adventur beryl coronet\n",
       "12     adventur copper beech\n",
       "Name: hikayeler, dtype: object"
      ]
     },
     "execution_count": 46,
     "metadata": {},
     "output_type": "execute_result"
    }
   ],
   "source": [
    "d_mdf[\"hikayeler\"].apply(lambda x: \" \".join(st.stem(i) for i in x.split()))"
   ]
  },
  {
   "cell_type": "markdown",
   "id": "4f183db9-4dc2-4a13-8b29-37c0da35da40",
   "metadata": {},
   "source": [
    "## Lemmatization"
   ]
  },
  {
   "cell_type": "code",
   "execution_count": 49,
   "id": "0542ced7-ea90-4367-a503-eab4279b2557",
   "metadata": {},
   "outputs": [
    {
     "name": "stderr",
     "output_type": "stream",
     "text": [
      "[nltk_data] Downloading package wordnet to\n",
      "[nltk_data]     C:\\Users\\Taha\\AppData\\Roaming\\nltk_data...\n"
     ]
    },
    {
     "data": {
      "text/plain": [
       "True"
      ]
     },
     "execution_count": 49,
     "metadata": {},
     "output_type": "execute_result"
    }
   ],
   "source": [
    "from textblob import Word\n",
    "nltk.download(\"wordnet\")"
   ]
  },
  {
   "cell_type": "code",
   "execution_count": 50,
   "id": "bad79b16-1143-44d7-bd68-6143cdc25e44",
   "metadata": {},
   "outputs": [
    {
     "data": {
      "text/plain": [
       "1              scandal bohemia\n",
       "2             redheaded league\n",
       "3                case identity\n",
       "4      boscombe valley mystery\n",
       "5              five orange pip\n",
       "6              man twisted lip\n",
       "7     adventure blue carbuncle\n",
       "8      adventure speckled band\n",
       "9     adventure engineer thumb\n",
       "10    adventure noble bachelor\n",
       "11     adventure beryl coronet\n",
       "12      adventure copper beech\n",
       "Name: hikayeler, dtype: object"
      ]
     },
     "execution_count": 50,
     "metadata": {},
     "output_type": "execute_result"
    }
   ],
   "source": [
    "d_mdf[\"hikayeler\"].apply(lambda x: \" \".join([Word(word).lemmatize() for word in x.split()]))"
   ]
  },
  {
   "cell_type": "code",
   "execution_count": 51,
   "id": "73695499-8210-40c4-85eb-b0f2f640223e",
   "metadata": {},
   "outputs": [
    {
     "data": {
      "text/plain": [
       "1        A Scandal in Bohemia! 01\n",
       "2         The Red-headed League,2\n",
       "3          A Case, of Identity 33\n",
       "4    The Boscombe Valley Mystery4\n",
       "5           The Five Orange Pips1\n",
       "Name: hikayeler, dtype: object"
      ]
     },
     "execution_count": 51,
     "metadata": {},
     "output_type": "execute_result"
    }
   ],
   "source": [
    "mdf[\"hikayeler\"][0:5]"
   ]
  },
  {
   "cell_type": "code",
   "execution_count": 53,
   "id": "ba54012a-a8d9-4396-b0d3-ce6866f35f99",
   "metadata": {},
   "outputs": [
    {
     "data": {
      "text/plain": [
       "1            scandal bohemia\n",
       "2           redheaded league\n",
       "3              case identity\n",
       "4    boscombe valley mystery\n",
       "5           five orange pips\n",
       "Name: hikayeler, dtype: object"
      ]
     },
     "execution_count": 53,
     "metadata": {},
     "output_type": "execute_result"
    }
   ],
   "source": [
    "d_mdf[\"hikayeler\"][0:5]"
   ]
  },
  {
   "cell_type": "code",
   "execution_count": null,
   "id": "2af8abf6-38c4-435d-b441-31a614da8836",
   "metadata": {},
   "outputs": [],
   "source": []
  }
 ],
 "metadata": {
  "kernelspec": {
   "display_name": "Python 3 (ipykernel)",
   "language": "python",
   "name": "python3"
  },
  "language_info": {
   "codemirror_mode": {
    "name": "ipython",
    "version": 3
   },
   "file_extension": ".py",
   "mimetype": "text/x-python",
   "name": "python",
   "nbconvert_exporter": "python",
   "pygments_lexer": "ipython3",
   "version": "3.11.5"
  }
 },
 "nbformat": 4,
 "nbformat_minor": 5
}
